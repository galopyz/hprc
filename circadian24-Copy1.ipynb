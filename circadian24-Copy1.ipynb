{
 "cells": [
  {
   "cell_type": "markdown",
   "metadata": {
    "colab_type": "text",
    "id": "view-in-github"
   },
   "source": [
    "<a href=\"https://colab.research.google.com/github/galopyz/hprc/blob/main/circadian21.ipynb\" target=\"_parent\"><img src=\"https://colab.research.google.com/assets/colab-badge.svg\" alt=\"Open In Colab\"/></a>"
   ]
  },
  {
   "cell_type": "markdown",
   "metadata": {
    "id": "Vc92vu0w81Yc"
   },
   "source": [
    "# 24hr predictions"
   ]
  },
  {
   "cell_type": "markdown",
   "metadata": {
    "id": "RGgLYuJVfiDw"
   },
   "source": [
    "Using meta_analysis data with bigger taining data."
   ]
  },
  {
   "cell_type": "markdown",
   "metadata": {
    "id": "BtIp4kSIjrid"
   },
   "source": [
    "1. Batch data.\n",
    "2. Data_columns - Test_data_columns\n",
    "3. For bulk data, fill missing data with 0.\n",
    "4. Add columns to indicate missing genes and fill missing gene with 0.\n",
    "  - Add data augmentation that does this on training data.\n",
    "  - For some reason, data augmentation performed worse.\n",
    "5. Use linear layer for 24hr prediction.\n",
    "  - Trying on other bulk data.\n",
    "6. Modified R2 score\n",
    "5. Gene normalization"
   ]
  },
  {
   "cell_type": "markdown",
   "metadata": {},
   "source": [
    "TODO:\n",
    "  - Normalize all the data in the same way.\n",
    "  - Before normalizign the more_data, take care of data with only zeros for the gene expression."
   ]
  },
  {
   "cell_type": "markdown",
   "metadata": {
    "id": "YWKBpTGz74UM"
   },
   "source": [
    "## Import libraries"
   ]
  },
  {
   "cell_type": "code",
   "execution_count": 1,
   "metadata": {
    "id": "0EKtXY9-AqGj"
   },
   "outputs": [],
   "source": [
    "import pandas as pd\n",
    "import numpy as np\n",
    "from pathlib import Path\n",
    "import torch\n",
    "from torch import tensor\n",
    "from torcheval.metrics import MulticlassAccuracy\n",
    "import torchvision.transforms.functional as TF,torch.nn.functional as F\n",
    "from torch.utils.data import Dataset, DataLoader\n",
    "\n",
    "from miniai.datasets import *\n",
    "from miniai.conv import *\n",
    "from miniai.learner import *\n",
    "from miniai.activations import *\n",
    "from miniai.init import *\n",
    "from miniai.sgd import *\n",
    "from miniai.augment import *\n",
    "from miniai.xtras import *"
   ]
  },
  {
   "cell_type": "code",
   "execution_count": 2,
   "metadata": {
    "colab": {
     "base_uri": "https://localhost:8080/"
    },
    "id": "v8nvWiBJCYsr",
    "outputId": "e35f0840-3c34-428f-d045-07266f95e69b"
   },
   "outputs": [],
   "source": [
    "# from google.colab import drive\n",
    "# drive.mount('/content/drive')\n",
    "# %cd /content/drive/MyDrive/'Colab Notebooks'\n",
    "# !pip -q install torcheval\n",
    "# !pip -q install datasets\n",
    "# path = Path('data/circadian')\n",
    "path = Path('data')\n",
    "bulk_path = Path.home()/'Downloads/data'"
   ]
  },
  {
   "cell_type": "code",
   "execution_count": 3,
   "metadata": {
    "id": "TCXXASxfBbGj"
   },
   "outputs": [],
   "source": [
    "from torch.nn import init\n",
    "from functools import partial\n",
    "from torch.optim import lr_scheduler\n",
    "from torch import tensor,nn,optim\n",
    "\n",
    "import fastcore.all as fc"
   ]
  },
  {
   "cell_type": "code",
   "execution_count": 4,
   "metadata": {
    "id": "KNrxILJJWrdq"
   },
   "outputs": [],
   "source": [
    "loss_func = F.mse_loss"
   ]
  },
  {
   "cell_type": "code",
   "execution_count": 70,
   "metadata": {
    "id": "Hm8dkFErbGdh"
   },
   "outputs": [],
   "source": [
    "class TimeLayer(nn.Module):\n",
    "    def __init__(self, range = 24):\n",
    "        super().__init__()\n",
    "        self.range = range\n",
    "\n",
    "    def forward(self, x):\n",
    "        # return (F.sigmoid(x) * self.range - (self.range - 24)/2) % 24\n",
    "        return (F.sigmoid(x) * self.range - (self.range - 24)/2)"
   ]
  },
  {
   "cell_type": "code",
   "execution_count": 6,
   "metadata": {
    "id": "q5kGakUToGRe"
   },
   "outputs": [],
   "source": [
    "from torcheval.metrics import R2Score\n",
    "# metric = MetricsCB(R2Score=R2Score())\n",
    "# metric = R2Score()"
   ]
  },
  {
   "cell_type": "code",
   "execution_count": 7,
   "metadata": {
    "id": "PEEmcXur9MA3"
   },
   "outputs": [],
   "source": [
    "class TimeR2Score(R2Score):\n",
    "    def update(self, input, target):\n",
    "        inp = input.clone()\n",
    "        for i, (x, y) in enumerate(zip(input, target)):\n",
    "            min_x = x\n",
    "            min_diff = torch.inf\n",
    "            for z in [x-24, x, x+24]:\n",
    "                if abs(z-y) < min_diff:\n",
    "                    min_diff = abs(z-y)\n",
    "                    min_x = z\n",
    "            inp[i] = min_x\n",
    "        super().update(inp, target)"
   ]
  },
  {
   "cell_type": "code",
   "execution_count": 8,
   "metadata": {
    "id": "iq5l1aVn_vuM"
   },
   "outputs": [],
   "source": [
    "metric = MetricsCB(R2Score=TimeR2Score())"
   ]
  },
  {
   "cell_type": "markdown",
   "metadata": {
    "id": "Ft9NMEYGl6YD"
   },
   "source": [
    "## Data"
   ]
  },
  {
   "cell_type": "markdown",
   "metadata": {},
   "source": [
    "<img src=\"data/cell_nrm.jpg\" alt=\"Cell normalization\" width=\"400\">"
   ]
  },
  {
   "cell_type": "code",
   "execution_count": 9,
   "metadata": {},
   "outputs": [],
   "source": [
    "def nrm_genes(df):\n",
    "    \"\"\"Assuming genes on cols cells on rows.\"\"\"\n",
    "    cell_divided = df.div(df.sum(axis=1), axis=0)\n",
    "    return (cell_divided - cell_divided.mean(axis=0)) / cell_divided.std(axis=0)"
   ]
  },
  {
   "cell_type": "code",
   "execution_count": 10,
   "metadata": {},
   "outputs": [
    {
     "data": {
      "text/html": [
       "<div>\n",
       "<style scoped>\n",
       "    .dataframe tbody tr th:only-of-type {\n",
       "        vertical-align: middle;\n",
       "    }\n",
       "\n",
       "    .dataframe tbody tr th {\n",
       "        vertical-align: top;\n",
       "    }\n",
       "\n",
       "    .dataframe thead th {\n",
       "        text-align: right;\n",
       "    }\n",
       "</style>\n",
       "<table border=\"1\" class=\"dataframe\">\n",
       "  <thead>\n",
       "    <tr style=\"text-align: right;\">\n",
       "      <th>Unnamed: 0</th>\n",
       "      <th>Xkr4</th>\n",
       "      <th>Rp1</th>\n",
       "      <th>Sox17</th>\n",
       "      <th>Mrpl15</th>\n",
       "      <th>Lypla1</th>\n",
       "      <th>Tcea1</th>\n",
       "      <th>Rgs20</th>\n",
       "      <th>Atp6v1h</th>\n",
       "      <th>Rb1cc1</th>\n",
       "      <th>4732440D04Rik</th>\n",
       "      <th>...</th>\n",
       "      <th>mt-Co2</th>\n",
       "      <th>mt-Atp8</th>\n",
       "      <th>mt-Atp6</th>\n",
       "      <th>mt-Co3</th>\n",
       "      <th>mt-Nd3</th>\n",
       "      <th>mt-Nd4l</th>\n",
       "      <th>mt-Nd4</th>\n",
       "      <th>mt-Nd5</th>\n",
       "      <th>mt-Nd6</th>\n",
       "      <th>mt-Cytb</th>\n",
       "    </tr>\n",
       "  </thead>\n",
       "  <tbody>\n",
       "    <tr>\n",
       "      <th>AAACAGCCAGCAATAA.8</th>\n",
       "      <td>-0.049673</td>\n",
       "      <td>-0.04268</td>\n",
       "      <td>-0.124963</td>\n",
       "      <td>-0.489307</td>\n",
       "      <td>-0.363687</td>\n",
       "      <td>-0.633744</td>\n",
       "      <td>-0.048407</td>\n",
       "      <td>-0.626202</td>\n",
       "      <td>-0.174223</td>\n",
       "      <td>-0.312544</td>\n",
       "      <td>...</td>\n",
       "      <td>-0.331006</td>\n",
       "      <td>-0.146142</td>\n",
       "      <td>-0.368729</td>\n",
       "      <td>-0.094769</td>\n",
       "      <td>-0.293294</td>\n",
       "      <td>-0.212751</td>\n",
       "      <td>-0.432418</td>\n",
       "      <td>-0.324576</td>\n",
       "      <td>-0.118702</td>\n",
       "      <td>0.000030</td>\n",
       "    </tr>\n",
       "    <tr>\n",
       "      <th>AAACGCGCAGTATGTT.8</th>\n",
       "      <td>-0.049673</td>\n",
       "      <td>-0.04268</td>\n",
       "      <td>-0.124963</td>\n",
       "      <td>-0.489307</td>\n",
       "      <td>2.078659</td>\n",
       "      <td>-0.633744</td>\n",
       "      <td>-0.048407</td>\n",
       "      <td>-0.626202</td>\n",
       "      <td>1.304845</td>\n",
       "      <td>-0.312544</td>\n",
       "      <td>...</td>\n",
       "      <td>-0.104301</td>\n",
       "      <td>-0.146142</td>\n",
       "      <td>-0.190708</td>\n",
       "      <td>-0.086019</td>\n",
       "      <td>-0.293294</td>\n",
       "      <td>-0.212751</td>\n",
       "      <td>-0.432418</td>\n",
       "      <td>-0.324576</td>\n",
       "      <td>-0.118702</td>\n",
       "      <td>-0.414213</td>\n",
       "    </tr>\n",
       "    <tr>\n",
       "      <th>AAAGCGGGTGCATCGG.8</th>\n",
       "      <td>-0.049673</td>\n",
       "      <td>-0.04268</td>\n",
       "      <td>-0.124963</td>\n",
       "      <td>-0.489307</td>\n",
       "      <td>-0.912213</td>\n",
       "      <td>-0.633744</td>\n",
       "      <td>-0.048407</td>\n",
       "      <td>0.477558</td>\n",
       "      <td>-0.168903</td>\n",
       "      <td>-0.312544</td>\n",
       "      <td>...</td>\n",
       "      <td>-0.462332</td>\n",
       "      <td>-0.146142</td>\n",
       "      <td>-0.264324</td>\n",
       "      <td>-0.092338</td>\n",
       "      <td>-0.293294</td>\n",
       "      <td>-0.212751</td>\n",
       "      <td>-0.432418</td>\n",
       "      <td>-0.324576</td>\n",
       "      <td>-0.118702</td>\n",
       "      <td>-0.414213</td>\n",
       "    </tr>\n",
       "    <tr>\n",
       "      <th>AAAGGACGTAAGGTTT.8</th>\n",
       "      <td>-0.049673</td>\n",
       "      <td>-0.04268</td>\n",
       "      <td>-0.124963</td>\n",
       "      <td>-0.489307</td>\n",
       "      <td>-0.912213</td>\n",
       "      <td>-0.633744</td>\n",
       "      <td>-0.048407</td>\n",
       "      <td>-0.626202</td>\n",
       "      <td>0.512518</td>\n",
       "      <td>-0.312544</td>\n",
       "      <td>...</td>\n",
       "      <td>0.010841</td>\n",
       "      <td>-0.146142</td>\n",
       "      <td>-0.286073</td>\n",
       "      <td>0.218951</td>\n",
       "      <td>-0.293294</td>\n",
       "      <td>-0.212751</td>\n",
       "      <td>-0.432418</td>\n",
       "      <td>1.039197</td>\n",
       "      <td>-0.118702</td>\n",
       "      <td>-0.041078</td>\n",
       "    </tr>\n",
       "    <tr>\n",
       "      <th>AAAGGAGCAACCGCCA.8</th>\n",
       "      <td>-0.049673</td>\n",
       "      <td>-0.04268</td>\n",
       "      <td>-0.124963</td>\n",
       "      <td>-0.489307</td>\n",
       "      <td>1.023501</td>\n",
       "      <td>-0.633744</td>\n",
       "      <td>-0.048407</td>\n",
       "      <td>-0.626202</td>\n",
       "      <td>0.480769</td>\n",
       "      <td>-0.312544</td>\n",
       "      <td>...</td>\n",
       "      <td>-0.462332</td>\n",
       "      <td>-0.146142</td>\n",
       "      <td>-0.107936</td>\n",
       "      <td>-0.140863</td>\n",
       "      <td>-0.293294</td>\n",
       "      <td>-0.212751</td>\n",
       "      <td>-0.432418</td>\n",
       "      <td>-0.324576</td>\n",
       "      <td>-0.118702</td>\n",
       "      <td>-0.048753</td>\n",
       "    </tr>\n",
       "    <tr>\n",
       "      <th>...</th>\n",
       "      <td>...</td>\n",
       "      <td>...</td>\n",
       "      <td>...</td>\n",
       "      <td>...</td>\n",
       "      <td>...</td>\n",
       "      <td>...</td>\n",
       "      <td>...</td>\n",
       "      <td>...</td>\n",
       "      <td>...</td>\n",
       "      <td>...</td>\n",
       "      <td>...</td>\n",
       "      <td>...</td>\n",
       "      <td>...</td>\n",
       "      <td>...</td>\n",
       "      <td>...</td>\n",
       "      <td>...</td>\n",
       "      <td>...</td>\n",
       "      <td>...</td>\n",
       "      <td>...</td>\n",
       "      <td>...</td>\n",
       "      <td>...</td>\n",
       "    </tr>\n",
       "    <tr>\n",
       "      <th>GTCCAAGTCTACTAAG.2</th>\n",
       "      <td>-0.049673</td>\n",
       "      <td>-0.04268</td>\n",
       "      <td>-0.124963</td>\n",
       "      <td>-0.489307</td>\n",
       "      <td>-0.912213</td>\n",
       "      <td>-0.633744</td>\n",
       "      <td>-0.048407</td>\n",
       "      <td>-0.626202</td>\n",
       "      <td>-1.031017</td>\n",
       "      <td>-0.312544</td>\n",
       "      <td>...</td>\n",
       "      <td>-0.076857</td>\n",
       "      <td>-0.146142</td>\n",
       "      <td>0.133536</td>\n",
       "      <td>-0.486173</td>\n",
       "      <td>-0.293294</td>\n",
       "      <td>-0.212751</td>\n",
       "      <td>0.315597</td>\n",
       "      <td>-0.324576</td>\n",
       "      <td>-0.118702</td>\n",
       "      <td>0.193742</td>\n",
       "    </tr>\n",
       "    <tr>\n",
       "      <th>TACCGTTGTTACGCAA.2</th>\n",
       "      <td>-0.049673</td>\n",
       "      <td>-0.04268</td>\n",
       "      <td>-0.124963</td>\n",
       "      <td>-0.489307</td>\n",
       "      <td>0.426962</td>\n",
       "      <td>-0.633744</td>\n",
       "      <td>-0.048407</td>\n",
       "      <td>-0.626202</td>\n",
       "      <td>-1.031017</td>\n",
       "      <td>3.542551</td>\n",
       "      <td>...</td>\n",
       "      <td>0.499527</td>\n",
       "      <td>-0.146142</td>\n",
       "      <td>-0.220086</td>\n",
       "      <td>0.230510</td>\n",
       "      <td>-0.293294</td>\n",
       "      <td>3.425442</td>\n",
       "      <td>0.189745</td>\n",
       "      <td>-0.324576</td>\n",
       "      <td>-0.118702</td>\n",
       "      <td>0.091455</td>\n",
       "    </tr>\n",
       "    <tr>\n",
       "      <th>TCCATCATCAGGTTTA.2</th>\n",
       "      <td>-0.049673</td>\n",
       "      <td>-0.04268</td>\n",
       "      <td>-0.124963</td>\n",
       "      <td>-0.489307</td>\n",
       "      <td>0.745681</td>\n",
       "      <td>1.589905</td>\n",
       "      <td>-0.048407</td>\n",
       "      <td>-0.626202</td>\n",
       "      <td>-1.031017</td>\n",
       "      <td>-0.312544</td>\n",
       "      <td>...</td>\n",
       "      <td>-0.065406</td>\n",
       "      <td>-0.146142</td>\n",
       "      <td>-0.160166</td>\n",
       "      <td>0.105327</td>\n",
       "      <td>-0.293294</td>\n",
       "      <td>-0.212751</td>\n",
       "      <td>-0.432418</td>\n",
       "      <td>-0.324576</td>\n",
       "      <td>-0.118702</td>\n",
       "      <td>0.837817</td>\n",
       "    </tr>\n",
       "    <tr>\n",
       "      <th>TCGTTAGCAGTAGGAT.2</th>\n",
       "      <td>-0.049673</td>\n",
       "      <td>-0.04268</td>\n",
       "      <td>-0.124963</td>\n",
       "      <td>-0.489307</td>\n",
       "      <td>-0.912213</td>\n",
       "      <td>-0.633744</td>\n",
       "      <td>-0.048407</td>\n",
       "      <td>-0.626202</td>\n",
       "      <td>-1.031017</td>\n",
       "      <td>-0.312544</td>\n",
       "      <td>...</td>\n",
       "      <td>2.106065</td>\n",
       "      <td>-0.146142</td>\n",
       "      <td>-0.471852</td>\n",
       "      <td>0.279314</td>\n",
       "      <td>-0.293294</td>\n",
       "      <td>-0.212751</td>\n",
       "      <td>0.564378</td>\n",
       "      <td>-0.324576</td>\n",
       "      <td>-0.118702</td>\n",
       "      <td>-0.414213</td>\n",
       "    </tr>\n",
       "    <tr>\n",
       "      <th>TGAACAGAGTGATTCA.2</th>\n",
       "      <td>-0.049673</td>\n",
       "      <td>-0.04268</td>\n",
       "      <td>-0.124963</td>\n",
       "      <td>-0.489307</td>\n",
       "      <td>-0.912213</td>\n",
       "      <td>2.940639</td>\n",
       "      <td>-0.048407</td>\n",
       "      <td>-0.626202</td>\n",
       "      <td>1.050312</td>\n",
       "      <td>-0.312544</td>\n",
       "      <td>...</td>\n",
       "      <td>-0.462332</td>\n",
       "      <td>-0.146142</td>\n",
       "      <td>0.530181</td>\n",
       "      <td>-0.010772</td>\n",
       "      <td>-0.293294</td>\n",
       "      <td>-0.212751</td>\n",
       "      <td>0.805690</td>\n",
       "      <td>-0.324576</td>\n",
       "      <td>-0.118702</td>\n",
       "      <td>2.604632</td>\n",
       "    </tr>\n",
       "  </tbody>\n",
       "</table>\n",
       "<p>26068 rows × 16368 columns</p>\n",
       "</div>"
      ],
      "text/plain": [
       "Unnamed: 0              Xkr4      Rp1     Sox17    Mrpl15    Lypla1     Tcea1  \\\n",
       "AAACAGCCAGCAATAA.8 -0.049673 -0.04268 -0.124963 -0.489307 -0.363687 -0.633744   \n",
       "AAACGCGCAGTATGTT.8 -0.049673 -0.04268 -0.124963 -0.489307  2.078659 -0.633744   \n",
       "AAAGCGGGTGCATCGG.8 -0.049673 -0.04268 -0.124963 -0.489307 -0.912213 -0.633744   \n",
       "AAAGGACGTAAGGTTT.8 -0.049673 -0.04268 -0.124963 -0.489307 -0.912213 -0.633744   \n",
       "AAAGGAGCAACCGCCA.8 -0.049673 -0.04268 -0.124963 -0.489307  1.023501 -0.633744   \n",
       "...                      ...      ...       ...       ...       ...       ...   \n",
       "GTCCAAGTCTACTAAG.2 -0.049673 -0.04268 -0.124963 -0.489307 -0.912213 -0.633744   \n",
       "TACCGTTGTTACGCAA.2 -0.049673 -0.04268 -0.124963 -0.489307  0.426962 -0.633744   \n",
       "TCCATCATCAGGTTTA.2 -0.049673 -0.04268 -0.124963 -0.489307  0.745681  1.589905   \n",
       "TCGTTAGCAGTAGGAT.2 -0.049673 -0.04268 -0.124963 -0.489307 -0.912213 -0.633744   \n",
       "TGAACAGAGTGATTCA.2 -0.049673 -0.04268 -0.124963 -0.489307 -0.912213  2.940639   \n",
       "\n",
       "Unnamed: 0             Rgs20   Atp6v1h    Rb1cc1  4732440D04Rik  ...  \\\n",
       "AAACAGCCAGCAATAA.8 -0.048407 -0.626202 -0.174223      -0.312544  ...   \n",
       "AAACGCGCAGTATGTT.8 -0.048407 -0.626202  1.304845      -0.312544  ...   \n",
       "AAAGCGGGTGCATCGG.8 -0.048407  0.477558 -0.168903      -0.312544  ...   \n",
       "AAAGGACGTAAGGTTT.8 -0.048407 -0.626202  0.512518      -0.312544  ...   \n",
       "AAAGGAGCAACCGCCA.8 -0.048407 -0.626202  0.480769      -0.312544  ...   \n",
       "...                      ...       ...       ...            ...  ...   \n",
       "GTCCAAGTCTACTAAG.2 -0.048407 -0.626202 -1.031017      -0.312544  ...   \n",
       "TACCGTTGTTACGCAA.2 -0.048407 -0.626202 -1.031017       3.542551  ...   \n",
       "TCCATCATCAGGTTTA.2 -0.048407 -0.626202 -1.031017      -0.312544  ...   \n",
       "TCGTTAGCAGTAGGAT.2 -0.048407 -0.626202 -1.031017      -0.312544  ...   \n",
       "TGAACAGAGTGATTCA.2 -0.048407 -0.626202  1.050312      -0.312544  ...   \n",
       "\n",
       "Unnamed: 0            mt-Co2   mt-Atp8   mt-Atp6    mt-Co3    mt-Nd3  \\\n",
       "AAACAGCCAGCAATAA.8 -0.331006 -0.146142 -0.368729 -0.094769 -0.293294   \n",
       "AAACGCGCAGTATGTT.8 -0.104301 -0.146142 -0.190708 -0.086019 -0.293294   \n",
       "AAAGCGGGTGCATCGG.8 -0.462332 -0.146142 -0.264324 -0.092338 -0.293294   \n",
       "AAAGGACGTAAGGTTT.8  0.010841 -0.146142 -0.286073  0.218951 -0.293294   \n",
       "AAAGGAGCAACCGCCA.8 -0.462332 -0.146142 -0.107936 -0.140863 -0.293294   \n",
       "...                      ...       ...       ...       ...       ...   \n",
       "GTCCAAGTCTACTAAG.2 -0.076857 -0.146142  0.133536 -0.486173 -0.293294   \n",
       "TACCGTTGTTACGCAA.2  0.499527 -0.146142 -0.220086  0.230510 -0.293294   \n",
       "TCCATCATCAGGTTTA.2 -0.065406 -0.146142 -0.160166  0.105327 -0.293294   \n",
       "TCGTTAGCAGTAGGAT.2  2.106065 -0.146142 -0.471852  0.279314 -0.293294   \n",
       "TGAACAGAGTGATTCA.2 -0.462332 -0.146142  0.530181 -0.010772 -0.293294   \n",
       "\n",
       "Unnamed: 0           mt-Nd4l    mt-Nd4    mt-Nd5    mt-Nd6   mt-Cytb  \n",
       "AAACAGCCAGCAATAA.8 -0.212751 -0.432418 -0.324576 -0.118702  0.000030  \n",
       "AAACGCGCAGTATGTT.8 -0.212751 -0.432418 -0.324576 -0.118702 -0.414213  \n",
       "AAAGCGGGTGCATCGG.8 -0.212751 -0.432418 -0.324576 -0.118702 -0.414213  \n",
       "AAAGGACGTAAGGTTT.8 -0.212751 -0.432418  1.039197 -0.118702 -0.041078  \n",
       "AAAGGAGCAACCGCCA.8 -0.212751 -0.432418 -0.324576 -0.118702 -0.048753  \n",
       "...                      ...       ...       ...       ...       ...  \n",
       "GTCCAAGTCTACTAAG.2 -0.212751  0.315597 -0.324576 -0.118702  0.193742  \n",
       "TACCGTTGTTACGCAA.2  3.425442  0.189745 -0.324576 -0.118702  0.091455  \n",
       "TCCATCATCAGGTTTA.2 -0.212751 -0.432418 -0.324576 -0.118702  0.837817  \n",
       "TCGTTAGCAGTAGGAT.2 -0.212751  0.564378 -0.324576 -0.118702 -0.414213  \n",
       "TGAACAGAGTGATTCA.2 -0.212751  0.805690 -0.324576 -0.118702  2.604632  \n",
       "\n",
       "[26068 rows x 16368 columns]"
      ]
     },
     "execution_count": 10,
     "metadata": {},
     "output_type": "execute_result"
    }
   ],
   "source": [
    "bulk = pd.read_csv(path/'sc_RNA_ct.csv', low_memory=False)\n",
    "bulk = bulk.set_index('Unnamed: 0').T\n",
    "bulk = nrm_genes(bulk)\n",
    "bulk"
   ]
  },
  {
   "cell_type": "code",
   "execution_count": 11,
   "metadata": {},
   "outputs": [
    {
     "data": {
      "text/plain": [
       "(Unnamed: 0\n",
       " Xkr4      -9.370579e-16\n",
       " Rp1        1.494557e-15\n",
       " Sox17      5.149340e-15\n",
       " Mrpl15     1.464738e-15\n",
       " Lypla1    -6.293459e-15\n",
       "                ...     \n",
       " mt-Nd4l   -1.640594e-14\n",
       " mt-Nd4     3.022342e-14\n",
       " mt-Nd5     6.536581e-15\n",
       " mt-Nd6     1.068012e-15\n",
       " mt-Cytb   -3.061406e-14\n",
       " Length: 16368, dtype: float64,\n",
       " Unnamed: 0\n",
       " Xkr4       1.0\n",
       " Rp1        1.0\n",
       " Sox17      1.0\n",
       " Mrpl15     1.0\n",
       " Lypla1     1.0\n",
       "           ... \n",
       " mt-Nd4l    1.0\n",
       " mt-Nd4     1.0\n",
       " mt-Nd5     1.0\n",
       " mt-Nd6     1.0\n",
       " mt-Cytb    1.0\n",
       " Length: 16368, dtype: float64)"
      ]
     },
     "execution_count": 11,
     "metadata": {},
     "output_type": "execute_result"
    }
   ],
   "source": [
    "bulk.mean(axis=0), bulk.std(axis=0)"
   ]
  },
  {
   "cell_type": "code",
   "execution_count": 12,
   "metadata": {},
   "outputs": [
    {
     "data": {
      "text/html": [
       "<div>\n",
       "<style scoped>\n",
       "    .dataframe tbody tr th:only-of-type {\n",
       "        vertical-align: middle;\n",
       "    }\n",
       "\n",
       "    .dataframe tbody tr th {\n",
       "        vertical-align: top;\n",
       "    }\n",
       "\n",
       "    .dataframe thead th {\n",
       "        text-align: right;\n",
       "    }\n",
       "</style>\n",
       "<table border=\"1\" class=\"dataframe\">\n",
       "  <thead>\n",
       "    <tr style=\"text-align: right;\">\n",
       "      <th></th>\n",
       "      <th>ZT</th>\n",
       "    </tr>\n",
       "    <tr>\n",
       "      <th>Unnamed: 0</th>\n",
       "      <th></th>\n",
       "    </tr>\n",
       "  </thead>\n",
       "  <tbody>\n",
       "    <tr>\n",
       "      <th>AAACAGCCAGCAATAA-8</th>\n",
       "      <td>ZT18</td>\n",
       "    </tr>\n",
       "    <tr>\n",
       "      <th>AAACGCGCAGTATGTT-8</th>\n",
       "      <td>ZT18</td>\n",
       "    </tr>\n",
       "    <tr>\n",
       "      <th>AAAGCGGGTGCATCGG-8</th>\n",
       "      <td>ZT18</td>\n",
       "    </tr>\n",
       "    <tr>\n",
       "      <th>AAAGGACGTAAGGTTT-8</th>\n",
       "      <td>ZT18</td>\n",
       "    </tr>\n",
       "    <tr>\n",
       "      <th>AAAGGAGCAACCGCCA-8</th>\n",
       "      <td>ZT18</td>\n",
       "    </tr>\n",
       "    <tr>\n",
       "      <th>...</th>\n",
       "      <td>...</td>\n",
       "    </tr>\n",
       "    <tr>\n",
       "      <th>GTCCAAGTCTACTAAG-2</th>\n",
       "      <td>ZT06</td>\n",
       "    </tr>\n",
       "    <tr>\n",
       "      <th>TACCGTTGTTACGCAA-2</th>\n",
       "      <td>ZT06</td>\n",
       "    </tr>\n",
       "    <tr>\n",
       "      <th>TCCATCATCAGGTTTA-2</th>\n",
       "      <td>ZT06</td>\n",
       "    </tr>\n",
       "    <tr>\n",
       "      <th>TCGTTAGCAGTAGGAT-2</th>\n",
       "      <td>ZT06</td>\n",
       "    </tr>\n",
       "    <tr>\n",
       "      <th>TGAACAGAGTGATTCA-2</th>\n",
       "      <td>ZT06</td>\n",
       "    </tr>\n",
       "  </tbody>\n",
       "</table>\n",
       "<p>26068 rows × 1 columns</p>\n",
       "</div>"
      ],
      "text/plain": [
       "                      ZT\n",
       "Unnamed: 0              \n",
       "AAACAGCCAGCAATAA-8  ZT18\n",
       "AAACGCGCAGTATGTT-8  ZT18\n",
       "AAAGCGGGTGCATCGG-8  ZT18\n",
       "AAAGGACGTAAGGTTT-8  ZT18\n",
       "AAAGGAGCAACCGCCA-8  ZT18\n",
       "...                  ...\n",
       "GTCCAAGTCTACTAAG-2  ZT06\n",
       "TACCGTTGTTACGCAA-2  ZT06\n",
       "TCCATCATCAGGTTTA-2  ZT06\n",
       "TCGTTAGCAGTAGGAT-2  ZT06\n",
       "TGAACAGAGTGATTCA-2  ZT06\n",
       "\n",
       "[26068 rows x 1 columns]"
      ]
     },
     "execution_count": 12,
     "metadata": {},
     "output_type": "execute_result"
    }
   ],
   "source": [
    "bulk_tz = pd.read_csv(path/'sc_RNA_ZT.csv', low_memory=False).set_index('Unnamed: 0')\n",
    "bulk_tz"
   ]
  },
  {
   "cell_type": "code",
   "execution_count": 13,
   "metadata": {},
   "outputs": [
    {
     "data": {
      "text/html": [
       "<div>\n",
       "<style scoped>\n",
       "    .dataframe tbody tr th:only-of-type {\n",
       "        vertical-align: middle;\n",
       "    }\n",
       "\n",
       "    .dataframe tbody tr th {\n",
       "        vertical-align: top;\n",
       "    }\n",
       "\n",
       "    .dataframe thead th {\n",
       "        text-align: right;\n",
       "    }\n",
       "</style>\n",
       "<table border=\"1\" class=\"dataframe\">\n",
       "  <thead>\n",
       "    <tr style=\"text-align: right;\">\n",
       "      <th>Unnamed: 0</th>\n",
       "      <th>Xkr4</th>\n",
       "      <th>Rp1</th>\n",
       "      <th>Sox17</th>\n",
       "      <th>Mrpl15</th>\n",
       "      <th>Lypla1</th>\n",
       "      <th>Tcea1</th>\n",
       "      <th>Rgs20</th>\n",
       "      <th>Atp6v1h</th>\n",
       "      <th>Rb1cc1</th>\n",
       "      <th>4732440D04Rik</th>\n",
       "      <th>...</th>\n",
       "      <th>mt-Atp8</th>\n",
       "      <th>mt-Atp6</th>\n",
       "      <th>mt-Co3</th>\n",
       "      <th>mt-Nd3</th>\n",
       "      <th>mt-Nd4l</th>\n",
       "      <th>mt-Nd4</th>\n",
       "      <th>mt-Nd5</th>\n",
       "      <th>mt-Nd6</th>\n",
       "      <th>mt-Cytb</th>\n",
       "      <th>code</th>\n",
       "    </tr>\n",
       "  </thead>\n",
       "  <tbody>\n",
       "    <tr>\n",
       "      <th>AAACAGCCAGCAATAA-8</th>\n",
       "      <td>-0.049673</td>\n",
       "      <td>-0.04268</td>\n",
       "      <td>-0.124963</td>\n",
       "      <td>-0.489307</td>\n",
       "      <td>-0.363687</td>\n",
       "      <td>-0.633744</td>\n",
       "      <td>-0.048407</td>\n",
       "      <td>-0.626202</td>\n",
       "      <td>-0.174223</td>\n",
       "      <td>-0.312544</td>\n",
       "      <td>...</td>\n",
       "      <td>-0.146142</td>\n",
       "      <td>-0.368729</td>\n",
       "      <td>-0.094769</td>\n",
       "      <td>-0.293294</td>\n",
       "      <td>-0.212751</td>\n",
       "      <td>-0.432418</td>\n",
       "      <td>-0.324576</td>\n",
       "      <td>-0.118702</td>\n",
       "      <td>0.000030</td>\n",
       "      <td>18.0</td>\n",
       "    </tr>\n",
       "    <tr>\n",
       "      <th>AAACGCGCAGTATGTT-8</th>\n",
       "      <td>-0.049673</td>\n",
       "      <td>-0.04268</td>\n",
       "      <td>-0.124963</td>\n",
       "      <td>-0.489307</td>\n",
       "      <td>2.078659</td>\n",
       "      <td>-0.633744</td>\n",
       "      <td>-0.048407</td>\n",
       "      <td>-0.626202</td>\n",
       "      <td>1.304845</td>\n",
       "      <td>-0.312544</td>\n",
       "      <td>...</td>\n",
       "      <td>-0.146142</td>\n",
       "      <td>-0.190708</td>\n",
       "      <td>-0.086019</td>\n",
       "      <td>-0.293294</td>\n",
       "      <td>-0.212751</td>\n",
       "      <td>-0.432418</td>\n",
       "      <td>-0.324576</td>\n",
       "      <td>-0.118702</td>\n",
       "      <td>-0.414213</td>\n",
       "      <td>18.0</td>\n",
       "    </tr>\n",
       "    <tr>\n",
       "      <th>AAAGCGGGTGCATCGG-8</th>\n",
       "      <td>-0.049673</td>\n",
       "      <td>-0.04268</td>\n",
       "      <td>-0.124963</td>\n",
       "      <td>-0.489307</td>\n",
       "      <td>-0.912213</td>\n",
       "      <td>-0.633744</td>\n",
       "      <td>-0.048407</td>\n",
       "      <td>0.477558</td>\n",
       "      <td>-0.168903</td>\n",
       "      <td>-0.312544</td>\n",
       "      <td>...</td>\n",
       "      <td>-0.146142</td>\n",
       "      <td>-0.264324</td>\n",
       "      <td>-0.092338</td>\n",
       "      <td>-0.293294</td>\n",
       "      <td>-0.212751</td>\n",
       "      <td>-0.432418</td>\n",
       "      <td>-0.324576</td>\n",
       "      <td>-0.118702</td>\n",
       "      <td>-0.414213</td>\n",
       "      <td>18.0</td>\n",
       "    </tr>\n",
       "    <tr>\n",
       "      <th>AAAGGACGTAAGGTTT-8</th>\n",
       "      <td>-0.049673</td>\n",
       "      <td>-0.04268</td>\n",
       "      <td>-0.124963</td>\n",
       "      <td>-0.489307</td>\n",
       "      <td>-0.912213</td>\n",
       "      <td>-0.633744</td>\n",
       "      <td>-0.048407</td>\n",
       "      <td>-0.626202</td>\n",
       "      <td>0.512518</td>\n",
       "      <td>-0.312544</td>\n",
       "      <td>...</td>\n",
       "      <td>-0.146142</td>\n",
       "      <td>-0.286073</td>\n",
       "      <td>0.218951</td>\n",
       "      <td>-0.293294</td>\n",
       "      <td>-0.212751</td>\n",
       "      <td>-0.432418</td>\n",
       "      <td>1.039197</td>\n",
       "      <td>-0.118702</td>\n",
       "      <td>-0.041078</td>\n",
       "      <td>18.0</td>\n",
       "    </tr>\n",
       "    <tr>\n",
       "      <th>AAAGGAGCAACCGCCA-8</th>\n",
       "      <td>-0.049673</td>\n",
       "      <td>-0.04268</td>\n",
       "      <td>-0.124963</td>\n",
       "      <td>-0.489307</td>\n",
       "      <td>1.023501</td>\n",
       "      <td>-0.633744</td>\n",
       "      <td>-0.048407</td>\n",
       "      <td>-0.626202</td>\n",
       "      <td>0.480769</td>\n",
       "      <td>-0.312544</td>\n",
       "      <td>...</td>\n",
       "      <td>-0.146142</td>\n",
       "      <td>-0.107936</td>\n",
       "      <td>-0.140863</td>\n",
       "      <td>-0.293294</td>\n",
       "      <td>-0.212751</td>\n",
       "      <td>-0.432418</td>\n",
       "      <td>-0.324576</td>\n",
       "      <td>-0.118702</td>\n",
       "      <td>-0.048753</td>\n",
       "      <td>18.0</td>\n",
       "    </tr>\n",
       "    <tr>\n",
       "      <th>...</th>\n",
       "      <td>...</td>\n",
       "      <td>...</td>\n",
       "      <td>...</td>\n",
       "      <td>...</td>\n",
       "      <td>...</td>\n",
       "      <td>...</td>\n",
       "      <td>...</td>\n",
       "      <td>...</td>\n",
       "      <td>...</td>\n",
       "      <td>...</td>\n",
       "      <td>...</td>\n",
       "      <td>...</td>\n",
       "      <td>...</td>\n",
       "      <td>...</td>\n",
       "      <td>...</td>\n",
       "      <td>...</td>\n",
       "      <td>...</td>\n",
       "      <td>...</td>\n",
       "      <td>...</td>\n",
       "      <td>...</td>\n",
       "      <td>...</td>\n",
       "    </tr>\n",
       "    <tr>\n",
       "      <th>GTCCAAGTCTACTAAG-2</th>\n",
       "      <td>-0.049673</td>\n",
       "      <td>-0.04268</td>\n",
       "      <td>-0.124963</td>\n",
       "      <td>-0.489307</td>\n",
       "      <td>-0.912213</td>\n",
       "      <td>-0.633744</td>\n",
       "      <td>-0.048407</td>\n",
       "      <td>-0.626202</td>\n",
       "      <td>-1.031017</td>\n",
       "      <td>-0.312544</td>\n",
       "      <td>...</td>\n",
       "      <td>-0.146142</td>\n",
       "      <td>0.133536</td>\n",
       "      <td>-0.486173</td>\n",
       "      <td>-0.293294</td>\n",
       "      <td>-0.212751</td>\n",
       "      <td>0.315597</td>\n",
       "      <td>-0.324576</td>\n",
       "      <td>-0.118702</td>\n",
       "      <td>0.193742</td>\n",
       "      <td>6.0</td>\n",
       "    </tr>\n",
       "    <tr>\n",
       "      <th>TACCGTTGTTACGCAA-2</th>\n",
       "      <td>-0.049673</td>\n",
       "      <td>-0.04268</td>\n",
       "      <td>-0.124963</td>\n",
       "      <td>-0.489307</td>\n",
       "      <td>0.426962</td>\n",
       "      <td>-0.633744</td>\n",
       "      <td>-0.048407</td>\n",
       "      <td>-0.626202</td>\n",
       "      <td>-1.031017</td>\n",
       "      <td>3.542551</td>\n",
       "      <td>...</td>\n",
       "      <td>-0.146142</td>\n",
       "      <td>-0.220086</td>\n",
       "      <td>0.230510</td>\n",
       "      <td>-0.293294</td>\n",
       "      <td>3.425442</td>\n",
       "      <td>0.189745</td>\n",
       "      <td>-0.324576</td>\n",
       "      <td>-0.118702</td>\n",
       "      <td>0.091455</td>\n",
       "      <td>6.0</td>\n",
       "    </tr>\n",
       "    <tr>\n",
       "      <th>TCCATCATCAGGTTTA-2</th>\n",
       "      <td>-0.049673</td>\n",
       "      <td>-0.04268</td>\n",
       "      <td>-0.124963</td>\n",
       "      <td>-0.489307</td>\n",
       "      <td>0.745681</td>\n",
       "      <td>1.589905</td>\n",
       "      <td>-0.048407</td>\n",
       "      <td>-0.626202</td>\n",
       "      <td>-1.031017</td>\n",
       "      <td>-0.312544</td>\n",
       "      <td>...</td>\n",
       "      <td>-0.146142</td>\n",
       "      <td>-0.160166</td>\n",
       "      <td>0.105327</td>\n",
       "      <td>-0.293294</td>\n",
       "      <td>-0.212751</td>\n",
       "      <td>-0.432418</td>\n",
       "      <td>-0.324576</td>\n",
       "      <td>-0.118702</td>\n",
       "      <td>0.837817</td>\n",
       "      <td>6.0</td>\n",
       "    </tr>\n",
       "    <tr>\n",
       "      <th>TCGTTAGCAGTAGGAT-2</th>\n",
       "      <td>-0.049673</td>\n",
       "      <td>-0.04268</td>\n",
       "      <td>-0.124963</td>\n",
       "      <td>-0.489307</td>\n",
       "      <td>-0.912213</td>\n",
       "      <td>-0.633744</td>\n",
       "      <td>-0.048407</td>\n",
       "      <td>-0.626202</td>\n",
       "      <td>-1.031017</td>\n",
       "      <td>-0.312544</td>\n",
       "      <td>...</td>\n",
       "      <td>-0.146142</td>\n",
       "      <td>-0.471852</td>\n",
       "      <td>0.279314</td>\n",
       "      <td>-0.293294</td>\n",
       "      <td>-0.212751</td>\n",
       "      <td>0.564378</td>\n",
       "      <td>-0.324576</td>\n",
       "      <td>-0.118702</td>\n",
       "      <td>-0.414213</td>\n",
       "      <td>6.0</td>\n",
       "    </tr>\n",
       "    <tr>\n",
       "      <th>TGAACAGAGTGATTCA-2</th>\n",
       "      <td>-0.049673</td>\n",
       "      <td>-0.04268</td>\n",
       "      <td>-0.124963</td>\n",
       "      <td>-0.489307</td>\n",
       "      <td>-0.912213</td>\n",
       "      <td>2.940639</td>\n",
       "      <td>-0.048407</td>\n",
       "      <td>-0.626202</td>\n",
       "      <td>1.050312</td>\n",
       "      <td>-0.312544</td>\n",
       "      <td>...</td>\n",
       "      <td>-0.146142</td>\n",
       "      <td>0.530181</td>\n",
       "      <td>-0.010772</td>\n",
       "      <td>-0.293294</td>\n",
       "      <td>-0.212751</td>\n",
       "      <td>0.805690</td>\n",
       "      <td>-0.324576</td>\n",
       "      <td>-0.118702</td>\n",
       "      <td>2.604632</td>\n",
       "      <td>6.0</td>\n",
       "    </tr>\n",
       "  </tbody>\n",
       "</table>\n",
       "<p>26068 rows × 16369 columns</p>\n",
       "</div>"
      ],
      "text/plain": [
       "Unnamed: 0              Xkr4      Rp1     Sox17    Mrpl15    Lypla1     Tcea1  \\\n",
       "AAACAGCCAGCAATAA-8 -0.049673 -0.04268 -0.124963 -0.489307 -0.363687 -0.633744   \n",
       "AAACGCGCAGTATGTT-8 -0.049673 -0.04268 -0.124963 -0.489307  2.078659 -0.633744   \n",
       "AAAGCGGGTGCATCGG-8 -0.049673 -0.04268 -0.124963 -0.489307 -0.912213 -0.633744   \n",
       "AAAGGACGTAAGGTTT-8 -0.049673 -0.04268 -0.124963 -0.489307 -0.912213 -0.633744   \n",
       "AAAGGAGCAACCGCCA-8 -0.049673 -0.04268 -0.124963 -0.489307  1.023501 -0.633744   \n",
       "...                      ...      ...       ...       ...       ...       ...   \n",
       "GTCCAAGTCTACTAAG-2 -0.049673 -0.04268 -0.124963 -0.489307 -0.912213 -0.633744   \n",
       "TACCGTTGTTACGCAA-2 -0.049673 -0.04268 -0.124963 -0.489307  0.426962 -0.633744   \n",
       "TCCATCATCAGGTTTA-2 -0.049673 -0.04268 -0.124963 -0.489307  0.745681  1.589905   \n",
       "TCGTTAGCAGTAGGAT-2 -0.049673 -0.04268 -0.124963 -0.489307 -0.912213 -0.633744   \n",
       "TGAACAGAGTGATTCA-2 -0.049673 -0.04268 -0.124963 -0.489307 -0.912213  2.940639   \n",
       "\n",
       "Unnamed: 0             Rgs20   Atp6v1h    Rb1cc1  4732440D04Rik  ...  \\\n",
       "AAACAGCCAGCAATAA-8 -0.048407 -0.626202 -0.174223      -0.312544  ...   \n",
       "AAACGCGCAGTATGTT-8 -0.048407 -0.626202  1.304845      -0.312544  ...   \n",
       "AAAGCGGGTGCATCGG-8 -0.048407  0.477558 -0.168903      -0.312544  ...   \n",
       "AAAGGACGTAAGGTTT-8 -0.048407 -0.626202  0.512518      -0.312544  ...   \n",
       "AAAGGAGCAACCGCCA-8 -0.048407 -0.626202  0.480769      -0.312544  ...   \n",
       "...                      ...       ...       ...            ...  ...   \n",
       "GTCCAAGTCTACTAAG-2 -0.048407 -0.626202 -1.031017      -0.312544  ...   \n",
       "TACCGTTGTTACGCAA-2 -0.048407 -0.626202 -1.031017       3.542551  ...   \n",
       "TCCATCATCAGGTTTA-2 -0.048407 -0.626202 -1.031017      -0.312544  ...   \n",
       "TCGTTAGCAGTAGGAT-2 -0.048407 -0.626202 -1.031017      -0.312544  ...   \n",
       "TGAACAGAGTGATTCA-2 -0.048407 -0.626202  1.050312      -0.312544  ...   \n",
       "\n",
       "Unnamed: 0           mt-Atp8   mt-Atp6    mt-Co3    mt-Nd3   mt-Nd4l  \\\n",
       "AAACAGCCAGCAATAA-8 -0.146142 -0.368729 -0.094769 -0.293294 -0.212751   \n",
       "AAACGCGCAGTATGTT-8 -0.146142 -0.190708 -0.086019 -0.293294 -0.212751   \n",
       "AAAGCGGGTGCATCGG-8 -0.146142 -0.264324 -0.092338 -0.293294 -0.212751   \n",
       "AAAGGACGTAAGGTTT-8 -0.146142 -0.286073  0.218951 -0.293294 -0.212751   \n",
       "AAAGGAGCAACCGCCA-8 -0.146142 -0.107936 -0.140863 -0.293294 -0.212751   \n",
       "...                      ...       ...       ...       ...       ...   \n",
       "GTCCAAGTCTACTAAG-2 -0.146142  0.133536 -0.486173 -0.293294 -0.212751   \n",
       "TACCGTTGTTACGCAA-2 -0.146142 -0.220086  0.230510 -0.293294  3.425442   \n",
       "TCCATCATCAGGTTTA-2 -0.146142 -0.160166  0.105327 -0.293294 -0.212751   \n",
       "TCGTTAGCAGTAGGAT-2 -0.146142 -0.471852  0.279314 -0.293294 -0.212751   \n",
       "TGAACAGAGTGATTCA-2 -0.146142  0.530181 -0.010772 -0.293294 -0.212751   \n",
       "\n",
       "Unnamed: 0            mt-Nd4    mt-Nd5    mt-Nd6   mt-Cytb  code  \n",
       "AAACAGCCAGCAATAA-8 -0.432418 -0.324576 -0.118702  0.000030  18.0  \n",
       "AAACGCGCAGTATGTT-8 -0.432418 -0.324576 -0.118702 -0.414213  18.0  \n",
       "AAAGCGGGTGCATCGG-8 -0.432418 -0.324576 -0.118702 -0.414213  18.0  \n",
       "AAAGGACGTAAGGTTT-8 -0.432418  1.039197 -0.118702 -0.041078  18.0  \n",
       "AAAGGAGCAACCGCCA-8 -0.432418 -0.324576 -0.118702 -0.048753  18.0  \n",
       "...                      ...       ...       ...       ...   ...  \n",
       "GTCCAAGTCTACTAAG-2  0.315597 -0.324576 -0.118702  0.193742   6.0  \n",
       "TACCGTTGTTACGCAA-2  0.189745 -0.324576 -0.118702  0.091455   6.0  \n",
       "TCCATCATCAGGTTTA-2 -0.432418 -0.324576 -0.118702  0.837817   6.0  \n",
       "TCGTTAGCAGTAGGAT-2  0.564378 -0.324576 -0.118702 -0.414213   6.0  \n",
       "TGAACAGAGTGATTCA-2  0.805690 -0.324576 -0.118702  2.604632   6.0  \n",
       "\n",
       "[26068 rows x 16369 columns]"
      ]
     },
     "execution_count": 13,
     "metadata": {},
     "output_type": "execute_result"
    }
   ],
   "source": [
    "bulk.index = bulk.index.str.replace('.', '-')\n",
    "bulk['code'] = bulk_tz\n",
    "bulk['code'] = bulk.loc[:,'code'].str[-2:].map(float)\n",
    "bulk"
   ]
  },
  {
   "cell_type": "markdown",
   "metadata": {
    "id": "T2hYSXtipnD_"
   },
   "source": [
    "### Bulk + scRNA-seq"
   ]
  },
  {
   "cell_type": "code",
   "execution_count": 14,
   "metadata": {
    "id": "wht1ZlD3MGkO"
   },
   "outputs": [],
   "source": [
    "raw_gro = pd.read_csv(path/'gro.csv', low_memory=False)\n",
    "raw_gro.drop(columns=['Unnamed: 0'], inplace=True)\n",
    "raw_gro.rename(columns={'Symbol': 'ID'}, inplace=True)"
   ]
  },
  {
   "cell_type": "code",
   "execution_count": 15,
   "metadata": {
    "id": "0wdJFEgRjzRo"
   },
   "outputs": [],
   "source": [
    "raw_nascent = pd.read_csv(path/'Nascent.csv', low_memory=False)\n",
    "raw_nascent.drop(columns=['Unnamed: 0'], inplace=True)"
   ]
  },
  {
   "cell_type": "code",
   "execution_count": 16,
   "metadata": {
    "id": "tbcW3tYB-f0C"
   },
   "outputs": [],
   "source": [
    "raw_bulk_data = pd.read_csv(path/'RNA.csv', low_memory=False)"
   ]
  },
  {
   "cell_type": "code",
   "execution_count": 17,
   "metadata": {},
   "outputs": [],
   "source": [
    "bulk_data = nrm_genes(raw_bulk_data.set_index('ID').T)\n",
    "bulk_data['code'] = [2,6,10,14,18,22,2,6,10,14,18,22]"
   ]
  },
  {
   "cell_type": "code",
   "execution_count": 18,
   "metadata": {
    "id": "kD0RS8F66Hzh"
   },
   "outputs": [],
   "source": [
    "gro = nrm_genes(raw_gro.set_index('ID').T)\n",
    "nascent = nrm_genes(raw_nascent.set_index('ID').T)\n",
    "\n",
    "bulk_data['code'] = [2,6,10,14,18,22,2,6,10,14,18,22]\n",
    "gro['code'] = [1,4,7,10,13,16,19,22]\n",
    "nascent['code'] = [0,4,8,12,16,20,0,4,8,12,16,20]"
   ]
  },
  {
   "cell_type": "code",
   "execution_count": 19,
   "metadata": {},
   "outputs": [
    {
     "data": {
      "text/html": [
       "<div>\n",
       "<style scoped>\n",
       "    .dataframe tbody tr th:only-of-type {\n",
       "        vertical-align: middle;\n",
       "    }\n",
       "\n",
       "    .dataframe tbody tr th {\n",
       "        vertical-align: top;\n",
       "    }\n",
       "\n",
       "    .dataframe thead th {\n",
       "        text-align: right;\n",
       "    }\n",
       "</style>\n",
       "<table border=\"1\" class=\"dataframe\">\n",
       "  <thead>\n",
       "    <tr style=\"text-align: right;\">\n",
       "      <th>ID</th>\n",
       "      <th>2810459M11Rik</th>\n",
       "      <th>Abcb11</th>\n",
       "      <th>Acot7</th>\n",
       "      <th>Ahctf1</th>\n",
       "      <th>Ap2a2</th>\n",
       "      <th>Asb13</th>\n",
       "      <th>Asl</th>\n",
       "      <th>Chka</th>\n",
       "      <th>Clic3</th>\n",
       "      <th>Clpx</th>\n",
       "      <th>...</th>\n",
       "      <th>Ap1s3</th>\n",
       "      <th>Vamp4</th>\n",
       "      <th>Pigm</th>\n",
       "      <th>Pard6g</th>\n",
       "      <th>Gas2</th>\n",
       "      <th>Pot1b</th>\n",
       "      <th>Zfp759</th>\n",
       "      <th>Neo1</th>\n",
       "      <th>Sco1</th>\n",
       "      <th>code</th>\n",
       "    </tr>\n",
       "  </thead>\n",
       "  <tbody>\n",
       "    <tr>\n",
       "      <th>ZT2_1</th>\n",
       "      <td>1.082428</td>\n",
       "      <td>1.717867</td>\n",
       "      <td>-1.003875</td>\n",
       "      <td>-0.669267</td>\n",
       "      <td>0.816101</td>\n",
       "      <td>0.471805</td>\n",
       "      <td>-1.540975</td>\n",
       "      <td>0.119574</td>\n",
       "      <td>-0.233131</td>\n",
       "      <td>0.838950</td>\n",
       "      <td>...</td>\n",
       "      <td>2.747362</td>\n",
       "      <td>-0.460841</td>\n",
       "      <td>1.917347</td>\n",
       "      <td>0.127566</td>\n",
       "      <td>-0.799820</td>\n",
       "      <td>-0.455745</td>\n",
       "      <td>0.146379</td>\n",
       "      <td>-0.576091</td>\n",
       "      <td>-0.564002</td>\n",
       "      <td>2</td>\n",
       "    </tr>\n",
       "    <tr>\n",
       "      <th>ZT6_1</th>\n",
       "      <td>0.087753</td>\n",
       "      <td>0.330009</td>\n",
       "      <td>0.187294</td>\n",
       "      <td>-1.181104</td>\n",
       "      <td>-0.846484</td>\n",
       "      <td>-0.303438</td>\n",
       "      <td>-0.654141</td>\n",
       "      <td>-1.137337</td>\n",
       "      <td>-0.525248</td>\n",
       "      <td>-1.029984</td>\n",
       "      <td>...</td>\n",
       "      <td>-0.795557</td>\n",
       "      <td>0.173786</td>\n",
       "      <td>-0.709879</td>\n",
       "      <td>0.108785</td>\n",
       "      <td>0.712511</td>\n",
       "      <td>-1.142857</td>\n",
       "      <td>-1.223899</td>\n",
       "      <td>1.112721</td>\n",
       "      <td>0.012469</td>\n",
       "      <td>6</td>\n",
       "    </tr>\n",
       "    <tr>\n",
       "      <th>ZT10_1</th>\n",
       "      <td>-0.816346</td>\n",
       "      <td>-1.057083</td>\n",
       "      <td>0.371357</td>\n",
       "      <td>-0.641244</td>\n",
       "      <td>-1.933474</td>\n",
       "      <td>-1.821166</td>\n",
       "      <td>0.745540</td>\n",
       "      <td>-1.019232</td>\n",
       "      <td>-0.542662</td>\n",
       "      <td>-1.163239</td>\n",
       "      <td>...</td>\n",
       "      <td>0.210171</td>\n",
       "      <td>0.221001</td>\n",
       "      <td>-0.251049</td>\n",
       "      <td>-1.652786</td>\n",
       "      <td>-0.313158</td>\n",
       "      <td>-0.071726</td>\n",
       "      <td>1.834361</td>\n",
       "      <td>-2.024334</td>\n",
       "      <td>-1.792529</td>\n",
       "      <td>10</td>\n",
       "    </tr>\n",
       "    <tr>\n",
       "      <th>ZT14_1</th>\n",
       "      <td>-0.720197</td>\n",
       "      <td>-0.938543</td>\n",
       "      <td>1.729306</td>\n",
       "      <td>0.761443</td>\n",
       "      <td>-0.105645</td>\n",
       "      <td>-0.403631</td>\n",
       "      <td>0.799266</td>\n",
       "      <td>-0.165066</td>\n",
       "      <td>-0.295312</td>\n",
       "      <td>-0.428135</td>\n",
       "      <td>...</td>\n",
       "      <td>0.554481</td>\n",
       "      <td>1.596180</td>\n",
       "      <td>0.494570</td>\n",
       "      <td>0.966976</td>\n",
       "      <td>0.040629</td>\n",
       "      <td>-0.017075</td>\n",
       "      <td>-0.643337</td>\n",
       "      <td>1.521204</td>\n",
       "      <td>1.411758</td>\n",
       "      <td>14</td>\n",
       "    </tr>\n",
       "    <tr>\n",
       "      <th>ZT18_1</th>\n",
       "      <td>0.209483</td>\n",
       "      <td>-0.409910</td>\n",
       "      <td>0.342193</td>\n",
       "      <td>1.282113</td>\n",
       "      <td>0.381770</td>\n",
       "      <td>0.574437</td>\n",
       "      <td>0.963199</td>\n",
       "      <td>0.562810</td>\n",
       "      <td>0.010501</td>\n",
       "      <td>1.133141</td>\n",
       "      <td>...</td>\n",
       "      <td>-0.413376</td>\n",
       "      <td>-1.200138</td>\n",
       "      <td>0.904244</td>\n",
       "      <td>-0.121357</td>\n",
       "      <td>1.189584</td>\n",
       "      <td>0.706100</td>\n",
       "      <td>0.058198</td>\n",
       "      <td>-0.260754</td>\n",
       "      <td>0.365997</td>\n",
       "      <td>18</td>\n",
       "    </tr>\n",
       "    <tr>\n",
       "      <th>ZT22_1</th>\n",
       "      <td>0.964961</td>\n",
       "      <td>0.638207</td>\n",
       "      <td>-0.978263</td>\n",
       "      <td>0.952341</td>\n",
       "      <td>1.044113</td>\n",
       "      <td>1.314212</td>\n",
       "      <td>0.053336</td>\n",
       "      <td>1.354167</td>\n",
       "      <td>0.166896</td>\n",
       "      <td>1.220084</td>\n",
       "      <td>...</td>\n",
       "      <td>0.232522</td>\n",
       "      <td>1.487383</td>\n",
       "      <td>-1.045996</td>\n",
       "      <td>-0.325668</td>\n",
       "      <td>0.554796</td>\n",
       "      <td>-0.962842</td>\n",
       "      <td>-0.270750</td>\n",
       "      <td>0.215825</td>\n",
       "      <td>1.505933</td>\n",
       "      <td>22</td>\n",
       "    </tr>\n",
       "    <tr>\n",
       "      <th>ZT2_2</th>\n",
       "      <td>0.989394</td>\n",
       "      <td>1.513236</td>\n",
       "      <td>-1.954013</td>\n",
       "      <td>-1.001980</td>\n",
       "      <td>0.653880</td>\n",
       "      <td>1.008998</td>\n",
       "      <td>-1.513408</td>\n",
       "      <td>0.063987</td>\n",
       "      <td>-0.301113</td>\n",
       "      <td>0.527549</td>\n",
       "      <td>...</td>\n",
       "      <td>-0.975348</td>\n",
       "      <td>0.177286</td>\n",
       "      <td>0.747333</td>\n",
       "      <td>0.032291</td>\n",
       "      <td>-1.560521</td>\n",
       "      <td>-0.145595</td>\n",
       "      <td>-0.202777</td>\n",
       "      <td>-0.988569</td>\n",
       "      <td>-0.277518</td>\n",
       "      <td>2</td>\n",
       "    </tr>\n",
       "    <tr>\n",
       "      <th>ZT6_2</th>\n",
       "      <td>-0.459597</td>\n",
       "      <td>-0.288067</td>\n",
       "      <td>-0.071178</td>\n",
       "      <td>-1.267921</td>\n",
       "      <td>-0.483437</td>\n",
       "      <td>-0.590565</td>\n",
       "      <td>-0.910870</td>\n",
       "      <td>-1.159240</td>\n",
       "      <td>-0.525305</td>\n",
       "      <td>-1.141050</td>\n",
       "      <td>...</td>\n",
       "      <td>-0.702303</td>\n",
       "      <td>0.120681</td>\n",
       "      <td>-0.215092</td>\n",
       "      <td>1.631189</td>\n",
       "      <td>1.269801</td>\n",
       "      <td>1.666237</td>\n",
       "      <td>-0.644183</td>\n",
       "      <td>1.237696</td>\n",
       "      <td>1.116562</td>\n",
       "      <td>6</td>\n",
       "    </tr>\n",
       "    <tr>\n",
       "      <th>ZT10_2</th>\n",
       "      <td>-2.227564</td>\n",
       "      <td>-1.186357</td>\n",
       "      <td>0.848500</td>\n",
       "      <td>-0.403784</td>\n",
       "      <td>-1.300503</td>\n",
       "      <td>-1.300770</td>\n",
       "      <td>0.118115</td>\n",
       "      <td>-1.101337</td>\n",
       "      <td>-0.492871</td>\n",
       "      <td>-1.113219</td>\n",
       "      <td>...</td>\n",
       "      <td>-0.038684</td>\n",
       "      <td>-0.679336</td>\n",
       "      <td>-0.473697</td>\n",
       "      <td>-0.482347</td>\n",
       "      <td>0.341780</td>\n",
       "      <td>0.661954</td>\n",
       "      <td>0.250987</td>\n",
       "      <td>-0.473569</td>\n",
       "      <td>0.287446</td>\n",
       "      <td>10</td>\n",
       "    </tr>\n",
       "    <tr>\n",
       "      <th>ZT14_2</th>\n",
       "      <td>-0.567742</td>\n",
       "      <td>-1.055971</td>\n",
       "      <td>0.951135</td>\n",
       "      <td>0.417576</td>\n",
       "      <td>-0.312159</td>\n",
       "      <td>-0.543626</td>\n",
       "      <td>1.341477</td>\n",
       "      <td>-0.285257</td>\n",
       "      <td>-0.405983</td>\n",
       "      <td>-0.650162</td>\n",
       "      <td>...</td>\n",
       "      <td>0.079044</td>\n",
       "      <td>-1.345802</td>\n",
       "      <td>-0.104850</td>\n",
       "      <td>-0.336308</td>\n",
       "      <td>-1.907668</td>\n",
       "      <td>-1.835495</td>\n",
       "      <td>0.130619</td>\n",
       "      <td>-0.182400</td>\n",
       "      <td>-0.289401</td>\n",
       "      <td>14</td>\n",
       "    </tr>\n",
       "    <tr>\n",
       "      <th>ZT18_2</th>\n",
       "      <td>0.479752</td>\n",
       "      <td>0.052295</td>\n",
       "      <td>0.118601</td>\n",
       "      <td>1.628201</td>\n",
       "      <td>0.985203</td>\n",
       "      <td>0.284895</td>\n",
       "      <td>0.991894</td>\n",
       "      <td>1.331703</td>\n",
       "      <td>0.065020</td>\n",
       "      <td>1.065899</td>\n",
       "      <td>...</td>\n",
       "      <td>-0.009403</td>\n",
       "      <td>1.000225</td>\n",
       "      <td>0.585665</td>\n",
       "      <td>1.470725</td>\n",
       "      <td>0.475758</td>\n",
       "      <td>1.094371</td>\n",
       "      <td>-1.287794</td>\n",
       "      <td>0.052238</td>\n",
       "      <td>-0.939718</td>\n",
       "      <td>18</td>\n",
       "    </tr>\n",
       "    <tr>\n",
       "      <th>ZT22_2</th>\n",
       "      <td>0.977675</td>\n",
       "      <td>0.684318</td>\n",
       "      <td>-0.541057</td>\n",
       "      <td>0.123626</td>\n",
       "      <td>1.100634</td>\n",
       "      <td>1.308850</td>\n",
       "      <td>-0.393433</td>\n",
       "      <td>1.435229</td>\n",
       "      <td>3.079208</td>\n",
       "      <td>0.740167</td>\n",
       "      <td>...</td>\n",
       "      <td>-0.888910</td>\n",
       "      <td>-1.090426</td>\n",
       "      <td>-1.848595</td>\n",
       "      <td>-1.419065</td>\n",
       "      <td>-0.003691</td>\n",
       "      <td>0.502672</td>\n",
       "      <td>1.852196</td>\n",
       "      <td>0.366032</td>\n",
       "      <td>-0.836996</td>\n",
       "      <td>22</td>\n",
       "    </tr>\n",
       "  </tbody>\n",
       "</table>\n",
       "<p>12 rows × 9482 columns</p>\n",
       "</div>"
      ],
      "text/plain": [
       "ID      2810459M11Rik    Abcb11     Acot7    Ahctf1     Ap2a2     Asb13  \\\n",
       "ZT2_1        1.082428  1.717867 -1.003875 -0.669267  0.816101  0.471805   \n",
       "ZT6_1        0.087753  0.330009  0.187294 -1.181104 -0.846484 -0.303438   \n",
       "ZT10_1      -0.816346 -1.057083  0.371357 -0.641244 -1.933474 -1.821166   \n",
       "ZT14_1      -0.720197 -0.938543  1.729306  0.761443 -0.105645 -0.403631   \n",
       "ZT18_1       0.209483 -0.409910  0.342193  1.282113  0.381770  0.574437   \n",
       "ZT22_1       0.964961  0.638207 -0.978263  0.952341  1.044113  1.314212   \n",
       "ZT2_2        0.989394  1.513236 -1.954013 -1.001980  0.653880  1.008998   \n",
       "ZT6_2       -0.459597 -0.288067 -0.071178 -1.267921 -0.483437 -0.590565   \n",
       "ZT10_2      -2.227564 -1.186357  0.848500 -0.403784 -1.300503 -1.300770   \n",
       "ZT14_2      -0.567742 -1.055971  0.951135  0.417576 -0.312159 -0.543626   \n",
       "ZT18_2       0.479752  0.052295  0.118601  1.628201  0.985203  0.284895   \n",
       "ZT22_2       0.977675  0.684318 -0.541057  0.123626  1.100634  1.308850   \n",
       "\n",
       "ID           Asl      Chka     Clic3      Clpx  ...     Ap1s3     Vamp4  \\\n",
       "ZT2_1  -1.540975  0.119574 -0.233131  0.838950  ...  2.747362 -0.460841   \n",
       "ZT6_1  -0.654141 -1.137337 -0.525248 -1.029984  ... -0.795557  0.173786   \n",
       "ZT10_1  0.745540 -1.019232 -0.542662 -1.163239  ...  0.210171  0.221001   \n",
       "ZT14_1  0.799266 -0.165066 -0.295312 -0.428135  ...  0.554481  1.596180   \n",
       "ZT18_1  0.963199  0.562810  0.010501  1.133141  ... -0.413376 -1.200138   \n",
       "ZT22_1  0.053336  1.354167  0.166896  1.220084  ...  0.232522  1.487383   \n",
       "ZT2_2  -1.513408  0.063987 -0.301113  0.527549  ... -0.975348  0.177286   \n",
       "ZT6_2  -0.910870 -1.159240 -0.525305 -1.141050  ... -0.702303  0.120681   \n",
       "ZT10_2  0.118115 -1.101337 -0.492871 -1.113219  ... -0.038684 -0.679336   \n",
       "ZT14_2  1.341477 -0.285257 -0.405983 -0.650162  ...  0.079044 -1.345802   \n",
       "ZT18_2  0.991894  1.331703  0.065020  1.065899  ... -0.009403  1.000225   \n",
       "ZT22_2 -0.393433  1.435229  3.079208  0.740167  ... -0.888910 -1.090426   \n",
       "\n",
       "ID          Pigm    Pard6g      Gas2     Pot1b    Zfp759      Neo1      Sco1  \\\n",
       "ZT2_1   1.917347  0.127566 -0.799820 -0.455745  0.146379 -0.576091 -0.564002   \n",
       "ZT6_1  -0.709879  0.108785  0.712511 -1.142857 -1.223899  1.112721  0.012469   \n",
       "ZT10_1 -0.251049 -1.652786 -0.313158 -0.071726  1.834361 -2.024334 -1.792529   \n",
       "ZT14_1  0.494570  0.966976  0.040629 -0.017075 -0.643337  1.521204  1.411758   \n",
       "ZT18_1  0.904244 -0.121357  1.189584  0.706100  0.058198 -0.260754  0.365997   \n",
       "ZT22_1 -1.045996 -0.325668  0.554796 -0.962842 -0.270750  0.215825  1.505933   \n",
       "ZT2_2   0.747333  0.032291 -1.560521 -0.145595 -0.202777 -0.988569 -0.277518   \n",
       "ZT6_2  -0.215092  1.631189  1.269801  1.666237 -0.644183  1.237696  1.116562   \n",
       "ZT10_2 -0.473697 -0.482347  0.341780  0.661954  0.250987 -0.473569  0.287446   \n",
       "ZT14_2 -0.104850 -0.336308 -1.907668 -1.835495  0.130619 -0.182400 -0.289401   \n",
       "ZT18_2  0.585665  1.470725  0.475758  1.094371 -1.287794  0.052238 -0.939718   \n",
       "ZT22_2 -1.848595 -1.419065 -0.003691  0.502672  1.852196  0.366032 -0.836996   \n",
       "\n",
       "ID      code  \n",
       "ZT2_1      2  \n",
       "ZT6_1      6  \n",
       "ZT10_1    10  \n",
       "ZT14_1    14  \n",
       "ZT18_1    18  \n",
       "ZT22_1    22  \n",
       "ZT2_2      2  \n",
       "ZT6_2      6  \n",
       "ZT10_2    10  \n",
       "ZT14_2    14  \n",
       "ZT18_2    18  \n",
       "ZT22_2    22  \n",
       "\n",
       "[12 rows x 9482 columns]"
      ]
     },
     "execution_count": 19,
     "metadata": {},
     "output_type": "execute_result"
    }
   ],
   "source": [
    "bulk_data"
   ]
  },
  {
   "cell_type": "markdown",
   "metadata": {},
   "source": [
    "We only want the intersection of training and test data."
   ]
  },
  {
   "cell_type": "code",
   "execution_count": 20,
   "metadata": {},
   "outputs": [],
   "source": [
    "intersecting_genes = bulk_data.columns.intersection(bulk.columns)\n",
    "df = bulk.loc[:,intersecting_genes]"
   ]
  },
  {
   "cell_type": "markdown",
   "metadata": {},
   "source": [
    "## Adding more datasets"
   ]
  },
  {
   "cell_type": "markdown",
   "metadata": {},
   "source": [
    "See meta_analysis for more data."
   ]
  },
  {
   "cell_type": "code",
   "execution_count": 21,
   "metadata": {},
   "outputs": [],
   "source": [
    "path = Path('data/scRNA_datasets')\n",
    "more_data = pd.read_csv(path/'tpm.by_sample.txt', sep='\\t', low_memory=False).dropna(how='any').T.drop(index='Name')\n",
    "more_data.columns = more_data.loc['Symbol']\n",
    "more_data = more_data.drop(index='Symbol')\n",
    "more_data = more_data.astype('float64')"
   ]
  },
  {
   "cell_type": "markdown",
   "metadata": {},
   "source": [
    "Getting rid of genes that don't express anything."
   ]
  },
  {
   "cell_type": "code",
   "execution_count": 22,
   "metadata": {},
   "outputs": [
    {
     "data": {
      "text/plain": [
       "0"
      ]
     },
     "execution_count": 22,
     "metadata": {},
     "output_type": "execute_result"
    }
   ],
   "source": [
    "# Checking which ones are in training data\n",
    "zero_cols = more_data.loc[:,more_data.sum(axis=0) == 0].columns\n",
    "len(set(zero_cols).intersection(df.columns))"
   ]
  },
  {
   "cell_type": "code",
   "execution_count": 23,
   "metadata": {},
   "outputs": [
    {
     "data": {
      "text/html": [
       "<div>\n",
       "<style scoped>\n",
       "    .dataframe tbody tr th:only-of-type {\n",
       "        vertical-align: middle;\n",
       "    }\n",
       "\n",
       "    .dataframe tbody tr th {\n",
       "        vertical-align: top;\n",
       "    }\n",
       "\n",
       "    .dataframe thead th {\n",
       "        text-align: right;\n",
       "    }\n",
       "</style>\n",
       "<table border=\"1\" class=\"dataframe\">\n",
       "  <thead>\n",
       "    <tr style=\"text-align: right;\">\n",
       "      <th>Symbol</th>\n",
       "      <th>Gm14820</th>\n",
       "      <th>Flicr</th>\n",
       "      <th>Gm13449</th>\n",
       "      <th>C79798</th>\n",
       "      <th>Nron</th>\n",
       "      <th>Gm13528</th>\n",
       "      <th>4930527E20Rik</th>\n",
       "      <th>Gm13402</th>\n",
       "      <th>AA645442</th>\n",
       "      <th>Sardhos</th>\n",
       "      <th>...</th>\n",
       "      <th>Eef1akmt4</th>\n",
       "      <th>Il33</th>\n",
       "      <th>Pgam1-ps1</th>\n",
       "      <th>Gm10517</th>\n",
       "      <th>Vmn1r-ps84</th>\n",
       "      <th>Rpsa-ps3</th>\n",
       "      <th>Gm14634</th>\n",
       "      <th>Zkscan7</th>\n",
       "      <th>Agbl1</th>\n",
       "      <th>Gm8902</th>\n",
       "    </tr>\n",
       "  </thead>\n",
       "  <tbody>\n",
       "    <tr>\n",
       "      <th>GSM2046160</th>\n",
       "      <td>0.047856</td>\n",
       "      <td>0.043026</td>\n",
       "      <td>0.013747</td>\n",
       "      <td>0.000000</td>\n",
       "      <td>0.017114</td>\n",
       "      <td>0.184585</td>\n",
       "      <td>0.0</td>\n",
       "      <td>0.000000</td>\n",
       "      <td>0.000000</td>\n",
       "      <td>8.55776</td>\n",
       "      <td>...</td>\n",
       "      <td>4.80793</td>\n",
       "      <td>0.585986</td>\n",
       "      <td>0.043350</td>\n",
       "      <td>0.000000</td>\n",
       "      <td>0.0</td>\n",
       "      <td>0.000000</td>\n",
       "      <td>0.029685</td>\n",
       "      <td>2.69082</td>\n",
       "      <td>0.0</td>\n",
       "      <td>0.000000</td>\n",
       "    </tr>\n",
       "    <tr>\n",
       "      <th>GSM2046184</th>\n",
       "      <td>0.000000</td>\n",
       "      <td>0.017274</td>\n",
       "      <td>0.012649</td>\n",
       "      <td>0.000000</td>\n",
       "      <td>0.000000</td>\n",
       "      <td>0.225739</td>\n",
       "      <td>0.0</td>\n",
       "      <td>0.000000</td>\n",
       "      <td>0.084449</td>\n",
       "      <td>4.54988</td>\n",
       "      <td>...</td>\n",
       "      <td>4.70429</td>\n",
       "      <td>0.682593</td>\n",
       "      <td>0.038878</td>\n",
       "      <td>0.000000</td>\n",
       "      <td>0.0</td>\n",
       "      <td>0.017092</td>\n",
       "      <td>0.031688</td>\n",
       "      <td>2.20585</td>\n",
       "      <td>0.0</td>\n",
       "      <td>0.000000</td>\n",
       "    </tr>\n",
       "    <tr>\n",
       "      <th>GSM2046157</th>\n",
       "      <td>0.011696</td>\n",
       "      <td>0.012144</td>\n",
       "      <td>0.029259</td>\n",
       "      <td>0.000000</td>\n",
       "      <td>0.000000</td>\n",
       "      <td>0.246204</td>\n",
       "      <td>0.0</td>\n",
       "      <td>0.000000</td>\n",
       "      <td>0.000000</td>\n",
       "      <td>8.24781</td>\n",
       "      <td>...</td>\n",
       "      <td>3.84295</td>\n",
       "      <td>0.521939</td>\n",
       "      <td>0.045233</td>\n",
       "      <td>0.119700</td>\n",
       "      <td>0.0</td>\n",
       "      <td>0.000000</td>\n",
       "      <td>0.000000</td>\n",
       "      <td>2.56285</td>\n",
       "      <td>0.0</td>\n",
       "      <td>0.015267</td>\n",
       "    </tr>\n",
       "    <tr>\n",
       "      <th>GSM2046183</th>\n",
       "      <td>0.038796</td>\n",
       "      <td>0.035352</td>\n",
       "      <td>0.012449</td>\n",
       "      <td>0.000000</td>\n",
       "      <td>0.000000</td>\n",
       "      <td>0.207048</td>\n",
       "      <td>0.0</td>\n",
       "      <td>0.000000</td>\n",
       "      <td>0.000000</td>\n",
       "      <td>8.40232</td>\n",
       "      <td>...</td>\n",
       "      <td>4.45069</td>\n",
       "      <td>0.404564</td>\n",
       "      <td>0.017379</td>\n",
       "      <td>0.170666</td>\n",
       "      <td>0.0</td>\n",
       "      <td>0.000000</td>\n",
       "      <td>0.009918</td>\n",
       "      <td>2.47665</td>\n",
       "      <td>0.0</td>\n",
       "      <td>0.000000</td>\n",
       "    </tr>\n",
       "    <tr>\n",
       "      <th>GSM2046155</th>\n",
       "      <td>0.000000</td>\n",
       "      <td>0.025837</td>\n",
       "      <td>0.080033</td>\n",
       "      <td>0.000000</td>\n",
       "      <td>0.000000</td>\n",
       "      <td>0.157396</td>\n",
       "      <td>0.0</td>\n",
       "      <td>0.000000</td>\n",
       "      <td>0.619891</td>\n",
       "      <td>11.43590</td>\n",
       "      <td>...</td>\n",
       "      <td>4.87733</td>\n",
       "      <td>0.367240</td>\n",
       "      <td>0.088547</td>\n",
       "      <td>0.134558</td>\n",
       "      <td>0.0</td>\n",
       "      <td>0.000000</td>\n",
       "      <td>0.007446</td>\n",
       "      <td>2.71046</td>\n",
       "      <td>0.0</td>\n",
       "      <td>0.011883</td>\n",
       "    </tr>\n",
       "    <tr>\n",
       "      <th>...</th>\n",
       "      <td>...</td>\n",
       "      <td>...</td>\n",
       "      <td>...</td>\n",
       "      <td>...</td>\n",
       "      <td>...</td>\n",
       "      <td>...</td>\n",
       "      <td>...</td>\n",
       "      <td>...</td>\n",
       "      <td>...</td>\n",
       "      <td>...</td>\n",
       "      <td>...</td>\n",
       "      <td>...</td>\n",
       "      <td>...</td>\n",
       "      <td>...</td>\n",
       "      <td>...</td>\n",
       "      <td>...</td>\n",
       "      <td>...</td>\n",
       "      <td>...</td>\n",
       "      <td>...</td>\n",
       "      <td>...</td>\n",
       "      <td>...</td>\n",
       "    </tr>\n",
       "    <tr>\n",
       "      <th>GSM6610738</th>\n",
       "      <td>0.000000</td>\n",
       "      <td>0.035516</td>\n",
       "      <td>0.215311</td>\n",
       "      <td>0.000000</td>\n",
       "      <td>0.000000</td>\n",
       "      <td>0.000000</td>\n",
       "      <td>0.0</td>\n",
       "      <td>0.130749</td>\n",
       "      <td>0.316231</td>\n",
       "      <td>0.00000</td>\n",
       "      <td>...</td>\n",
       "      <td>8.84043</td>\n",
       "      <td>0.794336</td>\n",
       "      <td>0.318900</td>\n",
       "      <td>0.000000</td>\n",
       "      <td>0.0</td>\n",
       "      <td>0.000000</td>\n",
       "      <td>0.023322</td>\n",
       "      <td>1.85593</td>\n",
       "      <td>0.0</td>\n",
       "      <td>0.000000</td>\n",
       "    </tr>\n",
       "    <tr>\n",
       "      <th>GSM6610724</th>\n",
       "      <td>0.000000</td>\n",
       "      <td>0.078964</td>\n",
       "      <td>0.200141</td>\n",
       "      <td>0.000000</td>\n",
       "      <td>0.000000</td>\n",
       "      <td>0.806385</td>\n",
       "      <td>0.0</td>\n",
       "      <td>0.000000</td>\n",
       "      <td>0.000000</td>\n",
       "      <td>0.00000</td>\n",
       "      <td>...</td>\n",
       "      <td>8.37920</td>\n",
       "      <td>0.752421</td>\n",
       "      <td>0.165695</td>\n",
       "      <td>0.110278</td>\n",
       "      <td>0.0</td>\n",
       "      <td>0.000000</td>\n",
       "      <td>0.070138</td>\n",
       "      <td>1.70914</td>\n",
       "      <td>0.0</td>\n",
       "      <td>0.000000</td>\n",
       "    </tr>\n",
       "    <tr>\n",
       "      <th>GSM6610752</th>\n",
       "      <td>0.000000</td>\n",
       "      <td>0.043414</td>\n",
       "      <td>0.228735</td>\n",
       "      <td>0.000000</td>\n",
       "      <td>0.000000</td>\n",
       "      <td>0.447329</td>\n",
       "      <td>0.0</td>\n",
       "      <td>0.000000</td>\n",
       "      <td>0.405717</td>\n",
       "      <td>0.00000</td>\n",
       "      <td>...</td>\n",
       "      <td>8.78542</td>\n",
       "      <td>0.796097</td>\n",
       "      <td>0.265712</td>\n",
       "      <td>0.000000</td>\n",
       "      <td>0.0</td>\n",
       "      <td>0.000000</td>\n",
       "      <td>0.054193</td>\n",
       "      <td>2.71010</td>\n",
       "      <td>0.0</td>\n",
       "      <td>0.000000</td>\n",
       "    </tr>\n",
       "    <tr>\n",
       "      <th>GSM6610726</th>\n",
       "      <td>0.016459</td>\n",
       "      <td>0.043835</td>\n",
       "      <td>0.284069</td>\n",
       "      <td>0.028452</td>\n",
       "      <td>0.000000</td>\n",
       "      <td>1.184650</td>\n",
       "      <td>0.0</td>\n",
       "      <td>0.000000</td>\n",
       "      <td>0.829571</td>\n",
       "      <td>1.58835</td>\n",
       "      <td>...</td>\n",
       "      <td>7.12422</td>\n",
       "      <td>0.715682</td>\n",
       "      <td>0.034111</td>\n",
       "      <td>0.276602</td>\n",
       "      <td>0.0</td>\n",
       "      <td>0.000000</td>\n",
       "      <td>0.047538</td>\n",
       "      <td>1.66776</td>\n",
       "      <td>0.0</td>\n",
       "      <td>0.000000</td>\n",
       "    </tr>\n",
       "    <tr>\n",
       "      <th>GSM6610740</th>\n",
       "      <td>0.000000</td>\n",
       "      <td>0.048446</td>\n",
       "      <td>0.234701</td>\n",
       "      <td>0.000000</td>\n",
       "      <td>0.000000</td>\n",
       "      <td>0.203605</td>\n",
       "      <td>0.0</td>\n",
       "      <td>0.000000</td>\n",
       "      <td>0.000000</td>\n",
       "      <td>0.00000</td>\n",
       "      <td>...</td>\n",
       "      <td>10.45580</td>\n",
       "      <td>0.692491</td>\n",
       "      <td>0.236707</td>\n",
       "      <td>0.098693</td>\n",
       "      <td>0.0</td>\n",
       "      <td>0.000000</td>\n",
       "      <td>0.018135</td>\n",
       "      <td>2.69755</td>\n",
       "      <td>0.0</td>\n",
       "      <td>0.000000</td>\n",
       "    </tr>\n",
       "  </tbody>\n",
       "</table>\n",
       "<p>1096 rows × 32904 columns</p>\n",
       "</div>"
      ],
      "text/plain": [
       "Symbol       Gm14820     Flicr   Gm13449    C79798      Nron   Gm13528  \\\n",
       "GSM2046160  0.047856  0.043026  0.013747  0.000000  0.017114  0.184585   \n",
       "GSM2046184  0.000000  0.017274  0.012649  0.000000  0.000000  0.225739   \n",
       "GSM2046157  0.011696  0.012144  0.029259  0.000000  0.000000  0.246204   \n",
       "GSM2046183  0.038796  0.035352  0.012449  0.000000  0.000000  0.207048   \n",
       "GSM2046155  0.000000  0.025837  0.080033  0.000000  0.000000  0.157396   \n",
       "...              ...       ...       ...       ...       ...       ...   \n",
       "GSM6610738  0.000000  0.035516  0.215311  0.000000  0.000000  0.000000   \n",
       "GSM6610724  0.000000  0.078964  0.200141  0.000000  0.000000  0.806385   \n",
       "GSM6610752  0.000000  0.043414  0.228735  0.000000  0.000000  0.447329   \n",
       "GSM6610726  0.016459  0.043835  0.284069  0.028452  0.000000  1.184650   \n",
       "GSM6610740  0.000000  0.048446  0.234701  0.000000  0.000000  0.203605   \n",
       "\n",
       "Symbol      4930527E20Rik   Gm13402  AA645442   Sardhos  ...  Eef1akmt4  \\\n",
       "GSM2046160            0.0  0.000000  0.000000   8.55776  ...    4.80793   \n",
       "GSM2046184            0.0  0.000000  0.084449   4.54988  ...    4.70429   \n",
       "GSM2046157            0.0  0.000000  0.000000   8.24781  ...    3.84295   \n",
       "GSM2046183            0.0  0.000000  0.000000   8.40232  ...    4.45069   \n",
       "GSM2046155            0.0  0.000000  0.619891  11.43590  ...    4.87733   \n",
       "...                   ...       ...       ...       ...  ...        ...   \n",
       "GSM6610738            0.0  0.130749  0.316231   0.00000  ...    8.84043   \n",
       "GSM6610724            0.0  0.000000  0.000000   0.00000  ...    8.37920   \n",
       "GSM6610752            0.0  0.000000  0.405717   0.00000  ...    8.78542   \n",
       "GSM6610726            0.0  0.000000  0.829571   1.58835  ...    7.12422   \n",
       "GSM6610740            0.0  0.000000  0.000000   0.00000  ...   10.45580   \n",
       "\n",
       "Symbol          Il33  Pgam1-ps1   Gm10517  Vmn1r-ps84  Rpsa-ps3   Gm14634  \\\n",
       "GSM2046160  0.585986   0.043350  0.000000         0.0  0.000000  0.029685   \n",
       "GSM2046184  0.682593   0.038878  0.000000         0.0  0.017092  0.031688   \n",
       "GSM2046157  0.521939   0.045233  0.119700         0.0  0.000000  0.000000   \n",
       "GSM2046183  0.404564   0.017379  0.170666         0.0  0.000000  0.009918   \n",
       "GSM2046155  0.367240   0.088547  0.134558         0.0  0.000000  0.007446   \n",
       "...              ...        ...       ...         ...       ...       ...   \n",
       "GSM6610738  0.794336   0.318900  0.000000         0.0  0.000000  0.023322   \n",
       "GSM6610724  0.752421   0.165695  0.110278         0.0  0.000000  0.070138   \n",
       "GSM6610752  0.796097   0.265712  0.000000         0.0  0.000000  0.054193   \n",
       "GSM6610726  0.715682   0.034111  0.276602         0.0  0.000000  0.047538   \n",
       "GSM6610740  0.692491   0.236707  0.098693         0.0  0.000000  0.018135   \n",
       "\n",
       "Symbol      Zkscan7  Agbl1    Gm8902  \n",
       "GSM2046160  2.69082    0.0  0.000000  \n",
       "GSM2046184  2.20585    0.0  0.000000  \n",
       "GSM2046157  2.56285    0.0  0.015267  \n",
       "GSM2046183  2.47665    0.0  0.000000  \n",
       "GSM2046155  2.71046    0.0  0.011883  \n",
       "...             ...    ...       ...  \n",
       "GSM6610738  1.85593    0.0  0.000000  \n",
       "GSM6610724  1.70914    0.0  0.000000  \n",
       "GSM6610752  2.71010    0.0  0.000000  \n",
       "GSM6610726  1.66776    0.0  0.000000  \n",
       "GSM6610740  2.69755    0.0  0.000000  \n",
       "\n",
       "[1096 rows x 32904 columns]"
      ]
     },
     "execution_count": 23,
     "metadata": {},
     "output_type": "execute_result"
    }
   ],
   "source": [
    "more_data = more_data.drop(zero_cols, axis=1)\n",
    "more_data"
   ]
  },
  {
   "cell_type": "code",
   "execution_count": 24,
   "metadata": {},
   "outputs": [
    {
     "data": {
      "text/plain": [
       "(Symbol\n",
       " Gm14820    -2.856659e-16\n",
       " Flicr       1.852989e-16\n",
       " Gm13449     3.932378e-16\n",
       " C79798     -6.583086e-16\n",
       " Nron       -1.064892e-16\n",
       "                 ...     \n",
       " Rpsa-ps3    3.448681e-16\n",
       " Gm14634    -7.021958e-16\n",
       " Zkscan7    -2.554083e-15\n",
       " Agbl1       2.256913e-16\n",
       " Gm8902     -2.688948e-16\n",
       " Length: 32904, dtype: float64,\n",
       " Symbol\n",
       " Gm14820     1.0\n",
       " Flicr       1.0\n",
       " Gm13449     1.0\n",
       " C79798      1.0\n",
       " Nron        1.0\n",
       "            ... \n",
       " Rpsa-ps3    1.0\n",
       " Gm14634     1.0\n",
       " Zkscan7     1.0\n",
       " Agbl1       1.0\n",
       " Gm8902      1.0\n",
       " Length: 32904, dtype: float64)"
      ]
     },
     "execution_count": 24,
     "metadata": {},
     "output_type": "execute_result"
    }
   ],
   "source": [
    "more_data = nrm_genes(more_data)\n",
    "more_data.mean(axis=0), more_data.std(axis=0)"
   ]
  },
  {
   "cell_type": "code",
   "execution_count": 25,
   "metadata": {},
   "outputs": [
    {
     "data": {
      "text/html": [
       "<div>\n",
       "<style scoped>\n",
       "    .dataframe tbody tr th:only-of-type {\n",
       "        vertical-align: middle;\n",
       "    }\n",
       "\n",
       "    .dataframe tbody tr th {\n",
       "        vertical-align: top;\n",
       "    }\n",
       "\n",
       "    .dataframe thead th {\n",
       "        text-align: right;\n",
       "    }\n",
       "</style>\n",
       "<table border=\"1\" class=\"dataframe\">\n",
       "  <thead>\n",
       "    <tr style=\"text-align: right;\">\n",
       "      <th>Symbol</th>\n",
       "      <th>Gm14820</th>\n",
       "      <th>Flicr</th>\n",
       "      <th>Gm13449</th>\n",
       "      <th>C79798</th>\n",
       "      <th>Nron</th>\n",
       "      <th>Gm13528</th>\n",
       "      <th>4930527E20Rik</th>\n",
       "      <th>Gm13402</th>\n",
       "      <th>AA645442</th>\n",
       "      <th>Sardhos</th>\n",
       "      <th>...</th>\n",
       "      <th>Il33</th>\n",
       "      <th>Pgam1-ps1</th>\n",
       "      <th>Gm10517</th>\n",
       "      <th>Vmn1r-ps84</th>\n",
       "      <th>Rpsa-ps3</th>\n",
       "      <th>Gm14634</th>\n",
       "      <th>Zkscan7</th>\n",
       "      <th>Agbl1</th>\n",
       "      <th>Gm8902</th>\n",
       "      <th>code</th>\n",
       "    </tr>\n",
       "  </thead>\n",
       "  <tbody>\n",
       "    <tr>\n",
       "      <th>GSM2046160</th>\n",
       "      <td>0.259269</td>\n",
       "      <td>-0.157117</td>\n",
       "      <td>-0.246090</td>\n",
       "      <td>-0.136791</td>\n",
       "      <td>1.989747</td>\n",
       "      <td>-0.360068</td>\n",
       "      <td>-0.058182</td>\n",
       "      <td>-0.171698</td>\n",
       "      <td>-0.470116</td>\n",
       "      <td>2.019621</td>\n",
       "      <td>...</td>\n",
       "      <td>-0.495987</td>\n",
       "      <td>0.179397</td>\n",
       "      <td>-0.319751</td>\n",
       "      <td>-0.045089</td>\n",
       "      <td>-0.227785</td>\n",
       "      <td>-0.340332</td>\n",
       "      <td>0.049125</td>\n",
       "      <td>-0.108363</td>\n",
       "      <td>-0.133167</td>\n",
       "      <td>22.0</td>\n",
       "    </tr>\n",
       "    <tr>\n",
       "      <th>GSM2046184</th>\n",
       "      <td>-0.058396</td>\n",
       "      <td>-0.269264</td>\n",
       "      <td>-0.248887</td>\n",
       "      <td>-0.136791</td>\n",
       "      <td>-0.098070</td>\n",
       "      <td>-0.307829</td>\n",
       "      <td>-0.058182</td>\n",
       "      <td>-0.171698</td>\n",
       "      <td>-0.410231</td>\n",
       "      <td>0.846156</td>\n",
       "      <td>...</td>\n",
       "      <td>-0.304115</td>\n",
       "      <td>0.118501</td>\n",
       "      <td>-0.319751</td>\n",
       "      <td>-0.045089</td>\n",
       "      <td>0.115119</td>\n",
       "      <td>-0.308742</td>\n",
       "      <td>-0.296044</td>\n",
       "      <td>-0.108363</td>\n",
       "      <td>-0.133167</td>\n",
       "      <td>22.0</td>\n",
       "    </tr>\n",
       "    <tr>\n",
       "      <th>GSM2046157</th>\n",
       "      <td>0.019232</td>\n",
       "      <td>-0.291584</td>\n",
       "      <td>-0.206713</td>\n",
       "      <td>-0.136791</td>\n",
       "      <td>-0.098070</td>\n",
       "      <td>-0.281764</td>\n",
       "      <td>-0.058182</td>\n",
       "      <td>-0.171698</td>\n",
       "      <td>-0.470116</td>\n",
       "      <td>1.928629</td>\n",
       "      <td>...</td>\n",
       "      <td>-0.623569</td>\n",
       "      <td>0.204906</td>\n",
       "      <td>0.920292</td>\n",
       "      <td>-0.045089</td>\n",
       "      <td>-0.227785</td>\n",
       "      <td>-0.810639</td>\n",
       "      <td>-0.042041</td>\n",
       "      <td>-0.108363</td>\n",
       "      <td>0.282452</td>\n",
       "      <td>10.0</td>\n",
       "    </tr>\n",
       "    <tr>\n",
       "      <th>GSM2046183</th>\n",
       "      <td>0.198919</td>\n",
       "      <td>-0.190655</td>\n",
       "      <td>-0.249412</td>\n",
       "      <td>-0.136791</td>\n",
       "      <td>-0.098070</td>\n",
       "      <td>-0.331724</td>\n",
       "      <td>-0.058182</td>\n",
       "      <td>-0.171698</td>\n",
       "      <td>-0.470116</td>\n",
       "      <td>1.972117</td>\n",
       "      <td>...</td>\n",
       "      <td>-0.857706</td>\n",
       "      <td>-0.173566</td>\n",
       "      <td>1.447035</td>\n",
       "      <td>-0.045089</td>\n",
       "      <td>-0.227785</td>\n",
       "      <td>-0.653634</td>\n",
       "      <td>-0.104544</td>\n",
       "      <td>-0.108363</td>\n",
       "      <td>-0.133167</td>\n",
       "      <td>18.0</td>\n",
       "    </tr>\n",
       "    <tr>\n",
       "      <th>GSM2046155</th>\n",
       "      <td>-0.058396</td>\n",
       "      <td>-0.231989</td>\n",
       "      <td>-0.077843</td>\n",
       "      <td>-0.136791</td>\n",
       "      <td>-0.098070</td>\n",
       "      <td>-0.394689</td>\n",
       "      <td>-0.058182</td>\n",
       "      <td>-0.171698</td>\n",
       "      <td>-0.030527</td>\n",
       "      <td>2.861126</td>\n",
       "      <td>...</td>\n",
       "      <td>-0.931528</td>\n",
       "      <td>0.792993</td>\n",
       "      <td>1.073994</td>\n",
       "      <td>-0.045089</td>\n",
       "      <td>-0.227785</td>\n",
       "      <td>-0.692702</td>\n",
       "      <td>0.062562</td>\n",
       "      <td>-0.108363</td>\n",
       "      <td>0.190277</td>\n",
       "      <td>2.0</td>\n",
       "    </tr>\n",
       "    <tr>\n",
       "      <th>...</th>\n",
       "      <td>...</td>\n",
       "      <td>...</td>\n",
       "      <td>...</td>\n",
       "      <td>...</td>\n",
       "      <td>...</td>\n",
       "      <td>...</td>\n",
       "      <td>...</td>\n",
       "      <td>...</td>\n",
       "      <td>...</td>\n",
       "      <td>...</td>\n",
       "      <td>...</td>\n",
       "      <td>...</td>\n",
       "      <td>...</td>\n",
       "      <td>...</td>\n",
       "      <td>...</td>\n",
       "      <td>...</td>\n",
       "      <td>...</td>\n",
       "      <td>...</td>\n",
       "      <td>...</td>\n",
       "      <td>...</td>\n",
       "      <td>...</td>\n",
       "    </tr>\n",
       "    <tr>\n",
       "      <th>GSM6610738</th>\n",
       "      <td>-0.058396</td>\n",
       "      <td>-0.188282</td>\n",
       "      <td>0.271110</td>\n",
       "      <td>-0.136791</td>\n",
       "      <td>-0.098070</td>\n",
       "      <td>-0.594739</td>\n",
       "      <td>-0.058182</td>\n",
       "      <td>5.690522</td>\n",
       "      <td>-0.243579</td>\n",
       "      <td>-0.485181</td>\n",
       "      <td>...</td>\n",
       "      <td>-0.065659</td>\n",
       "      <td>3.965212</td>\n",
       "      <td>-0.319751</td>\n",
       "      <td>-0.045089</td>\n",
       "      <td>-0.227785</td>\n",
       "      <td>-0.437478</td>\n",
       "      <td>-0.531234</td>\n",
       "      <td>-0.108363</td>\n",
       "      <td>-0.133167</td>\n",
       "      <td>13.5</td>\n",
       "    </tr>\n",
       "    <tr>\n",
       "      <th>GSM6610724</th>\n",
       "      <td>-0.058396</td>\n",
       "      <td>0.003074</td>\n",
       "      <td>0.232662</td>\n",
       "      <td>-0.136791</td>\n",
       "      <td>-0.098070</td>\n",
       "      <td>0.441533</td>\n",
       "      <td>-0.058182</td>\n",
       "      <td>-0.171698</td>\n",
       "      <td>-0.470116</td>\n",
       "      <td>-0.485181</td>\n",
       "      <td>...</td>\n",
       "      <td>-0.148572</td>\n",
       "      <td>1.865558</td>\n",
       "      <td>0.835159</td>\n",
       "      <td>-0.045089</td>\n",
       "      <td>-0.227785</td>\n",
       "      <td>0.312584</td>\n",
       "      <td>-0.635527</td>\n",
       "      <td>-0.108363</td>\n",
       "      <td>-0.133167</td>\n",
       "      <td>7.5</td>\n",
       "    </tr>\n",
       "    <tr>\n",
       "      <th>GSM6610752</th>\n",
       "      <td>-0.058396</td>\n",
       "      <td>-0.154137</td>\n",
       "      <td>0.303737</td>\n",
       "      <td>-0.136791</td>\n",
       "      <td>-0.098070</td>\n",
       "      <td>-0.022147</td>\n",
       "      <td>-0.058182</td>\n",
       "      <td>-0.171698</td>\n",
       "      <td>-0.180364</td>\n",
       "      <td>-0.485181</td>\n",
       "      <td>...</td>\n",
       "      <td>-0.067015</td>\n",
       "      <td>3.224430</td>\n",
       "      <td>-0.319751</td>\n",
       "      <td>-0.045089</td>\n",
       "      <td>-0.227785</td>\n",
       "      <td>0.053816</td>\n",
       "      <td>0.075979</td>\n",
       "      <td>-0.108363</td>\n",
       "      <td>-0.133167</td>\n",
       "      <td>19.5</td>\n",
       "    </tr>\n",
       "    <tr>\n",
       "      <th>GSM6610726</th>\n",
       "      <td>0.051729</td>\n",
       "      <td>-0.152073</td>\n",
       "      <td>0.446019</td>\n",
       "      <td>2.480244</td>\n",
       "      <td>-0.098070</td>\n",
       "      <td>0.923370</td>\n",
       "      <td>-0.058182</td>\n",
       "      <td>-0.171698</td>\n",
       "      <td>0.123017</td>\n",
       "      <td>-0.016574</td>\n",
       "      <td>...</td>\n",
       "      <td>-0.226513</td>\n",
       "      <td>0.057596</td>\n",
       "      <td>2.568907</td>\n",
       "      <td>-0.045089</td>\n",
       "      <td>-0.227785</td>\n",
       "      <td>-0.051476</td>\n",
       "      <td>-0.668614</td>\n",
       "      <td>-0.108363</td>\n",
       "      <td>-0.133167</td>\n",
       "      <td>7.5</td>\n",
       "    </tr>\n",
       "    <tr>\n",
       "      <th>GSM6610740</th>\n",
       "      <td>-0.058396</td>\n",
       "      <td>-0.132000</td>\n",
       "      <td>0.319210</td>\n",
       "      <td>-0.136791</td>\n",
       "      <td>-0.098070</td>\n",
       "      <td>-0.334023</td>\n",
       "      <td>-0.058182</td>\n",
       "      <td>-0.171698</td>\n",
       "      <td>-0.470116</td>\n",
       "      <td>-0.485181</td>\n",
       "      <td>...</td>\n",
       "      <td>-0.274104</td>\n",
       "      <td>2.828955</td>\n",
       "      <td>0.710144</td>\n",
       "      <td>-0.045089</td>\n",
       "      <td>-0.227785</td>\n",
       "      <td>-0.521253</td>\n",
       "      <td>0.067711</td>\n",
       "      <td>-0.108363</td>\n",
       "      <td>-0.133167</td>\n",
       "      <td>13.5</td>\n",
       "    </tr>\n",
       "  </tbody>\n",
       "</table>\n",
       "<p>1096 rows × 32905 columns</p>\n",
       "</div>"
      ],
      "text/plain": [
       "Symbol       Gm14820     Flicr   Gm13449    C79798      Nron   Gm13528  \\\n",
       "GSM2046160  0.259269 -0.157117 -0.246090 -0.136791  1.989747 -0.360068   \n",
       "GSM2046184 -0.058396 -0.269264 -0.248887 -0.136791 -0.098070 -0.307829   \n",
       "GSM2046157  0.019232 -0.291584 -0.206713 -0.136791 -0.098070 -0.281764   \n",
       "GSM2046183  0.198919 -0.190655 -0.249412 -0.136791 -0.098070 -0.331724   \n",
       "GSM2046155 -0.058396 -0.231989 -0.077843 -0.136791 -0.098070 -0.394689   \n",
       "...              ...       ...       ...       ...       ...       ...   \n",
       "GSM6610738 -0.058396 -0.188282  0.271110 -0.136791 -0.098070 -0.594739   \n",
       "GSM6610724 -0.058396  0.003074  0.232662 -0.136791 -0.098070  0.441533   \n",
       "GSM6610752 -0.058396 -0.154137  0.303737 -0.136791 -0.098070 -0.022147   \n",
       "GSM6610726  0.051729 -0.152073  0.446019  2.480244 -0.098070  0.923370   \n",
       "GSM6610740 -0.058396 -0.132000  0.319210 -0.136791 -0.098070 -0.334023   \n",
       "\n",
       "Symbol      4930527E20Rik   Gm13402  AA645442   Sardhos  ...      Il33  \\\n",
       "GSM2046160      -0.058182 -0.171698 -0.470116  2.019621  ... -0.495987   \n",
       "GSM2046184      -0.058182 -0.171698 -0.410231  0.846156  ... -0.304115   \n",
       "GSM2046157      -0.058182 -0.171698 -0.470116  1.928629  ... -0.623569   \n",
       "GSM2046183      -0.058182 -0.171698 -0.470116  1.972117  ... -0.857706   \n",
       "GSM2046155      -0.058182 -0.171698 -0.030527  2.861126  ... -0.931528   \n",
       "...                   ...       ...       ...       ...  ...       ...   \n",
       "GSM6610738      -0.058182  5.690522 -0.243579 -0.485181  ... -0.065659   \n",
       "GSM6610724      -0.058182 -0.171698 -0.470116 -0.485181  ... -0.148572   \n",
       "GSM6610752      -0.058182 -0.171698 -0.180364 -0.485181  ... -0.067015   \n",
       "GSM6610726      -0.058182 -0.171698  0.123017 -0.016574  ... -0.226513   \n",
       "GSM6610740      -0.058182 -0.171698 -0.470116 -0.485181  ... -0.274104   \n",
       "\n",
       "Symbol      Pgam1-ps1   Gm10517  Vmn1r-ps84  Rpsa-ps3   Gm14634   Zkscan7  \\\n",
       "GSM2046160   0.179397 -0.319751   -0.045089 -0.227785 -0.340332  0.049125   \n",
       "GSM2046184   0.118501 -0.319751   -0.045089  0.115119 -0.308742 -0.296044   \n",
       "GSM2046157   0.204906  0.920292   -0.045089 -0.227785 -0.810639 -0.042041   \n",
       "GSM2046183  -0.173566  1.447035   -0.045089 -0.227785 -0.653634 -0.104544   \n",
       "GSM2046155   0.792993  1.073994   -0.045089 -0.227785 -0.692702  0.062562   \n",
       "...               ...       ...         ...       ...       ...       ...   \n",
       "GSM6610738   3.965212 -0.319751   -0.045089 -0.227785 -0.437478 -0.531234   \n",
       "GSM6610724   1.865558  0.835159   -0.045089 -0.227785  0.312584 -0.635527   \n",
       "GSM6610752   3.224430 -0.319751   -0.045089 -0.227785  0.053816  0.075979   \n",
       "GSM6610726   0.057596  2.568907   -0.045089 -0.227785 -0.051476 -0.668614   \n",
       "GSM6610740   2.828955  0.710144   -0.045089 -0.227785 -0.521253  0.067711   \n",
       "\n",
       "Symbol         Agbl1    Gm8902  code  \n",
       "GSM2046160 -0.108363 -0.133167  22.0  \n",
       "GSM2046184 -0.108363 -0.133167  22.0  \n",
       "GSM2046157 -0.108363  0.282452  10.0  \n",
       "GSM2046183 -0.108363 -0.133167  18.0  \n",
       "GSM2046155 -0.108363  0.190277   2.0  \n",
       "...              ...       ...   ...  \n",
       "GSM6610738 -0.108363 -0.133167  13.5  \n",
       "GSM6610724 -0.108363 -0.133167   7.5  \n",
       "GSM6610752 -0.108363 -0.133167  19.5  \n",
       "GSM6610726 -0.108363 -0.133167   7.5  \n",
       "GSM6610740 -0.108363 -0.133167  13.5  \n",
       "\n",
       "[1096 rows x 32905 columns]"
      ]
     },
     "execution_count": 25,
     "metadata": {},
     "output_type": "execute_result"
    }
   ],
   "source": [
    "meta_data = pd.read_csv(path/'sample_metadata.txt', sep='\\t', index_col='sample', low_memory=False)\n",
    "more_data['code'] = meta_data['time']\n",
    "more_data"
   ]
  },
  {
   "cell_type": "markdown",
   "metadata": {},
   "source": [
    "In `more_data`, there are duplicate genes, such as '4930594M22Rik'."
   ]
  },
  {
   "cell_type": "code",
   "execution_count": 26,
   "metadata": {},
   "outputs": [
    {
     "data": {
      "text/plain": [
       "27"
      ]
     },
     "execution_count": 26,
     "metadata": {},
     "output_type": "execute_result"
    }
   ],
   "source": [
    "more_data.columns.duplicated().sum()"
   ]
  },
  {
   "cell_type": "code",
   "execution_count": 27,
   "metadata": {},
   "outputs": [],
   "source": [
    "more_data = more_data.loc[:, ~more_data.columns.duplicated(keep='first')]"
   ]
  },
  {
   "cell_type": "code",
   "execution_count": 28,
   "metadata": {},
   "outputs": [
    {
     "data": {
      "text/plain": [
       "0"
      ]
     },
     "execution_count": 28,
     "metadata": {},
     "output_type": "execute_result"
    }
   ],
   "source": [
    "more_data.columns.duplicated().sum()"
   ]
  },
  {
   "cell_type": "markdown",
   "metadata": {},
   "source": [
    "## Changing the testing bulk data"
   ]
  },
  {
   "cell_type": "markdown",
   "metadata": {},
   "source": [
    "We also want the shape of test data to match the shape of our train data."
   ]
  },
  {
   "cell_type": "code",
   "execution_count": 29,
   "metadata": {},
   "outputs": [
    {
     "data": {
      "text/plain": [
       "9335"
      ]
     },
     "execution_count": 29,
     "metadata": {},
     "output_type": "execute_result"
    }
   ],
   "source": [
    "len(intersecting_genes)"
   ]
  },
  {
   "cell_type": "code",
   "execution_count": 30,
   "metadata": {},
   "outputs": [
    {
     "data": {
      "text/plain": [
       "(26068, 9335)"
      ]
     },
     "execution_count": 30,
     "metadata": {},
     "output_type": "execute_result"
    }
   ],
   "source": [
    "bulk.loc[:,intersecting_genes].shape"
   ]
  },
  {
   "cell_type": "code",
   "execution_count": 31,
   "metadata": {},
   "outputs": [],
   "source": [
    "def make_df2(ds):\n",
    "    \"\"\"Assuming the dataset includes all the genes of intersecting_genes\"\"\"\n",
    "    return ds.reindex(columns=intersecting_genes, fill_value=0)"
   ]
  },
  {
   "cell_type": "code",
   "execution_count": 32,
   "metadata": {
    "colab": {
     "base_uri": "https://localhost:8080/"
    },
    "id": "DEL-5qUetOiE",
    "outputId": "cb74e9cc-7ebc-4c91-db02-b8b15e4b9e50"
   },
   "outputs": [],
   "source": [
    "nascent_df = make_df2(nascent)\n",
    "gro_df = make_df2(gro)\n",
    "rna_df = make_df2(bulk_data)\n",
    "more_df = make_df2(more_data)"
   ]
  },
  {
   "cell_type": "markdown",
   "metadata": {
    "id": "95SE_jm6m01h"
   },
   "source": [
    "## Using Pytorch"
   ]
  },
  {
   "cell_type": "code",
   "execution_count": 33,
   "metadata": {
    "id": "N5t4EYXDK05y"
   },
   "outputs": [
    {
     "name": "stderr",
     "output_type": "stream",
     "text": [
      "/tmp/ipykernel_3727/705046130.py:1: FutureWarning: Series.__getitem__ treating keys as positions is deprecated. In a future version, integer keys will always be treated as labels (consistent with DataFrame behavior). To access a value by position, use `ser.iloc[pos]`\n",
      "  t_dep = tensor(df['code'], dtype=torch.float)\n"
     ]
    }
   ],
   "source": [
    "t_dep = tensor(df['code'], dtype=torch.float)\n",
    "indep_cols = list(df.columns)[:-1]\n",
    "t_indep = tensor(df[indep_cols].values, dtype=torch.float32)"
   ]
  },
  {
   "cell_type": "code",
   "execution_count": 34,
   "metadata": {
    "id": "bsmF6bLfKPAn"
   },
   "outputs": [],
   "source": [
    "# from fastai.data.transforms import RandomSplitter\n",
    "def RandomSplitter(valid_pct=0.2, seed=None):\n",
    "    \"Create function that splits `items` between train/val with `valid_pct` randomly.\"\n",
    "    def _inner(o):\n",
    "        if seed is not None: torch.manual_seed(seed)\n",
    "        rand_idx = list(torch.randperm(len(o)).numpy())\n",
    "        cut = int(valid_pct * len(o))\n",
    "        return rand_idx[cut:],rand_idx[:cut]\n",
    "    return _inner\n",
    "trn_split,val_split=RandomSplitter(seed=42)(df)"
   ]
  },
  {
   "cell_type": "code",
   "execution_count": 35,
   "metadata": {
    "id": "sIObZzNvYVZC"
   },
   "outputs": [],
   "source": [
    "trn_indep,val_indep = t_indep[trn_split],t_indep[val_split]\n",
    "trn_dep,val_dep = t_dep[trn_split],t_dep[val_split]"
   ]
  },
  {
   "cell_type": "code",
   "execution_count": 36,
   "metadata": {
    "colab": {
     "base_uri": "https://localhost:8080/"
    },
    "id": "bqjmQJSHOCKe",
    "outputId": "d2d3518a-57c3-4c53-9d9a-f6b1459e0438"
   },
   "outputs": [
    {
     "data": {
      "text/plain": [
       "(torch.Size([20855, 1]), torch.Size([5213, 1]))"
      ]
     },
     "execution_count": 36,
     "metadata": {},
     "output_type": "execute_result"
    }
   ],
   "source": [
    "trn_dep.unsqueeze_(-1), val_dep.unsqueeze_(-1)\n",
    "trn_dep.shape, val_dep.shape"
   ]
  },
  {
   "cell_type": "markdown",
   "metadata": {
    "id": "VYYI0yuJm7vE"
   },
   "source": [
    "### DataLoaders"
   ]
  },
  {
   "cell_type": "markdown",
   "metadata": {
    "id": "LsTRYzzIs3QC"
   },
   "source": [
    "Pretty much the same as the previous approach with bulk data as the test data."
   ]
  },
  {
   "cell_type": "code",
   "execution_count": 37,
   "metadata": {
    "colab": {
     "base_uri": "https://localhost:8080/"
    },
    "id": "3gUxwJiFarno",
    "outputId": "b4541701-6778-4ef4-9327-713926137e49"
   },
   "outputs": [
    {
     "data": {
      "text/plain": [
       "(torch.Size([128, 9334]), torch.Size([128, 1]))"
      ]
     },
     "execution_count": 37,
     "metadata": {},
     "output_type": "execute_result"
    }
   ],
   "source": [
    "bs = 128\n",
    "n_workers = 2\n",
    "\n",
    "trn_dl = DataLoader(list(zip(trn_indep, trn_dep)), batch_size=bs, shuffle=True, num_workers=n_workers)\n",
    "val_dl = DataLoader(list(zip(val_indep, val_dep)), batch_size=bs, shuffle=False, num_workers=n_workers)\n",
    "dls = DataLoaders(trn_dl, val_dl)\n",
    "dt = dls.train\n",
    "xb, yb = next(iter(dt))\n",
    "xb.shape, yb.shape"
   ]
  },
  {
   "cell_type": "code",
   "execution_count": 38,
   "metadata": {
    "id": "TIp5zpV3xzNK"
   },
   "outputs": [],
   "source": [
    "def make_dl(df):\n",
    "    tst_dep = tensor(df['code'], dtype=torch.float)\n",
    "    tst_indep_cols = list(df.columns)[:-1]\n",
    "    tst_indep = tensor(df[tst_indep_cols].values, dtype=torch.float32)\n",
    "    tst_dep.unsqueeze_(-1)\n",
    "    return DataLoader(list(zip(tst_indep, tst_dep)), shuffle=False, num_workers=n_workers)"
   ]
  },
  {
   "cell_type": "code",
   "execution_count": 39,
   "metadata": {
    "id": "CsRKnBzGxP6K"
   },
   "outputs": [
    {
     "name": "stderr",
     "output_type": "stream",
     "text": [
      "/tmp/ipykernel_3727/2507783698.py:2: FutureWarning: Series.__getitem__ treating keys as positions is deprecated. In a future version, integer keys will always be treated as labels (consistent with DataFrame behavior). To access a value by position, use `ser.iloc[pos]`\n",
      "  tst_dep = tensor(df['code'], dtype=torch.float)\n",
      "/tmp/ipykernel_3727/2507783698.py:2: FutureWarning: Series.__getitem__ treating keys as positions is deprecated. In a future version, integer keys will always be treated as labels (consistent with DataFrame behavior). To access a value by position, use `ser.iloc[pos]`\n",
      "  tst_dep = tensor(df['code'], dtype=torch.float)\n",
      "/tmp/ipykernel_3727/2507783698.py:2: FutureWarning: Series.__getitem__ treating keys as positions is deprecated. In a future version, integer keys will always be treated as labels (consistent with DataFrame behavior). To access a value by position, use `ser.iloc[pos]`\n",
      "  tst_dep = tensor(df['code'], dtype=torch.float)\n",
      "/tmp/ipykernel_3727/2507783698.py:2: FutureWarning: Series.__getitem__ treating keys as positions is deprecated. In a future version, integer keys will always be treated as labels (consistent with DataFrame behavior). To access a value by position, use `ser.iloc[pos]`\n",
      "  tst_dep = tensor(df['code'], dtype=torch.float)\n"
     ]
    }
   ],
   "source": [
    "nascent_dl = make_dl(nascent_df)\n",
    "gro_dl = make_dl(gro_df)\n",
    "rna_dl = make_dl(rna_df)\n",
    "more_dl = make_dl(more_df)\n",
    "tst_dls = {'nascent':nascent_dl, 'gro':gro_dl, 'rna':rna_dl, 'more': more_dl}"
   ]
  },
  {
   "cell_type": "markdown",
   "metadata": {
    "id": "YGGPT3pygOsQ"
   },
   "source": [
    "Changing the metric to R2Score."
   ]
  },
  {
   "cell_type": "code",
   "execution_count": 40,
   "metadata": {
    "id": "FxAJhiYGcNyK"
   },
   "outputs": [],
   "source": [
    "from torcheval.metrics import R2Score\n",
    "metrics = MetricsCB(TimeR2Score=TimeR2Score())\n",
    "metric_fn = TimeR2Score\n",
    "# metrics = MetricsCB(R2Score=R2Score())\n",
    "cbs = [DeviceCB(), metrics, ProgressCB(plot=True)]"
   ]
  },
  {
   "cell_type": "markdown",
   "metadata": {
    "id": "B824FVJajS4b"
   },
   "source": [
    "## Training"
   ]
  },
  {
   "cell_type": "code",
   "execution_count": 41,
   "metadata": {
    "id": "r89TZI6CBbHT"
   },
   "outputs": [],
   "source": [
    "def get_model():\n",
    "    return nn.Sequential(*[nn.Linear(len(indep_cols), 100), nn.ReLU(), nn.Linear(100, 100), nn.ReLU(), nn.Linear(100, 1), nn.Flatten(), TimeLayer()])"
   ]
  },
  {
   "cell_type": "markdown",
   "metadata": {
    "id": "KZqZlJ5tutmI"
   },
   "source": [
    "Change the shape of the inputs to match the shape of targets."
   ]
  },
  {
   "cell_type": "code",
   "execution_count": 42,
   "metadata": {
    "colab": {
     "base_uri": "https://localhost:8080/"
    },
    "id": "i48wcPLEuL8f",
    "outputId": "7871903a-3457-45f2-8241-ba9e8b09ee57"
   },
   "outputs": [
    {
     "data": {
      "text/plain": [
       "torch.Size([128, 1])"
      ]
     },
     "execution_count": 42,
     "metadata": {},
     "output_type": "execute_result"
    }
   ],
   "source": [
    "nn.Linear(len(indep_cols), 1)(xb).shape"
   ]
  },
  {
   "cell_type": "code",
   "execution_count": 43,
   "metadata": {
    "colab": {
     "base_uri": "https://localhost:8080/"
    },
    "id": "ejQXo2QNk754",
    "outputId": "9b3cb4bb-dfdd-4d81-bd95-3852d965bf22"
   },
   "outputs": [
    {
     "data": {
      "text/plain": [
       "torch.Size([128, 1])"
      ]
     },
     "execution_count": 43,
     "metadata": {},
     "output_type": "execute_result"
    }
   ],
   "source": [
    "get_model()(xb).shape"
   ]
  },
  {
   "cell_type": "code",
   "execution_count": 44,
   "metadata": {
    "colab": {
     "base_uri": "https://localhost:8080/",
     "height": 479
    },
    "id": "PWHkyOFvCiBR",
    "outputId": "0a2d6e68-00fd-4470-c4a4-190912a009d4"
   },
   "outputs": [
    {
     "data": {
      "text/html": [
       "\n",
       "<style>\n",
       "    /* Turns off some styling */\n",
       "    progress {\n",
       "        /* gets rid of default border in Firefox and Opera. */\n",
       "        border: none;\n",
       "        /* Needs to be in here for Safari polyfill so background images work as expected. */\n",
       "        background-size: auto;\n",
       "    }\n",
       "    progress:not([value]), progress:not([value])::-webkit-progress-bar {\n",
       "        background: repeating-linear-gradient(45deg, #7e7e7e, #7e7e7e 10px, #5c5c5c 10px, #5c5c5c 20px);\n",
       "    }\n",
       "    .progress-bar-interrupted, .progress-bar-interrupted::-webkit-progress-bar {\n",
       "        background: #F44336;\n",
       "    }\n",
       "</style>\n"
      ],
      "text/plain": [
       "<IPython.core.display.HTML object>"
      ]
     },
     "metadata": {},
     "output_type": "display_data"
    },
    {
     "data": {
      "text/html": [
       "\n",
       "    <div>\n",
       "      <progress value='0' class='' max='10' style='width:300px; height:20px; vertical-align: middle;'></progress>\n",
       "      0.00% [0/10 00:00&lt;?]\n",
       "    </div>\n",
       "    \n",
       "\n",
       "\n",
       "    <div>\n",
       "      <progress value='23' class='' max='163' style='width:300px; height:20px; vertical-align: middle;'></progress>\n",
       "      14.11% [23/163 00:00&lt;00:05 28.713]\n",
       "    </div>\n",
       "    "
      ],
      "text/plain": [
       "<IPython.core.display.HTML object>"
      ]
     },
     "metadata": {},
     "output_type": "display_data"
    },
    {
     "data": {
      "image/png": "[encoded data removed]",
      "text/plain": [
       "<Figure size 640x480 with 1 Axes>"
      ]
     },
     "metadata": {},
     "output_type": "display_data"
    }
   ],
   "source": [
    "TrainLearner(get_model(), dls, loss_func=loss_func, cbs=cbs).lr_find()"
   ]
  },
  {
   "cell_type": "code",
   "execution_count": 45,
   "metadata": {
    "colab": {
     "base_uri": "https://localhost:8080/",
     "height": 529
    },
    "id": "fbNcKGZdExG7",
    "outputId": "c4b13488-2eee-46ad-b5fa-cc6108b8b158"
   },
   "outputs": [
    {
     "data": {
      "text/html": [
       "\n",
       "<style>\n",
       "    /* Turns off some styling */\n",
       "    progress {\n",
       "        /* gets rid of default border in Firefox and Opera. */\n",
       "        border: none;\n",
       "        /* Needs to be in here for Safari polyfill so background images work as expected. */\n",
       "        background-size: auto;\n",
       "    }\n",
       "    progress:not([value]), progress:not([value])::-webkit-progress-bar {\n",
       "        background: repeating-linear-gradient(45deg, #7e7e7e, #7e7e7e 10px, #5c5c5c 10px, #5c5c5c 20px);\n",
       "    }\n",
       "    .progress-bar-interrupted, .progress-bar-interrupted::-webkit-progress-bar {\n",
       "        background: #F44336;\n",
       "    }\n",
       "</style>\n"
      ],
      "text/plain": [
       "<IPython.core.display.HTML object>"
      ]
     },
     "metadata": {},
     "output_type": "display_data"
    },
    {
     "data": {
      "text/html": [
       "<table border=\"1\" class=\"dataframe\">\n",
       "  <thead>\n",
       "    <tr style=\"text-align: left;\">\n",
       "      <th>TimeR2Score</th>\n",
       "      <th>loss</th>\n",
       "      <th>epoch</th>\n",
       "      <th>train</th>\n",
       "      <th>time</th>\n",
       "    </tr>\n",
       "  </thead>\n",
       "  <tbody>\n",
       "    <tr>\n",
       "      <td>0.762</td>\n",
       "      <td>10.823</td>\n",
       "      <td>0</td>\n",
       "      <td>True</td>\n",
       "      <td>00:04</td>\n",
       "    </tr>\n",
       "    <tr>\n",
       "      <td>0.856</td>\n",
       "      <td>6.509</td>\n",
       "      <td>0</td>\n",
       "      <td>False</td>\n",
       "      <td>00:01</td>\n",
       "    </tr>\n",
       "    <tr>\n",
       "      <td>0.953</td>\n",
       "      <td>2.067</td>\n",
       "      <td>1</td>\n",
       "      <td>True</td>\n",
       "      <td>00:04</td>\n",
       "    </tr>\n",
       "    <tr>\n",
       "      <td>0.865</td>\n",
       "      <td>6.126</td>\n",
       "      <td>1</td>\n",
       "      <td>False</td>\n",
       "      <td>00:01</td>\n",
       "    </tr>\n",
       "  </tbody>\n",
       "</table>"
      ],
      "text/plain": [
       "<IPython.core.display.HTML object>"
      ]
     },
     "metadata": {},
     "output_type": "display_data"
    },
    {
     "data": {
      "image/png": "[encoded data removed]",
      "text/plain": [
       "<Figure size 600x400 with 1 Axes>"
      ]
     },
     "metadata": {},
     "output_type": "display_data"
    }
   ],
   "source": [
    "lr, epochs = 1e-3, 2\n",
    "xtra = [get_sched(epochs, lr, dls)]\n",
    "learn = TrainLearner(get_model(), dls, lr=lr, loss_func=loss_func, cbs=cbs)\n",
    "learn.fit(epochs)"
   ]
  },
  {
   "cell_type": "markdown",
   "metadata": {
    "id": "U0kFoFqlIcrJ"
   },
   "source": [
    "## Ensemble"
   ]
  },
  {
   "cell_type": "code",
   "execution_count": 46,
   "metadata": {
    "id": "UOVm1kqh-AqM"
   },
   "outputs": [],
   "source": [
    "from functools import partial"
   ]
  },
  {
   "cell_type": "code",
   "execution_count": 47,
   "metadata": {
    "id": "zEmA9aStCEq6"
   },
   "outputs": [],
   "source": [
    "class CapturePreds(Callback):\n",
    "    def before_fit(self, learn): self.all_input, self.all_preds, self.all_targs = [], [], []\n",
    "\n",
    "    def after_batch(self, learn):\n",
    "        self.all_input.append(to_cpu(learn.batch[0]))\n",
    "        self.all_preds.append(to_cpu(learn.preds))\n",
    "        self.all_targs.append(to_cpu(learn.batch[1]))\n",
    "\n",
    "    def after_fit(self, learn):\n",
    "        self.all_input, self.all_preds, self.all_targs = map(torch.cat, [self.all_input, self.all_preds, self.all_targs])"
   ]
  },
  {
   "cell_type": "code",
   "execution_count": 49,
   "metadata": {
    "id": "Oc4A-pyPBbHl"
   },
   "outputs": [],
   "source": [
    "def ensemble_model(nlearn, get_model = get_model, tst_dls=tst_dls, epochs=5, lr=.03, loss_func=loss_func, cbs=cbs, opt_func=optim.SGD, metric_fn=metric_fn):\n",
    "    learners = [TrainLearner(get_model(), dls, lr=lr, loss_func=loss_func, cbs=cbs, opt_func=opt_func) for _ in range(nlearn)]\n",
    "    print('Training models')\n",
    "    for learn in learners:\n",
    "        learn.fit(epochs)\n",
    "    cps = [CapturePreds() for _ in range(nlearn)]\n",
    "    preds = {}\n",
    "    print('Making inference on test data')\n",
    "    for dl_name, tst_dl in tst_dls.items():\n",
    "        for learn, cp in zip(learners, cps):\n",
    "            learn.dls = DataLoaders((), tst_dl)\n",
    "            learn.fit(1, train=False, cbs=cp)\n",
    "        ap = torch.stack([cp.all_preds for cp in cps]).mean(0)\n",
    "        metric = metric_fn()\n",
    "        metric.update(ap, cps[0].all_targs)\n",
    "        print(f'Inference on {dl_name}')\n",
    "        print('\\t\\tpreds, targs')\n",
    "        print(torch.concat([ap, cps[0].all_targs], dim=1))\n",
    "        preds[dl_name] = torch.concat([ap, cps[0].all_targs], dim=1)  # Saving predictions\n",
    "        print('result: ', metric.compute())\n",
    "    return preds"
   ]
  },
  {
   "cell_type": "code",
   "execution_count": 50,
   "metadata": {
    "id": "kTzem5OXBbHn"
   },
   "outputs": [],
   "source": [
    "nlearn = 2"
   ]
  },
  {
   "cell_type": "code",
   "execution_count": 51,
   "metadata": {
    "colab": {
     "base_uri": "https://localhost:8080/",
     "height": 1000
    },
    "id": "Il-N-2kXBbHo",
    "outputId": "5550b676-ed6b-4942-88f0-dde546e72802",
    "scrolled": false
   },
   "outputs": [
    {
     "name": "stdout",
     "output_type": "stream",
     "text": [
      "Training models\n"
     ]
    },
    {
     "data": {
      "text/html": [
       "\n",
       "<style>\n",
       "    /* Turns off some styling */\n",
       "    progress {\n",
       "        /* gets rid of default border in Firefox and Opera. */\n",
       "        border: none;\n",
       "        /* Needs to be in here for Safari polyfill so background images work as expected. */\n",
       "        background-size: auto;\n",
       "    }\n",
       "    progress:not([value]), progress:not([value])::-webkit-progress-bar {\n",
       "        background: repeating-linear-gradient(45deg, #7e7e7e, #7e7e7e 10px, #5c5c5c 10px, #5c5c5c 20px);\n",
       "    }\n",
       "    .progress-bar-interrupted, .progress-bar-interrupted::-webkit-progress-bar {\n",
       "        background: #F44336;\n",
       "    }\n",
       "</style>\n"
      ],
      "text/plain": [
       "<IPython.core.display.HTML object>"
      ]
     },
     "metadata": {},
     "output_type": "display_data"
    },
    {
     "data": {
      "text/html": [
       "<table border=\"1\" class=\"dataframe\">\n",
       "  <thead>\n",
       "    <tr style=\"text-align: left;\">\n",
       "      <th>TimeR2Score</th>\n",
       "      <th>loss</th>\n",
       "      <th>epoch</th>\n",
       "      <th>train</th>\n",
       "      <th>time</th>\n",
       "    </tr>\n",
       "  </thead>\n",
       "  <tbody>\n",
       "    <tr>\n",
       "      <td>0.758</td>\n",
       "      <td>10.967</td>\n",
       "      <td>0</td>\n",
       "      <td>True</td>\n",
       "      <td>00:04</td>\n",
       "    </tr>\n",
       "    <tr>\n",
       "      <td>0.836</td>\n",
       "      <td>7.441</td>\n",
       "      <td>0</td>\n",
       "      <td>False</td>\n",
       "      <td>00:01</td>\n",
       "    </tr>\n",
       "    <tr>\n",
       "      <td>0.953</td>\n",
       "      <td>2.105</td>\n",
       "      <td>1</td>\n",
       "      <td>True</td>\n",
       "      <td>00:04</td>\n",
       "    </tr>\n",
       "    <tr>\n",
       "      <td>0.863</td>\n",
       "      <td>6.187</td>\n",
       "      <td>1</td>\n",
       "      <td>False</td>\n",
       "      <td>00:01</td>\n",
       "    </tr>\n",
       "  </tbody>\n",
       "</table>"
      ],
      "text/plain": [
       "<IPython.core.display.HTML object>"
      ]
     },
     "metadata": {},
     "output_type": "display_data"
    },
    {
     "data": {
      "image/png": "[encoded data removed]",
      "text/plain": [
       "<Figure size 600x400 with 1 Axes>"
      ]
     },
     "metadata": {},
     "output_type": "display_data"
    },
    {
     "data": {
      "text/html": [
       "\n",
       "<style>\n",
       "    /* Turns off some styling */\n",
       "    progress {\n",
       "        /* gets rid of default border in Firefox and Opera. */\n",
       "        border: none;\n",
       "        /* Needs to be in here for Safari polyfill so background images work as expected. */\n",
       "        background-size: auto;\n",
       "    }\n",
       "    progress:not([value]), progress:not([value])::-webkit-progress-bar {\n",
       "        background: repeating-linear-gradient(45deg, #7e7e7e, #7e7e7e 10px, #5c5c5c 10px, #5c5c5c 20px);\n",
       "    }\n",
       "    .progress-bar-interrupted, .progress-bar-interrupted::-webkit-progress-bar {\n",
       "        background: #F44336;\n",
       "    }\n",
       "</style>\n"
      ],
      "text/plain": [
       "<IPython.core.display.HTML object>"
      ]
     },
     "metadata": {},
     "output_type": "display_data"
    },
    {
     "data": {
      "text/html": [
       "<table border=\"1\" class=\"dataframe\">\n",
       "  <thead>\n",
       "    <tr style=\"text-align: left;\">\n",
       "      <th>TimeR2Score</th>\n",
       "      <th>loss</th>\n",
       "      <th>epoch</th>\n",
       "      <th>train</th>\n",
       "      <th>time</th>\n",
       "    </tr>\n",
       "  </thead>\n",
       "  <tbody>\n",
       "    <tr>\n",
       "      <td>0.750</td>\n",
       "      <td>11.260</td>\n",
       "      <td>0</td>\n",
       "      <td>True</td>\n",
       "      <td>00:04</td>\n",
       "    </tr>\n",
       "    <tr>\n",
       "      <td>0.849</td>\n",
       "      <td>6.758</td>\n",
       "      <td>0</td>\n",
       "      <td>False</td>\n",
       "      <td>00:01</td>\n",
       "    </tr>\n",
       "    <tr>\n",
       "      <td>0.951</td>\n",
       "      <td>2.173</td>\n",
       "      <td>1</td>\n",
       "      <td>True</td>\n",
       "      <td>00:03</td>\n",
       "    </tr>\n",
       "    <tr>\n",
       "      <td>0.861</td>\n",
       "      <td>6.348</td>\n",
       "      <td>1</td>\n",
       "      <td>False</td>\n",
       "      <td>00:01</td>\n",
       "    </tr>\n",
       "  </tbody>\n",
       "</table>"
      ],
      "text/plain": [
       "<IPython.core.display.HTML object>"
      ]
     },
     "metadata": {},
     "output_type": "display_data"
    },
    {
     "data": {
      "image/png": "[encoded data removed]",
      "text/plain": [
       "<Figure size 600x400 with 1 Axes>"
      ]
     },
     "metadata": {},
     "output_type": "display_data"
    },
    {
     "name": "stdout",
     "output_type": "stream",
     "text": [
      "Making inference on test data\n"
     ]
    },
    {
     "data": {
      "text/html": [
       "\n",
       "<style>\n",
       "    /* Turns off some styling */\n",
       "    progress {\n",
       "        /* gets rid of default border in Firefox and Opera. */\n",
       "        border: none;\n",
       "        /* Needs to be in here for Safari polyfill so background images work as expected. */\n",
       "        background-size: auto;\n",
       "    }\n",
       "    progress:not([value]), progress:not([value])::-webkit-progress-bar {\n",
       "        background: repeating-linear-gradient(45deg, #7e7e7e, #7e7e7e 10px, #5c5c5c 10px, #5c5c5c 20px);\n",
       "    }\n",
       "    .progress-bar-interrupted, .progress-bar-interrupted::-webkit-progress-bar {\n",
       "        background: #F44336;\n",
       "    }\n",
       "</style>\n"
      ],
      "text/plain": [
       "<IPython.core.display.HTML object>"
      ]
     },
     "metadata": {},
     "output_type": "display_data"
    },
    {
     "data": {
      "text/html": [
       "<table border=\"1\" class=\"dataframe\">\n",
       "  <thead>\n",
       "    <tr style=\"text-align: left;\">\n",
       "      <th>TimeR2Score</th>\n",
       "      <th>loss</th>\n",
       "      <th>epoch</th>\n",
       "      <th>train</th>\n",
       "      <th>time</th>\n",
       "    </tr>\n",
       "  </thead>\n",
       "  <tbody>\n",
       "    <tr>\n",
       "      <td>0.292</td>\n",
       "      <td>62.790</td>\n",
       "      <td>0</td>\n",
       "      <td>False</td>\n",
       "      <td>00:00</td>\n",
       "    </tr>\n",
       "  </tbody>\n",
       "</table>"
      ],
      "text/plain": [
       "<IPython.core.display.HTML object>"
      ]
     },
     "metadata": {},
     "output_type": "display_data"
    },
    {
     "data": {
      "text/html": [
       "\n",
       "<style>\n",
       "    /* Turns off some styling */\n",
       "    progress {\n",
       "        /* gets rid of default border in Firefox and Opera. */\n",
       "        border: none;\n",
       "        /* Needs to be in here for Safari polyfill so background images work as expected. */\n",
       "        background-size: auto;\n",
       "    }\n",
       "    progress:not([value]), progress:not([value])::-webkit-progress-bar {\n",
       "        background: repeating-linear-gradient(45deg, #7e7e7e, #7e7e7e 10px, #5c5c5c 10px, #5c5c5c 20px);\n",
       "    }\n",
       "    .progress-bar-interrupted, .progress-bar-interrupted::-webkit-progress-bar {\n",
       "        background: #F44336;\n",
       "    }\n",
       "</style>\n"
      ],
      "text/plain": [
       "<IPython.core.display.HTML object>"
      ]
     },
     "metadata": {},
     "output_type": "display_data"
    },
    {
     "data": {
      "text/html": [
       "<table border=\"1\" class=\"dataframe\">\n",
       "  <thead>\n",
       "    <tr style=\"text-align: left;\">\n",
       "      <th>TimeR2Score</th>\n",
       "      <th>loss</th>\n",
       "      <th>epoch</th>\n",
       "      <th>train</th>\n",
       "      <th>time</th>\n",
       "    </tr>\n",
       "  </thead>\n",
       "  <tbody>\n",
       "    <tr>\n",
       "      <td>0.452</td>\n",
       "      <td>61.259</td>\n",
       "      <td>0</td>\n",
       "      <td>False</td>\n",
       "      <td>00:00</td>\n",
       "    </tr>\n",
       "  </tbody>\n",
       "</table>"
      ],
      "text/plain": [
       "<IPython.core.display.HTML object>"
      ]
     },
     "metadata": {},
     "output_type": "display_data"
    },
    {
     "name": "stdout",
     "output_type": "stream",
     "text": [
      "Inference on nascent\n",
      "\t\tpreds, targs\n",
      "tensor([[19.2249,  0.0000],\n",
      "        [ 2.5159,  4.0000],\n",
      "        [ 9.9577,  8.0000],\n",
      "        [ 4.6709, 12.0000],\n",
      "        [11.4498, 16.0000],\n",
      "        [24.1204, 20.0000],\n",
      "        [ 1.5879,  0.0000],\n",
      "        [-0.4832,  4.0000],\n",
      "        [20.9573,  8.0000],\n",
      "        [ 9.6849, 12.0000],\n",
      "        [23.4249, 16.0000],\n",
      "        [24.7769, 20.0000]])\n",
      "result:  tensor(0.3784)\n"
     ]
    },
    {
     "data": {
      "text/html": [
       "\n",
       "<style>\n",
       "    /* Turns off some styling */\n",
       "    progress {\n",
       "        /* gets rid of default border in Firefox and Opera. */\n",
       "        border: none;\n",
       "        /* Needs to be in here for Safari polyfill so background images work as expected. */\n",
       "        background-size: auto;\n",
       "    }\n",
       "    progress:not([value]), progress:not([value])::-webkit-progress-bar {\n",
       "        background: repeating-linear-gradient(45deg, #7e7e7e, #7e7e7e 10px, #5c5c5c 10px, #5c5c5c 20px);\n",
       "    }\n",
       "    .progress-bar-interrupted, .progress-bar-interrupted::-webkit-progress-bar {\n",
       "        background: #F44336;\n",
       "    }\n",
       "</style>\n"
      ],
      "text/plain": [
       "<IPython.core.display.HTML object>"
      ]
     },
     "metadata": {},
     "output_type": "display_data"
    },
    {
     "data": {
      "text/html": [
       "<table border=\"1\" class=\"dataframe\">\n",
       "  <thead>\n",
       "    <tr style=\"text-align: left;\">\n",
       "      <th>TimeR2Score</th>\n",
       "      <th>loss</th>\n",
       "      <th>epoch</th>\n",
       "      <th>train</th>\n",
       "      <th>time</th>\n",
       "    </tr>\n",
       "  </thead>\n",
       "  <tbody>\n",
       "    <tr>\n",
       "      <td>0.576</td>\n",
       "      <td>30.199</td>\n",
       "      <td>0</td>\n",
       "      <td>False</td>\n",
       "      <td>00:00</td>\n",
       "    </tr>\n",
       "  </tbody>\n",
       "</table>"
      ],
      "text/plain": [
       "<IPython.core.display.HTML object>"
      ]
     },
     "metadata": {},
     "output_type": "display_data"
    },
    {
     "data": {
      "text/html": [
       "\n",
       "<style>\n",
       "    /* Turns off some styling */\n",
       "    progress {\n",
       "        /* gets rid of default border in Firefox and Opera. */\n",
       "        border: none;\n",
       "        /* Needs to be in here for Safari polyfill so background images work as expected. */\n",
       "        background-size: auto;\n",
       "    }\n",
       "    progress:not([value]), progress:not([value])::-webkit-progress-bar {\n",
       "        background: repeating-linear-gradient(45deg, #7e7e7e, #7e7e7e 10px, #5c5c5c 10px, #5c5c5c 20px);\n",
       "    }\n",
       "    .progress-bar-interrupted, .progress-bar-interrupted::-webkit-progress-bar {\n",
       "        background: #F44336;\n",
       "    }\n",
       "</style>\n"
      ],
      "text/plain": [
       "<IPython.core.display.HTML object>"
      ]
     },
     "metadata": {},
     "output_type": "display_data"
    },
    {
     "data": {
      "text/html": [
       "<table border=\"1\" class=\"dataframe\">\n",
       "  <thead>\n",
       "    <tr style=\"text-align: left;\">\n",
       "      <th>TimeR2Score</th>\n",
       "      <th>loss</th>\n",
       "      <th>epoch</th>\n",
       "      <th>train</th>\n",
       "      <th>time</th>\n",
       "    </tr>\n",
       "  </thead>\n",
       "  <tbody>\n",
       "    <tr>\n",
       "      <td>0.571</td>\n",
       "      <td>36.141</td>\n",
       "      <td>0</td>\n",
       "      <td>False</td>\n",
       "      <td>00:00</td>\n",
       "    </tr>\n",
       "  </tbody>\n",
       "</table>"
      ],
      "text/plain": [
       "<IPython.core.display.HTML object>"
      ]
     },
     "metadata": {},
     "output_type": "display_data"
    },
    {
     "name": "stdout",
     "output_type": "stream",
     "text": [
      "Inference on gro\n",
      "\t\tpreds, targs\n",
      "tensor([[ 3.7052,  1.0000],\n",
      "        [ 3.6259,  4.0000],\n",
      "        [ 4.3166,  7.0000],\n",
      "        [ 9.0562, 10.0000],\n",
      "        [16.6952, 13.0000],\n",
      "        [ 1.8281, 16.0000],\n",
      "        [24.2131, 19.0000],\n",
      "        [24.2203, 22.0000]])\n",
      "result:  tensor(0.5823)\n"
     ]
    },
    {
     "data": {
      "text/html": [
       "\n",
       "<style>\n",
       "    /* Turns off some styling */\n",
       "    progress {\n",
       "        /* gets rid of default border in Firefox and Opera. */\n",
       "        border: none;\n",
       "        /* Needs to be in here for Safari polyfill so background images work as expected. */\n",
       "        background-size: auto;\n",
       "    }\n",
       "    progress:not([value]), progress:not([value])::-webkit-progress-bar {\n",
       "        background: repeating-linear-gradient(45deg, #7e7e7e, #7e7e7e 10px, #5c5c5c 10px, #5c5c5c 20px);\n",
       "    }\n",
       "    .progress-bar-interrupted, .progress-bar-interrupted::-webkit-progress-bar {\n",
       "        background: #F44336;\n",
       "    }\n",
       "</style>\n"
      ],
      "text/plain": [
       "<IPython.core.display.HTML object>"
      ]
     },
     "metadata": {},
     "output_type": "display_data"
    },
    {
     "data": {
      "text/html": [
       "<table border=\"1\" class=\"dataframe\">\n",
       "  <thead>\n",
       "    <tr style=\"text-align: left;\">\n",
       "      <th>TimeR2Score</th>\n",
       "      <th>loss</th>\n",
       "      <th>epoch</th>\n",
       "      <th>train</th>\n",
       "      <th>time</th>\n",
       "    </tr>\n",
       "  </thead>\n",
       "  <tbody>\n",
       "    <tr>\n",
       "      <td>0.630</td>\n",
       "      <td>34.303</td>\n",
       "      <td>0</td>\n",
       "      <td>False</td>\n",
       "      <td>00:00</td>\n",
       "    </tr>\n",
       "  </tbody>\n",
       "</table>"
      ],
      "text/plain": [
       "<IPython.core.display.HTML object>"
      ]
     },
     "metadata": {},
     "output_type": "display_data"
    },
    {
     "data": {
      "text/html": [
       "\n",
       "<style>\n",
       "    /* Turns off some styling */\n",
       "    progress {\n",
       "        /* gets rid of default border in Firefox and Opera. */\n",
       "        border: none;\n",
       "        /* Needs to be in here for Safari polyfill so background images work as expected. */\n",
       "        background-size: auto;\n",
       "    }\n",
       "    progress:not([value]), progress:not([value])::-webkit-progress-bar {\n",
       "        background: repeating-linear-gradient(45deg, #7e7e7e, #7e7e7e 10px, #5c5c5c 10px, #5c5c5c 20px);\n",
       "    }\n",
       "    .progress-bar-interrupted, .progress-bar-interrupted::-webkit-progress-bar {\n",
       "        background: #F44336;\n",
       "    }\n",
       "</style>\n"
      ],
      "text/plain": [
       "<IPython.core.display.HTML object>"
      ]
     },
     "metadata": {},
     "output_type": "display_data"
    },
    {
     "data": {
      "text/html": [
       "<table border=\"1\" class=\"dataframe\">\n",
       "  <thead>\n",
       "    <tr style=\"text-align: left;\">\n",
       "      <th>TimeR2Score</th>\n",
       "      <th>loss</th>\n",
       "      <th>epoch</th>\n",
       "      <th>train</th>\n",
       "      <th>time</th>\n",
       "    </tr>\n",
       "  </thead>\n",
       "  <tbody>\n",
       "    <tr>\n",
       "      <td>0.501</td>\n",
       "      <td>34.379</td>\n",
       "      <td>0</td>\n",
       "      <td>False</td>\n",
       "      <td>00:00</td>\n",
       "    </tr>\n",
       "  </tbody>\n",
       "</table>"
      ],
      "text/plain": [
       "<IPython.core.display.HTML object>"
      ]
     },
     "metadata": {},
     "output_type": "display_data"
    },
    {
     "name": "stdout",
     "output_type": "stream",
     "text": [
      "Inference on rna\n",
      "\t\tpreds, targs\n",
      "tensor([[ 9.1835,  2.0000],\n",
      "        [ 4.7290,  6.0000],\n",
      "        [ 8.7908, 10.0000],\n",
      "        [14.6666, 14.0000],\n",
      "        [24.3080, 18.0000],\n",
      "        [24.2432, 22.0000],\n",
      "        [ 3.2534,  2.0000],\n",
      "        [ 9.0388,  6.0000],\n",
      "        [ 9.9469, 10.0000],\n",
      "        [10.7773, 14.0000],\n",
      "        [11.1705, 18.0000],\n",
      "        [ 6.4824, 22.0000]])\n",
      "result:  tensor(0.5719)\n"
     ]
    },
    {
     "data": {
      "text/html": [
       "\n",
       "<style>\n",
       "    /* Turns off some styling */\n",
       "    progress {\n",
       "        /* gets rid of default border in Firefox and Opera. */\n",
       "        border: none;\n",
       "        /* Needs to be in here for Safari polyfill so background images work as expected. */\n",
       "        background-size: auto;\n",
       "    }\n",
       "    progress:not([value]), progress:not([value])::-webkit-progress-bar {\n",
       "        background: repeating-linear-gradient(45deg, #7e7e7e, #7e7e7e 10px, #5c5c5c 10px, #5c5c5c 20px);\n",
       "    }\n",
       "    .progress-bar-interrupted, .progress-bar-interrupted::-webkit-progress-bar {\n",
       "        background: #F44336;\n",
       "    }\n",
       "</style>\n"
      ],
      "text/plain": [
       "<IPython.core.display.HTML object>"
      ]
     },
     "metadata": {},
     "output_type": "display_data"
    },
    {
     "data": {
      "text/html": [
       "<table border=\"1\" class=\"dataframe\">\n",
       "  <thead>\n",
       "    <tr style=\"text-align: left;\">\n",
       "      <th>TimeR2Score</th>\n",
       "      <th>loss</th>\n",
       "      <th>epoch</th>\n",
       "      <th>train</th>\n",
       "      <th>time</th>\n",
       "    </tr>\n",
       "  </thead>\n",
       "  <tbody>\n",
       "    <tr>\n",
       "      <td>0.691</td>\n",
       "      <td>153.908</td>\n",
       "      <td>0</td>\n",
       "      <td>False</td>\n",
       "      <td>00:03</td>\n",
       "    </tr>\n",
       "  </tbody>\n",
       "</table>"
      ],
      "text/plain": [
       "<IPython.core.display.HTML object>"
      ]
     },
     "metadata": {},
     "output_type": "display_data"
    },
    {
     "data": {
      "text/html": [
       "\n",
       "<style>\n",
       "    /* Turns off some styling */\n",
       "    progress {\n",
       "        /* gets rid of default border in Firefox and Opera. */\n",
       "        border: none;\n",
       "        /* Needs to be in here for Safari polyfill so background images work as expected. */\n",
       "        background-size: auto;\n",
       "    }\n",
       "    progress:not([value]), progress:not([value])::-webkit-progress-bar {\n",
       "        background: repeating-linear-gradient(45deg, #7e7e7e, #7e7e7e 10px, #5c5c5c 10px, #5c5c5c 20px);\n",
       "    }\n",
       "    .progress-bar-interrupted, .progress-bar-interrupted::-webkit-progress-bar {\n",
       "        background: #F44336;\n",
       "    }\n",
       "</style>\n"
      ],
      "text/plain": [
       "<IPython.core.display.HTML object>"
      ]
     },
     "metadata": {},
     "output_type": "display_data"
    },
    {
     "data": {
      "text/html": [
       "<table border=\"1\" class=\"dataframe\">\n",
       "  <thead>\n",
       "    <tr style=\"text-align: left;\">\n",
       "      <th>TimeR2Score</th>\n",
       "      <th>loss</th>\n",
       "      <th>epoch</th>\n",
       "      <th>train</th>\n",
       "      <th>time</th>\n",
       "    </tr>\n",
       "  </thead>\n",
       "  <tbody>\n",
       "    <tr>\n",
       "      <td>0.700</td>\n",
       "      <td>151.495</td>\n",
       "      <td>0</td>\n",
       "      <td>False</td>\n",
       "      <td>00:03</td>\n",
       "    </tr>\n",
       "  </tbody>\n",
       "</table>"
      ],
      "text/plain": [
       "<IPython.core.display.HTML object>"
      ]
     },
     "metadata": {},
     "output_type": "display_data"
    },
    {
     "name": "stdout",
     "output_type": "stream",
     "text": [
      "Inference on more\n",
      "\t\tpreds, targs\n",
      "tensor([[ 5.5454, 22.0000],\n",
      "        [ 5.0622, 22.0000],\n",
      "        [ 8.1108, 10.0000],\n",
      "        ...,\n",
      "        [23.8817, 19.5000],\n",
      "        [11.5293,  7.5000],\n",
      "        [17.0117, 13.5000]])\n",
      "result:  tensor(0.6961)\n"
     ]
    }
   ],
   "source": [
    "preds = ensemble_model(nlearn, epochs=2, cbs=cbs, lr=1e-3, loss_func=loss_func)"
   ]
  },
  {
   "cell_type": "code",
   "execution_count": 54,
   "metadata": {},
   "outputs": [
    {
     "data": {
      "text/plain": [
       "tensor([[ 5.5454, 22.0000],\n",
       "        [ 5.0622, 22.0000],\n",
       "        [ 8.1108, 10.0000],\n",
       "        ...,\n",
       "        [23.8817, 19.5000],\n",
       "        [11.5293,  7.5000],\n",
       "        [17.0117, 13.5000]])"
      ]
     },
     "execution_count": 54,
     "metadata": {},
     "output_type": "execute_result"
    }
   ],
   "source": [
    "preds['more']"
   ]
  },
  {
   "cell_type": "code",
   "execution_count": 55,
   "metadata": {},
   "outputs": [],
   "source": [
    "plot_func??"
   ]
  },
  {
   "cell_type": "code",
   "execution_count": 58,
   "metadata": {},
   "outputs": [
    {
     "data": {
      "text/plain": [
       "tensor([ 5.5454,  5.0622,  8.1108,  ..., 23.8817, 11.5293, 17.0117])"
      ]
     },
     "execution_count": 58,
     "metadata": {},
     "output_type": "execute_result"
    }
   ],
   "source": [
    "preds['more'][:,0]"
   ]
  },
  {
   "cell_type": "code",
   "execution_count": 60,
   "metadata": {},
   "outputs": [],
   "source": [
    "from matplotlib import pyplot as plt"
   ]
  },
  {
   "cell_type": "code",
   "execution_count": 62,
   "metadata": {},
   "outputs": [
    {
     "data": {
      "text/plain": [
       "<matplotlib.collections.PathCollection at 0x77f289ac1900>"
      ]
     },
     "execution_count": 62,
     "metadata": {},
     "output_type": "execute_result"
    },
    {
     "data": {
      "image/png": "[encoded data removed]",
      "text/plain": [
       "<Figure size 640x480 with 1 Axes>"
      ]
     },
     "metadata": {},
     "output_type": "display_data"
    }
   ],
   "source": [
    "plt.scatter(preds['more'][:,0], preds['more'][:,1])"
   ]
  },
  {
   "cell_type": "code",
   "execution_count": 161,
   "metadata": {
    "id": "4QR8cVEtrneA"
   },
   "outputs": [],
   "source": [
    "def init_params(m, leaky=0.):\n",
    "    if isinstance(m, (nn.Linear, nn.Conv2d)): init.kaiming_normal_(m.weight, a=leaky)"
   ]
  },
  {
   "cell_type": "markdown",
   "metadata": {
    "id": "j5ZscnetBbIG"
   },
   "source": [
    "## Batchnorm"
   ]
  },
  {
   "cell_type": "code",
   "execution_count": 162,
   "metadata": {
    "id": "IbV9XYaDBbII"
   },
   "outputs": [],
   "source": [
    "def get_model():\n",
    "    return nn.Sequential(*[\n",
    "    nn.Linear(len(indep_cols), 100),\n",
    "    nn.BatchNorm1d(100),\n",
    "    nn.ReLU(),\n",
    "    nn.Dropout(.2),\n",
    "    nn.Linear(100, 100),\n",
    "    nn.BatchNorm1d(100),\n",
    "    nn.ReLU(),\n",
    "    nn.Dropout(.2),\n",
    "    nn.Linear(100, 1),\n",
    "    nn.BatchNorm1d(1),\n",
    "    TimeLayer()\n",
    "]).apply(init_params)"
   ]
  },
  {
   "cell_type": "code",
   "execution_count": 163,
   "metadata": {
    "colab": {
     "base_uri": "https://localhost:8080/",
     "height": 434
    },
    "id": "eZAJw5fkBbII",
    "outputId": "022d491e-4d23-45ef-f268-826aa374147b"
   },
   "outputs": [
    {
     "data": {
      "image/png": "[encoded data removed]",
      "text/plain": [
       "<Figure size 640x480 with 1 Axes>"
      ]
     },
     "metadata": {},
     "output_type": "display_data"
    }
   ],
   "source": [
    "TrainLearner(get_model(), dls, loss_func, cbs=DeviceCB()).lr_find()"
   ]
  },
  {
   "cell_type": "code",
   "execution_count": 164,
   "metadata": {
    "colab": {
     "base_uri": "https://localhost:8080/",
     "height": 1000
    },
    "id": "NRqUDZFmcp_U",
    "outputId": "76162572-2f16-414f-fa6f-522c0ec6f300",
    "scrolled": false
   },
   "outputs": [
    {
     "name": "stdout",
     "output_type": "stream",
     "text": [
      "Training models\n"
     ]
    },
    {
     "data": {
      "text/html": [
       "\n",
       "<style>\n",
       "    /* Turns off some styling */\n",
       "    progress {\n",
       "        /* gets rid of default border in Firefox and Opera. */\n",
       "        border: none;\n",
       "        /* Needs to be in here for Safari polyfill so background images work as expected. */\n",
       "        background-size: auto;\n",
       "    }\n",
       "    progress:not([value]), progress:not([value])::-webkit-progress-bar {\n",
       "        background: repeating-linear-gradient(45deg, #7e7e7e, #7e7e7e 10px, #5c5c5c 10px, #5c5c5c 20px);\n",
       "    }\n",
       "    .progress-bar-interrupted, .progress-bar-interrupted::-webkit-progress-bar {\n",
       "        background: #F44336;\n",
       "    }\n",
       "</style>\n"
      ],
      "text/plain": [
       "<IPython.core.display.HTML object>"
      ]
     },
     "metadata": {},
     "output_type": "display_data"
    },
    {
     "data": {
      "text/html": [
       "<table border=\"1\" class=\"dataframe\">\n",
       "  <thead>\n",
       "    <tr style=\"text-align: left;\">\n",
       "      <th>TimeR2Score</th>\n",
       "      <th>loss</th>\n",
       "      <th>epoch</th>\n",
       "      <th>train</th>\n",
       "      <th>time</th>\n",
       "    </tr>\n",
       "  </thead>\n",
       "  <tbody>\n",
       "    <tr>\n",
       "      <td>0.770</td>\n",
       "      <td>11.016</td>\n",
       "      <td>0</td>\n",
       "      <td>True</td>\n",
       "      <td>00:01</td>\n",
       "    </tr>\n",
       "    <tr>\n",
       "      <td>0.831</td>\n",
       "      <td>8.327</td>\n",
       "      <td>0</td>\n",
       "      <td>False</td>\n",
       "      <td>00:00</td>\n",
       "    </tr>\n",
       "    <tr>\n",
       "      <td>0.874</td>\n",
       "      <td>5.782</td>\n",
       "      <td>1</td>\n",
       "      <td>True</td>\n",
       "      <td>00:01</td>\n",
       "    </tr>\n",
       "    <tr>\n",
       "      <td>0.845</td>\n",
       "      <td>7.157</td>\n",
       "      <td>1</td>\n",
       "      <td>False</td>\n",
       "      <td>00:00</td>\n",
       "    </tr>\n",
       "    <tr>\n",
       "      <td>0.926</td>\n",
       "      <td>3.305</td>\n",
       "      <td>2</td>\n",
       "      <td>True</td>\n",
       "      <td>00:01</td>\n",
       "    </tr>\n",
       "    <tr>\n",
       "      <td>0.878</td>\n",
       "      <td>5.648</td>\n",
       "      <td>2</td>\n",
       "      <td>False</td>\n",
       "      <td>00:00</td>\n",
       "    </tr>\n",
       "    <tr>\n",
       "      <td>0.959</td>\n",
       "      <td>1.842</td>\n",
       "      <td>3</td>\n",
       "      <td>True</td>\n",
       "      <td>00:01</td>\n",
       "    </tr>\n",
       "    <tr>\n",
       "      <td>0.887</td>\n",
       "      <td>5.281</td>\n",
       "      <td>3</td>\n",
       "      <td>False</td>\n",
       "      <td>00:00</td>\n",
       "    </tr>\n",
       "  </tbody>\n",
       "</table>"
      ],
      "text/plain": [
       "<IPython.core.display.HTML object>"
      ]
     },
     "metadata": {},
     "output_type": "display_data"
    },
    {
     "data": {
      "image/png": "[encoded data removed]",
      "text/plain": [
       "<Figure size 600x400 with 1 Axes>"
      ]
     },
     "metadata": {},
     "output_type": "display_data"
    },
    {
     "data": {
      "text/html": [
       "\n",
       "<style>\n",
       "    /* Turns off some styling */\n",
       "    progress {\n",
       "        /* gets rid of default border in Firefox and Opera. */\n",
       "        border: none;\n",
       "        /* Needs to be in here for Safari polyfill so background images work as expected. */\n",
       "        background-size: auto;\n",
       "    }\n",
       "    progress:not([value]), progress:not([value])::-webkit-progress-bar {\n",
       "        background: repeating-linear-gradient(45deg, #7e7e7e, #7e7e7e 10px, #5c5c5c 10px, #5c5c5c 20px);\n",
       "    }\n",
       "    .progress-bar-interrupted, .progress-bar-interrupted::-webkit-progress-bar {\n",
       "        background: #F44336;\n",
       "    }\n",
       "</style>\n"
      ],
      "text/plain": [
       "<IPython.core.display.HTML object>"
      ]
     },
     "metadata": {},
     "output_type": "display_data"
    },
    {
     "data": {
      "text/html": [
       "<table border=\"1\" class=\"dataframe\">\n",
       "  <thead>\n",
       "    <tr style=\"text-align: left;\">\n",
       "      <th>TimeR2Score</th>\n",
       "      <th>loss</th>\n",
       "      <th>epoch</th>\n",
       "      <th>train</th>\n",
       "      <th>time</th>\n",
       "    </tr>\n",
       "  </thead>\n",
       "  <tbody>\n",
       "    <tr>\n",
       "      <td>0.774</td>\n",
       "      <td>10.685</td>\n",
       "      <td>0</td>\n",
       "      <td>True</td>\n",
       "      <td>00:01</td>\n",
       "    </tr>\n",
       "    <tr>\n",
       "      <td>0.797</td>\n",
       "      <td>10.272</td>\n",
       "      <td>0</td>\n",
       "      <td>False</td>\n",
       "      <td>00:00</td>\n",
       "    </tr>\n",
       "    <tr>\n",
       "      <td>0.871</td>\n",
       "      <td>5.875</td>\n",
       "      <td>1</td>\n",
       "      <td>True</td>\n",
       "      <td>00:01</td>\n",
       "    </tr>\n",
       "    <tr>\n",
       "      <td>0.865</td>\n",
       "      <td>6.398</td>\n",
       "      <td>1</td>\n",
       "      <td>False</td>\n",
       "      <td>00:00</td>\n",
       "    </tr>\n",
       "    <tr>\n",
       "      <td>0.925</td>\n",
       "      <td>3.347</td>\n",
       "      <td>2</td>\n",
       "      <td>True</td>\n",
       "      <td>00:01</td>\n",
       "    </tr>\n",
       "    <tr>\n",
       "      <td>0.880</td>\n",
       "      <td>5.651</td>\n",
       "      <td>2</td>\n",
       "      <td>False</td>\n",
       "      <td>00:00</td>\n",
       "    </tr>\n",
       "    <tr>\n",
       "      <td>0.961</td>\n",
       "      <td>1.754</td>\n",
       "      <td>3</td>\n",
       "      <td>True</td>\n",
       "      <td>00:01</td>\n",
       "    </tr>\n",
       "    <tr>\n",
       "      <td>0.886</td>\n",
       "      <td>5.303</td>\n",
       "      <td>3</td>\n",
       "      <td>False</td>\n",
       "      <td>00:00</td>\n",
       "    </tr>\n",
       "  </tbody>\n",
       "</table>"
      ],
      "text/plain": [
       "<IPython.core.display.HTML object>"
      ]
     },
     "metadata": {},
     "output_type": "display_data"
    },
    {
     "data": {
      "image/png": "[encoded data removed]",
      "text/plain": [
       "<Figure size 600x400 with 1 Axes>"
      ]
     },
     "metadata": {},
     "output_type": "display_data"
    },
    {
     "name": "stdout",
     "output_type": "stream",
     "text": [
      "Making inference on test data\n"
     ]
    },
    {
     "data": {
      "text/html": [
       "\n",
       "<style>\n",
       "    /* Turns off some styling */\n",
       "    progress {\n",
       "        /* gets rid of default border in Firefox and Opera. */\n",
       "        border: none;\n",
       "        /* Needs to be in here for Safari polyfill so background images work as expected. */\n",
       "        background-size: auto;\n",
       "    }\n",
       "    progress:not([value]), progress:not([value])::-webkit-progress-bar {\n",
       "        background: repeating-linear-gradient(45deg, #7e7e7e, #7e7e7e 10px, #5c5c5c 10px, #5c5c5c 20px);\n",
       "    }\n",
       "    .progress-bar-interrupted, .progress-bar-interrupted::-webkit-progress-bar {\n",
       "        background: #F44336;\n",
       "    }\n",
       "</style>\n"
      ],
      "text/plain": [
       "<IPython.core.display.HTML object>"
      ]
     },
     "metadata": {},
     "output_type": "display_data"
    },
    {
     "data": {
      "text/html": [
       "<table border=\"1\" class=\"dataframe\">\n",
       "  <thead>\n",
       "    <tr style=\"text-align: left;\">\n",
       "      <th>TimeR2Score</th>\n",
       "      <th>loss</th>\n",
       "      <th>epoch</th>\n",
       "      <th>train</th>\n",
       "      <th>time</th>\n",
       "    </tr>\n",
       "  </thead>\n",
       "  <tbody>\n",
       "    <tr>\n",
       "      <td>0.610</td>\n",
       "      <td>31.420</td>\n",
       "      <td>0</td>\n",
       "      <td>False</td>\n",
       "      <td>00:00</td>\n",
       "    </tr>\n",
       "  </tbody>\n",
       "</table>"
      ],
      "text/plain": [
       "<IPython.core.display.HTML object>"
      ]
     },
     "metadata": {},
     "output_type": "display_data"
    },
    {
     "data": {
      "text/html": [
       "\n",
       "<style>\n",
       "    /* Turns off some styling */\n",
       "    progress {\n",
       "        /* gets rid of default border in Firefox and Opera. */\n",
       "        border: none;\n",
       "        /* Needs to be in here for Safari polyfill so background images work as expected. */\n",
       "        background-size: auto;\n",
       "    }\n",
       "    progress:not([value]), progress:not([value])::-webkit-progress-bar {\n",
       "        background: repeating-linear-gradient(45deg, #7e7e7e, #7e7e7e 10px, #5c5c5c 10px, #5c5c5c 20px);\n",
       "    }\n",
       "    .progress-bar-interrupted, .progress-bar-interrupted::-webkit-progress-bar {\n",
       "        background: #F44336;\n",
       "    }\n",
       "</style>\n"
      ],
      "text/plain": [
       "<IPython.core.display.HTML object>"
      ]
     },
     "metadata": {},
     "output_type": "display_data"
    },
    {
     "data": {
      "text/html": [
       "<table border=\"1\" class=\"dataframe\">\n",
       "  <thead>\n",
       "    <tr style=\"text-align: left;\">\n",
       "      <th>TimeR2Score</th>\n",
       "      <th>loss</th>\n",
       "      <th>epoch</th>\n",
       "      <th>train</th>\n",
       "      <th>time</th>\n",
       "    </tr>\n",
       "  </thead>\n",
       "  <tbody>\n",
       "    <tr>\n",
       "      <td>0.678</td>\n",
       "      <td>28.698</td>\n",
       "      <td>0</td>\n",
       "      <td>False</td>\n",
       "      <td>00:00</td>\n",
       "    </tr>\n",
       "  </tbody>\n",
       "</table>"
      ],
      "text/plain": [
       "<IPython.core.display.HTML object>"
      ]
     },
     "metadata": {},
     "output_type": "display_data"
    },
    {
     "name": "stdout",
     "output_type": "stream",
     "text": [
      "Inference on nascent\n",
      "\t\tpreds, targs\n",
      "tensor([[15.3620,  0.0000],\n",
      "        [ 3.3548,  4.0000],\n",
      "        [ 9.4621,  8.0000],\n",
      "        [ 6.0242, 12.0000],\n",
      "        [13.1758, 16.0000],\n",
      "        [21.9137, 20.0000],\n",
      "        [ 1.0895,  0.0000],\n",
      "        [ 1.9683,  4.0000],\n",
      "        [12.4448,  8.0000],\n",
      "        [ 8.5973, 12.0000],\n",
      "        [21.2045, 16.0000],\n",
      "        [22.7759, 20.0000]])\n",
      "result:  tensor(0.6501)\n"
     ]
    },
    {
     "data": {
      "text/html": [
       "\n",
       "<style>\n",
       "    /* Turns off some styling */\n",
       "    progress {\n",
       "        /* gets rid of default border in Firefox and Opera. */\n",
       "        border: none;\n",
       "        /* Needs to be in here for Safari polyfill so background images work as expected. */\n",
       "        background-size: auto;\n",
       "    }\n",
       "    progress:not([value]), progress:not([value])::-webkit-progress-bar {\n",
       "        background: repeating-linear-gradient(45deg, #7e7e7e, #7e7e7e 10px, #5c5c5c 10px, #5c5c5c 20px);\n",
       "    }\n",
       "    .progress-bar-interrupted, .progress-bar-interrupted::-webkit-progress-bar {\n",
       "        background: #F44336;\n",
       "    }\n",
       "</style>\n"
      ],
      "text/plain": [
       "<IPython.core.display.HTML object>"
      ]
     },
     "metadata": {},
     "output_type": "display_data"
    },
    {
     "data": {
      "text/html": [
       "<table border=\"1\" class=\"dataframe\">\n",
       "  <thead>\n",
       "    <tr style=\"text-align: left;\">\n",
       "      <th>TimeR2Score</th>\n",
       "      <th>loss</th>\n",
       "      <th>epoch</th>\n",
       "      <th>train</th>\n",
       "      <th>time</th>\n",
       "    </tr>\n",
       "  </thead>\n",
       "  <tbody>\n",
       "    <tr>\n",
       "      <td>0.417</td>\n",
       "      <td>28.348</td>\n",
       "      <td>0</td>\n",
       "      <td>False</td>\n",
       "      <td>00:00</td>\n",
       "    </tr>\n",
       "  </tbody>\n",
       "</table>"
      ],
      "text/plain": [
       "<IPython.core.display.HTML object>"
      ]
     },
     "metadata": {},
     "output_type": "display_data"
    },
    {
     "data": {
      "text/html": [
       "\n",
       "<style>\n",
       "    /* Turns off some styling */\n",
       "    progress {\n",
       "        /* gets rid of default border in Firefox and Opera. */\n",
       "        border: none;\n",
       "        /* Needs to be in here for Safari polyfill so background images work as expected. */\n",
       "        background-size: auto;\n",
       "    }\n",
       "    progress:not([value]), progress:not([value])::-webkit-progress-bar {\n",
       "        background: repeating-linear-gradient(45deg, #7e7e7e, #7e7e7e 10px, #5c5c5c 10px, #5c5c5c 20px);\n",
       "    }\n",
       "    .progress-bar-interrupted, .progress-bar-interrupted::-webkit-progress-bar {\n",
       "        background: #F44336;\n",
       "    }\n",
       "</style>\n"
      ],
      "text/plain": [
       "<IPython.core.display.HTML object>"
      ]
     },
     "metadata": {},
     "output_type": "display_data"
    },
    {
     "data": {
      "text/html": [
       "<table border=\"1\" class=\"dataframe\">\n",
       "  <thead>\n",
       "    <tr style=\"text-align: left;\">\n",
       "      <th>TimeR2Score</th>\n",
       "      <th>loss</th>\n",
       "      <th>epoch</th>\n",
       "      <th>train</th>\n",
       "      <th>time</th>\n",
       "    </tr>\n",
       "  </thead>\n",
       "  <tbody>\n",
       "    <tr>\n",
       "      <td>0.670</td>\n",
       "      <td>15.602</td>\n",
       "      <td>0</td>\n",
       "      <td>False</td>\n",
       "      <td>00:00</td>\n",
       "    </tr>\n",
       "  </tbody>\n",
       "</table>"
      ],
      "text/plain": [
       "<IPython.core.display.HTML object>"
      ]
     },
     "metadata": {},
     "output_type": "display_data"
    },
    {
     "name": "stdout",
     "output_type": "stream",
     "text": [
      "Inference on gro\n",
      "\t\tpreds, targs\n",
      "tensor([[ 2.6394,  1.0000],\n",
      "        [ 9.1406,  4.0000],\n",
      "        [ 6.4031,  7.0000],\n",
      "        [ 9.2946, 10.0000],\n",
      "        [13.6586, 13.0000],\n",
      "        [ 4.7005, 16.0000],\n",
      "        [21.1175, 19.0000],\n",
      "        [22.7053, 22.0000]])\n",
      "result:  tensor(0.5686)\n"
     ]
    },
    {
     "data": {
      "text/html": [
       "\n",
       "<style>\n",
       "    /* Turns off some styling */\n",
       "    progress {\n",
       "        /* gets rid of default border in Firefox and Opera. */\n",
       "        border: none;\n",
       "        /* Needs to be in here for Safari polyfill so background images work as expected. */\n",
       "        background-size: auto;\n",
       "    }\n",
       "    progress:not([value]), progress:not([value])::-webkit-progress-bar {\n",
       "        background: repeating-linear-gradient(45deg, #7e7e7e, #7e7e7e 10px, #5c5c5c 10px, #5c5c5c 20px);\n",
       "    }\n",
       "    .progress-bar-interrupted, .progress-bar-interrupted::-webkit-progress-bar {\n",
       "        background: #F44336;\n",
       "    }\n",
       "</style>\n"
      ],
      "text/plain": [
       "<IPython.core.display.HTML object>"
      ]
     },
     "metadata": {},
     "output_type": "display_data"
    },
    {
     "data": {
      "text/html": [
       "<table border=\"1\" class=\"dataframe\">\n",
       "  <thead>\n",
       "    <tr style=\"text-align: left;\">\n",
       "      <th>TimeR2Score</th>\n",
       "      <th>loss</th>\n",
       "      <th>epoch</th>\n",
       "      <th>train</th>\n",
       "      <th>time</th>\n",
       "    </tr>\n",
       "  </thead>\n",
       "  <tbody>\n",
       "    <tr>\n",
       "      <td>0.434</td>\n",
       "      <td>56.532</td>\n",
       "      <td>0</td>\n",
       "      <td>False</td>\n",
       "      <td>00:00</td>\n",
       "    </tr>\n",
       "  </tbody>\n",
       "</table>"
      ],
      "text/plain": [
       "<IPython.core.display.HTML object>"
      ]
     },
     "metadata": {},
     "output_type": "display_data"
    },
    {
     "data": {
      "text/html": [
       "\n",
       "<style>\n",
       "    /* Turns off some styling */\n",
       "    progress {\n",
       "        /* gets rid of default border in Firefox and Opera. */\n",
       "        border: none;\n",
       "        /* Needs to be in here for Safari polyfill so background images work as expected. */\n",
       "        background-size: auto;\n",
       "    }\n",
       "    progress:not([value]), progress:not([value])::-webkit-progress-bar {\n",
       "        background: repeating-linear-gradient(45deg, #7e7e7e, #7e7e7e 10px, #5c5c5c 10px, #5c5c5c 20px);\n",
       "    }\n",
       "    .progress-bar-interrupted, .progress-bar-interrupted::-webkit-progress-bar {\n",
       "        background: #F44336;\n",
       "    }\n",
       "</style>\n"
      ],
      "text/plain": [
       "<IPython.core.display.HTML object>"
      ]
     },
     "metadata": {},
     "output_type": "display_data"
    },
    {
     "data": {
      "text/html": [
       "<table border=\"1\" class=\"dataframe\">\n",
       "  <thead>\n",
       "    <tr style=\"text-align: left;\">\n",
       "      <th>TimeR2Score</th>\n",
       "      <th>loss</th>\n",
       "      <th>epoch</th>\n",
       "      <th>train</th>\n",
       "      <th>time</th>\n",
       "    </tr>\n",
       "  </thead>\n",
       "  <tbody>\n",
       "    <tr>\n",
       "      <td>0.299</td>\n",
       "      <td>42.828</td>\n",
       "      <td>0</td>\n",
       "      <td>False</td>\n",
       "      <td>00:00</td>\n",
       "    </tr>\n",
       "  </tbody>\n",
       "</table>"
      ],
      "text/plain": [
       "<IPython.core.display.HTML object>"
      ]
     },
     "metadata": {},
     "output_type": "display_data"
    },
    {
     "name": "stdout",
     "output_type": "stream",
     "text": [
      "Inference on rna\n",
      "\t\tpreds, targs\n",
      "tensor([[14.3287,  2.0000],\n",
      "        [ 4.9436,  6.0000],\n",
      "        [ 9.4034, 10.0000],\n",
      "        [15.2720, 14.0000],\n",
      "        [23.6022, 18.0000],\n",
      "        [22.0223, 22.0000],\n",
      "        [ 3.3467,  2.0000],\n",
      "        [ 8.3943,  6.0000],\n",
      "        [10.2676, 10.0000],\n",
      "        [ 9.8389, 14.0000],\n",
      "        [ 6.7334, 18.0000],\n",
      "        [ 6.2344, 22.0000]])\n",
      "result:  tensor(0.3029)\n"
     ]
    },
    {
     "data": {
      "text/html": [
       "\n",
       "<style>\n",
       "    /* Turns off some styling */\n",
       "    progress {\n",
       "        /* gets rid of default border in Firefox and Opera. */\n",
       "        border: none;\n",
       "        /* Needs to be in here for Safari polyfill so background images work as expected. */\n",
       "        background-size: auto;\n",
       "    }\n",
       "    progress:not([value]), progress:not([value])::-webkit-progress-bar {\n",
       "        background: repeating-linear-gradient(45deg, #7e7e7e, #7e7e7e 10px, #5c5c5c 10px, #5c5c5c 20px);\n",
       "    }\n",
       "    .progress-bar-interrupted, .progress-bar-interrupted::-webkit-progress-bar {\n",
       "        background: #F44336;\n",
       "    }\n",
       "</style>\n"
      ],
      "text/plain": [
       "<IPython.core.display.HTML object>"
      ]
     },
     "metadata": {},
     "output_type": "display_data"
    },
    {
     "data": {
      "text/html": [
       "<table border=\"1\" class=\"dataframe\">\n",
       "  <thead>\n",
       "    <tr style=\"text-align: left;\">\n",
       "      <th>TimeR2Score</th>\n",
       "      <th>loss</th>\n",
       "      <th>epoch</th>\n",
       "      <th>train</th>\n",
       "      <th>time</th>\n",
       "    </tr>\n",
       "  </thead>\n",
       "  <tbody>\n",
       "    <tr>\n",
       "      <td>0.683</td>\n",
       "      <td>143.257</td>\n",
       "      <td>0</td>\n",
       "      <td>False</td>\n",
       "      <td>00:01</td>\n",
       "    </tr>\n",
       "  </tbody>\n",
       "</table>"
      ],
      "text/plain": [
       "<IPython.core.display.HTML object>"
      ]
     },
     "metadata": {},
     "output_type": "display_data"
    },
    {
     "data": {
      "text/html": [
       "\n",
       "<style>\n",
       "    /* Turns off some styling */\n",
       "    progress {\n",
       "        /* gets rid of default border in Firefox and Opera. */\n",
       "        border: none;\n",
       "        /* Needs to be in here for Safari polyfill so background images work as expected. */\n",
       "        background-size: auto;\n",
       "    }\n",
       "    progress:not([value]), progress:not([value])::-webkit-progress-bar {\n",
       "        background: repeating-linear-gradient(45deg, #7e7e7e, #7e7e7e 10px, #5c5c5c 10px, #5c5c5c 20px);\n",
       "    }\n",
       "    .progress-bar-interrupted, .progress-bar-interrupted::-webkit-progress-bar {\n",
       "        background: #F44336;\n",
       "    }\n",
       "</style>\n"
      ],
      "text/plain": [
       "<IPython.core.display.HTML object>"
      ]
     },
     "metadata": {},
     "output_type": "display_data"
    },
    {
     "data": {
      "text/html": [
       "<table border=\"1\" class=\"dataframe\">\n",
       "  <thead>\n",
       "    <tr style=\"text-align: left;\">\n",
       "      <th>TimeR2Score</th>\n",
       "      <th>loss</th>\n",
       "      <th>epoch</th>\n",
       "      <th>train</th>\n",
       "      <th>time</th>\n",
       "    </tr>\n",
       "  </thead>\n",
       "  <tbody>\n",
       "    <tr>\n",
       "      <td>0.688</td>\n",
       "      <td>142.907</td>\n",
       "      <td>0</td>\n",
       "      <td>False</td>\n",
       "      <td>00:01</td>\n",
       "    </tr>\n",
       "  </tbody>\n",
       "</table>"
      ],
      "text/plain": [
       "<IPython.core.display.HTML object>"
      ]
     },
     "metadata": {},
     "output_type": "display_data"
    },
    {
     "name": "stdout",
     "output_type": "stream",
     "text": [
      "Inference on more\n",
      "\t\tpreds, targs\n",
      "tensor([[ 4.8832, 22.0000],\n",
      "        [ 5.7908, 22.0000],\n",
      "        [ 8.4691, 10.0000],\n",
      "        [ 9.9628, 18.0000],\n",
      "        [ 8.7620,  2.0000],\n",
      "        [ 9.8902, 18.0000],\n",
      "        [ 9.6659, 14.0000],\n",
      "        [ 4.1077,  6.0000],\n",
      "        [ 4.0248,  6.0000],\n",
      "        [ 9.8523, 14.0000],\n",
      "        [ 8.4419, 10.0000],\n",
      "        [ 8.4014,  2.0000],\n",
      "        [20.6845, 24.0000],\n",
      "        [20.2946, 21.0000],\n",
      "        [ 7.0783, 33.0000],\n",
      "        ...,\n",
      "        [18.9130,  7.5000],\n",
      "        [21.9198,  1.5000],\n",
      "        [15.9277, 16.5000],\n",
      "        [23.4755,  4.5000],\n",
      "        [20.8205, 22.5000],\n",
      "        [17.4939, 16.5000],\n",
      "        [23.0384,  1.5000],\n",
      "        [13.5011, 10.5000],\n",
      "        [19.9758, 16.5000],\n",
      "        [23.5330,  1.5000],\n",
      "        [15.0407, 13.5000],\n",
      "        [19.3886,  7.5000],\n",
      "        [22.2014, 19.5000],\n",
      "        [15.6676,  7.5000],\n",
      "        [16.8194, 13.5000]])\n",
      "result:  tensor(0.6851)\n"
     ]
    }
   ],
   "source": [
    "lr, epochs = .2, 4\n",
    "tmax = epochs * len(dls.train)\n",
    "sched = partial(lr_scheduler.OneCycleLR, max_lr=lr, total_steps=tmax)\n",
    "xtra = [BatchSchedCB(sched)]\n",
    "ensemble_model(nlearn, get_model, epochs=epochs, lr=lr, cbs=cbs+xtra, opt_func=optim.AdamW)"
   ]
  },
  {
   "cell_type": "code",
   "execution_count": 165,
   "metadata": {
    "colab": {
     "base_uri": "https://localhost:8080/",
     "height": 1000
    },
    "id": "uyiwleVZBbIJ",
    "outputId": "e123a67a-4ef1-4b49-853d-f5ef0bd9fefc",
    "scrolled": false
   },
   "outputs": [
    {
     "name": "stdout",
     "output_type": "stream",
     "text": [
      "Training models\n"
     ]
    },
    {
     "data": {
      "text/html": [
       "\n",
       "<style>\n",
       "    /* Turns off some styling */\n",
       "    progress {\n",
       "        /* gets rid of default border in Firefox and Opera. */\n",
       "        border: none;\n",
       "        /* Needs to be in here for Safari polyfill so background images work as expected. */\n",
       "        background-size: auto;\n",
       "    }\n",
       "    progress:not([value]), progress:not([value])::-webkit-progress-bar {\n",
       "        background: repeating-linear-gradient(45deg, #7e7e7e, #7e7e7e 10px, #5c5c5c 10px, #5c5c5c 20px);\n",
       "    }\n",
       "    .progress-bar-interrupted, .progress-bar-interrupted::-webkit-progress-bar {\n",
       "        background: #F44336;\n",
       "    }\n",
       "</style>\n"
      ],
      "text/plain": [
       "<IPython.core.display.HTML object>"
      ]
     },
     "metadata": {},
     "output_type": "display_data"
    },
    {
     "data": {
      "text/html": [
       "<table border=\"1\" class=\"dataframe\">\n",
       "  <thead>\n",
       "    <tr style=\"text-align: left;\">\n",
       "      <th>TimeR2Score</th>\n",
       "      <th>loss</th>\n",
       "      <th>epoch</th>\n",
       "      <th>train</th>\n",
       "      <th>time</th>\n",
       "    </tr>\n",
       "  </thead>\n",
       "  <tbody>\n",
       "    <tr>\n",
       "      <td>0.782</td>\n",
       "      <td>10.252</td>\n",
       "      <td>0</td>\n",
       "      <td>True</td>\n",
       "      <td>00:01</td>\n",
       "    </tr>\n",
       "    <tr>\n",
       "      <td>0.835</td>\n",
       "      <td>7.480</td>\n",
       "      <td>0</td>\n",
       "      <td>False</td>\n",
       "      <td>00:00</td>\n",
       "    </tr>\n",
       "    <tr>\n",
       "      <td>0.886</td>\n",
       "      <td>5.187</td>\n",
       "      <td>1</td>\n",
       "      <td>True</td>\n",
       "      <td>00:01</td>\n",
       "    </tr>\n",
       "    <tr>\n",
       "      <td>0.878</td>\n",
       "      <td>6.157</td>\n",
       "      <td>1</td>\n",
       "      <td>False</td>\n",
       "      <td>00:00</td>\n",
       "    </tr>\n",
       "    <tr>\n",
       "      <td>0.946</td>\n",
       "      <td>2.441</td>\n",
       "      <td>2</td>\n",
       "      <td>True</td>\n",
       "      <td>00:01</td>\n",
       "    </tr>\n",
       "    <tr>\n",
       "      <td>0.888</td>\n",
       "      <td>5.161</td>\n",
       "      <td>2</td>\n",
       "      <td>False</td>\n",
       "      <td>00:00</td>\n",
       "    </tr>\n",
       "    <tr>\n",
       "      <td>0.969</td>\n",
       "      <td>1.369</td>\n",
       "      <td>3</td>\n",
       "      <td>True</td>\n",
       "      <td>00:01</td>\n",
       "    </tr>\n",
       "    <tr>\n",
       "      <td>0.892</td>\n",
       "      <td>5.052</td>\n",
       "      <td>3</td>\n",
       "      <td>False</td>\n",
       "      <td>00:00</td>\n",
       "    </tr>\n",
       "  </tbody>\n",
       "</table>"
      ],
      "text/plain": [
       "<IPython.core.display.HTML object>"
      ]
     },
     "metadata": {},
     "output_type": "display_data"
    },
    {
     "data": {
      "image/png": "[encoded data removed]",
      "text/plain": [
       "<Figure size 600x400 with 1 Axes>"
      ]
     },
     "metadata": {},
     "output_type": "display_data"
    },
    {
     "data": {
      "text/html": [
       "\n",
       "<style>\n",
       "    /* Turns off some styling */\n",
       "    progress {\n",
       "        /* gets rid of default border in Firefox and Opera. */\n",
       "        border: none;\n",
       "        /* Needs to be in here for Safari polyfill so background images work as expected. */\n",
       "        background-size: auto;\n",
       "    }\n",
       "    progress:not([value]), progress:not([value])::-webkit-progress-bar {\n",
       "        background: repeating-linear-gradient(45deg, #7e7e7e, #7e7e7e 10px, #5c5c5c 10px, #5c5c5c 20px);\n",
       "    }\n",
       "    .progress-bar-interrupted, .progress-bar-interrupted::-webkit-progress-bar {\n",
       "        background: #F44336;\n",
       "    }\n",
       "</style>\n"
      ],
      "text/plain": [
       "<IPython.core.display.HTML object>"
      ]
     },
     "metadata": {},
     "output_type": "display_data"
    },
    {
     "data": {
      "text/html": [
       "<table border=\"1\" class=\"dataframe\">\n",
       "  <thead>\n",
       "    <tr style=\"text-align: left;\">\n",
       "      <th>TimeR2Score</th>\n",
       "      <th>loss</th>\n",
       "      <th>epoch</th>\n",
       "      <th>train</th>\n",
       "      <th>time</th>\n",
       "    </tr>\n",
       "  </thead>\n",
       "  <tbody>\n",
       "    <tr>\n",
       "      <td>0.778</td>\n",
       "      <td>10.462</td>\n",
       "      <td>0</td>\n",
       "      <td>True</td>\n",
       "      <td>00:01</td>\n",
       "    </tr>\n",
       "    <tr>\n",
       "      <td>0.839</td>\n",
       "      <td>7.520</td>\n",
       "      <td>0</td>\n",
       "      <td>False</td>\n",
       "      <td>00:00</td>\n",
       "    </tr>\n",
       "    <tr>\n",
       "      <td>0.889</td>\n",
       "      <td>5.039</td>\n",
       "      <td>1</td>\n",
       "      <td>True</td>\n",
       "      <td>00:01</td>\n",
       "    </tr>\n",
       "    <tr>\n",
       "      <td>0.869</td>\n",
       "      <td>5.976</td>\n",
       "      <td>1</td>\n",
       "      <td>False</td>\n",
       "      <td>00:00</td>\n",
       "    </tr>\n",
       "    <tr>\n",
       "      <td>0.945</td>\n",
       "      <td>2.434</td>\n",
       "      <td>2</td>\n",
       "      <td>True</td>\n",
       "      <td>00:01</td>\n",
       "    </tr>\n",
       "    <tr>\n",
       "      <td>0.882</td>\n",
       "      <td>5.578</td>\n",
       "      <td>2</td>\n",
       "      <td>False</td>\n",
       "      <td>00:00</td>\n",
       "    </tr>\n",
       "    <tr>\n",
       "      <td>0.968</td>\n",
       "      <td>1.415</td>\n",
       "      <td>3</td>\n",
       "      <td>True</td>\n",
       "      <td>00:01</td>\n",
       "    </tr>\n",
       "    <tr>\n",
       "      <td>0.885</td>\n",
       "      <td>5.341</td>\n",
       "      <td>3</td>\n",
       "      <td>False</td>\n",
       "      <td>00:00</td>\n",
       "    </tr>\n",
       "  </tbody>\n",
       "</table>"
      ],
      "text/plain": [
       "<IPython.core.display.HTML object>"
      ]
     },
     "metadata": {},
     "output_type": "display_data"
    },
    {
     "data": {
      "image/png": "[encoded data removed]",
      "text/plain": [
       "<Figure size 600x400 with 1 Axes>"
      ]
     },
     "metadata": {},
     "output_type": "display_data"
    },
    {
     "name": "stdout",
     "output_type": "stream",
     "text": [
      "Making inference on test data\n"
     ]
    },
    {
     "data": {
      "text/html": [
       "\n",
       "<style>\n",
       "    /* Turns off some styling */\n",
       "    progress {\n",
       "        /* gets rid of default border in Firefox and Opera. */\n",
       "        border: none;\n",
       "        /* Needs to be in here for Safari polyfill so background images work as expected. */\n",
       "        background-size: auto;\n",
       "    }\n",
       "    progress:not([value]), progress:not([value])::-webkit-progress-bar {\n",
       "        background: repeating-linear-gradient(45deg, #7e7e7e, #7e7e7e 10px, #5c5c5c 10px, #5c5c5c 20px);\n",
       "    }\n",
       "    .progress-bar-interrupted, .progress-bar-interrupted::-webkit-progress-bar {\n",
       "        background: #F44336;\n",
       "    }\n",
       "</style>\n"
      ],
      "text/plain": [
       "<IPython.core.display.HTML object>"
      ]
     },
     "metadata": {},
     "output_type": "display_data"
    },
    {
     "data": {
      "text/html": [
       "<table border=\"1\" class=\"dataframe\">\n",
       "  <thead>\n",
       "    <tr style=\"text-align: left;\">\n",
       "      <th>TimeR2Score</th>\n",
       "      <th>loss</th>\n",
       "      <th>epoch</th>\n",
       "      <th>train</th>\n",
       "      <th>time</th>\n",
       "    </tr>\n",
       "  </thead>\n",
       "  <tbody>\n",
       "    <tr>\n",
       "      <td>0.584</td>\n",
       "      <td>23.237</td>\n",
       "      <td>0</td>\n",
       "      <td>False</td>\n",
       "      <td>00:00</td>\n",
       "    </tr>\n",
       "  </tbody>\n",
       "</table>"
      ],
      "text/plain": [
       "<IPython.core.display.HTML object>"
      ]
     },
     "metadata": {},
     "output_type": "display_data"
    },
    {
     "data": {
      "text/html": [
       "\n",
       "<style>\n",
       "    /* Turns off some styling */\n",
       "    progress {\n",
       "        /* gets rid of default border in Firefox and Opera. */\n",
       "        border: none;\n",
       "        /* Needs to be in here for Safari polyfill so background images work as expected. */\n",
       "        background-size: auto;\n",
       "    }\n",
       "    progress:not([value]), progress:not([value])::-webkit-progress-bar {\n",
       "        background: repeating-linear-gradient(45deg, #7e7e7e, #7e7e7e 10px, #5c5c5c 10px, #5c5c5c 20px);\n",
       "    }\n",
       "    .progress-bar-interrupted, .progress-bar-interrupted::-webkit-progress-bar {\n",
       "        background: #F44336;\n",
       "    }\n",
       "</style>\n"
      ],
      "text/plain": [
       "<IPython.core.display.HTML object>"
      ]
     },
     "metadata": {},
     "output_type": "display_data"
    },
    {
     "data": {
      "text/html": [
       "<table border=\"1\" class=\"dataframe\">\n",
       "  <thead>\n",
       "    <tr style=\"text-align: left;\">\n",
       "      <th>TimeR2Score</th>\n",
       "      <th>loss</th>\n",
       "      <th>epoch</th>\n",
       "      <th>train</th>\n",
       "      <th>time</th>\n",
       "    </tr>\n",
       "  </thead>\n",
       "  <tbody>\n",
       "    <tr>\n",
       "      <td>0.584</td>\n",
       "      <td>27.821</td>\n",
       "      <td>0</td>\n",
       "      <td>False</td>\n",
       "      <td>00:00</td>\n",
       "    </tr>\n",
       "  </tbody>\n",
       "</table>"
      ],
      "text/plain": [
       "<IPython.core.display.HTML object>"
      ]
     },
     "metadata": {},
     "output_type": "display_data"
    },
    {
     "name": "stdout",
     "output_type": "stream",
     "text": [
      "Inference on nascent\n",
      "\t\tpreds, targs\n",
      "tensor([[13.5311,  0.0000],\n",
      "        [ 3.4729,  4.0000],\n",
      "        [ 9.5287,  8.0000],\n",
      "        [ 6.0627, 12.0000],\n",
      "        [13.5172, 16.0000],\n",
      "        [21.6709, 20.0000],\n",
      "        [ 0.9358,  0.0000],\n",
      "        [ 1.6878,  4.0000],\n",
      "        [12.0686,  8.0000],\n",
      "        [ 8.8775, 12.0000],\n",
      "        [21.7656, 16.0000],\n",
      "        [22.4613, 20.0000]])\n",
      "result:  tensor(0.5924)\n"
     ]
    },
    {
     "data": {
      "text/html": [
       "\n",
       "<style>\n",
       "    /* Turns off some styling */\n",
       "    progress {\n",
       "        /* gets rid of default border in Firefox and Opera. */\n",
       "        border: none;\n",
       "        /* Needs to be in here for Safari polyfill so background images work as expected. */\n",
       "        background-size: auto;\n",
       "    }\n",
       "    progress:not([value]), progress:not([value])::-webkit-progress-bar {\n",
       "        background: repeating-linear-gradient(45deg, #7e7e7e, #7e7e7e 10px, #5c5c5c 10px, #5c5c5c 20px);\n",
       "    }\n",
       "    .progress-bar-interrupted, .progress-bar-interrupted::-webkit-progress-bar {\n",
       "        background: #F44336;\n",
       "    }\n",
       "</style>\n"
      ],
      "text/plain": [
       "<IPython.core.display.HTML object>"
      ]
     },
     "metadata": {},
     "output_type": "display_data"
    },
    {
     "data": {
      "text/html": [
       "<table border=\"1\" class=\"dataframe\">\n",
       "  <thead>\n",
       "    <tr style=\"text-align: left;\">\n",
       "      <th>TimeR2Score</th>\n",
       "      <th>loss</th>\n",
       "      <th>epoch</th>\n",
       "      <th>train</th>\n",
       "      <th>time</th>\n",
       "    </tr>\n",
       "  </thead>\n",
       "  <tbody>\n",
       "    <tr>\n",
       "      <td>0.674</td>\n",
       "      <td>15.414</td>\n",
       "      <td>0</td>\n",
       "      <td>False</td>\n",
       "      <td>00:00</td>\n",
       "    </tr>\n",
       "  </tbody>\n",
       "</table>"
      ],
      "text/plain": [
       "<IPython.core.display.HTML object>"
      ]
     },
     "metadata": {},
     "output_type": "display_data"
    },
    {
     "data": {
      "text/html": [
       "\n",
       "<style>\n",
       "    /* Turns off some styling */\n",
       "    progress {\n",
       "        /* gets rid of default border in Firefox and Opera. */\n",
       "        border: none;\n",
       "        /* Needs to be in here for Safari polyfill so background images work as expected. */\n",
       "        background-size: auto;\n",
       "    }\n",
       "    progress:not([value]), progress:not([value])::-webkit-progress-bar {\n",
       "        background: repeating-linear-gradient(45deg, #7e7e7e, #7e7e7e 10px, #5c5c5c 10px, #5c5c5c 20px);\n",
       "    }\n",
       "    .progress-bar-interrupted, .progress-bar-interrupted::-webkit-progress-bar {\n",
       "        background: #F44336;\n",
       "    }\n",
       "</style>\n"
      ],
      "text/plain": [
       "<IPython.core.display.HTML object>"
      ]
     },
     "metadata": {},
     "output_type": "display_data"
    },
    {
     "data": {
      "text/html": [
       "<table border=\"1\" class=\"dataframe\">\n",
       "  <thead>\n",
       "    <tr style=\"text-align: left;\">\n",
       "      <th>TimeR2Score</th>\n",
       "      <th>loss</th>\n",
       "      <th>epoch</th>\n",
       "      <th>train</th>\n",
       "      <th>time</th>\n",
       "    </tr>\n",
       "  </thead>\n",
       "  <tbody>\n",
       "    <tr>\n",
       "      <td>0.748</td>\n",
       "      <td>11.887</td>\n",
       "      <td>0</td>\n",
       "      <td>False</td>\n",
       "      <td>00:00</td>\n",
       "    </tr>\n",
       "  </tbody>\n",
       "</table>"
      ],
      "text/plain": [
       "<IPython.core.display.HTML object>"
      ]
     },
     "metadata": {},
     "output_type": "display_data"
    },
    {
     "name": "stdout",
     "output_type": "stream",
     "text": [
      "Inference on gro\n",
      "\t\tpreds, targs\n",
      "tensor([[ 2.3391,  1.0000],\n",
      "        [ 8.2144,  4.0000],\n",
      "        [ 5.6811,  7.0000],\n",
      "        [ 9.3597, 10.0000],\n",
      "        [12.6406, 13.0000],\n",
      "        [ 6.9478, 16.0000],\n",
      "        [20.6756, 19.0000],\n",
      "        [22.9737, 22.0000]])\n",
      "result:  tensor(0.7155)\n"
     ]
    },
    {
     "data": {
      "text/html": [
       "\n",
       "<style>\n",
       "    /* Turns off some styling */\n",
       "    progress {\n",
       "        /* gets rid of default border in Firefox and Opera. */\n",
       "        border: none;\n",
       "        /* Needs to be in here for Safari polyfill so background images work as expected. */\n",
       "        background-size: auto;\n",
       "    }\n",
       "    progress:not([value]), progress:not([value])::-webkit-progress-bar {\n",
       "        background: repeating-linear-gradient(45deg, #7e7e7e, #7e7e7e 10px, #5c5c5c 10px, #5c5c5c 20px);\n",
       "    }\n",
       "    .progress-bar-interrupted, .progress-bar-interrupted::-webkit-progress-bar {\n",
       "        background: #F44336;\n",
       "    }\n",
       "</style>\n"
      ],
      "text/plain": [
       "<IPython.core.display.HTML object>"
      ]
     },
     "metadata": {},
     "output_type": "display_data"
    },
    {
     "data": {
      "text/html": [
       "<table border=\"1\" class=\"dataframe\">\n",
       "  <thead>\n",
       "    <tr style=\"text-align: left;\">\n",
       "      <th>TimeR2Score</th>\n",
       "      <th>loss</th>\n",
       "      <th>epoch</th>\n",
       "      <th>train</th>\n",
       "      <th>time</th>\n",
       "    </tr>\n",
       "  </thead>\n",
       "  <tbody>\n",
       "    <tr>\n",
       "      <td>0.557</td>\n",
       "      <td>37.191</td>\n",
       "      <td>0</td>\n",
       "      <td>False</td>\n",
       "      <td>00:00</td>\n",
       "    </tr>\n",
       "  </tbody>\n",
       "</table>"
      ],
      "text/plain": [
       "<IPython.core.display.HTML object>"
      ]
     },
     "metadata": {},
     "output_type": "display_data"
    },
    {
     "data": {
      "text/html": [
       "\n",
       "<style>\n",
       "    /* Turns off some styling */\n",
       "    progress {\n",
       "        /* gets rid of default border in Firefox and Opera. */\n",
       "        border: none;\n",
       "        /* Needs to be in here for Safari polyfill so background images work as expected. */\n",
       "        background-size: auto;\n",
       "    }\n",
       "    progress:not([value]), progress:not([value])::-webkit-progress-bar {\n",
       "        background: repeating-linear-gradient(45deg, #7e7e7e, #7e7e7e 10px, #5c5c5c 10px, #5c5c5c 20px);\n",
       "    }\n",
       "    .progress-bar-interrupted, .progress-bar-interrupted::-webkit-progress-bar {\n",
       "        background: #F44336;\n",
       "    }\n",
       "</style>\n"
      ],
      "text/plain": [
       "<IPython.core.display.HTML object>"
      ]
     },
     "metadata": {},
     "output_type": "display_data"
    },
    {
     "data": {
      "text/html": [
       "<table border=\"1\" class=\"dataframe\">\n",
       "  <thead>\n",
       "    <tr style=\"text-align: left;\">\n",
       "      <th>TimeR2Score</th>\n",
       "      <th>loss</th>\n",
       "      <th>epoch</th>\n",
       "      <th>train</th>\n",
       "      <th>time</th>\n",
       "    </tr>\n",
       "  </thead>\n",
       "  <tbody>\n",
       "    <tr>\n",
       "      <td>0.364</td>\n",
       "      <td>42.896</td>\n",
       "      <td>0</td>\n",
       "      <td>False</td>\n",
       "      <td>00:00</td>\n",
       "    </tr>\n",
       "  </tbody>\n",
       "</table>"
      ],
      "text/plain": [
       "<IPython.core.display.HTML object>"
      ]
     },
     "metadata": {},
     "output_type": "display_data"
    },
    {
     "name": "stdout",
     "output_type": "stream",
     "text": [
      "Inference on rna\n",
      "\t\tpreds, targs\n",
      "tensor([[10.3581,  2.0000],\n",
      "        [ 5.7802,  6.0000],\n",
      "        [ 9.5215, 10.0000],\n",
      "        [14.5673, 14.0000],\n",
      "        [23.4458, 18.0000],\n",
      "        [21.7167, 22.0000],\n",
      "        [ 1.8601,  2.0000],\n",
      "        [ 8.0021,  6.0000],\n",
      "        [10.7472, 10.0000],\n",
      "        [10.3277, 14.0000],\n",
      "        [ 7.8041, 18.0000],\n",
      "        [ 6.2866, 22.0000]])\n",
      "result:  tensor(0.4806)\n"
     ]
    },
    {
     "data": {
      "text/html": [
       "\n",
       "<style>\n",
       "    /* Turns off some styling */\n",
       "    progress {\n",
       "        /* gets rid of default border in Firefox and Opera. */\n",
       "        border: none;\n",
       "        /* Needs to be in here for Safari polyfill so background images work as expected. */\n",
       "        background-size: auto;\n",
       "    }\n",
       "    progress:not([value]), progress:not([value])::-webkit-progress-bar {\n",
       "        background: repeating-linear-gradient(45deg, #7e7e7e, #7e7e7e 10px, #5c5c5c 10px, #5c5c5c 20px);\n",
       "    }\n",
       "    .progress-bar-interrupted, .progress-bar-interrupted::-webkit-progress-bar {\n",
       "        background: #F44336;\n",
       "    }\n",
       "</style>\n"
      ],
      "text/plain": [
       "<IPython.core.display.HTML object>"
      ]
     },
     "metadata": {},
     "output_type": "display_data"
    },
    {
     "data": {
      "text/html": [
       "<table border=\"1\" class=\"dataframe\">\n",
       "  <thead>\n",
       "    <tr style=\"text-align: left;\">\n",
       "      <th>TimeR2Score</th>\n",
       "      <th>loss</th>\n",
       "      <th>epoch</th>\n",
       "      <th>train</th>\n",
       "      <th>time</th>\n",
       "    </tr>\n",
       "  </thead>\n",
       "  <tbody>\n",
       "    <tr>\n",
       "      <td>0.693</td>\n",
       "      <td>142.790</td>\n",
       "      <td>0</td>\n",
       "      <td>False</td>\n",
       "      <td>00:01</td>\n",
       "    </tr>\n",
       "  </tbody>\n",
       "</table>"
      ],
      "text/plain": [
       "<IPython.core.display.HTML object>"
      ]
     },
     "metadata": {},
     "output_type": "display_data"
    },
    {
     "data": {
      "text/html": [
       "\n",
       "<style>\n",
       "    /* Turns off some styling */\n",
       "    progress {\n",
       "        /* gets rid of default border in Firefox and Opera. */\n",
       "        border: none;\n",
       "        /* Needs to be in here for Safari polyfill so background images work as expected. */\n",
       "        background-size: auto;\n",
       "    }\n",
       "    progress:not([value]), progress:not([value])::-webkit-progress-bar {\n",
       "        background: repeating-linear-gradient(45deg, #7e7e7e, #7e7e7e 10px, #5c5c5c 10px, #5c5c5c 20px);\n",
       "    }\n",
       "    .progress-bar-interrupted, .progress-bar-interrupted::-webkit-progress-bar {\n",
       "        background: #F44336;\n",
       "    }\n",
       "</style>\n"
      ],
      "text/plain": [
       "<IPython.core.display.HTML object>"
      ]
     },
     "metadata": {},
     "output_type": "display_data"
    },
    {
     "data": {
      "text/html": [
       "<table border=\"1\" class=\"dataframe\">\n",
       "  <thead>\n",
       "    <tr style=\"text-align: left;\">\n",
       "      <th>TimeR2Score</th>\n",
       "      <th>loss</th>\n",
       "      <th>epoch</th>\n",
       "      <th>train</th>\n",
       "      <th>time</th>\n",
       "    </tr>\n",
       "  </thead>\n",
       "  <tbody>\n",
       "    <tr>\n",
       "      <td>0.685</td>\n",
       "      <td>144.149</td>\n",
       "      <td>0</td>\n",
       "      <td>False</td>\n",
       "      <td>00:01</td>\n",
       "    </tr>\n",
       "  </tbody>\n",
       "</table>"
      ],
      "text/plain": [
       "<IPython.core.display.HTML object>"
      ]
     },
     "metadata": {},
     "output_type": "display_data"
    },
    {
     "name": "stdout",
     "output_type": "stream",
     "text": [
      "Inference on more\n",
      "\t\tpreds, targs\n",
      "tensor([[ 5.3517, 22.0000],\n",
      "        [ 5.4022, 22.0000],\n",
      "        [ 8.6886, 10.0000],\n",
      "        [10.6201, 18.0000],\n",
      "        [ 9.2317,  2.0000],\n",
      "        [10.5698, 18.0000],\n",
      "        [ 9.9913, 14.0000],\n",
      "        [ 3.7091,  6.0000],\n",
      "        [ 3.8653,  6.0000],\n",
      "        [10.2746, 14.0000],\n",
      "        [ 8.2336, 10.0000],\n",
      "        [ 9.1384,  2.0000],\n",
      "        [21.0290, 24.0000],\n",
      "        [20.4614, 21.0000],\n",
      "        [ 7.7520, 33.0000],\n",
      "        ...,\n",
      "        [17.6029,  7.5000],\n",
      "        [21.9621,  1.5000],\n",
      "        [16.4781, 16.5000],\n",
      "        [23.6743,  4.5000],\n",
      "        [21.0220, 22.5000],\n",
      "        [17.5429, 16.5000],\n",
      "        [23.0836,  1.5000],\n",
      "        [13.5091, 10.5000],\n",
      "        [19.6501, 16.5000],\n",
      "        [23.7866,  1.5000],\n",
      "        [14.4966, 13.5000],\n",
      "        [18.2006,  7.5000],\n",
      "        [22.5051, 19.5000],\n",
      "        [13.6040,  7.5000],\n",
      "        [15.8330, 13.5000]])\n",
      "result:  tensor(0.6884)\n"
     ]
    }
   ],
   "source": [
    "lr, epochs = .1, 4\n",
    "tmax = epochs * len(dls.train)\n",
    "sched = partial(lr_scheduler.OneCycleLR, max_lr=lr, total_steps=tmax)\n",
    "xtra = [BatchSchedCB(sched)]\n",
    "ensemble_model(nlearn, get_model, epochs=epochs, lr=lr, cbs=cbs+xtra, opt_func=optim.AdamW)"
   ]
  },
  {
   "cell_type": "code",
   "execution_count": 166,
   "metadata": {
    "colab": {
     "base_uri": "https://localhost:8080/",
     "height": 1000
    },
    "id": "7ur_hNPg1RSL",
    "outputId": "41a5fe53-1982-48a5-b067-0223a126b8ce",
    "scrolled": false
   },
   "outputs": [
    {
     "name": "stdout",
     "output_type": "stream",
     "text": [
      "Training models\n"
     ]
    },
    {
     "data": {
      "text/html": [
       "\n",
       "<style>\n",
       "    /* Turns off some styling */\n",
       "    progress {\n",
       "        /* gets rid of default border in Firefox and Opera. */\n",
       "        border: none;\n",
       "        /* Needs to be in here for Safari polyfill so background images work as expected. */\n",
       "        background-size: auto;\n",
       "    }\n",
       "    progress:not([value]), progress:not([value])::-webkit-progress-bar {\n",
       "        background: repeating-linear-gradient(45deg, #7e7e7e, #7e7e7e 10px, #5c5c5c 10px, #5c5c5c 20px);\n",
       "    }\n",
       "    .progress-bar-interrupted, .progress-bar-interrupted::-webkit-progress-bar {\n",
       "        background: #F44336;\n",
       "    }\n",
       "</style>\n"
      ],
      "text/plain": [
       "<IPython.core.display.HTML object>"
      ]
     },
     "metadata": {},
     "output_type": "display_data"
    },
    {
     "data": {
      "text/html": [
       "<table border=\"1\" class=\"dataframe\">\n",
       "  <thead>\n",
       "    <tr style=\"text-align: left;\">\n",
       "      <th>TimeR2Score</th>\n",
       "      <th>loss</th>\n",
       "      <th>epoch</th>\n",
       "      <th>train</th>\n",
       "      <th>time</th>\n",
       "    </tr>\n",
       "  </thead>\n",
       "  <tbody>\n",
       "    <tr>\n",
       "      <td>0.777</td>\n",
       "      <td>10.516</td>\n",
       "      <td>0</td>\n",
       "      <td>True</td>\n",
       "      <td>00:01</td>\n",
       "    </tr>\n",
       "    <tr>\n",
       "      <td>0.805</td>\n",
       "      <td>10.335</td>\n",
       "      <td>0</td>\n",
       "      <td>False</td>\n",
       "      <td>00:00</td>\n",
       "    </tr>\n",
       "    <tr>\n",
       "      <td>0.851</td>\n",
       "      <td>6.842</td>\n",
       "      <td>1</td>\n",
       "      <td>True</td>\n",
       "      <td>00:01</td>\n",
       "    </tr>\n",
       "    <tr>\n",
       "      <td>0.866</td>\n",
       "      <td>6.125</td>\n",
       "      <td>1</td>\n",
       "      <td>False</td>\n",
       "      <td>00:00</td>\n",
       "    </tr>\n",
       "    <tr>\n",
       "      <td>0.899</td>\n",
       "      <td>4.587</td>\n",
       "      <td>2</td>\n",
       "      <td>True</td>\n",
       "      <td>00:01</td>\n",
       "    </tr>\n",
       "    <tr>\n",
       "      <td>0.876</td>\n",
       "      <td>5.692</td>\n",
       "      <td>2</td>\n",
       "      <td>False</td>\n",
       "      <td>00:00</td>\n",
       "    </tr>\n",
       "    <tr>\n",
       "      <td>0.938</td>\n",
       "      <td>2.798</td>\n",
       "      <td>3</td>\n",
       "      <td>True</td>\n",
       "      <td>00:01</td>\n",
       "    </tr>\n",
       "    <tr>\n",
       "      <td>0.885</td>\n",
       "      <td>5.309</td>\n",
       "      <td>3</td>\n",
       "      <td>False</td>\n",
       "      <td>00:00</td>\n",
       "    </tr>\n",
       "    <tr>\n",
       "      <td>0.964</td>\n",
       "      <td>1.606</td>\n",
       "      <td>4</td>\n",
       "      <td>True</td>\n",
       "      <td>00:01</td>\n",
       "    </tr>\n",
       "    <tr>\n",
       "      <td>0.893</td>\n",
       "      <td>4.901</td>\n",
       "      <td>4</td>\n",
       "      <td>False</td>\n",
       "      <td>00:00</td>\n",
       "    </tr>\n",
       "  </tbody>\n",
       "</table>"
      ],
      "text/plain": [
       "<IPython.core.display.HTML object>"
      ]
     },
     "metadata": {},
     "output_type": "display_data"
    },
    {
     "data": {
      "image/png": "[encoded data removed]",
      "text/plain": [
       "<Figure size 600x400 with 1 Axes>"
      ]
     },
     "metadata": {},
     "output_type": "display_data"
    },
    {
     "data": {
      "text/html": [
       "\n",
       "<style>\n",
       "    /* Turns off some styling */\n",
       "    progress {\n",
       "        /* gets rid of default border in Firefox and Opera. */\n",
       "        border: none;\n",
       "        /* Needs to be in here for Safari polyfill so background images work as expected. */\n",
       "        background-size: auto;\n",
       "    }\n",
       "    progress:not([value]), progress:not([value])::-webkit-progress-bar {\n",
       "        background: repeating-linear-gradient(45deg, #7e7e7e, #7e7e7e 10px, #5c5c5c 10px, #5c5c5c 20px);\n",
       "    }\n",
       "    .progress-bar-interrupted, .progress-bar-interrupted::-webkit-progress-bar {\n",
       "        background: #F44336;\n",
       "    }\n",
       "</style>\n"
      ],
      "text/plain": [
       "<IPython.core.display.HTML object>"
      ]
     },
     "metadata": {},
     "output_type": "display_data"
    },
    {
     "data": {
      "text/html": [
       "<table border=\"1\" class=\"dataframe\">\n",
       "  <thead>\n",
       "    <tr style=\"text-align: left;\">\n",
       "      <th>TimeR2Score</th>\n",
       "      <th>loss</th>\n",
       "      <th>epoch</th>\n",
       "      <th>train</th>\n",
       "      <th>time</th>\n",
       "    </tr>\n",
       "  </thead>\n",
       "  <tbody>\n",
       "    <tr>\n",
       "      <td>0.773</td>\n",
       "      <td>10.725</td>\n",
       "      <td>0</td>\n",
       "      <td>True</td>\n",
       "      <td>00:01</td>\n",
       "    </tr>\n",
       "    <tr>\n",
       "      <td>0.827</td>\n",
       "      <td>7.983</td>\n",
       "      <td>0</td>\n",
       "      <td>False</td>\n",
       "      <td>00:00</td>\n",
       "    </tr>\n",
       "    <tr>\n",
       "      <td>0.857</td>\n",
       "      <td>6.636</td>\n",
       "      <td>1</td>\n",
       "      <td>True</td>\n",
       "      <td>00:01</td>\n",
       "    </tr>\n",
       "    <tr>\n",
       "      <td>0.836</td>\n",
       "      <td>7.433</td>\n",
       "      <td>1</td>\n",
       "      <td>False</td>\n",
       "      <td>00:00</td>\n",
       "    </tr>\n",
       "    <tr>\n",
       "      <td>0.900</td>\n",
       "      <td>4.512</td>\n",
       "      <td>2</td>\n",
       "      <td>True</td>\n",
       "      <td>00:01</td>\n",
       "    </tr>\n",
       "    <tr>\n",
       "      <td>0.866</td>\n",
       "      <td>6.393</td>\n",
       "      <td>2</td>\n",
       "      <td>False</td>\n",
       "      <td>00:00</td>\n",
       "    </tr>\n",
       "    <tr>\n",
       "      <td>0.938</td>\n",
       "      <td>2.775</td>\n",
       "      <td>3</td>\n",
       "      <td>True</td>\n",
       "      <td>00:01</td>\n",
       "    </tr>\n",
       "    <tr>\n",
       "      <td>0.881</td>\n",
       "      <td>5.485</td>\n",
       "      <td>3</td>\n",
       "      <td>False</td>\n",
       "      <td>00:00</td>\n",
       "    </tr>\n",
       "    <tr>\n",
       "      <td>0.965</td>\n",
       "      <td>1.545</td>\n",
       "      <td>4</td>\n",
       "      <td>True</td>\n",
       "      <td>00:01</td>\n",
       "    </tr>\n",
       "    <tr>\n",
       "      <td>0.888</td>\n",
       "      <td>5.170</td>\n",
       "      <td>4</td>\n",
       "      <td>False</td>\n",
       "      <td>00:00</td>\n",
       "    </tr>\n",
       "  </tbody>\n",
       "</table>"
      ],
      "text/plain": [
       "<IPython.core.display.HTML object>"
      ]
     },
     "metadata": {},
     "output_type": "display_data"
    },
    {
     "data": {
      "image/png": "[encoded data removed]",
      "text/plain": [
       "<Figure size 600x400 with 1 Axes>"
      ]
     },
     "metadata": {},
     "output_type": "display_data"
    },
    {
     "name": "stdout",
     "output_type": "stream",
     "text": [
      "Making inference on test data\n"
     ]
    },
    {
     "data": {
      "text/html": [
       "\n",
       "<style>\n",
       "    /* Turns off some styling */\n",
       "    progress {\n",
       "        /* gets rid of default border in Firefox and Opera. */\n",
       "        border: none;\n",
       "        /* Needs to be in here for Safari polyfill so background images work as expected. */\n",
       "        background-size: auto;\n",
       "    }\n",
       "    progress:not([value]), progress:not([value])::-webkit-progress-bar {\n",
       "        background: repeating-linear-gradient(45deg, #7e7e7e, #7e7e7e 10px, #5c5c5c 10px, #5c5c5c 20px);\n",
       "    }\n",
       "    .progress-bar-interrupted, .progress-bar-interrupted::-webkit-progress-bar {\n",
       "        background: #F44336;\n",
       "    }\n",
       "</style>\n"
      ],
      "text/plain": [
       "<IPython.core.display.HTML object>"
      ]
     },
     "metadata": {},
     "output_type": "display_data"
    },
    {
     "data": {
      "text/html": [
       "<table border=\"1\" class=\"dataframe\">\n",
       "  <thead>\n",
       "    <tr style=\"text-align: left;\">\n",
       "      <th>TimeR2Score</th>\n",
       "      <th>loss</th>\n",
       "      <th>epoch</th>\n",
       "      <th>train</th>\n",
       "      <th>time</th>\n",
       "    </tr>\n",
       "  </thead>\n",
       "  <tbody>\n",
       "    <tr>\n",
       "      <td>0.633</td>\n",
       "      <td>17.132</td>\n",
       "      <td>0</td>\n",
       "      <td>False</td>\n",
       "      <td>00:00</td>\n",
       "    </tr>\n",
       "  </tbody>\n",
       "</table>"
      ],
      "text/plain": [
       "<IPython.core.display.HTML object>"
      ]
     },
     "metadata": {},
     "output_type": "display_data"
    },
    {
     "data": {
      "text/html": [
       "\n",
       "<style>\n",
       "    /* Turns off some styling */\n",
       "    progress {\n",
       "        /* gets rid of default border in Firefox and Opera. */\n",
       "        border: none;\n",
       "        /* Needs to be in here for Safari polyfill so background images work as expected. */\n",
       "        background-size: auto;\n",
       "    }\n",
       "    progress:not([value]), progress:not([value])::-webkit-progress-bar {\n",
       "        background: repeating-linear-gradient(45deg, #7e7e7e, #7e7e7e 10px, #5c5c5c 10px, #5c5c5c 20px);\n",
       "    }\n",
       "    .progress-bar-interrupted, .progress-bar-interrupted::-webkit-progress-bar {\n",
       "        background: #F44336;\n",
       "    }\n",
       "</style>\n"
      ],
      "text/plain": [
       "<IPython.core.display.HTML object>"
      ]
     },
     "metadata": {},
     "output_type": "display_data"
    },
    {
     "data": {
      "text/html": [
       "<table border=\"1\" class=\"dataframe\">\n",
       "  <thead>\n",
       "    <tr style=\"text-align: left;\">\n",
       "      <th>TimeR2Score</th>\n",
       "      <th>loss</th>\n",
       "      <th>epoch</th>\n",
       "      <th>train</th>\n",
       "      <th>time</th>\n",
       "    </tr>\n",
       "  </thead>\n",
       "  <tbody>\n",
       "    <tr>\n",
       "      <td>0.693</td>\n",
       "      <td>39.656</td>\n",
       "      <td>0</td>\n",
       "      <td>False</td>\n",
       "      <td>00:00</td>\n",
       "    </tr>\n",
       "  </tbody>\n",
       "</table>"
      ],
      "text/plain": [
       "<IPython.core.display.HTML object>"
      ]
     },
     "metadata": {},
     "output_type": "display_data"
    },
    {
     "name": "stdout",
     "output_type": "stream",
     "text": [
      "Inference on nascent\n",
      "\t\tpreds, targs\n",
      "tensor([[13.4042,  0.0000],\n",
      "        [ 2.9866,  4.0000],\n",
      "        [ 9.0967,  8.0000],\n",
      "        [ 5.9202, 12.0000],\n",
      "        [11.4620, 16.0000],\n",
      "        [21.2439, 20.0000],\n",
      "        [ 1.3440,  0.0000],\n",
      "        [ 1.8195,  4.0000],\n",
      "        [13.6683,  8.0000],\n",
      "        [ 8.3031, 12.0000],\n",
      "        [19.8520, 16.0000],\n",
      "        [22.2361, 20.0000]])\n",
      "result:  tensor(0.5611)\n"
     ]
    },
    {
     "data": {
      "text/html": [
       "\n",
       "<style>\n",
       "    /* Turns off some styling */\n",
       "    progress {\n",
       "        /* gets rid of default border in Firefox and Opera. */\n",
       "        border: none;\n",
       "        /* Needs to be in here for Safari polyfill so background images work as expected. */\n",
       "        background-size: auto;\n",
       "    }\n",
       "    progress:not([value]), progress:not([value])::-webkit-progress-bar {\n",
       "        background: repeating-linear-gradient(45deg, #7e7e7e, #7e7e7e 10px, #5c5c5c 10px, #5c5c5c 20px);\n",
       "    }\n",
       "    .progress-bar-interrupted, .progress-bar-interrupted::-webkit-progress-bar {\n",
       "        background: #F44336;\n",
       "    }\n",
       "</style>\n"
      ],
      "text/plain": [
       "<IPython.core.display.HTML object>"
      ]
     },
     "metadata": {},
     "output_type": "display_data"
    },
    {
     "data": {
      "text/html": [
       "<table border=\"1\" class=\"dataframe\">\n",
       "  <thead>\n",
       "    <tr style=\"text-align: left;\">\n",
       "      <th>TimeR2Score</th>\n",
       "      <th>loss</th>\n",
       "      <th>epoch</th>\n",
       "      <th>train</th>\n",
       "      <th>time</th>\n",
       "    </tr>\n",
       "  </thead>\n",
       "  <tbody>\n",
       "    <tr>\n",
       "      <td>0.620</td>\n",
       "      <td>17.956</td>\n",
       "      <td>0</td>\n",
       "      <td>False</td>\n",
       "      <td>00:00</td>\n",
       "    </tr>\n",
       "  </tbody>\n",
       "</table>"
      ],
      "text/plain": [
       "<IPython.core.display.HTML object>"
      ]
     },
     "metadata": {},
     "output_type": "display_data"
    },
    {
     "data": {
      "text/html": [
       "\n",
       "<style>\n",
       "    /* Turns off some styling */\n",
       "    progress {\n",
       "        /* gets rid of default border in Firefox and Opera. */\n",
       "        border: none;\n",
       "        /* Needs to be in here for Safari polyfill so background images work as expected. */\n",
       "        background-size: auto;\n",
       "    }\n",
       "    progress:not([value]), progress:not([value])::-webkit-progress-bar {\n",
       "        background: repeating-linear-gradient(45deg, #7e7e7e, #7e7e7e 10px, #5c5c5c 10px, #5c5c5c 20px);\n",
       "    }\n",
       "    .progress-bar-interrupted, .progress-bar-interrupted::-webkit-progress-bar {\n",
       "        background: #F44336;\n",
       "    }\n",
       "</style>\n"
      ],
      "text/plain": [
       "<IPython.core.display.HTML object>"
      ]
     },
     "metadata": {},
     "output_type": "display_data"
    },
    {
     "data": {
      "text/html": [
       "<table border=\"1\" class=\"dataframe\">\n",
       "  <thead>\n",
       "    <tr style=\"text-align: left;\">\n",
       "      <th>TimeR2Score</th>\n",
       "      <th>loss</th>\n",
       "      <th>epoch</th>\n",
       "      <th>train</th>\n",
       "      <th>time</th>\n",
       "    </tr>\n",
       "  </thead>\n",
       "  <tbody>\n",
       "    <tr>\n",
       "      <td>0.642</td>\n",
       "      <td>16.905</td>\n",
       "      <td>0</td>\n",
       "      <td>False</td>\n",
       "      <td>00:00</td>\n",
       "    </tr>\n",
       "  </tbody>\n",
       "</table>"
      ],
      "text/plain": [
       "<IPython.core.display.HTML object>"
      ]
     },
     "metadata": {},
     "output_type": "display_data"
    },
    {
     "name": "stdout",
     "output_type": "stream",
     "text": [
      "Inference on gro\n",
      "\t\tpreds, targs\n",
      "tensor([[ 4.9909,  1.0000],\n",
      "        [11.0958,  4.0000],\n",
      "        [ 5.6133,  7.0000],\n",
      "        [ 9.2589, 10.0000],\n",
      "        [13.4234, 13.0000],\n",
      "        [ 8.3146, 16.0000],\n",
      "        [20.2724, 19.0000],\n",
      "        [22.6278, 22.0000]])\n",
      "result:  tensor(0.6561)\n"
     ]
    },
    {
     "data": {
      "text/html": [
       "\n",
       "<style>\n",
       "    /* Turns off some styling */\n",
       "    progress {\n",
       "        /* gets rid of default border in Firefox and Opera. */\n",
       "        border: none;\n",
       "        /* Needs to be in here for Safari polyfill so background images work as expected. */\n",
       "        background-size: auto;\n",
       "    }\n",
       "    progress:not([value]), progress:not([value])::-webkit-progress-bar {\n",
       "        background: repeating-linear-gradient(45deg, #7e7e7e, #7e7e7e 10px, #5c5c5c 10px, #5c5c5c 20px);\n",
       "    }\n",
       "    .progress-bar-interrupted, .progress-bar-interrupted::-webkit-progress-bar {\n",
       "        background: #F44336;\n",
       "    }\n",
       "</style>\n"
      ],
      "text/plain": [
       "<IPython.core.display.HTML object>"
      ]
     },
     "metadata": {},
     "output_type": "display_data"
    },
    {
     "data": {
      "text/html": [
       "<table border=\"1\" class=\"dataframe\">\n",
       "  <thead>\n",
       "    <tr style=\"text-align: left;\">\n",
       "      <th>TimeR2Score</th>\n",
       "      <th>loss</th>\n",
       "      <th>epoch</th>\n",
       "      <th>train</th>\n",
       "      <th>time</th>\n",
       "    </tr>\n",
       "  </thead>\n",
       "  <tbody>\n",
       "    <tr>\n",
       "      <td>0.344</td>\n",
       "      <td>46.272</td>\n",
       "      <td>0</td>\n",
       "      <td>False</td>\n",
       "      <td>00:00</td>\n",
       "    </tr>\n",
       "  </tbody>\n",
       "</table>"
      ],
      "text/plain": [
       "<IPython.core.display.HTML object>"
      ]
     },
     "metadata": {},
     "output_type": "display_data"
    },
    {
     "data": {
      "text/html": [
       "\n",
       "<style>\n",
       "    /* Turns off some styling */\n",
       "    progress {\n",
       "        /* gets rid of default border in Firefox and Opera. */\n",
       "        border: none;\n",
       "        /* Needs to be in here for Safari polyfill so background images work as expected. */\n",
       "        background-size: auto;\n",
       "    }\n",
       "    progress:not([value]), progress:not([value])::-webkit-progress-bar {\n",
       "        background: repeating-linear-gradient(45deg, #7e7e7e, #7e7e7e 10px, #5c5c5c 10px, #5c5c5c 20px);\n",
       "    }\n",
       "    .progress-bar-interrupted, .progress-bar-interrupted::-webkit-progress-bar {\n",
       "        background: #F44336;\n",
       "    }\n",
       "</style>\n"
      ],
      "text/plain": [
       "<IPython.core.display.HTML object>"
      ]
     },
     "metadata": {},
     "output_type": "display_data"
    },
    {
     "data": {
      "text/html": [
       "<table border=\"1\" class=\"dataframe\">\n",
       "  <thead>\n",
       "    <tr style=\"text-align: left;\">\n",
       "      <th>TimeR2Score</th>\n",
       "      <th>loss</th>\n",
       "      <th>epoch</th>\n",
       "      <th>train</th>\n",
       "      <th>time</th>\n",
       "    </tr>\n",
       "  </thead>\n",
       "  <tbody>\n",
       "    <tr>\n",
       "      <td>0.379</td>\n",
       "      <td>32.321</td>\n",
       "      <td>0</td>\n",
       "      <td>False</td>\n",
       "      <td>00:00</td>\n",
       "    </tr>\n",
       "  </tbody>\n",
       "</table>"
      ],
      "text/plain": [
       "<IPython.core.display.HTML object>"
      ]
     },
     "metadata": {},
     "output_type": "display_data"
    },
    {
     "name": "stdout",
     "output_type": "stream",
     "text": [
      "Inference on rna\n",
      "\t\tpreds, targs\n",
      "tensor([[13.5897,  2.0000],\n",
      "        [ 5.3830,  6.0000],\n",
      "        [ 9.6188, 10.0000],\n",
      "        [15.3399, 14.0000],\n",
      "        [22.9929, 18.0000],\n",
      "        [20.9813, 22.0000],\n",
      "        [ 1.5930,  2.0000],\n",
      "        [ 8.1299,  6.0000],\n",
      "        [10.2189, 10.0000],\n",
      "        [10.4042, 14.0000],\n",
      "        [ 7.1830, 18.0000],\n",
      "        [ 9.2924, 22.0000]])\n",
      "result:  tensor(0.2414)\n"
     ]
    },
    {
     "data": {
      "text/html": [
       "\n",
       "<style>\n",
       "    /* Turns off some styling */\n",
       "    progress {\n",
       "        /* gets rid of default border in Firefox and Opera. */\n",
       "        border: none;\n",
       "        /* Needs to be in here for Safari polyfill so background images work as expected. */\n",
       "        background-size: auto;\n",
       "    }\n",
       "    progress:not([value]), progress:not([value])::-webkit-progress-bar {\n",
       "        background: repeating-linear-gradient(45deg, #7e7e7e, #7e7e7e 10px, #5c5c5c 10px, #5c5c5c 20px);\n",
       "    }\n",
       "    .progress-bar-interrupted, .progress-bar-interrupted::-webkit-progress-bar {\n",
       "        background: #F44336;\n",
       "    }\n",
       "</style>\n"
      ],
      "text/plain": [
       "<IPython.core.display.HTML object>"
      ]
     },
     "metadata": {},
     "output_type": "display_data"
    },
    {
     "data": {
      "text/html": [
       "<table border=\"1\" class=\"dataframe\">\n",
       "  <thead>\n",
       "    <tr style=\"text-align: left;\">\n",
       "      <th>TimeR2Score</th>\n",
       "      <th>loss</th>\n",
       "      <th>epoch</th>\n",
       "      <th>train</th>\n",
       "      <th>time</th>\n",
       "    </tr>\n",
       "  </thead>\n",
       "  <tbody>\n",
       "    <tr>\n",
       "      <td>0.676</td>\n",
       "      <td>143.772</td>\n",
       "      <td>0</td>\n",
       "      <td>False</td>\n",
       "      <td>00:01</td>\n",
       "    </tr>\n",
       "  </tbody>\n",
       "</table>"
      ],
      "text/plain": [
       "<IPython.core.display.HTML object>"
      ]
     },
     "metadata": {},
     "output_type": "display_data"
    },
    {
     "data": {
      "text/html": [
       "\n",
       "<style>\n",
       "    /* Turns off some styling */\n",
       "    progress {\n",
       "        /* gets rid of default border in Firefox and Opera. */\n",
       "        border: none;\n",
       "        /* Needs to be in here for Safari polyfill so background images work as expected. */\n",
       "        background-size: auto;\n",
       "    }\n",
       "    progress:not([value]), progress:not([value])::-webkit-progress-bar {\n",
       "        background: repeating-linear-gradient(45deg, #7e7e7e, #7e7e7e 10px, #5c5c5c 10px, #5c5c5c 20px);\n",
       "    }\n",
       "    .progress-bar-interrupted, .progress-bar-interrupted::-webkit-progress-bar {\n",
       "        background: #F44336;\n",
       "    }\n",
       "</style>\n"
      ],
      "text/plain": [
       "<IPython.core.display.HTML object>"
      ]
     },
     "metadata": {},
     "output_type": "display_data"
    },
    {
     "data": {
      "text/html": [
       "<table border=\"1\" class=\"dataframe\">\n",
       "  <thead>\n",
       "    <tr style=\"text-align: left;\">\n",
       "      <th>TimeR2Score</th>\n",
       "      <th>loss</th>\n",
       "      <th>epoch</th>\n",
       "      <th>train</th>\n",
       "      <th>time</th>\n",
       "    </tr>\n",
       "  </thead>\n",
       "  <tbody>\n",
       "    <tr>\n",
       "      <td>0.687</td>\n",
       "      <td>142.137</td>\n",
       "      <td>0</td>\n",
       "      <td>False</td>\n",
       "      <td>00:01</td>\n",
       "    </tr>\n",
       "  </tbody>\n",
       "</table>"
      ],
      "text/plain": [
       "<IPython.core.display.HTML object>"
      ]
     },
     "metadata": {},
     "output_type": "display_data"
    },
    {
     "name": "stdout",
     "output_type": "stream",
     "text": [
      "Inference on more\n",
      "\t\tpreds, targs\n",
      "tensor([[ 5.5808, 22.0000],\n",
      "        [ 6.1243, 22.0000],\n",
      "        [ 8.4140, 10.0000],\n",
      "        [11.3691, 18.0000],\n",
      "        [10.6286,  2.0000],\n",
      "        [11.3836, 18.0000],\n",
      "        [10.0225, 14.0000],\n",
      "        [ 3.8225,  6.0000],\n",
      "        [ 3.7184,  6.0000],\n",
      "        [10.1750, 14.0000],\n",
      "        [ 8.3022, 10.0000],\n",
      "        [10.2645,  2.0000],\n",
      "        [20.5256, 24.0000],\n",
      "        [20.4717, 21.0000],\n",
      "        [ 8.0904, 33.0000],\n",
      "        ...,\n",
      "        [17.5685,  7.5000],\n",
      "        [21.8089,  1.5000],\n",
      "        [16.2196, 16.5000],\n",
      "        [23.6125,  4.5000],\n",
      "        [20.8393, 22.5000],\n",
      "        [17.4118, 16.5000],\n",
      "        [22.8282,  1.5000],\n",
      "        [13.7896, 10.5000],\n",
      "        [19.7851, 16.5000],\n",
      "        [23.5764,  1.5000],\n",
      "        [14.4094, 13.5000],\n",
      "        [18.7802,  7.5000],\n",
      "        [22.0436, 19.5000],\n",
      "        [12.7400,  7.5000],\n",
      "        [15.9568, 13.5000]])\n",
      "result:  tensor(0.6825)\n"
     ]
    }
   ],
   "source": [
    "lr, epochs = .3, 5\n",
    "tmax = epochs * len(dls.train)\n",
    "sched = partial(lr_scheduler.OneCycleLR, max_lr=lr, total_steps=tmax)\n",
    "xtra = [BatchSchedCB(sched)]\n",
    "ensemble_model(nlearn, get_model, epochs=epochs, lr=lr, cbs=cbs+xtra, opt_func=optim.AdamW)"
   ]
  },
  {
   "cell_type": "code",
   "execution_count": 167,
   "metadata": {
    "colab": {
     "base_uri": "https://localhost:8080/",
     "height": 1000
    },
    "id": "8LwFjXn52VNY",
    "outputId": "33e3dfa0-e815-419e-f8ec-d7b8d7847c6b",
    "scrolled": false
   },
   "outputs": [
    {
     "name": "stdout",
     "output_type": "stream",
     "text": [
      "Training models\n"
     ]
    },
    {
     "data": {
      "text/html": [
       "\n",
       "<style>\n",
       "    /* Turns off some styling */\n",
       "    progress {\n",
       "        /* gets rid of default border in Firefox and Opera. */\n",
       "        border: none;\n",
       "        /* Needs to be in here for Safari polyfill so background images work as expected. */\n",
       "        background-size: auto;\n",
       "    }\n",
       "    progress:not([value]), progress:not([value])::-webkit-progress-bar {\n",
       "        background: repeating-linear-gradient(45deg, #7e7e7e, #7e7e7e 10px, #5c5c5c 10px, #5c5c5c 20px);\n",
       "    }\n",
       "    .progress-bar-interrupted, .progress-bar-interrupted::-webkit-progress-bar {\n",
       "        background: #F44336;\n",
       "    }\n",
       "</style>\n"
      ],
      "text/plain": [
       "<IPython.core.display.HTML object>"
      ]
     },
     "metadata": {},
     "output_type": "display_data"
    },
    {
     "data": {
      "text/html": [
       "<table border=\"1\" class=\"dataframe\">\n",
       "  <thead>\n",
       "    <tr style=\"text-align: left;\">\n",
       "      <th>TimeR2Score</th>\n",
       "      <th>loss</th>\n",
       "      <th>epoch</th>\n",
       "      <th>train</th>\n",
       "      <th>time</th>\n",
       "    </tr>\n",
       "  </thead>\n",
       "  <tbody>\n",
       "    <tr>\n",
       "      <td>0.778</td>\n",
       "      <td>10.425</td>\n",
       "      <td>0</td>\n",
       "      <td>True</td>\n",
       "      <td>00:01</td>\n",
       "    </tr>\n",
       "    <tr>\n",
       "      <td>0.854</td>\n",
       "      <td>6.708</td>\n",
       "      <td>0</td>\n",
       "      <td>False</td>\n",
       "      <td>00:00</td>\n",
       "    </tr>\n",
       "    <tr>\n",
       "      <td>0.882</td>\n",
       "      <td>5.406</td>\n",
       "      <td>1</td>\n",
       "      <td>True</td>\n",
       "      <td>00:01</td>\n",
       "    </tr>\n",
       "    <tr>\n",
       "      <td>0.870</td>\n",
       "      <td>6.281</td>\n",
       "      <td>1</td>\n",
       "      <td>False</td>\n",
       "      <td>00:00</td>\n",
       "    </tr>\n",
       "    <tr>\n",
       "      <td>0.929</td>\n",
       "      <td>3.193</td>\n",
       "      <td>2</td>\n",
       "      <td>True</td>\n",
       "      <td>00:01</td>\n",
       "    </tr>\n",
       "    <tr>\n",
       "      <td>0.869</td>\n",
       "      <td>6.172</td>\n",
       "      <td>2</td>\n",
       "      <td>False</td>\n",
       "      <td>00:00</td>\n",
       "    </tr>\n",
       "    <tr>\n",
       "      <td>0.955</td>\n",
       "      <td>2.007</td>\n",
       "      <td>3</td>\n",
       "      <td>True</td>\n",
       "      <td>00:01</td>\n",
       "    </tr>\n",
       "    <tr>\n",
       "      <td>0.895</td>\n",
       "      <td>4.909</td>\n",
       "      <td>3</td>\n",
       "      <td>False</td>\n",
       "      <td>00:00</td>\n",
       "    </tr>\n",
       "    <tr>\n",
       "      <td>0.971</td>\n",
       "      <td>1.275</td>\n",
       "      <td>4</td>\n",
       "      <td>True</td>\n",
       "      <td>00:01</td>\n",
       "    </tr>\n",
       "    <tr>\n",
       "      <td>0.896</td>\n",
       "      <td>4.804</td>\n",
       "      <td>4</td>\n",
       "      <td>False</td>\n",
       "      <td>00:00</td>\n",
       "    </tr>\n",
       "    <tr>\n",
       "      <td>0.978</td>\n",
       "      <td>0.984</td>\n",
       "      <td>5</td>\n",
       "      <td>True</td>\n",
       "      <td>00:01</td>\n",
       "    </tr>\n",
       "    <tr>\n",
       "      <td>0.897</td>\n",
       "      <td>4.795</td>\n",
       "      <td>5</td>\n",
       "      <td>False</td>\n",
       "      <td>00:00</td>\n",
       "    </tr>\n",
       "  </tbody>\n",
       "</table>"
      ],
      "text/plain": [
       "<IPython.core.display.HTML object>"
      ]
     },
     "metadata": {},
     "output_type": "display_data"
    },
    {
     "data": {
      "image/png": "[encoded data removed]",
      "text/plain": [
       "<Figure size 600x400 with 1 Axes>"
      ]
     },
     "metadata": {},
     "output_type": "display_data"
    },
    {
     "data": {
      "text/html": [
       "\n",
       "<style>\n",
       "    /* Turns off some styling */\n",
       "    progress {\n",
       "        /* gets rid of default border in Firefox and Opera. */\n",
       "        border: none;\n",
       "        /* Needs to be in here for Safari polyfill so background images work as expected. */\n",
       "        background-size: auto;\n",
       "    }\n",
       "    progress:not([value]), progress:not([value])::-webkit-progress-bar {\n",
       "        background: repeating-linear-gradient(45deg, #7e7e7e, #7e7e7e 10px, #5c5c5c 10px, #5c5c5c 20px);\n",
       "    }\n",
       "    .progress-bar-interrupted, .progress-bar-interrupted::-webkit-progress-bar {\n",
       "        background: #F44336;\n",
       "    }\n",
       "</style>\n"
      ],
      "text/plain": [
       "<IPython.core.display.HTML object>"
      ]
     },
     "metadata": {},
     "output_type": "display_data"
    },
    {
     "data": {
      "text/html": [
       "<table border=\"1\" class=\"dataframe\">\n",
       "  <thead>\n",
       "    <tr style=\"text-align: left;\">\n",
       "      <th>TimeR2Score</th>\n",
       "      <th>loss</th>\n",
       "      <th>epoch</th>\n",
       "      <th>train</th>\n",
       "      <th>time</th>\n",
       "    </tr>\n",
       "  </thead>\n",
       "  <tbody>\n",
       "    <tr>\n",
       "      <td>0.778</td>\n",
       "      <td>10.496</td>\n",
       "      <td>0</td>\n",
       "      <td>True</td>\n",
       "      <td>00:01</td>\n",
       "    </tr>\n",
       "    <tr>\n",
       "      <td>0.851</td>\n",
       "      <td>6.682</td>\n",
       "      <td>0</td>\n",
       "      <td>False</td>\n",
       "      <td>00:00</td>\n",
       "    </tr>\n",
       "    <tr>\n",
       "      <td>0.882</td>\n",
       "      <td>5.419</td>\n",
       "      <td>1</td>\n",
       "      <td>True</td>\n",
       "      <td>00:01</td>\n",
       "    </tr>\n",
       "    <tr>\n",
       "      <td>0.855</td>\n",
       "      <td>6.696</td>\n",
       "      <td>1</td>\n",
       "      <td>False</td>\n",
       "      <td>00:00</td>\n",
       "    </tr>\n",
       "    <tr>\n",
       "      <td>0.927</td>\n",
       "      <td>3.268</td>\n",
       "      <td>2</td>\n",
       "      <td>True</td>\n",
       "      <td>00:01</td>\n",
       "    </tr>\n",
       "    <tr>\n",
       "      <td>0.864</td>\n",
       "      <td>6.617</td>\n",
       "      <td>2</td>\n",
       "      <td>False</td>\n",
       "      <td>00:00</td>\n",
       "    </tr>\n",
       "    <tr>\n",
       "      <td>0.955</td>\n",
       "      <td>1.980</td>\n",
       "      <td>3</td>\n",
       "      <td>True</td>\n",
       "      <td>00:01</td>\n",
       "    </tr>\n",
       "    <tr>\n",
       "      <td>0.890</td>\n",
       "      <td>5.060</td>\n",
       "      <td>3</td>\n",
       "      <td>False</td>\n",
       "      <td>00:00</td>\n",
       "    </tr>\n",
       "    <tr>\n",
       "      <td>0.972</td>\n",
       "      <td>1.247</td>\n",
       "      <td>4</td>\n",
       "      <td>True</td>\n",
       "      <td>00:01</td>\n",
       "    </tr>\n",
       "    <tr>\n",
       "      <td>0.898</td>\n",
       "      <td>4.727</td>\n",
       "      <td>4</td>\n",
       "      <td>False</td>\n",
       "      <td>00:00</td>\n",
       "    </tr>\n",
       "    <tr>\n",
       "      <td>0.978</td>\n",
       "      <td>0.991</td>\n",
       "      <td>5</td>\n",
       "      <td>True</td>\n",
       "      <td>00:01</td>\n",
       "    </tr>\n",
       "    <tr>\n",
       "      <td>0.897</td>\n",
       "      <td>4.680</td>\n",
       "      <td>5</td>\n",
       "      <td>False</td>\n",
       "      <td>00:00</td>\n",
       "    </tr>\n",
       "  </tbody>\n",
       "</table>"
      ],
      "text/plain": [
       "<IPython.core.display.HTML object>"
      ]
     },
     "metadata": {},
     "output_type": "display_data"
    },
    {
     "data": {
      "image/png": "[encoded data removed]",
      "text/plain": [
       "<Figure size 600x400 with 1 Axes>"
      ]
     },
     "metadata": {},
     "output_type": "display_data"
    },
    {
     "name": "stdout",
     "output_type": "stream",
     "text": [
      "Making inference on test data\n"
     ]
    },
    {
     "data": {
      "text/html": [
       "\n",
       "<style>\n",
       "    /* Turns off some styling */\n",
       "    progress {\n",
       "        /* gets rid of default border in Firefox and Opera. */\n",
       "        border: none;\n",
       "        /* Needs to be in here for Safari polyfill so background images work as expected. */\n",
       "        background-size: auto;\n",
       "    }\n",
       "    progress:not([value]), progress:not([value])::-webkit-progress-bar {\n",
       "        background: repeating-linear-gradient(45deg, #7e7e7e, #7e7e7e 10px, #5c5c5c 10px, #5c5c5c 20px);\n",
       "    }\n",
       "    .progress-bar-interrupted, .progress-bar-interrupted::-webkit-progress-bar {\n",
       "        background: #F44336;\n",
       "    }\n",
       "</style>\n"
      ],
      "text/plain": [
       "<IPython.core.display.HTML object>"
      ]
     },
     "metadata": {},
     "output_type": "display_data"
    },
    {
     "data": {
      "text/html": [
       "<table border=\"1\" class=\"dataframe\">\n",
       "  <thead>\n",
       "    <tr style=\"text-align: left;\">\n",
       "      <th>TimeR2Score</th>\n",
       "      <th>loss</th>\n",
       "      <th>epoch</th>\n",
       "      <th>train</th>\n",
       "      <th>time</th>\n",
       "    </tr>\n",
       "  </thead>\n",
       "  <tbody>\n",
       "    <tr>\n",
       "      <td>0.653</td>\n",
       "      <td>30.264</td>\n",
       "      <td>0</td>\n",
       "      <td>False</td>\n",
       "      <td>00:00</td>\n",
       "    </tr>\n",
       "  </tbody>\n",
       "</table>"
      ],
      "text/plain": [
       "<IPython.core.display.HTML object>"
      ]
     },
     "metadata": {},
     "output_type": "display_data"
    },
    {
     "data": {
      "text/html": [
       "\n",
       "<style>\n",
       "    /* Turns off some styling */\n",
       "    progress {\n",
       "        /* gets rid of default border in Firefox and Opera. */\n",
       "        border: none;\n",
       "        /* Needs to be in here for Safari polyfill so background images work as expected. */\n",
       "        background-size: auto;\n",
       "    }\n",
       "    progress:not([value]), progress:not([value])::-webkit-progress-bar {\n",
       "        background: repeating-linear-gradient(45deg, #7e7e7e, #7e7e7e 10px, #5c5c5c 10px, #5c5c5c 20px);\n",
       "    }\n",
       "    .progress-bar-interrupted, .progress-bar-interrupted::-webkit-progress-bar {\n",
       "        background: #F44336;\n",
       "    }\n",
       "</style>\n"
      ],
      "text/plain": [
       "<IPython.core.display.HTML object>"
      ]
     },
     "metadata": {},
     "output_type": "display_data"
    },
    {
     "data": {
      "text/html": [
       "<table border=\"1\" class=\"dataframe\">\n",
       "  <thead>\n",
       "    <tr style=\"text-align: left;\">\n",
       "      <th>TimeR2Score</th>\n",
       "      <th>loss</th>\n",
       "      <th>epoch</th>\n",
       "      <th>train</th>\n",
       "      <th>time</th>\n",
       "    </tr>\n",
       "  </thead>\n",
       "  <tbody>\n",
       "    <tr>\n",
       "      <td>0.682</td>\n",
       "      <td>33.304</td>\n",
       "      <td>0</td>\n",
       "      <td>False</td>\n",
       "      <td>00:00</td>\n",
       "    </tr>\n",
       "  </tbody>\n",
       "</table>"
      ],
      "text/plain": [
       "<IPython.core.display.HTML object>"
      ]
     },
     "metadata": {},
     "output_type": "display_data"
    },
    {
     "name": "stdout",
     "output_type": "stream",
     "text": [
      "Inference on nascent\n",
      "\t\tpreds, targs\n",
      "tensor([[16.0643,  0.0000],\n",
      "        [ 4.3661,  4.0000],\n",
      "        [ 8.9190,  8.0000],\n",
      "        [ 6.5684, 12.0000],\n",
      "        [11.7549, 16.0000],\n",
      "        [21.6964, 20.0000],\n",
      "        [ 0.9285,  0.0000],\n",
      "        [ 2.3394,  4.0000],\n",
      "        [13.2769,  8.0000],\n",
      "        [ 9.1888, 12.0000],\n",
      "        [20.5335, 16.0000],\n",
      "        [22.9453, 20.0000]])\n",
      "result:  tensor(0.6733)\n"
     ]
    },
    {
     "data": {
      "text/html": [
       "\n",
       "<style>\n",
       "    /* Turns off some styling */\n",
       "    progress {\n",
       "        /* gets rid of default border in Firefox and Opera. */\n",
       "        border: none;\n",
       "        /* Needs to be in here for Safari polyfill so background images work as expected. */\n",
       "        background-size: auto;\n",
       "    }\n",
       "    progress:not([value]), progress:not([value])::-webkit-progress-bar {\n",
       "        background: repeating-linear-gradient(45deg, #7e7e7e, #7e7e7e 10px, #5c5c5c 10px, #5c5c5c 20px);\n",
       "    }\n",
       "    .progress-bar-interrupted, .progress-bar-interrupted::-webkit-progress-bar {\n",
       "        background: #F44336;\n",
       "    }\n",
       "</style>\n"
      ],
      "text/plain": [
       "<IPython.core.display.HTML object>"
      ]
     },
     "metadata": {},
     "output_type": "display_data"
    },
    {
     "data": {
      "text/html": [
       "<table border=\"1\" class=\"dataframe\">\n",
       "  <thead>\n",
       "    <tr style=\"text-align: left;\">\n",
       "      <th>TimeR2Score</th>\n",
       "      <th>loss</th>\n",
       "      <th>epoch</th>\n",
       "      <th>train</th>\n",
       "      <th>time</th>\n",
       "    </tr>\n",
       "  </thead>\n",
       "  <tbody>\n",
       "    <tr>\n",
       "      <td>0.706</td>\n",
       "      <td>13.889</td>\n",
       "      <td>0</td>\n",
       "      <td>False</td>\n",
       "      <td>00:00</td>\n",
       "    </tr>\n",
       "  </tbody>\n",
       "</table>"
      ],
      "text/plain": [
       "<IPython.core.display.HTML object>"
      ]
     },
     "metadata": {},
     "output_type": "display_data"
    },
    {
     "data": {
      "text/html": [
       "\n",
       "<style>\n",
       "    /* Turns off some styling */\n",
       "    progress {\n",
       "        /* gets rid of default border in Firefox and Opera. */\n",
       "        border: none;\n",
       "        /* Needs to be in here for Safari polyfill so background images work as expected. */\n",
       "        background-size: auto;\n",
       "    }\n",
       "    progress:not([value]), progress:not([value])::-webkit-progress-bar {\n",
       "        background: repeating-linear-gradient(45deg, #7e7e7e, #7e7e7e 10px, #5c5c5c 10px, #5c5c5c 20px);\n",
       "    }\n",
       "    .progress-bar-interrupted, .progress-bar-interrupted::-webkit-progress-bar {\n",
       "        background: #F44336;\n",
       "    }\n",
       "</style>\n"
      ],
      "text/plain": [
       "<IPython.core.display.HTML object>"
      ]
     },
     "metadata": {},
     "output_type": "display_data"
    },
    {
     "data": {
      "text/html": [
       "<table border=\"1\" class=\"dataframe\">\n",
       "  <thead>\n",
       "    <tr style=\"text-align: left;\">\n",
       "      <th>TimeR2Score</th>\n",
       "      <th>loss</th>\n",
       "      <th>epoch</th>\n",
       "      <th>train</th>\n",
       "      <th>time</th>\n",
       "    </tr>\n",
       "  </thead>\n",
       "  <tbody>\n",
       "    <tr>\n",
       "      <td>0.844</td>\n",
       "      <td>7.380</td>\n",
       "      <td>0</td>\n",
       "      <td>False</td>\n",
       "      <td>00:00</td>\n",
       "    </tr>\n",
       "  </tbody>\n",
       "</table>"
      ],
      "text/plain": [
       "<IPython.core.display.HTML object>"
      ]
     },
     "metadata": {},
     "output_type": "display_data"
    },
    {
     "name": "stdout",
     "output_type": "stream",
     "text": [
      "Inference on gro\n",
      "\t\tpreds, targs\n",
      "tensor([[ 2.6241,  1.0000],\n",
      "        [ 7.2638,  4.0000],\n",
      "        [ 6.2155,  7.0000],\n",
      "        [ 9.4172, 10.0000],\n",
      "        [13.0717, 13.0000],\n",
      "        [ 8.9579, 16.0000],\n",
      "        [21.1072, 19.0000],\n",
      "        [23.1572, 22.0000]])\n",
      "result:  tensor(0.8158)\n"
     ]
    },
    {
     "data": {
      "text/html": [
       "\n",
       "<style>\n",
       "    /* Turns off some styling */\n",
       "    progress {\n",
       "        /* gets rid of default border in Firefox and Opera. */\n",
       "        border: none;\n",
       "        /* Needs to be in here for Safari polyfill so background images work as expected. */\n",
       "        background-size: auto;\n",
       "    }\n",
       "    progress:not([value]), progress:not([value])::-webkit-progress-bar {\n",
       "        background: repeating-linear-gradient(45deg, #7e7e7e, #7e7e7e 10px, #5c5c5c 10px, #5c5c5c 20px);\n",
       "    }\n",
       "    .progress-bar-interrupted, .progress-bar-interrupted::-webkit-progress-bar {\n",
       "        background: #F44336;\n",
       "    }\n",
       "</style>\n"
      ],
      "text/plain": [
       "<IPython.core.display.HTML object>"
      ]
     },
     "metadata": {},
     "output_type": "display_data"
    },
    {
     "data": {
      "text/html": [
       "<table border=\"1\" class=\"dataframe\">\n",
       "  <thead>\n",
       "    <tr style=\"text-align: left;\">\n",
       "      <th>TimeR2Score</th>\n",
       "      <th>loss</th>\n",
       "      <th>epoch</th>\n",
       "      <th>train</th>\n",
       "      <th>time</th>\n",
       "    </tr>\n",
       "  </thead>\n",
       "  <tbody>\n",
       "    <tr>\n",
       "      <td>0.545</td>\n",
       "      <td>46.411</td>\n",
       "      <td>0</td>\n",
       "      <td>False</td>\n",
       "      <td>00:00</td>\n",
       "    </tr>\n",
       "  </tbody>\n",
       "</table>"
      ],
      "text/plain": [
       "<IPython.core.display.HTML object>"
      ]
     },
     "metadata": {},
     "output_type": "display_data"
    },
    {
     "data": {
      "text/html": [
       "\n",
       "<style>\n",
       "    /* Turns off some styling */\n",
       "    progress {\n",
       "        /* gets rid of default border in Firefox and Opera. */\n",
       "        border: none;\n",
       "        /* Needs to be in here for Safari polyfill so background images work as expected. */\n",
       "        background-size: auto;\n",
       "    }\n",
       "    progress:not([value]), progress:not([value])::-webkit-progress-bar {\n",
       "        background: repeating-linear-gradient(45deg, #7e7e7e, #7e7e7e 10px, #5c5c5c 10px, #5c5c5c 20px);\n",
       "    }\n",
       "    .progress-bar-interrupted, .progress-bar-interrupted::-webkit-progress-bar {\n",
       "        background: #F44336;\n",
       "    }\n",
       "</style>\n"
      ],
      "text/plain": [
       "<IPython.core.display.HTML object>"
      ]
     },
     "metadata": {},
     "output_type": "display_data"
    },
    {
     "data": {
      "text/html": [
       "<table border=\"1\" class=\"dataframe\">\n",
       "  <thead>\n",
       "    <tr style=\"text-align: left;\">\n",
       "      <th>TimeR2Score</th>\n",
       "      <th>loss</th>\n",
       "      <th>epoch</th>\n",
       "      <th>train</th>\n",
       "      <th>time</th>\n",
       "    </tr>\n",
       "  </thead>\n",
       "  <tbody>\n",
       "    <tr>\n",
       "      <td>0.357</td>\n",
       "      <td>34.772</td>\n",
       "      <td>0</td>\n",
       "      <td>False</td>\n",
       "      <td>00:00</td>\n",
       "    </tr>\n",
       "  </tbody>\n",
       "</table>"
      ],
      "text/plain": [
       "<IPython.core.display.HTML object>"
      ]
     },
     "metadata": {},
     "output_type": "display_data"
    },
    {
     "name": "stdout",
     "output_type": "stream",
     "text": [
      "Inference on rna\n",
      "\t\tpreds, targs\n",
      "tensor([[11.7160,  2.0000],\n",
      "        [ 6.0308,  6.0000],\n",
      "        [ 9.5971, 10.0000],\n",
      "        [15.0458, 14.0000],\n",
      "        [23.5720, 18.0000],\n",
      "        [21.6974, 22.0000],\n",
      "        [ 1.8700,  2.0000],\n",
      "        [ 7.8866,  6.0000],\n",
      "        [10.8767, 10.0000],\n",
      "        [10.6843, 14.0000],\n",
      "        [ 6.8459, 18.0000],\n",
      "        [ 8.1357, 22.0000]])\n",
      "result:  tensor(0.3406)\n"
     ]
    },
    {
     "data": {
      "text/html": [
       "\n",
       "<style>\n",
       "    /* Turns off some styling */\n",
       "    progress {\n",
       "        /* gets rid of default border in Firefox and Opera. */\n",
       "        border: none;\n",
       "        /* Needs to be in here for Safari polyfill so background images work as expected. */\n",
       "        background-size: auto;\n",
       "    }\n",
       "    progress:not([value]), progress:not([value])::-webkit-progress-bar {\n",
       "        background: repeating-linear-gradient(45deg, #7e7e7e, #7e7e7e 10px, #5c5c5c 10px, #5c5c5c 20px);\n",
       "    }\n",
       "    .progress-bar-interrupted, .progress-bar-interrupted::-webkit-progress-bar {\n",
       "        background: #F44336;\n",
       "    }\n",
       "</style>\n"
      ],
      "text/plain": [
       "<IPython.core.display.HTML object>"
      ]
     },
     "metadata": {},
     "output_type": "display_data"
    },
    {
     "data": {
      "text/html": [
       "<table border=\"1\" class=\"dataframe\">\n",
       "  <thead>\n",
       "    <tr style=\"text-align: left;\">\n",
       "      <th>TimeR2Score</th>\n",
       "      <th>loss</th>\n",
       "      <th>epoch</th>\n",
       "      <th>train</th>\n",
       "      <th>time</th>\n",
       "    </tr>\n",
       "  </thead>\n",
       "  <tbody>\n",
       "    <tr>\n",
       "      <td>0.683</td>\n",
       "      <td>138.784</td>\n",
       "      <td>0</td>\n",
       "      <td>False</td>\n",
       "      <td>00:01</td>\n",
       "    </tr>\n",
       "  </tbody>\n",
       "</table>"
      ],
      "text/plain": [
       "<IPython.core.display.HTML object>"
      ]
     },
     "metadata": {},
     "output_type": "display_data"
    },
    {
     "data": {
      "text/html": [
       "\n",
       "<style>\n",
       "    /* Turns off some styling */\n",
       "    progress {\n",
       "        /* gets rid of default border in Firefox and Opera. */\n",
       "        border: none;\n",
       "        /* Needs to be in here for Safari polyfill so background images work as expected. */\n",
       "        background-size: auto;\n",
       "    }\n",
       "    progress:not([value]), progress:not([value])::-webkit-progress-bar {\n",
       "        background: repeating-linear-gradient(45deg, #7e7e7e, #7e7e7e 10px, #5c5c5c 10px, #5c5c5c 20px);\n",
       "    }\n",
       "    .progress-bar-interrupted, .progress-bar-interrupted::-webkit-progress-bar {\n",
       "        background: #F44336;\n",
       "    }\n",
       "</style>\n"
      ],
      "text/plain": [
       "<IPython.core.display.HTML object>"
      ]
     },
     "metadata": {},
     "output_type": "display_data"
    },
    {
     "data": {
      "text/html": [
       "<table border=\"1\" class=\"dataframe\">\n",
       "  <thead>\n",
       "    <tr style=\"text-align: left;\">\n",
       "      <th>TimeR2Score</th>\n",
       "      <th>loss</th>\n",
       "      <th>epoch</th>\n",
       "      <th>train</th>\n",
       "      <th>time</th>\n",
       "    </tr>\n",
       "  </thead>\n",
       "  <tbody>\n",
       "    <tr>\n",
       "      <td>0.702</td>\n",
       "      <td>137.880</td>\n",
       "      <td>0</td>\n",
       "      <td>False</td>\n",
       "      <td>00:01</td>\n",
       "    </tr>\n",
       "  </tbody>\n",
       "</table>"
      ],
      "text/plain": [
       "<IPython.core.display.HTML object>"
      ]
     },
     "metadata": {},
     "output_type": "display_data"
    },
    {
     "name": "stdout",
     "output_type": "stream",
     "text": [
      "Inference on more\n",
      "\t\tpreds, targs\n",
      "tensor([[ 5.6992, 22.0000],\n",
      "        [ 6.3776, 22.0000],\n",
      "        [ 9.0049, 10.0000],\n",
      "        [11.2993, 18.0000],\n",
      "        [10.5129,  2.0000],\n",
      "        [11.3161, 18.0000],\n",
      "        [10.4159, 14.0000],\n",
      "        [ 4.1209,  6.0000],\n",
      "        [ 4.4901,  6.0000],\n",
      "        [10.7635, 14.0000],\n",
      "        [ 8.7868, 10.0000],\n",
      "        [10.1053,  2.0000],\n",
      "        [20.3516, 24.0000],\n",
      "        [20.1734, 21.0000],\n",
      "        [ 7.5981, 33.0000],\n",
      "        ...,\n",
      "        [17.7108,  7.5000],\n",
      "        [21.5591,  1.5000],\n",
      "        [16.1124, 16.5000],\n",
      "        [23.6043,  4.5000],\n",
      "        [20.6143, 22.5000],\n",
      "        [17.3593, 16.5000],\n",
      "        [22.7157,  1.5000],\n",
      "        [13.8172, 10.5000],\n",
      "        [19.5886, 16.5000],\n",
      "        [23.6047,  1.5000],\n",
      "        [14.6677, 13.5000],\n",
      "        [17.5155,  7.5000],\n",
      "        [22.1124, 19.5000],\n",
      "        [13.2296,  7.5000],\n",
      "        [15.9491, 13.5000]])\n",
      "result:  tensor(0.6931)\n"
     ]
    }
   ],
   "source": [
    "lr, epochs = .1, 6\n",
    "tmax = epochs * len(dls.train)\n",
    "sched = partial(lr_scheduler.OneCycleLR, max_lr=lr, total_steps=tmax)\n",
    "xtra = [BatchSchedCB(sched)]\n",
    "ensemble_model(nlearn, get_model, epochs=epochs, lr=lr, cbs=cbs+xtra, opt_func=optim.AdamW)"
   ]
  },
  {
   "cell_type": "code",
   "execution_count": 168,
   "metadata": {},
   "outputs": [],
   "source": [
    "torch.set_printoptions(edgeitems=15, linewidth=100)"
   ]
  },
  {
   "cell_type": "code",
   "execution_count": 169,
   "metadata": {
    "scrolled": false
   },
   "outputs": [
    {
     "name": "stdout",
     "output_type": "stream",
     "text": [
      "Training models\n"
     ]
    },
    {
     "data": {
      "text/html": [
       "\n",
       "<style>\n",
       "    /* Turns off some styling */\n",
       "    progress {\n",
       "        /* gets rid of default border in Firefox and Opera. */\n",
       "        border: none;\n",
       "        /* Needs to be in here for Safari polyfill so background images work as expected. */\n",
       "        background-size: auto;\n",
       "    }\n",
       "    progress:not([value]), progress:not([value])::-webkit-progress-bar {\n",
       "        background: repeating-linear-gradient(45deg, #7e7e7e, #7e7e7e 10px, #5c5c5c 10px, #5c5c5c 20px);\n",
       "    }\n",
       "    .progress-bar-interrupted, .progress-bar-interrupted::-webkit-progress-bar {\n",
       "        background: #F44336;\n",
       "    }\n",
       "</style>\n"
      ],
      "text/plain": [
       "<IPython.core.display.HTML object>"
      ]
     },
     "metadata": {},
     "output_type": "display_data"
    },
    {
     "data": {
      "text/html": [
       "<table border=\"1\" class=\"dataframe\">\n",
       "  <thead>\n",
       "    <tr style=\"text-align: left;\">\n",
       "      <th>TimeR2Score</th>\n",
       "      <th>loss</th>\n",
       "      <th>epoch</th>\n",
       "      <th>train</th>\n",
       "      <th>time</th>\n",
       "    </tr>\n",
       "  </thead>\n",
       "  <tbody>\n",
       "    <tr>\n",
       "      <td>0.775</td>\n",
       "      <td>10.516</td>\n",
       "      <td>0</td>\n",
       "      <td>True</td>\n",
       "      <td>00:01</td>\n",
       "    </tr>\n",
       "    <tr>\n",
       "      <td>0.852</td>\n",
       "      <td>6.641</td>\n",
       "      <td>0</td>\n",
       "      <td>False</td>\n",
       "      <td>00:00</td>\n",
       "    </tr>\n",
       "  </tbody>\n",
       "</table>"
      ],
      "text/plain": [
       "<IPython.core.display.HTML object>"
      ]
     },
     "metadata": {},
     "output_type": "display_data"
    },
    {
     "data": {
      "image/png": "[encoded data removed]",
      "text/plain": [
       "<Figure size 600x400 with 1 Axes>"
      ]
     },
     "metadata": {},
     "output_type": "display_data"
    },
    {
     "data": {
      "text/html": [
       "\n",
       "<style>\n",
       "    /* Turns off some styling */\n",
       "    progress {\n",
       "        /* gets rid of default border in Firefox and Opera. */\n",
       "        border: none;\n",
       "        /* Needs to be in here for Safari polyfill so background images work as expected. */\n",
       "        background-size: auto;\n",
       "    }\n",
       "    progress:not([value]), progress:not([value])::-webkit-progress-bar {\n",
       "        background: repeating-linear-gradient(45deg, #7e7e7e, #7e7e7e 10px, #5c5c5c 10px, #5c5c5c 20px);\n",
       "    }\n",
       "    .progress-bar-interrupted, .progress-bar-interrupted::-webkit-progress-bar {\n",
       "        background: #F44336;\n",
       "    }\n",
       "</style>\n"
      ],
      "text/plain": [
       "<IPython.core.display.HTML object>"
      ]
     },
     "metadata": {},
     "output_type": "display_data"
    },
    {
     "data": {
      "text/html": [
       "<table border=\"1\" class=\"dataframe\">\n",
       "  <thead>\n",
       "    <tr style=\"text-align: left;\">\n",
       "      <th>TimeR2Score</th>\n",
       "      <th>loss</th>\n",
       "      <th>epoch</th>\n",
       "      <th>train</th>\n",
       "      <th>time</th>\n",
       "    </tr>\n",
       "  </thead>\n",
       "  <tbody>\n",
       "    <tr>\n",
       "      <td>0.776</td>\n",
       "      <td>10.526</td>\n",
       "      <td>0</td>\n",
       "      <td>True</td>\n",
       "      <td>00:01</td>\n",
       "    </tr>\n",
       "    <tr>\n",
       "      <td>0.850</td>\n",
       "      <td>6.676</td>\n",
       "      <td>0</td>\n",
       "      <td>False</td>\n",
       "      <td>00:00</td>\n",
       "    </tr>\n",
       "  </tbody>\n",
       "</table>"
      ],
      "text/plain": [
       "<IPython.core.display.HTML object>"
      ]
     },
     "metadata": {},
     "output_type": "display_data"
    },
    {
     "data": {
      "image/png": "[encoded data removed]",
      "text/plain": [
       "<Figure size 600x400 with 1 Axes>"
      ]
     },
     "metadata": {},
     "output_type": "display_data"
    },
    {
     "name": "stdout",
     "output_type": "stream",
     "text": [
      "Making inference on test data\n"
     ]
    },
    {
     "data": {
      "text/html": [
       "\n",
       "<style>\n",
       "    /* Turns off some styling */\n",
       "    progress {\n",
       "        /* gets rid of default border in Firefox and Opera. */\n",
       "        border: none;\n",
       "        /* Needs to be in here for Safari polyfill so background images work as expected. */\n",
       "        background-size: auto;\n",
       "    }\n",
       "    progress:not([value]), progress:not([value])::-webkit-progress-bar {\n",
       "        background: repeating-linear-gradient(45deg, #7e7e7e, #7e7e7e 10px, #5c5c5c 10px, #5c5c5c 20px);\n",
       "    }\n",
       "    .progress-bar-interrupted, .progress-bar-interrupted::-webkit-progress-bar {\n",
       "        background: #F44336;\n",
       "    }\n",
       "</style>\n"
      ],
      "text/plain": [
       "<IPython.core.display.HTML object>"
      ]
     },
     "metadata": {},
     "output_type": "display_data"
    },
    {
     "data": {
      "text/html": [
       "<table border=\"1\" class=\"dataframe\">\n",
       "  <thead>\n",
       "    <tr style=\"text-align: left;\">\n",
       "      <th>TimeR2Score</th>\n",
       "      <th>loss</th>\n",
       "      <th>epoch</th>\n",
       "      <th>train</th>\n",
       "      <th>time</th>\n",
       "    </tr>\n",
       "  </thead>\n",
       "  <tbody>\n",
       "    <tr>\n",
       "      <td>0.611</td>\n",
       "      <td>42.620</td>\n",
       "      <td>0</td>\n",
       "      <td>False</td>\n",
       "      <td>00:00</td>\n",
       "    </tr>\n",
       "  </tbody>\n",
       "</table>"
      ],
      "text/plain": [
       "<IPython.core.display.HTML object>"
      ]
     },
     "metadata": {},
     "output_type": "display_data"
    },
    {
     "data": {
      "text/html": [
       "\n",
       "<style>\n",
       "    /* Turns off some styling */\n",
       "    progress {\n",
       "        /* gets rid of default border in Firefox and Opera. */\n",
       "        border: none;\n",
       "        /* Needs to be in here for Safari polyfill so background images work as expected. */\n",
       "        background-size: auto;\n",
       "    }\n",
       "    progress:not([value]), progress:not([value])::-webkit-progress-bar {\n",
       "        background: repeating-linear-gradient(45deg, #7e7e7e, #7e7e7e 10px, #5c5c5c 10px, #5c5c5c 20px);\n",
       "    }\n",
       "    .progress-bar-interrupted, .progress-bar-interrupted::-webkit-progress-bar {\n",
       "        background: #F44336;\n",
       "    }\n",
       "</style>\n"
      ],
      "text/plain": [
       "<IPython.core.display.HTML object>"
      ]
     },
     "metadata": {},
     "output_type": "display_data"
    },
    {
     "data": {
      "text/html": [
       "<table border=\"1\" class=\"dataframe\">\n",
       "  <thead>\n",
       "    <tr style=\"text-align: left;\">\n",
       "      <th>TimeR2Score</th>\n",
       "      <th>loss</th>\n",
       "      <th>epoch</th>\n",
       "      <th>train</th>\n",
       "      <th>time</th>\n",
       "    </tr>\n",
       "  </thead>\n",
       "  <tbody>\n",
       "    <tr>\n",
       "      <td>0.593</td>\n",
       "      <td>37.717</td>\n",
       "      <td>0</td>\n",
       "      <td>False</td>\n",
       "      <td>00:00</td>\n",
       "    </tr>\n",
       "  </tbody>\n",
       "</table>"
      ],
      "text/plain": [
       "<IPython.core.display.HTML object>"
      ]
     },
     "metadata": {},
     "output_type": "display_data"
    },
    {
     "name": "stdout",
     "output_type": "stream",
     "text": [
      "Inference on nascent\n",
      "\t\tpreds, targs\n",
      "tensor([[17.3946,  0.0000],\n",
      "        [ 2.3097,  4.0000],\n",
      "        [11.9597,  8.0000],\n",
      "        [ 4.8910, 12.0000],\n",
      "        [12.3997, 16.0000],\n",
      "        [22.1172, 20.0000],\n",
      "        [ 1.2888,  0.0000],\n",
      "        [ 0.2216,  4.0000],\n",
      "        [13.3723,  8.0000],\n",
      "        [ 8.2515, 12.0000],\n",
      "        [20.7515, 16.0000],\n",
      "        [22.6173, 20.0000]])\n",
      "result:  tensor(0.6100)\n"
     ]
    },
    {
     "data": {
      "text/html": [
       "\n",
       "<style>\n",
       "    /* Turns off some styling */\n",
       "    progress {\n",
       "        /* gets rid of default border in Firefox and Opera. */\n",
       "        border: none;\n",
       "        /* Needs to be in here for Safari polyfill so background images work as expected. */\n",
       "        background-size: auto;\n",
       "    }\n",
       "    progress:not([value]), progress:not([value])::-webkit-progress-bar {\n",
       "        background: repeating-linear-gradient(45deg, #7e7e7e, #7e7e7e 10px, #5c5c5c 10px, #5c5c5c 20px);\n",
       "    }\n",
       "    .progress-bar-interrupted, .progress-bar-interrupted::-webkit-progress-bar {\n",
       "        background: #F44336;\n",
       "    }\n",
       "</style>\n"
      ],
      "text/plain": [
       "<IPython.core.display.HTML object>"
      ]
     },
     "metadata": {},
     "output_type": "display_data"
    },
    {
     "data": {
      "text/html": [
       "<table border=\"1\" class=\"dataframe\">\n",
       "  <thead>\n",
       "    <tr style=\"text-align: left;\">\n",
       "      <th>TimeR2Score</th>\n",
       "      <th>loss</th>\n",
       "      <th>epoch</th>\n",
       "      <th>train</th>\n",
       "      <th>time</th>\n",
       "    </tr>\n",
       "  </thead>\n",
       "  <tbody>\n",
       "    <tr>\n",
       "      <td>0.519</td>\n",
       "      <td>28.782</td>\n",
       "      <td>0</td>\n",
       "      <td>False</td>\n",
       "      <td>00:00</td>\n",
       "    </tr>\n",
       "  </tbody>\n",
       "</table>"
      ],
      "text/plain": [
       "<IPython.core.display.HTML object>"
      ]
     },
     "metadata": {},
     "output_type": "display_data"
    },
    {
     "data": {
      "text/html": [
       "\n",
       "<style>\n",
       "    /* Turns off some styling */\n",
       "    progress {\n",
       "        /* gets rid of default border in Firefox and Opera. */\n",
       "        border: none;\n",
       "        /* Needs to be in here for Safari polyfill so background images work as expected. */\n",
       "        background-size: auto;\n",
       "    }\n",
       "    progress:not([value]), progress:not([value])::-webkit-progress-bar {\n",
       "        background: repeating-linear-gradient(45deg, #7e7e7e, #7e7e7e 10px, #5c5c5c 10px, #5c5c5c 20px);\n",
       "    }\n",
       "    .progress-bar-interrupted, .progress-bar-interrupted::-webkit-progress-bar {\n",
       "        background: #F44336;\n",
       "    }\n",
       "</style>\n"
      ],
      "text/plain": [
       "<IPython.core.display.HTML object>"
      ]
     },
     "metadata": {},
     "output_type": "display_data"
    },
    {
     "data": {
      "text/html": [
       "<table border=\"1\" class=\"dataframe\">\n",
       "  <thead>\n",
       "    <tr style=\"text-align: left;\">\n",
       "      <th>TimeR2Score</th>\n",
       "      <th>loss</th>\n",
       "      <th>epoch</th>\n",
       "      <th>train</th>\n",
       "      <th>time</th>\n",
       "    </tr>\n",
       "  </thead>\n",
       "  <tbody>\n",
       "    <tr>\n",
       "      <td>0.603</td>\n",
       "      <td>18.763</td>\n",
       "      <td>0</td>\n",
       "      <td>False</td>\n",
       "      <td>00:00</td>\n",
       "    </tr>\n",
       "  </tbody>\n",
       "</table>"
      ],
      "text/plain": [
       "<IPython.core.display.HTML object>"
      ]
     },
     "metadata": {},
     "output_type": "display_data"
    },
    {
     "name": "stdout",
     "output_type": "stream",
     "text": [
      "Inference on gro\n",
      "\t\tpreds, targs\n",
      "tensor([[ 7.0871,  1.0000],\n",
      "        [ 4.9071,  4.0000],\n",
      "        [ 7.1328,  7.0000],\n",
      "        [ 8.9602, 10.0000],\n",
      "        [13.2867, 13.0000],\n",
      "        [ 4.2882, 16.0000],\n",
      "        [22.1454, 19.0000],\n",
      "        [21.1487, 22.0000]])\n",
      "result:  tensor(0.5057)\n"
     ]
    },
    {
     "data": {
      "text/html": [
       "\n",
       "<style>\n",
       "    /* Turns off some styling */\n",
       "    progress {\n",
       "        /* gets rid of default border in Firefox and Opera. */\n",
       "        border: none;\n",
       "        /* Needs to be in here for Safari polyfill so background images work as expected. */\n",
       "        background-size: auto;\n",
       "    }\n",
       "    progress:not([value]), progress:not([value])::-webkit-progress-bar {\n",
       "        background: repeating-linear-gradient(45deg, #7e7e7e, #7e7e7e 10px, #5c5c5c 10px, #5c5c5c 20px);\n",
       "    }\n",
       "    .progress-bar-interrupted, .progress-bar-interrupted::-webkit-progress-bar {\n",
       "        background: #F44336;\n",
       "    }\n",
       "</style>\n"
      ],
      "text/plain": [
       "<IPython.core.display.HTML object>"
      ]
     },
     "metadata": {},
     "output_type": "display_data"
    },
    {
     "data": {
      "text/html": [
       "<table border=\"1\" class=\"dataframe\">\n",
       "  <thead>\n",
       "    <tr style=\"text-align: left;\">\n",
       "      <th>TimeR2Score</th>\n",
       "      <th>loss</th>\n",
       "      <th>epoch</th>\n",
       "      <th>train</th>\n",
       "      <th>time</th>\n",
       "    </tr>\n",
       "  </thead>\n",
       "  <tbody>\n",
       "    <tr>\n",
       "      <td>0.313</td>\n",
       "      <td>34.429</td>\n",
       "      <td>0</td>\n",
       "      <td>False</td>\n",
       "      <td>00:00</td>\n",
       "    </tr>\n",
       "  </tbody>\n",
       "</table>"
      ],
      "text/plain": [
       "<IPython.core.display.HTML object>"
      ]
     },
     "metadata": {},
     "output_type": "display_data"
    },
    {
     "data": {
      "text/html": [
       "\n",
       "<style>\n",
       "    /* Turns off some styling */\n",
       "    progress {\n",
       "        /* gets rid of default border in Firefox and Opera. */\n",
       "        border: none;\n",
       "        /* Needs to be in here for Safari polyfill so background images work as expected. */\n",
       "        background-size: auto;\n",
       "    }\n",
       "    progress:not([value]), progress:not([value])::-webkit-progress-bar {\n",
       "        background: repeating-linear-gradient(45deg, #7e7e7e, #7e7e7e 10px, #5c5c5c 10px, #5c5c5c 20px);\n",
       "    }\n",
       "    .progress-bar-interrupted, .progress-bar-interrupted::-webkit-progress-bar {\n",
       "        background: #F44336;\n",
       "    }\n",
       "</style>\n"
      ],
      "text/plain": [
       "<IPython.core.display.HTML object>"
      ]
     },
     "metadata": {},
     "output_type": "display_data"
    },
    {
     "data": {
      "text/html": [
       "<table border=\"1\" class=\"dataframe\">\n",
       "  <thead>\n",
       "    <tr style=\"text-align: left;\">\n",
       "      <th>TimeR2Score</th>\n",
       "      <th>loss</th>\n",
       "      <th>epoch</th>\n",
       "      <th>train</th>\n",
       "      <th>time</th>\n",
       "    </tr>\n",
       "  </thead>\n",
       "  <tbody>\n",
       "    <tr>\n",
       "      <td>0.700</td>\n",
       "      <td>14.007</td>\n",
       "      <td>0</td>\n",
       "      <td>False</td>\n",
       "      <td>00:00</td>\n",
       "    </tr>\n",
       "  </tbody>\n",
       "</table>"
      ],
      "text/plain": [
       "<IPython.core.display.HTML object>"
      ]
     },
     "metadata": {},
     "output_type": "display_data"
    },
    {
     "name": "stdout",
     "output_type": "stream",
     "text": [
      "Inference on rna\n",
      "\t\tpreds, targs\n",
      "tensor([[ 7.0330,  2.0000],\n",
      "        [ 4.2194,  6.0000],\n",
      "        [ 9.8753, 10.0000],\n",
      "        [14.0363, 14.0000],\n",
      "        [24.0168, 18.0000],\n",
      "        [22.2365, 22.0000],\n",
      "        [ 2.6534,  2.0000],\n",
      "        [ 8.8297,  6.0000],\n",
      "        [11.5204, 10.0000],\n",
      "        [10.8922, 14.0000],\n",
      "        [10.5999, 18.0000],\n",
      "        [11.1773, 22.0000]])\n",
      "result:  tensor(0.5409)\n"
     ]
    },
    {
     "data": {
      "text/html": [
       "\n",
       "<style>\n",
       "    /* Turns off some styling */\n",
       "    progress {\n",
       "        /* gets rid of default border in Firefox and Opera. */\n",
       "        border: none;\n",
       "        /* Needs to be in here for Safari polyfill so background images work as expected. */\n",
       "        background-size: auto;\n",
       "    }\n",
       "    progress:not([value]), progress:not([value])::-webkit-progress-bar {\n",
       "        background: repeating-linear-gradient(45deg, #7e7e7e, #7e7e7e 10px, #5c5c5c 10px, #5c5c5c 20px);\n",
       "    }\n",
       "    .progress-bar-interrupted, .progress-bar-interrupted::-webkit-progress-bar {\n",
       "        background: #F44336;\n",
       "    }\n",
       "</style>\n"
      ],
      "text/plain": [
       "<IPython.core.display.HTML object>"
      ]
     },
     "metadata": {},
     "output_type": "display_data"
    },
    {
     "data": {
      "text/html": [
       "<table border=\"1\" class=\"dataframe\">\n",
       "  <thead>\n",
       "    <tr style=\"text-align: left;\">\n",
       "      <th>TimeR2Score</th>\n",
       "      <th>loss</th>\n",
       "      <th>epoch</th>\n",
       "      <th>train</th>\n",
       "      <th>time</th>\n",
       "    </tr>\n",
       "  </thead>\n",
       "  <tbody>\n",
       "    <tr>\n",
       "      <td>0.659</td>\n",
       "      <td>147.087</td>\n",
       "      <td>0</td>\n",
       "      <td>False</td>\n",
       "      <td>00:01</td>\n",
       "    </tr>\n",
       "  </tbody>\n",
       "</table>"
      ],
      "text/plain": [
       "<IPython.core.display.HTML object>"
      ]
     },
     "metadata": {},
     "output_type": "display_data"
    },
    {
     "data": {
      "text/html": [
       "\n",
       "<style>\n",
       "    /* Turns off some styling */\n",
       "    progress {\n",
       "        /* gets rid of default border in Firefox and Opera. */\n",
       "        border: none;\n",
       "        /* Needs to be in here for Safari polyfill so background images work as expected. */\n",
       "        background-size: auto;\n",
       "    }\n",
       "    progress:not([value]), progress:not([value])::-webkit-progress-bar {\n",
       "        background: repeating-linear-gradient(45deg, #7e7e7e, #7e7e7e 10px, #5c5c5c 10px, #5c5c5c 20px);\n",
       "    }\n",
       "    .progress-bar-interrupted, .progress-bar-interrupted::-webkit-progress-bar {\n",
       "        background: #F44336;\n",
       "    }\n",
       "</style>\n"
      ],
      "text/plain": [
       "<IPython.core.display.HTML object>"
      ]
     },
     "metadata": {},
     "output_type": "display_data"
    },
    {
     "data": {
      "text/html": [
       "<table border=\"1\" class=\"dataframe\">\n",
       "  <thead>\n",
       "    <tr style=\"text-align: left;\">\n",
       "      <th>TimeR2Score</th>\n",
       "      <th>loss</th>\n",
       "      <th>epoch</th>\n",
       "      <th>train</th>\n",
       "      <th>time</th>\n",
       "    </tr>\n",
       "  </thead>\n",
       "  <tbody>\n",
       "    <tr>\n",
       "      <td>0.688</td>\n",
       "      <td>137.166</td>\n",
       "      <td>0</td>\n",
       "      <td>False</td>\n",
       "      <td>00:01</td>\n",
       "    </tr>\n",
       "  </tbody>\n",
       "</table>"
      ],
      "text/plain": [
       "<IPython.core.display.HTML object>"
      ]
     },
     "metadata": {},
     "output_type": "display_data"
    },
    {
     "name": "stdout",
     "output_type": "stream",
     "text": [
      "Inference on more\n",
      "\t\tpreds, targs\n",
      "tensor([[ 5.6828, 22.0000],\n",
      "        [ 5.3343, 22.0000],\n",
      "        [ 8.4508, 10.0000],\n",
      "        [12.0376, 18.0000],\n",
      "        [ 9.7284,  2.0000],\n",
      "        [12.6592, 18.0000],\n",
      "        [10.4918, 14.0000],\n",
      "        [ 3.1760,  6.0000],\n",
      "        [ 3.4996,  6.0000],\n",
      "        [11.1315, 14.0000],\n",
      "        [ 7.8203, 10.0000],\n",
      "        [10.9497,  2.0000],\n",
      "        [17.5386, 24.0000],\n",
      "        [18.3770, 21.0000],\n",
      "        [ 8.6504, 33.0000],\n",
      "        ...,\n",
      "        [16.3808,  7.5000],\n",
      "        [21.0271,  1.5000],\n",
      "        [16.1047, 16.5000],\n",
      "        [21.9954,  4.5000],\n",
      "        [19.6645, 22.5000],\n",
      "        [17.3965, 16.5000],\n",
      "        [21.5052,  1.5000],\n",
      "        [14.7174, 10.5000],\n",
      "        [17.9368, 16.5000],\n",
      "        [21.9417,  1.5000],\n",
      "        [14.1991, 13.5000],\n",
      "        [16.9558,  7.5000],\n",
      "        [20.5991, 19.5000],\n",
      "        [13.6614,  7.5000],\n",
      "        [15.2902, 13.5000]])\n",
      "result:  tensor(0.6750)\n"
     ]
    }
   ],
   "source": [
    "lr, epochs = .3, 1\n",
    "tmax = epochs * len(dls.train)\n",
    "sched = partial(lr_scheduler.OneCycleLR, max_lr=lr, total_steps=tmax)\n",
    "xtra = [BatchSchedCB(sched)]\n",
    "ensemble_model(nlearn, get_model, epochs=epochs, lr=lr, cbs=cbs+xtra, opt_func=optim.AdamW)"
   ]
  },
  {
   "cell_type": "code",
   "execution_count": null,
   "metadata": {
    "id": "QmWn6b96BbIL"
   },
   "outputs": [],
   "source": []
  }
 ],
 "metadata": {
  "colab": {
   "include_colab_link": true,
   "provenance": [],
   "toc_visible": true
  },
  "kernelspec": {
   "display_name": "Python 3 (ipykernel)",
   "language": "python",
   "name": "python3"
  },
  "language_info": {
   "codemirror_mode": {
    "name": "ipython",
    "version": 3
   },
   "file_extension": ".py",
   "mimetype": "text/x-python",
   "name": "python",
   "nbconvert_exporter": "python",
   "pygments_lexer": "ipython3",
   "version": "3.10.13"
  },
  "toc": {
   "base_numbering": 1,
   "nav_menu": {
    "height": "323px",
    "width": "265px"
   },
   "number_sections": true,
   "sideBar": true,
   "skip_h1_title": false,
   "title_cell": "Table of Contents",
   "title_sidebar": "Contents",
   "toc_cell": false,
   "toc_position": {},
   "toc_section_display": true,
   "toc_window_display": false
  }
 },
 "nbformat": 4,
 "nbformat_minor": 1
}
