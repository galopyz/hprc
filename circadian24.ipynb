{
 "cells": [
  {
   "cell_type": "markdown",
   "metadata": {
    "colab_type": "text",
    "id": "view-in-github"
   },
   "source": [
    "<a href=\"https://colab.research.google.com/github/galopyz/hprc/blob/main/circadian21.ipynb\" target=\"_parent\"><img src=\"https://colab.research.google.com/assets/colab-badge.svg\" alt=\"Open In Colab\"/></a>"
   ]
  },
  {
   "cell_type": "markdown",
   "metadata": {
    "id": "Vc92vu0w81Yc"
   },
   "source": [
    "# 24hr predictions"
   ]
  },
  {
   "cell_type": "markdown",
   "metadata": {
    "id": "RGgLYuJVfiDw"
   },
   "source": [
    "Using meta_analysis data."
   ]
  },
  {
   "cell_type": "markdown",
   "metadata": {
    "id": "BtIp4kSIjrid"
   },
   "source": [
    "1. Batch data.\n",
    "2. Data_columns - Test_data_columns\n",
    "3. For bulk data, fill missing data with 0.\n",
    "4. Add columns to indicate missing genes and fill missing gene with 0.\n",
    "  - Add data augmentation that does this on training data.\n",
    "  - For some reason, data augmentation performed worse.\n",
    "5. Use linear layer for 24hr prediction.\n",
    "  - Trying on other bulk data.\n",
    "6. Modified R2 score\n",
    "5. Gene normalization"
   ]
  },
  {
   "cell_type": "markdown",
   "metadata": {},
   "source": [
    "TODO:\n",
    "  - Normalize all the data in the same way.\n",
    "  - Before normalizign the more_data, take care of data with only zeros for the gene expression."
   ]
  },
  {
   "cell_type": "markdown",
   "metadata": {
    "id": "YWKBpTGz74UM"
   },
   "source": [
    "## Import libraries"
   ]
  },
  {
   "cell_type": "code",
   "execution_count": 1,
   "metadata": {
    "id": "0EKtXY9-AqGj"
   },
   "outputs": [],
   "source": [
    "import pandas as pd\n",
    "import numpy as np\n",
    "from pathlib import Path\n",
    "import torch\n",
    "from torch import tensor\n",
    "from torcheval.metrics import MulticlassAccuracy\n",
    "import torchvision.transforms.functional as TF,torch.nn.functional as F\n",
    "from torch.utils.data import Dataset, DataLoader\n",
    "\n",
    "from miniai.datasets import *\n",
    "from miniai.conv import *\n",
    "from miniai.learner import *\n",
    "from miniai.activations import *\n",
    "from miniai.init import *\n",
    "from miniai.sgd import *\n",
    "from miniai.augment import *\n",
    "from miniai.xtras import *"
   ]
  },
  {
   "cell_type": "code",
   "execution_count": 2,
   "metadata": {
    "colab": {
     "base_uri": "https://localhost:8080/"
    },
    "id": "v8nvWiBJCYsr",
    "outputId": "e35f0840-3c34-428f-d045-07266f95e69b"
   },
   "outputs": [],
   "source": [
    "# from google.colab import drive\n",
    "# drive.mount('/content/drive')\n",
    "# %cd /content/drive/MyDrive/'Colab Notebooks'\n",
    "# !pip -q install torcheval\n",
    "# !pip -q install datasets\n",
    "# path = Path('data/circadian')\n",
    "path = Path('data')"
   ]
  },
  {
   "cell_type": "code",
   "execution_count": 3,
   "metadata": {
    "id": "TCXXASxfBbGj"
   },
   "outputs": [],
   "source": [
    "from torch.nn import init\n",
    "from functools import partial\n",
    "from torch.optim import lr_scheduler\n",
    "from torch import tensor,nn,optim\n",
    "\n",
    "import fastcore.all as fc"
   ]
  },
  {
   "cell_type": "code",
   "execution_count": 4,
   "metadata": {
    "id": "KNrxILJJWrdq"
   },
   "outputs": [],
   "source": [
    "loss_func = F.mse_loss"
   ]
  },
  {
   "cell_type": "code",
   "execution_count": 5,
   "metadata": {
    "id": "Hm8dkFErbGdh"
   },
   "outputs": [],
   "source": [
    "class TimeLayer(nn.Module):\n",
    "    def __init__(self, range = 26):\n",
    "        super().__init__()\n",
    "        self.range = range\n",
    "\n",
    "    def forward(self, x):\n",
    "        # return (F.sigmoid(x) * self.range - (self.range - 24)/2) % 24\n",
    "        return (F.sigmoid(x) * self.range - (self.range - 24)/2)"
   ]
  },
  {
   "cell_type": "code",
   "execution_count": 6,
   "metadata": {
    "id": "q5kGakUToGRe"
   },
   "outputs": [],
   "source": [
    "from torcheval.metrics import R2Score\n",
    "# metric = MetricsCB(R2Score=R2Score())\n",
    "# metric = R2Score()"
   ]
  },
  {
   "cell_type": "code",
   "execution_count": 7,
   "metadata": {
    "id": "PEEmcXur9MA3"
   },
   "outputs": [],
   "source": [
    "class TimeR2Score(R2Score):\n",
    "    def update(self, input, target):\n",
    "        inp = input.clone()\n",
    "        for i, (x, y) in enumerate(zip(input, target)):\n",
    "            min_x = x\n",
    "            min_diff = torch.inf\n",
    "            for z in [x-24, x, x+24]:\n",
    "                if abs(z-y) < min_diff:\n",
    "                    min_diff = abs(z-y)\n",
    "                    min_x = z\n",
    "            inp[i] = min_x\n",
    "        super().update(inp, target)"
   ]
  },
  {
   "cell_type": "code",
   "execution_count": null,
   "metadata": {
    "id": "iq5l1aVn_vuM"
   },
   "outputs": [],
   "source": [
    "metric = MetricsCB(R2Score=TimeR2Score())"
   ]
  },
  {
   "cell_type": "markdown",
   "metadata": {
    "id": "Ft9NMEYGl6YD"
   },
   "source": [
    "## Data"
   ]
  },
  {
   "cell_type": "markdown",
   "metadata": {},
   "source": [
    "TODO:\n",
    "\n",
    "Have to normalize other cells, too"
   ]
  },
  {
   "cell_type": "markdown",
   "metadata": {},
   "source": [
    "The general form of the quadratic equation is:\n",
    "\n",
    "$$x = \\frac{-b \\pm \\sqrt{b^2 - 4ac}}{2a}$$"
   ]
  },
  {
   "cell_type": "markdown",
   "metadata": {},
   "source": [
    "<img src=\"data/cell_nrm.jpg\" alt=\"Cell normalization\" width=\"400\">"
   ]
  },
  {
   "cell_type": "code",
   "execution_count": 17,
   "metadata": {},
   "outputs": [],
   "source": [
    "def nrm_genes(df):\n",
    "    \"\"\"Assuming genes on cols cells on rows.\"\"\"\n",
    "    cell_divided = df.div(df.sum(axis=1), axis=0)\n",
    "    return (cell_divided - cell_divided.mean(axis=0)) / cell_divided.std(axis=0)"
   ]
  },
  {
   "cell_type": "code",
   "execution_count": 135,
   "metadata": {},
   "outputs": [
    {
     "data": {
      "text/plain": [
       "AAACAGCCAACCCTAA-6    -24.462750\n",
       "AAACCAACAGTAAAGC-6     97.275645\n",
       "AAACCGAAGGTCCTAG-6    -35.926266\n",
       "AAAGCACCATTGTCCT-6     20.232817\n",
       "AAAGGACGTGAGGTGA-6      4.511243\n",
       "                         ...    \n",
       "TTGCCCGTCGCACAAT-7    -72.117879\n",
       "TTGCGTCTCTTAGTCT-7   -129.986130\n",
       "TTGGGTTAGCCACAAT-7   -137.622280\n",
       "TTTAGCTTCAGGAAGC-7    -44.971182\n",
       "TTTGGTAAGGAAGTAT-7    -53.034793\n",
       "Length: 15992, dtype: float64"
      ]
     },
     "execution_count": 135,
     "metadata": {},
     "output_type": "execute_result"
    }
   ],
   "source": [
    "data.sum(axis=1)"
   ]
  },
  {
   "cell_type": "code",
   "execution_count": 18,
   "metadata": {
    "id": "NOpFP30kB8Xo"
   },
   "outputs": [],
   "source": [
    "meta_data = pd.read_csv(path/'meta_data.csv', low_memory=False)\n",
    "raw_data = pd.read_csv(path/'RNA_count_mat.csv', low_memory=False)"
   ]
  },
  {
   "cell_type": "code",
   "execution_count": 22,
   "metadata": {
    "id": "SkiW-Gt33jq0"
   },
   "outputs": [],
   "source": [
    "data = nrm_genes(raw_data.set_index('gene').T)\n",
    "df_mis = pd.DataFrame({f'{col}_missing':np.zeros(data.shape[0], dtype=int) for col in data.columns}, index=data.index)\n",
    "data2 = data.join(df_mis)\n",
    "df = data2.join(meta_data.set_index('cell_name'))\n",
    "df['code'] = df.loc[:,'ZT'].str[-2:].map(float)"
   ]
  },
  {
   "cell_type": "markdown",
   "metadata": {
    "id": "T2hYSXtipnD_"
   },
   "source": [
    "### Bulk + scRNA-seq"
   ]
  },
  {
   "cell_type": "code",
   "execution_count": 24,
   "metadata": {
    "id": "wht1ZlD3MGkO"
   },
   "outputs": [],
   "source": [
    "raw_gro = pd.read_csv(path/'gro.csv', low_memory=False)\n",
    "raw_gro.drop(columns=['Unnamed: 0'], inplace=True)\n",
    "raw_gro.rename(columns={'Symbol': 'ID'}, inplace=True)"
   ]
  },
  {
   "cell_type": "code",
   "execution_count": 25,
   "metadata": {
    "id": "0wdJFEgRjzRo"
   },
   "outputs": [],
   "source": [
    "raw_nascent = pd.read_csv(path/'Nascent.csv', low_memory=False)\n",
    "raw_nascent.drop(columns=['Unnamed: 0'], inplace=True)"
   ]
  },
  {
   "cell_type": "code",
   "execution_count": 26,
   "metadata": {
    "id": "tbcW3tYB-f0C"
   },
   "outputs": [],
   "source": [
    "raw_bulk_data = pd.read_csv(path/'RNA.csv', low_memory=False)"
   ]
  },
  {
   "cell_type": "code",
   "execution_count": 27,
   "metadata": {},
   "outputs": [],
   "source": [
    "bulk_data = nrm_genes(raw_bulk_data.set_index('ID').T)\n",
    "bulk_data['code'] = [2,6,10,14,18,22,2,6,10,14,18,22]"
   ]
  },
  {
   "cell_type": "code",
   "execution_count": 28,
   "metadata": {},
   "outputs": [
    {
     "data": {
      "text/html": [
       "<div>\n",
       "<style scoped>\n",
       "    .dataframe tbody tr th:only-of-type {\n",
       "        vertical-align: middle;\n",
       "    }\n",
       "\n",
       "    .dataframe tbody tr th {\n",
       "        vertical-align: top;\n",
       "    }\n",
       "\n",
       "    .dataframe thead th {\n",
       "        text-align: right;\n",
       "    }\n",
       "</style>\n",
       "<table border=\"1\" class=\"dataframe\">\n",
       "  <thead>\n",
       "    <tr style=\"text-align: right;\">\n",
       "      <th></th>\n",
       "      <th>Unnamed: 0</th>\n",
       "      <th>Abraxas1</th>\n",
       "      <th>Sugp2</th>\n",
       "      <th>Marchf1</th>\n",
       "      <th>Mob3b</th>\n",
       "      <th>Mdm4</th>\n",
       "      <th>Mir145a</th>\n",
       "      <th>1810034E14Rik</th>\n",
       "      <th>Vapa</th>\n",
       "      <th>Syt6</th>\n",
       "      <th>...</th>\n",
       "      <th>Gphn.1</th>\n",
       "      <th>Cisd3</th>\n",
       "      <th>Tmem107.1</th>\n",
       "      <th>3110056K07Rik</th>\n",
       "      <th>Trmt2b.2</th>\n",
       "      <th>Impdh1</th>\n",
       "      <th>Nrn1l.1</th>\n",
       "      <th>Dcstamp.4</th>\n",
       "      <th>Vsx2.1</th>\n",
       "      <th>Kcne1</th>\n",
       "    </tr>\n",
       "  </thead>\n",
       "  <tbody>\n",
       "    <tr>\n",
       "      <th>0</th>\n",
       "      <td>GFP1_ZT1</td>\n",
       "      <td>33.0</td>\n",
       "      <td>122.0</td>\n",
       "      <td>17.0</td>\n",
       "      <td>343.5</td>\n",
       "      <td>613.0</td>\n",
       "      <td>0.0</td>\n",
       "      <td>85.5</td>\n",
       "      <td>507.5</td>\n",
       "      <td>0.0</td>\n",
       "      <td>...</td>\n",
       "      <td>667.5</td>\n",
       "      <td>265.5</td>\n",
       "      <td>6.5</td>\n",
       "      <td>6.5</td>\n",
       "      <td>40.0</td>\n",
       "      <td>28.0</td>\n",
       "      <td>0.0</td>\n",
       "      <td>3.0</td>\n",
       "      <td>0.0</td>\n",
       "      <td>0.0</td>\n",
       "    </tr>\n",
       "    <tr>\n",
       "      <th>1</th>\n",
       "      <td>GFP2_ZT1</td>\n",
       "      <td>57.0</td>\n",
       "      <td>145.5</td>\n",
       "      <td>8.5</td>\n",
       "      <td>398.0</td>\n",
       "      <td>487.0</td>\n",
       "      <td>0.0</td>\n",
       "      <td>95.0</td>\n",
       "      <td>512.5</td>\n",
       "      <td>0.0</td>\n",
       "      <td>...</td>\n",
       "      <td>495.0</td>\n",
       "      <td>346.5</td>\n",
       "      <td>7.5</td>\n",
       "      <td>3.5</td>\n",
       "      <td>28.5</td>\n",
       "      <td>26.5</td>\n",
       "      <td>0.0</td>\n",
       "      <td>1.0</td>\n",
       "      <td>0.0</td>\n",
       "      <td>0.0</td>\n",
       "    </tr>\n",
       "    <tr>\n",
       "      <th>2</th>\n",
       "      <td>GFP3_ZT1</td>\n",
       "      <td>33.0</td>\n",
       "      <td>111.5</td>\n",
       "      <td>11.0</td>\n",
       "      <td>296.0</td>\n",
       "      <td>478.0</td>\n",
       "      <td>0.0</td>\n",
       "      <td>90.0</td>\n",
       "      <td>400.0</td>\n",
       "      <td>0.0</td>\n",
       "      <td>...</td>\n",
       "      <td>504.5</td>\n",
       "      <td>260.0</td>\n",
       "      <td>3.5</td>\n",
       "      <td>5.0</td>\n",
       "      <td>35.0</td>\n",
       "      <td>17.0</td>\n",
       "      <td>1.0</td>\n",
       "      <td>2.0</td>\n",
       "      <td>0.0</td>\n",
       "      <td>0.0</td>\n",
       "    </tr>\n",
       "    <tr>\n",
       "      <th>3</th>\n",
       "      <td>GFP1_ZT4</td>\n",
       "      <td>44.0</td>\n",
       "      <td>61.5</td>\n",
       "      <td>13.0</td>\n",
       "      <td>337.5</td>\n",
       "      <td>416.0</td>\n",
       "      <td>0.0</td>\n",
       "      <td>87.0</td>\n",
       "      <td>493.0</td>\n",
       "      <td>0.0</td>\n",
       "      <td>...</td>\n",
       "      <td>529.0</td>\n",
       "      <td>241.0</td>\n",
       "      <td>9.0</td>\n",
       "      <td>4.0</td>\n",
       "      <td>20.5</td>\n",
       "      <td>10.5</td>\n",
       "      <td>1.0</td>\n",
       "      <td>2.0</td>\n",
       "      <td>0.0</td>\n",
       "      <td>0.0</td>\n",
       "    </tr>\n",
       "    <tr>\n",
       "      <th>4</th>\n",
       "      <td>GFP2_ZT4</td>\n",
       "      <td>35.5</td>\n",
       "      <td>61.5</td>\n",
       "      <td>8.0</td>\n",
       "      <td>388.0</td>\n",
       "      <td>361.0</td>\n",
       "      <td>0.0</td>\n",
       "      <td>95.0</td>\n",
       "      <td>478.0</td>\n",
       "      <td>0.0</td>\n",
       "      <td>...</td>\n",
       "      <td>545.5</td>\n",
       "      <td>292.5</td>\n",
       "      <td>4.5</td>\n",
       "      <td>11.5</td>\n",
       "      <td>18.5</td>\n",
       "      <td>14.5</td>\n",
       "      <td>0.0</td>\n",
       "      <td>0.0</td>\n",
       "      <td>0.0</td>\n",
       "      <td>0.0</td>\n",
       "    </tr>\n",
       "  </tbody>\n",
       "</table>\n",
       "<p>5 rows × 20049 columns</p>\n",
       "</div>"
      ],
      "text/plain": [
       "  Unnamed: 0  Abraxas1  Sugp2  Marchf1  Mob3b   Mdm4  Mir145a  1810034E14Rik  \\\n",
       "0   GFP1_ZT1      33.0  122.0     17.0  343.5  613.0      0.0           85.5   \n",
       "1   GFP2_ZT1      57.0  145.5      8.5  398.0  487.0      0.0           95.0   \n",
       "2   GFP3_ZT1      33.0  111.5     11.0  296.0  478.0      0.0           90.0   \n",
       "3   GFP1_ZT4      44.0   61.5     13.0  337.5  416.0      0.0           87.0   \n",
       "4   GFP2_ZT4      35.5   61.5      8.0  388.0  361.0      0.0           95.0   \n",
       "\n",
       "    Vapa  Syt6  ...  Gphn.1  Cisd3  Tmem107.1  3110056K07Rik  Trmt2b.2  \\\n",
       "0  507.5   0.0  ...   667.5  265.5        6.5            6.5      40.0   \n",
       "1  512.5   0.0  ...   495.0  346.5        7.5            3.5      28.5   \n",
       "2  400.0   0.0  ...   504.5  260.0        3.5            5.0      35.0   \n",
       "3  493.0   0.0  ...   529.0  241.0        9.0            4.0      20.5   \n",
       "4  478.0   0.0  ...   545.5  292.5        4.5           11.5      18.5   \n",
       "\n",
       "   Impdh1  Nrn1l.1  Dcstamp.4  Vsx2.1  Kcne1  \n",
       "0    28.0      0.0        3.0     0.0    0.0  \n",
       "1    26.5      0.0        1.0     0.0    0.0  \n",
       "2    17.0      1.0        2.0     0.0    0.0  \n",
       "3    10.5      1.0        2.0     0.0    0.0  \n",
       "4    14.5      0.0        0.0     0.0    0.0  \n",
       "\n",
       "[5 rows x 20049 columns]"
      ]
     },
     "execution_count": 28,
     "metadata": {},
     "output_type": "execute_result"
    }
   ],
   "source": [
    "hepa_data = pd.read_csv(path/'hepa.csv', low_memory=False)\n",
    "hepa_data.head()"
   ]
  },
  {
   "cell_type": "code",
   "execution_count": 29,
   "metadata": {},
   "outputs": [
    {
     "data": {
      "text/plain": [
       "0"
      ]
     },
     "execution_count": 29,
     "metadata": {},
     "output_type": "execute_result"
    }
   ],
   "source": [
    "hepa_data = hepa_data.fillna(0)\n",
    "hepa_data.isna().sum().sum()"
   ]
  },
  {
   "cell_type": "code",
   "execution_count": 30,
   "metadata": {},
   "outputs": [
    {
     "data": {
      "text/html": [
       "<div>\n",
       "<style scoped>\n",
       "    .dataframe tbody tr th:only-of-type {\n",
       "        vertical-align: middle;\n",
       "    }\n",
       "\n",
       "    .dataframe tbody tr th {\n",
       "        vertical-align: top;\n",
       "    }\n",
       "\n",
       "    .dataframe thead th {\n",
       "        text-align: right;\n",
       "    }\n",
       "</style>\n",
       "<table border=\"1\" class=\"dataframe\">\n",
       "  <thead>\n",
       "    <tr style=\"text-align: right;\">\n",
       "      <th></th>\n",
       "      <th>Abraxas1</th>\n",
       "      <th>Sugp2</th>\n",
       "      <th>Marchf1</th>\n",
       "      <th>Mob3b</th>\n",
       "      <th>Mdm4</th>\n",
       "      <th>Mir145a</th>\n",
       "      <th>1810034E14Rik</th>\n",
       "      <th>Vapa</th>\n",
       "      <th>Syt6</th>\n",
       "      <th>Grik2</th>\n",
       "      <th>...</th>\n",
       "      <th>Gphn.1</th>\n",
       "      <th>Cisd3</th>\n",
       "      <th>Tmem107.1</th>\n",
       "      <th>3110056K07Rik</th>\n",
       "      <th>Trmt2b.2</th>\n",
       "      <th>Impdh1</th>\n",
       "      <th>Nrn1l.1</th>\n",
       "      <th>Dcstamp.4</th>\n",
       "      <th>Vsx2.1</th>\n",
       "      <th>Kcne1</th>\n",
       "    </tr>\n",
       "    <tr>\n",
       "      <th>Unnamed: 0</th>\n",
       "      <th></th>\n",
       "      <th></th>\n",
       "      <th></th>\n",
       "      <th></th>\n",
       "      <th></th>\n",
       "      <th></th>\n",
       "      <th></th>\n",
       "      <th></th>\n",
       "      <th></th>\n",
       "      <th></th>\n",
       "      <th></th>\n",
       "      <th></th>\n",
       "      <th></th>\n",
       "      <th></th>\n",
       "      <th></th>\n",
       "      <th></th>\n",
       "      <th></th>\n",
       "      <th></th>\n",
       "      <th></th>\n",
       "      <th></th>\n",
       "      <th></th>\n",
       "    </tr>\n",
       "  </thead>\n",
       "  <tbody>\n",
       "    <tr>\n",
       "      <th>GFP1_ZT1</th>\n",
       "      <td>33.0</td>\n",
       "      <td>122.0</td>\n",
       "      <td>17.0</td>\n",
       "      <td>343.5</td>\n",
       "      <td>613.0</td>\n",
       "      <td>0.0</td>\n",
       "      <td>85.5</td>\n",
       "      <td>507.5</td>\n",
       "      <td>0.0</td>\n",
       "      <td>0.0</td>\n",
       "      <td>...</td>\n",
       "      <td>667.5</td>\n",
       "      <td>265.5</td>\n",
       "      <td>6.5</td>\n",
       "      <td>6.5</td>\n",
       "      <td>40.0</td>\n",
       "      <td>28.0</td>\n",
       "      <td>0.0</td>\n",
       "      <td>3.0</td>\n",
       "      <td>0.0</td>\n",
       "      <td>0.0</td>\n",
       "    </tr>\n",
       "    <tr>\n",
       "      <th>GFP2_ZT1</th>\n",
       "      <td>57.0</td>\n",
       "      <td>145.5</td>\n",
       "      <td>8.5</td>\n",
       "      <td>398.0</td>\n",
       "      <td>487.0</td>\n",
       "      <td>0.0</td>\n",
       "      <td>95.0</td>\n",
       "      <td>512.5</td>\n",
       "      <td>0.0</td>\n",
       "      <td>0.0</td>\n",
       "      <td>...</td>\n",
       "      <td>495.0</td>\n",
       "      <td>346.5</td>\n",
       "      <td>7.5</td>\n",
       "      <td>3.5</td>\n",
       "      <td>28.5</td>\n",
       "      <td>26.5</td>\n",
       "      <td>0.0</td>\n",
       "      <td>1.0</td>\n",
       "      <td>0.0</td>\n",
       "      <td>0.0</td>\n",
       "    </tr>\n",
       "    <tr>\n",
       "      <th>GFP3_ZT1</th>\n",
       "      <td>33.0</td>\n",
       "      <td>111.5</td>\n",
       "      <td>11.0</td>\n",
       "      <td>296.0</td>\n",
       "      <td>478.0</td>\n",
       "      <td>0.0</td>\n",
       "      <td>90.0</td>\n",
       "      <td>400.0</td>\n",
       "      <td>0.0</td>\n",
       "      <td>0.0</td>\n",
       "      <td>...</td>\n",
       "      <td>504.5</td>\n",
       "      <td>260.0</td>\n",
       "      <td>3.5</td>\n",
       "      <td>5.0</td>\n",
       "      <td>35.0</td>\n",
       "      <td>17.0</td>\n",
       "      <td>1.0</td>\n",
       "      <td>2.0</td>\n",
       "      <td>0.0</td>\n",
       "      <td>0.0</td>\n",
       "    </tr>\n",
       "    <tr>\n",
       "      <th>GFP1_ZT4</th>\n",
       "      <td>44.0</td>\n",
       "      <td>61.5</td>\n",
       "      <td>13.0</td>\n",
       "      <td>337.5</td>\n",
       "      <td>416.0</td>\n",
       "      <td>0.0</td>\n",
       "      <td>87.0</td>\n",
       "      <td>493.0</td>\n",
       "      <td>0.0</td>\n",
       "      <td>0.0</td>\n",
       "      <td>...</td>\n",
       "      <td>529.0</td>\n",
       "      <td>241.0</td>\n",
       "      <td>9.0</td>\n",
       "      <td>4.0</td>\n",
       "      <td>20.5</td>\n",
       "      <td>10.5</td>\n",
       "      <td>1.0</td>\n",
       "      <td>2.0</td>\n",
       "      <td>0.0</td>\n",
       "      <td>0.0</td>\n",
       "    </tr>\n",
       "    <tr>\n",
       "      <th>GFP2_ZT4</th>\n",
       "      <td>35.5</td>\n",
       "      <td>61.5</td>\n",
       "      <td>8.0</td>\n",
       "      <td>388.0</td>\n",
       "      <td>361.0</td>\n",
       "      <td>0.0</td>\n",
       "      <td>95.0</td>\n",
       "      <td>478.0</td>\n",
       "      <td>0.0</td>\n",
       "      <td>0.0</td>\n",
       "      <td>...</td>\n",
       "      <td>545.5</td>\n",
       "      <td>292.5</td>\n",
       "      <td>4.5</td>\n",
       "      <td>11.5</td>\n",
       "      <td>18.5</td>\n",
       "      <td>14.5</td>\n",
       "      <td>0.0</td>\n",
       "      <td>0.0</td>\n",
       "      <td>0.0</td>\n",
       "      <td>0.0</td>\n",
       "    </tr>\n",
       "  </tbody>\n",
       "</table>\n",
       "<p>5 rows × 20048 columns</p>\n",
       "</div>"
      ],
      "text/plain": [
       "            Abraxas1  Sugp2  Marchf1  Mob3b   Mdm4  Mir145a  1810034E14Rik  \\\n",
       "Unnamed: 0                                                                   \n",
       "GFP1_ZT1        33.0  122.0     17.0  343.5  613.0      0.0           85.5   \n",
       "GFP2_ZT1        57.0  145.5      8.5  398.0  487.0      0.0           95.0   \n",
       "GFP3_ZT1        33.0  111.5     11.0  296.0  478.0      0.0           90.0   \n",
       "GFP1_ZT4        44.0   61.5     13.0  337.5  416.0      0.0           87.0   \n",
       "GFP2_ZT4        35.5   61.5      8.0  388.0  361.0      0.0           95.0   \n",
       "\n",
       "             Vapa  Syt6  Grik2  ...  Gphn.1  Cisd3  Tmem107.1  3110056K07Rik  \\\n",
       "Unnamed: 0                      ...                                            \n",
       "GFP1_ZT1    507.5   0.0    0.0  ...   667.5  265.5        6.5            6.5   \n",
       "GFP2_ZT1    512.5   0.0    0.0  ...   495.0  346.5        7.5            3.5   \n",
       "GFP3_ZT1    400.0   0.0    0.0  ...   504.5  260.0        3.5            5.0   \n",
       "GFP1_ZT4    493.0   0.0    0.0  ...   529.0  241.0        9.0            4.0   \n",
       "GFP2_ZT4    478.0   0.0    0.0  ...   545.5  292.5        4.5           11.5   \n",
       "\n",
       "            Trmt2b.2  Impdh1  Nrn1l.1  Dcstamp.4  Vsx2.1  Kcne1  \n",
       "Unnamed: 0                                                       \n",
       "GFP1_ZT1        40.0    28.0      0.0        3.0     0.0    0.0  \n",
       "GFP2_ZT1        28.5    26.5      0.0        1.0     0.0    0.0  \n",
       "GFP3_ZT1        35.0    17.0      1.0        2.0     0.0    0.0  \n",
       "GFP1_ZT4        20.5    10.5      1.0        2.0     0.0    0.0  \n",
       "GFP2_ZT4        18.5    14.5      0.0        0.0     0.0    0.0  \n",
       "\n",
       "[5 rows x 20048 columns]"
      ]
     },
     "execution_count": 30,
     "metadata": {},
     "output_type": "execute_result"
    }
   ],
   "source": [
    "hepa = hepa_data.set_index('Unnamed: 0')\n",
    "hepa.head()"
   ]
  },
  {
   "cell_type": "code",
   "execution_count": 31,
   "metadata": {
    "id": "kD0RS8F66Hzh"
   },
   "outputs": [],
   "source": [
    "gro = nrm_genes(raw_gro.set_index('ID').T)\n",
    "nascent = nrm_genes(raw_nascent.set_index('ID').T)\n",
    "\n",
    "bulk_data['code'] = [2,6,10,14,18,22,2,6,10,14,18,22]\n",
    "gro['code'] = [1,4,7,10,13,16,19,22]\n",
    "nascent['code'] = [0,4,8,12,16,20,0,4,8,12,16,20]\n",
    "hepa['code'] = [1,1,1,4,4,4,7,7,7,10,10,10,13,13,13,16,16,16,19,19,19,22,22,22,1,1,1,4,4,4,7,7,7,10,10,10,13,13,13,16,16,16,19,19,19,22,22,22]"
   ]
  },
  {
   "cell_type": "code",
   "execution_count": 39,
   "metadata": {},
   "outputs": [
    {
     "data": {
      "text/plain": [
       "(ID\n",
       " Ldlrap1         -8.049117e-16\n",
       " Mfap1b           0.000000e+00\n",
       " Rnaset2a        -8.326673e-17\n",
       " 9130023H24Rik   -3.738329e-16\n",
       " Rcc1            -1.346145e-15\n",
       "                      ...     \n",
       " Fgg             -1.387779e-17\n",
       " 4933434E20Rik   -1.973248e-15\n",
       " Taf13           -3.053113e-16\n",
       " Tiparp           2.376571e-16\n",
       " code             1.150000e+01\n",
       " Length: 9482, dtype: float64,\n",
       " ID\n",
       " Ldlrap1          1.000000\n",
       " Mfap1b           1.000000\n",
       " Rnaset2a         1.000000\n",
       " 9130023H24Rik    1.000000\n",
       " Rcc1             1.000000\n",
       "                    ...   \n",
       " Fgg              1.000000\n",
       " 4933434E20Rik    1.000000\n",
       " Taf13            1.000000\n",
       " Tiparp           1.000000\n",
       " code             7.348469\n",
       " Length: 9482, dtype: float64)"
      ]
     },
     "execution_count": 39,
     "metadata": {},
     "output_type": "execute_result"
    }
   ],
   "source": [
    "gro.mean(axis=0), gro.std(axis=0)"
   ]
  },
  {
   "cell_type": "code",
   "execution_count": 40,
   "metadata": {},
   "outputs": [
    {
     "data": {
      "text/plain": [
       "(ID\n",
       " Rorc      -4.625929e-17\n",
       " Nr1d1      5.551115e-17\n",
       " Zfyve26    2.127927e-16\n",
       " Fbxo22    -8.326673e-17\n",
       " Ppfibp1    0.000000e+00\n",
       "                ...     \n",
       " Eef1b2    -4.163336e-16\n",
       " Mier3      6.892635e-16\n",
       " Sec13      1.230497e-15\n",
       " Mapk3     -2.891206e-16\n",
       " code       1.000000e+01\n",
       " Length: 9482, dtype: float64,\n",
       " ID\n",
       " Rorc       1.000000\n",
       " Nr1d1      1.000000\n",
       " Zfyve26    1.000000\n",
       " Fbxo22     1.000000\n",
       " Ppfibp1    1.000000\n",
       "              ...   \n",
       " Eef1b2     1.000000\n",
       " Mier3      1.000000\n",
       " Sec13      1.000000\n",
       " Mapk3      1.000000\n",
       " code       7.135061\n",
       " Length: 9482, dtype: float64)"
      ]
     },
     "execution_count": 40,
     "metadata": {},
     "output_type": "execute_result"
    }
   ],
   "source": [
    "nascent.mean(axis=0), nascent.std(axis=0)"
   ]
  },
  {
   "cell_type": "markdown",
   "metadata": {},
   "source": [
    "## Adding more datasets"
   ]
  },
  {
   "cell_type": "markdown",
   "metadata": {},
   "source": [
    "See meta_analysis for mroe data."
   ]
  },
  {
   "cell_type": "code",
   "execution_count": 45,
   "metadata": {},
   "outputs": [],
   "source": [
    "path = Path('data/scRNA_datasets')\n",
    "more_data = pd.read_csv(path/'tpm.by_sample.txt', sep='\\t', low_memory=False).dropna(how='any').T.drop(index='Name')\n",
    "more_data.columns = more_data.loc['Symbol']\n",
    "more_data = more_data.drop(index='Symbol')"
   ]
  },
  {
   "cell_type": "code",
   "execution_count": 48,
   "metadata": {},
   "outputs": [
    {
     "data": {
      "text/html": [
       "<div>\n",
       "<style scoped>\n",
       "    .dataframe tbody tr th:only-of-type {\n",
       "        vertical-align: middle;\n",
       "    }\n",
       "\n",
       "    .dataframe tbody tr th {\n",
       "        vertical-align: top;\n",
       "    }\n",
       "\n",
       "    .dataframe thead th {\n",
       "        text-align: right;\n",
       "    }\n",
       "</style>\n",
       "<table border=\"1\" class=\"dataframe\">\n",
       "  <thead>\n",
       "    <tr style=\"text-align: right;\">\n",
       "      <th>Symbol</th>\n",
       "      <th>Gm14820</th>\n",
       "      <th>Flicr</th>\n",
       "      <th>Gm13449</th>\n",
       "      <th>C79798</th>\n",
       "      <th>Nron</th>\n",
       "      <th>Gm13528</th>\n",
       "      <th>Gm13425</th>\n",
       "      <th>4930527E20Rik</th>\n",
       "      <th>Gm13402</th>\n",
       "      <th>AA645442</th>\n",
       "      <th>...</th>\n",
       "      <th>Il33</th>\n",
       "      <th>Pgam1-ps1</th>\n",
       "      <th>Gm22697</th>\n",
       "      <th>Gm10517</th>\n",
       "      <th>Vmn1r-ps84</th>\n",
       "      <th>Rpsa-ps3</th>\n",
       "      <th>Gm14634</th>\n",
       "      <th>Zkscan7</th>\n",
       "      <th>Agbl1</th>\n",
       "      <th>Gm8902</th>\n",
       "    </tr>\n",
       "  </thead>\n",
       "  <tbody>\n",
       "    <tr>\n",
       "      <th>GSM2046160</th>\n",
       "      <td>0.047856</td>\n",
       "      <td>0.043026</td>\n",
       "      <td>0.013747</td>\n",
       "      <td>0.0</td>\n",
       "      <td>0.017114</td>\n",
       "      <td>0.184585</td>\n",
       "      <td>0.0</td>\n",
       "      <td>0.0</td>\n",
       "      <td>0.0</td>\n",
       "      <td>0.0</td>\n",
       "      <td>...</td>\n",
       "      <td>0.585986</td>\n",
       "      <td>0.04335</td>\n",
       "      <td>0.0</td>\n",
       "      <td>0.0</td>\n",
       "      <td>0.0</td>\n",
       "      <td>0.0</td>\n",
       "      <td>0.029685</td>\n",
       "      <td>2.69082</td>\n",
       "      <td>0.0</td>\n",
       "      <td>0.0</td>\n",
       "    </tr>\n",
       "    <tr>\n",
       "      <th>GSM2046184</th>\n",
       "      <td>0.0</td>\n",
       "      <td>0.017274</td>\n",
       "      <td>0.012649</td>\n",
       "      <td>0.0</td>\n",
       "      <td>0.0</td>\n",
       "      <td>0.225739</td>\n",
       "      <td>0.0</td>\n",
       "      <td>0.0</td>\n",
       "      <td>0.0</td>\n",
       "      <td>0.084449</td>\n",
       "      <td>...</td>\n",
       "      <td>0.682593</td>\n",
       "      <td>0.038878</td>\n",
       "      <td>0.0</td>\n",
       "      <td>0.0</td>\n",
       "      <td>0.0</td>\n",
       "      <td>0.017092</td>\n",
       "      <td>0.031688</td>\n",
       "      <td>2.20585</td>\n",
       "      <td>0.0</td>\n",
       "      <td>0.0</td>\n",
       "    </tr>\n",
       "    <tr>\n",
       "      <th>GSM2046157</th>\n",
       "      <td>0.011696</td>\n",
       "      <td>0.012144</td>\n",
       "      <td>0.029259</td>\n",
       "      <td>0.0</td>\n",
       "      <td>0.0</td>\n",
       "      <td>0.246204</td>\n",
       "      <td>0.0</td>\n",
       "      <td>0.0</td>\n",
       "      <td>0.0</td>\n",
       "      <td>0.0</td>\n",
       "      <td>...</td>\n",
       "      <td>0.521939</td>\n",
       "      <td>0.045233</td>\n",
       "      <td>0.0</td>\n",
       "      <td>0.1197</td>\n",
       "      <td>0.0</td>\n",
       "      <td>0.0</td>\n",
       "      <td>0.0</td>\n",
       "      <td>2.56285</td>\n",
       "      <td>0.0</td>\n",
       "      <td>0.015267</td>\n",
       "    </tr>\n",
       "    <tr>\n",
       "      <th>GSM2046183</th>\n",
       "      <td>0.038796</td>\n",
       "      <td>0.035352</td>\n",
       "      <td>0.012449</td>\n",
       "      <td>0.0</td>\n",
       "      <td>0.0</td>\n",
       "      <td>0.207048</td>\n",
       "      <td>0.0</td>\n",
       "      <td>0.0</td>\n",
       "      <td>0.0</td>\n",
       "      <td>0.0</td>\n",
       "      <td>...</td>\n",
       "      <td>0.404564</td>\n",
       "      <td>0.017379</td>\n",
       "      <td>0.0</td>\n",
       "      <td>0.170666</td>\n",
       "      <td>0.0</td>\n",
       "      <td>0.0</td>\n",
       "      <td>0.009918</td>\n",
       "      <td>2.47665</td>\n",
       "      <td>0.0</td>\n",
       "      <td>0.0</td>\n",
       "    </tr>\n",
       "    <tr>\n",
       "      <th>GSM2046155</th>\n",
       "      <td>0.0</td>\n",
       "      <td>0.025837</td>\n",
       "      <td>0.080033</td>\n",
       "      <td>0.0</td>\n",
       "      <td>0.0</td>\n",
       "      <td>0.157396</td>\n",
       "      <td>0.0</td>\n",
       "      <td>0.0</td>\n",
       "      <td>0.0</td>\n",
       "      <td>0.619891</td>\n",
       "      <td>...</td>\n",
       "      <td>0.36724</td>\n",
       "      <td>0.088547</td>\n",
       "      <td>0.0</td>\n",
       "      <td>0.134558</td>\n",
       "      <td>0.0</td>\n",
       "      <td>0.0</td>\n",
       "      <td>0.007446</td>\n",
       "      <td>2.71046</td>\n",
       "      <td>0.0</td>\n",
       "      <td>0.011883</td>\n",
       "    </tr>\n",
       "    <tr>\n",
       "      <th>...</th>\n",
       "      <td>...</td>\n",
       "      <td>...</td>\n",
       "      <td>...</td>\n",
       "      <td>...</td>\n",
       "      <td>...</td>\n",
       "      <td>...</td>\n",
       "      <td>...</td>\n",
       "      <td>...</td>\n",
       "      <td>...</td>\n",
       "      <td>...</td>\n",
       "      <td>...</td>\n",
       "      <td>...</td>\n",
       "      <td>...</td>\n",
       "      <td>...</td>\n",
       "      <td>...</td>\n",
       "      <td>...</td>\n",
       "      <td>...</td>\n",
       "      <td>...</td>\n",
       "      <td>...</td>\n",
       "      <td>...</td>\n",
       "      <td>...</td>\n",
       "    </tr>\n",
       "    <tr>\n",
       "      <th>GSM6610738</th>\n",
       "      <td>0.0</td>\n",
       "      <td>0.035516</td>\n",
       "      <td>0.215311</td>\n",
       "      <td>0.0</td>\n",
       "      <td>0.0</td>\n",
       "      <td>0.0</td>\n",
       "      <td>0.0</td>\n",
       "      <td>0.0</td>\n",
       "      <td>0.130749</td>\n",
       "      <td>0.316231</td>\n",
       "      <td>...</td>\n",
       "      <td>0.794336</td>\n",
       "      <td>0.3189</td>\n",
       "      <td>0.0</td>\n",
       "      <td>0.0</td>\n",
       "      <td>0.0</td>\n",
       "      <td>0.0</td>\n",
       "      <td>0.023322</td>\n",
       "      <td>1.85593</td>\n",
       "      <td>0.0</td>\n",
       "      <td>0.0</td>\n",
       "    </tr>\n",
       "    <tr>\n",
       "      <th>GSM6610724</th>\n",
       "      <td>0.0</td>\n",
       "      <td>0.078964</td>\n",
       "      <td>0.200141</td>\n",
       "      <td>0.0</td>\n",
       "      <td>0.0</td>\n",
       "      <td>0.806385</td>\n",
       "      <td>0.0</td>\n",
       "      <td>0.0</td>\n",
       "      <td>0.0</td>\n",
       "      <td>0.0</td>\n",
       "      <td>...</td>\n",
       "      <td>0.752421</td>\n",
       "      <td>0.165695</td>\n",
       "      <td>0.0</td>\n",
       "      <td>0.110278</td>\n",
       "      <td>0.0</td>\n",
       "      <td>0.0</td>\n",
       "      <td>0.070138</td>\n",
       "      <td>1.70914</td>\n",
       "      <td>0.0</td>\n",
       "      <td>0.0</td>\n",
       "    </tr>\n",
       "    <tr>\n",
       "      <th>GSM6610752</th>\n",
       "      <td>0.0</td>\n",
       "      <td>0.043414</td>\n",
       "      <td>0.228735</td>\n",
       "      <td>0.0</td>\n",
       "      <td>0.0</td>\n",
       "      <td>0.447329</td>\n",
       "      <td>0.0</td>\n",
       "      <td>0.0</td>\n",
       "      <td>0.0</td>\n",
       "      <td>0.405717</td>\n",
       "      <td>...</td>\n",
       "      <td>0.796097</td>\n",
       "      <td>0.265712</td>\n",
       "      <td>0.0</td>\n",
       "      <td>0.0</td>\n",
       "      <td>0.0</td>\n",
       "      <td>0.0</td>\n",
       "      <td>0.054193</td>\n",
       "      <td>2.7101</td>\n",
       "      <td>0.0</td>\n",
       "      <td>0.0</td>\n",
       "    </tr>\n",
       "    <tr>\n",
       "      <th>GSM6610726</th>\n",
       "      <td>0.016459</td>\n",
       "      <td>0.043835</td>\n",
       "      <td>0.284069</td>\n",
       "      <td>0.028452</td>\n",
       "      <td>0.0</td>\n",
       "      <td>1.18465</td>\n",
       "      <td>0.0</td>\n",
       "      <td>0.0</td>\n",
       "      <td>0.0</td>\n",
       "      <td>0.829571</td>\n",
       "      <td>...</td>\n",
       "      <td>0.715682</td>\n",
       "      <td>0.034111</td>\n",
       "      <td>0.0</td>\n",
       "      <td>0.276602</td>\n",
       "      <td>0.0</td>\n",
       "      <td>0.0</td>\n",
       "      <td>0.047538</td>\n",
       "      <td>1.66776</td>\n",
       "      <td>0.0</td>\n",
       "      <td>0.0</td>\n",
       "    </tr>\n",
       "    <tr>\n",
       "      <th>GSM6610740</th>\n",
       "      <td>0.0</td>\n",
       "      <td>0.048446</td>\n",
       "      <td>0.234701</td>\n",
       "      <td>0.0</td>\n",
       "      <td>0.0</td>\n",
       "      <td>0.203605</td>\n",
       "      <td>0.0</td>\n",
       "      <td>0.0</td>\n",
       "      <td>0.0</td>\n",
       "      <td>0.0</td>\n",
       "      <td>...</td>\n",
       "      <td>0.692491</td>\n",
       "      <td>0.236707</td>\n",
       "      <td>0.0</td>\n",
       "      <td>0.098693</td>\n",
       "      <td>0.0</td>\n",
       "      <td>0.0</td>\n",
       "      <td>0.018135</td>\n",
       "      <td>2.69755</td>\n",
       "      <td>0.0</td>\n",
       "      <td>0.0</td>\n",
       "    </tr>\n",
       "  </tbody>\n",
       "</table>\n",
       "<p>1096 rows × 37042 columns</p>\n",
       "</div>"
      ],
      "text/plain": [
       "Symbol       Gm14820     Flicr   Gm13449    C79798      Nron   Gm13528  \\\n",
       "GSM2046160  0.047856  0.043026  0.013747       0.0  0.017114  0.184585   \n",
       "GSM2046184       0.0  0.017274  0.012649       0.0       0.0  0.225739   \n",
       "GSM2046157  0.011696  0.012144  0.029259       0.0       0.0  0.246204   \n",
       "GSM2046183  0.038796  0.035352  0.012449       0.0       0.0  0.207048   \n",
       "GSM2046155       0.0  0.025837  0.080033       0.0       0.0  0.157396   \n",
       "...              ...       ...       ...       ...       ...       ...   \n",
       "GSM6610738       0.0  0.035516  0.215311       0.0       0.0       0.0   \n",
       "GSM6610724       0.0  0.078964  0.200141       0.0       0.0  0.806385   \n",
       "GSM6610752       0.0  0.043414  0.228735       0.0       0.0  0.447329   \n",
       "GSM6610726  0.016459  0.043835  0.284069  0.028452       0.0   1.18465   \n",
       "GSM6610740       0.0  0.048446  0.234701       0.0       0.0  0.203605   \n",
       "\n",
       "Symbol     Gm13425 4930527E20Rik   Gm13402  AA645442  ...      Il33 Pgam1-ps1  \\\n",
       "GSM2046160     0.0           0.0       0.0       0.0  ...  0.585986   0.04335   \n",
       "GSM2046184     0.0           0.0       0.0  0.084449  ...  0.682593  0.038878   \n",
       "GSM2046157     0.0           0.0       0.0       0.0  ...  0.521939  0.045233   \n",
       "GSM2046183     0.0           0.0       0.0       0.0  ...  0.404564  0.017379   \n",
       "GSM2046155     0.0           0.0       0.0  0.619891  ...   0.36724  0.088547   \n",
       "...            ...           ...       ...       ...  ...       ...       ...   \n",
       "GSM6610738     0.0           0.0  0.130749  0.316231  ...  0.794336    0.3189   \n",
       "GSM6610724     0.0           0.0       0.0       0.0  ...  0.752421  0.165695   \n",
       "GSM6610752     0.0           0.0       0.0  0.405717  ...  0.796097  0.265712   \n",
       "GSM6610726     0.0           0.0       0.0  0.829571  ...  0.715682  0.034111   \n",
       "GSM6610740     0.0           0.0       0.0       0.0  ...  0.692491  0.236707   \n",
       "\n",
       "Symbol     Gm22697   Gm10517 Vmn1r-ps84  Rpsa-ps3   Gm14634  Zkscan7 Agbl1  \\\n",
       "GSM2046160     0.0       0.0        0.0       0.0  0.029685  2.69082   0.0   \n",
       "GSM2046184     0.0       0.0        0.0  0.017092  0.031688  2.20585   0.0   \n",
       "GSM2046157     0.0    0.1197        0.0       0.0       0.0  2.56285   0.0   \n",
       "GSM2046183     0.0  0.170666        0.0       0.0  0.009918  2.47665   0.0   \n",
       "GSM2046155     0.0  0.134558        0.0       0.0  0.007446  2.71046   0.0   \n",
       "...            ...       ...        ...       ...       ...      ...   ...   \n",
       "GSM6610738     0.0       0.0        0.0       0.0  0.023322  1.85593   0.0   \n",
       "GSM6610724     0.0  0.110278        0.0       0.0  0.070138  1.70914   0.0   \n",
       "GSM6610752     0.0       0.0        0.0       0.0  0.054193   2.7101   0.0   \n",
       "GSM6610726     0.0  0.276602        0.0       0.0  0.047538  1.66776   0.0   \n",
       "GSM6610740     0.0  0.098693        0.0       0.0  0.018135  2.69755   0.0   \n",
       "\n",
       "Symbol        Gm8902  \n",
       "GSM2046160       0.0  \n",
       "GSM2046184       0.0  \n",
       "GSM2046157  0.015267  \n",
       "GSM2046183       0.0  \n",
       "GSM2046155  0.011883  \n",
       "...              ...  \n",
       "GSM6610738       0.0  \n",
       "GSM6610724       0.0  \n",
       "GSM6610752       0.0  \n",
       "GSM6610726       0.0  \n",
       "GSM6610740       0.0  \n",
       "\n",
       "[1096 rows x 37042 columns]"
      ]
     },
     "execution_count": 48,
     "metadata": {},
     "output_type": "execute_result"
    }
   ],
   "source": [
    "more_data"
   ]
  },
  {
   "cell_type": "code",
   "execution_count": 62,
   "metadata": {},
   "outputs": [
    {
     "data": {
      "text/html": [
       "<div>\n",
       "<style scoped>\n",
       "    .dataframe tbody tr th:only-of-type {\n",
       "        vertical-align: middle;\n",
       "    }\n",
       "\n",
       "    .dataframe tbody tr th {\n",
       "        vertical-align: top;\n",
       "    }\n",
       "\n",
       "    .dataframe thead th {\n",
       "        text-align: right;\n",
       "    }\n",
       "</style>\n",
       "<table border=\"1\" class=\"dataframe\">\n",
       "  <thead>\n",
       "    <tr style=\"text-align: right;\">\n",
       "      <th>Symbol</th>\n",
       "      <th>Gm13425</th>\n",
       "      <th>Gldnos</th>\n",
       "      <th>Gm16095</th>\n",
       "      <th>Sox5os5</th>\n",
       "      <th>Gm14330</th>\n",
       "      <th>Gm14329</th>\n",
       "      <th>1700039E22Rik</th>\n",
       "      <th>Gm15699</th>\n",
       "      <th>Gm15825</th>\n",
       "      <th>Gm17172</th>\n",
       "      <th>...</th>\n",
       "      <th>Gm22370</th>\n",
       "      <th>Olfr1356</th>\n",
       "      <th>Olfr1239</th>\n",
       "      <th>Obox4-ps6</th>\n",
       "      <th>Gm24088</th>\n",
       "      <th>Gm23733</th>\n",
       "      <th>Obox4-ps19</th>\n",
       "      <th>Obox4-ps23</th>\n",
       "      <th>Vmn1r-ps73</th>\n",
       "      <th>Gm22697</th>\n",
       "    </tr>\n",
       "  </thead>\n",
       "  <tbody>\n",
       "    <tr>\n",
       "      <th>GSM2046160</th>\n",
       "      <td>0.0</td>\n",
       "      <td>0.0</td>\n",
       "      <td>0.0</td>\n",
       "      <td>0.0</td>\n",
       "      <td>0.0</td>\n",
       "      <td>0.0</td>\n",
       "      <td>0.0</td>\n",
       "      <td>0.0</td>\n",
       "      <td>0.0</td>\n",
       "      <td>0.0</td>\n",
       "      <td>...</td>\n",
       "      <td>0.0</td>\n",
       "      <td>0.0</td>\n",
       "      <td>0.0</td>\n",
       "      <td>0.0</td>\n",
       "      <td>0.0</td>\n",
       "      <td>0.0</td>\n",
       "      <td>0.0</td>\n",
       "      <td>0.0</td>\n",
       "      <td>0.0</td>\n",
       "      <td>0.0</td>\n",
       "    </tr>\n",
       "    <tr>\n",
       "      <th>GSM2046184</th>\n",
       "      <td>0.0</td>\n",
       "      <td>0.0</td>\n",
       "      <td>0.0</td>\n",
       "      <td>0.0</td>\n",
       "      <td>0.0</td>\n",
       "      <td>0.0</td>\n",
       "      <td>0.0</td>\n",
       "      <td>0.0</td>\n",
       "      <td>0.0</td>\n",
       "      <td>0.0</td>\n",
       "      <td>...</td>\n",
       "      <td>0.0</td>\n",
       "      <td>0.0</td>\n",
       "      <td>0.0</td>\n",
       "      <td>0.0</td>\n",
       "      <td>0.0</td>\n",
       "      <td>0.0</td>\n",
       "      <td>0.0</td>\n",
       "      <td>0.0</td>\n",
       "      <td>0.0</td>\n",
       "      <td>0.0</td>\n",
       "    </tr>\n",
       "    <tr>\n",
       "      <th>GSM2046157</th>\n",
       "      <td>0.0</td>\n",
       "      <td>0.0</td>\n",
       "      <td>0.0</td>\n",
       "      <td>0.0</td>\n",
       "      <td>0.0</td>\n",
       "      <td>0.0</td>\n",
       "      <td>0.0</td>\n",
       "      <td>0.0</td>\n",
       "      <td>0.0</td>\n",
       "      <td>0.0</td>\n",
       "      <td>...</td>\n",
       "      <td>0.0</td>\n",
       "      <td>0.0</td>\n",
       "      <td>0.0</td>\n",
       "      <td>0.0</td>\n",
       "      <td>0.0</td>\n",
       "      <td>0.0</td>\n",
       "      <td>0.0</td>\n",
       "      <td>0.0</td>\n",
       "      <td>0.0</td>\n",
       "      <td>0.0</td>\n",
       "    </tr>\n",
       "    <tr>\n",
       "      <th>GSM2046183</th>\n",
       "      <td>0.0</td>\n",
       "      <td>0.0</td>\n",
       "      <td>0.0</td>\n",
       "      <td>0.0</td>\n",
       "      <td>0.0</td>\n",
       "      <td>0.0</td>\n",
       "      <td>0.0</td>\n",
       "      <td>0.0</td>\n",
       "      <td>0.0</td>\n",
       "      <td>0.0</td>\n",
       "      <td>...</td>\n",
       "      <td>0.0</td>\n",
       "      <td>0.0</td>\n",
       "      <td>0.0</td>\n",
       "      <td>0.0</td>\n",
       "      <td>0.0</td>\n",
       "      <td>0.0</td>\n",
       "      <td>0.0</td>\n",
       "      <td>0.0</td>\n",
       "      <td>0.0</td>\n",
       "      <td>0.0</td>\n",
       "    </tr>\n",
       "    <tr>\n",
       "      <th>GSM2046155</th>\n",
       "      <td>0.0</td>\n",
       "      <td>0.0</td>\n",
       "      <td>0.0</td>\n",
       "      <td>0.0</td>\n",
       "      <td>0.0</td>\n",
       "      <td>0.0</td>\n",
       "      <td>0.0</td>\n",
       "      <td>0.0</td>\n",
       "      <td>0.0</td>\n",
       "      <td>0.0</td>\n",
       "      <td>...</td>\n",
       "      <td>0.0</td>\n",
       "      <td>0.0</td>\n",
       "      <td>0.0</td>\n",
       "      <td>0.0</td>\n",
       "      <td>0.0</td>\n",
       "      <td>0.0</td>\n",
       "      <td>0.0</td>\n",
       "      <td>0.0</td>\n",
       "      <td>0.0</td>\n",
       "      <td>0.0</td>\n",
       "    </tr>\n",
       "    <tr>\n",
       "      <th>...</th>\n",
       "      <td>...</td>\n",
       "      <td>...</td>\n",
       "      <td>...</td>\n",
       "      <td>...</td>\n",
       "      <td>...</td>\n",
       "      <td>...</td>\n",
       "      <td>...</td>\n",
       "      <td>...</td>\n",
       "      <td>...</td>\n",
       "      <td>...</td>\n",
       "      <td>...</td>\n",
       "      <td>...</td>\n",
       "      <td>...</td>\n",
       "      <td>...</td>\n",
       "      <td>...</td>\n",
       "      <td>...</td>\n",
       "      <td>...</td>\n",
       "      <td>...</td>\n",
       "      <td>...</td>\n",
       "      <td>...</td>\n",
       "      <td>...</td>\n",
       "    </tr>\n",
       "    <tr>\n",
       "      <th>GSM6610738</th>\n",
       "      <td>0.0</td>\n",
       "      <td>0.0</td>\n",
       "      <td>0.0</td>\n",
       "      <td>0.0</td>\n",
       "      <td>0.0</td>\n",
       "      <td>0.0</td>\n",
       "      <td>0.0</td>\n",
       "      <td>0.0</td>\n",
       "      <td>0.0</td>\n",
       "      <td>0.0</td>\n",
       "      <td>...</td>\n",
       "      <td>0.0</td>\n",
       "      <td>0.0</td>\n",
       "      <td>0.0</td>\n",
       "      <td>0.0</td>\n",
       "      <td>0.0</td>\n",
       "      <td>0.0</td>\n",
       "      <td>0.0</td>\n",
       "      <td>0.0</td>\n",
       "      <td>0.0</td>\n",
       "      <td>0.0</td>\n",
       "    </tr>\n",
       "    <tr>\n",
       "      <th>GSM6610724</th>\n",
       "      <td>0.0</td>\n",
       "      <td>0.0</td>\n",
       "      <td>0.0</td>\n",
       "      <td>0.0</td>\n",
       "      <td>0.0</td>\n",
       "      <td>0.0</td>\n",
       "      <td>0.0</td>\n",
       "      <td>0.0</td>\n",
       "      <td>0.0</td>\n",
       "      <td>0.0</td>\n",
       "      <td>...</td>\n",
       "      <td>0.0</td>\n",
       "      <td>0.0</td>\n",
       "      <td>0.0</td>\n",
       "      <td>0.0</td>\n",
       "      <td>0.0</td>\n",
       "      <td>0.0</td>\n",
       "      <td>0.0</td>\n",
       "      <td>0.0</td>\n",
       "      <td>0.0</td>\n",
       "      <td>0.0</td>\n",
       "    </tr>\n",
       "    <tr>\n",
       "      <th>GSM6610752</th>\n",
       "      <td>0.0</td>\n",
       "      <td>0.0</td>\n",
       "      <td>0.0</td>\n",
       "      <td>0.0</td>\n",
       "      <td>0.0</td>\n",
       "      <td>0.0</td>\n",
       "      <td>0.0</td>\n",
       "      <td>0.0</td>\n",
       "      <td>0.0</td>\n",
       "      <td>0.0</td>\n",
       "      <td>...</td>\n",
       "      <td>0.0</td>\n",
       "      <td>0.0</td>\n",
       "      <td>0.0</td>\n",
       "      <td>0.0</td>\n",
       "      <td>0.0</td>\n",
       "      <td>0.0</td>\n",
       "      <td>0.0</td>\n",
       "      <td>0.0</td>\n",
       "      <td>0.0</td>\n",
       "      <td>0.0</td>\n",
       "    </tr>\n",
       "    <tr>\n",
       "      <th>GSM6610726</th>\n",
       "      <td>0.0</td>\n",
       "      <td>0.0</td>\n",
       "      <td>0.0</td>\n",
       "      <td>0.0</td>\n",
       "      <td>0.0</td>\n",
       "      <td>0.0</td>\n",
       "      <td>0.0</td>\n",
       "      <td>0.0</td>\n",
       "      <td>0.0</td>\n",
       "      <td>0.0</td>\n",
       "      <td>...</td>\n",
       "      <td>0.0</td>\n",
       "      <td>0.0</td>\n",
       "      <td>0.0</td>\n",
       "      <td>0.0</td>\n",
       "      <td>0.0</td>\n",
       "      <td>0.0</td>\n",
       "      <td>0.0</td>\n",
       "      <td>0.0</td>\n",
       "      <td>0.0</td>\n",
       "      <td>0.0</td>\n",
       "    </tr>\n",
       "    <tr>\n",
       "      <th>GSM6610740</th>\n",
       "      <td>0.0</td>\n",
       "      <td>0.0</td>\n",
       "      <td>0.0</td>\n",
       "      <td>0.0</td>\n",
       "      <td>0.0</td>\n",
       "      <td>0.0</td>\n",
       "      <td>0.0</td>\n",
       "      <td>0.0</td>\n",
       "      <td>0.0</td>\n",
       "      <td>0.0</td>\n",
       "      <td>...</td>\n",
       "      <td>0.0</td>\n",
       "      <td>0.0</td>\n",
       "      <td>0.0</td>\n",
       "      <td>0.0</td>\n",
       "      <td>0.0</td>\n",
       "      <td>0.0</td>\n",
       "      <td>0.0</td>\n",
       "      <td>0.0</td>\n",
       "      <td>0.0</td>\n",
       "      <td>0.0</td>\n",
       "    </tr>\n",
       "  </tbody>\n",
       "</table>\n",
       "<p>1096 rows × 4136 columns</p>\n",
       "</div>"
      ],
      "text/plain": [
       "Symbol     Gm13425 Gldnos Gm16095 Sox5os5 Gm14330 Gm14329 1700039E22Rik  \\\n",
       "GSM2046160     0.0    0.0     0.0     0.0     0.0     0.0           0.0   \n",
       "GSM2046184     0.0    0.0     0.0     0.0     0.0     0.0           0.0   \n",
       "GSM2046157     0.0    0.0     0.0     0.0     0.0     0.0           0.0   \n",
       "GSM2046183     0.0    0.0     0.0     0.0     0.0     0.0           0.0   \n",
       "GSM2046155     0.0    0.0     0.0     0.0     0.0     0.0           0.0   \n",
       "...            ...    ...     ...     ...     ...     ...           ...   \n",
       "GSM6610738     0.0    0.0     0.0     0.0     0.0     0.0           0.0   \n",
       "GSM6610724     0.0    0.0     0.0     0.0     0.0     0.0           0.0   \n",
       "GSM6610752     0.0    0.0     0.0     0.0     0.0     0.0           0.0   \n",
       "GSM6610726     0.0    0.0     0.0     0.0     0.0     0.0           0.0   \n",
       "GSM6610740     0.0    0.0     0.0     0.0     0.0     0.0           0.0   \n",
       "\n",
       "Symbol     Gm15699 Gm15825 Gm17172  ... Gm22370 Olfr1356 Olfr1239 Obox4-ps6  \\\n",
       "GSM2046160     0.0     0.0     0.0  ...     0.0      0.0      0.0       0.0   \n",
       "GSM2046184     0.0     0.0     0.0  ...     0.0      0.0      0.0       0.0   \n",
       "GSM2046157     0.0     0.0     0.0  ...     0.0      0.0      0.0       0.0   \n",
       "GSM2046183     0.0     0.0     0.0  ...     0.0      0.0      0.0       0.0   \n",
       "GSM2046155     0.0     0.0     0.0  ...     0.0      0.0      0.0       0.0   \n",
       "...            ...     ...     ...  ...     ...      ...      ...       ...   \n",
       "GSM6610738     0.0     0.0     0.0  ...     0.0      0.0      0.0       0.0   \n",
       "GSM6610724     0.0     0.0     0.0  ...     0.0      0.0      0.0       0.0   \n",
       "GSM6610752     0.0     0.0     0.0  ...     0.0      0.0      0.0       0.0   \n",
       "GSM6610726     0.0     0.0     0.0  ...     0.0      0.0      0.0       0.0   \n",
       "GSM6610740     0.0     0.0     0.0  ...     0.0      0.0      0.0       0.0   \n",
       "\n",
       "Symbol     Gm24088 Gm23733 Obox4-ps19 Obox4-ps23 Vmn1r-ps73 Gm22697  \n",
       "GSM2046160     0.0     0.0        0.0        0.0        0.0     0.0  \n",
       "GSM2046184     0.0     0.0        0.0        0.0        0.0     0.0  \n",
       "GSM2046157     0.0     0.0        0.0        0.0        0.0     0.0  \n",
       "GSM2046183     0.0     0.0        0.0        0.0        0.0     0.0  \n",
       "GSM2046155     0.0     0.0        0.0        0.0        0.0     0.0  \n",
       "...            ...     ...        ...        ...        ...     ...  \n",
       "GSM6610738     0.0     0.0        0.0        0.0        0.0     0.0  \n",
       "GSM6610724     0.0     0.0        0.0        0.0        0.0     0.0  \n",
       "GSM6610752     0.0     0.0        0.0        0.0        0.0     0.0  \n",
       "GSM6610726     0.0     0.0        0.0        0.0        0.0     0.0  \n",
       "GSM6610740     0.0     0.0        0.0        0.0        0.0     0.0  \n",
       "\n",
       "[1096 rows x 4136 columns]"
      ]
     },
     "execution_count": 62,
     "metadata": {},
     "output_type": "execute_result"
    }
   ],
   "source": [
    "more_data.loc[:,more_data.sum(axis=0) == 0]"
   ]
  },
  {
   "cell_type": "code",
   "execution_count": 58,
   "metadata": {},
   "outputs": [
    {
     "data": {
      "text/plain": [
       "0.0"
      ]
     },
     "execution_count": 58,
     "metadata": {},
     "output_type": "execute_result"
    }
   ],
   "source": [
    "more_data.loc[]"
   ]
  },
  {
   "cell_type": "code",
   "execution_count": 49,
   "metadata": {},
   "outputs": [
    {
     "ename": "ZeroDivisionError",
     "evalue": "float division by zero",
     "output_type": "error",
     "traceback": [
      "\u001b[0;31m---------------------------------------------------------------------------\u001b[0m",
      "\u001b[0;31mZeroDivisionError\u001b[0m                         Traceback (most recent call last)",
      "Cell \u001b[0;32mIn[49], line 1\u001b[0m\n\u001b[0;32m----> 1\u001b[0m nrm_more_data \u001b[38;5;241m=\u001b[39m \u001b[43mnrm_genes\u001b[49m\u001b[43m(\u001b[49m\u001b[43mmore_data\u001b[49m\u001b[43m)\u001b[49m\n",
      "Cell \u001b[0;32mIn[17], line 4\u001b[0m, in \u001b[0;36mnrm_genes\u001b[0;34m(df)\u001b[0m\n\u001b[1;32m      2\u001b[0m \u001b[38;5;250m\u001b[39m\u001b[38;5;124;03m\"\"\"Assuming genes on cols cells on rows.\"\"\"\u001b[39;00m\n\u001b[1;32m      3\u001b[0m cell_divided \u001b[38;5;241m=\u001b[39m df\u001b[38;5;241m.\u001b[39mdiv(df\u001b[38;5;241m.\u001b[39msum(axis\u001b[38;5;241m=\u001b[39m\u001b[38;5;241m1\u001b[39m), axis\u001b[38;5;241m=\u001b[39m\u001b[38;5;241m0\u001b[39m)\n\u001b[0;32m----> 4\u001b[0m \u001b[38;5;28;01mreturn\u001b[39;00m \u001b[43m(\u001b[49m\u001b[43mcell_divided\u001b[49m\u001b[43m \u001b[49m\u001b[38;5;241;43m-\u001b[39;49m\u001b[43m \u001b[49m\u001b[43mcell_divided\u001b[49m\u001b[38;5;241;43m.\u001b[39;49m\u001b[43mmean\u001b[49m\u001b[43m(\u001b[49m\u001b[43maxis\u001b[49m\u001b[38;5;241;43m=\u001b[39;49m\u001b[38;5;241;43m0\u001b[39;49m\u001b[43m)\u001b[49m\u001b[43m)\u001b[49m\u001b[43m \u001b[49m\u001b[38;5;241;43m/\u001b[39;49m\u001b[43m \u001b[49m\u001b[43mcell_divided\u001b[49m\u001b[38;5;241;43m.\u001b[39;49m\u001b[43mstd\u001b[49m\u001b[43m(\u001b[49m\u001b[43maxis\u001b[49m\u001b[38;5;241;43m=\u001b[39;49m\u001b[38;5;241;43m0\u001b[39;49m\u001b[43m)\u001b[49m\n",
      "File \u001b[0;32m~/miniforge3/lib/python3.10/site-packages/pandas/core/ops/common.py:76\u001b[0m, in \u001b[0;36m_unpack_zerodim_and_defer.<locals>.new_method\u001b[0;34m(self, other)\u001b[0m\n\u001b[1;32m     72\u001b[0m             \u001b[38;5;28;01mreturn\u001b[39;00m \u001b[38;5;28mNotImplemented\u001b[39m\n\u001b[1;32m     74\u001b[0m other \u001b[38;5;241m=\u001b[39m item_from_zerodim(other)\n\u001b[0;32m---> 76\u001b[0m \u001b[38;5;28;01mreturn\u001b[39;00m \u001b[43mmethod\u001b[49m\u001b[43m(\u001b[49m\u001b[38;5;28;43mself\u001b[39;49m\u001b[43m,\u001b[49m\u001b[43m \u001b[49m\u001b[43mother\u001b[49m\u001b[43m)\u001b[49m\n",
      "File \u001b[0;32m~/miniforge3/lib/python3.10/site-packages/pandas/core/arraylike.py:210\u001b[0m, in \u001b[0;36mOpsMixin.__truediv__\u001b[0;34m(self, other)\u001b[0m\n\u001b[1;32m    208\u001b[0m \u001b[38;5;129m@unpack_zerodim_and_defer\u001b[39m(\u001b[38;5;124m\"\u001b[39m\u001b[38;5;124m__truediv__\u001b[39m\u001b[38;5;124m\"\u001b[39m)\n\u001b[1;32m    209\u001b[0m \u001b[38;5;28;01mdef\u001b[39;00m \u001b[38;5;21m__truediv__\u001b[39m(\u001b[38;5;28mself\u001b[39m, other):\n\u001b[0;32m--> 210\u001b[0m     \u001b[38;5;28;01mreturn\u001b[39;00m \u001b[38;5;28;43mself\u001b[39;49m\u001b[38;5;241;43m.\u001b[39;49m\u001b[43m_arith_method\u001b[49m\u001b[43m(\u001b[49m\u001b[43mother\u001b[49m\u001b[43m,\u001b[49m\u001b[43m \u001b[49m\u001b[43moperator\u001b[49m\u001b[38;5;241;43m.\u001b[39;49m\u001b[43mtruediv\u001b[49m\u001b[43m)\u001b[49m\n",
      "File \u001b[0;32m~/miniforge3/lib/python3.10/site-packages/pandas/core/frame.py:7900\u001b[0m, in \u001b[0;36mDataFrame._arith_method\u001b[0;34m(self, other, op)\u001b[0m\n\u001b[1;32m   7897\u001b[0m \u001b[38;5;28mself\u001b[39m, other \u001b[38;5;241m=\u001b[39m \u001b[38;5;28mself\u001b[39m\u001b[38;5;241m.\u001b[39m_align_for_op(other, axis, flex\u001b[38;5;241m=\u001b[39m\u001b[38;5;28;01mTrue\u001b[39;00m, level\u001b[38;5;241m=\u001b[39m\u001b[38;5;28;01mNone\u001b[39;00m)\n\u001b[1;32m   7899\u001b[0m \u001b[38;5;28;01mwith\u001b[39;00m np\u001b[38;5;241m.\u001b[39merrstate(\u001b[38;5;28mall\u001b[39m\u001b[38;5;241m=\u001b[39m\u001b[38;5;124m\"\u001b[39m\u001b[38;5;124mignore\u001b[39m\u001b[38;5;124m\"\u001b[39m):\n\u001b[0;32m-> 7900\u001b[0m     new_data \u001b[38;5;241m=\u001b[39m \u001b[38;5;28;43mself\u001b[39;49m\u001b[38;5;241;43m.\u001b[39;49m\u001b[43m_dispatch_frame_op\u001b[49m\u001b[43m(\u001b[49m\u001b[43mother\u001b[49m\u001b[43m,\u001b[49m\u001b[43m \u001b[49m\u001b[43mop\u001b[49m\u001b[43m,\u001b[49m\u001b[43m \u001b[49m\u001b[43maxis\u001b[49m\u001b[38;5;241;43m=\u001b[39;49m\u001b[43maxis\u001b[49m\u001b[43m)\u001b[49m\n\u001b[1;32m   7901\u001b[0m \u001b[38;5;28;01mreturn\u001b[39;00m \u001b[38;5;28mself\u001b[39m\u001b[38;5;241m.\u001b[39m_construct_result(new_data)\n",
      "File \u001b[0;32m~/miniforge3/lib/python3.10/site-packages/pandas/core/frame.py:7943\u001b[0m, in \u001b[0;36mDataFrame._dispatch_frame_op\u001b[0;34m(self, right, func, axis)\u001b[0m\n\u001b[1;32m   7937\u001b[0m     \u001b[38;5;28;01massert\u001b[39;00m \u001b[38;5;28mself\u001b[39m\u001b[38;5;241m.\u001b[39mcolumns\u001b[38;5;241m.\u001b[39mequals(right\u001b[38;5;241m.\u001b[39mcolumns)\n\u001b[1;32m   7938\u001b[0m     \u001b[38;5;66;03m# TODO: The previous assertion `assert right._indexed_same(self)`\u001b[39;00m\n\u001b[1;32m   7939\u001b[0m     \u001b[38;5;66;03m#  fails in cases with empty columns reached via\u001b[39;00m\n\u001b[1;32m   7940\u001b[0m     \u001b[38;5;66;03m#  _frame_arith_method_with_reindex\u001b[39;00m\n\u001b[1;32m   7941\u001b[0m \n\u001b[1;32m   7942\u001b[0m     \u001b[38;5;66;03m# TODO operate_blockwise expects a manager of the same type\u001b[39;00m\n\u001b[0;32m-> 7943\u001b[0m     bm \u001b[38;5;241m=\u001b[39m \u001b[38;5;28;43mself\u001b[39;49m\u001b[38;5;241;43m.\u001b[39;49m\u001b[43m_mgr\u001b[49m\u001b[38;5;241;43m.\u001b[39;49m\u001b[43moperate_blockwise\u001b[49m\u001b[43m(\u001b[49m\n\u001b[1;32m   7944\u001b[0m \u001b[43m        \u001b[49m\u001b[38;5;66;43;03m# error: Argument 1 to \"operate_blockwise\" of \"ArrayManager\" has\u001b[39;49;00m\n\u001b[1;32m   7945\u001b[0m \u001b[43m        \u001b[49m\u001b[38;5;66;43;03m# incompatible type \"Union[ArrayManager, BlockManager]\"; expected\u001b[39;49;00m\n\u001b[1;32m   7946\u001b[0m \u001b[43m        \u001b[49m\u001b[38;5;66;43;03m# \"ArrayManager\"\u001b[39;49;00m\n\u001b[1;32m   7947\u001b[0m \u001b[43m        \u001b[49m\u001b[38;5;66;43;03m# error: Argument 1 to \"operate_blockwise\" of \"BlockManager\" has\u001b[39;49;00m\n\u001b[1;32m   7948\u001b[0m \u001b[43m        \u001b[49m\u001b[38;5;66;43;03m# incompatible type \"Union[ArrayManager, BlockManager]\"; expected\u001b[39;49;00m\n\u001b[1;32m   7949\u001b[0m \u001b[43m        \u001b[49m\u001b[38;5;66;43;03m# \"BlockManager\"\u001b[39;49;00m\n\u001b[1;32m   7950\u001b[0m \u001b[43m        \u001b[49m\u001b[43mright\u001b[49m\u001b[38;5;241;43m.\u001b[39;49m\u001b[43m_mgr\u001b[49m\u001b[43m,\u001b[49m\u001b[43m  \u001b[49m\u001b[38;5;66;43;03m# type: ignore[arg-type]\u001b[39;49;00m\n\u001b[1;32m   7951\u001b[0m \u001b[43m        \u001b[49m\u001b[43marray_op\u001b[49m\u001b[43m,\u001b[49m\n\u001b[1;32m   7952\u001b[0m \u001b[43m    \u001b[49m\u001b[43m)\u001b[49m\n\u001b[1;32m   7953\u001b[0m     \u001b[38;5;28;01mreturn\u001b[39;00m \u001b[38;5;28mself\u001b[39m\u001b[38;5;241m.\u001b[39m_constructor_from_mgr(bm, axes\u001b[38;5;241m=\u001b[39mbm\u001b[38;5;241m.\u001b[39maxes)\n\u001b[1;32m   7955\u001b[0m \u001b[38;5;28;01melif\u001b[39;00m \u001b[38;5;28misinstance\u001b[39m(right, Series) \u001b[38;5;129;01mand\u001b[39;00m axis \u001b[38;5;241m==\u001b[39m \u001b[38;5;241m1\u001b[39m:\n\u001b[1;32m   7956\u001b[0m     \u001b[38;5;66;03m# axis=1 means we want to operate row-by-row\u001b[39;00m\n",
      "File \u001b[0;32m~/miniforge3/lib/python3.10/site-packages/pandas/core/internals/managers.py:1511\u001b[0m, in \u001b[0;36mBlockManager.operate_blockwise\u001b[0;34m(self, other, array_op)\u001b[0m\n\u001b[1;32m   1507\u001b[0m \u001b[38;5;28;01mdef\u001b[39;00m \u001b[38;5;21moperate_blockwise\u001b[39m(\u001b[38;5;28mself\u001b[39m, other: BlockManager, array_op) \u001b[38;5;241m-\u001b[39m\u001b[38;5;241m>\u001b[39m BlockManager:\n\u001b[1;32m   1508\u001b[0m \u001b[38;5;250m    \u001b[39m\u001b[38;5;124;03m\"\"\"\u001b[39;00m\n\u001b[1;32m   1509\u001b[0m \u001b[38;5;124;03m    Apply array_op blockwise with another (aligned) BlockManager.\u001b[39;00m\n\u001b[1;32m   1510\u001b[0m \u001b[38;5;124;03m    \"\"\"\u001b[39;00m\n\u001b[0;32m-> 1511\u001b[0m     \u001b[38;5;28;01mreturn\u001b[39;00m \u001b[43moperate_blockwise\u001b[49m\u001b[43m(\u001b[49m\u001b[38;5;28;43mself\u001b[39;49m\u001b[43m,\u001b[49m\u001b[43m \u001b[49m\u001b[43mother\u001b[49m\u001b[43m,\u001b[49m\u001b[43m \u001b[49m\u001b[43marray_op\u001b[49m\u001b[43m)\u001b[49m\n",
      "File \u001b[0;32m~/miniforge3/lib/python3.10/site-packages/pandas/core/internals/ops.py:65\u001b[0m, in \u001b[0;36moperate_blockwise\u001b[0;34m(left, right, array_op)\u001b[0m\n\u001b[1;32m     63\u001b[0m res_blks: \u001b[38;5;28mlist\u001b[39m[Block] \u001b[38;5;241m=\u001b[39m []\n\u001b[1;32m     64\u001b[0m \u001b[38;5;28;01mfor\u001b[39;00m lvals, rvals, locs, left_ea, right_ea, rblk \u001b[38;5;129;01min\u001b[39;00m _iter_block_pairs(left, right):\n\u001b[0;32m---> 65\u001b[0m     res_values \u001b[38;5;241m=\u001b[39m \u001b[43marray_op\u001b[49m\u001b[43m(\u001b[49m\u001b[43mlvals\u001b[49m\u001b[43m,\u001b[49m\u001b[43m \u001b[49m\u001b[43mrvals\u001b[49m\u001b[43m)\u001b[49m\n\u001b[1;32m     66\u001b[0m     \u001b[38;5;28;01mif\u001b[39;00m (\n\u001b[1;32m     67\u001b[0m         left_ea\n\u001b[1;32m     68\u001b[0m         \u001b[38;5;129;01mand\u001b[39;00m \u001b[38;5;129;01mnot\u001b[39;00m right_ea\n\u001b[1;32m     69\u001b[0m         \u001b[38;5;129;01mand\u001b[39;00m \u001b[38;5;28mhasattr\u001b[39m(res_values, \u001b[38;5;124m\"\u001b[39m\u001b[38;5;124mreshape\u001b[39m\u001b[38;5;124m\"\u001b[39m)\n\u001b[1;32m     70\u001b[0m         \u001b[38;5;129;01mand\u001b[39;00m \u001b[38;5;129;01mnot\u001b[39;00m is_1d_only_ea_dtype(res_values\u001b[38;5;241m.\u001b[39mdtype)\n\u001b[1;32m     71\u001b[0m     ):\n\u001b[1;32m     72\u001b[0m         res_values \u001b[38;5;241m=\u001b[39m res_values\u001b[38;5;241m.\u001b[39mreshape(\u001b[38;5;241m1\u001b[39m, \u001b[38;5;241m-\u001b[39m\u001b[38;5;241m1\u001b[39m)\n",
      "File \u001b[0;32m~/miniforge3/lib/python3.10/site-packages/pandas/core/ops/array_ops.py:283\u001b[0m, in \u001b[0;36marithmetic_op\u001b[0;34m(left, right, op)\u001b[0m\n\u001b[1;32m    279\u001b[0m     _bool_arith_check(op, left, right)  \u001b[38;5;66;03m# type: ignore[arg-type]\u001b[39;00m\n\u001b[1;32m    281\u001b[0m     \u001b[38;5;66;03m# error: Argument 1 to \"_na_arithmetic_op\" has incompatible type\u001b[39;00m\n\u001b[1;32m    282\u001b[0m     \u001b[38;5;66;03m# \"Union[ExtensionArray, ndarray[Any, Any]]\"; expected \"ndarray[Any, Any]\"\u001b[39;00m\n\u001b[0;32m--> 283\u001b[0m     res_values \u001b[38;5;241m=\u001b[39m \u001b[43m_na_arithmetic_op\u001b[49m\u001b[43m(\u001b[49m\u001b[43mleft\u001b[49m\u001b[43m,\u001b[49m\u001b[43m \u001b[49m\u001b[43mright\u001b[49m\u001b[43m,\u001b[49m\u001b[43m \u001b[49m\u001b[43mop\u001b[49m\u001b[43m)\u001b[49m  \u001b[38;5;66;03m# type: ignore[arg-type]\u001b[39;00m\n\u001b[1;32m    285\u001b[0m \u001b[38;5;28;01mreturn\u001b[39;00m res_values\n",
      "File \u001b[0;32m~/miniforge3/lib/python3.10/site-packages/pandas/core/ops/array_ops.py:218\u001b[0m, in \u001b[0;36m_na_arithmetic_op\u001b[0;34m(left, right, op, is_cmp)\u001b[0m\n\u001b[1;32m    215\u001b[0m     func \u001b[38;5;241m=\u001b[39m partial(expressions\u001b[38;5;241m.\u001b[39mevaluate, op)\n\u001b[1;32m    217\u001b[0m \u001b[38;5;28;01mtry\u001b[39;00m:\n\u001b[0;32m--> 218\u001b[0m     result \u001b[38;5;241m=\u001b[39m \u001b[43mfunc\u001b[49m\u001b[43m(\u001b[49m\u001b[43mleft\u001b[49m\u001b[43m,\u001b[49m\u001b[43m \u001b[49m\u001b[43mright\u001b[49m\u001b[43m)\u001b[49m\n\u001b[1;32m    219\u001b[0m \u001b[38;5;28;01mexcept\u001b[39;00m \u001b[38;5;167;01mTypeError\u001b[39;00m:\n\u001b[1;32m    220\u001b[0m     \u001b[38;5;28;01mif\u001b[39;00m \u001b[38;5;129;01mnot\u001b[39;00m is_cmp \u001b[38;5;129;01mand\u001b[39;00m (\n\u001b[1;32m    221\u001b[0m         left\u001b[38;5;241m.\u001b[39mdtype \u001b[38;5;241m==\u001b[39m \u001b[38;5;28mobject\u001b[39m \u001b[38;5;129;01mor\u001b[39;00m \u001b[38;5;28mgetattr\u001b[39m(right, \u001b[38;5;124m\"\u001b[39m\u001b[38;5;124mdtype\u001b[39m\u001b[38;5;124m\"\u001b[39m, \u001b[38;5;28;01mNone\u001b[39;00m) \u001b[38;5;241m==\u001b[39m \u001b[38;5;28mobject\u001b[39m\n\u001b[1;32m    222\u001b[0m     ):\n\u001b[0;32m   (...)\u001b[0m\n\u001b[1;32m    225\u001b[0m         \u001b[38;5;66;03m# Don't do this for comparisons, as that will handle complex numbers\u001b[39;00m\n\u001b[1;32m    226\u001b[0m         \u001b[38;5;66;03m#  incorrectly, see GH#32047\u001b[39;00m\n",
      "File \u001b[0;32m~/miniforge3/lib/python3.10/site-packages/pandas/core/computation/expressions.py:242\u001b[0m, in \u001b[0;36mevaluate\u001b[0;34m(op, a, b, use_numexpr)\u001b[0m\n\u001b[1;32m    239\u001b[0m \u001b[38;5;28;01mif\u001b[39;00m op_str \u001b[38;5;129;01mis\u001b[39;00m \u001b[38;5;129;01mnot\u001b[39;00m \u001b[38;5;28;01mNone\u001b[39;00m:\n\u001b[1;32m    240\u001b[0m     \u001b[38;5;28;01mif\u001b[39;00m use_numexpr:\n\u001b[1;32m    241\u001b[0m         \u001b[38;5;66;03m# error: \"None\" not callable\u001b[39;00m\n\u001b[0;32m--> 242\u001b[0m         \u001b[38;5;28;01mreturn\u001b[39;00m \u001b[43m_evaluate\u001b[49m\u001b[43m(\u001b[49m\u001b[43mop\u001b[49m\u001b[43m,\u001b[49m\u001b[43m \u001b[49m\u001b[43mop_str\u001b[49m\u001b[43m,\u001b[49m\u001b[43m \u001b[49m\u001b[43ma\u001b[49m\u001b[43m,\u001b[49m\u001b[43m \u001b[49m\u001b[43mb\u001b[49m\u001b[43m)\u001b[49m  \u001b[38;5;66;03m# type: ignore[misc]\u001b[39;00m\n\u001b[1;32m    243\u001b[0m \u001b[38;5;28;01mreturn\u001b[39;00m _evaluate_standard(op, op_str, a, b)\n",
      "File \u001b[0;32m~/miniforge3/lib/python3.10/site-packages/pandas/core/computation/expressions.py:73\u001b[0m, in \u001b[0;36m_evaluate_standard\u001b[0;34m(op, op_str, a, b)\u001b[0m\n\u001b[1;32m     71\u001b[0m \u001b[38;5;28;01mif\u001b[39;00m _TEST_MODE:\n\u001b[1;32m     72\u001b[0m     _store_test_result(\u001b[38;5;28;01mFalse\u001b[39;00m)\n\u001b[0;32m---> 73\u001b[0m \u001b[38;5;28;01mreturn\u001b[39;00m \u001b[43mop\u001b[49m\u001b[43m(\u001b[49m\u001b[43ma\u001b[49m\u001b[43m,\u001b[49m\u001b[43m \u001b[49m\u001b[43mb\u001b[49m\u001b[43m)\u001b[49m\n",
      "\u001b[0;31mZeroDivisionError\u001b[0m: float division by zero"
     ]
    }
   ],
   "source": [
    "nrm_more_data = nrm_genes(more_data)"
   ]
  },
  {
   "cell_type": "code",
   "execution_count": 46,
   "metadata": {},
   "outputs": [
    {
     "data": {
      "text/html": [
       "<div>\n",
       "<style scoped>\n",
       "    .dataframe tbody tr th:only-of-type {\n",
       "        vertical-align: middle;\n",
       "    }\n",
       "\n",
       "    .dataframe tbody tr th {\n",
       "        vertical-align: top;\n",
       "    }\n",
       "\n",
       "    .dataframe thead th {\n",
       "        text-align: right;\n",
       "    }\n",
       "</style>\n",
       "<table border=\"1\" class=\"dataframe\">\n",
       "  <thead>\n",
       "    <tr style=\"text-align: right;\">\n",
       "      <th>Symbol</th>\n",
       "      <th>Gm14820</th>\n",
       "      <th>Flicr</th>\n",
       "      <th>Gm13449</th>\n",
       "      <th>C79798</th>\n",
       "      <th>Nron</th>\n",
       "      <th>Gm13528</th>\n",
       "      <th>Gm13425</th>\n",
       "      <th>4930527E20Rik</th>\n",
       "      <th>Gm13402</th>\n",
       "      <th>AA645442</th>\n",
       "      <th>...</th>\n",
       "      <th>Il33</th>\n",
       "      <th>Pgam1-ps1</th>\n",
       "      <th>Gm22697</th>\n",
       "      <th>Gm10517</th>\n",
       "      <th>Vmn1r-ps84</th>\n",
       "      <th>Rpsa-ps3</th>\n",
       "      <th>Gm14634</th>\n",
       "      <th>Zkscan7</th>\n",
       "      <th>Agbl1</th>\n",
       "      <th>Gm8902</th>\n",
       "    </tr>\n",
       "  </thead>\n",
       "  <tbody>\n",
       "    <tr>\n",
       "      <th>count</th>\n",
       "      <td>1096.0</td>\n",
       "      <td>1096.0</td>\n",
       "      <td>1096.0</td>\n",
       "      <td>1096.0</td>\n",
       "      <td>1096.0</td>\n",
       "      <td>1096.0</td>\n",
       "      <td>1096.0</td>\n",
       "      <td>1096.0</td>\n",
       "      <td>1096.0</td>\n",
       "      <td>1096.0</td>\n",
       "      <td>...</td>\n",
       "      <td>1096.0</td>\n",
       "      <td>1096.0</td>\n",
       "      <td>1096.0</td>\n",
       "      <td>1096.0</td>\n",
       "      <td>1096.0</td>\n",
       "      <td>1096.0</td>\n",
       "      <td>1096.0</td>\n",
       "      <td>1096.0</td>\n",
       "      <td>1096.0</td>\n",
       "      <td>1096.0</td>\n",
       "    </tr>\n",
       "    <tr>\n",
       "      <th>unique</th>\n",
       "      <td>85.0</td>\n",
       "      <td>909.0</td>\n",
       "      <td>312.0</td>\n",
       "      <td>34.0</td>\n",
       "      <td>48.0</td>\n",
       "      <td>843.0</td>\n",
       "      <td>1.0</td>\n",
       "      <td>7.0</td>\n",
       "      <td>50.0</td>\n",
       "      <td>559.0</td>\n",
       "      <td>...</td>\n",
       "      <td>1090.0</td>\n",
       "      <td>302.0</td>\n",
       "      <td>1.0</td>\n",
       "      <td>194.0</td>\n",
       "      <td>4.0</td>\n",
       "      <td>102.0</td>\n",
       "      <td>731.0</td>\n",
       "      <td>1067.0</td>\n",
       "      <td>48.0</td>\n",
       "      <td>86.0</td>\n",
       "    </tr>\n",
       "    <tr>\n",
       "      <th>top</th>\n",
       "      <td>0.0</td>\n",
       "      <td>0.0</td>\n",
       "      <td>0.0</td>\n",
       "      <td>0.0</td>\n",
       "      <td>0.0</td>\n",
       "      <td>0.0</td>\n",
       "      <td>0.0</td>\n",
       "      <td>0.0</td>\n",
       "      <td>0.0</td>\n",
       "      <td>0.0</td>\n",
       "      <td>...</td>\n",
       "      <td>0.0</td>\n",
       "      <td>0.0</td>\n",
       "      <td>0.0</td>\n",
       "      <td>0.0</td>\n",
       "      <td>0.0</td>\n",
       "      <td>0.0</td>\n",
       "      <td>0.0</td>\n",
       "      <td>0.0</td>\n",
       "      <td>0.0</td>\n",
       "      <td>0.0</td>\n",
       "    </tr>\n",
       "    <tr>\n",
       "      <th>freq</th>\n",
       "      <td>1012.0</td>\n",
       "      <td>185.0</td>\n",
       "      <td>785.0</td>\n",
       "      <td>1063.0</td>\n",
       "      <td>1049.0</td>\n",
       "      <td>254.0</td>\n",
       "      <td>1096.0</td>\n",
       "      <td>1090.0</td>\n",
       "      <td>1047.0</td>\n",
       "      <td>538.0</td>\n",
       "      <td>...</td>\n",
       "      <td>6.0</td>\n",
       "      <td>795.0</td>\n",
       "      <td>1096.0</td>\n",
       "      <td>903.0</td>\n",
       "      <td>1093.0</td>\n",
       "      <td>995.0</td>\n",
       "      <td>366.0</td>\n",
       "      <td>29.0</td>\n",
       "      <td>1048.0</td>\n",
       "      <td>1011.0</td>\n",
       "    </tr>\n",
       "  </tbody>\n",
       "</table>\n",
       "<p>4 rows × 37042 columns</p>\n",
       "</div>"
      ],
      "text/plain": [
       "Symbol  Gm14820   Flicr  Gm13449  C79798    Nron  Gm13528  Gm13425  \\\n",
       "count    1096.0  1096.0   1096.0  1096.0  1096.0   1096.0   1096.0   \n",
       "unique     85.0   909.0    312.0    34.0    48.0    843.0      1.0   \n",
       "top         0.0     0.0      0.0     0.0     0.0      0.0      0.0   \n",
       "freq     1012.0   185.0    785.0  1063.0  1049.0    254.0   1096.0   \n",
       "\n",
       "Symbol  4930527E20Rik  Gm13402  AA645442  ...    Il33  Pgam1-ps1  Gm22697  \\\n",
       "count          1096.0   1096.0    1096.0  ...  1096.0     1096.0   1096.0   \n",
       "unique            7.0     50.0     559.0  ...  1090.0      302.0      1.0   \n",
       "top               0.0      0.0       0.0  ...     0.0        0.0      0.0   \n",
       "freq           1090.0   1047.0     538.0  ...     6.0      795.0   1096.0   \n",
       "\n",
       "Symbol  Gm10517  Vmn1r-ps84  Rpsa-ps3  Gm14634  Zkscan7   Agbl1  Gm8902  \n",
       "count    1096.0      1096.0    1096.0   1096.0   1096.0  1096.0  1096.0  \n",
       "unique    194.0         4.0     102.0    731.0   1067.0    48.0    86.0  \n",
       "top         0.0         0.0       0.0      0.0      0.0     0.0     0.0  \n",
       "freq      903.0      1093.0     995.0    366.0     29.0  1048.0  1011.0  \n",
       "\n",
       "[4 rows x 37042 columns]"
      ]
     },
     "execution_count": 46,
     "metadata": {},
     "output_type": "execute_result"
    }
   ],
   "source": [
    "more_data.describe()"
   ]
  },
  {
   "cell_type": "code",
   "execution_count": 47,
   "metadata": {},
   "outputs": [
    {
     "data": {
      "text/plain": [
       "(Symbol\n",
       " Gm14820     0.008756\n",
       " Flicr        0.07849\n",
       " Gm13449     0.110115\n",
       " C79798        0.0015\n",
       " Nron        0.000801\n",
       "               ...   \n",
       " Rpsa-ps3    0.011092\n",
       " Gm14634      0.05078\n",
       " Zkscan7      2.60745\n",
       " Agbl1       0.000553\n",
       " Gm8902       0.00481\n",
       " Length: 37042, dtype: object,\n",
       " Symbol\n",
       " Gm14820     0.149954\n",
       " Flicr       0.226813\n",
       " Gm13449     0.391779\n",
       " C79798      0.010976\n",
       " Nron        0.008165\n",
       "               ...   \n",
       " Rpsa-ps3    0.048557\n",
       " Gm14634     0.062474\n",
       " Zkscan7     1.398967\n",
       " Agbl1       0.005092\n",
       " Gm8902      0.036464\n",
       " Length: 37042, dtype: object)"
      ]
     },
     "execution_count": 47,
     "metadata": {},
     "output_type": "execute_result"
    }
   ],
   "source": [
    "more_data.mean(axis=0), more_data.std(axis=0)"
   ]
  },
  {
   "cell_type": "code",
   "execution_count": null,
   "metadata": {},
   "outputs": [],
   "source": [
    "more_data.mean(axis=0), more_data.std(axis=0)"
   ]
  },
  {
   "cell_type": "code",
   "execution_count": 33,
   "metadata": {},
   "outputs": [
    {
     "data": {
      "text/html": [
       "<div>\n",
       "<style scoped>\n",
       "    .dataframe tbody tr th:only-of-type {\n",
       "        vertical-align: middle;\n",
       "    }\n",
       "\n",
       "    .dataframe tbody tr th {\n",
       "        vertical-align: top;\n",
       "    }\n",
       "\n",
       "    .dataframe thead th {\n",
       "        text-align: right;\n",
       "    }\n",
       "</style>\n",
       "<table border=\"1\" class=\"dataframe\">\n",
       "  <thead>\n",
       "    <tr style=\"text-align: right;\">\n",
       "      <th>Symbol</th>\n",
       "      <th>Gm14820</th>\n",
       "      <th>Flicr</th>\n",
       "      <th>Gm13449</th>\n",
       "      <th>C79798</th>\n",
       "      <th>Nron</th>\n",
       "      <th>Gm13528</th>\n",
       "      <th>Gm13425</th>\n",
       "      <th>4930527E20Rik</th>\n",
       "      <th>Gm13402</th>\n",
       "      <th>AA645442</th>\n",
       "      <th>...</th>\n",
       "      <th>Pgam1-ps1</th>\n",
       "      <th>Gm22697</th>\n",
       "      <th>Gm10517</th>\n",
       "      <th>Vmn1r-ps84</th>\n",
       "      <th>Rpsa-ps3</th>\n",
       "      <th>Gm14634</th>\n",
       "      <th>Zkscan7</th>\n",
       "      <th>Agbl1</th>\n",
       "      <th>Gm8902</th>\n",
       "      <th>code</th>\n",
       "    </tr>\n",
       "  </thead>\n",
       "  <tbody>\n",
       "    <tr>\n",
       "      <th>GSM2046160</th>\n",
       "      <td>0.047856</td>\n",
       "      <td>0.043026</td>\n",
       "      <td>0.013747</td>\n",
       "      <td>0.0</td>\n",
       "      <td>0.017114</td>\n",
       "      <td>0.184585</td>\n",
       "      <td>0.0</td>\n",
       "      <td>0.0</td>\n",
       "      <td>0.0</td>\n",
       "      <td>0.0</td>\n",
       "      <td>...</td>\n",
       "      <td>0.04335</td>\n",
       "      <td>0.0</td>\n",
       "      <td>0.0</td>\n",
       "      <td>0.0</td>\n",
       "      <td>0.0</td>\n",
       "      <td>0.029685</td>\n",
       "      <td>2.69082</td>\n",
       "      <td>0.0</td>\n",
       "      <td>0.0</td>\n",
       "      <td>22.0</td>\n",
       "    </tr>\n",
       "    <tr>\n",
       "      <th>GSM2046184</th>\n",
       "      <td>0.0</td>\n",
       "      <td>0.017274</td>\n",
       "      <td>0.012649</td>\n",
       "      <td>0.0</td>\n",
       "      <td>0.0</td>\n",
       "      <td>0.225739</td>\n",
       "      <td>0.0</td>\n",
       "      <td>0.0</td>\n",
       "      <td>0.0</td>\n",
       "      <td>0.084449</td>\n",
       "      <td>...</td>\n",
       "      <td>0.038878</td>\n",
       "      <td>0.0</td>\n",
       "      <td>0.0</td>\n",
       "      <td>0.0</td>\n",
       "      <td>0.017092</td>\n",
       "      <td>0.031688</td>\n",
       "      <td>2.20585</td>\n",
       "      <td>0.0</td>\n",
       "      <td>0.0</td>\n",
       "      <td>22.0</td>\n",
       "    </tr>\n",
       "    <tr>\n",
       "      <th>GSM2046157</th>\n",
       "      <td>0.011696</td>\n",
       "      <td>0.012144</td>\n",
       "      <td>0.029259</td>\n",
       "      <td>0.0</td>\n",
       "      <td>0.0</td>\n",
       "      <td>0.246204</td>\n",
       "      <td>0.0</td>\n",
       "      <td>0.0</td>\n",
       "      <td>0.0</td>\n",
       "      <td>0.0</td>\n",
       "      <td>...</td>\n",
       "      <td>0.045233</td>\n",
       "      <td>0.0</td>\n",
       "      <td>0.1197</td>\n",
       "      <td>0.0</td>\n",
       "      <td>0.0</td>\n",
       "      <td>0.0</td>\n",
       "      <td>2.56285</td>\n",
       "      <td>0.0</td>\n",
       "      <td>0.015267</td>\n",
       "      <td>10.0</td>\n",
       "    </tr>\n",
       "    <tr>\n",
       "      <th>GSM2046183</th>\n",
       "      <td>0.038796</td>\n",
       "      <td>0.035352</td>\n",
       "      <td>0.012449</td>\n",
       "      <td>0.0</td>\n",
       "      <td>0.0</td>\n",
       "      <td>0.207048</td>\n",
       "      <td>0.0</td>\n",
       "      <td>0.0</td>\n",
       "      <td>0.0</td>\n",
       "      <td>0.0</td>\n",
       "      <td>...</td>\n",
       "      <td>0.017379</td>\n",
       "      <td>0.0</td>\n",
       "      <td>0.170666</td>\n",
       "      <td>0.0</td>\n",
       "      <td>0.0</td>\n",
       "      <td>0.009918</td>\n",
       "      <td>2.47665</td>\n",
       "      <td>0.0</td>\n",
       "      <td>0.0</td>\n",
       "      <td>18.0</td>\n",
       "    </tr>\n",
       "    <tr>\n",
       "      <th>GSM2046155</th>\n",
       "      <td>0.0</td>\n",
       "      <td>0.025837</td>\n",
       "      <td>0.080033</td>\n",
       "      <td>0.0</td>\n",
       "      <td>0.0</td>\n",
       "      <td>0.157396</td>\n",
       "      <td>0.0</td>\n",
       "      <td>0.0</td>\n",
       "      <td>0.0</td>\n",
       "      <td>0.619891</td>\n",
       "      <td>...</td>\n",
       "      <td>0.088547</td>\n",
       "      <td>0.0</td>\n",
       "      <td>0.134558</td>\n",
       "      <td>0.0</td>\n",
       "      <td>0.0</td>\n",
       "      <td>0.007446</td>\n",
       "      <td>2.71046</td>\n",
       "      <td>0.0</td>\n",
       "      <td>0.011883</td>\n",
       "      <td>2.0</td>\n",
       "    </tr>\n",
       "    <tr>\n",
       "      <th>...</th>\n",
       "      <td>...</td>\n",
       "      <td>...</td>\n",
       "      <td>...</td>\n",
       "      <td>...</td>\n",
       "      <td>...</td>\n",
       "      <td>...</td>\n",
       "      <td>...</td>\n",
       "      <td>...</td>\n",
       "      <td>...</td>\n",
       "      <td>...</td>\n",
       "      <td>...</td>\n",
       "      <td>...</td>\n",
       "      <td>...</td>\n",
       "      <td>...</td>\n",
       "      <td>...</td>\n",
       "      <td>...</td>\n",
       "      <td>...</td>\n",
       "      <td>...</td>\n",
       "      <td>...</td>\n",
       "      <td>...</td>\n",
       "      <td>...</td>\n",
       "    </tr>\n",
       "    <tr>\n",
       "      <th>GSM6610738</th>\n",
       "      <td>0.0</td>\n",
       "      <td>0.035516</td>\n",
       "      <td>0.215311</td>\n",
       "      <td>0.0</td>\n",
       "      <td>0.0</td>\n",
       "      <td>0.0</td>\n",
       "      <td>0.0</td>\n",
       "      <td>0.0</td>\n",
       "      <td>0.130749</td>\n",
       "      <td>0.316231</td>\n",
       "      <td>...</td>\n",
       "      <td>0.3189</td>\n",
       "      <td>0.0</td>\n",
       "      <td>0.0</td>\n",
       "      <td>0.0</td>\n",
       "      <td>0.0</td>\n",
       "      <td>0.023322</td>\n",
       "      <td>1.85593</td>\n",
       "      <td>0.0</td>\n",
       "      <td>0.0</td>\n",
       "      <td>13.5</td>\n",
       "    </tr>\n",
       "    <tr>\n",
       "      <th>GSM6610724</th>\n",
       "      <td>0.0</td>\n",
       "      <td>0.078964</td>\n",
       "      <td>0.200141</td>\n",
       "      <td>0.0</td>\n",
       "      <td>0.0</td>\n",
       "      <td>0.806385</td>\n",
       "      <td>0.0</td>\n",
       "      <td>0.0</td>\n",
       "      <td>0.0</td>\n",
       "      <td>0.0</td>\n",
       "      <td>...</td>\n",
       "      <td>0.165695</td>\n",
       "      <td>0.0</td>\n",
       "      <td>0.110278</td>\n",
       "      <td>0.0</td>\n",
       "      <td>0.0</td>\n",
       "      <td>0.070138</td>\n",
       "      <td>1.70914</td>\n",
       "      <td>0.0</td>\n",
       "      <td>0.0</td>\n",
       "      <td>7.5</td>\n",
       "    </tr>\n",
       "    <tr>\n",
       "      <th>GSM6610752</th>\n",
       "      <td>0.0</td>\n",
       "      <td>0.043414</td>\n",
       "      <td>0.228735</td>\n",
       "      <td>0.0</td>\n",
       "      <td>0.0</td>\n",
       "      <td>0.447329</td>\n",
       "      <td>0.0</td>\n",
       "      <td>0.0</td>\n",
       "      <td>0.0</td>\n",
       "      <td>0.405717</td>\n",
       "      <td>...</td>\n",
       "      <td>0.265712</td>\n",
       "      <td>0.0</td>\n",
       "      <td>0.0</td>\n",
       "      <td>0.0</td>\n",
       "      <td>0.0</td>\n",
       "      <td>0.054193</td>\n",
       "      <td>2.7101</td>\n",
       "      <td>0.0</td>\n",
       "      <td>0.0</td>\n",
       "      <td>19.5</td>\n",
       "    </tr>\n",
       "    <tr>\n",
       "      <th>GSM6610726</th>\n",
       "      <td>0.016459</td>\n",
       "      <td>0.043835</td>\n",
       "      <td>0.284069</td>\n",
       "      <td>0.028452</td>\n",
       "      <td>0.0</td>\n",
       "      <td>1.18465</td>\n",
       "      <td>0.0</td>\n",
       "      <td>0.0</td>\n",
       "      <td>0.0</td>\n",
       "      <td>0.829571</td>\n",
       "      <td>...</td>\n",
       "      <td>0.034111</td>\n",
       "      <td>0.0</td>\n",
       "      <td>0.276602</td>\n",
       "      <td>0.0</td>\n",
       "      <td>0.0</td>\n",
       "      <td>0.047538</td>\n",
       "      <td>1.66776</td>\n",
       "      <td>0.0</td>\n",
       "      <td>0.0</td>\n",
       "      <td>7.5</td>\n",
       "    </tr>\n",
       "    <tr>\n",
       "      <th>GSM6610740</th>\n",
       "      <td>0.0</td>\n",
       "      <td>0.048446</td>\n",
       "      <td>0.234701</td>\n",
       "      <td>0.0</td>\n",
       "      <td>0.0</td>\n",
       "      <td>0.203605</td>\n",
       "      <td>0.0</td>\n",
       "      <td>0.0</td>\n",
       "      <td>0.0</td>\n",
       "      <td>0.0</td>\n",
       "      <td>...</td>\n",
       "      <td>0.236707</td>\n",
       "      <td>0.0</td>\n",
       "      <td>0.098693</td>\n",
       "      <td>0.0</td>\n",
       "      <td>0.0</td>\n",
       "      <td>0.018135</td>\n",
       "      <td>2.69755</td>\n",
       "      <td>0.0</td>\n",
       "      <td>0.0</td>\n",
       "      <td>13.5</td>\n",
       "    </tr>\n",
       "  </tbody>\n",
       "</table>\n",
       "<p>1096 rows × 37043 columns</p>\n",
       "</div>"
      ],
      "text/plain": [
       "Symbol       Gm14820     Flicr   Gm13449    C79798      Nron   Gm13528  \\\n",
       "GSM2046160  0.047856  0.043026  0.013747       0.0  0.017114  0.184585   \n",
       "GSM2046184       0.0  0.017274  0.012649       0.0       0.0  0.225739   \n",
       "GSM2046157  0.011696  0.012144  0.029259       0.0       0.0  0.246204   \n",
       "GSM2046183  0.038796  0.035352  0.012449       0.0       0.0  0.207048   \n",
       "GSM2046155       0.0  0.025837  0.080033       0.0       0.0  0.157396   \n",
       "...              ...       ...       ...       ...       ...       ...   \n",
       "GSM6610738       0.0  0.035516  0.215311       0.0       0.0       0.0   \n",
       "GSM6610724       0.0  0.078964  0.200141       0.0       0.0  0.806385   \n",
       "GSM6610752       0.0  0.043414  0.228735       0.0       0.0  0.447329   \n",
       "GSM6610726  0.016459  0.043835  0.284069  0.028452       0.0   1.18465   \n",
       "GSM6610740       0.0  0.048446  0.234701       0.0       0.0  0.203605   \n",
       "\n",
       "Symbol     Gm13425 4930527E20Rik   Gm13402  AA645442  ... Pgam1-ps1 Gm22697  \\\n",
       "GSM2046160     0.0           0.0       0.0       0.0  ...   0.04335     0.0   \n",
       "GSM2046184     0.0           0.0       0.0  0.084449  ...  0.038878     0.0   \n",
       "GSM2046157     0.0           0.0       0.0       0.0  ...  0.045233     0.0   \n",
       "GSM2046183     0.0           0.0       0.0       0.0  ...  0.017379     0.0   \n",
       "GSM2046155     0.0           0.0       0.0  0.619891  ...  0.088547     0.0   \n",
       "...            ...           ...       ...       ...  ...       ...     ...   \n",
       "GSM6610738     0.0           0.0  0.130749  0.316231  ...    0.3189     0.0   \n",
       "GSM6610724     0.0           0.0       0.0       0.0  ...  0.165695     0.0   \n",
       "GSM6610752     0.0           0.0       0.0  0.405717  ...  0.265712     0.0   \n",
       "GSM6610726     0.0           0.0       0.0  0.829571  ...  0.034111     0.0   \n",
       "GSM6610740     0.0           0.0       0.0       0.0  ...  0.236707     0.0   \n",
       "\n",
       "Symbol       Gm10517 Vmn1r-ps84  Rpsa-ps3   Gm14634  Zkscan7 Agbl1    Gm8902  \\\n",
       "GSM2046160       0.0        0.0       0.0  0.029685  2.69082   0.0       0.0   \n",
       "GSM2046184       0.0        0.0  0.017092  0.031688  2.20585   0.0       0.0   \n",
       "GSM2046157    0.1197        0.0       0.0       0.0  2.56285   0.0  0.015267   \n",
       "GSM2046183  0.170666        0.0       0.0  0.009918  2.47665   0.0       0.0   \n",
       "GSM2046155  0.134558        0.0       0.0  0.007446  2.71046   0.0  0.011883   \n",
       "...              ...        ...       ...       ...      ...   ...       ...   \n",
       "GSM6610738       0.0        0.0       0.0  0.023322  1.85593   0.0       0.0   \n",
       "GSM6610724  0.110278        0.0       0.0  0.070138  1.70914   0.0       0.0   \n",
       "GSM6610752       0.0        0.0       0.0  0.054193   2.7101   0.0       0.0   \n",
       "GSM6610726  0.276602        0.0       0.0  0.047538  1.66776   0.0       0.0   \n",
       "GSM6610740  0.098693        0.0       0.0  0.018135  2.69755   0.0       0.0   \n",
       "\n",
       "Symbol      code  \n",
       "GSM2046160  22.0  \n",
       "GSM2046184  22.0  \n",
       "GSM2046157  10.0  \n",
       "GSM2046183  18.0  \n",
       "GSM2046155   2.0  \n",
       "...          ...  \n",
       "GSM6610738  13.5  \n",
       "GSM6610724   7.5  \n",
       "GSM6610752  19.5  \n",
       "GSM6610726   7.5  \n",
       "GSM6610740  13.5  \n",
       "\n",
       "[1096 rows x 37043 columns]"
      ]
     },
     "execution_count": 33,
     "metadata": {},
     "output_type": "execute_result"
    }
   ],
   "source": [
    "meta_data = pd.read_csv(path/'sample_metadata.txt', sep='\\t', index_col='sample', low_memory=False)\n",
    "more_data['code'] = meta_data['time']\n",
    "more_data"
   ]
  },
  {
   "cell_type": "markdown",
   "metadata": {},
   "source": [
    "In `more_data`, there are duplicate genes, such as '4930594M22Rik'."
   ]
  },
  {
   "cell_type": "code",
   "execution_count": 34,
   "metadata": {},
   "outputs": [],
   "source": [
    "more_data = more_data.loc[:, ~more_data.columns.duplicated(keep='first')]"
   ]
  },
  {
   "cell_type": "code",
   "execution_count": 35,
   "metadata": {},
   "outputs": [
    {
     "data": {
      "text/plain": [
       "0"
      ]
     },
     "execution_count": 35,
     "metadata": {},
     "output_type": "execute_result"
    }
   ],
   "source": [
    "more_data.columns.duplicated().sum()"
   ]
  },
  {
   "cell_type": "code",
   "execution_count": 36,
   "metadata": {},
   "outputs": [
    {
     "ename": "ZeroDivisionError",
     "evalue": "float division by zero",
     "output_type": "error",
     "traceback": [
      "\u001b[0;31m---------------------------------------------------------------------------\u001b[0m",
      "\u001b[0;31mZeroDivisionError\u001b[0m                         Traceback (most recent call last)",
      "Cell \u001b[0;32mIn[36], line 1\u001b[0m\n\u001b[0;32m----> 1\u001b[0m more_data \u001b[38;5;241m=\u001b[39m \u001b[43mnrm_genes\u001b[49m\u001b[43m(\u001b[49m\u001b[43mmore_data\u001b[49m\u001b[43m)\u001b[49m\n\u001b[1;32m      2\u001b[0m more_data\n",
      "Cell \u001b[0;32mIn[17], line 4\u001b[0m, in \u001b[0;36mnrm_genes\u001b[0;34m(df)\u001b[0m\n\u001b[1;32m      2\u001b[0m \u001b[38;5;250m\u001b[39m\u001b[38;5;124;03m\"\"\"Assuming genes on cols cells on rows.\"\"\"\u001b[39;00m\n\u001b[1;32m      3\u001b[0m cell_divided \u001b[38;5;241m=\u001b[39m df\u001b[38;5;241m.\u001b[39mdiv(df\u001b[38;5;241m.\u001b[39msum(axis\u001b[38;5;241m=\u001b[39m\u001b[38;5;241m1\u001b[39m), axis\u001b[38;5;241m=\u001b[39m\u001b[38;5;241m0\u001b[39m)\n\u001b[0;32m----> 4\u001b[0m \u001b[38;5;28;01mreturn\u001b[39;00m \u001b[43m(\u001b[49m\u001b[43mcell_divided\u001b[49m\u001b[43m \u001b[49m\u001b[38;5;241;43m-\u001b[39;49m\u001b[43m \u001b[49m\u001b[43mcell_divided\u001b[49m\u001b[38;5;241;43m.\u001b[39;49m\u001b[43mmean\u001b[49m\u001b[43m(\u001b[49m\u001b[43maxis\u001b[49m\u001b[38;5;241;43m=\u001b[39;49m\u001b[38;5;241;43m0\u001b[39;49m\u001b[43m)\u001b[49m\u001b[43m)\u001b[49m\u001b[43m \u001b[49m\u001b[38;5;241;43m/\u001b[39;49m\u001b[43m \u001b[49m\u001b[43mcell_divided\u001b[49m\u001b[38;5;241;43m.\u001b[39;49m\u001b[43mstd\u001b[49m\u001b[43m(\u001b[49m\u001b[43maxis\u001b[49m\u001b[38;5;241;43m=\u001b[39;49m\u001b[38;5;241;43m0\u001b[39;49m\u001b[43m)\u001b[49m\n",
      "File \u001b[0;32m~/miniforge3/lib/python3.10/site-packages/pandas/core/ops/common.py:76\u001b[0m, in \u001b[0;36m_unpack_zerodim_and_defer.<locals>.new_method\u001b[0;34m(self, other)\u001b[0m\n\u001b[1;32m     72\u001b[0m             \u001b[38;5;28;01mreturn\u001b[39;00m \u001b[38;5;28mNotImplemented\u001b[39m\n\u001b[1;32m     74\u001b[0m other \u001b[38;5;241m=\u001b[39m item_from_zerodim(other)\n\u001b[0;32m---> 76\u001b[0m \u001b[38;5;28;01mreturn\u001b[39;00m \u001b[43mmethod\u001b[49m\u001b[43m(\u001b[49m\u001b[38;5;28;43mself\u001b[39;49m\u001b[43m,\u001b[49m\u001b[43m \u001b[49m\u001b[43mother\u001b[49m\u001b[43m)\u001b[49m\n",
      "File \u001b[0;32m~/miniforge3/lib/python3.10/site-packages/pandas/core/arraylike.py:210\u001b[0m, in \u001b[0;36mOpsMixin.__truediv__\u001b[0;34m(self, other)\u001b[0m\n\u001b[1;32m    208\u001b[0m \u001b[38;5;129m@unpack_zerodim_and_defer\u001b[39m(\u001b[38;5;124m\"\u001b[39m\u001b[38;5;124m__truediv__\u001b[39m\u001b[38;5;124m\"\u001b[39m)\n\u001b[1;32m    209\u001b[0m \u001b[38;5;28;01mdef\u001b[39;00m \u001b[38;5;21m__truediv__\u001b[39m(\u001b[38;5;28mself\u001b[39m, other):\n\u001b[0;32m--> 210\u001b[0m     \u001b[38;5;28;01mreturn\u001b[39;00m \u001b[38;5;28;43mself\u001b[39;49m\u001b[38;5;241;43m.\u001b[39;49m\u001b[43m_arith_method\u001b[49m\u001b[43m(\u001b[49m\u001b[43mother\u001b[49m\u001b[43m,\u001b[49m\u001b[43m \u001b[49m\u001b[43moperator\u001b[49m\u001b[38;5;241;43m.\u001b[39;49m\u001b[43mtruediv\u001b[49m\u001b[43m)\u001b[49m\n",
      "File \u001b[0;32m~/miniforge3/lib/python3.10/site-packages/pandas/core/frame.py:7900\u001b[0m, in \u001b[0;36mDataFrame._arith_method\u001b[0;34m(self, other, op)\u001b[0m\n\u001b[1;32m   7897\u001b[0m \u001b[38;5;28mself\u001b[39m, other \u001b[38;5;241m=\u001b[39m \u001b[38;5;28mself\u001b[39m\u001b[38;5;241m.\u001b[39m_align_for_op(other, axis, flex\u001b[38;5;241m=\u001b[39m\u001b[38;5;28;01mTrue\u001b[39;00m, level\u001b[38;5;241m=\u001b[39m\u001b[38;5;28;01mNone\u001b[39;00m)\n\u001b[1;32m   7899\u001b[0m \u001b[38;5;28;01mwith\u001b[39;00m np\u001b[38;5;241m.\u001b[39merrstate(\u001b[38;5;28mall\u001b[39m\u001b[38;5;241m=\u001b[39m\u001b[38;5;124m\"\u001b[39m\u001b[38;5;124mignore\u001b[39m\u001b[38;5;124m\"\u001b[39m):\n\u001b[0;32m-> 7900\u001b[0m     new_data \u001b[38;5;241m=\u001b[39m \u001b[38;5;28;43mself\u001b[39;49m\u001b[38;5;241;43m.\u001b[39;49m\u001b[43m_dispatch_frame_op\u001b[49m\u001b[43m(\u001b[49m\u001b[43mother\u001b[49m\u001b[43m,\u001b[49m\u001b[43m \u001b[49m\u001b[43mop\u001b[49m\u001b[43m,\u001b[49m\u001b[43m \u001b[49m\u001b[43maxis\u001b[49m\u001b[38;5;241;43m=\u001b[39;49m\u001b[43maxis\u001b[49m\u001b[43m)\u001b[49m\n\u001b[1;32m   7901\u001b[0m \u001b[38;5;28;01mreturn\u001b[39;00m \u001b[38;5;28mself\u001b[39m\u001b[38;5;241m.\u001b[39m_construct_result(new_data)\n",
      "File \u001b[0;32m~/miniforge3/lib/python3.10/site-packages/pandas/core/frame.py:7943\u001b[0m, in \u001b[0;36mDataFrame._dispatch_frame_op\u001b[0;34m(self, right, func, axis)\u001b[0m\n\u001b[1;32m   7937\u001b[0m     \u001b[38;5;28;01massert\u001b[39;00m \u001b[38;5;28mself\u001b[39m\u001b[38;5;241m.\u001b[39mcolumns\u001b[38;5;241m.\u001b[39mequals(right\u001b[38;5;241m.\u001b[39mcolumns)\n\u001b[1;32m   7938\u001b[0m     \u001b[38;5;66;03m# TODO: The previous assertion `assert right._indexed_same(self)`\u001b[39;00m\n\u001b[1;32m   7939\u001b[0m     \u001b[38;5;66;03m#  fails in cases with empty columns reached via\u001b[39;00m\n\u001b[1;32m   7940\u001b[0m     \u001b[38;5;66;03m#  _frame_arith_method_with_reindex\u001b[39;00m\n\u001b[1;32m   7941\u001b[0m \n\u001b[1;32m   7942\u001b[0m     \u001b[38;5;66;03m# TODO operate_blockwise expects a manager of the same type\u001b[39;00m\n\u001b[0;32m-> 7943\u001b[0m     bm \u001b[38;5;241m=\u001b[39m \u001b[38;5;28;43mself\u001b[39;49m\u001b[38;5;241;43m.\u001b[39;49m\u001b[43m_mgr\u001b[49m\u001b[38;5;241;43m.\u001b[39;49m\u001b[43moperate_blockwise\u001b[49m\u001b[43m(\u001b[49m\n\u001b[1;32m   7944\u001b[0m \u001b[43m        \u001b[49m\u001b[38;5;66;43;03m# error: Argument 1 to \"operate_blockwise\" of \"ArrayManager\" has\u001b[39;49;00m\n\u001b[1;32m   7945\u001b[0m \u001b[43m        \u001b[49m\u001b[38;5;66;43;03m# incompatible type \"Union[ArrayManager, BlockManager]\"; expected\u001b[39;49;00m\n\u001b[1;32m   7946\u001b[0m \u001b[43m        \u001b[49m\u001b[38;5;66;43;03m# \"ArrayManager\"\u001b[39;49;00m\n\u001b[1;32m   7947\u001b[0m \u001b[43m        \u001b[49m\u001b[38;5;66;43;03m# error: Argument 1 to \"operate_blockwise\" of \"BlockManager\" has\u001b[39;49;00m\n\u001b[1;32m   7948\u001b[0m \u001b[43m        \u001b[49m\u001b[38;5;66;43;03m# incompatible type \"Union[ArrayManager, BlockManager]\"; expected\u001b[39;49;00m\n\u001b[1;32m   7949\u001b[0m \u001b[43m        \u001b[49m\u001b[38;5;66;43;03m# \"BlockManager\"\u001b[39;49;00m\n\u001b[1;32m   7950\u001b[0m \u001b[43m        \u001b[49m\u001b[43mright\u001b[49m\u001b[38;5;241;43m.\u001b[39;49m\u001b[43m_mgr\u001b[49m\u001b[43m,\u001b[49m\u001b[43m  \u001b[49m\u001b[38;5;66;43;03m# type: ignore[arg-type]\u001b[39;49;00m\n\u001b[1;32m   7951\u001b[0m \u001b[43m        \u001b[49m\u001b[43marray_op\u001b[49m\u001b[43m,\u001b[49m\n\u001b[1;32m   7952\u001b[0m \u001b[43m    \u001b[49m\u001b[43m)\u001b[49m\n\u001b[1;32m   7953\u001b[0m     \u001b[38;5;28;01mreturn\u001b[39;00m \u001b[38;5;28mself\u001b[39m\u001b[38;5;241m.\u001b[39m_constructor_from_mgr(bm, axes\u001b[38;5;241m=\u001b[39mbm\u001b[38;5;241m.\u001b[39maxes)\n\u001b[1;32m   7955\u001b[0m \u001b[38;5;28;01melif\u001b[39;00m \u001b[38;5;28misinstance\u001b[39m(right, Series) \u001b[38;5;129;01mand\u001b[39;00m axis \u001b[38;5;241m==\u001b[39m \u001b[38;5;241m1\u001b[39m:\n\u001b[1;32m   7956\u001b[0m     \u001b[38;5;66;03m# axis=1 means we want to operate row-by-row\u001b[39;00m\n",
      "File \u001b[0;32m~/miniforge3/lib/python3.10/site-packages/pandas/core/internals/managers.py:1511\u001b[0m, in \u001b[0;36mBlockManager.operate_blockwise\u001b[0;34m(self, other, array_op)\u001b[0m\n\u001b[1;32m   1507\u001b[0m \u001b[38;5;28;01mdef\u001b[39;00m \u001b[38;5;21moperate_blockwise\u001b[39m(\u001b[38;5;28mself\u001b[39m, other: BlockManager, array_op) \u001b[38;5;241m-\u001b[39m\u001b[38;5;241m>\u001b[39m BlockManager:\n\u001b[1;32m   1508\u001b[0m \u001b[38;5;250m    \u001b[39m\u001b[38;5;124;03m\"\"\"\u001b[39;00m\n\u001b[1;32m   1509\u001b[0m \u001b[38;5;124;03m    Apply array_op blockwise with another (aligned) BlockManager.\u001b[39;00m\n\u001b[1;32m   1510\u001b[0m \u001b[38;5;124;03m    \"\"\"\u001b[39;00m\n\u001b[0;32m-> 1511\u001b[0m     \u001b[38;5;28;01mreturn\u001b[39;00m \u001b[43moperate_blockwise\u001b[49m\u001b[43m(\u001b[49m\u001b[38;5;28;43mself\u001b[39;49m\u001b[43m,\u001b[49m\u001b[43m \u001b[49m\u001b[43mother\u001b[49m\u001b[43m,\u001b[49m\u001b[43m \u001b[49m\u001b[43marray_op\u001b[49m\u001b[43m)\u001b[49m\n",
      "File \u001b[0;32m~/miniforge3/lib/python3.10/site-packages/pandas/core/internals/ops.py:65\u001b[0m, in \u001b[0;36moperate_blockwise\u001b[0;34m(left, right, array_op)\u001b[0m\n\u001b[1;32m     63\u001b[0m res_blks: \u001b[38;5;28mlist\u001b[39m[Block] \u001b[38;5;241m=\u001b[39m []\n\u001b[1;32m     64\u001b[0m \u001b[38;5;28;01mfor\u001b[39;00m lvals, rvals, locs, left_ea, right_ea, rblk \u001b[38;5;129;01min\u001b[39;00m _iter_block_pairs(left, right):\n\u001b[0;32m---> 65\u001b[0m     res_values \u001b[38;5;241m=\u001b[39m \u001b[43marray_op\u001b[49m\u001b[43m(\u001b[49m\u001b[43mlvals\u001b[49m\u001b[43m,\u001b[49m\u001b[43m \u001b[49m\u001b[43mrvals\u001b[49m\u001b[43m)\u001b[49m\n\u001b[1;32m     66\u001b[0m     \u001b[38;5;28;01mif\u001b[39;00m (\n\u001b[1;32m     67\u001b[0m         left_ea\n\u001b[1;32m     68\u001b[0m         \u001b[38;5;129;01mand\u001b[39;00m \u001b[38;5;129;01mnot\u001b[39;00m right_ea\n\u001b[1;32m     69\u001b[0m         \u001b[38;5;129;01mand\u001b[39;00m \u001b[38;5;28mhasattr\u001b[39m(res_values, \u001b[38;5;124m\"\u001b[39m\u001b[38;5;124mreshape\u001b[39m\u001b[38;5;124m\"\u001b[39m)\n\u001b[1;32m     70\u001b[0m         \u001b[38;5;129;01mand\u001b[39;00m \u001b[38;5;129;01mnot\u001b[39;00m is_1d_only_ea_dtype(res_values\u001b[38;5;241m.\u001b[39mdtype)\n\u001b[1;32m     71\u001b[0m     ):\n\u001b[1;32m     72\u001b[0m         res_values \u001b[38;5;241m=\u001b[39m res_values\u001b[38;5;241m.\u001b[39mreshape(\u001b[38;5;241m1\u001b[39m, \u001b[38;5;241m-\u001b[39m\u001b[38;5;241m1\u001b[39m)\n",
      "File \u001b[0;32m~/miniforge3/lib/python3.10/site-packages/pandas/core/ops/array_ops.py:283\u001b[0m, in \u001b[0;36marithmetic_op\u001b[0;34m(left, right, op)\u001b[0m\n\u001b[1;32m    279\u001b[0m     _bool_arith_check(op, left, right)  \u001b[38;5;66;03m# type: ignore[arg-type]\u001b[39;00m\n\u001b[1;32m    281\u001b[0m     \u001b[38;5;66;03m# error: Argument 1 to \"_na_arithmetic_op\" has incompatible type\u001b[39;00m\n\u001b[1;32m    282\u001b[0m     \u001b[38;5;66;03m# \"Union[ExtensionArray, ndarray[Any, Any]]\"; expected \"ndarray[Any, Any]\"\u001b[39;00m\n\u001b[0;32m--> 283\u001b[0m     res_values \u001b[38;5;241m=\u001b[39m \u001b[43m_na_arithmetic_op\u001b[49m\u001b[43m(\u001b[49m\u001b[43mleft\u001b[49m\u001b[43m,\u001b[49m\u001b[43m \u001b[49m\u001b[43mright\u001b[49m\u001b[43m,\u001b[49m\u001b[43m \u001b[49m\u001b[43mop\u001b[49m\u001b[43m)\u001b[49m  \u001b[38;5;66;03m# type: ignore[arg-type]\u001b[39;00m\n\u001b[1;32m    285\u001b[0m \u001b[38;5;28;01mreturn\u001b[39;00m res_values\n",
      "File \u001b[0;32m~/miniforge3/lib/python3.10/site-packages/pandas/core/ops/array_ops.py:218\u001b[0m, in \u001b[0;36m_na_arithmetic_op\u001b[0;34m(left, right, op, is_cmp)\u001b[0m\n\u001b[1;32m    215\u001b[0m     func \u001b[38;5;241m=\u001b[39m partial(expressions\u001b[38;5;241m.\u001b[39mevaluate, op)\n\u001b[1;32m    217\u001b[0m \u001b[38;5;28;01mtry\u001b[39;00m:\n\u001b[0;32m--> 218\u001b[0m     result \u001b[38;5;241m=\u001b[39m \u001b[43mfunc\u001b[49m\u001b[43m(\u001b[49m\u001b[43mleft\u001b[49m\u001b[43m,\u001b[49m\u001b[43m \u001b[49m\u001b[43mright\u001b[49m\u001b[43m)\u001b[49m\n\u001b[1;32m    219\u001b[0m \u001b[38;5;28;01mexcept\u001b[39;00m \u001b[38;5;167;01mTypeError\u001b[39;00m:\n\u001b[1;32m    220\u001b[0m     \u001b[38;5;28;01mif\u001b[39;00m \u001b[38;5;129;01mnot\u001b[39;00m is_cmp \u001b[38;5;129;01mand\u001b[39;00m (\n\u001b[1;32m    221\u001b[0m         left\u001b[38;5;241m.\u001b[39mdtype \u001b[38;5;241m==\u001b[39m \u001b[38;5;28mobject\u001b[39m \u001b[38;5;129;01mor\u001b[39;00m \u001b[38;5;28mgetattr\u001b[39m(right, \u001b[38;5;124m\"\u001b[39m\u001b[38;5;124mdtype\u001b[39m\u001b[38;5;124m\"\u001b[39m, \u001b[38;5;28;01mNone\u001b[39;00m) \u001b[38;5;241m==\u001b[39m \u001b[38;5;28mobject\u001b[39m\n\u001b[1;32m    222\u001b[0m     ):\n\u001b[0;32m   (...)\u001b[0m\n\u001b[1;32m    225\u001b[0m         \u001b[38;5;66;03m# Don't do this for comparisons, as that will handle complex numbers\u001b[39;00m\n\u001b[1;32m    226\u001b[0m         \u001b[38;5;66;03m#  incorrectly, see GH#32047\u001b[39;00m\n",
      "File \u001b[0;32m~/miniforge3/lib/python3.10/site-packages/pandas/core/computation/expressions.py:242\u001b[0m, in \u001b[0;36mevaluate\u001b[0;34m(op, a, b, use_numexpr)\u001b[0m\n\u001b[1;32m    239\u001b[0m \u001b[38;5;28;01mif\u001b[39;00m op_str \u001b[38;5;129;01mis\u001b[39;00m \u001b[38;5;129;01mnot\u001b[39;00m \u001b[38;5;28;01mNone\u001b[39;00m:\n\u001b[1;32m    240\u001b[0m     \u001b[38;5;28;01mif\u001b[39;00m use_numexpr:\n\u001b[1;32m    241\u001b[0m         \u001b[38;5;66;03m# error: \"None\" not callable\u001b[39;00m\n\u001b[0;32m--> 242\u001b[0m         \u001b[38;5;28;01mreturn\u001b[39;00m \u001b[43m_evaluate\u001b[49m\u001b[43m(\u001b[49m\u001b[43mop\u001b[49m\u001b[43m,\u001b[49m\u001b[43m \u001b[49m\u001b[43mop_str\u001b[49m\u001b[43m,\u001b[49m\u001b[43m \u001b[49m\u001b[43ma\u001b[49m\u001b[43m,\u001b[49m\u001b[43m \u001b[49m\u001b[43mb\u001b[49m\u001b[43m)\u001b[49m  \u001b[38;5;66;03m# type: ignore[misc]\u001b[39;00m\n\u001b[1;32m    243\u001b[0m \u001b[38;5;28;01mreturn\u001b[39;00m _evaluate_standard(op, op_str, a, b)\n",
      "File \u001b[0;32m~/miniforge3/lib/python3.10/site-packages/pandas/core/computation/expressions.py:73\u001b[0m, in \u001b[0;36m_evaluate_standard\u001b[0;34m(op, op_str, a, b)\u001b[0m\n\u001b[1;32m     71\u001b[0m \u001b[38;5;28;01mif\u001b[39;00m _TEST_MODE:\n\u001b[1;32m     72\u001b[0m     _store_test_result(\u001b[38;5;28;01mFalse\u001b[39;00m)\n\u001b[0;32m---> 73\u001b[0m \u001b[38;5;28;01mreturn\u001b[39;00m \u001b[43mop\u001b[49m\u001b[43m(\u001b[49m\u001b[43ma\u001b[49m\u001b[43m,\u001b[49m\u001b[43m \u001b[49m\u001b[43mb\u001b[49m\u001b[43m)\u001b[49m\n",
      "\u001b[0;31mZeroDivisionError\u001b[0m: float division by zero"
     ]
    }
   ],
   "source": [
    "more_data = nrm_genes(more_data)\n",
    "more_data"
   ]
  },
  {
   "cell_type": "code",
   "execution_count": 44,
   "metadata": {},
   "outputs": [
    {
     "data": {
      "text/html": [
       "<div>\n",
       "<style scoped>\n",
       "    .dataframe tbody tr th:only-of-type {\n",
       "        vertical-align: middle;\n",
       "    }\n",
       "\n",
       "    .dataframe tbody tr th {\n",
       "        vertical-align: top;\n",
       "    }\n",
       "\n",
       "    .dataframe thead th {\n",
       "        text-align: right;\n",
       "    }\n",
       "</style>\n",
       "<table border=\"1\" class=\"dataframe\">\n",
       "  <thead>\n",
       "    <tr style=\"text-align: right;\">\n",
       "      <th>Symbol</th>\n",
       "      <th>Gm14820</th>\n",
       "      <th>Flicr</th>\n",
       "      <th>Gm13449</th>\n",
       "      <th>C79798</th>\n",
       "      <th>Nron</th>\n",
       "      <th>Gm13528</th>\n",
       "      <th>Gm13425</th>\n",
       "      <th>4930527E20Rik</th>\n",
       "      <th>Gm13402</th>\n",
       "      <th>AA645442</th>\n",
       "      <th>...</th>\n",
       "      <th>Pgam1-ps1</th>\n",
       "      <th>Gm22697</th>\n",
       "      <th>Gm10517</th>\n",
       "      <th>Vmn1r-ps84</th>\n",
       "      <th>Rpsa-ps3</th>\n",
       "      <th>Gm14634</th>\n",
       "      <th>Zkscan7</th>\n",
       "      <th>Agbl1</th>\n",
       "      <th>Gm8902</th>\n",
       "      <th>code</th>\n",
       "    </tr>\n",
       "  </thead>\n",
       "  <tbody>\n",
       "    <tr>\n",
       "      <th>GSM2046160</th>\n",
       "      <td>0.047856</td>\n",
       "      <td>0.043026</td>\n",
       "      <td>0.013747</td>\n",
       "      <td>0.0</td>\n",
       "      <td>0.017114</td>\n",
       "      <td>0.184585</td>\n",
       "      <td>0.0</td>\n",
       "      <td>0.0</td>\n",
       "      <td>0.0</td>\n",
       "      <td>0.0</td>\n",
       "      <td>...</td>\n",
       "      <td>0.04335</td>\n",
       "      <td>0.0</td>\n",
       "      <td>0.0</td>\n",
       "      <td>0.0</td>\n",
       "      <td>0.0</td>\n",
       "      <td>0.029685</td>\n",
       "      <td>2.69082</td>\n",
       "      <td>0.0</td>\n",
       "      <td>0.0</td>\n",
       "      <td>22.0</td>\n",
       "    </tr>\n",
       "    <tr>\n",
       "      <th>GSM2046184</th>\n",
       "      <td>0.0</td>\n",
       "      <td>0.017274</td>\n",
       "      <td>0.012649</td>\n",
       "      <td>0.0</td>\n",
       "      <td>0.0</td>\n",
       "      <td>0.225739</td>\n",
       "      <td>0.0</td>\n",
       "      <td>0.0</td>\n",
       "      <td>0.0</td>\n",
       "      <td>0.084449</td>\n",
       "      <td>...</td>\n",
       "      <td>0.038878</td>\n",
       "      <td>0.0</td>\n",
       "      <td>0.0</td>\n",
       "      <td>0.0</td>\n",
       "      <td>0.017092</td>\n",
       "      <td>0.031688</td>\n",
       "      <td>2.20585</td>\n",
       "      <td>0.0</td>\n",
       "      <td>0.0</td>\n",
       "      <td>22.0</td>\n",
       "    </tr>\n",
       "    <tr>\n",
       "      <th>GSM2046157</th>\n",
       "      <td>0.011696</td>\n",
       "      <td>0.012144</td>\n",
       "      <td>0.029259</td>\n",
       "      <td>0.0</td>\n",
       "      <td>0.0</td>\n",
       "      <td>0.246204</td>\n",
       "      <td>0.0</td>\n",
       "      <td>0.0</td>\n",
       "      <td>0.0</td>\n",
       "      <td>0.0</td>\n",
       "      <td>...</td>\n",
       "      <td>0.045233</td>\n",
       "      <td>0.0</td>\n",
       "      <td>0.1197</td>\n",
       "      <td>0.0</td>\n",
       "      <td>0.0</td>\n",
       "      <td>0.0</td>\n",
       "      <td>2.56285</td>\n",
       "      <td>0.0</td>\n",
       "      <td>0.015267</td>\n",
       "      <td>10.0</td>\n",
       "    </tr>\n",
       "    <tr>\n",
       "      <th>GSM2046183</th>\n",
       "      <td>0.038796</td>\n",
       "      <td>0.035352</td>\n",
       "      <td>0.012449</td>\n",
       "      <td>0.0</td>\n",
       "      <td>0.0</td>\n",
       "      <td>0.207048</td>\n",
       "      <td>0.0</td>\n",
       "      <td>0.0</td>\n",
       "      <td>0.0</td>\n",
       "      <td>0.0</td>\n",
       "      <td>...</td>\n",
       "      <td>0.017379</td>\n",
       "      <td>0.0</td>\n",
       "      <td>0.170666</td>\n",
       "      <td>0.0</td>\n",
       "      <td>0.0</td>\n",
       "      <td>0.009918</td>\n",
       "      <td>2.47665</td>\n",
       "      <td>0.0</td>\n",
       "      <td>0.0</td>\n",
       "      <td>18.0</td>\n",
       "    </tr>\n",
       "    <tr>\n",
       "      <th>GSM2046155</th>\n",
       "      <td>0.0</td>\n",
       "      <td>0.025837</td>\n",
       "      <td>0.080033</td>\n",
       "      <td>0.0</td>\n",
       "      <td>0.0</td>\n",
       "      <td>0.157396</td>\n",
       "      <td>0.0</td>\n",
       "      <td>0.0</td>\n",
       "      <td>0.0</td>\n",
       "      <td>0.619891</td>\n",
       "      <td>...</td>\n",
       "      <td>0.088547</td>\n",
       "      <td>0.0</td>\n",
       "      <td>0.134558</td>\n",
       "      <td>0.0</td>\n",
       "      <td>0.0</td>\n",
       "      <td>0.007446</td>\n",
       "      <td>2.71046</td>\n",
       "      <td>0.0</td>\n",
       "      <td>0.011883</td>\n",
       "      <td>2.0</td>\n",
       "    </tr>\n",
       "    <tr>\n",
       "      <th>...</th>\n",
       "      <td>...</td>\n",
       "      <td>...</td>\n",
       "      <td>...</td>\n",
       "      <td>...</td>\n",
       "      <td>...</td>\n",
       "      <td>...</td>\n",
       "      <td>...</td>\n",
       "      <td>...</td>\n",
       "      <td>...</td>\n",
       "      <td>...</td>\n",
       "      <td>...</td>\n",
       "      <td>...</td>\n",
       "      <td>...</td>\n",
       "      <td>...</td>\n",
       "      <td>...</td>\n",
       "      <td>...</td>\n",
       "      <td>...</td>\n",
       "      <td>...</td>\n",
       "      <td>...</td>\n",
       "      <td>...</td>\n",
       "      <td>...</td>\n",
       "    </tr>\n",
       "    <tr>\n",
       "      <th>GSM6610738</th>\n",
       "      <td>0.0</td>\n",
       "      <td>0.035516</td>\n",
       "      <td>0.215311</td>\n",
       "      <td>0.0</td>\n",
       "      <td>0.0</td>\n",
       "      <td>0.0</td>\n",
       "      <td>0.0</td>\n",
       "      <td>0.0</td>\n",
       "      <td>0.130749</td>\n",
       "      <td>0.316231</td>\n",
       "      <td>...</td>\n",
       "      <td>0.3189</td>\n",
       "      <td>0.0</td>\n",
       "      <td>0.0</td>\n",
       "      <td>0.0</td>\n",
       "      <td>0.0</td>\n",
       "      <td>0.023322</td>\n",
       "      <td>1.85593</td>\n",
       "      <td>0.0</td>\n",
       "      <td>0.0</td>\n",
       "      <td>13.5</td>\n",
       "    </tr>\n",
       "    <tr>\n",
       "      <th>GSM6610724</th>\n",
       "      <td>0.0</td>\n",
       "      <td>0.078964</td>\n",
       "      <td>0.200141</td>\n",
       "      <td>0.0</td>\n",
       "      <td>0.0</td>\n",
       "      <td>0.806385</td>\n",
       "      <td>0.0</td>\n",
       "      <td>0.0</td>\n",
       "      <td>0.0</td>\n",
       "      <td>0.0</td>\n",
       "      <td>...</td>\n",
       "      <td>0.165695</td>\n",
       "      <td>0.0</td>\n",
       "      <td>0.110278</td>\n",
       "      <td>0.0</td>\n",
       "      <td>0.0</td>\n",
       "      <td>0.070138</td>\n",
       "      <td>1.70914</td>\n",
       "      <td>0.0</td>\n",
       "      <td>0.0</td>\n",
       "      <td>7.5</td>\n",
       "    </tr>\n",
       "    <tr>\n",
       "      <th>GSM6610752</th>\n",
       "      <td>0.0</td>\n",
       "      <td>0.043414</td>\n",
       "      <td>0.228735</td>\n",
       "      <td>0.0</td>\n",
       "      <td>0.0</td>\n",
       "      <td>0.447329</td>\n",
       "      <td>0.0</td>\n",
       "      <td>0.0</td>\n",
       "      <td>0.0</td>\n",
       "      <td>0.405717</td>\n",
       "      <td>...</td>\n",
       "      <td>0.265712</td>\n",
       "      <td>0.0</td>\n",
       "      <td>0.0</td>\n",
       "      <td>0.0</td>\n",
       "      <td>0.0</td>\n",
       "      <td>0.054193</td>\n",
       "      <td>2.7101</td>\n",
       "      <td>0.0</td>\n",
       "      <td>0.0</td>\n",
       "      <td>19.5</td>\n",
       "    </tr>\n",
       "    <tr>\n",
       "      <th>GSM6610726</th>\n",
       "      <td>0.016459</td>\n",
       "      <td>0.043835</td>\n",
       "      <td>0.284069</td>\n",
       "      <td>0.028452</td>\n",
       "      <td>0.0</td>\n",
       "      <td>1.18465</td>\n",
       "      <td>0.0</td>\n",
       "      <td>0.0</td>\n",
       "      <td>0.0</td>\n",
       "      <td>0.829571</td>\n",
       "      <td>...</td>\n",
       "      <td>0.034111</td>\n",
       "      <td>0.0</td>\n",
       "      <td>0.276602</td>\n",
       "      <td>0.0</td>\n",
       "      <td>0.0</td>\n",
       "      <td>0.047538</td>\n",
       "      <td>1.66776</td>\n",
       "      <td>0.0</td>\n",
       "      <td>0.0</td>\n",
       "      <td>7.5</td>\n",
       "    </tr>\n",
       "    <tr>\n",
       "      <th>GSM6610740</th>\n",
       "      <td>0.0</td>\n",
       "      <td>0.048446</td>\n",
       "      <td>0.234701</td>\n",
       "      <td>0.0</td>\n",
       "      <td>0.0</td>\n",
       "      <td>0.203605</td>\n",
       "      <td>0.0</td>\n",
       "      <td>0.0</td>\n",
       "      <td>0.0</td>\n",
       "      <td>0.0</td>\n",
       "      <td>...</td>\n",
       "      <td>0.236707</td>\n",
       "      <td>0.0</td>\n",
       "      <td>0.098693</td>\n",
       "      <td>0.0</td>\n",
       "      <td>0.0</td>\n",
       "      <td>0.018135</td>\n",
       "      <td>2.69755</td>\n",
       "      <td>0.0</td>\n",
       "      <td>0.0</td>\n",
       "      <td>13.5</td>\n",
       "    </tr>\n",
       "  </tbody>\n",
       "</table>\n",
       "<p>1096 rows × 37014 columns</p>\n",
       "</div>"
      ],
      "text/plain": [
       "Symbol       Gm14820     Flicr   Gm13449    C79798      Nron   Gm13528  \\\n",
       "GSM2046160  0.047856  0.043026  0.013747       0.0  0.017114  0.184585   \n",
       "GSM2046184       0.0  0.017274  0.012649       0.0       0.0  0.225739   \n",
       "GSM2046157  0.011696  0.012144  0.029259       0.0       0.0  0.246204   \n",
       "GSM2046183  0.038796  0.035352  0.012449       0.0       0.0  0.207048   \n",
       "GSM2046155       0.0  0.025837  0.080033       0.0       0.0  0.157396   \n",
       "...              ...       ...       ...       ...       ...       ...   \n",
       "GSM6610738       0.0  0.035516  0.215311       0.0       0.0       0.0   \n",
       "GSM6610724       0.0  0.078964  0.200141       0.0       0.0  0.806385   \n",
       "GSM6610752       0.0  0.043414  0.228735       0.0       0.0  0.447329   \n",
       "GSM6610726  0.016459  0.043835  0.284069  0.028452       0.0   1.18465   \n",
       "GSM6610740       0.0  0.048446  0.234701       0.0       0.0  0.203605   \n",
       "\n",
       "Symbol     Gm13425 4930527E20Rik   Gm13402  AA645442  ... Pgam1-ps1 Gm22697  \\\n",
       "GSM2046160     0.0           0.0       0.0       0.0  ...   0.04335     0.0   \n",
       "GSM2046184     0.0           0.0       0.0  0.084449  ...  0.038878     0.0   \n",
       "GSM2046157     0.0           0.0       0.0       0.0  ...  0.045233     0.0   \n",
       "GSM2046183     0.0           0.0       0.0       0.0  ...  0.017379     0.0   \n",
       "GSM2046155     0.0           0.0       0.0  0.619891  ...  0.088547     0.0   \n",
       "...            ...           ...       ...       ...  ...       ...     ...   \n",
       "GSM6610738     0.0           0.0  0.130749  0.316231  ...    0.3189     0.0   \n",
       "GSM6610724     0.0           0.0       0.0       0.0  ...  0.165695     0.0   \n",
       "GSM6610752     0.0           0.0       0.0  0.405717  ...  0.265712     0.0   \n",
       "GSM6610726     0.0           0.0       0.0  0.829571  ...  0.034111     0.0   \n",
       "GSM6610740     0.0           0.0       0.0       0.0  ...  0.236707     0.0   \n",
       "\n",
       "Symbol       Gm10517 Vmn1r-ps84  Rpsa-ps3   Gm14634  Zkscan7 Agbl1    Gm8902  \\\n",
       "GSM2046160       0.0        0.0       0.0  0.029685  2.69082   0.0       0.0   \n",
       "GSM2046184       0.0        0.0  0.017092  0.031688  2.20585   0.0       0.0   \n",
       "GSM2046157    0.1197        0.0       0.0       0.0  2.56285   0.0  0.015267   \n",
       "GSM2046183  0.170666        0.0       0.0  0.009918  2.47665   0.0       0.0   \n",
       "GSM2046155  0.134558        0.0       0.0  0.007446  2.71046   0.0  0.011883   \n",
       "...              ...        ...       ...       ...      ...   ...       ...   \n",
       "GSM6610738       0.0        0.0       0.0  0.023322  1.85593   0.0       0.0   \n",
       "GSM6610724  0.110278        0.0       0.0  0.070138  1.70914   0.0       0.0   \n",
       "GSM6610752       0.0        0.0       0.0  0.054193   2.7101   0.0       0.0   \n",
       "GSM6610726  0.276602        0.0       0.0  0.047538  1.66776   0.0       0.0   \n",
       "GSM6610740  0.098693        0.0       0.0  0.018135  2.69755   0.0       0.0   \n",
       "\n",
       "Symbol      code  \n",
       "GSM2046160  22.0  \n",
       "GSM2046184  22.0  \n",
       "GSM2046157  10.0  \n",
       "GSM2046183  18.0  \n",
       "GSM2046155   2.0  \n",
       "...          ...  \n",
       "GSM6610738  13.5  \n",
       "GSM6610724   7.5  \n",
       "GSM6610752  19.5  \n",
       "GSM6610726   7.5  \n",
       "GSM6610740  13.5  \n",
       "\n",
       "[1096 rows x 37014 columns]"
      ]
     },
     "execution_count": 44,
     "metadata": {},
     "output_type": "execute_result"
    }
   ],
   "source": [
    "more_data"
   ]
  },
  {
   "cell_type": "code",
   "execution_count": 43,
   "metadata": {},
   "outputs": [
    {
     "data": {
      "text/html": [
       "<div>\n",
       "<style scoped>\n",
       "    .dataframe tbody tr th:only-of-type {\n",
       "        vertical-align: middle;\n",
       "    }\n",
       "\n",
       "    .dataframe tbody tr th {\n",
       "        vertical-align: top;\n",
       "    }\n",
       "\n",
       "    .dataframe thead th {\n",
       "        text-align: right;\n",
       "    }\n",
       "</style>\n",
       "<table border=\"1\" class=\"dataframe\">\n",
       "  <thead>\n",
       "    <tr style=\"text-align: right;\">\n",
       "      <th>Symbol</th>\n",
       "      <th>code</th>\n",
       "    </tr>\n",
       "  </thead>\n",
       "  <tbody>\n",
       "    <tr>\n",
       "      <th>count</th>\n",
       "      <td>1096.000000</td>\n",
       "    </tr>\n",
       "    <tr>\n",
       "      <th>mean</th>\n",
       "      <td>13.593978</td>\n",
       "    </tr>\n",
       "    <tr>\n",
       "      <th>std</th>\n",
       "      <td>10.301142</td>\n",
       "    </tr>\n",
       "    <tr>\n",
       "      <th>min</th>\n",
       "      <td>0.000000</td>\n",
       "    </tr>\n",
       "    <tr>\n",
       "      <th>25%</th>\n",
       "      <td>6.000000</td>\n",
       "    </tr>\n",
       "    <tr>\n",
       "      <th>50%</th>\n",
       "      <td>12.000000</td>\n",
       "    </tr>\n",
       "    <tr>\n",
       "      <th>75%</th>\n",
       "      <td>20.000000</td>\n",
       "    </tr>\n",
       "    <tr>\n",
       "      <th>max</th>\n",
       "      <td>65.000000</td>\n",
       "    </tr>\n",
       "  </tbody>\n",
       "</table>\n",
       "</div>"
      ],
      "text/plain": [
       "Symbol         code\n",
       "count   1096.000000\n",
       "mean      13.593978\n",
       "std       10.301142\n",
       "min        0.000000\n",
       "25%        6.000000\n",
       "50%       12.000000\n",
       "75%       20.000000\n",
       "max       65.000000"
      ]
     },
     "execution_count": 43,
     "metadata": {},
     "output_type": "execute_result"
    }
   ],
   "source": [
    "more_data.describe()"
   ]
  },
  {
   "cell_type": "code",
   "execution_count": 41,
   "metadata": {},
   "outputs": [
    {
     "name": "stdout",
     "output_type": "stream",
     "text": [
      "> \u001b[0;32m/home/galopy/miniforge3/lib/python3.10/site-packages/pandas/core/computation/expressions.py\u001b[0m(73)\u001b[0;36m_evaluate_standard\u001b[0;34m()\u001b[0m\n",
      "\u001b[0;32m     71 \u001b[0;31m    \u001b[0;32mif\u001b[0m \u001b[0m_TEST_MODE\u001b[0m\u001b[0;34m:\u001b[0m\u001b[0;34m\u001b[0m\u001b[0;34m\u001b[0m\u001b[0m\n",
      "\u001b[0m\u001b[0;32m     72 \u001b[0;31m        \u001b[0m_store_test_result\u001b[0m\u001b[0;34m(\u001b[0m\u001b[0;32mFalse\u001b[0m\u001b[0;34m)\u001b[0m\u001b[0;34m\u001b[0m\u001b[0;34m\u001b[0m\u001b[0m\n",
      "\u001b[0m\u001b[0;32m---> 73 \u001b[0;31m    \u001b[0;32mreturn\u001b[0m \u001b[0mop\u001b[0m\u001b[0;34m(\u001b[0m\u001b[0ma\u001b[0m\u001b[0;34m,\u001b[0m \u001b[0mb\u001b[0m\u001b[0;34m)\u001b[0m\u001b[0;34m\u001b[0m\u001b[0;34m\u001b[0m\u001b[0m\n",
      "\u001b[0m\u001b[0;32m     74 \u001b[0;31m\u001b[0;34m\u001b[0m\u001b[0m\n",
      "\u001b[0m\u001b[0;32m     75 \u001b[0;31m\u001b[0;34m\u001b[0m\u001b[0m\n",
      "\u001b[0m\n",
      "ipdb> u\n",
      "> \u001b[0;32m/home/galopy/miniforge3/lib/python3.10/site-packages/pandas/core/computation/expressions.py\u001b[0m(242)\u001b[0;36mevaluate\u001b[0;34m()\u001b[0m\n",
      "\u001b[0;32m    240 \u001b[0;31m        \u001b[0;32mif\u001b[0m \u001b[0muse_numexpr\u001b[0m\u001b[0;34m:\u001b[0m\u001b[0;34m\u001b[0m\u001b[0;34m\u001b[0m\u001b[0m\n",
      "\u001b[0m\u001b[0;32m    241 \u001b[0;31m            \u001b[0;31m# error: \"None\" not callable\u001b[0m\u001b[0;34m\u001b[0m\u001b[0;34m\u001b[0m\u001b[0m\n",
      "\u001b[0m\u001b[0;32m--> 242 \u001b[0;31m            \u001b[0;32mreturn\u001b[0m \u001b[0m_evaluate\u001b[0m\u001b[0;34m(\u001b[0m\u001b[0mop\u001b[0m\u001b[0;34m,\u001b[0m \u001b[0mop_str\u001b[0m\u001b[0;34m,\u001b[0m \u001b[0ma\u001b[0m\u001b[0;34m,\u001b[0m \u001b[0mb\u001b[0m\u001b[0;34m)\u001b[0m  \u001b[0;31m# type: ignore[misc]\u001b[0m\u001b[0;34m\u001b[0m\u001b[0;34m\u001b[0m\u001b[0m\n",
      "\u001b[0m\u001b[0;32m    243 \u001b[0;31m    \u001b[0;32mreturn\u001b[0m \u001b[0m_evaluate_standard\u001b[0m\u001b[0;34m(\u001b[0m\u001b[0mop\u001b[0m\u001b[0;34m,\u001b[0m \u001b[0mop_str\u001b[0m\u001b[0;34m,\u001b[0m \u001b[0ma\u001b[0m\u001b[0;34m,\u001b[0m \u001b[0mb\u001b[0m\u001b[0;34m)\u001b[0m\u001b[0;34m\u001b[0m\u001b[0;34m\u001b[0m\u001b[0m\n",
      "\u001b[0m\u001b[0;32m    244 \u001b[0;31m\u001b[0;34m\u001b[0m\u001b[0m\n",
      "\u001b[0m\n",
      "ipdb> u\n",
      "> \u001b[0;32m/home/galopy/miniforge3/lib/python3.10/site-packages/pandas/core/ops/array_ops.py\u001b[0m(218)\u001b[0;36m_na_arithmetic_op\u001b[0;34m()\u001b[0m\n",
      "\u001b[0;32m    216 \u001b[0;31m\u001b[0;34m\u001b[0m\u001b[0m\n",
      "\u001b[0m\u001b[0;32m    217 \u001b[0;31m    \u001b[0;32mtry\u001b[0m\u001b[0;34m:\u001b[0m\u001b[0;34m\u001b[0m\u001b[0;34m\u001b[0m\u001b[0m\n",
      "\u001b[0m\u001b[0;32m--> 218 \u001b[0;31m        \u001b[0mresult\u001b[0m \u001b[0;34m=\u001b[0m \u001b[0mfunc\u001b[0m\u001b[0;34m(\u001b[0m\u001b[0mleft\u001b[0m\u001b[0;34m,\u001b[0m \u001b[0mright\u001b[0m\u001b[0;34m)\u001b[0m\u001b[0;34m\u001b[0m\u001b[0;34m\u001b[0m\u001b[0m\n",
      "\u001b[0m\u001b[0;32m    219 \u001b[0;31m    \u001b[0;32mexcept\u001b[0m \u001b[0mTypeError\u001b[0m\u001b[0;34m:\u001b[0m\u001b[0;34m\u001b[0m\u001b[0;34m\u001b[0m\u001b[0m\n",
      "\u001b[0m\u001b[0;32m    220 \u001b[0;31m        if not is_cmp and (\n",
      "\u001b[0m\n",
      "ipdb> u\n",
      "> \u001b[0;32m/home/galopy/miniforge3/lib/python3.10/site-packages/pandas/core/ops/array_ops.py\u001b[0m(283)\u001b[0;36marithmetic_op\u001b[0;34m()\u001b[0m\n",
      "\u001b[0;32m    281 \u001b[0;31m        \u001b[0;31m# error: Argument 1 to \"_na_arithmetic_op\" has incompatible type\u001b[0m\u001b[0;34m\u001b[0m\u001b[0;34m\u001b[0m\u001b[0m\n",
      "\u001b[0m\u001b[0;32m    282 \u001b[0;31m        \u001b[0;31m# \"Union[ExtensionArray, ndarray[Any, Any]]\"; expected \"ndarray[Any, Any]\"\u001b[0m\u001b[0;34m\u001b[0m\u001b[0;34m\u001b[0m\u001b[0m\n",
      "\u001b[0m\u001b[0;32m--> 283 \u001b[0;31m        \u001b[0mres_values\u001b[0m \u001b[0;34m=\u001b[0m \u001b[0m_na_arithmetic_op\u001b[0m\u001b[0;34m(\u001b[0m\u001b[0mleft\u001b[0m\u001b[0;34m,\u001b[0m \u001b[0mright\u001b[0m\u001b[0;34m,\u001b[0m \u001b[0mop\u001b[0m\u001b[0;34m)\u001b[0m  \u001b[0;31m# type: ignore[arg-type]\u001b[0m\u001b[0;34m\u001b[0m\u001b[0;34m\u001b[0m\u001b[0m\n",
      "\u001b[0m\u001b[0;32m    284 \u001b[0;31m\u001b[0;34m\u001b[0m\u001b[0m\n",
      "\u001b[0m\u001b[0;32m    285 \u001b[0;31m    \u001b[0;32mreturn\u001b[0m \u001b[0mres_values\u001b[0m\u001b[0;34m\u001b[0m\u001b[0;34m\u001b[0m\u001b[0m\n",
      "\u001b[0m\n",
      "ipdb> u\n",
      "> \u001b[0;32m/home/galopy/miniforge3/lib/python3.10/site-packages/pandas/core/internals/ops.py\u001b[0m(65)\u001b[0;36moperate_blockwise\u001b[0;34m()\u001b[0m\n",
      "\u001b[0;32m     63 \u001b[0;31m    \u001b[0mres_blks\u001b[0m\u001b[0;34m:\u001b[0m \u001b[0mlist\u001b[0m\u001b[0;34m[\u001b[0m\u001b[0mBlock\u001b[0m\u001b[0;34m]\u001b[0m \u001b[0;34m=\u001b[0m \u001b[0;34m[\u001b[0m\u001b[0;34m]\u001b[0m\u001b[0;34m\u001b[0m\u001b[0;34m\u001b[0m\u001b[0m\n",
      "\u001b[0m\u001b[0;32m     64 \u001b[0;31m    \u001b[0;32mfor\u001b[0m \u001b[0mlvals\u001b[0m\u001b[0;34m,\u001b[0m \u001b[0mrvals\u001b[0m\u001b[0;34m,\u001b[0m \u001b[0mlocs\u001b[0m\u001b[0;34m,\u001b[0m \u001b[0mleft_ea\u001b[0m\u001b[0;34m,\u001b[0m \u001b[0mright_ea\u001b[0m\u001b[0;34m,\u001b[0m \u001b[0mrblk\u001b[0m \u001b[0;32min\u001b[0m \u001b[0m_iter_block_pairs\u001b[0m\u001b[0;34m(\u001b[0m\u001b[0mleft\u001b[0m\u001b[0;34m,\u001b[0m \u001b[0mright\u001b[0m\u001b[0;34m)\u001b[0m\u001b[0;34m:\u001b[0m\u001b[0;34m\u001b[0m\u001b[0;34m\u001b[0m\u001b[0m\n",
      "\u001b[0m\u001b[0;32m---> 65 \u001b[0;31m        \u001b[0mres_values\u001b[0m \u001b[0;34m=\u001b[0m \u001b[0marray_op\u001b[0m\u001b[0;34m(\u001b[0m\u001b[0mlvals\u001b[0m\u001b[0;34m,\u001b[0m \u001b[0mrvals\u001b[0m\u001b[0;34m)\u001b[0m\u001b[0;34m\u001b[0m\u001b[0;34m\u001b[0m\u001b[0m\n",
      "\u001b[0m\u001b[0;32m     66 \u001b[0;31m        if (\n",
      "\u001b[0m\u001b[0;32m     67 \u001b[0;31m            \u001b[0mleft_ea\u001b[0m\u001b[0;34m\u001b[0m\u001b[0;34m\u001b[0m\u001b[0m\n",
      "\u001b[0m\n",
      "ipdb> u\n",
      "> \u001b[0;32m/home/galopy/miniforge3/lib/python3.10/site-packages/pandas/core/internals/managers.py\u001b[0m(1511)\u001b[0;36moperate_blockwise\u001b[0;34m()\u001b[0m\n",
      "\u001b[0;32m   1509 \u001b[0;31m        \u001b[0mApply\u001b[0m \u001b[0marray_op\u001b[0m \u001b[0mblockwise\u001b[0m \u001b[0;32mwith\u001b[0m \u001b[0manother\u001b[0m \u001b[0;34m(\u001b[0m\u001b[0maligned\u001b[0m\u001b[0;34m)\u001b[0m \u001b[0mBlockManager\u001b[0m\u001b[0;34m.\u001b[0m\u001b[0;34m\u001b[0m\u001b[0;34m\u001b[0m\u001b[0m\n",
      "\u001b[0m\u001b[0;32m   1510 \u001b[0;31m        \"\"\"\n",
      "\u001b[0m\u001b[0;32m-> 1511 \u001b[0;31m        \u001b[0;32mreturn\u001b[0m \u001b[0moperate_blockwise\u001b[0m\u001b[0;34m(\u001b[0m\u001b[0mself\u001b[0m\u001b[0;34m,\u001b[0m \u001b[0mother\u001b[0m\u001b[0;34m,\u001b[0m \u001b[0marray_op\u001b[0m\u001b[0;34m)\u001b[0m\u001b[0;34m\u001b[0m\u001b[0;34m\u001b[0m\u001b[0m\n",
      "\u001b[0m\u001b[0;32m   1512 \u001b[0;31m\u001b[0;34m\u001b[0m\u001b[0m\n",
      "\u001b[0m\u001b[0;32m   1513 \u001b[0;31m    \u001b[0;32mdef\u001b[0m \u001b[0m_equal_values\u001b[0m\u001b[0;34m(\u001b[0m\u001b[0mself\u001b[0m\u001b[0;34m:\u001b[0m \u001b[0mBlockManager\u001b[0m\u001b[0;34m,\u001b[0m \u001b[0mother\u001b[0m\u001b[0;34m:\u001b[0m \u001b[0mBlockManager\u001b[0m\u001b[0;34m)\u001b[0m \u001b[0;34m->\u001b[0m \u001b[0mbool\u001b[0m\u001b[0;34m:\u001b[0m\u001b[0;34m\u001b[0m\u001b[0;34m\u001b[0m\u001b[0m\n",
      "\u001b[0m\n",
      "ipdb> u\n",
      "> \u001b[0;32m/home/galopy/miniforge3/lib/python3.10/site-packages/pandas/core/frame.py\u001b[0m(7943)\u001b[0;36m_dispatch_frame_op\u001b[0;34m()\u001b[0m\n",
      "\u001b[0;32m   7941 \u001b[0;31m\u001b[0;34m\u001b[0m\u001b[0m\n",
      "\u001b[0m\u001b[0;32m   7942 \u001b[0;31m            \u001b[0;31m# TODO operate_blockwise expects a manager of the same type\u001b[0m\u001b[0;34m\u001b[0m\u001b[0;34m\u001b[0m\u001b[0m\n",
      "\u001b[0m\u001b[0;32m-> 7943 \u001b[0;31m            bm = self._mgr.operate_blockwise(\n",
      "\u001b[0m\u001b[0;32m   7944 \u001b[0;31m                \u001b[0;31m# error: Argument 1 to \"operate_blockwise\" of \"ArrayManager\" has\u001b[0m\u001b[0;34m\u001b[0m\u001b[0;34m\u001b[0m\u001b[0m\n",
      "\u001b[0m\u001b[0;32m   7945 \u001b[0;31m                \u001b[0;31m# incompatible type \"Union[ArrayManager, BlockManager]\"; expected\u001b[0m\u001b[0;34m\u001b[0m\u001b[0;34m\u001b[0m\u001b[0m\n",
      "\u001b[0m\n",
      "ipdb> u\n",
      "> \u001b[0;32m/home/galopy/miniforge3/lib/python3.10/site-packages/pandas/core/frame.py\u001b[0m(7900)\u001b[0;36m_arith_method\u001b[0;34m()\u001b[0m\n",
      "\u001b[0;32m   7898 \u001b[0;31m\u001b[0;34m\u001b[0m\u001b[0m\n",
      "\u001b[0m\u001b[0;32m   7899 \u001b[0;31m        \u001b[0;32mwith\u001b[0m \u001b[0mnp\u001b[0m\u001b[0;34m.\u001b[0m\u001b[0merrstate\u001b[0m\u001b[0;34m(\u001b[0m\u001b[0mall\u001b[0m\u001b[0;34m=\u001b[0m\u001b[0;34m\"ignore\"\u001b[0m\u001b[0;34m)\u001b[0m\u001b[0;34m:\u001b[0m\u001b[0;34m\u001b[0m\u001b[0;34m\u001b[0m\u001b[0m\n",
      "\u001b[0m\u001b[0;32m-> 7900 \u001b[0;31m            \u001b[0mnew_data\u001b[0m \u001b[0;34m=\u001b[0m \u001b[0mself\u001b[0m\u001b[0;34m.\u001b[0m\u001b[0m_dispatch_frame_op\u001b[0m\u001b[0;34m(\u001b[0m\u001b[0mother\u001b[0m\u001b[0;34m,\u001b[0m \u001b[0mop\u001b[0m\u001b[0;34m,\u001b[0m \u001b[0maxis\u001b[0m\u001b[0;34m=\u001b[0m\u001b[0maxis\u001b[0m\u001b[0;34m)\u001b[0m\u001b[0;34m\u001b[0m\u001b[0;34m\u001b[0m\u001b[0m\n",
      "\u001b[0m\u001b[0;32m   7901 \u001b[0;31m        \u001b[0;32mreturn\u001b[0m \u001b[0mself\u001b[0m\u001b[0;34m.\u001b[0m\u001b[0m_construct_result\u001b[0m\u001b[0;34m(\u001b[0m\u001b[0mnew_data\u001b[0m\u001b[0;34m)\u001b[0m\u001b[0;34m\u001b[0m\u001b[0;34m\u001b[0m\u001b[0m\n",
      "\u001b[0m\u001b[0;32m   7902 \u001b[0;31m\u001b[0;34m\u001b[0m\u001b[0m\n",
      "\u001b[0m\n",
      "ipdb> u\n",
      "> \u001b[0;32m/home/galopy/miniforge3/lib/python3.10/site-packages/pandas/core/arraylike.py\u001b[0m(210)\u001b[0;36m__truediv__\u001b[0;34m()\u001b[0m\n",
      "\u001b[0;32m    208 \u001b[0;31m    \u001b[0;34m@\u001b[0m\u001b[0munpack_zerodim_and_defer\u001b[0m\u001b[0;34m(\u001b[0m\u001b[0;34m\"__truediv__\"\u001b[0m\u001b[0;34m)\u001b[0m\u001b[0;34m\u001b[0m\u001b[0;34m\u001b[0m\u001b[0m\n",
      "\u001b[0m\u001b[0;32m    209 \u001b[0;31m    \u001b[0;32mdef\u001b[0m \u001b[0m__truediv__\u001b[0m\u001b[0;34m(\u001b[0m\u001b[0mself\u001b[0m\u001b[0;34m,\u001b[0m \u001b[0mother\u001b[0m\u001b[0;34m)\u001b[0m\u001b[0;34m:\u001b[0m\u001b[0;34m\u001b[0m\u001b[0;34m\u001b[0m\u001b[0m\n",
      "\u001b[0m\u001b[0;32m--> 210 \u001b[0;31m        \u001b[0;32mreturn\u001b[0m \u001b[0mself\u001b[0m\u001b[0;34m.\u001b[0m\u001b[0m_arith_method\u001b[0m\u001b[0;34m(\u001b[0m\u001b[0mother\u001b[0m\u001b[0;34m,\u001b[0m \u001b[0moperator\u001b[0m\u001b[0;34m.\u001b[0m\u001b[0mtruediv\u001b[0m\u001b[0;34m)\u001b[0m\u001b[0;34m\u001b[0m\u001b[0;34m\u001b[0m\u001b[0m\n",
      "\u001b[0m\u001b[0;32m    211 \u001b[0;31m\u001b[0;34m\u001b[0m\u001b[0m\n",
      "\u001b[0m\u001b[0;32m    212 \u001b[0;31m    \u001b[0;34m@\u001b[0m\u001b[0munpack_zerodim_and_defer\u001b[0m\u001b[0;34m(\u001b[0m\u001b[0;34m\"__rtruediv__\"\u001b[0m\u001b[0;34m)\u001b[0m\u001b[0;34m\u001b[0m\u001b[0;34m\u001b[0m\u001b[0m\n",
      "\u001b[0m\n",
      "ipdb> u\n",
      "> \u001b[0;32m/home/galopy/miniforge3/lib/python3.10/site-packages/pandas/core/ops/common.py\u001b[0m(76)\u001b[0;36mnew_method\u001b[0;34m()\u001b[0m\n",
      "\u001b[0;32m     74 \u001b[0;31m        \u001b[0mother\u001b[0m \u001b[0;34m=\u001b[0m \u001b[0mitem_from_zerodim\u001b[0m\u001b[0;34m(\u001b[0m\u001b[0mother\u001b[0m\u001b[0;34m)\u001b[0m\u001b[0;34m\u001b[0m\u001b[0;34m\u001b[0m\u001b[0m\n",
      "\u001b[0m\u001b[0;32m     75 \u001b[0;31m\u001b[0;34m\u001b[0m\u001b[0m\n",
      "\u001b[0m\u001b[0;32m---> 76 \u001b[0;31m        \u001b[0;32mreturn\u001b[0m \u001b[0mmethod\u001b[0m\u001b[0;34m(\u001b[0m\u001b[0mself\u001b[0m\u001b[0;34m,\u001b[0m \u001b[0mother\u001b[0m\u001b[0;34m)\u001b[0m\u001b[0;34m\u001b[0m\u001b[0;34m\u001b[0m\u001b[0m\n",
      "\u001b[0m\u001b[0;32m     77 \u001b[0;31m\u001b[0;34m\u001b[0m\u001b[0m\n",
      "\u001b[0m\u001b[0;32m     78 \u001b[0;31m    \u001b[0;32mreturn\u001b[0m \u001b[0mnew_method\u001b[0m\u001b[0;34m\u001b[0m\u001b[0;34m\u001b[0m\u001b[0m\n",
      "\u001b[0m\n",
      "ipdb> u\n",
      "> \u001b[0;32m/tmp/ipykernel_3721/2599355360.py\u001b[0m(4)\u001b[0;36mnrm_genes\u001b[0;34m()\u001b[0m\n",
      "\u001b[0;32m      1 \u001b[0;31m\u001b[0;32mdef\u001b[0m \u001b[0mnrm_genes\u001b[0m\u001b[0;34m(\u001b[0m\u001b[0mdf\u001b[0m\u001b[0;34m)\u001b[0m\u001b[0;34m:\u001b[0m\u001b[0;34m\u001b[0m\u001b[0;34m\u001b[0m\u001b[0m\n",
      "\u001b[0m\u001b[0;32m      2 \u001b[0;31m    \u001b[0;34m\"\"\"Assuming genes on cols cells on rows.\"\"\"\u001b[0m\u001b[0;34m\u001b[0m\u001b[0;34m\u001b[0m\u001b[0m\n",
      "\u001b[0m\u001b[0;32m      3 \u001b[0;31m    \u001b[0mcell_divided\u001b[0m \u001b[0;34m=\u001b[0m \u001b[0mdf\u001b[0m\u001b[0;34m.\u001b[0m\u001b[0mdiv\u001b[0m\u001b[0;34m(\u001b[0m\u001b[0mdf\u001b[0m\u001b[0;34m.\u001b[0m\u001b[0msum\u001b[0m\u001b[0;34m(\u001b[0m\u001b[0maxis\u001b[0m\u001b[0;34m=\u001b[0m\u001b[0;36m1\u001b[0m\u001b[0;34m)\u001b[0m\u001b[0;34m,\u001b[0m \u001b[0maxis\u001b[0m\u001b[0;34m=\u001b[0m\u001b[0;36m0\u001b[0m\u001b[0;34m)\u001b[0m\u001b[0;34m\u001b[0m\u001b[0;34m\u001b[0m\u001b[0m\n",
      "\u001b[0m\u001b[0;32m----> 4 \u001b[0;31m    \u001b[0;32mreturn\u001b[0m \u001b[0;34m(\u001b[0m\u001b[0mcell_divided\u001b[0m \u001b[0;34m-\u001b[0m \u001b[0mcell_divided\u001b[0m\u001b[0;34m.\u001b[0m\u001b[0mmean\u001b[0m\u001b[0;34m(\u001b[0m\u001b[0maxis\u001b[0m\u001b[0;34m=\u001b[0m\u001b[0;36m0\u001b[0m\u001b[0;34m)\u001b[0m\u001b[0;34m)\u001b[0m \u001b[0;34m/\u001b[0m \u001b[0mcell_divided\u001b[0m\u001b[0;34m.\u001b[0m\u001b[0mstd\u001b[0m\u001b[0;34m(\u001b[0m\u001b[0maxis\u001b[0m\u001b[0;34m=\u001b[0m\u001b[0;36m0\u001b[0m\u001b[0;34m)\u001b[0m\u001b[0;34m\u001b[0m\u001b[0;34m\u001b[0m\u001b[0m\n",
      "\u001b[0m\n"
     ]
    },
    {
     "name": "stdout",
     "output_type": "stream",
     "text": [
      "ipdb> cell_divided.std(axis=0)\n",
      "Symbol\n",
      "Gm14820         0.0\n",
      "Flicr           0.0\n",
      "Gm13449         0.0\n",
      "C79798          0.0\n",
      "Nron            0.0\n",
      "             ...   \n",
      "Gm14634         0.0\n",
      "Zkscan7    0.000001\n",
      "Agbl1           0.0\n",
      "Gm8902          0.0\n",
      "code       0.000011\n",
      "Length: 37014, dtype: object\n",
      "ipdb> q\n"
     ]
    }
   ],
   "source": [
    "import pdb; pdb.pm()"
   ]
  },
  {
   "cell_type": "code",
   "execution_count": null,
   "metadata": {},
   "outputs": [],
   "source": [
    "more_data.describe()"
   ]
  },
  {
   "cell_type": "code",
   "execution_count": 22,
   "metadata": {
    "id": "P-UYBUz5FVKY"
   },
   "outputs": [],
   "source": [
    "bulk_genes_set = set(raw_bulk_data['ID'])\n",
    "sc_genes = set(raw_data['gene'])"
   ]
  },
  {
   "cell_type": "code",
   "execution_count": 23,
   "metadata": {},
   "outputs": [
    {
     "data": {
      "text/plain": [
       "1822"
      ]
     },
     "execution_count": 23,
     "metadata": {},
     "output_type": "execute_result"
    }
   ],
   "source": [
    "hepa_genes_set = set(hepa.columns)\n",
    "len(hepa_genes_set.intersection(sc_genes))"
   ]
  },
  {
   "cell_type": "code",
   "execution_count": 24,
   "metadata": {},
   "outputs": [
    {
     "data": {
      "text/plain": [
       "1573"
      ]
     },
     "execution_count": 24,
     "metadata": {},
     "output_type": "execute_result"
    }
   ],
   "source": [
    "len(bulk_genes_set.intersection(sc_genes))"
   ]
  },
  {
   "cell_type": "code",
   "execution_count": 25,
   "metadata": {
    "id": "HNCl8oSXF2aS"
   },
   "outputs": [],
   "source": [
    "genes = list(bulk_genes_set.intersection(sc_genes))"
   ]
  },
  {
   "cell_type": "code",
   "execution_count": 26,
   "metadata": {
    "id": "YWfTF-tr8eZ5"
   },
   "outputs": [],
   "source": [
    "mis_genes = list(sc_genes.difference(bulk_genes_set))"
   ]
  },
  {
   "cell_type": "markdown",
   "metadata": {
    "id": "ie5t_bU2p53B"
   },
   "source": [
    "`df2` is the bulk data used for testing."
   ]
  },
  {
   "cell_type": "code",
   "execution_count": 27,
   "metadata": {
    "id": "uE8-840_HwMo"
   },
   "outputs": [],
   "source": [
    "df2 = pd.DataFrame(np.zeros((12, 6000), dtype=int), columns=data2.columns)"
   ]
  },
  {
   "cell_type": "code",
   "execution_count": 28,
   "metadata": {
    "id": "T6KAnCLFLa-b"
   },
   "outputs": [],
   "source": [
    "for gene in genes:\n",
    "    df2[gene] = bulk_data[gene].values"
   ]
  },
  {
   "cell_type": "code",
   "execution_count": 29,
   "metadata": {
    "id": "p8N3tbla8DQw"
   },
   "outputs": [],
   "source": [
    "for gene in sc_genes:\n",
    "    if gene not in bulk_genes_set:\n",
    "        df2[f'{gene}_missing'] = 1"
   ]
  },
  {
   "cell_type": "code",
   "execution_count": 30,
   "metadata": {
    "colab": {
     "base_uri": "https://localhost:8080/"
    },
    "id": "1IU2u0SzKpj5",
    "outputId": "c8b9cce7-9922-41a3-8710-3371fe6c8a9f"
   },
   "outputs": [
    {
     "name": "stderr",
     "output_type": "stream",
     "text": [
      "/tmp/ipykernel_2873/1075454734.py:1: PerformanceWarning: DataFrame is highly fragmented.  This is usually the result of calling `frame.insert` many times, which has poor performance.  Consider joining all columns at once using pd.concat(axis=1) instead. To get a de-fragmented frame, use `newframe = frame.copy()`\n",
      "  df2['code'] = bulk_data['code'].values.astype(float)\n"
     ]
    }
   ],
   "source": [
    "df2['code'] = bulk_data['code'].values.astype(float)"
   ]
  },
  {
   "cell_type": "code",
   "execution_count": 31,
   "metadata": {
    "id": "07yvHb8Qp_-c"
   },
   "outputs": [],
   "source": [
    "def make_df(dataset):\n",
    "    genes_set = set(dataset.columns[:-1])\n",
    "    genes = [gene for gene in sc_genes if gene in genes_set]\n",
    "    mis_genes = [gene for gene in sc_genes if gene not in genes_set]\n",
    "    df = pd.DataFrame(np.zeros((dataset.shape[0], 6000), dtype=int), columns=data2.columns)\n",
    "    for gene in genes:\n",
    "        df[gene] = dataset[gene].values\n",
    "    for gene in sc_genes:\n",
    "        if gene not in genes_set:\n",
    "            df[f'{gene}_missing'] = 1\n",
    "    df['code'] = dataset['code'].values.astype(float)\n",
    "    print(f'% missing: {len(mis_genes)/3000*100}%')\n",
    "    return df.fillna(0)"
   ]
  },
  {
   "cell_type": "code",
   "execution_count": 47,
   "metadata": {
    "colab": {
     "base_uri": "https://localhost:8080/"
    },
    "id": "DEL-5qUetOiE",
    "outputId": "cb74e9cc-7ebc-4c91-db02-b8b15e4b9e50"
   },
   "outputs": [
    {
     "name": "stderr",
     "output_type": "stream",
     "text": [
      "/tmp/ipykernel_2873/3986161752.py:11: PerformanceWarning: DataFrame is highly fragmented.  This is usually the result of calling `frame.insert` many times, which has poor performance.  Consider joining all columns at once using pd.concat(axis=1) instead. To get a de-fragmented frame, use `newframe = frame.copy()`\n",
      "  df['code'] = dataset['code'].values.astype(float)\n"
     ]
    },
    {
     "name": "stdout",
     "output_type": "stream",
     "text": [
      "% missing: 47.56666666666667%\n"
     ]
    },
    {
     "name": "stderr",
     "output_type": "stream",
     "text": [
      "/tmp/ipykernel_2873/3986161752.py:11: PerformanceWarning: DataFrame is highly fragmented.  This is usually the result of calling `frame.insert` many times, which has poor performance.  Consider joining all columns at once using pd.concat(axis=1) instead. To get a de-fragmented frame, use `newframe = frame.copy()`\n",
      "  df['code'] = dataset['code'].values.astype(float)\n"
     ]
    },
    {
     "name": "stdout",
     "output_type": "stream",
     "text": [
      "% missing: 47.56666666666667%\n"
     ]
    },
    {
     "name": "stderr",
     "output_type": "stream",
     "text": [
      "/tmp/ipykernel_2873/3986161752.py:11: PerformanceWarning: DataFrame is highly fragmented.  This is usually the result of calling `frame.insert` many times, which has poor performance.  Consider joining all columns at once using pd.concat(axis=1) instead. To get a de-fragmented frame, use `newframe = frame.copy()`\n",
      "  df['code'] = dataset['code'].values.astype(float)\n"
     ]
    },
    {
     "name": "stdout",
     "output_type": "stream",
     "text": [
      "% missing: 47.56666666666667%\n"
     ]
    },
    {
     "name": "stderr",
     "output_type": "stream",
     "text": [
      "/tmp/ipykernel_2873/3986161752.py:11: PerformanceWarning: DataFrame is highly fragmented.  This is usually the result of calling `frame.insert` many times, which has poor performance.  Consider joining all columns at once using pd.concat(axis=1) instead. To get a de-fragmented frame, use `newframe = frame.copy()`\n",
      "  df['code'] = dataset['code'].values.astype(float)\n"
     ]
    },
    {
     "name": "stdout",
     "output_type": "stream",
     "text": [
      "% missing: 39.266666666666666%\n"
     ]
    },
    {
     "name": "stderr",
     "output_type": "stream",
     "text": [
      "/tmp/ipykernel_2873/3986161752.py:11: PerformanceWarning: DataFrame is highly fragmented.  This is usually the result of calling `frame.insert` many times, which has poor performance.  Consider joining all columns at once using pd.concat(axis=1) instead. To get a de-fragmented frame, use `newframe = frame.copy()`\n",
      "  df['code'] = dataset['code'].values.astype(float)\n",
      "/tmp/ipykernel_2873/3986161752.py:13: FutureWarning: Downcasting object dtype arrays on .fillna, .ffill, .bfill is deprecated and will change in a future version. Call result.infer_objects(copy=False) instead. To opt-in to the future behavior, set `pd.set_option('future.no_silent_downcasting', True)`\n",
      "  return df.fillna(0)\n"
     ]
    },
    {
     "name": "stdout",
     "output_type": "stream",
     "text": [
      "% missing: 2.0%\n"
     ]
    }
   ],
   "source": [
    "nascent_df = make_df(nascent)\n",
    "gro_df = make_df(gro)\n",
    "rna_df = make_df(bulk_data)\n",
    "hepa_df = make_df(hepa)\n",
    "more_df = make_df(more_data)"
   ]
  },
  {
   "cell_type": "code",
   "execution_count": 109,
   "metadata": {},
   "outputs": [
    {
     "data": {
      "text/plain": [
       "Meg3                    -2.843593e-17\n",
       "Slc1a2                  -1.137437e-16\n",
       "Rian                    -7.108982e-18\n",
       "Cyp2c40                 -1.386251e-16\n",
       "Cyp2c69                  6.042635e-17\n",
       "                             ...     \n",
       "Sept8_missing            0.000000e+00\n",
       "Cfap52_missing           0.000000e+00\n",
       "Arhgap27_missing         0.000000e+00\n",
       "F730043M19Rik_missing    0.000000e+00\n",
       "Bora_missing             0.000000e+00\n",
       "Length: 6000, dtype: float64"
      ]
     },
     "execution_count": 109,
     "metadata": {},
     "output_type": "execute_result"
    }
   ],
   "source": [
    "df.iloc[:,:-2].mean(axis=0)"
   ]
  },
  {
   "cell_type": "code",
   "execution_count": 107,
   "metadata": {},
   "outputs": [
    {
     "data": {
      "text/plain": [
       "Meg3                     1.0\n",
       "Slc1a2                   1.0\n",
       "Rian                     1.0\n",
       "Cyp2c40                  1.0\n",
       "Cyp2c69                  1.0\n",
       "                        ... \n",
       "Sept8_missing            0.0\n",
       "Cfap52_missing           0.0\n",
       "Arhgap27_missing         0.0\n",
       "F730043M19Rik_missing    0.0\n",
       "Bora_missing             0.0\n",
       "Length: 6000, dtype: float64"
      ]
     },
     "execution_count": 107,
     "metadata": {},
     "output_type": "execute_result"
    }
   ],
   "source": [
    "df.iloc[:,:-2].std(axis=0)"
   ]
  },
  {
   "cell_type": "code",
   "execution_count": 110,
   "metadata": {},
   "outputs": [
    {
     "data": {
      "text/plain": [
       "Meg3                      2.321699\n",
       "Slc1a2                   32.353003\n",
       "Rian                      1.801713\n",
       "Cyp2c40                  55.530336\n",
       "Cyp2c69                  64.419805\n",
       "                           ...    \n",
       "Cfap52_missing            0.000000\n",
       "Arhgap27_missing          0.000000\n",
       "F730043M19Rik_missing     0.000000\n",
       "Bora_missing              0.000000\n",
       "code                     13.593978\n",
       "Length: 6001, dtype: float64"
      ]
     },
     "execution_count": 110,
     "metadata": {},
     "output_type": "execute_result"
    }
   ],
   "source": [
    "more_df.mean(axis=0)"
   ]
  },
  {
   "cell_type": "code",
   "execution_count": 111,
   "metadata": {},
   "outputs": [
    {
     "data": {
      "text/plain": [
       "Meg3                     0.000000e+00\n",
       "Slc1a2                  -1.110223e-16\n",
       "Rian                     0.000000e+00\n",
       "Cyp2c40                  0.000000e+00\n",
       "Cyp2c69                  0.000000e+00\n",
       "                             ...     \n",
       "Sept8_missing            1.000000e+00\n",
       "Cfap52_missing           1.000000e+00\n",
       "Arhgap27_missing         0.000000e+00\n",
       "F730043M19Rik_missing    1.000000e+00\n",
       "Bora_missing             1.000000e+00\n",
       "Length: 6000, dtype: float64"
      ]
     },
     "execution_count": 111,
     "metadata": {},
     "output_type": "execute_result"
    }
   ],
   "source": [
    "nascent_df.iloc[:,:-1].mean(axis=0)"
   ]
  },
  {
   "cell_type": "code",
   "execution_count": 34,
   "metadata": {},
   "outputs": [
    {
     "data": {
      "text/html": [
       "<div>\n",
       "<style scoped>\n",
       "    .dataframe tbody tr th:only-of-type {\n",
       "        vertical-align: middle;\n",
       "    }\n",
       "\n",
       "    .dataframe tbody tr th {\n",
       "        vertical-align: top;\n",
       "    }\n",
       "\n",
       "    .dataframe thead th {\n",
       "        text-align: right;\n",
       "    }\n",
       "</style>\n",
       "<table border=\"1\" class=\"dataframe\">\n",
       "  <thead>\n",
       "    <tr style=\"text-align: right;\">\n",
       "      <th></th>\n",
       "      <th>Meg3</th>\n",
       "      <th>Slc1a2</th>\n",
       "      <th>Rian</th>\n",
       "      <th>Cyp2c40</th>\n",
       "      <th>Cyp2c69</th>\n",
       "      <th>Sgcz</th>\n",
       "      <th>Glul</th>\n",
       "      <th>Ugt2b37</th>\n",
       "      <th>Tmeff2</th>\n",
       "      <th>B830012L14Rik</th>\n",
       "      <th>...</th>\n",
       "      <th>Tmtc4_missing</th>\n",
       "      <th>Mpp6_missing</th>\n",
       "      <th>Ralgps1_missing</th>\n",
       "      <th>Zfp580_missing</th>\n",
       "      <th>Sept8_missing</th>\n",
       "      <th>Cfap52_missing</th>\n",
       "      <th>Arhgap27_missing</th>\n",
       "      <th>F730043M19Rik_missing</th>\n",
       "      <th>Bora_missing</th>\n",
       "      <th>code</th>\n",
       "    </tr>\n",
       "  </thead>\n",
       "  <tbody>\n",
       "    <tr>\n",
       "      <th>0</th>\n",
       "      <td>0</td>\n",
       "      <td>-0.067054</td>\n",
       "      <td>0</td>\n",
       "      <td>0</td>\n",
       "      <td>0</td>\n",
       "      <td>0</td>\n",
       "      <td>0.088407</td>\n",
       "      <td>0</td>\n",
       "      <td>0</td>\n",
       "      <td>0</td>\n",
       "      <td>...</td>\n",
       "      <td>0</td>\n",
       "      <td>0</td>\n",
       "      <td>1</td>\n",
       "      <td>1</td>\n",
       "      <td>1</td>\n",
       "      <td>1</td>\n",
       "      <td>0</td>\n",
       "      <td>1</td>\n",
       "      <td>1</td>\n",
       "      <td>1.0</td>\n",
       "    </tr>\n",
       "    <tr>\n",
       "      <th>1</th>\n",
       "      <td>0</td>\n",
       "      <td>1.100279</td>\n",
       "      <td>0</td>\n",
       "      <td>0</td>\n",
       "      <td>0</td>\n",
       "      <td>0</td>\n",
       "      <td>1.173718</td>\n",
       "      <td>0</td>\n",
       "      <td>0</td>\n",
       "      <td>0</td>\n",
       "      <td>...</td>\n",
       "      <td>0</td>\n",
       "      <td>0</td>\n",
       "      <td>1</td>\n",
       "      <td>1</td>\n",
       "      <td>1</td>\n",
       "      <td>1</td>\n",
       "      <td>0</td>\n",
       "      <td>1</td>\n",
       "      <td>1</td>\n",
       "      <td>4.0</td>\n",
       "    </tr>\n",
       "    <tr>\n",
       "      <th>2</th>\n",
       "      <td>0</td>\n",
       "      <td>1.231392</td>\n",
       "      <td>0</td>\n",
       "      <td>0</td>\n",
       "      <td>0</td>\n",
       "      <td>0</td>\n",
       "      <td>0.848808</td>\n",
       "      <td>0</td>\n",
       "      <td>0</td>\n",
       "      <td>0</td>\n",
       "      <td>...</td>\n",
       "      <td>0</td>\n",
       "      <td>0</td>\n",
       "      <td>1</td>\n",
       "      <td>1</td>\n",
       "      <td>1</td>\n",
       "      <td>1</td>\n",
       "      <td>0</td>\n",
       "      <td>1</td>\n",
       "      <td>1</td>\n",
       "      <td>7.0</td>\n",
       "    </tr>\n",
       "    <tr>\n",
       "      <th>3</th>\n",
       "      <td>0</td>\n",
       "      <td>0.568757</td>\n",
       "      <td>0</td>\n",
       "      <td>0</td>\n",
       "      <td>0</td>\n",
       "      <td>0</td>\n",
       "      <td>0.572537</td>\n",
       "      <td>0</td>\n",
       "      <td>0</td>\n",
       "      <td>0</td>\n",
       "      <td>...</td>\n",
       "      <td>0</td>\n",
       "      <td>0</td>\n",
       "      <td>1</td>\n",
       "      <td>1</td>\n",
       "      <td>1</td>\n",
       "      <td>1</td>\n",
       "      <td>0</td>\n",
       "      <td>1</td>\n",
       "      <td>1</td>\n",
       "      <td>10.0</td>\n",
       "    </tr>\n",
       "    <tr>\n",
       "      <th>4</th>\n",
       "      <td>0</td>\n",
       "      <td>0.038635</td>\n",
       "      <td>0</td>\n",
       "      <td>0</td>\n",
       "      <td>0</td>\n",
       "      <td>0</td>\n",
       "      <td>0.383906</td>\n",
       "      <td>0</td>\n",
       "      <td>0</td>\n",
       "      <td>0</td>\n",
       "      <td>...</td>\n",
       "      <td>0</td>\n",
       "      <td>0</td>\n",
       "      <td>1</td>\n",
       "      <td>1</td>\n",
       "      <td>1</td>\n",
       "      <td>1</td>\n",
       "      <td>0</td>\n",
       "      <td>1</td>\n",
       "      <td>1</td>\n",
       "      <td>13.0</td>\n",
       "    </tr>\n",
       "  </tbody>\n",
       "</table>\n",
       "<p>5 rows × 6001 columns</p>\n",
       "</div>"
      ],
      "text/plain": [
       "   Meg3    Slc1a2  Rian  Cyp2c40  Cyp2c69  Sgcz      Glul  Ugt2b37  Tmeff2  \\\n",
       "0     0 -0.067054     0        0        0     0  0.088407        0       0   \n",
       "1     0  1.100279     0        0        0     0  1.173718        0       0   \n",
       "2     0  1.231392     0        0        0     0  0.848808        0       0   \n",
       "3     0  0.568757     0        0        0     0  0.572537        0       0   \n",
       "4     0  0.038635     0        0        0     0  0.383906        0       0   \n",
       "\n",
       "   B830012L14Rik  ...  Tmtc4_missing  Mpp6_missing  Ralgps1_missing  \\\n",
       "0              0  ...              0             0                1   \n",
       "1              0  ...              0             0                1   \n",
       "2              0  ...              0             0                1   \n",
       "3              0  ...              0             0                1   \n",
       "4              0  ...              0             0                1   \n",
       "\n",
       "   Zfp580_missing  Sept8_missing  Cfap52_missing  Arhgap27_missing  \\\n",
       "0               1              1               1                 0   \n",
       "1               1              1               1                 0   \n",
       "2               1              1               1                 0   \n",
       "3               1              1               1                 0   \n",
       "4               1              1               1                 0   \n",
       "\n",
       "   F730043M19Rik_missing  Bora_missing  code  \n",
       "0                      1             1   1.0  \n",
       "1                      1             1   4.0  \n",
       "2                      1             1   7.0  \n",
       "3                      1             1  10.0  \n",
       "4                      1             1  13.0  \n",
       "\n",
       "[5 rows x 6001 columns]"
      ]
     },
     "execution_count": 34,
     "metadata": {},
     "output_type": "execute_result"
    }
   ],
   "source": [
    "gro_df.head()"
   ]
  },
  {
   "cell_type": "code",
   "execution_count": 35,
   "metadata": {},
   "outputs": [
    {
     "data": {
      "text/html": [
       "<div>\n",
       "<style scoped>\n",
       "    .dataframe tbody tr th:only-of-type {\n",
       "        vertical-align: middle;\n",
       "    }\n",
       "\n",
       "    .dataframe tbody tr th {\n",
       "        vertical-align: top;\n",
       "    }\n",
       "\n",
       "    .dataframe thead th {\n",
       "        text-align: right;\n",
       "    }\n",
       "</style>\n",
       "<table border=\"1\" class=\"dataframe\">\n",
       "  <thead>\n",
       "    <tr style=\"text-align: right;\">\n",
       "      <th></th>\n",
       "      <th>Meg3</th>\n",
       "      <th>Slc1a2</th>\n",
       "      <th>Rian</th>\n",
       "      <th>Cyp2c40</th>\n",
       "      <th>Cyp2c69</th>\n",
       "      <th>Sgcz</th>\n",
       "      <th>Glul</th>\n",
       "      <th>Ugt2b37</th>\n",
       "      <th>Tmeff2</th>\n",
       "      <th>B830012L14Rik</th>\n",
       "      <th>...</th>\n",
       "      <th>Tmtc4_missing</th>\n",
       "      <th>Mpp6_missing</th>\n",
       "      <th>Ralgps1_missing</th>\n",
       "      <th>Zfp580_missing</th>\n",
       "      <th>Sept8_missing</th>\n",
       "      <th>Cfap52_missing</th>\n",
       "      <th>Arhgap27_missing</th>\n",
       "      <th>F730043M19Rik_missing</th>\n",
       "      <th>Bora_missing</th>\n",
       "      <th>code</th>\n",
       "    </tr>\n",
       "  </thead>\n",
       "  <tbody>\n",
       "    <tr>\n",
       "      <th>0</th>\n",
       "      <td>1.565217</td>\n",
       "      <td>-0.414533</td>\n",
       "      <td>0</td>\n",
       "      <td>0</td>\n",
       "      <td>0</td>\n",
       "      <td>-0.255495</td>\n",
       "      <td>-0.276171</td>\n",
       "      <td>0</td>\n",
       "      <td>0.143045</td>\n",
       "      <td>0</td>\n",
       "      <td>...</td>\n",
       "      <td>0</td>\n",
       "      <td>1</td>\n",
       "      <td>0</td>\n",
       "      <td>0</td>\n",
       "      <td>1</td>\n",
       "      <td>0</td>\n",
       "      <td>0</td>\n",
       "      <td>1</td>\n",
       "      <td>0</td>\n",
       "      <td>1.0</td>\n",
       "    </tr>\n",
       "    <tr>\n",
       "      <th>1</th>\n",
       "      <td>-0.051828</td>\n",
       "      <td>-1.118891</td>\n",
       "      <td>0</td>\n",
       "      <td>0</td>\n",
       "      <td>0</td>\n",
       "      <td>-0.255495</td>\n",
       "      <td>-0.081315</td>\n",
       "      <td>0</td>\n",
       "      <td>0.600788</td>\n",
       "      <td>0</td>\n",
       "      <td>...</td>\n",
       "      <td>0</td>\n",
       "      <td>1</td>\n",
       "      <td>0</td>\n",
       "      <td>0</td>\n",
       "      <td>1</td>\n",
       "      <td>0</td>\n",
       "      <td>0</td>\n",
       "      <td>1</td>\n",
       "      <td>0</td>\n",
       "      <td>1.0</td>\n",
       "    </tr>\n",
       "    <tr>\n",
       "      <th>2</th>\n",
       "      <td>0.756694</td>\n",
       "      <td>-1.301938</td>\n",
       "      <td>0</td>\n",
       "      <td>0</td>\n",
       "      <td>0</td>\n",
       "      <td>-0.255495</td>\n",
       "      <td>-0.545032</td>\n",
       "      <td>0</td>\n",
       "      <td>1.287404</td>\n",
       "      <td>0</td>\n",
       "      <td>...</td>\n",
       "      <td>0</td>\n",
       "      <td>1</td>\n",
       "      <td>0</td>\n",
       "      <td>0</td>\n",
       "      <td>1</td>\n",
       "      <td>0</td>\n",
       "      <td>0</td>\n",
       "      <td>1</td>\n",
       "      <td>0</td>\n",
       "      <td>1.0</td>\n",
       "    </tr>\n",
       "    <tr>\n",
       "      <th>3</th>\n",
       "      <td>-0.238411</td>\n",
       "      <td>-0.776346</td>\n",
       "      <td>0</td>\n",
       "      <td>0</td>\n",
       "      <td>0</td>\n",
       "      <td>-0.255495</td>\n",
       "      <td>-0.703010</td>\n",
       "      <td>0</td>\n",
       "      <td>1.287404</td>\n",
       "      <td>0</td>\n",
       "      <td>...</td>\n",
       "      <td>0</td>\n",
       "      <td>1</td>\n",
       "      <td>0</td>\n",
       "      <td>0</td>\n",
       "      <td>1</td>\n",
       "      <td>0</td>\n",
       "      <td>0</td>\n",
       "      <td>1</td>\n",
       "      <td>0</td>\n",
       "      <td>4.0</td>\n",
       "    </tr>\n",
       "    <tr>\n",
       "      <th>4</th>\n",
       "      <td>0.041463</td>\n",
       "      <td>-0.905870</td>\n",
       "      <td>0</td>\n",
       "      <td>0</td>\n",
       "      <td>0</td>\n",
       "      <td>-0.255495</td>\n",
       "      <td>-0.158310</td>\n",
       "      <td>0</td>\n",
       "      <td>1.287404</td>\n",
       "      <td>0</td>\n",
       "      <td>...</td>\n",
       "      <td>0</td>\n",
       "      <td>1</td>\n",
       "      <td>0</td>\n",
       "      <td>0</td>\n",
       "      <td>1</td>\n",
       "      <td>0</td>\n",
       "      <td>0</td>\n",
       "      <td>1</td>\n",
       "      <td>0</td>\n",
       "      <td>4.0</td>\n",
       "    </tr>\n",
       "  </tbody>\n",
       "</table>\n",
       "<p>5 rows × 6001 columns</p>\n",
       "</div>"
      ],
      "text/plain": [
       "       Meg3    Slc1a2  Rian  Cyp2c40  Cyp2c69      Sgcz      Glul  Ugt2b37  \\\n",
       "0  1.565217 -0.414533     0        0        0 -0.255495 -0.276171        0   \n",
       "1 -0.051828 -1.118891     0        0        0 -0.255495 -0.081315        0   \n",
       "2  0.756694 -1.301938     0        0        0 -0.255495 -0.545032        0   \n",
       "3 -0.238411 -0.776346     0        0        0 -0.255495 -0.703010        0   \n",
       "4  0.041463 -0.905870     0        0        0 -0.255495 -0.158310        0   \n",
       "\n",
       "     Tmeff2  B830012L14Rik  ...  Tmtc4_missing  Mpp6_missing  Ralgps1_missing  \\\n",
       "0  0.143045              0  ...              0             1                0   \n",
       "1  0.600788              0  ...              0             1                0   \n",
       "2  1.287404              0  ...              0             1                0   \n",
       "3  1.287404              0  ...              0             1                0   \n",
       "4  1.287404              0  ...              0             1                0   \n",
       "\n",
       "   Zfp580_missing  Sept8_missing  Cfap52_missing  Arhgap27_missing  \\\n",
       "0               0              1               0                 0   \n",
       "1               0              1               0                 0   \n",
       "2               0              1               0                 0   \n",
       "3               0              1               0                 0   \n",
       "4               0              1               0                 0   \n",
       "\n",
       "   F730043M19Rik_missing  Bora_missing  code  \n",
       "0                      1             0   1.0  \n",
       "1                      1             0   1.0  \n",
       "2                      1             0   1.0  \n",
       "3                      1             0   4.0  \n",
       "4                      1             0   4.0  \n",
       "\n",
       "[5 rows x 6001 columns]"
      ]
     },
     "execution_count": 35,
     "metadata": {},
     "output_type": "execute_result"
    }
   ],
   "source": [
    "hepa_df.head()"
   ]
  },
  {
   "cell_type": "code",
   "execution_count": 73,
   "metadata": {},
   "outputs": [
    {
     "data": {
      "text/plain": [
       "0"
      ]
     },
     "execution_count": 73,
     "metadata": {},
     "output_type": "execute_result"
    }
   ],
   "source": [
    "hepa_df.isna().sum().sum()"
   ]
  },
  {
   "cell_type": "markdown",
   "metadata": {
    "id": "95SE_jm6m01h"
   },
   "source": [
    "## Using Pytorch"
   ]
  },
  {
   "cell_type": "code",
   "execution_count": 48,
   "metadata": {
    "id": "N5t4EYXDK05y"
   },
   "outputs": [
    {
     "name": "stderr",
     "output_type": "stream",
     "text": [
      "/tmp/ipykernel_2873/3413784403.py:1: FutureWarning: Series.__getitem__ treating keys as positions is deprecated. In a future version, integer keys will always be treated as labels (consistent with DataFrame behavior). To access a value by position, use `ser.iloc[pos]`\n",
      "  t_dep = tensor(df['code'], dtype=torch.float)\n"
     ]
    }
   ],
   "source": [
    "t_dep = tensor(df['code'], dtype=torch.float)\n",
    "indep_cols = list(df.columns)[:-2]\n",
    "t_indep = tensor(df[indep_cols].values, dtype=torch.float32)"
   ]
  },
  {
   "cell_type": "code",
   "execution_count": 49,
   "metadata": {
    "id": "bsmF6bLfKPAn"
   },
   "outputs": [],
   "source": [
    "# from fastai.data.transforms import RandomSplitter\n",
    "def RandomSplitter(valid_pct=0.2, seed=None):\n",
    "    \"Create function that splits `items` between train/val with `valid_pct` randomly.\"\n",
    "    def _inner(o):\n",
    "        if seed is not None: torch.manual_seed(seed)\n",
    "        rand_idx = list(torch.randperm(len(o)).numpy())\n",
    "        cut = int(valid_pct * len(o))\n",
    "        return rand_idx[cut:],rand_idx[:cut]\n",
    "    return _inner\n",
    "trn_split,val_split=RandomSplitter(seed=42)(df)"
   ]
  },
  {
   "cell_type": "code",
   "execution_count": 50,
   "metadata": {
    "id": "sIObZzNvYVZC"
   },
   "outputs": [],
   "source": [
    "trn_indep,val_indep = t_indep[trn_split],t_indep[val_split]\n",
    "trn_dep,val_dep = t_dep[trn_split],t_dep[val_split]"
   ]
  },
  {
   "cell_type": "code",
   "execution_count": 51,
   "metadata": {
    "colab": {
     "base_uri": "https://localhost:8080/"
    },
    "id": "bqjmQJSHOCKe",
    "outputId": "d2d3518a-57c3-4c53-9d9a-f6b1459e0438"
   },
   "outputs": [
    {
     "data": {
      "text/plain": [
       "(torch.Size([12794, 1]), torch.Size([3198, 1]))"
      ]
     },
     "execution_count": 51,
     "metadata": {},
     "output_type": "execute_result"
    }
   ],
   "source": [
    "trn_dep.unsqueeze_(-1), val_dep.unsqueeze_(-1)\n",
    "trn_dep.shape, val_dep.shape"
   ]
  },
  {
   "cell_type": "markdown",
   "metadata": {
    "id": "VYYI0yuJm7vE"
   },
   "source": [
    "### DataLoaders"
   ]
  },
  {
   "cell_type": "markdown",
   "metadata": {
    "id": "LsTRYzzIs3QC"
   },
   "source": [
    "Pretty much the same as the previous approach with bulk data as the test data."
   ]
  },
  {
   "cell_type": "code",
   "execution_count": 52,
   "metadata": {
    "colab": {
     "base_uri": "https://localhost:8080/"
    },
    "id": "3gUxwJiFarno",
    "outputId": "b4541701-6778-4ef4-9327-713926137e49"
   },
   "outputs": [
    {
     "data": {
      "text/plain": [
       "(torch.Size([128, 6000]), torch.Size([128, 1]))"
      ]
     },
     "execution_count": 52,
     "metadata": {},
     "output_type": "execute_result"
    }
   ],
   "source": [
    "bs = 128\n",
    "n_workers = 2\n",
    "\n",
    "trn_dl = DataLoader(list(zip(trn_indep, trn_dep)), batch_size=bs, shuffle=True, num_workers=n_workers)\n",
    "val_dl = DataLoader(list(zip(val_indep, val_dep)), batch_size=bs, shuffle=False, num_workers=n_workers)\n",
    "dls = DataLoaders(trn_dl, val_dl)\n",
    "dt = dls.train\n",
    "xb, yb = next(iter(dt))\n",
    "xb.shape, yb.shape"
   ]
  },
  {
   "cell_type": "code",
   "execution_count": 53,
   "metadata": {
    "id": "TIp5zpV3xzNK"
   },
   "outputs": [],
   "source": [
    "def make_dl(df):\n",
    "    tst_dep = tensor(df['code'], dtype=torch.float)\n",
    "    tst_indep_cols = list(df.columns)[:-1]\n",
    "    tst_indep = tensor(df[tst_indep_cols].values, dtype=torch.float32)\n",
    "    tst_dep.unsqueeze_(-1)\n",
    "    return DataLoader(list(zip(tst_indep, tst_dep)), shuffle=False, num_workers=n_workers)"
   ]
  },
  {
   "cell_type": "code",
   "execution_count": 55,
   "metadata": {
    "id": "CsRKnBzGxP6K"
   },
   "outputs": [],
   "source": [
    "nascent_dl = make_dl(nascent_df)\n",
    "gro_dl = make_dl(gro_df)\n",
    "rna_dl = make_dl(rna_df)\n",
    "hepa_dl = make_dl(hepa_df)\n",
    "more_dl = make_dl(more_df)\n",
    "tst_dls = {'nascent':nascent_dl, 'gro':gro_dl, 'rna':rna_dl, 'hepa':hepa_dl, 'more': more_dl}"
   ]
  },
  {
   "cell_type": "markdown",
   "metadata": {
    "id": "YGGPT3pygOsQ"
   },
   "source": [
    "Changing the metric to R2Score."
   ]
  },
  {
   "cell_type": "code",
   "execution_count": 56,
   "metadata": {
    "id": "FxAJhiYGcNyK"
   },
   "outputs": [],
   "source": [
    "from torcheval.metrics import R2Score\n",
    "metrics = MetricsCB(TimeR2Score=TimeR2Score())\n",
    "metric_fn = TimeR2Score\n",
    "# metrics = MetricsCB(R2Score=R2Score())\n",
    "cbs = [DeviceCB(), metrics, ProgressCB(plot=True)]"
   ]
  },
  {
   "cell_type": "markdown",
   "metadata": {
    "id": "B824FVJajS4b"
   },
   "source": [
    "## Training"
   ]
  },
  {
   "cell_type": "code",
   "execution_count": 57,
   "metadata": {
    "id": "r89TZI6CBbHT"
   },
   "outputs": [],
   "source": [
    "def get_model():\n",
    "    return nn.Sequential(*[nn.Linear(len(indep_cols), 100), nn.ReLU(), nn.Linear(100, 100), nn.ReLU(), nn.Linear(100, 1), nn.Flatten(), TimeLayer()])"
   ]
  },
  {
   "cell_type": "markdown",
   "metadata": {
    "id": "KZqZlJ5tutmI"
   },
   "source": [
    "Change the shape of the inputs to match the shape of targets."
   ]
  },
  {
   "cell_type": "code",
   "execution_count": 58,
   "metadata": {
    "colab": {
     "base_uri": "https://localhost:8080/"
    },
    "id": "i48wcPLEuL8f",
    "outputId": "7871903a-3457-45f2-8241-ba9e8b09ee57"
   },
   "outputs": [
    {
     "data": {
      "text/plain": [
       "torch.Size([128, 1])"
      ]
     },
     "execution_count": 58,
     "metadata": {},
     "output_type": "execute_result"
    }
   ],
   "source": [
    "nn.Linear(len(indep_cols), 1)(xb).shape"
   ]
  },
  {
   "cell_type": "code",
   "execution_count": 59,
   "metadata": {
    "colab": {
     "base_uri": "https://localhost:8080/"
    },
    "id": "ejQXo2QNk754",
    "outputId": "9b3cb4bb-dfdd-4d81-bd95-3852d965bf22"
   },
   "outputs": [
    {
     "data": {
      "text/plain": [
       "torch.Size([128, 1])"
      ]
     },
     "execution_count": 59,
     "metadata": {},
     "output_type": "execute_result"
    }
   ],
   "source": [
    "get_model()(xb).shape"
   ]
  },
  {
   "cell_type": "code",
   "execution_count": 60,
   "metadata": {
    "colab": {
     "base_uri": "https://localhost:8080/",
     "height": 479
    },
    "id": "PWHkyOFvCiBR",
    "outputId": "0a2d6e68-00fd-4470-c4a4-190912a009d4"
   },
   "outputs": [
    {
     "data": {
      "text/html": [
       "\n",
       "<style>\n",
       "    /* Turns off some styling */\n",
       "    progress {\n",
       "        /* gets rid of default border in Firefox and Opera. */\n",
       "        border: none;\n",
       "        /* Needs to be in here for Safari polyfill so background images work as expected. */\n",
       "        background-size: auto;\n",
       "    }\n",
       "    progress:not([value]), progress:not([value])::-webkit-progress-bar {\n",
       "        background: repeating-linear-gradient(45deg, #7e7e7e, #7e7e7e 10px, #5c5c5c 10px, #5c5c5c 20px);\n",
       "    }\n",
       "    .progress-bar-interrupted, .progress-bar-interrupted::-webkit-progress-bar {\n",
       "        background: #F44336;\n",
       "    }\n",
       "</style>\n"
      ],
      "text/plain": [
       "<IPython.core.display.HTML object>"
      ]
     },
     "metadata": {},
     "output_type": "display_data"
    },
    {
     "data": {
      "text/html": [
       "\n",
       "    <div>\n",
       "      <progress value='0' class='' max='10' style='width:300px; height:20px; vertical-align: middle;'></progress>\n",
       "      0.00% [0/10 00:00&lt;?]\n",
       "    </div>\n",
       "    \n",
       "\n",
       "\n",
       "    <div>\n",
       "      <progress value='23' class='' max='100' style='width:300px; height:20px; vertical-align: middle;'></progress>\n",
       "      23.00% [23/100 00:00&lt;00:02 26.465]\n",
       "    </div>\n",
       "    "
      ],
      "text/plain": [
       "<IPython.core.display.HTML object>"
      ]
     },
     "metadata": {},
     "output_type": "display_data"
    },
    {
     "data": {
      "image/png": "[encoded data removed]",
      "text/plain": [
       "<Figure size 640x480 with 1 Axes>"
      ]
     },
     "metadata": {},
     "output_type": "display_data"
    }
   ],
   "source": [
    "TrainLearner(get_model(), dls, loss_func=loss_func, cbs=cbs).lr_find()"
   ]
  },
  {
   "cell_type": "code",
   "execution_count": 61,
   "metadata": {
    "colab": {
     "base_uri": "https://localhost:8080/",
     "height": 529
    },
    "id": "fbNcKGZdExG7",
    "outputId": "c4b13488-2eee-46ad-b5fa-cc6108b8b158"
   },
   "outputs": [
    {
     "data": {
      "text/html": [
       "\n",
       "<style>\n",
       "    /* Turns off some styling */\n",
       "    progress {\n",
       "        /* gets rid of default border in Firefox and Opera. */\n",
       "        border: none;\n",
       "        /* Needs to be in here for Safari polyfill so background images work as expected. */\n",
       "        background-size: auto;\n",
       "    }\n",
       "    progress:not([value]), progress:not([value])::-webkit-progress-bar {\n",
       "        background: repeating-linear-gradient(45deg, #7e7e7e, #7e7e7e 10px, #5c5c5c 10px, #5c5c5c 20px);\n",
       "    }\n",
       "    .progress-bar-interrupted, .progress-bar-interrupted::-webkit-progress-bar {\n",
       "        background: #F44336;\n",
       "    }\n",
       "</style>\n"
      ],
      "text/plain": [
       "<IPython.core.display.HTML object>"
      ]
     },
     "metadata": {},
     "output_type": "display_data"
    },
    {
     "data": {
      "text/html": [
       "<table border=\"1\" class=\"dataframe\">\n",
       "  <thead>\n",
       "    <tr style=\"text-align: left;\">\n",
       "      <th>TimeR2Score</th>\n",
       "      <th>loss</th>\n",
       "      <th>epoch</th>\n",
       "      <th>train</th>\n",
       "      <th>time</th>\n",
       "    </tr>\n",
       "  </thead>\n",
       "  <tbody>\n",
       "    <tr>\n",
       "      <td>0.844</td>\n",
       "      <td>7.316</td>\n",
       "      <td>0</td>\n",
       "      <td>True</td>\n",
       "      <td>00:02</td>\n",
       "    </tr>\n",
       "    <tr>\n",
       "      <td>0.964</td>\n",
       "      <td>1.675</td>\n",
       "      <td>0</td>\n",
       "      <td>False</td>\n",
       "      <td>00:00</td>\n",
       "    </tr>\n",
       "    <tr>\n",
       "      <td>0.980</td>\n",
       "      <td>0.920</td>\n",
       "      <td>1</td>\n",
       "      <td>True</td>\n",
       "      <td>00:02</td>\n",
       "    </tr>\n",
       "    <tr>\n",
       "      <td>0.969</td>\n",
       "      <td>1.442</td>\n",
       "      <td>1</td>\n",
       "      <td>False</td>\n",
       "      <td>00:00</td>\n",
       "    </tr>\n",
       "  </tbody>\n",
       "</table>"
      ],
      "text/plain": [
       "<IPython.core.display.HTML object>"
      ]
     },
     "metadata": {},
     "output_type": "display_data"
    },
    {
     "data": {
      "image/png": "[encoded data removed]",
      "text/plain": [
       "<Figure size 600x400 with 1 Axes>"
      ]
     },
     "metadata": {},
     "output_type": "display_data"
    }
   ],
   "source": [
    "lr, epochs = 1e-3, 2\n",
    "xtra = [get_sched(epochs, lr, dls)]\n",
    "learn = TrainLearner(get_model(), dls, lr=lr, loss_func=loss_func, cbs=cbs)\n",
    "learn.fit(epochs)"
   ]
  },
  {
   "cell_type": "markdown",
   "metadata": {
    "id": "U0kFoFqlIcrJ"
   },
   "source": [
    "## Ensemble"
   ]
  },
  {
   "cell_type": "code",
   "execution_count": 62,
   "metadata": {
    "id": "UOVm1kqh-AqM"
   },
   "outputs": [],
   "source": [
    "from functools import partial"
   ]
  },
  {
   "cell_type": "code",
   "execution_count": 63,
   "metadata": {
    "id": "zEmA9aStCEq6"
   },
   "outputs": [],
   "source": [
    "class CapturePreds(Callback):\n",
    "    def before_fit(self, learn): self.all_input, self.all_preds, self.all_targs = [], [], []\n",
    "\n",
    "    def after_batch(self, learn):\n",
    "        self.all_input.append(to_cpu(learn.batch[0]))\n",
    "        self.all_preds.append(to_cpu(learn.preds))\n",
    "        self.all_targs.append(to_cpu(learn.batch[1]))\n",
    "\n",
    "    def after_fit(self, learn):\n",
    "        self.all_input, self.all_preds, self.all_targs = map(torch.cat, [self.all_input, self.all_preds, self.all_targs])"
   ]
  },
  {
   "cell_type": "code",
   "execution_count": 64,
   "metadata": {
    "id": "Oc4A-pyPBbHl"
   },
   "outputs": [],
   "source": [
    "def ensemble_model(nlearn, get_model = get_model, tst_dls=tst_dls, epochs=5, lr=.03, loss_func=loss_func, cbs=cbs, opt_func=optim.SGD, metric_fn=metric_fn):\n",
    "    learners = [TrainLearner(get_model(), dls, lr=lr, loss_func=loss_func, cbs=cbs, opt_func=opt_func) for _ in range(nlearn)]\n",
    "    print('Training models')\n",
    "    for learn in learners:\n",
    "        learn.fit(epochs)\n",
    "    cps = [CapturePreds() for _ in range(nlearn)]\n",
    "    print('Making inference on test data')\n",
    "    for dl_name, tst_dl in tst_dls.items():\n",
    "        for learn, cp in zip(learners, cps):\n",
    "            learn.dls = DataLoaders((), tst_dl)\n",
    "            learn.fit(1, train=False, cbs=cp)\n",
    "        ap = torch.stack([cp.all_preds for cp in cps]).mean(0)\n",
    "        metric = metric_fn()\n",
    "        metric.update(ap, cps[0].all_targs)\n",
    "        print(f'Inference on {dl_name}')\n",
    "        print('\\t\\tpreds, targs')\n",
    "        print(torch.concat([ap, cps[0].all_targs], dim=1))\n",
    "        print('result: ', metric.compute())"
   ]
  },
  {
   "cell_type": "code",
   "execution_count": 65,
   "metadata": {
    "id": "kTzem5OXBbHn"
   },
   "outputs": [],
   "source": [
    "nlearn = 2"
   ]
  },
  {
   "cell_type": "code",
   "execution_count": 66,
   "metadata": {
    "colab": {
     "base_uri": "https://localhost:8080/",
     "height": 1000
    },
    "id": "Il-N-2kXBbHo",
    "outputId": "5550b676-ed6b-4942-88f0-dde546e72802",
    "scrolled": false
   },
   "outputs": [
    {
     "name": "stdout",
     "output_type": "stream",
     "text": [
      "Training models\n"
     ]
    },
    {
     "data": {
      "text/html": [
       "\n",
       "<style>\n",
       "    /* Turns off some styling */\n",
       "    progress {\n",
       "        /* gets rid of default border in Firefox and Opera. */\n",
       "        border: none;\n",
       "        /* Needs to be in here for Safari polyfill so background images work as expected. */\n",
       "        background-size: auto;\n",
       "    }\n",
       "    progress:not([value]), progress:not([value])::-webkit-progress-bar {\n",
       "        background: repeating-linear-gradient(45deg, #7e7e7e, #7e7e7e 10px, #5c5c5c 10px, #5c5c5c 20px);\n",
       "    }\n",
       "    .progress-bar-interrupted, .progress-bar-interrupted::-webkit-progress-bar {\n",
       "        background: #F44336;\n",
       "    }\n",
       "</style>\n"
      ],
      "text/plain": [
       "<IPython.core.display.HTML object>"
      ]
     },
     "metadata": {},
     "output_type": "display_data"
    },
    {
     "data": {
      "text/html": [
       "<table border=\"1\" class=\"dataframe\">\n",
       "  <thead>\n",
       "    <tr style=\"text-align: left;\">\n",
       "      <th>TimeR2Score</th>\n",
       "      <th>loss</th>\n",
       "      <th>epoch</th>\n",
       "      <th>train</th>\n",
       "      <th>time</th>\n",
       "    </tr>\n",
       "  </thead>\n",
       "  <tbody>\n",
       "    <tr>\n",
       "      <td>0.824</td>\n",
       "      <td>8.239</td>\n",
       "      <td>0</td>\n",
       "      <td>True</td>\n",
       "      <td>00:02</td>\n",
       "    </tr>\n",
       "    <tr>\n",
       "      <td>0.965</td>\n",
       "      <td>1.616</td>\n",
       "      <td>0</td>\n",
       "      <td>False</td>\n",
       "      <td>00:00</td>\n",
       "    </tr>\n",
       "    <tr>\n",
       "      <td>0.979</td>\n",
       "      <td>0.986</td>\n",
       "      <td>1</td>\n",
       "      <td>True</td>\n",
       "      <td>00:02</td>\n",
       "    </tr>\n",
       "    <tr>\n",
       "      <td>0.970</td>\n",
       "      <td>1.386</td>\n",
       "      <td>1</td>\n",
       "      <td>False</td>\n",
       "      <td>00:00</td>\n",
       "    </tr>\n",
       "  </tbody>\n",
       "</table>"
      ],
      "text/plain": [
       "<IPython.core.display.HTML object>"
      ]
     },
     "metadata": {},
     "output_type": "display_data"
    },
    {
     "data": {
      "image/png": "[encoded data removed]",
      "text/plain": [
       "<Figure size 600x400 with 1 Axes>"
      ]
     },
     "metadata": {},
     "output_type": "display_data"
    },
    {
     "data": {
      "text/html": [
       "\n",
       "<style>\n",
       "    /* Turns off some styling */\n",
       "    progress {\n",
       "        /* gets rid of default border in Firefox and Opera. */\n",
       "        border: none;\n",
       "        /* Needs to be in here for Safari polyfill so background images work as expected. */\n",
       "        background-size: auto;\n",
       "    }\n",
       "    progress:not([value]), progress:not([value])::-webkit-progress-bar {\n",
       "        background: repeating-linear-gradient(45deg, #7e7e7e, #7e7e7e 10px, #5c5c5c 10px, #5c5c5c 20px);\n",
       "    }\n",
       "    .progress-bar-interrupted, .progress-bar-interrupted::-webkit-progress-bar {\n",
       "        background: #F44336;\n",
       "    }\n",
       "</style>\n"
      ],
      "text/plain": [
       "<IPython.core.display.HTML object>"
      ]
     },
     "metadata": {},
     "output_type": "display_data"
    },
    {
     "data": {
      "text/html": [
       "<table border=\"1\" class=\"dataframe\">\n",
       "  <thead>\n",
       "    <tr style=\"text-align: left;\">\n",
       "      <th>TimeR2Score</th>\n",
       "      <th>loss</th>\n",
       "      <th>epoch</th>\n",
       "      <th>train</th>\n",
       "      <th>time</th>\n",
       "    </tr>\n",
       "  </thead>\n",
       "  <tbody>\n",
       "    <tr>\n",
       "      <td>0.826</td>\n",
       "      <td>8.182</td>\n",
       "      <td>0</td>\n",
       "      <td>True</td>\n",
       "      <td>00:02</td>\n",
       "    </tr>\n",
       "    <tr>\n",
       "      <td>0.966</td>\n",
       "      <td>1.648</td>\n",
       "      <td>0</td>\n",
       "      <td>False</td>\n",
       "      <td>00:00</td>\n",
       "    </tr>\n",
       "    <tr>\n",
       "      <td>0.980</td>\n",
       "      <td>0.928</td>\n",
       "      <td>1</td>\n",
       "      <td>True</td>\n",
       "      <td>00:02</td>\n",
       "    </tr>\n",
       "    <tr>\n",
       "      <td>0.970</td>\n",
       "      <td>1.429</td>\n",
       "      <td>1</td>\n",
       "      <td>False</td>\n",
       "      <td>00:00</td>\n",
       "    </tr>\n",
       "  </tbody>\n",
       "</table>"
      ],
      "text/plain": [
       "<IPython.core.display.HTML object>"
      ]
     },
     "metadata": {},
     "output_type": "display_data"
    },
    {
     "data": {
      "image/png": "[encoded data removed]",
      "text/plain": [
       "<Figure size 600x400 with 1 Axes>"
      ]
     },
     "metadata": {},
     "output_type": "display_data"
    },
    {
     "name": "stdout",
     "output_type": "stream",
     "text": [
      "Making inference on test data\n"
     ]
    },
    {
     "data": {
      "text/html": [
       "\n",
       "<style>\n",
       "    /* Turns off some styling */\n",
       "    progress {\n",
       "        /* gets rid of default border in Firefox and Opera. */\n",
       "        border: none;\n",
       "        /* Needs to be in here for Safari polyfill so background images work as expected. */\n",
       "        background-size: auto;\n",
       "    }\n",
       "    progress:not([value]), progress:not([value])::-webkit-progress-bar {\n",
       "        background: repeating-linear-gradient(45deg, #7e7e7e, #7e7e7e 10px, #5c5c5c 10px, #5c5c5c 20px);\n",
       "    }\n",
       "    .progress-bar-interrupted, .progress-bar-interrupted::-webkit-progress-bar {\n",
       "        background: #F44336;\n",
       "    }\n",
       "</style>\n"
      ],
      "text/plain": [
       "<IPython.core.display.HTML object>"
      ]
     },
     "metadata": {},
     "output_type": "display_data"
    },
    {
     "data": {
      "text/html": [
       "<table border=\"1\" class=\"dataframe\">\n",
       "  <thead>\n",
       "    <tr style=\"text-align: left;\">\n",
       "      <th>TimeR2Score</th>\n",
       "      <th>loss</th>\n",
       "      <th>epoch</th>\n",
       "      <th>train</th>\n",
       "      <th>time</th>\n",
       "    </tr>\n",
       "  </thead>\n",
       "  <tbody>\n",
       "    <tr>\n",
       "      <td>0.754</td>\n",
       "      <td>11.494</td>\n",
       "      <td>0</td>\n",
       "      <td>False</td>\n",
       "      <td>00:00</td>\n",
       "    </tr>\n",
       "  </tbody>\n",
       "</table>"
      ],
      "text/plain": [
       "<IPython.core.display.HTML object>"
      ]
     },
     "metadata": {},
     "output_type": "display_data"
    },
    {
     "data": {
      "text/html": [
       "\n",
       "<style>\n",
       "    /* Turns off some styling */\n",
       "    progress {\n",
       "        /* gets rid of default border in Firefox and Opera. */\n",
       "        border: none;\n",
       "        /* Needs to be in here for Safari polyfill so background images work as expected. */\n",
       "        background-size: auto;\n",
       "    }\n",
       "    progress:not([value]), progress:not([value])::-webkit-progress-bar {\n",
       "        background: repeating-linear-gradient(45deg, #7e7e7e, #7e7e7e 10px, #5c5c5c 10px, #5c5c5c 20px);\n",
       "    }\n",
       "    .progress-bar-interrupted, .progress-bar-interrupted::-webkit-progress-bar {\n",
       "        background: #F44336;\n",
       "    }\n",
       "</style>\n"
      ],
      "text/plain": [
       "<IPython.core.display.HTML object>"
      ]
     },
     "metadata": {},
     "output_type": "display_data"
    },
    {
     "data": {
      "text/html": [
       "<table border=\"1\" class=\"dataframe\">\n",
       "  <thead>\n",
       "    <tr style=\"text-align: left;\">\n",
       "      <th>TimeR2Score</th>\n",
       "      <th>loss</th>\n",
       "      <th>epoch</th>\n",
       "      <th>train</th>\n",
       "      <th>time</th>\n",
       "    </tr>\n",
       "  </thead>\n",
       "  <tbody>\n",
       "    <tr>\n",
       "      <td>0.710</td>\n",
       "      <td>13.556</td>\n",
       "      <td>0</td>\n",
       "      <td>False</td>\n",
       "      <td>00:00</td>\n",
       "    </tr>\n",
       "  </tbody>\n",
       "</table>"
      ],
      "text/plain": [
       "<IPython.core.display.HTML object>"
      ]
     },
     "metadata": {},
     "output_type": "display_data"
    },
    {
     "name": "stdout",
     "output_type": "stream",
     "text": [
      "Inference on nascent\n",
      "\t\tpreds, targs\n",
      "tensor([[ 4.9890,  0.0000],\n",
      "        [ 6.0666,  4.0000],\n",
      "        [ 9.8263,  8.0000],\n",
      "        [10.8710, 12.0000],\n",
      "        [13.4576, 16.0000],\n",
      "        [19.4136, 20.0000],\n",
      "        [ 8.5340,  0.0000],\n",
      "        [ 2.5354,  4.0000],\n",
      "        [11.5608,  8.0000],\n",
      "        [10.5335, 12.0000],\n",
      "        [19.7833, 16.0000],\n",
      "        [21.9432, 20.0000]])\n",
      "result:  tensor(0.7349)\n"
     ]
    },
    {
     "data": {
      "text/html": [
       "\n",
       "<style>\n",
       "    /* Turns off some styling */\n",
       "    progress {\n",
       "        /* gets rid of default border in Firefox and Opera. */\n",
       "        border: none;\n",
       "        /* Needs to be in here for Safari polyfill so background images work as expected. */\n",
       "        background-size: auto;\n",
       "    }\n",
       "    progress:not([value]), progress:not([value])::-webkit-progress-bar {\n",
       "        background: repeating-linear-gradient(45deg, #7e7e7e, #7e7e7e 10px, #5c5c5c 10px, #5c5c5c 20px);\n",
       "    }\n",
       "    .progress-bar-interrupted, .progress-bar-interrupted::-webkit-progress-bar {\n",
       "        background: #F44336;\n",
       "    }\n",
       "</style>\n"
      ],
      "text/plain": [
       "<IPython.core.display.HTML object>"
      ]
     },
     "metadata": {},
     "output_type": "display_data"
    },
    {
     "data": {
      "text/html": [
       "<table border=\"1\" class=\"dataframe\">\n",
       "  <thead>\n",
       "    <tr style=\"text-align: left;\">\n",
       "      <th>TimeR2Score</th>\n",
       "      <th>loss</th>\n",
       "      <th>epoch</th>\n",
       "      <th>train</th>\n",
       "      <th>time</th>\n",
       "    </tr>\n",
       "  </thead>\n",
       "  <tbody>\n",
       "    <tr>\n",
       "      <td>0.619</td>\n",
       "      <td>18.003</td>\n",
       "      <td>0</td>\n",
       "      <td>False</td>\n",
       "      <td>00:00</td>\n",
       "    </tr>\n",
       "  </tbody>\n",
       "</table>"
      ],
      "text/plain": [
       "<IPython.core.display.HTML object>"
      ]
     },
     "metadata": {},
     "output_type": "display_data"
    },
    {
     "data": {
      "text/html": [
       "\n",
       "<style>\n",
       "    /* Turns off some styling */\n",
       "    progress {\n",
       "        /* gets rid of default border in Firefox and Opera. */\n",
       "        border: none;\n",
       "        /* Needs to be in here for Safari polyfill so background images work as expected. */\n",
       "        background-size: auto;\n",
       "    }\n",
       "    progress:not([value]), progress:not([value])::-webkit-progress-bar {\n",
       "        background: repeating-linear-gradient(45deg, #7e7e7e, #7e7e7e 10px, #5c5c5c 10px, #5c5c5c 20px);\n",
       "    }\n",
       "    .progress-bar-interrupted, .progress-bar-interrupted::-webkit-progress-bar {\n",
       "        background: #F44336;\n",
       "    }\n",
       "</style>\n"
      ],
      "text/plain": [
       "<IPython.core.display.HTML object>"
      ]
     },
     "metadata": {},
     "output_type": "display_data"
    },
    {
     "data": {
      "text/html": [
       "<table border=\"1\" class=\"dataframe\">\n",
       "  <thead>\n",
       "    <tr style=\"text-align: left;\">\n",
       "      <th>TimeR2Score</th>\n",
       "      <th>loss</th>\n",
       "      <th>epoch</th>\n",
       "      <th>train</th>\n",
       "      <th>time</th>\n",
       "    </tr>\n",
       "  </thead>\n",
       "  <tbody>\n",
       "    <tr>\n",
       "      <td>0.700</td>\n",
       "      <td>14.181</td>\n",
       "      <td>0</td>\n",
       "      <td>False</td>\n",
       "      <td>00:00</td>\n",
       "    </tr>\n",
       "  </tbody>\n",
       "</table>"
      ],
      "text/plain": [
       "<IPython.core.display.HTML object>"
      ]
     },
     "metadata": {},
     "output_type": "display_data"
    },
    {
     "name": "stdout",
     "output_type": "stream",
     "text": [
      "Inference on gro\n",
      "\t\tpreds, targs\n",
      "tensor([[11.6871,  1.0000],\n",
      "        [ 4.2073,  4.0000],\n",
      "        [ 8.9618,  7.0000],\n",
      "        [10.0401, 10.0000],\n",
      "        [13.3782, 13.0000],\n",
      "        [14.0859, 16.0000],\n",
      "        [18.9493, 19.0000],\n",
      "        [19.6154, 22.0000]])\n",
      "result:  tensor(0.6624)\n"
     ]
    },
    {
     "data": {
      "text/html": [
       "\n",
       "<style>\n",
       "    /* Turns off some styling */\n",
       "    progress {\n",
       "        /* gets rid of default border in Firefox and Opera. */\n",
       "        border: none;\n",
       "        /* Needs to be in here for Safari polyfill so background images work as expected. */\n",
       "        background-size: auto;\n",
       "    }\n",
       "    progress:not([value]), progress:not([value])::-webkit-progress-bar {\n",
       "        background: repeating-linear-gradient(45deg, #7e7e7e, #7e7e7e 10px, #5c5c5c 10px, #5c5c5c 20px);\n",
       "    }\n",
       "    .progress-bar-interrupted, .progress-bar-interrupted::-webkit-progress-bar {\n",
       "        background: #F44336;\n",
       "    }\n",
       "</style>\n"
      ],
      "text/plain": [
       "<IPython.core.display.HTML object>"
      ]
     },
     "metadata": {},
     "output_type": "display_data"
    },
    {
     "data": {
      "text/html": [
       "<table border=\"1\" class=\"dataframe\">\n",
       "  <thead>\n",
       "    <tr style=\"text-align: left;\">\n",
       "      <th>TimeR2Score</th>\n",
       "      <th>loss</th>\n",
       "      <th>epoch</th>\n",
       "      <th>train</th>\n",
       "      <th>time</th>\n",
       "    </tr>\n",
       "  </thead>\n",
       "  <tbody>\n",
       "    <tr>\n",
       "      <td>0.702</td>\n",
       "      <td>13.886</td>\n",
       "      <td>0</td>\n",
       "      <td>False</td>\n",
       "      <td>00:00</td>\n",
       "    </tr>\n",
       "  </tbody>\n",
       "</table>"
      ],
      "text/plain": [
       "<IPython.core.display.HTML object>"
      ]
     },
     "metadata": {},
     "output_type": "display_data"
    },
    {
     "data": {
      "text/html": [
       "\n",
       "<style>\n",
       "    /* Turns off some styling */\n",
       "    progress {\n",
       "        /* gets rid of default border in Firefox and Opera. */\n",
       "        border: none;\n",
       "        /* Needs to be in here for Safari polyfill so background images work as expected. */\n",
       "        background-size: auto;\n",
       "    }\n",
       "    progress:not([value]), progress:not([value])::-webkit-progress-bar {\n",
       "        background: repeating-linear-gradient(45deg, #7e7e7e, #7e7e7e 10px, #5c5c5c 10px, #5c5c5c 20px);\n",
       "    }\n",
       "    .progress-bar-interrupted, .progress-bar-interrupted::-webkit-progress-bar {\n",
       "        background: #F44336;\n",
       "    }\n",
       "</style>\n"
      ],
      "text/plain": [
       "<IPython.core.display.HTML object>"
      ]
     },
     "metadata": {},
     "output_type": "display_data"
    },
    {
     "data": {
      "text/html": [
       "<table border=\"1\" class=\"dataframe\">\n",
       "  <thead>\n",
       "    <tr style=\"text-align: left;\">\n",
       "      <th>TimeR2Score</th>\n",
       "      <th>loss</th>\n",
       "      <th>epoch</th>\n",
       "      <th>train</th>\n",
       "      <th>time</th>\n",
       "    </tr>\n",
       "  </thead>\n",
       "  <tbody>\n",
       "    <tr>\n",
       "      <td>0.759</td>\n",
       "      <td>11.253</td>\n",
       "      <td>0</td>\n",
       "      <td>False</td>\n",
       "      <td>00:00</td>\n",
       "    </tr>\n",
       "  </tbody>\n",
       "</table>"
      ],
      "text/plain": [
       "<IPython.core.display.HTML object>"
      ]
     },
     "metadata": {},
     "output_type": "display_data"
    },
    {
     "name": "stdout",
     "output_type": "stream",
     "text": [
      "Inference on rna\n",
      "\t\tpreds, targs\n",
      "tensor([[ 4.9640,  2.0000],\n",
      "        [ 9.6432,  6.0000],\n",
      "        [ 9.2111, 10.0000],\n",
      "        [12.7288, 14.0000],\n",
      "        [19.3398, 18.0000],\n",
      "        [20.7746, 22.0000],\n",
      "        [ 6.9753,  2.0000],\n",
      "        [ 9.3815,  6.0000],\n",
      "        [10.9146, 10.0000],\n",
      "        [12.6055, 14.0000],\n",
      "        [19.1975, 18.0000],\n",
      "        [12.9757, 22.0000]])\n",
      "result:  tensor(0.7332)\n"
     ]
    },
    {
     "data": {
      "text/html": [
       "\n",
       "<style>\n",
       "    /* Turns off some styling */\n",
       "    progress {\n",
       "        /* gets rid of default border in Firefox and Opera. */\n",
       "        border: none;\n",
       "        /* Needs to be in here for Safari polyfill so background images work as expected. */\n",
       "        background-size: auto;\n",
       "    }\n",
       "    progress:not([value]), progress:not([value])::-webkit-progress-bar {\n",
       "        background: repeating-linear-gradient(45deg, #7e7e7e, #7e7e7e 10px, #5c5c5c 10px, #5c5c5c 20px);\n",
       "    }\n",
       "    .progress-bar-interrupted, .progress-bar-interrupted::-webkit-progress-bar {\n",
       "        background: #F44336;\n",
       "    }\n",
       "</style>\n"
      ],
      "text/plain": [
       "<IPython.core.display.HTML object>"
      ]
     },
     "metadata": {},
     "output_type": "display_data"
    },
    {
     "data": {
      "text/html": [
       "<table border=\"1\" class=\"dataframe\">\n",
       "  <thead>\n",
       "    <tr style=\"text-align: left;\">\n",
       "      <th>TimeR2Score</th>\n",
       "      <th>loss</th>\n",
       "      <th>epoch</th>\n",
       "      <th>train</th>\n",
       "      <th>time</th>\n",
       "    </tr>\n",
       "  </thead>\n",
       "  <tbody>\n",
       "    <tr>\n",
       "      <td>0.501</td>\n",
       "      <td>33.929</td>\n",
       "      <td>0</td>\n",
       "      <td>False</td>\n",
       "      <td>00:00</td>\n",
       "    </tr>\n",
       "  </tbody>\n",
       "</table>"
      ],
      "text/plain": [
       "<IPython.core.display.HTML object>"
      ]
     },
     "metadata": {},
     "output_type": "display_data"
    },
    {
     "data": {
      "text/html": [
       "\n",
       "<style>\n",
       "    /* Turns off some styling */\n",
       "    progress {\n",
       "        /* gets rid of default border in Firefox and Opera. */\n",
       "        border: none;\n",
       "        /* Needs to be in here for Safari polyfill so background images work as expected. */\n",
       "        background-size: auto;\n",
       "    }\n",
       "    progress:not([value]), progress:not([value])::-webkit-progress-bar {\n",
       "        background: repeating-linear-gradient(45deg, #7e7e7e, #7e7e7e 10px, #5c5c5c 10px, #5c5c5c 20px);\n",
       "    }\n",
       "    .progress-bar-interrupted, .progress-bar-interrupted::-webkit-progress-bar {\n",
       "        background: #F44336;\n",
       "    }\n",
       "</style>\n"
      ],
      "text/plain": [
       "<IPython.core.display.HTML object>"
      ]
     },
     "metadata": {},
     "output_type": "display_data"
    },
    {
     "data": {
      "text/html": [
       "<table border=\"1\" class=\"dataframe\">\n",
       "  <thead>\n",
       "    <tr style=\"text-align: left;\">\n",
       "      <th>TimeR2Score</th>\n",
       "      <th>loss</th>\n",
       "      <th>epoch</th>\n",
       "      <th>train</th>\n",
       "      <th>time</th>\n",
       "    </tr>\n",
       "  </thead>\n",
       "  <tbody>\n",
       "    <tr>\n",
       "      <td>0.560</td>\n",
       "      <td>34.914</td>\n",
       "      <td>0</td>\n",
       "      <td>False</td>\n",
       "      <td>00:00</td>\n",
       "    </tr>\n",
       "  </tbody>\n",
       "</table>"
      ],
      "text/plain": [
       "<IPython.core.display.HTML object>"
      ]
     },
     "metadata": {},
     "output_type": "display_data"
    },
    {
     "name": "stdout",
     "output_type": "stream",
     "text": [
      "Inference on hepa\n",
      "\t\tpreds, targs\n",
      "tensor([[19.8319,  1.0000],\n",
      "        [17.4360,  1.0000],\n",
      "        [13.8909,  1.0000],\n",
      "        [ 8.3106,  4.0000],\n",
      "        [ 9.9272,  4.0000],\n",
      "        [ 9.9547,  4.0000],\n",
      "        [ 8.5847,  7.0000],\n",
      "        [ 9.2864,  7.0000],\n",
      "        [ 8.0362,  7.0000],\n",
      "        [ 9.9845, 10.0000],\n",
      "        [ 8.3902, 10.0000],\n",
      "        [ 9.3631, 10.0000],\n",
      "        [11.5786, 13.0000],\n",
      "        [10.3196, 13.0000],\n",
      "        [10.5745, 13.0000],\n",
      "        [13.7388, 16.0000],\n",
      "        [13.1804, 16.0000],\n",
      "        [13.8815, 16.0000],\n",
      "        [17.3446, 19.0000],\n",
      "        [15.8777, 19.0000],\n",
      "        [16.4153, 19.0000],\n",
      "        [18.6457, 22.0000],\n",
      "        [19.2363, 22.0000],\n",
      "        [19.8359, 22.0000],\n",
      "        [12.3666,  1.0000],\n",
      "        [11.9233,  1.0000],\n",
      "        [11.2192,  1.0000],\n",
      "        [ 7.9599,  4.0000],\n",
      "        [ 7.0525,  4.0000],\n",
      "        [ 2.9628,  4.0000],\n",
      "        [ 3.1258,  7.0000],\n",
      "        [ 3.3223,  7.0000],\n",
      "        [ 6.9634,  7.0000],\n",
      "        [ 8.6734, 10.0000],\n",
      "        [ 7.2281, 10.0000],\n",
      "        [12.9405, 10.0000],\n",
      "        [13.1506, 13.0000],\n",
      "        [12.8722, 13.0000],\n",
      "        [13.9085, 13.0000],\n",
      "        [13.3386, 16.0000],\n",
      "        [14.2678, 16.0000],\n",
      "        [14.5156, 16.0000],\n",
      "        [16.0810, 19.0000],\n",
      "        [16.0781, 19.0000],\n",
      "        [15.9858, 19.0000],\n",
      "        [12.4647, 22.0000],\n",
      "        [16.8369, 22.0000],\n",
      "        [12.7926, 22.0000]])\n",
      "result:  tensor(0.5366)\n"
     ]
    },
    {
     "data": {
      "text/html": [
       "\n",
       "<style>\n",
       "    /* Turns off some styling */\n",
       "    progress {\n",
       "        /* gets rid of default border in Firefox and Opera. */\n",
       "        border: none;\n",
       "        /* Needs to be in here for Safari polyfill so background images work as expected. */\n",
       "        background-size: auto;\n",
       "    }\n",
       "    progress:not([value]), progress:not([value])::-webkit-progress-bar {\n",
       "        background: repeating-linear-gradient(45deg, #7e7e7e, #7e7e7e 10px, #5c5c5c 10px, #5c5c5c 20px);\n",
       "    }\n",
       "    .progress-bar-interrupted, .progress-bar-interrupted::-webkit-progress-bar {\n",
       "        background: #F44336;\n",
       "    }\n",
       "</style>\n"
      ],
      "text/plain": [
       "<IPython.core.display.HTML object>"
      ]
     },
     "metadata": {},
     "output_type": "display_data"
    },
    {
     "data": {
      "text/html": [
       "<table border=\"1\" class=\"dataframe\">\n",
       "  <thead>\n",
       "    <tr style=\"text-align: left;\">\n",
       "      <th>TimeR2Score</th>\n",
       "      <th>loss</th>\n",
       "      <th>epoch</th>\n",
       "      <th>train</th>\n",
       "      <th>time</th>\n",
       "    </tr>\n",
       "  </thead>\n",
       "  <tbody>\n",
       "    <tr>\n",
       "      <td>0.409</td>\n",
       "      <td>311.225</td>\n",
       "      <td>0</td>\n",
       "      <td>False</td>\n",
       "      <td>00:03</td>\n",
       "    </tr>\n",
       "  </tbody>\n",
       "</table>"
      ],
      "text/plain": [
       "<IPython.core.display.HTML object>"
      ]
     },
     "metadata": {},
     "output_type": "display_data"
    },
    {
     "data": {
      "text/html": [
       "\n",
       "<style>\n",
       "    /* Turns off some styling */\n",
       "    progress {\n",
       "        /* gets rid of default border in Firefox and Opera. */\n",
       "        border: none;\n",
       "        /* Needs to be in here for Safari polyfill so background images work as expected. */\n",
       "        background-size: auto;\n",
       "    }\n",
       "    progress:not([value]), progress:not([value])::-webkit-progress-bar {\n",
       "        background: repeating-linear-gradient(45deg, #7e7e7e, #7e7e7e 10px, #5c5c5c 10px, #5c5c5c 20px);\n",
       "    }\n",
       "    .progress-bar-interrupted, .progress-bar-interrupted::-webkit-progress-bar {\n",
       "        background: #F44336;\n",
       "    }\n",
       "</style>\n"
      ],
      "text/plain": [
       "<IPython.core.display.HTML object>"
      ]
     },
     "metadata": {},
     "output_type": "display_data"
    },
    {
     "data": {
      "text/html": [
       "<table border=\"1\" class=\"dataframe\">\n",
       "  <thead>\n",
       "    <tr style=\"text-align: left;\">\n",
       "      <th>TimeR2Score</th>\n",
       "      <th>loss</th>\n",
       "      <th>epoch</th>\n",
       "      <th>train</th>\n",
       "      <th>time</th>\n",
       "    </tr>\n",
       "  </thead>\n",
       "  <tbody>\n",
       "    <tr>\n",
       "      <td>0.416</td>\n",
       "      <td>313.776</td>\n",
       "      <td>0</td>\n",
       "      <td>False</td>\n",
       "      <td>00:02</td>\n",
       "    </tr>\n",
       "  </tbody>\n",
       "</table>"
      ],
      "text/plain": [
       "<IPython.core.display.HTML object>"
      ]
     },
     "metadata": {},
     "output_type": "display_data"
    },
    {
     "name": "stdout",
     "output_type": "stream",
     "text": [
      "Inference on more\n",
      "\t\tpreds, targs\n",
      "tensor([[25.0000, 22.0000],\n",
      "        [25.0000, 22.0000],\n",
      "        [25.0000, 10.0000],\n",
      "        ...,\n",
      "        [-1.0000, 19.5000],\n",
      "        [12.0000,  7.5000],\n",
      "        [12.0000, 13.5000]])\n",
      "result:  tensor(0.4211)\n"
     ]
    }
   ],
   "source": [
    "ensemble_model(nlearn, epochs=2, cbs=cbs, lr=1e-3, loss_func=loss_func)"
   ]
  },
  {
   "cell_type": "code",
   "execution_count": 67,
   "metadata": {
    "id": "4QR8cVEtrneA"
   },
   "outputs": [],
   "source": [
    "def init_params(m, leaky=0.):\n",
    "    if isinstance(m, (nn.Linear, nn.Conv2d)): init.kaiming_normal_(m.weight, a=leaky)"
   ]
  },
  {
   "cell_type": "markdown",
   "metadata": {
    "id": "j5ZscnetBbIG"
   },
   "source": [
    "## Batchnorm"
   ]
  },
  {
   "cell_type": "code",
   "execution_count": 68,
   "metadata": {
    "id": "IbV9XYaDBbII"
   },
   "outputs": [],
   "source": [
    "def get_model():\n",
    "    return nn.Sequential(*[\n",
    "    nn.Linear(len(indep_cols), 100),\n",
    "    nn.BatchNorm1d(100),\n",
    "    nn.ReLU(),\n",
    "    nn.Dropout(.2),\n",
    "    nn.Linear(100, 100),\n",
    "    nn.BatchNorm1d(100),\n",
    "    nn.ReLU(),\n",
    "    nn.Dropout(.2),\n",
    "    nn.Linear(100, 1),\n",
    "    nn.BatchNorm1d(1),\n",
    "    TimeLayer()\n",
    "]).apply(init_params)"
   ]
  },
  {
   "cell_type": "code",
   "execution_count": 69,
   "metadata": {
    "colab": {
     "base_uri": "https://localhost:8080/",
     "height": 434
    },
    "id": "eZAJw5fkBbII",
    "outputId": "022d491e-4d23-45ef-f268-826aa374147b"
   },
   "outputs": [
    {
     "data": {
      "image/png": "[encoded data removed]",
      "text/plain": [
       "<Figure size 640x480 with 1 Axes>"
      ]
     },
     "metadata": {},
     "output_type": "display_data"
    }
   ],
   "source": [
    "TrainLearner(get_model(), dls, loss_func, cbs=DeviceCB()).lr_find()"
   ]
  },
  {
   "cell_type": "code",
   "execution_count": 70,
   "metadata": {
    "colab": {
     "base_uri": "https://localhost:8080/",
     "height": 1000
    },
    "id": "NRqUDZFmcp_U",
    "outputId": "76162572-2f16-414f-fa6f-522c0ec6f300",
    "scrolled": false
   },
   "outputs": [
    {
     "name": "stdout",
     "output_type": "stream",
     "text": [
      "Training models\n"
     ]
    },
    {
     "data": {
      "text/html": [
       "\n",
       "<style>\n",
       "    /* Turns off some styling */\n",
       "    progress {\n",
       "        /* gets rid of default border in Firefox and Opera. */\n",
       "        border: none;\n",
       "        /* Needs to be in here for Safari polyfill so background images work as expected. */\n",
       "        background-size: auto;\n",
       "    }\n",
       "    progress:not([value]), progress:not([value])::-webkit-progress-bar {\n",
       "        background: repeating-linear-gradient(45deg, #7e7e7e, #7e7e7e 10px, #5c5c5c 10px, #5c5c5c 20px);\n",
       "    }\n",
       "    .progress-bar-interrupted, .progress-bar-interrupted::-webkit-progress-bar {\n",
       "        background: #F44336;\n",
       "    }\n",
       "</style>\n"
      ],
      "text/plain": [
       "<IPython.core.display.HTML object>"
      ]
     },
     "metadata": {},
     "output_type": "display_data"
    },
    {
     "data": {
      "text/html": [
       "<table border=\"1\" class=\"dataframe\">\n",
       "  <thead>\n",
       "    <tr style=\"text-align: left;\">\n",
       "      <th>TimeR2Score</th>\n",
       "      <th>loss</th>\n",
       "      <th>epoch</th>\n",
       "      <th>train</th>\n",
       "      <th>time</th>\n",
       "    </tr>\n",
       "  </thead>\n",
       "  <tbody>\n",
       "    <tr>\n",
       "      <td>0.894</td>\n",
       "      <td>5.553</td>\n",
       "      <td>0</td>\n",
       "      <td>True</td>\n",
       "      <td>00:03</td>\n",
       "    </tr>\n",
       "    <tr>\n",
       "      <td>0.932</td>\n",
       "      <td>3.522</td>\n",
       "      <td>0</td>\n",
       "      <td>False</td>\n",
       "      <td>00:00</td>\n",
       "    </tr>\n",
       "    <tr>\n",
       "      <td>0.930</td>\n",
       "      <td>3.494</td>\n",
       "      <td>1</td>\n",
       "      <td>True</td>\n",
       "      <td>00:02</td>\n",
       "    </tr>\n",
       "    <tr>\n",
       "      <td>0.954</td>\n",
       "      <td>2.458</td>\n",
       "      <td>1</td>\n",
       "      <td>False</td>\n",
       "      <td>00:00</td>\n",
       "    </tr>\n",
       "    <tr>\n",
       "      <td>0.962</td>\n",
       "      <td>1.779</td>\n",
       "      <td>2</td>\n",
       "      <td>True</td>\n",
       "      <td>00:02</td>\n",
       "    </tr>\n",
       "    <tr>\n",
       "      <td>0.967</td>\n",
       "      <td>1.651</td>\n",
       "      <td>2</td>\n",
       "      <td>False</td>\n",
       "      <td>00:00</td>\n",
       "    </tr>\n",
       "    <tr>\n",
       "      <td>0.976</td>\n",
       "      <td>1.105</td>\n",
       "      <td>3</td>\n",
       "      <td>True</td>\n",
       "      <td>00:02</td>\n",
       "    </tr>\n",
       "    <tr>\n",
       "      <td>0.976</td>\n",
       "      <td>1.245</td>\n",
       "      <td>3</td>\n",
       "      <td>False</td>\n",
       "      <td>00:00</td>\n",
       "    </tr>\n",
       "  </tbody>\n",
       "</table>"
      ],
      "text/plain": [
       "<IPython.core.display.HTML object>"
      ]
     },
     "metadata": {},
     "output_type": "display_data"
    },
    {
     "data": {
      "image/png": "[encoded data removed]",
      "text/plain": [
       "<Figure size 600x400 with 1 Axes>"
      ]
     },
     "metadata": {},
     "output_type": "display_data"
    },
    {
     "data": {
      "text/html": [
       "\n",
       "<style>\n",
       "    /* Turns off some styling */\n",
       "    progress {\n",
       "        /* gets rid of default border in Firefox and Opera. */\n",
       "        border: none;\n",
       "        /* Needs to be in here for Safari polyfill so background images work as expected. */\n",
       "        background-size: auto;\n",
       "    }\n",
       "    progress:not([value]), progress:not([value])::-webkit-progress-bar {\n",
       "        background: repeating-linear-gradient(45deg, #7e7e7e, #7e7e7e 10px, #5c5c5c 10px, #5c5c5c 20px);\n",
       "    }\n",
       "    .progress-bar-interrupted, .progress-bar-interrupted::-webkit-progress-bar {\n",
       "        background: #F44336;\n",
       "    }\n",
       "</style>\n"
      ],
      "text/plain": [
       "<IPython.core.display.HTML object>"
      ]
     },
     "metadata": {},
     "output_type": "display_data"
    },
    {
     "data": {
      "text/html": [
       "<table border=\"1\" class=\"dataframe\">\n",
       "  <thead>\n",
       "    <tr style=\"text-align: left;\">\n",
       "      <th>TimeR2Score</th>\n",
       "      <th>loss</th>\n",
       "      <th>epoch</th>\n",
       "      <th>train</th>\n",
       "      <th>time</th>\n",
       "    </tr>\n",
       "  </thead>\n",
       "  <tbody>\n",
       "    <tr>\n",
       "      <td>0.894</td>\n",
       "      <td>5.531</td>\n",
       "      <td>0</td>\n",
       "      <td>True</td>\n",
       "      <td>00:02</td>\n",
       "    </tr>\n",
       "    <tr>\n",
       "      <td>0.919</td>\n",
       "      <td>4.404</td>\n",
       "      <td>0</td>\n",
       "      <td>False</td>\n",
       "      <td>00:00</td>\n",
       "    </tr>\n",
       "    <tr>\n",
       "      <td>0.940</td>\n",
       "      <td>2.969</td>\n",
       "      <td>1</td>\n",
       "      <td>True</td>\n",
       "      <td>00:02</td>\n",
       "    </tr>\n",
       "    <tr>\n",
       "      <td>0.962</td>\n",
       "      <td>1.965</td>\n",
       "      <td>1</td>\n",
       "      <td>False</td>\n",
       "      <td>00:00</td>\n",
       "    </tr>\n",
       "    <tr>\n",
       "      <td>0.963</td>\n",
       "      <td>1.780</td>\n",
       "      <td>2</td>\n",
       "      <td>True</td>\n",
       "      <td>00:02</td>\n",
       "    </tr>\n",
       "    <tr>\n",
       "      <td>0.974</td>\n",
       "      <td>1.342</td>\n",
       "      <td>2</td>\n",
       "      <td>False</td>\n",
       "      <td>00:00</td>\n",
       "    </tr>\n",
       "    <tr>\n",
       "      <td>0.977</td>\n",
       "      <td>1.073</td>\n",
       "      <td>3</td>\n",
       "      <td>True</td>\n",
       "      <td>00:02</td>\n",
       "    </tr>\n",
       "    <tr>\n",
       "      <td>0.975</td>\n",
       "      <td>1.365</td>\n",
       "      <td>3</td>\n",
       "      <td>False</td>\n",
       "      <td>00:00</td>\n",
       "    </tr>\n",
       "  </tbody>\n",
       "</table>"
      ],
      "text/plain": [
       "<IPython.core.display.HTML object>"
      ]
     },
     "metadata": {},
     "output_type": "display_data"
    },
    {
     "data": {
      "image/png": "[encoded data removed]",
      "text/plain": [
       "<Figure size 600x400 with 1 Axes>"
      ]
     },
     "metadata": {},
     "output_type": "display_data"
    },
    {
     "name": "stdout",
     "output_type": "stream",
     "text": [
      "Making inference on test data\n"
     ]
    },
    {
     "data": {
      "text/html": [
       "\n",
       "<style>\n",
       "    /* Turns off some styling */\n",
       "    progress {\n",
       "        /* gets rid of default border in Firefox and Opera. */\n",
       "        border: none;\n",
       "        /* Needs to be in here for Safari polyfill so background images work as expected. */\n",
       "        background-size: auto;\n",
       "    }\n",
       "    progress:not([value]), progress:not([value])::-webkit-progress-bar {\n",
       "        background: repeating-linear-gradient(45deg, #7e7e7e, #7e7e7e 10px, #5c5c5c 10px, #5c5c5c 20px);\n",
       "    }\n",
       "    .progress-bar-interrupted, .progress-bar-interrupted::-webkit-progress-bar {\n",
       "        background: #F44336;\n",
       "    }\n",
       "</style>\n"
      ],
      "text/plain": [
       "<IPython.core.display.HTML object>"
      ]
     },
     "metadata": {},
     "output_type": "display_data"
    },
    {
     "data": {
      "text/html": [
       "<table border=\"1\" class=\"dataframe\">\n",
       "  <thead>\n",
       "    <tr style=\"text-align: left;\">\n",
       "      <th>TimeR2Score</th>\n",
       "      <th>loss</th>\n",
       "      <th>epoch</th>\n",
       "      <th>train</th>\n",
       "      <th>time</th>\n",
       "    </tr>\n",
       "  </thead>\n",
       "  <tbody>\n",
       "    <tr>\n",
       "      <td>0.820</td>\n",
       "      <td>8.392</td>\n",
       "      <td>0</td>\n",
       "      <td>False</td>\n",
       "      <td>00:00</td>\n",
       "    </tr>\n",
       "  </tbody>\n",
       "</table>"
      ],
      "text/plain": [
       "<IPython.core.display.HTML object>"
      ]
     },
     "metadata": {},
     "output_type": "display_data"
    },
    {
     "data": {
      "text/html": [
       "\n",
       "<style>\n",
       "    /* Turns off some styling */\n",
       "    progress {\n",
       "        /* gets rid of default border in Firefox and Opera. */\n",
       "        border: none;\n",
       "        /* Needs to be in here for Safari polyfill so background images work as expected. */\n",
       "        background-size: auto;\n",
       "    }\n",
       "    progress:not([value]), progress:not([value])::-webkit-progress-bar {\n",
       "        background: repeating-linear-gradient(45deg, #7e7e7e, #7e7e7e 10px, #5c5c5c 10px, #5c5c5c 20px);\n",
       "    }\n",
       "    .progress-bar-interrupted, .progress-bar-interrupted::-webkit-progress-bar {\n",
       "        background: #F44336;\n",
       "    }\n",
       "</style>\n"
      ],
      "text/plain": [
       "<IPython.core.display.HTML object>"
      ]
     },
     "metadata": {},
     "output_type": "display_data"
    },
    {
     "data": {
      "text/html": [
       "<table border=\"1\" class=\"dataframe\">\n",
       "  <thead>\n",
       "    <tr style=\"text-align: left;\">\n",
       "      <th>TimeR2Score</th>\n",
       "      <th>loss</th>\n",
       "      <th>epoch</th>\n",
       "      <th>train</th>\n",
       "      <th>time</th>\n",
       "    </tr>\n",
       "  </thead>\n",
       "  <tbody>\n",
       "    <tr>\n",
       "      <td>0.821</td>\n",
       "      <td>8.334</td>\n",
       "      <td>0</td>\n",
       "      <td>False</td>\n",
       "      <td>00:00</td>\n",
       "    </tr>\n",
       "  </tbody>\n",
       "</table>"
      ],
      "text/plain": [
       "<IPython.core.display.HTML object>"
      ]
     },
     "metadata": {},
     "output_type": "display_data"
    },
    {
     "name": "stdout",
     "output_type": "stream",
     "text": [
      "Inference on nascent\n",
      "\t\tpreds, targs\n",
      "tensor([[ 1.9220,  0.0000],\n",
      "        [ 5.4140,  4.0000],\n",
      "        [ 7.3752,  8.0000],\n",
      "        [10.0806, 12.0000],\n",
      "        [14.4635, 16.0000],\n",
      "        [18.1997, 20.0000],\n",
      "        [ 7.2633,  0.0000],\n",
      "        [ 2.3579,  4.0000],\n",
      "        [10.4258,  8.0000],\n",
      "        [10.2041, 12.0000],\n",
      "        [20.3720, 16.0000],\n",
      "        [20.6152, 20.0000]])\n",
      "result:  tensor(0.8225)\n"
     ]
    },
    {
     "data": {
      "text/html": [
       "\n",
       "<style>\n",
       "    /* Turns off some styling */\n",
       "    progress {\n",
       "        /* gets rid of default border in Firefox and Opera. */\n",
       "        border: none;\n",
       "        /* Needs to be in here for Safari polyfill so background images work as expected. */\n",
       "        background-size: auto;\n",
       "    }\n",
       "    progress:not([value]), progress:not([value])::-webkit-progress-bar {\n",
       "        background: repeating-linear-gradient(45deg, #7e7e7e, #7e7e7e 10px, #5c5c5c 10px, #5c5c5c 20px);\n",
       "    }\n",
       "    .progress-bar-interrupted, .progress-bar-interrupted::-webkit-progress-bar {\n",
       "        background: #F44336;\n",
       "    }\n",
       "</style>\n"
      ],
      "text/plain": [
       "<IPython.core.display.HTML object>"
      ]
     },
     "metadata": {},
     "output_type": "display_data"
    },
    {
     "data": {
      "text/html": [
       "<table border=\"1\" class=\"dataframe\">\n",
       "  <thead>\n",
       "    <tr style=\"text-align: left;\">\n",
       "      <th>TimeR2Score</th>\n",
       "      <th>loss</th>\n",
       "      <th>epoch</th>\n",
       "      <th>train</th>\n",
       "      <th>time</th>\n",
       "    </tr>\n",
       "  </thead>\n",
       "  <tbody>\n",
       "    <tr>\n",
       "      <td>0.733</td>\n",
       "      <td>12.638</td>\n",
       "      <td>0</td>\n",
       "      <td>False</td>\n",
       "      <td>00:00</td>\n",
       "    </tr>\n",
       "  </tbody>\n",
       "</table>"
      ],
      "text/plain": [
       "<IPython.core.display.HTML object>"
      ]
     },
     "metadata": {},
     "output_type": "display_data"
    },
    {
     "data": {
      "text/html": [
       "\n",
       "<style>\n",
       "    /* Turns off some styling */\n",
       "    progress {\n",
       "        /* gets rid of default border in Firefox and Opera. */\n",
       "        border: none;\n",
       "        /* Needs to be in here for Safari polyfill so background images work as expected. */\n",
       "        background-size: auto;\n",
       "    }\n",
       "    progress:not([value]), progress:not([value])::-webkit-progress-bar {\n",
       "        background: repeating-linear-gradient(45deg, #7e7e7e, #7e7e7e 10px, #5c5c5c 10px, #5c5c5c 20px);\n",
       "    }\n",
       "    .progress-bar-interrupted, .progress-bar-interrupted::-webkit-progress-bar {\n",
       "        background: #F44336;\n",
       "    }\n",
       "</style>\n"
      ],
      "text/plain": [
       "<IPython.core.display.HTML object>"
      ]
     },
     "metadata": {},
     "output_type": "display_data"
    },
    {
     "data": {
      "text/html": [
       "<table border=\"1\" class=\"dataframe\">\n",
       "  <thead>\n",
       "    <tr style=\"text-align: left;\">\n",
       "      <th>TimeR2Score</th>\n",
       "      <th>loss</th>\n",
       "      <th>epoch</th>\n",
       "      <th>train</th>\n",
       "      <th>time</th>\n",
       "    </tr>\n",
       "  </thead>\n",
       "  <tbody>\n",
       "    <tr>\n",
       "      <td>0.822</td>\n",
       "      <td>8.406</td>\n",
       "      <td>0</td>\n",
       "      <td>False</td>\n",
       "      <td>00:00</td>\n",
       "    </tr>\n",
       "  </tbody>\n",
       "</table>"
      ],
      "text/plain": [
       "<IPython.core.display.HTML object>"
      ]
     },
     "metadata": {},
     "output_type": "display_data"
    },
    {
     "name": "stdout",
     "output_type": "stream",
     "text": [
      "Inference on gro\n",
      "\t\tpreds, targs\n",
      "tensor([[ 9.5122,  1.0000],\n",
      "        [ 4.2112,  4.0000],\n",
      "        [ 7.2077,  7.0000],\n",
      "        [ 9.2107, 10.0000],\n",
      "        [13.3001, 13.0000],\n",
      "        [14.2247, 16.0000],\n",
      "        [18.7381, 19.0000],\n",
      "        [19.5278, 22.0000]])\n",
      "result:  tensor(0.7815)\n"
     ]
    },
    {
     "data": {
      "text/html": [
       "\n",
       "<style>\n",
       "    /* Turns off some styling */\n",
       "    progress {\n",
       "        /* gets rid of default border in Firefox and Opera. */\n",
       "        border: none;\n",
       "        /* Needs to be in here for Safari polyfill so background images work as expected. */\n",
       "        background-size: auto;\n",
       "    }\n",
       "    progress:not([value]), progress:not([value])::-webkit-progress-bar {\n",
       "        background: repeating-linear-gradient(45deg, #7e7e7e, #7e7e7e 10px, #5c5c5c 10px, #5c5c5c 20px);\n",
       "    }\n",
       "    .progress-bar-interrupted, .progress-bar-interrupted::-webkit-progress-bar {\n",
       "        background: #F44336;\n",
       "    }\n",
       "</style>\n"
      ],
      "text/plain": [
       "<IPython.core.display.HTML object>"
      ]
     },
     "metadata": {},
     "output_type": "display_data"
    },
    {
     "data": {
      "text/html": [
       "<table border=\"1\" class=\"dataframe\">\n",
       "  <thead>\n",
       "    <tr style=\"text-align: left;\">\n",
       "      <th>TimeR2Score</th>\n",
       "      <th>loss</th>\n",
       "      <th>epoch</th>\n",
       "      <th>train</th>\n",
       "      <th>time</th>\n",
       "    </tr>\n",
       "  </thead>\n",
       "  <tbody>\n",
       "    <tr>\n",
       "      <td>0.728</td>\n",
       "      <td>15.914</td>\n",
       "      <td>0</td>\n",
       "      <td>False</td>\n",
       "      <td>00:00</td>\n",
       "    </tr>\n",
       "  </tbody>\n",
       "</table>"
      ],
      "text/plain": [
       "<IPython.core.display.HTML object>"
      ]
     },
     "metadata": {},
     "output_type": "display_data"
    },
    {
     "data": {
      "text/html": [
       "\n",
       "<style>\n",
       "    /* Turns off some styling */\n",
       "    progress {\n",
       "        /* gets rid of default border in Firefox and Opera. */\n",
       "        border: none;\n",
       "        /* Needs to be in here for Safari polyfill so background images work as expected. */\n",
       "        background-size: auto;\n",
       "    }\n",
       "    progress:not([value]), progress:not([value])::-webkit-progress-bar {\n",
       "        background: repeating-linear-gradient(45deg, #7e7e7e, #7e7e7e 10px, #5c5c5c 10px, #5c5c5c 20px);\n",
       "    }\n",
       "    .progress-bar-interrupted, .progress-bar-interrupted::-webkit-progress-bar {\n",
       "        background: #F44336;\n",
       "    }\n",
       "</style>\n"
      ],
      "text/plain": [
       "<IPython.core.display.HTML object>"
      ]
     },
     "metadata": {},
     "output_type": "display_data"
    },
    {
     "data": {
      "text/html": [
       "<table border=\"1\" class=\"dataframe\">\n",
       "  <thead>\n",
       "    <tr style=\"text-align: left;\">\n",
       "      <th>TimeR2Score</th>\n",
       "      <th>loss</th>\n",
       "      <th>epoch</th>\n",
       "      <th>train</th>\n",
       "      <th>time</th>\n",
       "    </tr>\n",
       "  </thead>\n",
       "  <tbody>\n",
       "    <tr>\n",
       "      <td>0.789</td>\n",
       "      <td>16.887</td>\n",
       "      <td>0</td>\n",
       "      <td>False</td>\n",
       "      <td>00:00</td>\n",
       "    </tr>\n",
       "  </tbody>\n",
       "</table>"
      ],
      "text/plain": [
       "<IPython.core.display.HTML object>"
      ]
     },
     "metadata": {},
     "output_type": "display_data"
    },
    {
     "name": "stdout",
     "output_type": "stream",
     "text": [
      "Inference on rna\n",
      "\t\tpreds, targs\n",
      "tensor([[ 2.3851,  2.0000],\n",
      "        [ 7.1588,  6.0000],\n",
      "        [ 9.1113, 10.0000],\n",
      "        [13.8646, 14.0000],\n",
      "        [19.2436, 18.0000],\n",
      "        [20.9613, 22.0000],\n",
      "        [ 3.1814,  2.0000],\n",
      "        [ 7.4622,  6.0000],\n",
      "        [10.2461, 10.0000],\n",
      "        [11.0874, 14.0000],\n",
      "        [19.1502, 18.0000],\n",
      "        [ 8.7177, 22.0000]])\n",
      "result:  tensor(0.7622)\n"
     ]
    },
    {
     "data": {
      "text/html": [
       "\n",
       "<style>\n",
       "    /* Turns off some styling */\n",
       "    progress {\n",
       "        /* gets rid of default border in Firefox and Opera. */\n",
       "        border: none;\n",
       "        /* Needs to be in here for Safari polyfill so background images work as expected. */\n",
       "        background-size: auto;\n",
       "    }\n",
       "    progress:not([value]), progress:not([value])::-webkit-progress-bar {\n",
       "        background: repeating-linear-gradient(45deg, #7e7e7e, #7e7e7e 10px, #5c5c5c 10px, #5c5c5c 20px);\n",
       "    }\n",
       "    .progress-bar-interrupted, .progress-bar-interrupted::-webkit-progress-bar {\n",
       "        background: #F44336;\n",
       "    }\n",
       "</style>\n"
      ],
      "text/plain": [
       "<IPython.core.display.HTML object>"
      ]
     },
     "metadata": {},
     "output_type": "display_data"
    },
    {
     "data": {
      "text/html": [
       "<table border=\"1\" class=\"dataframe\">\n",
       "  <thead>\n",
       "    <tr style=\"text-align: left;\">\n",
       "      <th>TimeR2Score</th>\n",
       "      <th>loss</th>\n",
       "      <th>epoch</th>\n",
       "      <th>train</th>\n",
       "      <th>time</th>\n",
       "    </tr>\n",
       "  </thead>\n",
       "  <tbody>\n",
       "    <tr>\n",
       "      <td>0.498</td>\n",
       "      <td>49.222</td>\n",
       "      <td>0</td>\n",
       "      <td>False</td>\n",
       "      <td>00:00</td>\n",
       "    </tr>\n",
       "  </tbody>\n",
       "</table>"
      ],
      "text/plain": [
       "<IPython.core.display.HTML object>"
      ]
     },
     "metadata": {},
     "output_type": "display_data"
    },
    {
     "data": {
      "text/html": [
       "\n",
       "<style>\n",
       "    /* Turns off some styling */\n",
       "    progress {\n",
       "        /* gets rid of default border in Firefox and Opera. */\n",
       "        border: none;\n",
       "        /* Needs to be in here for Safari polyfill so background images work as expected. */\n",
       "        background-size: auto;\n",
       "    }\n",
       "    progress:not([value]), progress:not([value])::-webkit-progress-bar {\n",
       "        background: repeating-linear-gradient(45deg, #7e7e7e, #7e7e7e 10px, #5c5c5c 10px, #5c5c5c 20px);\n",
       "    }\n",
       "    .progress-bar-interrupted, .progress-bar-interrupted::-webkit-progress-bar {\n",
       "        background: #F44336;\n",
       "    }\n",
       "</style>\n"
      ],
      "text/plain": [
       "<IPython.core.display.HTML object>"
      ]
     },
     "metadata": {},
     "output_type": "display_data"
    },
    {
     "data": {
      "text/html": [
       "<table border=\"1\" class=\"dataframe\">\n",
       "  <thead>\n",
       "    <tr style=\"text-align: left;\">\n",
       "      <th>TimeR2Score</th>\n",
       "      <th>loss</th>\n",
       "      <th>epoch</th>\n",
       "      <th>train</th>\n",
       "      <th>time</th>\n",
       "    </tr>\n",
       "  </thead>\n",
       "  <tbody>\n",
       "    <tr>\n",
       "      <td>0.546</td>\n",
       "      <td>39.881</td>\n",
       "      <td>0</td>\n",
       "      <td>False</td>\n",
       "      <td>00:00</td>\n",
       "    </tr>\n",
       "  </tbody>\n",
       "</table>"
      ],
      "text/plain": [
       "<IPython.core.display.HTML object>"
      ]
     },
     "metadata": {},
     "output_type": "display_data"
    },
    {
     "name": "stdout",
     "output_type": "stream",
     "text": [
      "Inference on hepa\n",
      "\t\tpreds, targs\n",
      "tensor([[20.0469,  1.0000],\n",
      "        [19.0856,  1.0000],\n",
      "        [13.8359,  1.0000],\n",
      "        [ 9.5738,  4.0000],\n",
      "        [10.6235,  4.0000],\n",
      "        [11.3576,  4.0000],\n",
      "        [ 7.1731,  7.0000],\n",
      "        [ 6.9023,  7.0000],\n",
      "        [ 6.8689,  7.0000],\n",
      "        [ 8.9980, 10.0000],\n",
      "        [ 7.9358, 10.0000],\n",
      "        [ 7.9156, 10.0000],\n",
      "        [10.2332, 13.0000],\n",
      "        [ 9.8879, 13.0000],\n",
      "        [10.1443, 13.0000],\n",
      "        [13.2710, 16.0000],\n",
      "        [10.9894, 16.0000],\n",
      "        [13.4869, 16.0000],\n",
      "        [15.4300, 19.0000],\n",
      "        [15.7950, 19.0000],\n",
      "        [16.9300, 19.0000],\n",
      "        [17.3453, 22.0000],\n",
      "        [18.0210, 22.0000],\n",
      "        [19.4561, 22.0000],\n",
      "        [13.2287,  1.0000],\n",
      "        [15.6297,  1.0000],\n",
      "        [15.4061,  1.0000],\n",
      "        [ 5.4379,  4.0000],\n",
      "        [ 6.0108,  4.0000],\n",
      "        [ 1.5771,  4.0000],\n",
      "        [ 2.7622,  7.0000],\n",
      "        [ 2.8343,  7.0000],\n",
      "        [ 5.3643,  7.0000],\n",
      "        [ 7.8622, 10.0000],\n",
      "        [ 5.1406, 10.0000],\n",
      "        [ 9.3741, 10.0000],\n",
      "        [11.4616, 13.0000],\n",
      "        [10.8178, 13.0000],\n",
      "        [11.1129, 13.0000],\n",
      "        [14.1894, 16.0000],\n",
      "        [13.6795, 16.0000],\n",
      "        [14.2912, 16.0000],\n",
      "        [17.2117, 19.0000],\n",
      "        [16.9522, 19.0000],\n",
      "        [16.4866, 19.0000],\n",
      "        [12.4077, 22.0000],\n",
      "        [18.1576, 22.0000],\n",
      "        [ 9.0779, 22.0000]])\n",
      "result:  tensor(0.5058)\n"
     ]
    },
    {
     "data": {
      "text/html": [
       "\n",
       "<style>\n",
       "    /* Turns off some styling */\n",
       "    progress {\n",
       "        /* gets rid of default border in Firefox and Opera. */\n",
       "        border: none;\n",
       "        /* Needs to be in here for Safari polyfill so background images work as expected. */\n",
       "        background-size: auto;\n",
       "    }\n",
       "    progress:not([value]), progress:not([value])::-webkit-progress-bar {\n",
       "        background: repeating-linear-gradient(45deg, #7e7e7e, #7e7e7e 10px, #5c5c5c 10px, #5c5c5c 20px);\n",
       "    }\n",
       "    .progress-bar-interrupted, .progress-bar-interrupted::-webkit-progress-bar {\n",
       "        background: #F44336;\n",
       "    }\n",
       "</style>\n"
      ],
      "text/plain": [
       "<IPython.core.display.HTML object>"
      ]
     },
     "metadata": {},
     "output_type": "display_data"
    },
    {
     "data": {
      "text/html": [
       "<table border=\"1\" class=\"dataframe\">\n",
       "  <thead>\n",
       "    <tr style=\"text-align: left;\">\n",
       "      <th>TimeR2Score</th>\n",
       "      <th>loss</th>\n",
       "      <th>epoch</th>\n",
       "      <th>train</th>\n",
       "      <th>time</th>\n",
       "    </tr>\n",
       "  </thead>\n",
       "  <tbody>\n",
       "    <tr>\n",
       "      <td>0.387</td>\n",
       "      <td>312.732</td>\n",
       "      <td>0</td>\n",
       "      <td>False</td>\n",
       "      <td>00:03</td>\n",
       "    </tr>\n",
       "  </tbody>\n",
       "</table>"
      ],
      "text/plain": [
       "<IPython.core.display.HTML object>"
      ]
     },
     "metadata": {},
     "output_type": "display_data"
    },
    {
     "data": {
      "text/html": [
       "\n",
       "<style>\n",
       "    /* Turns off some styling */\n",
       "    progress {\n",
       "        /* gets rid of default border in Firefox and Opera. */\n",
       "        border: none;\n",
       "        /* Needs to be in here for Safari polyfill so background images work as expected. */\n",
       "        background-size: auto;\n",
       "    }\n",
       "    progress:not([value]), progress:not([value])::-webkit-progress-bar {\n",
       "        background: repeating-linear-gradient(45deg, #7e7e7e, #7e7e7e 10px, #5c5c5c 10px, #5c5c5c 20px);\n",
       "    }\n",
       "    .progress-bar-interrupted, .progress-bar-interrupted::-webkit-progress-bar {\n",
       "        background: #F44336;\n",
       "    }\n",
       "</style>\n"
      ],
      "text/plain": [
       "<IPython.core.display.HTML object>"
      ]
     },
     "metadata": {},
     "output_type": "display_data"
    },
    {
     "data": {
      "text/html": [
       "<table border=\"1\" class=\"dataframe\">\n",
       "  <thead>\n",
       "    <tr style=\"text-align: left;\">\n",
       "      <th>TimeR2Score</th>\n",
       "      <th>loss</th>\n",
       "      <th>epoch</th>\n",
       "      <th>train</th>\n",
       "      <th>time</th>\n",
       "    </tr>\n",
       "  </thead>\n",
       "  <tbody>\n",
       "    <tr>\n",
       "      <td>0.411</td>\n",
       "      <td>297.326</td>\n",
       "      <td>0</td>\n",
       "      <td>False</td>\n",
       "      <td>00:03</td>\n",
       "    </tr>\n",
       "  </tbody>\n",
       "</table>"
      ],
      "text/plain": [
       "<IPython.core.display.HTML object>"
      ]
     },
     "metadata": {},
     "output_type": "display_data"
    },
    {
     "name": "stdout",
     "output_type": "stream",
     "text": [
      "Inference on more\n",
      "\t\tpreds, targs\n",
      "tensor([[24.9706, 22.0000],\n",
      "        [25.0000, 22.0000],\n",
      "        [ 3.2334, 10.0000],\n",
      "        ...,\n",
      "        [-1.0000, 19.5000],\n",
      "        [-1.0000,  7.5000],\n",
      "        [-1.0000, 13.5000]])\n",
      "result:  tensor(0.4022)\n"
     ]
    }
   ],
   "source": [
    "lr, epochs = .2, 4\n",
    "tmax = epochs * len(dls.train)\n",
    "sched = partial(lr_scheduler.OneCycleLR, max_lr=lr, total_steps=tmax)\n",
    "xtra = [BatchSchedCB(sched)]\n",
    "ensemble_model(nlearn, get_model, epochs=epochs, lr=lr, cbs=cbs+xtra, opt_func=optim.AdamW)"
   ]
  },
  {
   "cell_type": "code",
   "execution_count": 71,
   "metadata": {
    "colab": {
     "base_uri": "https://localhost:8080/",
     "height": 1000
    },
    "id": "uyiwleVZBbIJ",
    "outputId": "e123a67a-4ef1-4b49-853d-f5ef0bd9fefc",
    "scrolled": false
   },
   "outputs": [
    {
     "name": "stdout",
     "output_type": "stream",
     "text": [
      "Training models\n"
     ]
    },
    {
     "data": {
      "text/html": [
       "\n",
       "<style>\n",
       "    /* Turns off some styling */\n",
       "    progress {\n",
       "        /* gets rid of default border in Firefox and Opera. */\n",
       "        border: none;\n",
       "        /* Needs to be in here for Safari polyfill so background images work as expected. */\n",
       "        background-size: auto;\n",
       "    }\n",
       "    progress:not([value]), progress:not([value])::-webkit-progress-bar {\n",
       "        background: repeating-linear-gradient(45deg, #7e7e7e, #7e7e7e 10px, #5c5c5c 10px, #5c5c5c 20px);\n",
       "    }\n",
       "    .progress-bar-interrupted, .progress-bar-interrupted::-webkit-progress-bar {\n",
       "        background: #F44336;\n",
       "    }\n",
       "</style>\n"
      ],
      "text/plain": [
       "<IPython.core.display.HTML object>"
      ]
     },
     "metadata": {},
     "output_type": "display_data"
    },
    {
     "data": {
      "text/html": [
       "<table border=\"1\" class=\"dataframe\">\n",
       "  <thead>\n",
       "    <tr style=\"text-align: left;\">\n",
       "      <th>TimeR2Score</th>\n",
       "      <th>loss</th>\n",
       "      <th>epoch</th>\n",
       "      <th>train</th>\n",
       "      <th>time</th>\n",
       "    </tr>\n",
       "  </thead>\n",
       "  <tbody>\n",
       "    <tr>\n",
       "      <td>0.894</td>\n",
       "      <td>5.502</td>\n",
       "      <td>0</td>\n",
       "      <td>True</td>\n",
       "      <td>00:02</td>\n",
       "    </tr>\n",
       "    <tr>\n",
       "      <td>0.933</td>\n",
       "      <td>3.724</td>\n",
       "      <td>0</td>\n",
       "      <td>False</td>\n",
       "      <td>00:00</td>\n",
       "    </tr>\n",
       "    <tr>\n",
       "      <td>0.950</td>\n",
       "      <td>2.456</td>\n",
       "      <td>1</td>\n",
       "      <td>True</td>\n",
       "      <td>00:03</td>\n",
       "    </tr>\n",
       "    <tr>\n",
       "      <td>0.966</td>\n",
       "      <td>1.680</td>\n",
       "      <td>1</td>\n",
       "      <td>False</td>\n",
       "      <td>00:00</td>\n",
       "    </tr>\n",
       "    <tr>\n",
       "      <td>0.969</td>\n",
       "      <td>1.461</td>\n",
       "      <td>2</td>\n",
       "      <td>True</td>\n",
       "      <td>00:03</td>\n",
       "    </tr>\n",
       "    <tr>\n",
       "      <td>0.978</td>\n",
       "      <td>1.232</td>\n",
       "      <td>2</td>\n",
       "      <td>False</td>\n",
       "      <td>00:00</td>\n",
       "    </tr>\n",
       "    <tr>\n",
       "      <td>0.979</td>\n",
       "      <td>0.977</td>\n",
       "      <td>3</td>\n",
       "      <td>True</td>\n",
       "      <td>00:02</td>\n",
       "    </tr>\n",
       "    <tr>\n",
       "      <td>0.981</td>\n",
       "      <td>1.133</td>\n",
       "      <td>3</td>\n",
       "      <td>False</td>\n",
       "      <td>00:00</td>\n",
       "    </tr>\n",
       "  </tbody>\n",
       "</table>"
      ],
      "text/plain": [
       "<IPython.core.display.HTML object>"
      ]
     },
     "metadata": {},
     "output_type": "display_data"
    },
    {
     "data": {
      "image/png": "[encoded data removed]",
      "text/plain": [
       "<Figure size 600x400 with 1 Axes>"
      ]
     },
     "metadata": {},
     "output_type": "display_data"
    },
    {
     "data": {
      "text/html": [
       "\n",
       "<style>\n",
       "    /* Turns off some styling */\n",
       "    progress {\n",
       "        /* gets rid of default border in Firefox and Opera. */\n",
       "        border: none;\n",
       "        /* Needs to be in here for Safari polyfill so background images work as expected. */\n",
       "        background-size: auto;\n",
       "    }\n",
       "    progress:not([value]), progress:not([value])::-webkit-progress-bar {\n",
       "        background: repeating-linear-gradient(45deg, #7e7e7e, #7e7e7e 10px, #5c5c5c 10px, #5c5c5c 20px);\n",
       "    }\n",
       "    .progress-bar-interrupted, .progress-bar-interrupted::-webkit-progress-bar {\n",
       "        background: #F44336;\n",
       "    }\n",
       "</style>\n"
      ],
      "text/plain": [
       "<IPython.core.display.HTML object>"
      ]
     },
     "metadata": {},
     "output_type": "display_data"
    },
    {
     "data": {
      "text/html": [
       "<table border=\"1\" class=\"dataframe\">\n",
       "  <thead>\n",
       "    <tr style=\"text-align: left;\">\n",
       "      <th>TimeR2Score</th>\n",
       "      <th>loss</th>\n",
       "      <th>epoch</th>\n",
       "      <th>train</th>\n",
       "      <th>time</th>\n",
       "    </tr>\n",
       "  </thead>\n",
       "  <tbody>\n",
       "    <tr>\n",
       "      <td>0.891</td>\n",
       "      <td>5.661</td>\n",
       "      <td>0</td>\n",
       "      <td>True</td>\n",
       "      <td>00:02</td>\n",
       "    </tr>\n",
       "    <tr>\n",
       "      <td>0.953</td>\n",
       "      <td>2.490</td>\n",
       "      <td>0</td>\n",
       "      <td>False</td>\n",
       "      <td>00:00</td>\n",
       "    </tr>\n",
       "    <tr>\n",
       "      <td>0.948</td>\n",
       "      <td>2.542</td>\n",
       "      <td>1</td>\n",
       "      <td>True</td>\n",
       "      <td>00:02</td>\n",
       "    </tr>\n",
       "    <tr>\n",
       "      <td>0.966</td>\n",
       "      <td>2.162</td>\n",
       "      <td>1</td>\n",
       "      <td>False</td>\n",
       "      <td>00:00</td>\n",
       "    </tr>\n",
       "    <tr>\n",
       "      <td>0.969</td>\n",
       "      <td>1.457</td>\n",
       "      <td>2</td>\n",
       "      <td>True</td>\n",
       "      <td>00:02</td>\n",
       "    </tr>\n",
       "    <tr>\n",
       "      <td>0.977</td>\n",
       "      <td>1.229</td>\n",
       "      <td>2</td>\n",
       "      <td>False</td>\n",
       "      <td>00:00</td>\n",
       "    </tr>\n",
       "    <tr>\n",
       "      <td>0.980</td>\n",
       "      <td>0.951</td>\n",
       "      <td>3</td>\n",
       "      <td>True</td>\n",
       "      <td>00:02</td>\n",
       "    </tr>\n",
       "    <tr>\n",
       "      <td>0.979</td>\n",
       "      <td>1.096</td>\n",
       "      <td>3</td>\n",
       "      <td>False</td>\n",
       "      <td>00:00</td>\n",
       "    </tr>\n",
       "  </tbody>\n",
       "</table>"
      ],
      "text/plain": [
       "<IPython.core.display.HTML object>"
      ]
     },
     "metadata": {},
     "output_type": "display_data"
    },
    {
     "data": {
      "image/png": "[encoded data removed]",
      "text/plain": [
       "<Figure size 600x400 with 1 Axes>"
      ]
     },
     "metadata": {},
     "output_type": "display_data"
    },
    {
     "name": "stdout",
     "output_type": "stream",
     "text": [
      "Making inference on test data\n"
     ]
    },
    {
     "data": {
      "text/html": [
       "\n",
       "<style>\n",
       "    /* Turns off some styling */\n",
       "    progress {\n",
       "        /* gets rid of default border in Firefox and Opera. */\n",
       "        border: none;\n",
       "        /* Needs to be in here for Safari polyfill so background images work as expected. */\n",
       "        background-size: auto;\n",
       "    }\n",
       "    progress:not([value]), progress:not([value])::-webkit-progress-bar {\n",
       "        background: repeating-linear-gradient(45deg, #7e7e7e, #7e7e7e 10px, #5c5c5c 10px, #5c5c5c 20px);\n",
       "    }\n",
       "    .progress-bar-interrupted, .progress-bar-interrupted::-webkit-progress-bar {\n",
       "        background: #F44336;\n",
       "    }\n",
       "</style>\n"
      ],
      "text/plain": [
       "<IPython.core.display.HTML object>"
      ]
     },
     "metadata": {},
     "output_type": "display_data"
    },
    {
     "data": {
      "text/html": [
       "<table border=\"1\" class=\"dataframe\">\n",
       "  <thead>\n",
       "    <tr style=\"text-align: left;\">\n",
       "      <th>TimeR2Score</th>\n",
       "      <th>loss</th>\n",
       "      <th>epoch</th>\n",
       "      <th>train</th>\n",
       "      <th>time</th>\n",
       "    </tr>\n",
       "  </thead>\n",
       "  <tbody>\n",
       "    <tr>\n",
       "      <td>0.782</td>\n",
       "      <td>10.183</td>\n",
       "      <td>0</td>\n",
       "      <td>False</td>\n",
       "      <td>00:00</td>\n",
       "    </tr>\n",
       "  </tbody>\n",
       "</table>"
      ],
      "text/plain": [
       "<IPython.core.display.HTML object>"
      ]
     },
     "metadata": {},
     "output_type": "display_data"
    },
    {
     "data": {
      "text/html": [
       "\n",
       "<style>\n",
       "    /* Turns off some styling */\n",
       "    progress {\n",
       "        /* gets rid of default border in Firefox and Opera. */\n",
       "        border: none;\n",
       "        /* Needs to be in here for Safari polyfill so background images work as expected. */\n",
       "        background-size: auto;\n",
       "    }\n",
       "    progress:not([value]), progress:not([value])::-webkit-progress-bar {\n",
       "        background: repeating-linear-gradient(45deg, #7e7e7e, #7e7e7e 10px, #5c5c5c 10px, #5c5c5c 20px);\n",
       "    }\n",
       "    .progress-bar-interrupted, .progress-bar-interrupted::-webkit-progress-bar {\n",
       "        background: #F44336;\n",
       "    }\n",
       "</style>\n"
      ],
      "text/plain": [
       "<IPython.core.display.HTML object>"
      ]
     },
     "metadata": {},
     "output_type": "display_data"
    },
    {
     "data": {
      "text/html": [
       "<table border=\"1\" class=\"dataframe\">\n",
       "  <thead>\n",
       "    <tr style=\"text-align: left;\">\n",
       "      <th>TimeR2Score</th>\n",
       "      <th>loss</th>\n",
       "      <th>epoch</th>\n",
       "      <th>train</th>\n",
       "      <th>time</th>\n",
       "    </tr>\n",
       "  </thead>\n",
       "  <tbody>\n",
       "    <tr>\n",
       "      <td>0.808</td>\n",
       "      <td>8.941</td>\n",
       "      <td>0</td>\n",
       "      <td>False</td>\n",
       "      <td>00:00</td>\n",
       "    </tr>\n",
       "  </tbody>\n",
       "</table>"
      ],
      "text/plain": [
       "<IPython.core.display.HTML object>"
      ]
     },
     "metadata": {},
     "output_type": "display_data"
    },
    {
     "name": "stdout",
     "output_type": "stream",
     "text": [
      "Inference on nascent\n",
      "\t\tpreds, targs\n",
      "tensor([[ 2.3633,  0.0000],\n",
      "        [ 6.0277,  4.0000],\n",
      "        [ 7.2966,  8.0000],\n",
      "        [10.0774, 12.0000],\n",
      "        [13.7334, 16.0000],\n",
      "        [18.6853, 20.0000],\n",
      "        [ 7.7763,  0.0000],\n",
      "        [ 2.6732,  4.0000],\n",
      "        [10.9524,  8.0000],\n",
      "        [10.4502, 12.0000],\n",
      "        [20.4731, 16.0000],\n",
      "        [20.3619, 20.0000]])\n",
      "result:  tensor(0.7960)\n"
     ]
    },
    {
     "data": {
      "text/html": [
       "\n",
       "<style>\n",
       "    /* Turns off some styling */\n",
       "    progress {\n",
       "        /* gets rid of default border in Firefox and Opera. */\n",
       "        border: none;\n",
       "        /* Needs to be in here for Safari polyfill so background images work as expected. */\n",
       "        background-size: auto;\n",
       "    }\n",
       "    progress:not([value]), progress:not([value])::-webkit-progress-bar {\n",
       "        background: repeating-linear-gradient(45deg, #7e7e7e, #7e7e7e 10px, #5c5c5c 10px, #5c5c5c 20px);\n",
       "    }\n",
       "    .progress-bar-interrupted, .progress-bar-interrupted::-webkit-progress-bar {\n",
       "        background: #F44336;\n",
       "    }\n",
       "</style>\n"
      ],
      "text/plain": [
       "<IPython.core.display.HTML object>"
      ]
     },
     "metadata": {},
     "output_type": "display_data"
    },
    {
     "data": {
      "text/html": [
       "<table border=\"1\" class=\"dataframe\">\n",
       "  <thead>\n",
       "    <tr style=\"text-align: left;\">\n",
       "      <th>TimeR2Score</th>\n",
       "      <th>loss</th>\n",
       "      <th>epoch</th>\n",
       "      <th>train</th>\n",
       "      <th>time</th>\n",
       "    </tr>\n",
       "  </thead>\n",
       "  <tbody>\n",
       "    <tr>\n",
       "      <td>0.684</td>\n",
       "      <td>14.932</td>\n",
       "      <td>0</td>\n",
       "      <td>False</td>\n",
       "      <td>00:00</td>\n",
       "    </tr>\n",
       "  </tbody>\n",
       "</table>"
      ],
      "text/plain": [
       "<IPython.core.display.HTML object>"
      ]
     },
     "metadata": {},
     "output_type": "display_data"
    },
    {
     "data": {
      "text/html": [
       "\n",
       "<style>\n",
       "    /* Turns off some styling */\n",
       "    progress {\n",
       "        /* gets rid of default border in Firefox and Opera. */\n",
       "        border: none;\n",
       "        /* Needs to be in here for Safari polyfill so background images work as expected. */\n",
       "        background-size: auto;\n",
       "    }\n",
       "    progress:not([value]), progress:not([value])::-webkit-progress-bar {\n",
       "        background: repeating-linear-gradient(45deg, #7e7e7e, #7e7e7e 10px, #5c5c5c 10px, #5c5c5c 20px);\n",
       "    }\n",
       "    .progress-bar-interrupted, .progress-bar-interrupted::-webkit-progress-bar {\n",
       "        background: #F44336;\n",
       "    }\n",
       "</style>\n"
      ],
      "text/plain": [
       "<IPython.core.display.HTML object>"
      ]
     },
     "metadata": {},
     "output_type": "display_data"
    },
    {
     "data": {
      "text/html": [
       "<table border=\"1\" class=\"dataframe\">\n",
       "  <thead>\n",
       "    <tr style=\"text-align: left;\">\n",
       "      <th>TimeR2Score</th>\n",
       "      <th>loss</th>\n",
       "      <th>epoch</th>\n",
       "      <th>train</th>\n",
       "      <th>time</th>\n",
       "    </tr>\n",
       "  </thead>\n",
       "  <tbody>\n",
       "    <tr>\n",
       "      <td>0.950</td>\n",
       "      <td>2.373</td>\n",
       "      <td>0</td>\n",
       "      <td>False</td>\n",
       "      <td>00:00</td>\n",
       "    </tr>\n",
       "  </tbody>\n",
       "</table>"
      ],
      "text/plain": [
       "<IPython.core.display.HTML object>"
      ]
     },
     "metadata": {},
     "output_type": "display_data"
    },
    {
     "name": "stdout",
     "output_type": "stream",
     "text": [
      "Inference on gro\n",
      "\t\tpreds, targs\n",
      "tensor([[ 7.8052,  1.0000],\n",
      "        [ 5.8126,  4.0000],\n",
      "        [ 7.5494,  7.0000],\n",
      "        [ 9.6838, 10.0000],\n",
      "        [13.7529, 13.0000],\n",
      "        [14.4882, 16.0000],\n",
      "        [18.8370, 19.0000],\n",
      "        [20.1139, 22.0000]])\n",
      "result:  tensor(0.8507)\n"
     ]
    },
    {
     "data": {
      "text/html": [
       "\n",
       "<style>\n",
       "    /* Turns off some styling */\n",
       "    progress {\n",
       "        /* gets rid of default border in Firefox and Opera. */\n",
       "        border: none;\n",
       "        /* Needs to be in here for Safari polyfill so background images work as expected. */\n",
       "        background-size: auto;\n",
       "    }\n",
       "    progress:not([value]), progress:not([value])::-webkit-progress-bar {\n",
       "        background: repeating-linear-gradient(45deg, #7e7e7e, #7e7e7e 10px, #5c5c5c 10px, #5c5c5c 20px);\n",
       "    }\n",
       "    .progress-bar-interrupted, .progress-bar-interrupted::-webkit-progress-bar {\n",
       "        background: #F44336;\n",
       "    }\n",
       "</style>\n"
      ],
      "text/plain": [
       "<IPython.core.display.HTML object>"
      ]
     },
     "metadata": {},
     "output_type": "display_data"
    },
    {
     "data": {
      "text/html": [
       "<table border=\"1\" class=\"dataframe\">\n",
       "  <thead>\n",
       "    <tr style=\"text-align: left;\">\n",
       "      <th>TimeR2Score</th>\n",
       "      <th>loss</th>\n",
       "      <th>epoch</th>\n",
       "      <th>train</th>\n",
       "      <th>time</th>\n",
       "    </tr>\n",
       "  </thead>\n",
       "  <tbody>\n",
       "    <tr>\n",
       "      <td>0.884</td>\n",
       "      <td>5.410</td>\n",
       "      <td>0</td>\n",
       "      <td>False</td>\n",
       "      <td>00:00</td>\n",
       "    </tr>\n",
       "  </tbody>\n",
       "</table>"
      ],
      "text/plain": [
       "<IPython.core.display.HTML object>"
      ]
     },
     "metadata": {},
     "output_type": "display_data"
    },
    {
     "data": {
      "text/html": [
       "\n",
       "<style>\n",
       "    /* Turns off some styling */\n",
       "    progress {\n",
       "        /* gets rid of default border in Firefox and Opera. */\n",
       "        border: none;\n",
       "        /* Needs to be in here for Safari polyfill so background images work as expected. */\n",
       "        background-size: auto;\n",
       "    }\n",
       "    progress:not([value]), progress:not([value])::-webkit-progress-bar {\n",
       "        background: repeating-linear-gradient(45deg, #7e7e7e, #7e7e7e 10px, #5c5c5c 10px, #5c5c5c 20px);\n",
       "    }\n",
       "    .progress-bar-interrupted, .progress-bar-interrupted::-webkit-progress-bar {\n",
       "        background: #F44336;\n",
       "    }\n",
       "</style>\n"
      ],
      "text/plain": [
       "<IPython.core.display.HTML object>"
      ]
     },
     "metadata": {},
     "output_type": "display_data"
    },
    {
     "data": {
      "text/html": [
       "<table border=\"1\" class=\"dataframe\">\n",
       "  <thead>\n",
       "    <tr style=\"text-align: left;\">\n",
       "      <th>TimeR2Score</th>\n",
       "      <th>loss</th>\n",
       "      <th>epoch</th>\n",
       "      <th>train</th>\n",
       "      <th>time</th>\n",
       "    </tr>\n",
       "  </thead>\n",
       "  <tbody>\n",
       "    <tr>\n",
       "      <td>0.905</td>\n",
       "      <td>4.444</td>\n",
       "      <td>0</td>\n",
       "      <td>False</td>\n",
       "      <td>00:00</td>\n",
       "    </tr>\n",
       "  </tbody>\n",
       "</table>"
      ],
      "text/plain": [
       "<IPython.core.display.HTML object>"
      ]
     },
     "metadata": {},
     "output_type": "display_data"
    },
    {
     "name": "stdout",
     "output_type": "stream",
     "text": [
      "Inference on rna\n",
      "\t\tpreds, targs\n",
      "tensor([[ 2.6605,  2.0000],\n",
      "        [ 7.3599,  6.0000],\n",
      "        [ 9.5106, 10.0000],\n",
      "        [13.8569, 14.0000],\n",
      "        [18.9978, 18.0000],\n",
      "        [21.2242, 22.0000],\n",
      "        [ 5.4691,  2.0000],\n",
      "        [ 7.0024,  6.0000],\n",
      "        [10.1901, 10.0000],\n",
      "        [11.3262, 14.0000],\n",
      "        [19.7877, 18.0000],\n",
      "        [16.5177, 22.0000]])\n",
      "result:  tensor(0.8971)\n"
     ]
    },
    {
     "data": {
      "text/html": [
       "\n",
       "<style>\n",
       "    /* Turns off some styling */\n",
       "    progress {\n",
       "        /* gets rid of default border in Firefox and Opera. */\n",
       "        border: none;\n",
       "        /* Needs to be in here for Safari polyfill so background images work as expected. */\n",
       "        background-size: auto;\n",
       "    }\n",
       "    progress:not([value]), progress:not([value])::-webkit-progress-bar {\n",
       "        background: repeating-linear-gradient(45deg, #7e7e7e, #7e7e7e 10px, #5c5c5c 10px, #5c5c5c 20px);\n",
       "    }\n",
       "    .progress-bar-interrupted, .progress-bar-interrupted::-webkit-progress-bar {\n",
       "        background: #F44336;\n",
       "    }\n",
       "</style>\n"
      ],
      "text/plain": [
       "<IPython.core.display.HTML object>"
      ]
     },
     "metadata": {},
     "output_type": "display_data"
    },
    {
     "data": {
      "text/html": [
       "<table border=\"1\" class=\"dataframe\">\n",
       "  <thead>\n",
       "    <tr style=\"text-align: left;\">\n",
       "      <th>TimeR2Score</th>\n",
       "      <th>loss</th>\n",
       "      <th>epoch</th>\n",
       "      <th>train</th>\n",
       "      <th>time</th>\n",
       "    </tr>\n",
       "  </thead>\n",
       "  <tbody>\n",
       "    <tr>\n",
       "      <td>0.600</td>\n",
       "      <td>44.118</td>\n",
       "      <td>0</td>\n",
       "      <td>False</td>\n",
       "      <td>00:00</td>\n",
       "    </tr>\n",
       "  </tbody>\n",
       "</table>"
      ],
      "text/plain": [
       "<IPython.core.display.HTML object>"
      ]
     },
     "metadata": {},
     "output_type": "display_data"
    },
    {
     "data": {
      "text/html": [
       "\n",
       "<style>\n",
       "    /* Turns off some styling */\n",
       "    progress {\n",
       "        /* gets rid of default border in Firefox and Opera. */\n",
       "        border: none;\n",
       "        /* Needs to be in here for Safari polyfill so background images work as expected. */\n",
       "        background-size: auto;\n",
       "    }\n",
       "    progress:not([value]), progress:not([value])::-webkit-progress-bar {\n",
       "        background: repeating-linear-gradient(45deg, #7e7e7e, #7e7e7e 10px, #5c5c5c 10px, #5c5c5c 20px);\n",
       "    }\n",
       "    .progress-bar-interrupted, .progress-bar-interrupted::-webkit-progress-bar {\n",
       "        background: #F44336;\n",
       "    }\n",
       "</style>\n"
      ],
      "text/plain": [
       "<IPython.core.display.HTML object>"
      ]
     },
     "metadata": {},
     "output_type": "display_data"
    },
    {
     "data": {
      "text/html": [
       "<table border=\"1\" class=\"dataframe\">\n",
       "  <thead>\n",
       "    <tr style=\"text-align: left;\">\n",
       "      <th>TimeR2Score</th>\n",
       "      <th>loss</th>\n",
       "      <th>epoch</th>\n",
       "      <th>train</th>\n",
       "      <th>time</th>\n",
       "    </tr>\n",
       "  </thead>\n",
       "  <tbody>\n",
       "    <tr>\n",
       "      <td>0.556</td>\n",
       "      <td>43.446</td>\n",
       "      <td>0</td>\n",
       "      <td>False</td>\n",
       "      <td>00:00</td>\n",
       "    </tr>\n",
       "  </tbody>\n",
       "</table>"
      ],
      "text/plain": [
       "<IPython.core.display.HTML object>"
      ]
     },
     "metadata": {},
     "output_type": "display_data"
    },
    {
     "name": "stdout",
     "output_type": "stream",
     "text": [
      "Inference on hepa\n",
      "\t\tpreds, targs\n",
      "tensor([[20.4476,  1.0000],\n",
      "        [18.8926,  1.0000],\n",
      "        [15.4334,  1.0000],\n",
      "        [ 5.8886,  4.0000],\n",
      "        [ 9.4182,  4.0000],\n",
      "        [14.0152,  4.0000],\n",
      "        [ 6.8327,  7.0000],\n",
      "        [ 7.2966,  7.0000],\n",
      "        [ 7.2546,  7.0000],\n",
      "        [ 9.9143, 10.0000],\n",
      "        [ 8.7330, 10.0000],\n",
      "        [ 8.2599, 10.0000],\n",
      "        [10.4960, 13.0000],\n",
      "        [10.2133, 13.0000],\n",
      "        [10.1936, 13.0000],\n",
      "        [13.5546, 16.0000],\n",
      "        [11.8961, 16.0000],\n",
      "        [13.8248, 16.0000],\n",
      "        [15.5584, 19.0000],\n",
      "        [16.7134, 19.0000],\n",
      "        [16.3859, 19.0000],\n",
      "        [17.2921, 22.0000],\n",
      "        [18.3345, 22.0000],\n",
      "        [19.4295, 22.0000],\n",
      "        [15.5445,  1.0000],\n",
      "        [15.7181,  1.0000],\n",
      "        [15.1388,  1.0000],\n",
      "        [ 5.7015,  4.0000],\n",
      "        [ 5.7498,  4.0000],\n",
      "        [ 1.7176,  4.0000],\n",
      "        [ 3.8897,  7.0000],\n",
      "        [ 3.4755,  7.0000],\n",
      "        [ 5.7067,  7.0000],\n",
      "        [ 7.7654, 10.0000],\n",
      "        [ 5.6003, 10.0000],\n",
      "        [10.2967, 10.0000],\n",
      "        [11.5603, 13.0000],\n",
      "        [10.9032, 13.0000],\n",
      "        [11.5318, 13.0000],\n",
      "        [14.2393, 16.0000],\n",
      "        [13.6520, 16.0000],\n",
      "        [14.2155, 16.0000],\n",
      "        [16.5792, 19.0000],\n",
      "        [17.4331, 19.0000],\n",
      "        [17.1991, 19.0000],\n",
      "        [13.7858, 22.0000],\n",
      "        [18.6805, 22.0000],\n",
      "        [11.1436, 22.0000]])\n",
      "result:  tensor(0.5751)\n"
     ]
    },
    {
     "data": {
      "text/html": [
       "\n",
       "<style>\n",
       "    /* Turns off some styling */\n",
       "    progress {\n",
       "        /* gets rid of default border in Firefox and Opera. */\n",
       "        border: none;\n",
       "        /* Needs to be in here for Safari polyfill so background images work as expected. */\n",
       "        background-size: auto;\n",
       "    }\n",
       "    progress:not([value]), progress:not([value])::-webkit-progress-bar {\n",
       "        background: repeating-linear-gradient(45deg, #7e7e7e, #7e7e7e 10px, #5c5c5c 10px, #5c5c5c 20px);\n",
       "    }\n",
       "    .progress-bar-interrupted, .progress-bar-interrupted::-webkit-progress-bar {\n",
       "        background: #F44336;\n",
       "    }\n",
       "</style>\n"
      ],
      "text/plain": [
       "<IPython.core.display.HTML object>"
      ]
     },
     "metadata": {},
     "output_type": "display_data"
    },
    {
     "data": {
      "text/html": [
       "<table border=\"1\" class=\"dataframe\">\n",
       "  <thead>\n",
       "    <tr style=\"text-align: left;\">\n",
       "      <th>TimeR2Score</th>\n",
       "      <th>loss</th>\n",
       "      <th>epoch</th>\n",
       "      <th>train</th>\n",
       "      <th>time</th>\n",
       "    </tr>\n",
       "  </thead>\n",
       "  <tbody>\n",
       "    <tr>\n",
       "      <td>0.414</td>\n",
       "      <td>290.475</td>\n",
       "      <td>0</td>\n",
       "      <td>False</td>\n",
       "      <td>00:03</td>\n",
       "    </tr>\n",
       "  </tbody>\n",
       "</table>"
      ],
      "text/plain": [
       "<IPython.core.display.HTML object>"
      ]
     },
     "metadata": {},
     "output_type": "display_data"
    },
    {
     "data": {
      "text/html": [
       "\n",
       "<style>\n",
       "    /* Turns off some styling */\n",
       "    progress {\n",
       "        /* gets rid of default border in Firefox and Opera. */\n",
       "        border: none;\n",
       "        /* Needs to be in here for Safari polyfill so background images work as expected. */\n",
       "        background-size: auto;\n",
       "    }\n",
       "    progress:not([value]), progress:not([value])::-webkit-progress-bar {\n",
       "        background: repeating-linear-gradient(45deg, #7e7e7e, #7e7e7e 10px, #5c5c5c 10px, #5c5c5c 20px);\n",
       "    }\n",
       "    .progress-bar-interrupted, .progress-bar-interrupted::-webkit-progress-bar {\n",
       "        background: #F44336;\n",
       "    }\n",
       "</style>\n"
      ],
      "text/plain": [
       "<IPython.core.display.HTML object>"
      ]
     },
     "metadata": {},
     "output_type": "display_data"
    },
    {
     "data": {
      "text/html": [
       "<table border=\"1\" class=\"dataframe\">\n",
       "  <thead>\n",
       "    <tr style=\"text-align: left;\">\n",
       "      <th>TimeR2Score</th>\n",
       "      <th>loss</th>\n",
       "      <th>epoch</th>\n",
       "      <th>train</th>\n",
       "      <th>time</th>\n",
       "    </tr>\n",
       "  </thead>\n",
       "  <tbody>\n",
       "    <tr>\n",
       "      <td>0.402</td>\n",
       "      <td>310.437</td>\n",
       "      <td>0</td>\n",
       "      <td>False</td>\n",
       "      <td>00:03</td>\n",
       "    </tr>\n",
       "  </tbody>\n",
       "</table>"
      ],
      "text/plain": [
       "<IPython.core.display.HTML object>"
      ]
     },
     "metadata": {},
     "output_type": "display_data"
    },
    {
     "name": "stdout",
     "output_type": "stream",
     "text": [
      "Inference on more\n",
      "\t\tpreds, targs\n",
      "tensor([[24.9240, 22.0000],\n",
      "        [24.9993, 22.0000],\n",
      "        [ 8.3347, 10.0000],\n",
      "        ...,\n",
      "        [-1.0000, 19.5000],\n",
      "        [-1.0000,  7.5000],\n",
      "        [-1.0000, 13.5000]])\n",
      "result:  tensor(0.4177)\n"
     ]
    }
   ],
   "source": [
    "lr, epochs = .1, 4\n",
    "tmax = epochs * len(dls.train)\n",
    "sched = partial(lr_scheduler.OneCycleLR, max_lr=lr, total_steps=tmax)\n",
    "xtra = [BatchSchedCB(sched)]\n",
    "ensemble_model(nlearn, get_model, epochs=epochs, lr=lr, cbs=cbs+xtra, opt_func=optim.AdamW)"
   ]
  },
  {
   "cell_type": "code",
   "execution_count": 72,
   "metadata": {
    "colab": {
     "base_uri": "https://localhost:8080/",
     "height": 1000
    },
    "id": "7ur_hNPg1RSL",
    "outputId": "41a5fe53-1982-48a5-b067-0223a126b8ce",
    "scrolled": false
   },
   "outputs": [
    {
     "name": "stdout",
     "output_type": "stream",
     "text": [
      "Training models\n"
     ]
    },
    {
     "data": {
      "text/html": [
       "\n",
       "<style>\n",
       "    /* Turns off some styling */\n",
       "    progress {\n",
       "        /* gets rid of default border in Firefox and Opera. */\n",
       "        border: none;\n",
       "        /* Needs to be in here for Safari polyfill so background images work as expected. */\n",
       "        background-size: auto;\n",
       "    }\n",
       "    progress:not([value]), progress:not([value])::-webkit-progress-bar {\n",
       "        background: repeating-linear-gradient(45deg, #7e7e7e, #7e7e7e 10px, #5c5c5c 10px, #5c5c5c 20px);\n",
       "    }\n",
       "    .progress-bar-interrupted, .progress-bar-interrupted::-webkit-progress-bar {\n",
       "        background: #F44336;\n",
       "    }\n",
       "</style>\n"
      ],
      "text/plain": [
       "<IPython.core.display.HTML object>"
      ]
     },
     "metadata": {},
     "output_type": "display_data"
    },
    {
     "data": {
      "text/html": [
       "<table border=\"1\" class=\"dataframe\">\n",
       "  <thead>\n",
       "    <tr style=\"text-align: left;\">\n",
       "      <th>TimeR2Score</th>\n",
       "      <th>loss</th>\n",
       "      <th>epoch</th>\n",
       "      <th>train</th>\n",
       "      <th>time</th>\n",
       "    </tr>\n",
       "  </thead>\n",
       "  <tbody>\n",
       "    <tr>\n",
       "      <td>0.903</td>\n",
       "      <td>5.060</td>\n",
       "      <td>0</td>\n",
       "      <td>True</td>\n",
       "      <td>00:02</td>\n",
       "    </tr>\n",
       "    <tr>\n",
       "      <td>0.935</td>\n",
       "      <td>3.909</td>\n",
       "      <td>0</td>\n",
       "      <td>False</td>\n",
       "      <td>00:00</td>\n",
       "    </tr>\n",
       "    <tr>\n",
       "      <td>0.929</td>\n",
       "      <td>3.575</td>\n",
       "      <td>1</td>\n",
       "      <td>True</td>\n",
       "      <td>00:02</td>\n",
       "    </tr>\n",
       "    <tr>\n",
       "      <td>0.947</td>\n",
       "      <td>3.176</td>\n",
       "      <td>1</td>\n",
       "      <td>False</td>\n",
       "      <td>00:00</td>\n",
       "    </tr>\n",
       "    <tr>\n",
       "      <td>0.947</td>\n",
       "      <td>2.635</td>\n",
       "      <td>2</td>\n",
       "      <td>True</td>\n",
       "      <td>00:02</td>\n",
       "    </tr>\n",
       "    <tr>\n",
       "      <td>0.954</td>\n",
       "      <td>2.735</td>\n",
       "      <td>2</td>\n",
       "      <td>False</td>\n",
       "      <td>00:00</td>\n",
       "    </tr>\n",
       "    <tr>\n",
       "      <td>0.964</td>\n",
       "      <td>1.708</td>\n",
       "      <td>3</td>\n",
       "      <td>True</td>\n",
       "      <td>00:02</td>\n",
       "    </tr>\n",
       "    <tr>\n",
       "      <td>0.975</td>\n",
       "      <td>1.441</td>\n",
       "      <td>3</td>\n",
       "      <td>False</td>\n",
       "      <td>00:00</td>\n",
       "    </tr>\n",
       "    <tr>\n",
       "      <td>0.977</td>\n",
       "      <td>1.058</td>\n",
       "      <td>4</td>\n",
       "      <td>True</td>\n",
       "      <td>00:02</td>\n",
       "    </tr>\n",
       "    <tr>\n",
       "      <td>0.978</td>\n",
       "      <td>1.260</td>\n",
       "      <td>4</td>\n",
       "      <td>False</td>\n",
       "      <td>00:00</td>\n",
       "    </tr>\n",
       "  </tbody>\n",
       "</table>"
      ],
      "text/plain": [
       "<IPython.core.display.HTML object>"
      ]
     },
     "metadata": {},
     "output_type": "display_data"
    },
    {
     "data": {
      "image/png": "[encoded data removed]",
      "text/plain": [
       "<Figure size 600x400 with 1 Axes>"
      ]
     },
     "metadata": {},
     "output_type": "display_data"
    },
    {
     "data": {
      "text/html": [
       "\n",
       "<style>\n",
       "    /* Turns off some styling */\n",
       "    progress {\n",
       "        /* gets rid of default border in Firefox and Opera. */\n",
       "        border: none;\n",
       "        /* Needs to be in here for Safari polyfill so background images work as expected. */\n",
       "        background-size: auto;\n",
       "    }\n",
       "    progress:not([value]), progress:not([value])::-webkit-progress-bar {\n",
       "        background: repeating-linear-gradient(45deg, #7e7e7e, #7e7e7e 10px, #5c5c5c 10px, #5c5c5c 20px);\n",
       "    }\n",
       "    .progress-bar-interrupted, .progress-bar-interrupted::-webkit-progress-bar {\n",
       "        background: #F44336;\n",
       "    }\n",
       "</style>\n"
      ],
      "text/plain": [
       "<IPython.core.display.HTML object>"
      ]
     },
     "metadata": {},
     "output_type": "display_data"
    },
    {
     "data": {
      "text/html": [
       "<table border=\"1\" class=\"dataframe\">\n",
       "  <thead>\n",
       "    <tr style=\"text-align: left;\">\n",
       "      <th>TimeR2Score</th>\n",
       "      <th>loss</th>\n",
       "      <th>epoch</th>\n",
       "      <th>train</th>\n",
       "      <th>time</th>\n",
       "    </tr>\n",
       "  </thead>\n",
       "  <tbody>\n",
       "    <tr>\n",
       "      <td>0.885</td>\n",
       "      <td>5.940</td>\n",
       "      <td>0</td>\n",
       "      <td>True</td>\n",
       "      <td>00:02</td>\n",
       "    </tr>\n",
       "    <tr>\n",
       "      <td>0.867</td>\n",
       "      <td>6.740</td>\n",
       "      <td>0</td>\n",
       "      <td>False</td>\n",
       "      <td>00:00</td>\n",
       "    </tr>\n",
       "    <tr>\n",
       "      <td>0.919</td>\n",
       "      <td>4.168</td>\n",
       "      <td>1</td>\n",
       "      <td>True</td>\n",
       "      <td>00:02</td>\n",
       "    </tr>\n",
       "    <tr>\n",
       "      <td>0.952</td>\n",
       "      <td>2.562</td>\n",
       "      <td>1</td>\n",
       "      <td>False</td>\n",
       "      <td>00:00</td>\n",
       "    </tr>\n",
       "    <tr>\n",
       "      <td>0.953</td>\n",
       "      <td>2.263</td>\n",
       "      <td>2</td>\n",
       "      <td>True</td>\n",
       "      <td>00:02</td>\n",
       "    </tr>\n",
       "    <tr>\n",
       "      <td>0.962</td>\n",
       "      <td>1.845</td>\n",
       "      <td>2</td>\n",
       "      <td>False</td>\n",
       "      <td>00:00</td>\n",
       "    </tr>\n",
       "    <tr>\n",
       "      <td>0.969</td>\n",
       "      <td>1.451</td>\n",
       "      <td>3</td>\n",
       "      <td>True</td>\n",
       "      <td>00:02</td>\n",
       "    </tr>\n",
       "    <tr>\n",
       "      <td>0.976</td>\n",
       "      <td>1.161</td>\n",
       "      <td>3</td>\n",
       "      <td>False</td>\n",
       "      <td>00:00</td>\n",
       "    </tr>\n",
       "    <tr>\n",
       "      <td>0.979</td>\n",
       "      <td>0.982</td>\n",
       "      <td>4</td>\n",
       "      <td>True</td>\n",
       "      <td>00:02</td>\n",
       "    </tr>\n",
       "    <tr>\n",
       "      <td>0.978</td>\n",
       "      <td>1.043</td>\n",
       "      <td>4</td>\n",
       "      <td>False</td>\n",
       "      <td>00:00</td>\n",
       "    </tr>\n",
       "  </tbody>\n",
       "</table>"
      ],
      "text/plain": [
       "<IPython.core.display.HTML object>"
      ]
     },
     "metadata": {},
     "output_type": "display_data"
    },
    {
     "data": {
      "image/png": "[encoded data removed]",
      "text/plain": [
       "<Figure size 600x400 with 1 Axes>"
      ]
     },
     "metadata": {},
     "output_type": "display_data"
    },
    {
     "name": "stdout",
     "output_type": "stream",
     "text": [
      "Making inference on test data\n"
     ]
    },
    {
     "data": {
      "text/html": [
       "\n",
       "<style>\n",
       "    /* Turns off some styling */\n",
       "    progress {\n",
       "        /* gets rid of default border in Firefox and Opera. */\n",
       "        border: none;\n",
       "        /* Needs to be in here for Safari polyfill so background images work as expected. */\n",
       "        background-size: auto;\n",
       "    }\n",
       "    progress:not([value]), progress:not([value])::-webkit-progress-bar {\n",
       "        background: repeating-linear-gradient(45deg, #7e7e7e, #7e7e7e 10px, #5c5c5c 10px, #5c5c5c 20px);\n",
       "    }\n",
       "    .progress-bar-interrupted, .progress-bar-interrupted::-webkit-progress-bar {\n",
       "        background: #F44336;\n",
       "    }\n",
       "</style>\n"
      ],
      "text/plain": [
       "<IPython.core.display.HTML object>"
      ]
     },
     "metadata": {},
     "output_type": "display_data"
    },
    {
     "data": {
      "text/html": [
       "<table border=\"1\" class=\"dataframe\">\n",
       "  <thead>\n",
       "    <tr style=\"text-align: left;\">\n",
       "      <th>TimeR2Score</th>\n",
       "      <th>loss</th>\n",
       "      <th>epoch</th>\n",
       "      <th>train</th>\n",
       "      <th>time</th>\n",
       "    </tr>\n",
       "  </thead>\n",
       "  <tbody>\n",
       "    <tr>\n",
       "      <td>0.840</td>\n",
       "      <td>7.459</td>\n",
       "      <td>0</td>\n",
       "      <td>False</td>\n",
       "      <td>00:00</td>\n",
       "    </tr>\n",
       "  </tbody>\n",
       "</table>"
      ],
      "text/plain": [
       "<IPython.core.display.HTML object>"
      ]
     },
     "metadata": {},
     "output_type": "display_data"
    },
    {
     "data": {
      "text/html": [
       "\n",
       "<style>\n",
       "    /* Turns off some styling */\n",
       "    progress {\n",
       "        /* gets rid of default border in Firefox and Opera. */\n",
       "        border: none;\n",
       "        /* Needs to be in here for Safari polyfill so background images work as expected. */\n",
       "        background-size: auto;\n",
       "    }\n",
       "    progress:not([value]), progress:not([value])::-webkit-progress-bar {\n",
       "        background: repeating-linear-gradient(45deg, #7e7e7e, #7e7e7e 10px, #5c5c5c 10px, #5c5c5c 20px);\n",
       "    }\n",
       "    .progress-bar-interrupted, .progress-bar-interrupted::-webkit-progress-bar {\n",
       "        background: #F44336;\n",
       "    }\n",
       "</style>\n"
      ],
      "text/plain": [
       "<IPython.core.display.HTML object>"
      ]
     },
     "metadata": {},
     "output_type": "display_data"
    },
    {
     "data": {
      "text/html": [
       "<table border=\"1\" class=\"dataframe\">\n",
       "  <thead>\n",
       "    <tr style=\"text-align: left;\">\n",
       "      <th>TimeR2Score</th>\n",
       "      <th>loss</th>\n",
       "      <th>epoch</th>\n",
       "      <th>train</th>\n",
       "      <th>time</th>\n",
       "    </tr>\n",
       "  </thead>\n",
       "  <tbody>\n",
       "    <tr>\n",
       "      <td>0.843</td>\n",
       "      <td>7.304</td>\n",
       "      <td>0</td>\n",
       "      <td>False</td>\n",
       "      <td>00:00</td>\n",
       "    </tr>\n",
       "  </tbody>\n",
       "</table>"
      ],
      "text/plain": [
       "<IPython.core.display.HTML object>"
      ]
     },
     "metadata": {},
     "output_type": "display_data"
    },
    {
     "name": "stdout",
     "output_type": "stream",
     "text": [
      "Inference on nascent\n",
      "\t\tpreds, targs\n",
      "tensor([[ 2.4755,  0.0000],\n",
      "        [ 5.6133,  4.0000],\n",
      "        [ 7.5066,  8.0000],\n",
      "        [ 9.7266, 12.0000],\n",
      "        [13.7503, 16.0000],\n",
      "        [18.2652, 20.0000],\n",
      "        [ 6.0845,  0.0000],\n",
      "        [ 3.2711,  4.0000],\n",
      "        [11.1991,  8.0000],\n",
      "        [10.5105, 12.0000],\n",
      "        [19.8935, 16.0000],\n",
      "        [20.4826, 20.0000]])\n",
      "result:  tensor(0.8436)\n"
     ]
    },
    {
     "data": {
      "text/html": [
       "\n",
       "<style>\n",
       "    /* Turns off some styling */\n",
       "    progress {\n",
       "        /* gets rid of default border in Firefox and Opera. */\n",
       "        border: none;\n",
       "        /* Needs to be in here for Safari polyfill so background images work as expected. */\n",
       "        background-size: auto;\n",
       "    }\n",
       "    progress:not([value]), progress:not([value])::-webkit-progress-bar {\n",
       "        background: repeating-linear-gradient(45deg, #7e7e7e, #7e7e7e 10px, #5c5c5c 10px, #5c5c5c 20px);\n",
       "    }\n",
       "    .progress-bar-interrupted, .progress-bar-interrupted::-webkit-progress-bar {\n",
       "        background: #F44336;\n",
       "    }\n",
       "</style>\n"
      ],
      "text/plain": [
       "<IPython.core.display.HTML object>"
      ]
     },
     "metadata": {},
     "output_type": "display_data"
    },
    {
     "data": {
      "text/html": [
       "<table border=\"1\" class=\"dataframe\">\n",
       "  <thead>\n",
       "    <tr style=\"text-align: left;\">\n",
       "      <th>TimeR2Score</th>\n",
       "      <th>loss</th>\n",
       "      <th>epoch</th>\n",
       "      <th>train</th>\n",
       "      <th>time</th>\n",
       "    </tr>\n",
       "  </thead>\n",
       "  <tbody>\n",
       "    <tr>\n",
       "      <td>0.826</td>\n",
       "      <td>8.201</td>\n",
       "      <td>0</td>\n",
       "      <td>False</td>\n",
       "      <td>00:00</td>\n",
       "    </tr>\n",
       "  </tbody>\n",
       "</table>"
      ],
      "text/plain": [
       "<IPython.core.display.HTML object>"
      ]
     },
     "metadata": {},
     "output_type": "display_data"
    },
    {
     "data": {
      "text/html": [
       "\n",
       "<style>\n",
       "    /* Turns off some styling */\n",
       "    progress {\n",
       "        /* gets rid of default border in Firefox and Opera. */\n",
       "        border: none;\n",
       "        /* Needs to be in here for Safari polyfill so background images work as expected. */\n",
       "        background-size: auto;\n",
       "    }\n",
       "    progress:not([value]), progress:not([value])::-webkit-progress-bar {\n",
       "        background: repeating-linear-gradient(45deg, #7e7e7e, #7e7e7e 10px, #5c5c5c 10px, #5c5c5c 20px);\n",
       "    }\n",
       "    .progress-bar-interrupted, .progress-bar-interrupted::-webkit-progress-bar {\n",
       "        background: #F44336;\n",
       "    }\n",
       "</style>\n"
      ],
      "text/plain": [
       "<IPython.core.display.HTML object>"
      ]
     },
     "metadata": {},
     "output_type": "display_data"
    },
    {
     "data": {
      "text/html": [
       "<table border=\"1\" class=\"dataframe\">\n",
       "  <thead>\n",
       "    <tr style=\"text-align: left;\">\n",
       "      <th>TimeR2Score</th>\n",
       "      <th>loss</th>\n",
       "      <th>epoch</th>\n",
       "      <th>train</th>\n",
       "      <th>time</th>\n",
       "    </tr>\n",
       "  </thead>\n",
       "  <tbody>\n",
       "    <tr>\n",
       "      <td>0.842</td>\n",
       "      <td>38.338</td>\n",
       "      <td>0</td>\n",
       "      <td>False</td>\n",
       "      <td>00:00</td>\n",
       "    </tr>\n",
       "  </tbody>\n",
       "</table>"
      ],
      "text/plain": [
       "<IPython.core.display.HTML object>"
      ]
     },
     "metadata": {},
     "output_type": "display_data"
    },
    {
     "name": "stdout",
     "output_type": "stream",
     "text": [
      "Inference on gro\n",
      "\t\tpreds, targs\n",
      "tensor([[12.9390,  1.0000],\n",
      "        [ 6.0103,  4.0000],\n",
      "        [ 7.6334,  7.0000],\n",
      "        [ 9.0664, 10.0000],\n",
      "        [13.4714, 13.0000],\n",
      "        [14.1404, 16.0000],\n",
      "        [18.4364, 19.0000],\n",
      "        [19.4550, 22.0000]])\n",
      "result:  tensor(0.5811)\n"
     ]
    },
    {
     "data": {
      "text/html": [
       "\n",
       "<style>\n",
       "    /* Turns off some styling */\n",
       "    progress {\n",
       "        /* gets rid of default border in Firefox and Opera. */\n",
       "        border: none;\n",
       "        /* Needs to be in here for Safari polyfill so background images work as expected. */\n",
       "        background-size: auto;\n",
       "    }\n",
       "    progress:not([value]), progress:not([value])::-webkit-progress-bar {\n",
       "        background: repeating-linear-gradient(45deg, #7e7e7e, #7e7e7e 10px, #5c5c5c 10px, #5c5c5c 20px);\n",
       "    }\n",
       "    .progress-bar-interrupted, .progress-bar-interrupted::-webkit-progress-bar {\n",
       "        background: #F44336;\n",
       "    }\n",
       "</style>\n"
      ],
      "text/plain": [
       "<IPython.core.display.HTML object>"
      ]
     },
     "metadata": {},
     "output_type": "display_data"
    },
    {
     "data": {
      "text/html": [
       "<table border=\"1\" class=\"dataframe\">\n",
       "  <thead>\n",
       "    <tr style=\"text-align: left;\">\n",
       "      <th>TimeR2Score</th>\n",
       "      <th>loss</th>\n",
       "      <th>epoch</th>\n",
       "      <th>train</th>\n",
       "      <th>time</th>\n",
       "    </tr>\n",
       "  </thead>\n",
       "  <tbody>\n",
       "    <tr>\n",
       "      <td>0.790</td>\n",
       "      <td>9.822</td>\n",
       "      <td>0</td>\n",
       "      <td>False</td>\n",
       "      <td>00:00</td>\n",
       "    </tr>\n",
       "  </tbody>\n",
       "</table>"
      ],
      "text/plain": [
       "<IPython.core.display.HTML object>"
      ]
     },
     "metadata": {},
     "output_type": "display_data"
    },
    {
     "data": {
      "text/html": [
       "\n",
       "<style>\n",
       "    /* Turns off some styling */\n",
       "    progress {\n",
       "        /* gets rid of default border in Firefox and Opera. */\n",
       "        border: none;\n",
       "        /* Needs to be in here for Safari polyfill so background images work as expected. */\n",
       "        background-size: auto;\n",
       "    }\n",
       "    progress:not([value]), progress:not([value])::-webkit-progress-bar {\n",
       "        background: repeating-linear-gradient(45deg, #7e7e7e, #7e7e7e 10px, #5c5c5c 10px, #5c5c5c 20px);\n",
       "    }\n",
       "    .progress-bar-interrupted, .progress-bar-interrupted::-webkit-progress-bar {\n",
       "        background: #F44336;\n",
       "    }\n",
       "</style>\n"
      ],
      "text/plain": [
       "<IPython.core.display.HTML object>"
      ]
     },
     "metadata": {},
     "output_type": "display_data"
    },
    {
     "data": {
      "text/html": [
       "<table border=\"1\" class=\"dataframe\">\n",
       "  <thead>\n",
       "    <tr style=\"text-align: left;\">\n",
       "      <th>TimeR2Score</th>\n",
       "      <th>loss</th>\n",
       "      <th>epoch</th>\n",
       "      <th>train</th>\n",
       "      <th>time</th>\n",
       "    </tr>\n",
       "  </thead>\n",
       "  <tbody>\n",
       "    <tr>\n",
       "      <td>0.848</td>\n",
       "      <td>7.074</td>\n",
       "      <td>0</td>\n",
       "      <td>False</td>\n",
       "      <td>00:00</td>\n",
       "    </tr>\n",
       "  </tbody>\n",
       "</table>"
      ],
      "text/plain": [
       "<IPython.core.display.HTML object>"
      ]
     },
     "metadata": {},
     "output_type": "display_data"
    },
    {
     "name": "stdout",
     "output_type": "stream",
     "text": [
      "Inference on rna\n",
      "\t\tpreds, targs\n",
      "tensor([[ 3.7464,  2.0000],\n",
      "        [ 6.8283,  6.0000],\n",
      "        [ 9.4565, 10.0000],\n",
      "        [13.7278, 14.0000],\n",
      "        [19.1043, 18.0000],\n",
      "        [20.5892, 22.0000],\n",
      "        [ 5.4489,  2.0000],\n",
      "        [ 7.2203,  6.0000],\n",
      "        [10.0996, 10.0000],\n",
      "        [11.3983, 14.0000],\n",
      "        [19.4739, 18.0000],\n",
      "        [13.6279, 22.0000]])\n",
      "result:  tensor(0.8219)\n"
     ]
    },
    {
     "data": {
      "text/html": [
       "\n",
       "<style>\n",
       "    /* Turns off some styling */\n",
       "    progress {\n",
       "        /* gets rid of default border in Firefox and Opera. */\n",
       "        border: none;\n",
       "        /* Needs to be in here for Safari polyfill so background images work as expected. */\n",
       "        background-size: auto;\n",
       "    }\n",
       "    progress:not([value]), progress:not([value])::-webkit-progress-bar {\n",
       "        background: repeating-linear-gradient(45deg, #7e7e7e, #7e7e7e 10px, #5c5c5c 10px, #5c5c5c 20px);\n",
       "    }\n",
       "    .progress-bar-interrupted, .progress-bar-interrupted::-webkit-progress-bar {\n",
       "        background: #F44336;\n",
       "    }\n",
       "</style>\n"
      ],
      "text/plain": [
       "<IPython.core.display.HTML object>"
      ]
     },
     "metadata": {},
     "output_type": "display_data"
    },
    {
     "data": {
      "text/html": [
       "<table border=\"1\" class=\"dataframe\">\n",
       "  <thead>\n",
       "    <tr style=\"text-align: left;\">\n",
       "      <th>TimeR2Score</th>\n",
       "      <th>loss</th>\n",
       "      <th>epoch</th>\n",
       "      <th>train</th>\n",
       "      <th>time</th>\n",
       "    </tr>\n",
       "  </thead>\n",
       "  <tbody>\n",
       "    <tr>\n",
       "      <td>0.579</td>\n",
       "      <td>41.824</td>\n",
       "      <td>0</td>\n",
       "      <td>False</td>\n",
       "      <td>00:00</td>\n",
       "    </tr>\n",
       "  </tbody>\n",
       "</table>"
      ],
      "text/plain": [
       "<IPython.core.display.HTML object>"
      ]
     },
     "metadata": {},
     "output_type": "display_data"
    },
    {
     "data": {
      "text/html": [
       "\n",
       "<style>\n",
       "    /* Turns off some styling */\n",
       "    progress {\n",
       "        /* gets rid of default border in Firefox and Opera. */\n",
       "        border: none;\n",
       "        /* Needs to be in here for Safari polyfill so background images work as expected. */\n",
       "        background-size: auto;\n",
       "    }\n",
       "    progress:not([value]), progress:not([value])::-webkit-progress-bar {\n",
       "        background: repeating-linear-gradient(45deg, #7e7e7e, #7e7e7e 10px, #5c5c5c 10px, #5c5c5c 20px);\n",
       "    }\n",
       "    .progress-bar-interrupted, .progress-bar-interrupted::-webkit-progress-bar {\n",
       "        background: #F44336;\n",
       "    }\n",
       "</style>\n"
      ],
      "text/plain": [
       "<IPython.core.display.HTML object>"
      ]
     },
     "metadata": {},
     "output_type": "display_data"
    },
    {
     "data": {
      "text/html": [
       "<table border=\"1\" class=\"dataframe\">\n",
       "  <thead>\n",
       "    <tr style=\"text-align: left;\">\n",
       "      <th>TimeR2Score</th>\n",
       "      <th>loss</th>\n",
       "      <th>epoch</th>\n",
       "      <th>train</th>\n",
       "      <th>time</th>\n",
       "    </tr>\n",
       "  </thead>\n",
       "  <tbody>\n",
       "    <tr>\n",
       "      <td>0.587</td>\n",
       "      <td>39.367</td>\n",
       "      <td>0</td>\n",
       "      <td>False</td>\n",
       "      <td>00:00</td>\n",
       "    </tr>\n",
       "  </tbody>\n",
       "</table>"
      ],
      "text/plain": [
       "<IPython.core.display.HTML object>"
      ]
     },
     "metadata": {},
     "output_type": "display_data"
    },
    {
     "name": "stdout",
     "output_type": "stream",
     "text": [
      "Inference on hepa\n",
      "\t\tpreds, targs\n",
      "tensor([[20.1500,  1.0000],\n",
      "        [18.6535,  1.0000],\n",
      "        [15.5628,  1.0000],\n",
      "        [ 8.1601,  4.0000],\n",
      "        [ 8.9924,  4.0000],\n",
      "        [10.2180,  4.0000],\n",
      "        [ 7.0067,  7.0000],\n",
      "        [ 6.8947,  7.0000],\n",
      "        [ 6.9788,  7.0000],\n",
      "        [10.1133, 10.0000],\n",
      "        [ 8.7536, 10.0000],\n",
      "        [ 9.0907, 10.0000],\n",
      "        [11.1173, 13.0000],\n",
      "        [10.0415, 13.0000],\n",
      "        [10.6167, 13.0000],\n",
      "        [13.5712, 16.0000],\n",
      "        [12.0335, 16.0000],\n",
      "        [13.8954, 16.0000],\n",
      "        [16.4589, 19.0000],\n",
      "        [16.2914, 19.0000],\n",
      "        [15.7329, 19.0000],\n",
      "        [18.5805, 22.0000],\n",
      "        [18.7468, 22.0000],\n",
      "        [18.1264, 22.0000],\n",
      "        [14.1489,  1.0000],\n",
      "        [12.8654,  1.0000],\n",
      "        [14.3740,  1.0000],\n",
      "        [ 8.0690,  4.0000],\n",
      "        [ 7.0533,  4.0000],\n",
      "        [ 1.8133,  4.0000],\n",
      "        [ 3.4279,  7.0000],\n",
      "        [ 3.5161,  7.0000],\n",
      "        [ 6.4468,  7.0000],\n",
      "        [ 7.8139, 10.0000],\n",
      "        [ 6.4416, 10.0000],\n",
      "        [ 8.6755, 10.0000],\n",
      "        [12.0770, 13.0000],\n",
      "        [ 9.8398, 13.0000],\n",
      "        [12.4023, 13.0000],\n",
      "        [13.9667, 16.0000],\n",
      "        [13.7550, 16.0000],\n",
      "        [14.3068, 16.0000],\n",
      "        [17.1591, 19.0000],\n",
      "        [16.9278, 19.0000],\n",
      "        [17.3864, 19.0000],\n",
      "        [13.4460, 22.0000],\n",
      "        [18.6984, 22.0000],\n",
      "        [10.0162, 22.0000]])\n",
      "result:  tensor(0.5372)\n"
     ]
    },
    {
     "data": {
      "text/html": [
       "\n",
       "<style>\n",
       "    /* Turns off some styling */\n",
       "    progress {\n",
       "        /* gets rid of default border in Firefox and Opera. */\n",
       "        border: none;\n",
       "        /* Needs to be in here for Safari polyfill so background images work as expected. */\n",
       "        background-size: auto;\n",
       "    }\n",
       "    progress:not([value]), progress:not([value])::-webkit-progress-bar {\n",
       "        background: repeating-linear-gradient(45deg, #7e7e7e, #7e7e7e 10px, #5c5c5c 10px, #5c5c5c 20px);\n",
       "    }\n",
       "    .progress-bar-interrupted, .progress-bar-interrupted::-webkit-progress-bar {\n",
       "        background: #F44336;\n",
       "    }\n",
       "</style>\n"
      ],
      "text/plain": [
       "<IPython.core.display.HTML object>"
      ]
     },
     "metadata": {},
     "output_type": "display_data"
    },
    {
     "data": {
      "text/html": [
       "<table border=\"1\" class=\"dataframe\">\n",
       "  <thead>\n",
       "    <tr style=\"text-align: left;\">\n",
       "      <th>TimeR2Score</th>\n",
       "      <th>loss</th>\n",
       "      <th>epoch</th>\n",
       "      <th>train</th>\n",
       "      <th>time</th>\n",
       "    </tr>\n",
       "  </thead>\n",
       "  <tbody>\n",
       "    <tr>\n",
       "      <td>0.412</td>\n",
       "      <td>301.129</td>\n",
       "      <td>0</td>\n",
       "      <td>False</td>\n",
       "      <td>00:03</td>\n",
       "    </tr>\n",
       "  </tbody>\n",
       "</table>"
      ],
      "text/plain": [
       "<IPython.core.display.HTML object>"
      ]
     },
     "metadata": {},
     "output_type": "display_data"
    },
    {
     "data": {
      "text/html": [
       "\n",
       "<style>\n",
       "    /* Turns off some styling */\n",
       "    progress {\n",
       "        /* gets rid of default border in Firefox and Opera. */\n",
       "        border: none;\n",
       "        /* Needs to be in here for Safari polyfill so background images work as expected. */\n",
       "        background-size: auto;\n",
       "    }\n",
       "    progress:not([value]), progress:not([value])::-webkit-progress-bar {\n",
       "        background: repeating-linear-gradient(45deg, #7e7e7e, #7e7e7e 10px, #5c5c5c 10px, #5c5c5c 20px);\n",
       "    }\n",
       "    .progress-bar-interrupted, .progress-bar-interrupted::-webkit-progress-bar {\n",
       "        background: #F44336;\n",
       "    }\n",
       "</style>\n"
      ],
      "text/plain": [
       "<IPython.core.display.HTML object>"
      ]
     },
     "metadata": {},
     "output_type": "display_data"
    },
    {
     "data": {
      "text/html": [
       "<table border=\"1\" class=\"dataframe\">\n",
       "  <thead>\n",
       "    <tr style=\"text-align: left;\">\n",
       "      <th>TimeR2Score</th>\n",
       "      <th>loss</th>\n",
       "      <th>epoch</th>\n",
       "      <th>train</th>\n",
       "      <th>time</th>\n",
       "    </tr>\n",
       "  </thead>\n",
       "  <tbody>\n",
       "    <tr>\n",
       "      <td>0.394</td>\n",
       "      <td>307.164</td>\n",
       "      <td>0</td>\n",
       "      <td>False</td>\n",
       "      <td>00:03</td>\n",
       "    </tr>\n",
       "  </tbody>\n",
       "</table>"
      ],
      "text/plain": [
       "<IPython.core.display.HTML object>"
      ]
     },
     "metadata": {},
     "output_type": "display_data"
    },
    {
     "name": "stdout",
     "output_type": "stream",
     "text": [
      "Inference on more\n",
      "\t\tpreds, targs\n",
      "tensor([[16.0296, 22.0000],\n",
      "        [22.0696, 22.0000],\n",
      "        [11.9774, 10.0000],\n",
      "        ...,\n",
      "        [-1.0000, 19.5000],\n",
      "        [-0.9999,  7.5000],\n",
      "        [-0.9997, 13.5000]])\n",
      "result:  tensor(0.4024)\n"
     ]
    }
   ],
   "source": [
    "lr, epochs = .3, 5\n",
    "tmax = epochs * len(dls.train)\n",
    "sched = partial(lr_scheduler.OneCycleLR, max_lr=lr, total_steps=tmax)\n",
    "xtra = [BatchSchedCB(sched)]\n",
    "ensemble_model(nlearn, get_model, epochs=epochs, lr=lr, cbs=cbs+xtra, opt_func=optim.AdamW)"
   ]
  },
  {
   "cell_type": "code",
   "execution_count": 73,
   "metadata": {
    "colab": {
     "base_uri": "https://localhost:8080/",
     "height": 1000
    },
    "id": "8LwFjXn52VNY",
    "outputId": "33e3dfa0-e815-419e-f8ec-d7b8d7847c6b",
    "scrolled": false
   },
   "outputs": [
    {
     "name": "stdout",
     "output_type": "stream",
     "text": [
      "Training models\n"
     ]
    },
    {
     "data": {
      "text/html": [
       "\n",
       "<style>\n",
       "    /* Turns off some styling */\n",
       "    progress {\n",
       "        /* gets rid of default border in Firefox and Opera. */\n",
       "        border: none;\n",
       "        /* Needs to be in here for Safari polyfill so background images work as expected. */\n",
       "        background-size: auto;\n",
       "    }\n",
       "    progress:not([value]), progress:not([value])::-webkit-progress-bar {\n",
       "        background: repeating-linear-gradient(45deg, #7e7e7e, #7e7e7e 10px, #5c5c5c 10px, #5c5c5c 20px);\n",
       "    }\n",
       "    .progress-bar-interrupted, .progress-bar-interrupted::-webkit-progress-bar {\n",
       "        background: #F44336;\n",
       "    }\n",
       "</style>\n"
      ],
      "text/plain": [
       "<IPython.core.display.HTML object>"
      ]
     },
     "metadata": {},
     "output_type": "display_data"
    },
    {
     "data": {
      "text/html": [
       "<table border=\"1\" class=\"dataframe\">\n",
       "  <thead>\n",
       "    <tr style=\"text-align: left;\">\n",
       "      <th>TimeR2Score</th>\n",
       "      <th>loss</th>\n",
       "      <th>epoch</th>\n",
       "      <th>train</th>\n",
       "      <th>time</th>\n",
       "    </tr>\n",
       "  </thead>\n",
       "  <tbody>\n",
       "    <tr>\n",
       "      <td>0.894</td>\n",
       "      <td>5.141</td>\n",
       "      <td>0</td>\n",
       "      <td>True</td>\n",
       "      <td>00:03</td>\n",
       "    </tr>\n",
       "    <tr>\n",
       "      <td>0.958</td>\n",
       "      <td>2.455</td>\n",
       "      <td>0</td>\n",
       "      <td>False</td>\n",
       "      <td>00:00</td>\n",
       "    </tr>\n",
       "    <tr>\n",
       "      <td>0.950</td>\n",
       "      <td>2.433</td>\n",
       "      <td>1</td>\n",
       "      <td>True</td>\n",
       "      <td>00:03</td>\n",
       "    </tr>\n",
       "    <tr>\n",
       "      <td>0.956</td>\n",
       "      <td>2.359</td>\n",
       "      <td>1</td>\n",
       "      <td>False</td>\n",
       "      <td>00:00</td>\n",
       "    </tr>\n",
       "    <tr>\n",
       "      <td>0.964</td>\n",
       "      <td>1.730</td>\n",
       "      <td>2</td>\n",
       "      <td>True</td>\n",
       "      <td>00:03</td>\n",
       "    </tr>\n",
       "    <tr>\n",
       "      <td>0.971</td>\n",
       "      <td>1.421</td>\n",
       "      <td>2</td>\n",
       "      <td>False</td>\n",
       "      <td>00:00</td>\n",
       "    </tr>\n",
       "    <tr>\n",
       "      <td>0.974</td>\n",
       "      <td>1.202</td>\n",
       "      <td>3</td>\n",
       "      <td>True</td>\n",
       "      <td>00:02</td>\n",
       "    </tr>\n",
       "    <tr>\n",
       "      <td>0.980</td>\n",
       "      <td>1.104</td>\n",
       "      <td>3</td>\n",
       "      <td>False</td>\n",
       "      <td>00:00</td>\n",
       "    </tr>\n",
       "    <tr>\n",
       "      <td>0.981</td>\n",
       "      <td>0.877</td>\n",
       "      <td>4</td>\n",
       "      <td>True</td>\n",
       "      <td>00:03</td>\n",
       "    </tr>\n",
       "    <tr>\n",
       "      <td>0.983</td>\n",
       "      <td>0.952</td>\n",
       "      <td>4</td>\n",
       "      <td>False</td>\n",
       "      <td>00:00</td>\n",
       "    </tr>\n",
       "    <tr>\n",
       "      <td>0.986</td>\n",
       "      <td>0.657</td>\n",
       "      <td>5</td>\n",
       "      <td>True</td>\n",
       "      <td>00:03</td>\n",
       "    </tr>\n",
       "    <tr>\n",
       "      <td>0.984</td>\n",
       "      <td>0.887</td>\n",
       "      <td>5</td>\n",
       "      <td>False</td>\n",
       "      <td>00:00</td>\n",
       "    </tr>\n",
       "  </tbody>\n",
       "</table>"
      ],
      "text/plain": [
       "<IPython.core.display.HTML object>"
      ]
     },
     "metadata": {},
     "output_type": "display_data"
    },
    {
     "data": {
      "image/png": "[encoded data removed]",
      "text/plain": [
       "<Figure size 600x400 with 1 Axes>"
      ]
     },
     "metadata": {},
     "output_type": "display_data"
    },
    {
     "data": {
      "text/html": [
       "\n",
       "<style>\n",
       "    /* Turns off some styling */\n",
       "    progress {\n",
       "        /* gets rid of default border in Firefox and Opera. */\n",
       "        border: none;\n",
       "        /* Needs to be in here for Safari polyfill so background images work as expected. */\n",
       "        background-size: auto;\n",
       "    }\n",
       "    progress:not([value]), progress:not([value])::-webkit-progress-bar {\n",
       "        background: repeating-linear-gradient(45deg, #7e7e7e, #7e7e7e 10px, #5c5c5c 10px, #5c5c5c 20px);\n",
       "    }\n",
       "    .progress-bar-interrupted, .progress-bar-interrupted::-webkit-progress-bar {\n",
       "        background: #F44336;\n",
       "    }\n",
       "</style>\n"
      ],
      "text/plain": [
       "<IPython.core.display.HTML object>"
      ]
     },
     "metadata": {},
     "output_type": "display_data"
    },
    {
     "data": {
      "text/html": [
       "<table border=\"1\" class=\"dataframe\">\n",
       "  <thead>\n",
       "    <tr style=\"text-align: left;\">\n",
       "      <th>TimeR2Score</th>\n",
       "      <th>loss</th>\n",
       "      <th>epoch</th>\n",
       "      <th>train</th>\n",
       "      <th>time</th>\n",
       "    </tr>\n",
       "  </thead>\n",
       "  <tbody>\n",
       "    <tr>\n",
       "      <td>0.891</td>\n",
       "      <td>5.538</td>\n",
       "      <td>0</td>\n",
       "      <td>True</td>\n",
       "      <td>00:03</td>\n",
       "    </tr>\n",
       "    <tr>\n",
       "      <td>0.956</td>\n",
       "      <td>2.331</td>\n",
       "      <td>0</td>\n",
       "      <td>False</td>\n",
       "      <td>00:00</td>\n",
       "    </tr>\n",
       "    <tr>\n",
       "      <td>0.949</td>\n",
       "      <td>2.522</td>\n",
       "      <td>1</td>\n",
       "      <td>True</td>\n",
       "      <td>00:03</td>\n",
       "    </tr>\n",
       "    <tr>\n",
       "      <td>0.958</td>\n",
       "      <td>2.397</td>\n",
       "      <td>1</td>\n",
       "      <td>False</td>\n",
       "      <td>00:00</td>\n",
       "    </tr>\n",
       "    <tr>\n",
       "      <td>0.960</td>\n",
       "      <td>1.967</td>\n",
       "      <td>2</td>\n",
       "      <td>True</td>\n",
       "      <td>00:04</td>\n",
       "    </tr>\n",
       "    <tr>\n",
       "      <td>0.971</td>\n",
       "      <td>1.463</td>\n",
       "      <td>2</td>\n",
       "      <td>False</td>\n",
       "      <td>00:00</td>\n",
       "    </tr>\n",
       "    <tr>\n",
       "      <td>0.971</td>\n",
       "      <td>1.340</td>\n",
       "      <td>3</td>\n",
       "      <td>True</td>\n",
       "      <td>00:04</td>\n",
       "    </tr>\n",
       "    <tr>\n",
       "      <td>0.972</td>\n",
       "      <td>1.375</td>\n",
       "      <td>3</td>\n",
       "      <td>False</td>\n",
       "      <td>00:01</td>\n",
       "    </tr>\n",
       "    <tr>\n",
       "      <td>0.979</td>\n",
       "      <td>1.012</td>\n",
       "      <td>4</td>\n",
       "      <td>True</td>\n",
       "      <td>00:04</td>\n",
       "    </tr>\n",
       "    <tr>\n",
       "      <td>0.982</td>\n",
       "      <td>0.904</td>\n",
       "      <td>4</td>\n",
       "      <td>False</td>\n",
       "      <td>00:00</td>\n",
       "    </tr>\n",
       "    <tr>\n",
       "      <td>0.984</td>\n",
       "      <td>0.755</td>\n",
       "      <td>5</td>\n",
       "      <td>True</td>\n",
       "      <td>00:04</td>\n",
       "    </tr>\n",
       "    <tr>\n",
       "      <td>0.983</td>\n",
       "      <td>0.842</td>\n",
       "      <td>5</td>\n",
       "      <td>False</td>\n",
       "      <td>00:01</td>\n",
       "    </tr>\n",
       "  </tbody>\n",
       "</table>"
      ],
      "text/plain": [
       "<IPython.core.display.HTML object>"
      ]
     },
     "metadata": {},
     "output_type": "display_data"
    },
    {
     "data": {
      "image/png": "[encoded data removed]",
      "text/plain": [
       "<Figure size 600x400 with 1 Axes>"
      ]
     },
     "metadata": {},
     "output_type": "display_data"
    },
    {
     "name": "stdout",
     "output_type": "stream",
     "text": [
      "Making inference on test data\n"
     ]
    },
    {
     "data": {
      "text/html": [
       "\n",
       "<style>\n",
       "    /* Turns off some styling */\n",
       "    progress {\n",
       "        /* gets rid of default border in Firefox and Opera. */\n",
       "        border: none;\n",
       "        /* Needs to be in here for Safari polyfill so background images work as expected. */\n",
       "        background-size: auto;\n",
       "    }\n",
       "    progress:not([value]), progress:not([value])::-webkit-progress-bar {\n",
       "        background: repeating-linear-gradient(45deg, #7e7e7e, #7e7e7e 10px, #5c5c5c 10px, #5c5c5c 20px);\n",
       "    }\n",
       "    .progress-bar-interrupted, .progress-bar-interrupted::-webkit-progress-bar {\n",
       "        background: #F44336;\n",
       "    }\n",
       "</style>\n"
      ],
      "text/plain": [
       "<IPython.core.display.HTML object>"
      ]
     },
     "metadata": {},
     "output_type": "display_data"
    },
    {
     "data": {
      "text/html": [
       "<table border=\"1\" class=\"dataframe\">\n",
       "  <thead>\n",
       "    <tr style=\"text-align: left;\">\n",
       "      <th>TimeR2Score</th>\n",
       "      <th>loss</th>\n",
       "      <th>epoch</th>\n",
       "      <th>train</th>\n",
       "      <th>time</th>\n",
       "    </tr>\n",
       "  </thead>\n",
       "  <tbody>\n",
       "    <tr>\n",
       "      <td>0.830</td>\n",
       "      <td>7.926</td>\n",
       "      <td>0</td>\n",
       "      <td>False</td>\n",
       "      <td>00:00</td>\n",
       "    </tr>\n",
       "  </tbody>\n",
       "</table>"
      ],
      "text/plain": [
       "<IPython.core.display.HTML object>"
      ]
     },
     "metadata": {},
     "output_type": "display_data"
    },
    {
     "data": {
      "text/html": [
       "\n",
       "<style>\n",
       "    /* Turns off some styling */\n",
       "    progress {\n",
       "        /* gets rid of default border in Firefox and Opera. */\n",
       "        border: none;\n",
       "        /* Needs to be in here for Safari polyfill so background images work as expected. */\n",
       "        background-size: auto;\n",
       "    }\n",
       "    progress:not([value]), progress:not([value])::-webkit-progress-bar {\n",
       "        background: repeating-linear-gradient(45deg, #7e7e7e, #7e7e7e 10px, #5c5c5c 10px, #5c5c5c 20px);\n",
       "    }\n",
       "    .progress-bar-interrupted, .progress-bar-interrupted::-webkit-progress-bar {\n",
       "        background: #F44336;\n",
       "    }\n",
       "</style>\n"
      ],
      "text/plain": [
       "<IPython.core.display.HTML object>"
      ]
     },
     "metadata": {},
     "output_type": "display_data"
    },
    {
     "data": {
      "text/html": [
       "<table border=\"1\" class=\"dataframe\">\n",
       "  <thead>\n",
       "    <tr style=\"text-align: left;\">\n",
       "      <th>TimeR2Score</th>\n",
       "      <th>loss</th>\n",
       "      <th>epoch</th>\n",
       "      <th>train</th>\n",
       "      <th>time</th>\n",
       "    </tr>\n",
       "  </thead>\n",
       "  <tbody>\n",
       "    <tr>\n",
       "      <td>0.802</td>\n",
       "      <td>9.220</td>\n",
       "      <td>0</td>\n",
       "      <td>False</td>\n",
       "      <td>00:00</td>\n",
       "    </tr>\n",
       "  </tbody>\n",
       "</table>"
      ],
      "text/plain": [
       "<IPython.core.display.HTML object>"
      ]
     },
     "metadata": {},
     "output_type": "display_data"
    },
    {
     "name": "stdout",
     "output_type": "stream",
     "text": [
      "Inference on nascent\n",
      "\t\tpreds, targs\n",
      "tensor([[ 2.9263,  0.0000],\n",
      "        [ 5.7451,  4.0000],\n",
      "        [ 7.0154,  8.0000],\n",
      "        [10.1844, 12.0000],\n",
      "        [13.8828, 16.0000],\n",
      "        [18.4534, 20.0000],\n",
      "        [ 6.9144,  0.0000],\n",
      "        [ 3.3435,  4.0000],\n",
      "        [11.2357,  8.0000],\n",
      "        [10.5880, 12.0000],\n",
      "        [20.3260, 16.0000],\n",
      "        [20.1921, 20.0000]])\n",
      "result:  tensor(0.8175)\n"
     ]
    },
    {
     "data": {
      "text/html": [
       "\n",
       "<style>\n",
       "    /* Turns off some styling */\n",
       "    progress {\n",
       "        /* gets rid of default border in Firefox and Opera. */\n",
       "        border: none;\n",
       "        /* Needs to be in here for Safari polyfill so background images work as expected. */\n",
       "        background-size: auto;\n",
       "    }\n",
       "    progress:not([value]), progress:not([value])::-webkit-progress-bar {\n",
       "        background: repeating-linear-gradient(45deg, #7e7e7e, #7e7e7e 10px, #5c5c5c 10px, #5c5c5c 20px);\n",
       "    }\n",
       "    .progress-bar-interrupted, .progress-bar-interrupted::-webkit-progress-bar {\n",
       "        background: #F44336;\n",
       "    }\n",
       "</style>\n"
      ],
      "text/plain": [
       "<IPython.core.display.HTML object>"
      ]
     },
     "metadata": {},
     "output_type": "display_data"
    },
    {
     "data": {
      "text/html": [
       "<table border=\"1\" class=\"dataframe\">\n",
       "  <thead>\n",
       "    <tr style=\"text-align: left;\">\n",
       "      <th>TimeR2Score</th>\n",
       "      <th>loss</th>\n",
       "      <th>epoch</th>\n",
       "      <th>train</th>\n",
       "      <th>time</th>\n",
       "    </tr>\n",
       "  </thead>\n",
       "  <tbody>\n",
       "    <tr>\n",
       "      <td>0.654</td>\n",
       "      <td>16.330</td>\n",
       "      <td>0</td>\n",
       "      <td>False</td>\n",
       "      <td>00:00</td>\n",
       "    </tr>\n",
       "  </tbody>\n",
       "</table>"
      ],
      "text/plain": [
       "<IPython.core.display.HTML object>"
      ]
     },
     "metadata": {},
     "output_type": "display_data"
    },
    {
     "data": {
      "text/html": [
       "\n",
       "<style>\n",
       "    /* Turns off some styling */\n",
       "    progress {\n",
       "        /* gets rid of default border in Firefox and Opera. */\n",
       "        border: none;\n",
       "        /* Needs to be in here for Safari polyfill so background images work as expected. */\n",
       "        background-size: auto;\n",
       "    }\n",
       "    progress:not([value]), progress:not([value])::-webkit-progress-bar {\n",
       "        background: repeating-linear-gradient(45deg, #7e7e7e, #7e7e7e 10px, #5c5c5c 10px, #5c5c5c 20px);\n",
       "    }\n",
       "    .progress-bar-interrupted, .progress-bar-interrupted::-webkit-progress-bar {\n",
       "        background: #F44336;\n",
       "    }\n",
       "</style>\n"
      ],
      "text/plain": [
       "<IPython.core.display.HTML object>"
      ]
     },
     "metadata": {},
     "output_type": "display_data"
    },
    {
     "data": {
      "text/html": [
       "<table border=\"1\" class=\"dataframe\">\n",
       "  <thead>\n",
       "    <tr style=\"text-align: left;\">\n",
       "      <th>TimeR2Score</th>\n",
       "      <th>loss</th>\n",
       "      <th>epoch</th>\n",
       "      <th>train</th>\n",
       "      <th>time</th>\n",
       "    </tr>\n",
       "  </thead>\n",
       "  <tbody>\n",
       "    <tr>\n",
       "      <td>0.886</td>\n",
       "      <td>5.396</td>\n",
       "      <td>0</td>\n",
       "      <td>False</td>\n",
       "      <td>00:00</td>\n",
       "    </tr>\n",
       "  </tbody>\n",
       "</table>"
      ],
      "text/plain": [
       "<IPython.core.display.HTML object>"
      ]
     },
     "metadata": {},
     "output_type": "display_data"
    },
    {
     "name": "stdout",
     "output_type": "stream",
     "text": [
      "Inference on gro\n",
      "\t\tpreds, targs\n",
      "tensor([[ 9.1085,  1.0000],\n",
      "        [ 5.2697,  4.0000],\n",
      "        [ 7.0464,  7.0000],\n",
      "        [ 9.1517, 10.0000],\n",
      "        [13.8174, 13.0000],\n",
      "        [14.8271, 16.0000],\n",
      "        [18.3244, 19.0000],\n",
      "        [19.2377, 22.0000]])\n",
      "result:  tensor(0.7931)\n"
     ]
    },
    {
     "data": {
      "text/html": [
       "\n",
       "<style>\n",
       "    /* Turns off some styling */\n",
       "    progress {\n",
       "        /* gets rid of default border in Firefox and Opera. */\n",
       "        border: none;\n",
       "        /* Needs to be in here for Safari polyfill so background images work as expected. */\n",
       "        background-size: auto;\n",
       "    }\n",
       "    progress:not([value]), progress:not([value])::-webkit-progress-bar {\n",
       "        background: repeating-linear-gradient(45deg, #7e7e7e, #7e7e7e 10px, #5c5c5c 10px, #5c5c5c 20px);\n",
       "    }\n",
       "    .progress-bar-interrupted, .progress-bar-interrupted::-webkit-progress-bar {\n",
       "        background: #F44336;\n",
       "    }\n",
       "</style>\n"
      ],
      "text/plain": [
       "<IPython.core.display.HTML object>"
      ]
     },
     "metadata": {},
     "output_type": "display_data"
    },
    {
     "data": {
      "text/html": [
       "<table border=\"1\" class=\"dataframe\">\n",
       "  <thead>\n",
       "    <tr style=\"text-align: left;\">\n",
       "      <th>TimeR2Score</th>\n",
       "      <th>loss</th>\n",
       "      <th>epoch</th>\n",
       "      <th>train</th>\n",
       "      <th>time</th>\n",
       "    </tr>\n",
       "  </thead>\n",
       "  <tbody>\n",
       "    <tr>\n",
       "      <td>0.826</td>\n",
       "      <td>8.129</td>\n",
       "      <td>0</td>\n",
       "      <td>False</td>\n",
       "      <td>00:00</td>\n",
       "    </tr>\n",
       "  </tbody>\n",
       "</table>"
      ],
      "text/plain": [
       "<IPython.core.display.HTML object>"
      ]
     },
     "metadata": {},
     "output_type": "display_data"
    },
    {
     "data": {
      "text/html": [
       "\n",
       "<style>\n",
       "    /* Turns off some styling */\n",
       "    progress {\n",
       "        /* gets rid of default border in Firefox and Opera. */\n",
       "        border: none;\n",
       "        /* Needs to be in here for Safari polyfill so background images work as expected. */\n",
       "        background-size: auto;\n",
       "    }\n",
       "    progress:not([value]), progress:not([value])::-webkit-progress-bar {\n",
       "        background: repeating-linear-gradient(45deg, #7e7e7e, #7e7e7e 10px, #5c5c5c 10px, #5c5c5c 20px);\n",
       "    }\n",
       "    .progress-bar-interrupted, .progress-bar-interrupted::-webkit-progress-bar {\n",
       "        background: #F44336;\n",
       "    }\n",
       "</style>\n"
      ],
      "text/plain": [
       "<IPython.core.display.HTML object>"
      ]
     },
     "metadata": {},
     "output_type": "display_data"
    },
    {
     "data": {
      "text/html": [
       "<table border=\"1\" class=\"dataframe\">\n",
       "  <thead>\n",
       "    <tr style=\"text-align: left;\">\n",
       "      <th>TimeR2Score</th>\n",
       "      <th>loss</th>\n",
       "      <th>epoch</th>\n",
       "      <th>train</th>\n",
       "      <th>time</th>\n",
       "    </tr>\n",
       "  </thead>\n",
       "  <tbody>\n",
       "    <tr>\n",
       "      <td>0.889</td>\n",
       "      <td>5.165</td>\n",
       "      <td>0</td>\n",
       "      <td>False</td>\n",
       "      <td>00:00</td>\n",
       "    </tr>\n",
       "  </tbody>\n",
       "</table>"
      ],
      "text/plain": [
       "<IPython.core.display.HTML object>"
      ]
     },
     "metadata": {},
     "output_type": "display_data"
    },
    {
     "name": "stdout",
     "output_type": "stream",
     "text": [
      "Inference on rna\n",
      "\t\tpreds, targs\n",
      "tensor([[ 2.2780,  2.0000],\n",
      "        [ 7.4720,  6.0000],\n",
      "        [ 9.6491, 10.0000],\n",
      "        [14.0878, 14.0000],\n",
      "        [19.3804, 18.0000],\n",
      "        [20.8713, 22.0000],\n",
      "        [ 3.4154,  2.0000],\n",
      "        [ 6.5964,  6.0000],\n",
      "        [10.2412, 10.0000],\n",
      "        [11.2616, 14.0000],\n",
      "        [19.7341, 18.0000],\n",
      "        [14.3877, 22.0000]])\n",
      "result:  tensor(0.8635)\n"
     ]
    },
    {
     "data": {
      "text/html": [
       "\n",
       "<style>\n",
       "    /* Turns off some styling */\n",
       "    progress {\n",
       "        /* gets rid of default border in Firefox and Opera. */\n",
       "        border: none;\n",
       "        /* Needs to be in here for Safari polyfill so background images work as expected. */\n",
       "        background-size: auto;\n",
       "    }\n",
       "    progress:not([value]), progress:not([value])::-webkit-progress-bar {\n",
       "        background: repeating-linear-gradient(45deg, #7e7e7e, #7e7e7e 10px, #5c5c5c 10px, #5c5c5c 20px);\n",
       "    }\n",
       "    .progress-bar-interrupted, .progress-bar-interrupted::-webkit-progress-bar {\n",
       "        background: #F44336;\n",
       "    }\n",
       "</style>\n"
      ],
      "text/plain": [
       "<IPython.core.display.HTML object>"
      ]
     },
     "metadata": {},
     "output_type": "display_data"
    },
    {
     "data": {
      "text/html": [
       "<table border=\"1\" class=\"dataframe\">\n",
       "  <thead>\n",
       "    <tr style=\"text-align: left;\">\n",
       "      <th>TimeR2Score</th>\n",
       "      <th>loss</th>\n",
       "      <th>epoch</th>\n",
       "      <th>train</th>\n",
       "      <th>time</th>\n",
       "    </tr>\n",
       "  </thead>\n",
       "  <tbody>\n",
       "    <tr>\n",
       "      <td>0.626</td>\n",
       "      <td>42.231</td>\n",
       "      <td>0</td>\n",
       "      <td>False</td>\n",
       "      <td>00:00</td>\n",
       "    </tr>\n",
       "  </tbody>\n",
       "</table>"
      ],
      "text/plain": [
       "<IPython.core.display.HTML object>"
      ]
     },
     "metadata": {},
     "output_type": "display_data"
    },
    {
     "data": {
      "text/html": [
       "\n",
       "<style>\n",
       "    /* Turns off some styling */\n",
       "    progress {\n",
       "        /* gets rid of default border in Firefox and Opera. */\n",
       "        border: none;\n",
       "        /* Needs to be in here for Safari polyfill so background images work as expected. */\n",
       "        background-size: auto;\n",
       "    }\n",
       "    progress:not([value]), progress:not([value])::-webkit-progress-bar {\n",
       "        background: repeating-linear-gradient(45deg, #7e7e7e, #7e7e7e 10px, #5c5c5c 10px, #5c5c5c 20px);\n",
       "    }\n",
       "    .progress-bar-interrupted, .progress-bar-interrupted::-webkit-progress-bar {\n",
       "        background: #F44336;\n",
       "    }\n",
       "</style>\n"
      ],
      "text/plain": [
       "<IPython.core.display.HTML object>"
      ]
     },
     "metadata": {},
     "output_type": "display_data"
    },
    {
     "data": {
      "text/html": [
       "<table border=\"1\" class=\"dataframe\">\n",
       "  <thead>\n",
       "    <tr style=\"text-align: left;\">\n",
       "      <th>TimeR2Score</th>\n",
       "      <th>loss</th>\n",
       "      <th>epoch</th>\n",
       "      <th>train</th>\n",
       "      <th>time</th>\n",
       "    </tr>\n",
       "  </thead>\n",
       "  <tbody>\n",
       "    <tr>\n",
       "      <td>0.511</td>\n",
       "      <td>40.112</td>\n",
       "      <td>0</td>\n",
       "      <td>False</td>\n",
       "      <td>00:00</td>\n",
       "    </tr>\n",
       "  </tbody>\n",
       "</table>"
      ],
      "text/plain": [
       "<IPython.core.display.HTML object>"
      ]
     },
     "metadata": {},
     "output_type": "display_data"
    },
    {
     "name": "stdout",
     "output_type": "stream",
     "text": [
      "Inference on hepa\n",
      "\t\tpreds, targs\n",
      "tensor([[19.8886,  1.0000],\n",
      "        [18.7390,  1.0000],\n",
      "        [16.2891,  1.0000],\n",
      "        [ 6.6846,  4.0000],\n",
      "        [ 9.2169,  4.0000],\n",
      "        [11.1379,  4.0000],\n",
      "        [ 6.6331,  7.0000],\n",
      "        [ 7.2629,  7.0000],\n",
      "        [ 6.8618,  7.0000],\n",
      "        [ 9.9433, 10.0000],\n",
      "        [ 9.0001, 10.0000],\n",
      "        [ 8.3305, 10.0000],\n",
      "        [10.6374, 13.0000],\n",
      "        [10.0458, 13.0000],\n",
      "        [10.4647, 13.0000],\n",
      "        [13.7760, 16.0000],\n",
      "        [12.0248, 16.0000],\n",
      "        [14.1203, 16.0000],\n",
      "        [15.4250, 19.0000],\n",
      "        [15.9736, 19.0000],\n",
      "        [16.7594, 19.0000],\n",
      "        [18.0766, 22.0000],\n",
      "        [17.9147, 22.0000],\n",
      "        [18.9844, 22.0000],\n",
      "        [14.0239,  1.0000],\n",
      "        [15.1943,  1.0000],\n",
      "        [13.8939,  1.0000],\n",
      "        [ 7.3205,  4.0000],\n",
      "        [ 7.1198,  4.0000],\n",
      "        [ 2.0869,  4.0000],\n",
      "        [ 3.8597,  7.0000],\n",
      "        [ 3.4088,  7.0000],\n",
      "        [ 6.1873,  7.0000],\n",
      "        [ 8.6257, 10.0000],\n",
      "        [ 6.9569, 10.0000],\n",
      "        [11.3544, 10.0000],\n",
      "        [11.6435, 13.0000],\n",
      "        [10.9895, 13.0000],\n",
      "        [12.2760, 13.0000],\n",
      "        [13.9168, 16.0000],\n",
      "        [13.4013, 16.0000],\n",
      "        [13.9715, 16.0000],\n",
      "        [17.5600, 19.0000],\n",
      "        [17.8128, 19.0000],\n",
      "        [17.2416, 19.0000],\n",
      "        [13.4987, 22.0000],\n",
      "        [18.6211, 22.0000],\n",
      "        [10.8282, 22.0000]])\n",
      "result:  tensor(0.5674)\n"
     ]
    },
    {
     "data": {
      "text/html": [
       "\n",
       "<style>\n",
       "    /* Turns off some styling */\n",
       "    progress {\n",
       "        /* gets rid of default border in Firefox and Opera. */\n",
       "        border: none;\n",
       "        /* Needs to be in here for Safari polyfill so background images work as expected. */\n",
       "        background-size: auto;\n",
       "    }\n",
       "    progress:not([value]), progress:not([value])::-webkit-progress-bar {\n",
       "        background: repeating-linear-gradient(45deg, #7e7e7e, #7e7e7e 10px, #5c5c5c 10px, #5c5c5c 20px);\n",
       "    }\n",
       "    .progress-bar-interrupted, .progress-bar-interrupted::-webkit-progress-bar {\n",
       "        background: #F44336;\n",
       "    }\n",
       "</style>\n"
      ],
      "text/plain": [
       "<IPython.core.display.HTML object>"
      ]
     },
     "metadata": {},
     "output_type": "display_data"
    },
    {
     "data": {
      "text/html": [
       "<table border=\"1\" class=\"dataframe\">\n",
       "  <thead>\n",
       "    <tr style=\"text-align: left;\">\n",
       "      <th>TimeR2Score</th>\n",
       "      <th>loss</th>\n",
       "      <th>epoch</th>\n",
       "      <th>train</th>\n",
       "      <th>time</th>\n",
       "    </tr>\n",
       "  </thead>\n",
       "  <tbody>\n",
       "    <tr>\n",
       "      <td>0.397</td>\n",
       "      <td>308.032</td>\n",
       "      <td>0</td>\n",
       "      <td>False</td>\n",
       "      <td>00:06</td>\n",
       "    </tr>\n",
       "  </tbody>\n",
       "</table>"
      ],
      "text/plain": [
       "<IPython.core.display.HTML object>"
      ]
     },
     "metadata": {},
     "output_type": "display_data"
    },
    {
     "data": {
      "text/html": [
       "\n",
       "<style>\n",
       "    /* Turns off some styling */\n",
       "    progress {\n",
       "        /* gets rid of default border in Firefox and Opera. */\n",
       "        border: none;\n",
       "        /* Needs to be in here for Safari polyfill so background images work as expected. */\n",
       "        background-size: auto;\n",
       "    }\n",
       "    progress:not([value]), progress:not([value])::-webkit-progress-bar {\n",
       "        background: repeating-linear-gradient(45deg, #7e7e7e, #7e7e7e 10px, #5c5c5c 10px, #5c5c5c 20px);\n",
       "    }\n",
       "    .progress-bar-interrupted, .progress-bar-interrupted::-webkit-progress-bar {\n",
       "        background: #F44336;\n",
       "    }\n",
       "</style>\n"
      ],
      "text/plain": [
       "<IPython.core.display.HTML object>"
      ]
     },
     "metadata": {},
     "output_type": "display_data"
    },
    {
     "data": {
      "text/html": [
       "<table border=\"1\" class=\"dataframe\">\n",
       "  <thead>\n",
       "    <tr style=\"text-align: left;\">\n",
       "      <th>TimeR2Score</th>\n",
       "      <th>loss</th>\n",
       "      <th>epoch</th>\n",
       "      <th>train</th>\n",
       "      <th>time</th>\n",
       "    </tr>\n",
       "  </thead>\n",
       "  <tbody>\n",
       "    <tr>\n",
       "      <td>0.415</td>\n",
       "      <td>293.802</td>\n",
       "      <td>0</td>\n",
       "      <td>False</td>\n",
       "      <td>00:05</td>\n",
       "    </tr>\n",
       "  </tbody>\n",
       "</table>"
      ],
      "text/plain": [
       "<IPython.core.display.HTML object>"
      ]
     },
     "metadata": {},
     "output_type": "display_data"
    },
    {
     "name": "stdout",
     "output_type": "stream",
     "text": [
      "Inference on more\n",
      "\t\tpreds, targs\n",
      "tensor([[20.1435, 22.0000],\n",
      "        [25.0000, 22.0000],\n",
      "        [-0.9991, 10.0000],\n",
      "        ...,\n",
      "        [-1.0000, 19.5000],\n",
      "        [-1.0000,  7.5000],\n",
      "        [-1.0000, 13.5000]])\n",
      "result:  tensor(0.4125)\n"
     ]
    }
   ],
   "source": [
    "lr, epochs = .1, 6\n",
    "tmax = epochs * len(dls.train)\n",
    "sched = partial(lr_scheduler.OneCycleLR, max_lr=lr, total_steps=tmax)\n",
    "xtra = [BatchSchedCB(sched)]\n",
    "ensemble_model(nlearn, get_model, epochs=epochs, lr=lr, cbs=cbs+xtra, opt_func=optim.AdamW)"
   ]
  },
  {
   "cell_type": "code",
   "execution_count": 81,
   "metadata": {},
   "outputs": [],
   "source": [
    "torch.set_printoptions(edgeitems=15, linewidth=100)"
   ]
  },
  {
   "cell_type": "code",
   "execution_count": 82,
   "metadata": {
    "scrolled": false
   },
   "outputs": [
    {
     "name": "stdout",
     "output_type": "stream",
     "text": [
      "Training models\n"
     ]
    },
    {
     "data": {
      "text/html": [
       "\n",
       "<style>\n",
       "    /* Turns off some styling */\n",
       "    progress {\n",
       "        /* gets rid of default border in Firefox and Opera. */\n",
       "        border: none;\n",
       "        /* Needs to be in here for Safari polyfill so background images work as expected. */\n",
       "        background-size: auto;\n",
       "    }\n",
       "    progress:not([value]), progress:not([value])::-webkit-progress-bar {\n",
       "        background: repeating-linear-gradient(45deg, #7e7e7e, #7e7e7e 10px, #5c5c5c 10px, #5c5c5c 20px);\n",
       "    }\n",
       "    .progress-bar-interrupted, .progress-bar-interrupted::-webkit-progress-bar {\n",
       "        background: #F44336;\n",
       "    }\n",
       "</style>\n"
      ],
      "text/plain": [
       "<IPython.core.display.HTML object>"
      ]
     },
     "metadata": {},
     "output_type": "display_data"
    },
    {
     "data": {
      "text/html": [
       "<table border=\"1\" class=\"dataframe\">\n",
       "  <thead>\n",
       "    <tr style=\"text-align: left;\">\n",
       "      <th>TimeR2Score</th>\n",
       "      <th>loss</th>\n",
       "      <th>epoch</th>\n",
       "      <th>train</th>\n",
       "      <th>time</th>\n",
       "    </tr>\n",
       "  </thead>\n",
       "  <tbody>\n",
       "    <tr>\n",
       "      <td>0.875</td>\n",
       "      <td>6.683</td>\n",
       "      <td>0</td>\n",
       "      <td>True</td>\n",
       "      <td>00:02</td>\n",
       "    </tr>\n",
       "    <tr>\n",
       "      <td>0.940</td>\n",
       "      <td>3.050</td>\n",
       "      <td>0</td>\n",
       "      <td>False</td>\n",
       "      <td>00:00</td>\n",
       "    </tr>\n",
       "  </tbody>\n",
       "</table>"
      ],
      "text/plain": [
       "<IPython.core.display.HTML object>"
      ]
     },
     "metadata": {},
     "output_type": "display_data"
    },
    {
     "data": {
      "image/png": "[encoded data removed]",
      "text/plain": [
       "<Figure size 600x400 with 1 Axes>"
      ]
     },
     "metadata": {},
     "output_type": "display_data"
    },
    {
     "data": {
      "text/html": [
       "\n",
       "<style>\n",
       "    /* Turns off some styling */\n",
       "    progress {\n",
       "        /* gets rid of default border in Firefox and Opera. */\n",
       "        border: none;\n",
       "        /* Needs to be in here for Safari polyfill so background images work as expected. */\n",
       "        background-size: auto;\n",
       "    }\n",
       "    progress:not([value]), progress:not([value])::-webkit-progress-bar {\n",
       "        background: repeating-linear-gradient(45deg, #7e7e7e, #7e7e7e 10px, #5c5c5c 10px, #5c5c5c 20px);\n",
       "    }\n",
       "    .progress-bar-interrupted, .progress-bar-interrupted::-webkit-progress-bar {\n",
       "        background: #F44336;\n",
       "    }\n",
       "</style>\n"
      ],
      "text/plain": [
       "<IPython.core.display.HTML object>"
      ]
     },
     "metadata": {},
     "output_type": "display_data"
    },
    {
     "data": {
      "text/html": [
       "<table border=\"1\" class=\"dataframe\">\n",
       "  <thead>\n",
       "    <tr style=\"text-align: left;\">\n",
       "      <th>TimeR2Score</th>\n",
       "      <th>loss</th>\n",
       "      <th>epoch</th>\n",
       "      <th>train</th>\n",
       "      <th>time</th>\n",
       "    </tr>\n",
       "  </thead>\n",
       "  <tbody>\n",
       "    <tr>\n",
       "      <td>0.894</td>\n",
       "      <td>5.542</td>\n",
       "      <td>0</td>\n",
       "      <td>True</td>\n",
       "      <td>00:02</td>\n",
       "    </tr>\n",
       "    <tr>\n",
       "      <td>0.952</td>\n",
       "      <td>2.381</td>\n",
       "      <td>0</td>\n",
       "      <td>False</td>\n",
       "      <td>00:00</td>\n",
       "    </tr>\n",
       "  </tbody>\n",
       "</table>"
      ],
      "text/plain": [
       "<IPython.core.display.HTML object>"
      ]
     },
     "metadata": {},
     "output_type": "display_data"
    },
    {
     "data": {
      "image/png": "[encoded data removed]",
      "text/plain": [
       "<Figure size 600x400 with 1 Axes>"
      ]
     },
     "metadata": {},
     "output_type": "display_data"
    },
    {
     "name": "stdout",
     "output_type": "stream",
     "text": [
      "Making inference on test data\n"
     ]
    },
    {
     "data": {
      "text/html": [
       "\n",
       "<style>\n",
       "    /* Turns off some styling */\n",
       "    progress {\n",
       "        /* gets rid of default border in Firefox and Opera. */\n",
       "        border: none;\n",
       "        /* Needs to be in here for Safari polyfill so background images work as expected. */\n",
       "        background-size: auto;\n",
       "    }\n",
       "    progress:not([value]), progress:not([value])::-webkit-progress-bar {\n",
       "        background: repeating-linear-gradient(45deg, #7e7e7e, #7e7e7e 10px, #5c5c5c 10px, #5c5c5c 20px);\n",
       "    }\n",
       "    .progress-bar-interrupted, .progress-bar-interrupted::-webkit-progress-bar {\n",
       "        background: #F44336;\n",
       "    }\n",
       "</style>\n"
      ],
      "text/plain": [
       "<IPython.core.display.HTML object>"
      ]
     },
     "metadata": {},
     "output_type": "display_data"
    },
    {
     "data": {
      "text/html": [
       "<table border=\"1\" class=\"dataframe\">\n",
       "  <thead>\n",
       "    <tr style=\"text-align: left;\">\n",
       "      <th>TimeR2Score</th>\n",
       "      <th>loss</th>\n",
       "      <th>epoch</th>\n",
       "      <th>train</th>\n",
       "      <th>time</th>\n",
       "    </tr>\n",
       "  </thead>\n",
       "  <tbody>\n",
       "    <tr>\n",
       "      <td>0.767</td>\n",
       "      <td>10.859</td>\n",
       "      <td>0</td>\n",
       "      <td>False</td>\n",
       "      <td>00:00</td>\n",
       "    </tr>\n",
       "  </tbody>\n",
       "</table>"
      ],
      "text/plain": [
       "<IPython.core.display.HTML object>"
      ]
     },
     "metadata": {},
     "output_type": "display_data"
    },
    {
     "data": {
      "text/html": [
       "\n",
       "<style>\n",
       "    /* Turns off some styling */\n",
       "    progress {\n",
       "        /* gets rid of default border in Firefox and Opera. */\n",
       "        border: none;\n",
       "        /* Needs to be in here for Safari polyfill so background images work as expected. */\n",
       "        background-size: auto;\n",
       "    }\n",
       "    progress:not([value]), progress:not([value])::-webkit-progress-bar {\n",
       "        background: repeating-linear-gradient(45deg, #7e7e7e, #7e7e7e 10px, #5c5c5c 10px, #5c5c5c 20px);\n",
       "    }\n",
       "    .progress-bar-interrupted, .progress-bar-interrupted::-webkit-progress-bar {\n",
       "        background: #F44336;\n",
       "    }\n",
       "</style>\n"
      ],
      "text/plain": [
       "<IPython.core.display.HTML object>"
      ]
     },
     "metadata": {},
     "output_type": "display_data"
    },
    {
     "data": {
      "text/html": [
       "<table border=\"1\" class=\"dataframe\">\n",
       "  <thead>\n",
       "    <tr style=\"text-align: left;\">\n",
       "      <th>TimeR2Score</th>\n",
       "      <th>loss</th>\n",
       "      <th>epoch</th>\n",
       "      <th>train</th>\n",
       "      <th>time</th>\n",
       "    </tr>\n",
       "  </thead>\n",
       "  <tbody>\n",
       "    <tr>\n",
       "      <td>0.753</td>\n",
       "      <td>11.536</td>\n",
       "      <td>0</td>\n",
       "      <td>False</td>\n",
       "      <td>00:00</td>\n",
       "    </tr>\n",
       "  </tbody>\n",
       "</table>"
      ],
      "text/plain": [
       "<IPython.core.display.HTML object>"
      ]
     },
     "metadata": {},
     "output_type": "display_data"
    },
    {
     "name": "stdout",
     "output_type": "stream",
     "text": [
      "Inference on nascent\n",
      "\t\tpreds, targs\n",
      "tensor([[ 5.0710,  0.0000],\n",
      "        [ 5.6301,  4.0000],\n",
      "        [ 8.1913,  8.0000],\n",
      "        [10.1975, 12.0000],\n",
      "        [12.1877, 16.0000],\n",
      "        [19.7768, 20.0000],\n",
      "        [ 5.6664,  0.0000],\n",
      "        [ 1.7540,  4.0000],\n",
      "        [11.8199,  8.0000],\n",
      "        [10.9755, 12.0000],\n",
      "        [21.6526, 16.0000],\n",
      "        [21.2742, 20.0000]])\n",
      "result:  tensor(0.7632)\n"
     ]
    },
    {
     "data": {
      "text/html": [
       "\n",
       "<style>\n",
       "    /* Turns off some styling */\n",
       "    progress {\n",
       "        /* gets rid of default border in Firefox and Opera. */\n",
       "        border: none;\n",
       "        /* Needs to be in here for Safari polyfill so background images work as expected. */\n",
       "        background-size: auto;\n",
       "    }\n",
       "    progress:not([value]), progress:not([value])::-webkit-progress-bar {\n",
       "        background: repeating-linear-gradient(45deg, #7e7e7e, #7e7e7e 10px, #5c5c5c 10px, #5c5c5c 20px);\n",
       "    }\n",
       "    .progress-bar-interrupted, .progress-bar-interrupted::-webkit-progress-bar {\n",
       "        background: #F44336;\n",
       "    }\n",
       "</style>\n"
      ],
      "text/plain": [
       "<IPython.core.display.HTML object>"
      ]
     },
     "metadata": {},
     "output_type": "display_data"
    },
    {
     "data": {
      "text/html": [
       "<table border=\"1\" class=\"dataframe\">\n",
       "  <thead>\n",
       "    <tr style=\"text-align: left;\">\n",
       "      <th>TimeR2Score</th>\n",
       "      <th>loss</th>\n",
       "      <th>epoch</th>\n",
       "      <th>train</th>\n",
       "      <th>time</th>\n",
       "    </tr>\n",
       "  </thead>\n",
       "  <tbody>\n",
       "    <tr>\n",
       "      <td>0.968</td>\n",
       "      <td>1.516</td>\n",
       "      <td>0</td>\n",
       "      <td>False</td>\n",
       "      <td>00:00</td>\n",
       "    </tr>\n",
       "  </tbody>\n",
       "</table>"
      ],
      "text/plain": [
       "<IPython.core.display.HTML object>"
      ]
     },
     "metadata": {},
     "output_type": "display_data"
    },
    {
     "data": {
      "text/html": [
       "\n",
       "<style>\n",
       "    /* Turns off some styling */\n",
       "    progress {\n",
       "        /* gets rid of default border in Firefox and Opera. */\n",
       "        border: none;\n",
       "        /* Needs to be in here for Safari polyfill so background images work as expected. */\n",
       "        background-size: auto;\n",
       "    }\n",
       "    progress:not([value]), progress:not([value])::-webkit-progress-bar {\n",
       "        background: repeating-linear-gradient(45deg, #7e7e7e, #7e7e7e 10px, #5c5c5c 10px, #5c5c5c 20px);\n",
       "    }\n",
       "    .progress-bar-interrupted, .progress-bar-interrupted::-webkit-progress-bar {\n",
       "        background: #F44336;\n",
       "    }\n",
       "</style>\n"
      ],
      "text/plain": [
       "<IPython.core.display.HTML object>"
      ]
     },
     "metadata": {},
     "output_type": "display_data"
    },
    {
     "data": {
      "text/html": [
       "<table border=\"1\" class=\"dataframe\">\n",
       "  <thead>\n",
       "    <tr style=\"text-align: left;\">\n",
       "      <th>TimeR2Score</th>\n",
       "      <th>loss</th>\n",
       "      <th>epoch</th>\n",
       "      <th>train</th>\n",
       "      <th>time</th>\n",
       "    </tr>\n",
       "  </thead>\n",
       "  <tbody>\n",
       "    <tr>\n",
       "      <td>0.736</td>\n",
       "      <td>12.464</td>\n",
       "      <td>0</td>\n",
       "      <td>False</td>\n",
       "      <td>00:00</td>\n",
       "    </tr>\n",
       "  </tbody>\n",
       "</table>"
      ],
      "text/plain": [
       "<IPython.core.display.HTML object>"
      ]
     },
     "metadata": {},
     "output_type": "display_data"
    },
    {
     "name": "stdout",
     "output_type": "stream",
     "text": [
      "Inference on gro\n",
      "\t\tpreds, targs\n",
      "tensor([[ 7.1412,  1.0000],\n",
      "        [ 3.9866,  4.0000],\n",
      "        [ 8.0506,  7.0000],\n",
      "        [ 8.9522, 10.0000],\n",
      "        [13.3545, 13.0000],\n",
      "        [15.4135, 16.0000],\n",
      "        [19.2494, 19.0000],\n",
      "        [20.5119, 22.0000]])\n",
      "result:  tensor(0.8871)\n"
     ]
    },
    {
     "data": {
      "text/html": [
       "\n",
       "<style>\n",
       "    /* Turns off some styling */\n",
       "    progress {\n",
       "        /* gets rid of default border in Firefox and Opera. */\n",
       "        border: none;\n",
       "        /* Needs to be in here for Safari polyfill so background images work as expected. */\n",
       "        background-size: auto;\n",
       "    }\n",
       "    progress:not([value]), progress:not([value])::-webkit-progress-bar {\n",
       "        background: repeating-linear-gradient(45deg, #7e7e7e, #7e7e7e 10px, #5c5c5c 10px, #5c5c5c 20px);\n",
       "    }\n",
       "    .progress-bar-interrupted, .progress-bar-interrupted::-webkit-progress-bar {\n",
       "        background: #F44336;\n",
       "    }\n",
       "</style>\n"
      ],
      "text/plain": [
       "<IPython.core.display.HTML object>"
      ]
     },
     "metadata": {},
     "output_type": "display_data"
    },
    {
     "data": {
      "text/html": [
       "<table border=\"1\" class=\"dataframe\">\n",
       "  <thead>\n",
       "    <tr style=\"text-align: left;\">\n",
       "      <th>TimeR2Score</th>\n",
       "      <th>loss</th>\n",
       "      <th>epoch</th>\n",
       "      <th>train</th>\n",
       "      <th>time</th>\n",
       "    </tr>\n",
       "  </thead>\n",
       "  <tbody>\n",
       "    <tr>\n",
       "      <td>0.630</td>\n",
       "      <td>17.277</td>\n",
       "      <td>0</td>\n",
       "      <td>False</td>\n",
       "      <td>00:00</td>\n",
       "    </tr>\n",
       "  </tbody>\n",
       "</table>"
      ],
      "text/plain": [
       "<IPython.core.display.HTML object>"
      ]
     },
     "metadata": {},
     "output_type": "display_data"
    },
    {
     "data": {
      "text/html": [
       "\n",
       "<style>\n",
       "    /* Turns off some styling */\n",
       "    progress {\n",
       "        /* gets rid of default border in Firefox and Opera. */\n",
       "        border: none;\n",
       "        /* Needs to be in here for Safari polyfill so background images work as expected. */\n",
       "        background-size: auto;\n",
       "    }\n",
       "    progress:not([value]), progress:not([value])::-webkit-progress-bar {\n",
       "        background: repeating-linear-gradient(45deg, #7e7e7e, #7e7e7e 10px, #5c5c5c 10px, #5c5c5c 20px);\n",
       "    }\n",
       "    .progress-bar-interrupted, .progress-bar-interrupted::-webkit-progress-bar {\n",
       "        background: #F44336;\n",
       "    }\n",
       "</style>\n"
      ],
      "text/plain": [
       "<IPython.core.display.HTML object>"
      ]
     },
     "metadata": {},
     "output_type": "display_data"
    },
    {
     "data": {
      "text/html": [
       "<table border=\"1\" class=\"dataframe\">\n",
       "  <thead>\n",
       "    <tr style=\"text-align: left;\">\n",
       "      <th>TimeR2Score</th>\n",
       "      <th>loss</th>\n",
       "      <th>epoch</th>\n",
       "      <th>train</th>\n",
       "      <th>time</th>\n",
       "    </tr>\n",
       "  </thead>\n",
       "  <tbody>\n",
       "    <tr>\n",
       "      <td>0.904</td>\n",
       "      <td>4.474</td>\n",
       "      <td>0</td>\n",
       "      <td>False</td>\n",
       "      <td>00:00</td>\n",
       "    </tr>\n",
       "  </tbody>\n",
       "</table>"
      ],
      "text/plain": [
       "<IPython.core.display.HTML object>"
      ]
     },
     "metadata": {},
     "output_type": "display_data"
    },
    {
     "name": "stdout",
     "output_type": "stream",
     "text": [
      "Inference on rna\n",
      "\t\tpreds, targs\n",
      "tensor([[ 3.2796,  2.0000],\n",
      "        [ 7.8484,  6.0000],\n",
      "        [ 8.9080, 10.0000],\n",
      "        [13.8475, 14.0000],\n",
      "        [20.2191, 18.0000],\n",
      "        [21.7589, 22.0000],\n",
      "        [ 4.3899,  2.0000],\n",
      "        [ 7.7940,  6.0000],\n",
      "        [11.4724, 10.0000],\n",
      "        [11.7939, 14.0000],\n",
      "        [20.9239, 18.0000],\n",
      "        [13.3141, 22.0000]])\n",
      "result:  tensor(0.8014)\n"
     ]
    },
    {
     "data": {
      "text/html": [
       "\n",
       "<style>\n",
       "    /* Turns off some styling */\n",
       "    progress {\n",
       "        /* gets rid of default border in Firefox and Opera. */\n",
       "        border: none;\n",
       "        /* Needs to be in here for Safari polyfill so background images work as expected. */\n",
       "        background-size: auto;\n",
       "    }\n",
       "    progress:not([value]), progress:not([value])::-webkit-progress-bar {\n",
       "        background: repeating-linear-gradient(45deg, #7e7e7e, #7e7e7e 10px, #5c5c5c 10px, #5c5c5c 20px);\n",
       "    }\n",
       "    .progress-bar-interrupted, .progress-bar-interrupted::-webkit-progress-bar {\n",
       "        background: #F44336;\n",
       "    }\n",
       "</style>\n"
      ],
      "text/plain": [
       "<IPython.core.display.HTML object>"
      ]
     },
     "metadata": {},
     "output_type": "display_data"
    },
    {
     "data": {
      "text/html": [
       "<table border=\"1\" class=\"dataframe\">\n",
       "  <thead>\n",
       "    <tr style=\"text-align: left;\">\n",
       "      <th>TimeR2Score</th>\n",
       "      <th>loss</th>\n",
       "      <th>epoch</th>\n",
       "      <th>train</th>\n",
       "      <th>time</th>\n",
       "    </tr>\n",
       "  </thead>\n",
       "  <tbody>\n",
       "    <tr>\n",
       "      <td>0.443</td>\n",
       "      <td>42.765</td>\n",
       "      <td>0</td>\n",
       "      <td>False</td>\n",
       "      <td>00:00</td>\n",
       "    </tr>\n",
       "  </tbody>\n",
       "</table>"
      ],
      "text/plain": [
       "<IPython.core.display.HTML object>"
      ]
     },
     "metadata": {},
     "output_type": "display_data"
    },
    {
     "data": {
      "text/html": [
       "\n",
       "<style>\n",
       "    /* Turns off some styling */\n",
       "    progress {\n",
       "        /* gets rid of default border in Firefox and Opera. */\n",
       "        border: none;\n",
       "        /* Needs to be in here for Safari polyfill so background images work as expected. */\n",
       "        background-size: auto;\n",
       "    }\n",
       "    progress:not([value]), progress:not([value])::-webkit-progress-bar {\n",
       "        background: repeating-linear-gradient(45deg, #7e7e7e, #7e7e7e 10px, #5c5c5c 10px, #5c5c5c 20px);\n",
       "    }\n",
       "    .progress-bar-interrupted, .progress-bar-interrupted::-webkit-progress-bar {\n",
       "        background: #F44336;\n",
       "    }\n",
       "</style>\n"
      ],
      "text/plain": [
       "<IPython.core.display.HTML object>"
      ]
     },
     "metadata": {},
     "output_type": "display_data"
    },
    {
     "data": {
      "text/html": [
       "<table border=\"1\" class=\"dataframe\">\n",
       "  <thead>\n",
       "    <tr style=\"text-align: left;\">\n",
       "      <th>TimeR2Score</th>\n",
       "      <th>loss</th>\n",
       "      <th>epoch</th>\n",
       "      <th>train</th>\n",
       "      <th>time</th>\n",
       "    </tr>\n",
       "  </thead>\n",
       "  <tbody>\n",
       "    <tr>\n",
       "      <td>0.445</td>\n",
       "      <td>45.806</td>\n",
       "      <td>0</td>\n",
       "      <td>False</td>\n",
       "      <td>00:00</td>\n",
       "    </tr>\n",
       "  </tbody>\n",
       "</table>"
      ],
      "text/plain": [
       "<IPython.core.display.HTML object>"
      ]
     },
     "metadata": {},
     "output_type": "display_data"
    },
    {
     "name": "stdout",
     "output_type": "stream",
     "text": [
      "Inference on hepa\n",
      "\t\tpreds, targs\n",
      "tensor([[18.5454,  1.0000],\n",
      "        [18.3944,  1.0000],\n",
      "        [16.5098,  1.0000],\n",
      "        [ 9.3388,  4.0000],\n",
      "        [11.8937,  4.0000],\n",
      "        [16.4877,  4.0000],\n",
      "        [ 8.0146,  7.0000],\n",
      "        [ 7.4515,  7.0000],\n",
      "        [ 7.1971,  7.0000],\n",
      "        [ 9.5409, 10.0000],\n",
      "        [ 8.6718, 10.0000],\n",
      "        [ 8.3834, 10.0000],\n",
      "        [11.3277, 13.0000],\n",
      "        [10.5307, 13.0000],\n",
      "        [11.2291, 13.0000],\n",
      "        [13.2739, 16.0000],\n",
      "        [12.5529, 16.0000],\n",
      "        [14.8188, 16.0000],\n",
      "        [16.5011, 19.0000],\n",
      "        [17.5144, 19.0000],\n",
      "        [16.6399, 19.0000],\n",
      "        [18.9706, 22.0000],\n",
      "        [19.5085, 22.0000],\n",
      "        [20.0674, 22.0000],\n",
      "        [12.7000,  1.0000],\n",
      "        [13.9532,  1.0000],\n",
      "        [14.6288,  1.0000],\n",
      "        [ 6.5847,  4.0000],\n",
      "        [ 5.0470,  4.0000],\n",
      "        [ 1.3058,  4.0000],\n",
      "        [ 2.4353,  7.0000],\n",
      "        [ 2.5831,  7.0000],\n",
      "        [ 5.1121,  7.0000],\n",
      "        [ 5.9568, 10.0000],\n",
      "        [ 4.2450, 10.0000],\n",
      "        [11.8224, 10.0000],\n",
      "        [12.6835, 13.0000],\n",
      "        [10.1820, 13.0000],\n",
      "        [13.9751, 13.0000],\n",
      "        [13.9369, 16.0000],\n",
      "        [14.0324, 16.0000],\n",
      "        [14.5505, 16.0000],\n",
      "        [15.0052, 19.0000],\n",
      "        [16.5923, 19.0000],\n",
      "        [15.5720, 19.0000],\n",
      "        [ 9.7642, 22.0000],\n",
      "        [17.9435, 22.0000],\n",
      "        [12.0487, 22.0000]])\n",
      "result:  tensor(0.4545)\n"
     ]
    },
    {
     "data": {
      "text/html": [
       "\n",
       "<style>\n",
       "    /* Turns off some styling */\n",
       "    progress {\n",
       "        /* gets rid of default border in Firefox and Opera. */\n",
       "        border: none;\n",
       "        /* Needs to be in here for Safari polyfill so background images work as expected. */\n",
       "        background-size: auto;\n",
       "    }\n",
       "    progress:not([value]), progress:not([value])::-webkit-progress-bar {\n",
       "        background: repeating-linear-gradient(45deg, #7e7e7e, #7e7e7e 10px, #5c5c5c 10px, #5c5c5c 20px);\n",
       "    }\n",
       "    .progress-bar-interrupted, .progress-bar-interrupted::-webkit-progress-bar {\n",
       "        background: #F44336;\n",
       "    }\n",
       "</style>\n"
      ],
      "text/plain": [
       "<IPython.core.display.HTML object>"
      ]
     },
     "metadata": {},
     "output_type": "display_data"
    },
    {
     "data": {
      "text/html": [
       "<table border=\"1\" class=\"dataframe\">\n",
       "  <thead>\n",
       "    <tr style=\"text-align: left;\">\n",
       "      <th>TimeR2Score</th>\n",
       "      <th>loss</th>\n",
       "      <th>epoch</th>\n",
       "      <th>train</th>\n",
       "      <th>time</th>\n",
       "    </tr>\n",
       "  </thead>\n",
       "  <tbody>\n",
       "    <tr>\n",
       "      <td>0.392</td>\n",
       "      <td>319.874</td>\n",
       "      <td>0</td>\n",
       "      <td>False</td>\n",
       "      <td>00:03</td>\n",
       "    </tr>\n",
       "  </tbody>\n",
       "</table>"
      ],
      "text/plain": [
       "<IPython.core.display.HTML object>"
      ]
     },
     "metadata": {},
     "output_type": "display_data"
    },
    {
     "data": {
      "text/html": [
       "\n",
       "<style>\n",
       "    /* Turns off some styling */\n",
       "    progress {\n",
       "        /* gets rid of default border in Firefox and Opera. */\n",
       "        border: none;\n",
       "        /* Needs to be in here for Safari polyfill so background images work as expected. */\n",
       "        background-size: auto;\n",
       "    }\n",
       "    progress:not([value]), progress:not([value])::-webkit-progress-bar {\n",
       "        background: repeating-linear-gradient(45deg, #7e7e7e, #7e7e7e 10px, #5c5c5c 10px, #5c5c5c 20px);\n",
       "    }\n",
       "    .progress-bar-interrupted, .progress-bar-interrupted::-webkit-progress-bar {\n",
       "        background: #F44336;\n",
       "    }\n",
       "</style>\n"
      ],
      "text/plain": [
       "<IPython.core.display.HTML object>"
      ]
     },
     "metadata": {},
     "output_type": "display_data"
    },
    {
     "data": {
      "text/html": [
       "<table border=\"1\" class=\"dataframe\">\n",
       "  <thead>\n",
       "    <tr style=\"text-align: left;\">\n",
       "      <th>TimeR2Score</th>\n",
       "      <th>loss</th>\n",
       "      <th>epoch</th>\n",
       "      <th>train</th>\n",
       "      <th>time</th>\n",
       "    </tr>\n",
       "  </thead>\n",
       "  <tbody>\n",
       "    <tr>\n",
       "      <td>0.395</td>\n",
       "      <td>326.471</td>\n",
       "      <td>0</td>\n",
       "      <td>False</td>\n",
       "      <td>00:03</td>\n",
       "    </tr>\n",
       "  </tbody>\n",
       "</table>"
      ],
      "text/plain": [
       "<IPython.core.display.HTML object>"
      ]
     },
     "metadata": {},
     "output_type": "display_data"
    },
    {
     "name": "stdout",
     "output_type": "stream",
     "text": [
      "Inference on more\n",
      "\t\tpreds, targs\n",
      "tensor([[12.0003, 22.0000],\n",
      "        [25.0000, 22.0000],\n",
      "        [-1.0000, 10.0000],\n",
      "        [-0.9996, 18.0000],\n",
      "        [12.0000,  2.0000],\n",
      "        [-0.9999, 18.0000],\n",
      "        [-0.9998, 14.0000],\n",
      "        [12.0000,  6.0000],\n",
      "        [12.0001,  6.0000],\n",
      "        [-0.9999, 14.0000],\n",
      "        [-0.9999, 10.0000],\n",
      "        [-0.9978,  2.0000],\n",
      "        [-1.0000, 24.0000],\n",
      "        [-1.0000, 21.0000],\n",
      "        [-1.0000, 33.0000],\n",
      "        ...,\n",
      "        [-1.0000,  7.5000],\n",
      "        [-1.0000,  1.5000],\n",
      "        [-1.0000, 16.5000],\n",
      "        [-1.0000,  4.5000],\n",
      "        [-1.0000, 22.5000],\n",
      "        [-1.0000, 16.5000],\n",
      "        [-1.0000,  1.5000],\n",
      "        [-1.0000, 10.5000],\n",
      "        [-1.0000, 16.5000],\n",
      "        [-1.0000,  1.5000],\n",
      "        [-1.0000, 13.5000],\n",
      "        [-0.9200,  7.5000],\n",
      "        [-1.0000, 19.5000],\n",
      "        [-1.0000,  7.5000],\n",
      "        [-1.0000, 13.5000]])\n",
      "result:  tensor(0.3684)\n"
     ]
    }
   ],
   "source": [
    "lr, epochs = .3, 1\n",
    "tmax = epochs * len(dls.train)\n",
    "sched = partial(lr_scheduler.OneCycleLR, max_lr=lr, total_steps=tmax)\n",
    "xtra = [BatchSchedCB(sched)]\n",
    "ensemble_model(nlearn, get_model, epochs=epochs, lr=lr, cbs=cbs+xtra, opt_func=optim.AdamW)"
   ]
  },
  {
   "cell_type": "markdown",
   "metadata": {
    "id": "X3rFYaB0vPI0"
   },
   "source": [
    "## Conclusion"
   ]
  },
  {
   "cell_type": "markdown",
   "metadata": {
    "id": "mHK4zAipd6Ka"
   },
   "source": [
    "Unfortunately, deeper network did not perform better on bulk data than shallower network even if they did better on scRNA-seq data. Maybe because the training data is too noisy with random numbers."
   ]
  },
  {
   "cell_type": "code",
   "execution_count": null,
   "metadata": {
    "id": "QmWn6b96BbIL"
   },
   "outputs": [],
   "source": []
  }
 ],
 "metadata": {
  "colab": {
   "include_colab_link": true,
   "provenance": [],
   "toc_visible": true
  },
  "kernelspec": {
   "display_name": "Python 3 (ipykernel)",
   "language": "python",
   "name": "python3"
  },
  "language_info": {
   "codemirror_mode": {
    "name": "ipython",
    "version": 3
   },
   "file_extension": ".py",
   "mimetype": "text/x-python",
   "name": "python",
   "nbconvert_exporter": "python",
   "pygments_lexer": "ipython3",
   "version": "3.10.13"
  },
  "toc": {
   "base_numbering": 1,
   "nav_menu": {},
   "number_sections": true,
   "sideBar": true,
   "skip_h1_title": false,
   "title_cell": "Table of Contents",
   "title_sidebar": "Contents",
   "toc_cell": false,
   "toc_position": {},
   "toc_section_display": true,
   "toc_window_display": false
  }
 },
 "nbformat": 4,
 "nbformat_minor": 1
}
