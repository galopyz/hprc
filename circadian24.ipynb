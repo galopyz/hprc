{
 "cells": [
  {
   "cell_type": "markdown",
   "metadata": {
    "colab_type": "text",
    "id": "view-in-github"
   },
   "source": [
    "<a href=\"https://colab.research.google.com/github/galopyz/hprc/blob/main/circadian21.ipynb\" target=\"_parent\"><img src=\"https://colab.research.google.com/assets/colab-badge.svg\" alt=\"Open In Colab\"/></a>"
   ]
  },
  {
   "cell_type": "markdown",
   "metadata": {
    "id": "Vc92vu0w81Yc"
   },
   "source": [
    "# 24hr predictions"
   ]
  },
  {
   "cell_type": "markdown",
   "metadata": {
    "id": "RGgLYuJVfiDw"
   },
   "source": [
    "Using meta_analysis data."
   ]
  },
  {
   "cell_type": "markdown",
   "metadata": {
    "id": "BtIp4kSIjrid"
   },
   "source": [
    "1. Batch data.\n",
    "2. Data_columns - Test_data_columns\n",
    "3. For bulk data, fill missing data with 0.\n",
    "4. Add columns to indicate missing genes and fill missing gene with 0.\n",
    "  - Add data augmentation that does this on training data.\n",
    "  - For some reason, data augmentation performed worse.\n",
    "5. Use linear layer for 24hr prediction.\n",
    "  - Trying on other bulk data.\n",
    "6. Modified R2 score\n",
    "5. Gene normalization"
   ]
  },
  {
   "cell_type": "markdown",
   "metadata": {},
   "source": [
    "TODO:\n",
    "  - Normalize all the data in the same way.\n",
    "  - Before normalizign the more_data, take care of data with only zeros for the gene expression."
   ]
  },
  {
   "cell_type": "markdown",
   "metadata": {
    "id": "YWKBpTGz74UM"
   },
   "source": [
    "## Import libraries"
   ]
  },
  {
   "cell_type": "code",
   "execution_count": 1,
   "metadata": {
    "id": "0EKtXY9-AqGj"
   },
   "outputs": [],
   "source": [
    "import pandas as pd\n",
    "import numpy as np\n",
    "from pathlib import Path\n",
    "import torch\n",
    "from torch import tensor\n",
    "from torcheval.metrics import MulticlassAccuracy\n",
    "import torchvision.transforms.functional as TF,torch.nn.functional as F\n",
    "from torch.utils.data import Dataset, DataLoader\n",
    "\n",
    "from miniai.datasets import *\n",
    "from miniai.conv import *\n",
    "from miniai.learner import *\n",
    "from miniai.activations import *\n",
    "from miniai.init import *\n",
    "from miniai.sgd import *\n",
    "from miniai.augment import *\n",
    "from miniai.xtras import *"
   ]
  },
  {
   "cell_type": "code",
   "execution_count": 2,
   "metadata": {
    "colab": {
     "base_uri": "https://localhost:8080/"
    },
    "id": "v8nvWiBJCYsr",
    "outputId": "e35f0840-3c34-428f-d045-07266f95e69b"
   },
   "outputs": [],
   "source": [
    "# from google.colab import drive\n",
    "# drive.mount('/content/drive')\n",
    "# %cd /content/drive/MyDrive/'Colab Notebooks'\n",
    "# !pip -q install torcheval\n",
    "# !pip -q install datasets\n",
    "# path = Path('data/circadian')\n",
    "path = Path('data')"
   ]
  },
  {
   "cell_type": "code",
   "execution_count": 3,
   "metadata": {
    "id": "TCXXASxfBbGj"
   },
   "outputs": [],
   "source": [
    "from torch.nn import init\n",
    "from functools import partial\n",
    "from torch.optim import lr_scheduler\n",
    "from torch import tensor,nn,optim\n",
    "\n",
    "import fastcore.all as fc"
   ]
  },
  {
   "cell_type": "code",
   "execution_count": 4,
   "metadata": {
    "id": "KNrxILJJWrdq"
   },
   "outputs": [],
   "source": [
    "loss_func = F.mse_loss"
   ]
  },
  {
   "cell_type": "code",
   "execution_count": 5,
   "metadata": {
    "id": "Hm8dkFErbGdh"
   },
   "outputs": [],
   "source": [
    "class TimeLayer(nn.Module):\n",
    "    def __init__(self, range = 24):\n",
    "        super().__init__()\n",
    "        self.range = range\n",
    "\n",
    "    def forward(self, x):\n",
    "        # return (F.sigmoid(x) * self.range - (self.range - 24)/2) % 24\n",
    "        return (F.sigmoid(x) * self.range - (self.range - 24)/2)"
   ]
  },
  {
   "cell_type": "code",
   "execution_count": 6,
   "metadata": {
    "id": "q5kGakUToGRe"
   },
   "outputs": [],
   "source": [
    "from torcheval.metrics import R2Score\n",
    "# metric = MetricsCB(R2Score=R2Score())\n",
    "# metric = R2Score()"
   ]
  },
  {
   "cell_type": "code",
   "execution_count": 7,
   "metadata": {
    "id": "PEEmcXur9MA3"
   },
   "outputs": [],
   "source": [
    "class TimeR2Score(R2Score):\n",
    "    def update(self, input, target):\n",
    "        inp = input.clone()\n",
    "        for i, (x, y) in enumerate(zip(input, target)):\n",
    "            min_x = x\n",
    "            min_diff = torch.inf\n",
    "            for z in [x-24, x, x+24]:\n",
    "                if abs(z-y) < min_diff:\n",
    "                    min_diff = abs(z-y)\n",
    "                    min_x = z\n",
    "            inp[i] = min_x\n",
    "        super().update(inp, target)"
   ]
  },
  {
   "cell_type": "code",
   "execution_count": 8,
   "metadata": {
    "id": "iq5l1aVn_vuM"
   },
   "outputs": [],
   "source": [
    "metric = MetricsCB(R2Score=TimeR2Score())"
   ]
  },
  {
   "cell_type": "markdown",
   "metadata": {
    "id": "Ft9NMEYGl6YD"
   },
   "source": [
    "## Data"
   ]
  },
  {
   "cell_type": "markdown",
   "metadata": {},
   "source": [
    "<img src=\"cell_nrm.jpg\" alt=\"Cell normalization\" width=\"400\">"
   ]
  },
  {
   "cell_type": "code",
   "execution_count": 9,
   "metadata": {},
   "outputs": [],
   "source": [
    "def nrm_genes(df):\n",
    "    \"\"\"Assuming genes on cols cells on rows.\"\"\"\n",
    "    cell_divided = df.div(df.sum(axis=1), axis=0)\n",
    "    return (cell_divided - cell_divided.mean(axis=0)) / cell_divided.std(axis=0)"
   ]
  },
  {
   "cell_type": "code",
   "execution_count": 10,
   "metadata": {
    "id": "NOpFP30kB8Xo"
   },
   "outputs": [],
   "source": [
    "meta_data = pd.read_csv(path/'meta_data.csv', low_memory=False)\n",
    "raw_data = pd.read_csv(path/'RNA_count_mat.csv', low_memory=False)"
   ]
  },
  {
   "cell_type": "code",
   "execution_count": 11,
   "metadata": {
    "id": "SkiW-Gt33jq0"
   },
   "outputs": [],
   "source": [
    "data = nrm_genes(raw_data.set_index('gene').T)\n",
    "df_mis = pd.DataFrame({f'{col}_missing':np.zeros(data.shape[0], dtype=int) for col in data.columns}, index=data.index)\n",
    "data2 = data.join(df_mis)\n",
    "df = data2.join(meta_data.set_index('cell_name'))\n",
    "df['code'] = df.loc[:,'ZT'].str[-2:].map(float)"
   ]
  },
  {
   "cell_type": "code",
   "execution_count": 12,
   "metadata": {},
   "outputs": [
    {
     "data": {
      "text/html": [
       "<div>\n",
       "<style scoped>\n",
       "    .dataframe tbody tr th:only-of-type {\n",
       "        vertical-align: middle;\n",
       "    }\n",
       "\n",
       "    .dataframe tbody tr th {\n",
       "        vertical-align: top;\n",
       "    }\n",
       "\n",
       "    .dataframe thead th {\n",
       "        text-align: right;\n",
       "    }\n",
       "</style>\n",
       "<table border=\"1\" class=\"dataframe\">\n",
       "  <thead>\n",
       "    <tr style=\"text-align: right;\">\n",
       "      <th></th>\n",
       "      <th>gene</th>\n",
       "      <th>AAACAGCCAACCCTAA-6</th>\n",
       "      <th>AAACCAACAGTAAAGC-6</th>\n",
       "      <th>AAACCGAAGGTCCTAG-6</th>\n",
       "      <th>AAAGCACCATTGTCCT-6</th>\n",
       "      <th>AAAGGACGTGAGGTGA-6</th>\n",
       "      <th>AAAGGAGCAAAGCGCA-6</th>\n",
       "      <th>AACAAAGGTAAAGCGG-6</th>\n",
       "      <th>AACAGATAGACTATTG-6</th>\n",
       "      <th>AACATAGCATGAGCAG-6</th>\n",
       "      <th>...</th>\n",
       "      <th>TTAGGATGTTTATCTG-7</th>\n",
       "      <th>TTATCCGTCACCTGCT-7</th>\n",
       "      <th>TTATTGCTCAAGTGTC-7</th>\n",
       "      <th>TTCCTTGAGTAAAGGT-7</th>\n",
       "      <th>TTCGTTAGTAACGAGG-7</th>\n",
       "      <th>TTGCCCGTCGCACAAT-7</th>\n",
       "      <th>TTGCGTCTCTTAGTCT-7</th>\n",
       "      <th>TTGGGTTAGCCACAAT-7</th>\n",
       "      <th>TTTAGCTTCAGGAAGC-7</th>\n",
       "      <th>TTTGGTAAGGAAGTAT-7</th>\n",
       "    </tr>\n",
       "  </thead>\n",
       "  <tbody>\n",
       "    <tr>\n",
       "      <th>0</th>\n",
       "      <td>Meg3</td>\n",
       "      <td>0</td>\n",
       "      <td>0</td>\n",
       "      <td>0</td>\n",
       "      <td>0</td>\n",
       "      <td>0</td>\n",
       "      <td>0</td>\n",
       "      <td>0</td>\n",
       "      <td>0</td>\n",
       "      <td>0</td>\n",
       "      <td>...</td>\n",
       "      <td>0</td>\n",
       "      <td>0</td>\n",
       "      <td>0</td>\n",
       "      <td>0</td>\n",
       "      <td>0</td>\n",
       "      <td>0</td>\n",
       "      <td>0</td>\n",
       "      <td>0</td>\n",
       "      <td>0</td>\n",
       "      <td>0</td>\n",
       "    </tr>\n",
       "    <tr>\n",
       "      <th>1</th>\n",
       "      <td>Slc1a2</td>\n",
       "      <td>0</td>\n",
       "      <td>2</td>\n",
       "      <td>0</td>\n",
       "      <td>0</td>\n",
       "      <td>0</td>\n",
       "      <td>0</td>\n",
       "      <td>0</td>\n",
       "      <td>0</td>\n",
       "      <td>0</td>\n",
       "      <td>...</td>\n",
       "      <td>0</td>\n",
       "      <td>0</td>\n",
       "      <td>0</td>\n",
       "      <td>0</td>\n",
       "      <td>0</td>\n",
       "      <td>0</td>\n",
       "      <td>0</td>\n",
       "      <td>0</td>\n",
       "      <td>0</td>\n",
       "      <td>0</td>\n",
       "    </tr>\n",
       "    <tr>\n",
       "      <th>2</th>\n",
       "      <td>Rian</td>\n",
       "      <td>0</td>\n",
       "      <td>0</td>\n",
       "      <td>0</td>\n",
       "      <td>0</td>\n",
       "      <td>0</td>\n",
       "      <td>0</td>\n",
       "      <td>0</td>\n",
       "      <td>0</td>\n",
       "      <td>0</td>\n",
       "      <td>...</td>\n",
       "      <td>0</td>\n",
       "      <td>0</td>\n",
       "      <td>0</td>\n",
       "      <td>0</td>\n",
       "      <td>0</td>\n",
       "      <td>0</td>\n",
       "      <td>0</td>\n",
       "      <td>0</td>\n",
       "      <td>0</td>\n",
       "      <td>0</td>\n",
       "    </tr>\n",
       "    <tr>\n",
       "      <th>3</th>\n",
       "      <td>Cyp2c40</td>\n",
       "      <td>0</td>\n",
       "      <td>0</td>\n",
       "      <td>0</td>\n",
       "      <td>0</td>\n",
       "      <td>0</td>\n",
       "      <td>0</td>\n",
       "      <td>0</td>\n",
       "      <td>0</td>\n",
       "      <td>0</td>\n",
       "      <td>...</td>\n",
       "      <td>0</td>\n",
       "      <td>0</td>\n",
       "      <td>0</td>\n",
       "      <td>0</td>\n",
       "      <td>0</td>\n",
       "      <td>0</td>\n",
       "      <td>0</td>\n",
       "      <td>0</td>\n",
       "      <td>0</td>\n",
       "      <td>0</td>\n",
       "    </tr>\n",
       "    <tr>\n",
       "      <th>4</th>\n",
       "      <td>Cyp2c69</td>\n",
       "      <td>0</td>\n",
       "      <td>0</td>\n",
       "      <td>0</td>\n",
       "      <td>0</td>\n",
       "      <td>0</td>\n",
       "      <td>0</td>\n",
       "      <td>0</td>\n",
       "      <td>0</td>\n",
       "      <td>0</td>\n",
       "      <td>...</td>\n",
       "      <td>0</td>\n",
       "      <td>0</td>\n",
       "      <td>0</td>\n",
       "      <td>0</td>\n",
       "      <td>0</td>\n",
       "      <td>0</td>\n",
       "      <td>0</td>\n",
       "      <td>0</td>\n",
       "      <td>0</td>\n",
       "      <td>0</td>\n",
       "    </tr>\n",
       "    <tr>\n",
       "      <th>...</th>\n",
       "      <td>...</td>\n",
       "      <td>...</td>\n",
       "      <td>...</td>\n",
       "      <td>...</td>\n",
       "      <td>...</td>\n",
       "      <td>...</td>\n",
       "      <td>...</td>\n",
       "      <td>...</td>\n",
       "      <td>...</td>\n",
       "      <td>...</td>\n",
       "      <td>...</td>\n",
       "      <td>...</td>\n",
       "      <td>...</td>\n",
       "      <td>...</td>\n",
       "      <td>...</td>\n",
       "      <td>...</td>\n",
       "      <td>...</td>\n",
       "      <td>...</td>\n",
       "      <td>...</td>\n",
       "      <td>...</td>\n",
       "      <td>...</td>\n",
       "    </tr>\n",
       "    <tr>\n",
       "      <th>2995</th>\n",
       "      <td>Sept8</td>\n",
       "      <td>0</td>\n",
       "      <td>0</td>\n",
       "      <td>0</td>\n",
       "      <td>0</td>\n",
       "      <td>0</td>\n",
       "      <td>0</td>\n",
       "      <td>0</td>\n",
       "      <td>0</td>\n",
       "      <td>0</td>\n",
       "      <td>...</td>\n",
       "      <td>0</td>\n",
       "      <td>0</td>\n",
       "      <td>0</td>\n",
       "      <td>0</td>\n",
       "      <td>0</td>\n",
       "      <td>0</td>\n",
       "      <td>0</td>\n",
       "      <td>0</td>\n",
       "      <td>0</td>\n",
       "      <td>0</td>\n",
       "    </tr>\n",
       "    <tr>\n",
       "      <th>2996</th>\n",
       "      <td>Cfap52</td>\n",
       "      <td>0</td>\n",
       "      <td>0</td>\n",
       "      <td>0</td>\n",
       "      <td>0</td>\n",
       "      <td>0</td>\n",
       "      <td>0</td>\n",
       "      <td>0</td>\n",
       "      <td>0</td>\n",
       "      <td>0</td>\n",
       "      <td>...</td>\n",
       "      <td>0</td>\n",
       "      <td>0</td>\n",
       "      <td>0</td>\n",
       "      <td>0</td>\n",
       "      <td>0</td>\n",
       "      <td>0</td>\n",
       "      <td>0</td>\n",
       "      <td>0</td>\n",
       "      <td>0</td>\n",
       "      <td>0</td>\n",
       "    </tr>\n",
       "    <tr>\n",
       "      <th>2997</th>\n",
       "      <td>Arhgap27</td>\n",
       "      <td>0</td>\n",
       "      <td>0</td>\n",
       "      <td>0</td>\n",
       "      <td>0</td>\n",
       "      <td>0</td>\n",
       "      <td>0</td>\n",
       "      <td>0</td>\n",
       "      <td>0</td>\n",
       "      <td>0</td>\n",
       "      <td>...</td>\n",
       "      <td>0</td>\n",
       "      <td>0</td>\n",
       "      <td>0</td>\n",
       "      <td>0</td>\n",
       "      <td>0</td>\n",
       "      <td>0</td>\n",
       "      <td>0</td>\n",
       "      <td>0</td>\n",
       "      <td>0</td>\n",
       "      <td>0</td>\n",
       "    </tr>\n",
       "    <tr>\n",
       "      <th>2998</th>\n",
       "      <td>F730043M19Rik</td>\n",
       "      <td>0</td>\n",
       "      <td>0</td>\n",
       "      <td>0</td>\n",
       "      <td>0</td>\n",
       "      <td>0</td>\n",
       "      <td>0</td>\n",
       "      <td>0</td>\n",
       "      <td>0</td>\n",
       "      <td>0</td>\n",
       "      <td>...</td>\n",
       "      <td>0</td>\n",
       "      <td>0</td>\n",
       "      <td>0</td>\n",
       "      <td>0</td>\n",
       "      <td>0</td>\n",
       "      <td>0</td>\n",
       "      <td>0</td>\n",
       "      <td>0</td>\n",
       "      <td>0</td>\n",
       "      <td>0</td>\n",
       "    </tr>\n",
       "    <tr>\n",
       "      <th>2999</th>\n",
       "      <td>Bora</td>\n",
       "      <td>0</td>\n",
       "      <td>1</td>\n",
       "      <td>0</td>\n",
       "      <td>0</td>\n",
       "      <td>0</td>\n",
       "      <td>0</td>\n",
       "      <td>0</td>\n",
       "      <td>0</td>\n",
       "      <td>0</td>\n",
       "      <td>...</td>\n",
       "      <td>0</td>\n",
       "      <td>0</td>\n",
       "      <td>0</td>\n",
       "      <td>0</td>\n",
       "      <td>0</td>\n",
       "      <td>0</td>\n",
       "      <td>0</td>\n",
       "      <td>0</td>\n",
       "      <td>0</td>\n",
       "      <td>0</td>\n",
       "    </tr>\n",
       "  </tbody>\n",
       "</table>\n",
       "<p>3000 rows × 15993 columns</p>\n",
       "</div>"
      ],
      "text/plain": [
       "               gene  AAACAGCCAACCCTAA-6  AAACCAACAGTAAAGC-6  \\\n",
       "0              Meg3                   0                   0   \n",
       "1            Slc1a2                   0                   2   \n",
       "2              Rian                   0                   0   \n",
       "3           Cyp2c40                   0                   0   \n",
       "4           Cyp2c69                   0                   0   \n",
       "...             ...                 ...                 ...   \n",
       "2995          Sept8                   0                   0   \n",
       "2996         Cfap52                   0                   0   \n",
       "2997       Arhgap27                   0                   0   \n",
       "2998  F730043M19Rik                   0                   0   \n",
       "2999           Bora                   0                   1   \n",
       "\n",
       "      AAACCGAAGGTCCTAG-6  AAAGCACCATTGTCCT-6  AAAGGACGTGAGGTGA-6  \\\n",
       "0                      0                   0                   0   \n",
       "1                      0                   0                   0   \n",
       "2                      0                   0                   0   \n",
       "3                      0                   0                   0   \n",
       "4                      0                   0                   0   \n",
       "...                  ...                 ...                 ...   \n",
       "2995                   0                   0                   0   \n",
       "2996                   0                   0                   0   \n",
       "2997                   0                   0                   0   \n",
       "2998                   0                   0                   0   \n",
       "2999                   0                   0                   0   \n",
       "\n",
       "      AAAGGAGCAAAGCGCA-6  AACAAAGGTAAAGCGG-6  AACAGATAGACTATTG-6  \\\n",
       "0                      0                   0                   0   \n",
       "1                      0                   0                   0   \n",
       "2                      0                   0                   0   \n",
       "3                      0                   0                   0   \n",
       "4                      0                   0                   0   \n",
       "...                  ...                 ...                 ...   \n",
       "2995                   0                   0                   0   \n",
       "2996                   0                   0                   0   \n",
       "2997                   0                   0                   0   \n",
       "2998                   0                   0                   0   \n",
       "2999                   0                   0                   0   \n",
       "\n",
       "      AACATAGCATGAGCAG-6  ...  TTAGGATGTTTATCTG-7  TTATCCGTCACCTGCT-7  \\\n",
       "0                      0  ...                   0                   0   \n",
       "1                      0  ...                   0                   0   \n",
       "2                      0  ...                   0                   0   \n",
       "3                      0  ...                   0                   0   \n",
       "4                      0  ...                   0                   0   \n",
       "...                  ...  ...                 ...                 ...   \n",
       "2995                   0  ...                   0                   0   \n",
       "2996                   0  ...                   0                   0   \n",
       "2997                   0  ...                   0                   0   \n",
       "2998                   0  ...                   0                   0   \n",
       "2999                   0  ...                   0                   0   \n",
       "\n",
       "      TTATTGCTCAAGTGTC-7  TTCCTTGAGTAAAGGT-7  TTCGTTAGTAACGAGG-7  \\\n",
       "0                      0                   0                   0   \n",
       "1                      0                   0                   0   \n",
       "2                      0                   0                   0   \n",
       "3                      0                   0                   0   \n",
       "4                      0                   0                   0   \n",
       "...                  ...                 ...                 ...   \n",
       "2995                   0                   0                   0   \n",
       "2996                   0                   0                   0   \n",
       "2997                   0                   0                   0   \n",
       "2998                   0                   0                   0   \n",
       "2999                   0                   0                   0   \n",
       "\n",
       "      TTGCCCGTCGCACAAT-7  TTGCGTCTCTTAGTCT-7  TTGGGTTAGCCACAAT-7  \\\n",
       "0                      0                   0                   0   \n",
       "1                      0                   0                   0   \n",
       "2                      0                   0                   0   \n",
       "3                      0                   0                   0   \n",
       "4                      0                   0                   0   \n",
       "...                  ...                 ...                 ...   \n",
       "2995                   0                   0                   0   \n",
       "2996                   0                   0                   0   \n",
       "2997                   0                   0                   0   \n",
       "2998                   0                   0                   0   \n",
       "2999                   0                   0                   0   \n",
       "\n",
       "      TTTAGCTTCAGGAAGC-7  TTTGGTAAGGAAGTAT-7  \n",
       "0                      0                   0  \n",
       "1                      0                   0  \n",
       "2                      0                   0  \n",
       "3                      0                   0  \n",
       "4                      0                   0  \n",
       "...                  ...                 ...  \n",
       "2995                   0                   0  \n",
       "2996                   0                   0  \n",
       "2997                   0                   0  \n",
       "2998                   0                   0  \n",
       "2999                   0                   0  \n",
       "\n",
       "[3000 rows x 15993 columns]"
      ]
     },
     "execution_count": 12,
     "metadata": {},
     "output_type": "execute_result"
    }
   ],
   "source": [
    "raw_data"
   ]
  },
  {
   "cell_type": "markdown",
   "metadata": {
    "id": "T2hYSXtipnD_"
   },
   "source": [
    "### Bulk + scRNA-seq"
   ]
  },
  {
   "cell_type": "code",
   "execution_count": 13,
   "metadata": {
    "id": "wht1ZlD3MGkO"
   },
   "outputs": [],
   "source": [
    "raw_gro = pd.read_csv(path/'gro.csv', low_memory=False)\n",
    "raw_gro.drop(columns=['Unnamed: 0'], inplace=True)\n",
    "raw_gro.rename(columns={'Symbol': 'ID'}, inplace=True)"
   ]
  },
  {
   "cell_type": "code",
   "execution_count": 14,
   "metadata": {
    "id": "0wdJFEgRjzRo"
   },
   "outputs": [],
   "source": [
    "raw_nascent = pd.read_csv(path/'Nascent.csv', low_memory=False)\n",
    "raw_nascent.drop(columns=['Unnamed: 0'], inplace=True)"
   ]
  },
  {
   "cell_type": "code",
   "execution_count": 15,
   "metadata": {
    "id": "tbcW3tYB-f0C"
   },
   "outputs": [],
   "source": [
    "raw_bulk_data = pd.read_csv(path/'RNA.csv', low_memory=False)"
   ]
  },
  {
   "cell_type": "code",
   "execution_count": 16,
   "metadata": {},
   "outputs": [],
   "source": [
    "bulk_data = nrm_genes(raw_bulk_data.set_index('ID').T)\n",
    "bulk_data['code'] = [2,6,10,14,18,22,2,6,10,14,18,22]"
   ]
  },
  {
   "cell_type": "code",
   "execution_count": 17,
   "metadata": {
    "id": "kD0RS8F66Hzh"
   },
   "outputs": [],
   "source": [
    "gro = nrm_genes(raw_gro.set_index('ID').T)\n",
    "nascent = nrm_genes(raw_nascent.set_index('ID').T)\n",
    "\n",
    "bulk_data['code'] = [2,6,10,14,18,22,2,6,10,14,18,22]\n",
    "gro['code'] = [1,4,7,10,13,16,19,22]\n",
    "nascent['code'] = [0,4,8,12,16,20,0,4,8,12,16,20]"
   ]
  },
  {
   "cell_type": "code",
   "execution_count": 18,
   "metadata": {},
   "outputs": [
    {
     "data": {
      "text/plain": [
       "(ID\n",
       " Ldlrap1         -8.049117e-16\n",
       " Mfap1b           0.000000e+00\n",
       " Rnaset2a        -8.326673e-17\n",
       " 9130023H24Rik   -3.738329e-16\n",
       " Rcc1            -1.346145e-15\n",
       "                      ...     \n",
       " Fgg             -1.387779e-17\n",
       " 4933434E20Rik   -1.973248e-15\n",
       " Taf13           -3.053113e-16\n",
       " Tiparp           2.376571e-16\n",
       " code             1.150000e+01\n",
       " Length: 9482, dtype: float64,\n",
       " ID\n",
       " Ldlrap1          1.000000\n",
       " Mfap1b           1.000000\n",
       " Rnaset2a         1.000000\n",
       " 9130023H24Rik    1.000000\n",
       " Rcc1             1.000000\n",
       "                    ...   \n",
       " Fgg              1.000000\n",
       " 4933434E20Rik    1.000000\n",
       " Taf13            1.000000\n",
       " Tiparp           1.000000\n",
       " code             7.348469\n",
       " Length: 9482, dtype: float64)"
      ]
     },
     "execution_count": 18,
     "metadata": {},
     "output_type": "execute_result"
    }
   ],
   "source": [
    "gro.mean(axis=0), gro.std(axis=0)"
   ]
  },
  {
   "cell_type": "code",
   "execution_count": 19,
   "metadata": {},
   "outputs": [
    {
     "data": {
      "text/plain": [
       "(ID\n",
       " Rorc      -4.625929e-17\n",
       " Nr1d1      5.551115e-17\n",
       " Zfyve26    2.127927e-16\n",
       " Fbxo22    -8.326673e-17\n",
       " Ppfibp1    0.000000e+00\n",
       "                ...     \n",
       " Eef1b2    -4.163336e-16\n",
       " Mier3      6.892635e-16\n",
       " Sec13      1.230497e-15\n",
       " Mapk3     -2.891206e-16\n",
       " code       1.000000e+01\n",
       " Length: 9482, dtype: float64,\n",
       " ID\n",
       " Rorc       1.000000\n",
       " Nr1d1      1.000000\n",
       " Zfyve26    1.000000\n",
       " Fbxo22     1.000000\n",
       " Ppfibp1    1.000000\n",
       "              ...   \n",
       " Eef1b2     1.000000\n",
       " Mier3      1.000000\n",
       " Sec13      1.000000\n",
       " Mapk3      1.000000\n",
       " code       7.135061\n",
       " Length: 9482, dtype: float64)"
      ]
     },
     "execution_count": 19,
     "metadata": {},
     "output_type": "execute_result"
    }
   ],
   "source": [
    "nascent.mean(axis=0), nascent.std(axis=0)"
   ]
  },
  {
   "cell_type": "markdown",
   "metadata": {},
   "source": [
    "## Adding more datasets"
   ]
  },
  {
   "cell_type": "markdown",
   "metadata": {},
   "source": [
    "See meta_analysis for more data."
   ]
  },
  {
   "cell_type": "code",
   "execution_count": 20,
   "metadata": {},
   "outputs": [],
   "source": [
    "path = Path('data/scRNA_datasets')\n",
    "more_data = pd.read_csv(path/'tpm.by_sample.txt', sep='\\t', low_memory=False).dropna(how='any').T.drop(index='Name')\n",
    "more_data.columns = more_data.loc['Symbol']\n",
    "more_data = more_data.drop(index='Symbol')"
   ]
  },
  {
   "cell_type": "code",
   "execution_count": 21,
   "metadata": {},
   "outputs": [
    {
     "data": {
      "text/html": [
       "<div>\n",
       "<style scoped>\n",
       "    .dataframe tbody tr th:only-of-type {\n",
       "        vertical-align: middle;\n",
       "    }\n",
       "\n",
       "    .dataframe tbody tr th {\n",
       "        vertical-align: top;\n",
       "    }\n",
       "\n",
       "    .dataframe thead th {\n",
       "        text-align: right;\n",
       "    }\n",
       "</style>\n",
       "<table border=\"1\" class=\"dataframe\">\n",
       "  <thead>\n",
       "    <tr style=\"text-align: right;\">\n",
       "      <th>Symbol</th>\n",
       "      <th>Gm14820</th>\n",
       "      <th>Flicr</th>\n",
       "      <th>Gm13449</th>\n",
       "      <th>C79798</th>\n",
       "      <th>Nron</th>\n",
       "      <th>Gm13528</th>\n",
       "      <th>Gm13425</th>\n",
       "      <th>4930527E20Rik</th>\n",
       "      <th>Gm13402</th>\n",
       "      <th>AA645442</th>\n",
       "      <th>...</th>\n",
       "      <th>Il33</th>\n",
       "      <th>Pgam1-ps1</th>\n",
       "      <th>Gm22697</th>\n",
       "      <th>Gm10517</th>\n",
       "      <th>Vmn1r-ps84</th>\n",
       "      <th>Rpsa-ps3</th>\n",
       "      <th>Gm14634</th>\n",
       "      <th>Zkscan7</th>\n",
       "      <th>Agbl1</th>\n",
       "      <th>Gm8902</th>\n",
       "    </tr>\n",
       "  </thead>\n",
       "  <tbody>\n",
       "    <tr>\n",
       "      <th>GSM2046160</th>\n",
       "      <td>0.047856</td>\n",
       "      <td>0.043026</td>\n",
       "      <td>0.013747</td>\n",
       "      <td>0.0</td>\n",
       "      <td>0.017114</td>\n",
       "      <td>0.184585</td>\n",
       "      <td>0.0</td>\n",
       "      <td>0.0</td>\n",
       "      <td>0.0</td>\n",
       "      <td>0.0</td>\n",
       "      <td>...</td>\n",
       "      <td>0.585986</td>\n",
       "      <td>0.04335</td>\n",
       "      <td>0.0</td>\n",
       "      <td>0.0</td>\n",
       "      <td>0.0</td>\n",
       "      <td>0.0</td>\n",
       "      <td>0.029685</td>\n",
       "      <td>2.69082</td>\n",
       "      <td>0.0</td>\n",
       "      <td>0.0</td>\n",
       "    </tr>\n",
       "    <tr>\n",
       "      <th>GSM2046184</th>\n",
       "      <td>0.0</td>\n",
       "      <td>0.017274</td>\n",
       "      <td>0.012649</td>\n",
       "      <td>0.0</td>\n",
       "      <td>0.0</td>\n",
       "      <td>0.225739</td>\n",
       "      <td>0.0</td>\n",
       "      <td>0.0</td>\n",
       "      <td>0.0</td>\n",
       "      <td>0.084449</td>\n",
       "      <td>...</td>\n",
       "      <td>0.682593</td>\n",
       "      <td>0.038878</td>\n",
       "      <td>0.0</td>\n",
       "      <td>0.0</td>\n",
       "      <td>0.0</td>\n",
       "      <td>0.017092</td>\n",
       "      <td>0.031688</td>\n",
       "      <td>2.20585</td>\n",
       "      <td>0.0</td>\n",
       "      <td>0.0</td>\n",
       "    </tr>\n",
       "    <tr>\n",
       "      <th>GSM2046157</th>\n",
       "      <td>0.011696</td>\n",
       "      <td>0.012144</td>\n",
       "      <td>0.029259</td>\n",
       "      <td>0.0</td>\n",
       "      <td>0.0</td>\n",
       "      <td>0.246204</td>\n",
       "      <td>0.0</td>\n",
       "      <td>0.0</td>\n",
       "      <td>0.0</td>\n",
       "      <td>0.0</td>\n",
       "      <td>...</td>\n",
       "      <td>0.521939</td>\n",
       "      <td>0.045233</td>\n",
       "      <td>0.0</td>\n",
       "      <td>0.1197</td>\n",
       "      <td>0.0</td>\n",
       "      <td>0.0</td>\n",
       "      <td>0.0</td>\n",
       "      <td>2.56285</td>\n",
       "      <td>0.0</td>\n",
       "      <td>0.015267</td>\n",
       "    </tr>\n",
       "    <tr>\n",
       "      <th>GSM2046183</th>\n",
       "      <td>0.038796</td>\n",
       "      <td>0.035352</td>\n",
       "      <td>0.012449</td>\n",
       "      <td>0.0</td>\n",
       "      <td>0.0</td>\n",
       "      <td>0.207048</td>\n",
       "      <td>0.0</td>\n",
       "      <td>0.0</td>\n",
       "      <td>0.0</td>\n",
       "      <td>0.0</td>\n",
       "      <td>...</td>\n",
       "      <td>0.404564</td>\n",
       "      <td>0.017379</td>\n",
       "      <td>0.0</td>\n",
       "      <td>0.170666</td>\n",
       "      <td>0.0</td>\n",
       "      <td>0.0</td>\n",
       "      <td>0.009918</td>\n",
       "      <td>2.47665</td>\n",
       "      <td>0.0</td>\n",
       "      <td>0.0</td>\n",
       "    </tr>\n",
       "    <tr>\n",
       "      <th>GSM2046155</th>\n",
       "      <td>0.0</td>\n",
       "      <td>0.025837</td>\n",
       "      <td>0.080033</td>\n",
       "      <td>0.0</td>\n",
       "      <td>0.0</td>\n",
       "      <td>0.157396</td>\n",
       "      <td>0.0</td>\n",
       "      <td>0.0</td>\n",
       "      <td>0.0</td>\n",
       "      <td>0.619891</td>\n",
       "      <td>...</td>\n",
       "      <td>0.36724</td>\n",
       "      <td>0.088547</td>\n",
       "      <td>0.0</td>\n",
       "      <td>0.134558</td>\n",
       "      <td>0.0</td>\n",
       "      <td>0.0</td>\n",
       "      <td>0.007446</td>\n",
       "      <td>2.71046</td>\n",
       "      <td>0.0</td>\n",
       "      <td>0.011883</td>\n",
       "    </tr>\n",
       "    <tr>\n",
       "      <th>...</th>\n",
       "      <td>...</td>\n",
       "      <td>...</td>\n",
       "      <td>...</td>\n",
       "      <td>...</td>\n",
       "      <td>...</td>\n",
       "      <td>...</td>\n",
       "      <td>...</td>\n",
       "      <td>...</td>\n",
       "      <td>...</td>\n",
       "      <td>...</td>\n",
       "      <td>...</td>\n",
       "      <td>...</td>\n",
       "      <td>...</td>\n",
       "      <td>...</td>\n",
       "      <td>...</td>\n",
       "      <td>...</td>\n",
       "      <td>...</td>\n",
       "      <td>...</td>\n",
       "      <td>...</td>\n",
       "      <td>...</td>\n",
       "      <td>...</td>\n",
       "    </tr>\n",
       "    <tr>\n",
       "      <th>GSM6610738</th>\n",
       "      <td>0.0</td>\n",
       "      <td>0.035516</td>\n",
       "      <td>0.215311</td>\n",
       "      <td>0.0</td>\n",
       "      <td>0.0</td>\n",
       "      <td>0.0</td>\n",
       "      <td>0.0</td>\n",
       "      <td>0.0</td>\n",
       "      <td>0.130749</td>\n",
       "      <td>0.316231</td>\n",
       "      <td>...</td>\n",
       "      <td>0.794336</td>\n",
       "      <td>0.3189</td>\n",
       "      <td>0.0</td>\n",
       "      <td>0.0</td>\n",
       "      <td>0.0</td>\n",
       "      <td>0.0</td>\n",
       "      <td>0.023322</td>\n",
       "      <td>1.85593</td>\n",
       "      <td>0.0</td>\n",
       "      <td>0.0</td>\n",
       "    </tr>\n",
       "    <tr>\n",
       "      <th>GSM6610724</th>\n",
       "      <td>0.0</td>\n",
       "      <td>0.078964</td>\n",
       "      <td>0.200141</td>\n",
       "      <td>0.0</td>\n",
       "      <td>0.0</td>\n",
       "      <td>0.806385</td>\n",
       "      <td>0.0</td>\n",
       "      <td>0.0</td>\n",
       "      <td>0.0</td>\n",
       "      <td>0.0</td>\n",
       "      <td>...</td>\n",
       "      <td>0.752421</td>\n",
       "      <td>0.165695</td>\n",
       "      <td>0.0</td>\n",
       "      <td>0.110278</td>\n",
       "      <td>0.0</td>\n",
       "      <td>0.0</td>\n",
       "      <td>0.070138</td>\n",
       "      <td>1.70914</td>\n",
       "      <td>0.0</td>\n",
       "      <td>0.0</td>\n",
       "    </tr>\n",
       "    <tr>\n",
       "      <th>GSM6610752</th>\n",
       "      <td>0.0</td>\n",
       "      <td>0.043414</td>\n",
       "      <td>0.228735</td>\n",
       "      <td>0.0</td>\n",
       "      <td>0.0</td>\n",
       "      <td>0.447329</td>\n",
       "      <td>0.0</td>\n",
       "      <td>0.0</td>\n",
       "      <td>0.0</td>\n",
       "      <td>0.405717</td>\n",
       "      <td>...</td>\n",
       "      <td>0.796097</td>\n",
       "      <td>0.265712</td>\n",
       "      <td>0.0</td>\n",
       "      <td>0.0</td>\n",
       "      <td>0.0</td>\n",
       "      <td>0.0</td>\n",
       "      <td>0.054193</td>\n",
       "      <td>2.7101</td>\n",
       "      <td>0.0</td>\n",
       "      <td>0.0</td>\n",
       "    </tr>\n",
       "    <tr>\n",
       "      <th>GSM6610726</th>\n",
       "      <td>0.016459</td>\n",
       "      <td>0.043835</td>\n",
       "      <td>0.284069</td>\n",
       "      <td>0.028452</td>\n",
       "      <td>0.0</td>\n",
       "      <td>1.18465</td>\n",
       "      <td>0.0</td>\n",
       "      <td>0.0</td>\n",
       "      <td>0.0</td>\n",
       "      <td>0.829571</td>\n",
       "      <td>...</td>\n",
       "      <td>0.715682</td>\n",
       "      <td>0.034111</td>\n",
       "      <td>0.0</td>\n",
       "      <td>0.276602</td>\n",
       "      <td>0.0</td>\n",
       "      <td>0.0</td>\n",
       "      <td>0.047538</td>\n",
       "      <td>1.66776</td>\n",
       "      <td>0.0</td>\n",
       "      <td>0.0</td>\n",
       "    </tr>\n",
       "    <tr>\n",
       "      <th>GSM6610740</th>\n",
       "      <td>0.0</td>\n",
       "      <td>0.048446</td>\n",
       "      <td>0.234701</td>\n",
       "      <td>0.0</td>\n",
       "      <td>0.0</td>\n",
       "      <td>0.203605</td>\n",
       "      <td>0.0</td>\n",
       "      <td>0.0</td>\n",
       "      <td>0.0</td>\n",
       "      <td>0.0</td>\n",
       "      <td>...</td>\n",
       "      <td>0.692491</td>\n",
       "      <td>0.236707</td>\n",
       "      <td>0.0</td>\n",
       "      <td>0.098693</td>\n",
       "      <td>0.0</td>\n",
       "      <td>0.0</td>\n",
       "      <td>0.018135</td>\n",
       "      <td>2.69755</td>\n",
       "      <td>0.0</td>\n",
       "      <td>0.0</td>\n",
       "    </tr>\n",
       "  </tbody>\n",
       "</table>\n",
       "<p>1096 rows × 37042 columns</p>\n",
       "</div>"
      ],
      "text/plain": [
       "Symbol       Gm14820     Flicr   Gm13449    C79798      Nron   Gm13528  \\\n",
       "GSM2046160  0.047856  0.043026  0.013747       0.0  0.017114  0.184585   \n",
       "GSM2046184       0.0  0.017274  0.012649       0.0       0.0  0.225739   \n",
       "GSM2046157  0.011696  0.012144  0.029259       0.0       0.0  0.246204   \n",
       "GSM2046183  0.038796  0.035352  0.012449       0.0       0.0  0.207048   \n",
       "GSM2046155       0.0  0.025837  0.080033       0.0       0.0  0.157396   \n",
       "...              ...       ...       ...       ...       ...       ...   \n",
       "GSM6610738       0.0  0.035516  0.215311       0.0       0.0       0.0   \n",
       "GSM6610724       0.0  0.078964  0.200141       0.0       0.0  0.806385   \n",
       "GSM6610752       0.0  0.043414  0.228735       0.0       0.0  0.447329   \n",
       "GSM6610726  0.016459  0.043835  0.284069  0.028452       0.0   1.18465   \n",
       "GSM6610740       0.0  0.048446  0.234701       0.0       0.0  0.203605   \n",
       "\n",
       "Symbol     Gm13425 4930527E20Rik   Gm13402  AA645442  ...      Il33 Pgam1-ps1  \\\n",
       "GSM2046160     0.0           0.0       0.0       0.0  ...  0.585986   0.04335   \n",
       "GSM2046184     0.0           0.0       0.0  0.084449  ...  0.682593  0.038878   \n",
       "GSM2046157     0.0           0.0       0.0       0.0  ...  0.521939  0.045233   \n",
       "GSM2046183     0.0           0.0       0.0       0.0  ...  0.404564  0.017379   \n",
       "GSM2046155     0.0           0.0       0.0  0.619891  ...   0.36724  0.088547   \n",
       "...            ...           ...       ...       ...  ...       ...       ...   \n",
       "GSM6610738     0.0           0.0  0.130749  0.316231  ...  0.794336    0.3189   \n",
       "GSM6610724     0.0           0.0       0.0       0.0  ...  0.752421  0.165695   \n",
       "GSM6610752     0.0           0.0       0.0  0.405717  ...  0.796097  0.265712   \n",
       "GSM6610726     0.0           0.0       0.0  0.829571  ...  0.715682  0.034111   \n",
       "GSM6610740     0.0           0.0       0.0       0.0  ...  0.692491  0.236707   \n",
       "\n",
       "Symbol     Gm22697   Gm10517 Vmn1r-ps84  Rpsa-ps3   Gm14634  Zkscan7 Agbl1  \\\n",
       "GSM2046160     0.0       0.0        0.0       0.0  0.029685  2.69082   0.0   \n",
       "GSM2046184     0.0       0.0        0.0  0.017092  0.031688  2.20585   0.0   \n",
       "GSM2046157     0.0    0.1197        0.0       0.0       0.0  2.56285   0.0   \n",
       "GSM2046183     0.0  0.170666        0.0       0.0  0.009918  2.47665   0.0   \n",
       "GSM2046155     0.0  0.134558        0.0       0.0  0.007446  2.71046   0.0   \n",
       "...            ...       ...        ...       ...       ...      ...   ...   \n",
       "GSM6610738     0.0       0.0        0.0       0.0  0.023322  1.85593   0.0   \n",
       "GSM6610724     0.0  0.110278        0.0       0.0  0.070138  1.70914   0.0   \n",
       "GSM6610752     0.0       0.0        0.0       0.0  0.054193   2.7101   0.0   \n",
       "GSM6610726     0.0  0.276602        0.0       0.0  0.047538  1.66776   0.0   \n",
       "GSM6610740     0.0  0.098693        0.0       0.0  0.018135  2.69755   0.0   \n",
       "\n",
       "Symbol        Gm8902  \n",
       "GSM2046160       0.0  \n",
       "GSM2046184       0.0  \n",
       "GSM2046157  0.015267  \n",
       "GSM2046183       0.0  \n",
       "GSM2046155  0.011883  \n",
       "...              ...  \n",
       "GSM6610738       0.0  \n",
       "GSM6610724       0.0  \n",
       "GSM6610752       0.0  \n",
       "GSM6610726       0.0  \n",
       "GSM6610740       0.0  \n",
       "\n",
       "[1096 rows x 37042 columns]"
      ]
     },
     "execution_count": 21,
     "metadata": {},
     "output_type": "execute_result"
    }
   ],
   "source": [
    "more_data"
   ]
  },
  {
   "cell_type": "markdown",
   "metadata": {},
   "source": [
    "Getting rid of genes that don't express anything."
   ]
  },
  {
   "cell_type": "code",
   "execution_count": 22,
   "metadata": {},
   "outputs": [
    {
     "data": {
      "text/plain": [
       "2"
      ]
     },
     "execution_count": 22,
     "metadata": {},
     "output_type": "execute_result"
    }
   ],
   "source": [
    "# Checking which ones are in training data\n",
    "zero_cols = more_data.loc[:,more_data.sum(axis=0) == 0].columns\n",
    "len(set(zero_cols).intersection(df.columns))"
   ]
  },
  {
   "cell_type": "code",
   "execution_count": 23,
   "metadata": {},
   "outputs": [
    {
     "data": {
      "text/html": [
       "<div>\n",
       "<style scoped>\n",
       "    .dataframe tbody tr th:only-of-type {\n",
       "        vertical-align: middle;\n",
       "    }\n",
       "\n",
       "    .dataframe tbody tr th {\n",
       "        vertical-align: top;\n",
       "    }\n",
       "\n",
       "    .dataframe thead th {\n",
       "        text-align: right;\n",
       "    }\n",
       "</style>\n",
       "<table border=\"1\" class=\"dataframe\">\n",
       "  <thead>\n",
       "    <tr style=\"text-align: right;\">\n",
       "      <th>Symbol</th>\n",
       "      <th>Gm14820</th>\n",
       "      <th>Flicr</th>\n",
       "      <th>Gm13449</th>\n",
       "      <th>C79798</th>\n",
       "      <th>Nron</th>\n",
       "      <th>Gm13528</th>\n",
       "      <th>4930527E20Rik</th>\n",
       "      <th>Gm13402</th>\n",
       "      <th>AA645442</th>\n",
       "      <th>Sardhos</th>\n",
       "      <th>...</th>\n",
       "      <th>Eef1akmt4</th>\n",
       "      <th>Il33</th>\n",
       "      <th>Pgam1-ps1</th>\n",
       "      <th>Gm10517</th>\n",
       "      <th>Vmn1r-ps84</th>\n",
       "      <th>Rpsa-ps3</th>\n",
       "      <th>Gm14634</th>\n",
       "      <th>Zkscan7</th>\n",
       "      <th>Agbl1</th>\n",
       "      <th>Gm8902</th>\n",
       "    </tr>\n",
       "  </thead>\n",
       "  <tbody>\n",
       "    <tr>\n",
       "      <th>GSM2046160</th>\n",
       "      <td>0.047856</td>\n",
       "      <td>0.043026</td>\n",
       "      <td>0.013747</td>\n",
       "      <td>0.0</td>\n",
       "      <td>0.017114</td>\n",
       "      <td>0.184585</td>\n",
       "      <td>0.0</td>\n",
       "      <td>0.0</td>\n",
       "      <td>0.0</td>\n",
       "      <td>8.55776</td>\n",
       "      <td>...</td>\n",
       "      <td>4.80793</td>\n",
       "      <td>0.585986</td>\n",
       "      <td>0.04335</td>\n",
       "      <td>0.0</td>\n",
       "      <td>0.0</td>\n",
       "      <td>0.0</td>\n",
       "      <td>0.029685</td>\n",
       "      <td>2.69082</td>\n",
       "      <td>0.0</td>\n",
       "      <td>0.0</td>\n",
       "    </tr>\n",
       "    <tr>\n",
       "      <th>GSM2046184</th>\n",
       "      <td>0.0</td>\n",
       "      <td>0.017274</td>\n",
       "      <td>0.012649</td>\n",
       "      <td>0.0</td>\n",
       "      <td>0.0</td>\n",
       "      <td>0.225739</td>\n",
       "      <td>0.0</td>\n",
       "      <td>0.0</td>\n",
       "      <td>0.084449</td>\n",
       "      <td>4.54988</td>\n",
       "      <td>...</td>\n",
       "      <td>4.70429</td>\n",
       "      <td>0.682593</td>\n",
       "      <td>0.038878</td>\n",
       "      <td>0.0</td>\n",
       "      <td>0.0</td>\n",
       "      <td>0.017092</td>\n",
       "      <td>0.031688</td>\n",
       "      <td>2.20585</td>\n",
       "      <td>0.0</td>\n",
       "      <td>0.0</td>\n",
       "    </tr>\n",
       "    <tr>\n",
       "      <th>GSM2046157</th>\n",
       "      <td>0.011696</td>\n",
       "      <td>0.012144</td>\n",
       "      <td>0.029259</td>\n",
       "      <td>0.0</td>\n",
       "      <td>0.0</td>\n",
       "      <td>0.246204</td>\n",
       "      <td>0.0</td>\n",
       "      <td>0.0</td>\n",
       "      <td>0.0</td>\n",
       "      <td>8.24781</td>\n",
       "      <td>...</td>\n",
       "      <td>3.84295</td>\n",
       "      <td>0.521939</td>\n",
       "      <td>0.045233</td>\n",
       "      <td>0.1197</td>\n",
       "      <td>0.0</td>\n",
       "      <td>0.0</td>\n",
       "      <td>0.0</td>\n",
       "      <td>2.56285</td>\n",
       "      <td>0.0</td>\n",
       "      <td>0.015267</td>\n",
       "    </tr>\n",
       "    <tr>\n",
       "      <th>GSM2046183</th>\n",
       "      <td>0.038796</td>\n",
       "      <td>0.035352</td>\n",
       "      <td>0.012449</td>\n",
       "      <td>0.0</td>\n",
       "      <td>0.0</td>\n",
       "      <td>0.207048</td>\n",
       "      <td>0.0</td>\n",
       "      <td>0.0</td>\n",
       "      <td>0.0</td>\n",
       "      <td>8.40232</td>\n",
       "      <td>...</td>\n",
       "      <td>4.45069</td>\n",
       "      <td>0.404564</td>\n",
       "      <td>0.017379</td>\n",
       "      <td>0.170666</td>\n",
       "      <td>0.0</td>\n",
       "      <td>0.0</td>\n",
       "      <td>0.009918</td>\n",
       "      <td>2.47665</td>\n",
       "      <td>0.0</td>\n",
       "      <td>0.0</td>\n",
       "    </tr>\n",
       "    <tr>\n",
       "      <th>GSM2046155</th>\n",
       "      <td>0.0</td>\n",
       "      <td>0.025837</td>\n",
       "      <td>0.080033</td>\n",
       "      <td>0.0</td>\n",
       "      <td>0.0</td>\n",
       "      <td>0.157396</td>\n",
       "      <td>0.0</td>\n",
       "      <td>0.0</td>\n",
       "      <td>0.619891</td>\n",
       "      <td>11.4359</td>\n",
       "      <td>...</td>\n",
       "      <td>4.87733</td>\n",
       "      <td>0.36724</td>\n",
       "      <td>0.088547</td>\n",
       "      <td>0.134558</td>\n",
       "      <td>0.0</td>\n",
       "      <td>0.0</td>\n",
       "      <td>0.007446</td>\n",
       "      <td>2.71046</td>\n",
       "      <td>0.0</td>\n",
       "      <td>0.011883</td>\n",
       "    </tr>\n",
       "    <tr>\n",
       "      <th>...</th>\n",
       "      <td>...</td>\n",
       "      <td>...</td>\n",
       "      <td>...</td>\n",
       "      <td>...</td>\n",
       "      <td>...</td>\n",
       "      <td>...</td>\n",
       "      <td>...</td>\n",
       "      <td>...</td>\n",
       "      <td>...</td>\n",
       "      <td>...</td>\n",
       "      <td>...</td>\n",
       "      <td>...</td>\n",
       "      <td>...</td>\n",
       "      <td>...</td>\n",
       "      <td>...</td>\n",
       "      <td>...</td>\n",
       "      <td>...</td>\n",
       "      <td>...</td>\n",
       "      <td>...</td>\n",
       "      <td>...</td>\n",
       "      <td>...</td>\n",
       "    </tr>\n",
       "    <tr>\n",
       "      <th>GSM6610738</th>\n",
       "      <td>0.0</td>\n",
       "      <td>0.035516</td>\n",
       "      <td>0.215311</td>\n",
       "      <td>0.0</td>\n",
       "      <td>0.0</td>\n",
       "      <td>0.0</td>\n",
       "      <td>0.0</td>\n",
       "      <td>0.130749</td>\n",
       "      <td>0.316231</td>\n",
       "      <td>0.0</td>\n",
       "      <td>...</td>\n",
       "      <td>8.84043</td>\n",
       "      <td>0.794336</td>\n",
       "      <td>0.3189</td>\n",
       "      <td>0.0</td>\n",
       "      <td>0.0</td>\n",
       "      <td>0.0</td>\n",
       "      <td>0.023322</td>\n",
       "      <td>1.85593</td>\n",
       "      <td>0.0</td>\n",
       "      <td>0.0</td>\n",
       "    </tr>\n",
       "    <tr>\n",
       "      <th>GSM6610724</th>\n",
       "      <td>0.0</td>\n",
       "      <td>0.078964</td>\n",
       "      <td>0.200141</td>\n",
       "      <td>0.0</td>\n",
       "      <td>0.0</td>\n",
       "      <td>0.806385</td>\n",
       "      <td>0.0</td>\n",
       "      <td>0.0</td>\n",
       "      <td>0.0</td>\n",
       "      <td>0.0</td>\n",
       "      <td>...</td>\n",
       "      <td>8.3792</td>\n",
       "      <td>0.752421</td>\n",
       "      <td>0.165695</td>\n",
       "      <td>0.110278</td>\n",
       "      <td>0.0</td>\n",
       "      <td>0.0</td>\n",
       "      <td>0.070138</td>\n",
       "      <td>1.70914</td>\n",
       "      <td>0.0</td>\n",
       "      <td>0.0</td>\n",
       "    </tr>\n",
       "    <tr>\n",
       "      <th>GSM6610752</th>\n",
       "      <td>0.0</td>\n",
       "      <td>0.043414</td>\n",
       "      <td>0.228735</td>\n",
       "      <td>0.0</td>\n",
       "      <td>0.0</td>\n",
       "      <td>0.447329</td>\n",
       "      <td>0.0</td>\n",
       "      <td>0.0</td>\n",
       "      <td>0.405717</td>\n",
       "      <td>0.0</td>\n",
       "      <td>...</td>\n",
       "      <td>8.78542</td>\n",
       "      <td>0.796097</td>\n",
       "      <td>0.265712</td>\n",
       "      <td>0.0</td>\n",
       "      <td>0.0</td>\n",
       "      <td>0.0</td>\n",
       "      <td>0.054193</td>\n",
       "      <td>2.7101</td>\n",
       "      <td>0.0</td>\n",
       "      <td>0.0</td>\n",
       "    </tr>\n",
       "    <tr>\n",
       "      <th>GSM6610726</th>\n",
       "      <td>0.016459</td>\n",
       "      <td>0.043835</td>\n",
       "      <td>0.284069</td>\n",
       "      <td>0.028452</td>\n",
       "      <td>0.0</td>\n",
       "      <td>1.18465</td>\n",
       "      <td>0.0</td>\n",
       "      <td>0.0</td>\n",
       "      <td>0.829571</td>\n",
       "      <td>1.58835</td>\n",
       "      <td>...</td>\n",
       "      <td>7.12422</td>\n",
       "      <td>0.715682</td>\n",
       "      <td>0.034111</td>\n",
       "      <td>0.276602</td>\n",
       "      <td>0.0</td>\n",
       "      <td>0.0</td>\n",
       "      <td>0.047538</td>\n",
       "      <td>1.66776</td>\n",
       "      <td>0.0</td>\n",
       "      <td>0.0</td>\n",
       "    </tr>\n",
       "    <tr>\n",
       "      <th>GSM6610740</th>\n",
       "      <td>0.0</td>\n",
       "      <td>0.048446</td>\n",
       "      <td>0.234701</td>\n",
       "      <td>0.0</td>\n",
       "      <td>0.0</td>\n",
       "      <td>0.203605</td>\n",
       "      <td>0.0</td>\n",
       "      <td>0.0</td>\n",
       "      <td>0.0</td>\n",
       "      <td>0.0</td>\n",
       "      <td>...</td>\n",
       "      <td>10.4558</td>\n",
       "      <td>0.692491</td>\n",
       "      <td>0.236707</td>\n",
       "      <td>0.098693</td>\n",
       "      <td>0.0</td>\n",
       "      <td>0.0</td>\n",
       "      <td>0.018135</td>\n",
       "      <td>2.69755</td>\n",
       "      <td>0.0</td>\n",
       "      <td>0.0</td>\n",
       "    </tr>\n",
       "  </tbody>\n",
       "</table>\n",
       "<p>1096 rows × 32904 columns</p>\n",
       "</div>"
      ],
      "text/plain": [
       "Symbol       Gm14820     Flicr   Gm13449    C79798      Nron   Gm13528  \\\n",
       "GSM2046160  0.047856  0.043026  0.013747       0.0  0.017114  0.184585   \n",
       "GSM2046184       0.0  0.017274  0.012649       0.0       0.0  0.225739   \n",
       "GSM2046157  0.011696  0.012144  0.029259       0.0       0.0  0.246204   \n",
       "GSM2046183  0.038796  0.035352  0.012449       0.0       0.0  0.207048   \n",
       "GSM2046155       0.0  0.025837  0.080033       0.0       0.0  0.157396   \n",
       "...              ...       ...       ...       ...       ...       ...   \n",
       "GSM6610738       0.0  0.035516  0.215311       0.0       0.0       0.0   \n",
       "GSM6610724       0.0  0.078964  0.200141       0.0       0.0  0.806385   \n",
       "GSM6610752       0.0  0.043414  0.228735       0.0       0.0  0.447329   \n",
       "GSM6610726  0.016459  0.043835  0.284069  0.028452       0.0   1.18465   \n",
       "GSM6610740       0.0  0.048446  0.234701       0.0       0.0  0.203605   \n",
       "\n",
       "Symbol     4930527E20Rik   Gm13402  AA645442  Sardhos  ... Eef1akmt4  \\\n",
       "GSM2046160           0.0       0.0       0.0  8.55776  ...   4.80793   \n",
       "GSM2046184           0.0       0.0  0.084449  4.54988  ...   4.70429   \n",
       "GSM2046157           0.0       0.0       0.0  8.24781  ...   3.84295   \n",
       "GSM2046183           0.0       0.0       0.0  8.40232  ...   4.45069   \n",
       "GSM2046155           0.0       0.0  0.619891  11.4359  ...   4.87733   \n",
       "...                  ...       ...       ...      ...  ...       ...   \n",
       "GSM6610738           0.0  0.130749  0.316231      0.0  ...   8.84043   \n",
       "GSM6610724           0.0       0.0       0.0      0.0  ...    8.3792   \n",
       "GSM6610752           0.0       0.0  0.405717      0.0  ...   8.78542   \n",
       "GSM6610726           0.0       0.0  0.829571  1.58835  ...   7.12422   \n",
       "GSM6610740           0.0       0.0       0.0      0.0  ...   10.4558   \n",
       "\n",
       "Symbol          Il33 Pgam1-ps1   Gm10517 Vmn1r-ps84  Rpsa-ps3   Gm14634  \\\n",
       "GSM2046160  0.585986   0.04335       0.0        0.0       0.0  0.029685   \n",
       "GSM2046184  0.682593  0.038878       0.0        0.0  0.017092  0.031688   \n",
       "GSM2046157  0.521939  0.045233    0.1197        0.0       0.0       0.0   \n",
       "GSM2046183  0.404564  0.017379  0.170666        0.0       0.0  0.009918   \n",
       "GSM2046155   0.36724  0.088547  0.134558        0.0       0.0  0.007446   \n",
       "...              ...       ...       ...        ...       ...       ...   \n",
       "GSM6610738  0.794336    0.3189       0.0        0.0       0.0  0.023322   \n",
       "GSM6610724  0.752421  0.165695  0.110278        0.0       0.0  0.070138   \n",
       "GSM6610752  0.796097  0.265712       0.0        0.0       0.0  0.054193   \n",
       "GSM6610726  0.715682  0.034111  0.276602        0.0       0.0  0.047538   \n",
       "GSM6610740  0.692491  0.236707  0.098693        0.0       0.0  0.018135   \n",
       "\n",
       "Symbol      Zkscan7 Agbl1    Gm8902  \n",
       "GSM2046160  2.69082   0.0       0.0  \n",
       "GSM2046184  2.20585   0.0       0.0  \n",
       "GSM2046157  2.56285   0.0  0.015267  \n",
       "GSM2046183  2.47665   0.0       0.0  \n",
       "GSM2046155  2.71046   0.0  0.011883  \n",
       "...             ...   ...       ...  \n",
       "GSM6610738  1.85593   0.0       0.0  \n",
       "GSM6610724  1.70914   0.0       0.0  \n",
       "GSM6610752   2.7101   0.0       0.0  \n",
       "GSM6610726  1.66776   0.0       0.0  \n",
       "GSM6610740  2.69755   0.0       0.0  \n",
       "\n",
       "[1096 rows x 32904 columns]"
      ]
     },
     "execution_count": 23,
     "metadata": {},
     "output_type": "execute_result"
    }
   ],
   "source": [
    "more_data = more_data.drop(zero_cols, axis=1)\n",
    "more_data"
   ]
  },
  {
   "cell_type": "code",
   "execution_count": 24,
   "metadata": {},
   "outputs": [
    {
     "data": {
      "text/plain": [
       "(Symbol\n",
       " Gm14820    -0.0\n",
       " Flicr       0.0\n",
       " Gm13449     0.0\n",
       " C79798     -0.0\n",
       " Nron       -0.0\n",
       "            ... \n",
       " Rpsa-ps3    0.0\n",
       " Gm14634    -0.0\n",
       " Zkscan7    -0.0\n",
       " Agbl1       0.0\n",
       " Gm8902     -0.0\n",
       " Length: 32904, dtype: object,\n",
       " Symbol\n",
       " Gm14820     1.0\n",
       " Flicr       1.0\n",
       " Gm13449     1.0\n",
       " C79798      1.0\n",
       " Nron        1.0\n",
       "            ... \n",
       " Rpsa-ps3    1.0\n",
       " Gm14634     1.0\n",
       " Zkscan7     1.0\n",
       " Agbl1       1.0\n",
       " Gm8902      1.0\n",
       " Length: 32904, dtype: object)"
      ]
     },
     "execution_count": 24,
     "metadata": {},
     "output_type": "execute_result"
    }
   ],
   "source": [
    "more_data = nrm_genes(more_data)\n",
    "more_data.mean(axis=0), more_data.std(axis=0)"
   ]
  },
  {
   "cell_type": "code",
   "execution_count": 25,
   "metadata": {},
   "outputs": [
    {
     "data": {
      "text/html": [
       "<div>\n",
       "<style scoped>\n",
       "    .dataframe tbody tr th:only-of-type {\n",
       "        vertical-align: middle;\n",
       "    }\n",
       "\n",
       "    .dataframe tbody tr th {\n",
       "        vertical-align: top;\n",
       "    }\n",
       "\n",
       "    .dataframe thead th {\n",
       "        text-align: right;\n",
       "    }\n",
       "</style>\n",
       "<table border=\"1\" class=\"dataframe\">\n",
       "  <thead>\n",
       "    <tr style=\"text-align: right;\">\n",
       "      <th>Symbol</th>\n",
       "      <th>Gm14820</th>\n",
       "      <th>Flicr</th>\n",
       "      <th>Gm13449</th>\n",
       "      <th>C79798</th>\n",
       "      <th>Nron</th>\n",
       "      <th>Gm13528</th>\n",
       "      <th>4930527E20Rik</th>\n",
       "      <th>Gm13402</th>\n",
       "      <th>AA645442</th>\n",
       "      <th>Sardhos</th>\n",
       "      <th>...</th>\n",
       "      <th>Il33</th>\n",
       "      <th>Pgam1-ps1</th>\n",
       "      <th>Gm10517</th>\n",
       "      <th>Vmn1r-ps84</th>\n",
       "      <th>Rpsa-ps3</th>\n",
       "      <th>Gm14634</th>\n",
       "      <th>Zkscan7</th>\n",
       "      <th>Agbl1</th>\n",
       "      <th>Gm8902</th>\n",
       "      <th>code</th>\n",
       "    </tr>\n",
       "  </thead>\n",
       "  <tbody>\n",
       "    <tr>\n",
       "      <th>GSM2046160</th>\n",
       "      <td>0.259269</td>\n",
       "      <td>-0.157117</td>\n",
       "      <td>-0.24609</td>\n",
       "      <td>-0.136791</td>\n",
       "      <td>1.989747</td>\n",
       "      <td>-0.360068</td>\n",
       "      <td>-0.058182</td>\n",
       "      <td>-0.171698</td>\n",
       "      <td>-0.470116</td>\n",
       "      <td>2.019621</td>\n",
       "      <td>...</td>\n",
       "      <td>-0.495987</td>\n",
       "      <td>0.179397</td>\n",
       "      <td>-0.319751</td>\n",
       "      <td>-0.045089</td>\n",
       "      <td>-0.227785</td>\n",
       "      <td>-0.340332</td>\n",
       "      <td>0.049125</td>\n",
       "      <td>-0.108363</td>\n",
       "      <td>-0.133167</td>\n",
       "      <td>22.0</td>\n",
       "    </tr>\n",
       "    <tr>\n",
       "      <th>GSM2046184</th>\n",
       "      <td>-0.058396</td>\n",
       "      <td>-0.269264</td>\n",
       "      <td>-0.248887</td>\n",
       "      <td>-0.136791</td>\n",
       "      <td>-0.09807</td>\n",
       "      <td>-0.307829</td>\n",
       "      <td>-0.058182</td>\n",
       "      <td>-0.171698</td>\n",
       "      <td>-0.410231</td>\n",
       "      <td>0.846156</td>\n",
       "      <td>...</td>\n",
       "      <td>-0.304115</td>\n",
       "      <td>0.118501</td>\n",
       "      <td>-0.319751</td>\n",
       "      <td>-0.045089</td>\n",
       "      <td>0.115119</td>\n",
       "      <td>-0.308742</td>\n",
       "      <td>-0.296044</td>\n",
       "      <td>-0.108363</td>\n",
       "      <td>-0.133167</td>\n",
       "      <td>22.0</td>\n",
       "    </tr>\n",
       "    <tr>\n",
       "      <th>GSM2046157</th>\n",
       "      <td>0.019232</td>\n",
       "      <td>-0.291584</td>\n",
       "      <td>-0.206713</td>\n",
       "      <td>-0.136791</td>\n",
       "      <td>-0.09807</td>\n",
       "      <td>-0.281764</td>\n",
       "      <td>-0.058182</td>\n",
       "      <td>-0.171698</td>\n",
       "      <td>-0.470116</td>\n",
       "      <td>1.928629</td>\n",
       "      <td>...</td>\n",
       "      <td>-0.623569</td>\n",
       "      <td>0.204906</td>\n",
       "      <td>0.920292</td>\n",
       "      <td>-0.045089</td>\n",
       "      <td>-0.227785</td>\n",
       "      <td>-0.810639</td>\n",
       "      <td>-0.042041</td>\n",
       "      <td>-0.108363</td>\n",
       "      <td>0.282452</td>\n",
       "      <td>10.0</td>\n",
       "    </tr>\n",
       "    <tr>\n",
       "      <th>GSM2046183</th>\n",
       "      <td>0.198919</td>\n",
       "      <td>-0.190655</td>\n",
       "      <td>-0.249412</td>\n",
       "      <td>-0.136791</td>\n",
       "      <td>-0.09807</td>\n",
       "      <td>-0.331724</td>\n",
       "      <td>-0.058182</td>\n",
       "      <td>-0.171698</td>\n",
       "      <td>-0.470116</td>\n",
       "      <td>1.972117</td>\n",
       "      <td>...</td>\n",
       "      <td>-0.857706</td>\n",
       "      <td>-0.173566</td>\n",
       "      <td>1.447035</td>\n",
       "      <td>-0.045089</td>\n",
       "      <td>-0.227785</td>\n",
       "      <td>-0.653634</td>\n",
       "      <td>-0.104544</td>\n",
       "      <td>-0.108363</td>\n",
       "      <td>-0.133167</td>\n",
       "      <td>18.0</td>\n",
       "    </tr>\n",
       "    <tr>\n",
       "      <th>GSM2046155</th>\n",
       "      <td>-0.058396</td>\n",
       "      <td>-0.231989</td>\n",
       "      <td>-0.077843</td>\n",
       "      <td>-0.136791</td>\n",
       "      <td>-0.09807</td>\n",
       "      <td>-0.394689</td>\n",
       "      <td>-0.058182</td>\n",
       "      <td>-0.171698</td>\n",
       "      <td>-0.030527</td>\n",
       "      <td>2.861126</td>\n",
       "      <td>...</td>\n",
       "      <td>-0.931528</td>\n",
       "      <td>0.792993</td>\n",
       "      <td>1.073994</td>\n",
       "      <td>-0.045089</td>\n",
       "      <td>-0.227785</td>\n",
       "      <td>-0.692702</td>\n",
       "      <td>0.062562</td>\n",
       "      <td>-0.108363</td>\n",
       "      <td>0.190277</td>\n",
       "      <td>2.0</td>\n",
       "    </tr>\n",
       "    <tr>\n",
       "      <th>...</th>\n",
       "      <td>...</td>\n",
       "      <td>...</td>\n",
       "      <td>...</td>\n",
       "      <td>...</td>\n",
       "      <td>...</td>\n",
       "      <td>...</td>\n",
       "      <td>...</td>\n",
       "      <td>...</td>\n",
       "      <td>...</td>\n",
       "      <td>...</td>\n",
       "      <td>...</td>\n",
       "      <td>...</td>\n",
       "      <td>...</td>\n",
       "      <td>...</td>\n",
       "      <td>...</td>\n",
       "      <td>...</td>\n",
       "      <td>...</td>\n",
       "      <td>...</td>\n",
       "      <td>...</td>\n",
       "      <td>...</td>\n",
       "      <td>...</td>\n",
       "    </tr>\n",
       "    <tr>\n",
       "      <th>GSM6610738</th>\n",
       "      <td>-0.058396</td>\n",
       "      <td>-0.188282</td>\n",
       "      <td>0.27111</td>\n",
       "      <td>-0.136791</td>\n",
       "      <td>-0.09807</td>\n",
       "      <td>-0.594739</td>\n",
       "      <td>-0.058182</td>\n",
       "      <td>5.690522</td>\n",
       "      <td>-0.243579</td>\n",
       "      <td>-0.485181</td>\n",
       "      <td>...</td>\n",
       "      <td>-0.065659</td>\n",
       "      <td>3.965212</td>\n",
       "      <td>-0.319751</td>\n",
       "      <td>-0.045089</td>\n",
       "      <td>-0.227785</td>\n",
       "      <td>-0.437478</td>\n",
       "      <td>-0.531234</td>\n",
       "      <td>-0.108363</td>\n",
       "      <td>-0.133167</td>\n",
       "      <td>13.5</td>\n",
       "    </tr>\n",
       "    <tr>\n",
       "      <th>GSM6610724</th>\n",
       "      <td>-0.058396</td>\n",
       "      <td>0.003074</td>\n",
       "      <td>0.232662</td>\n",
       "      <td>-0.136791</td>\n",
       "      <td>-0.09807</td>\n",
       "      <td>0.441533</td>\n",
       "      <td>-0.058182</td>\n",
       "      <td>-0.171698</td>\n",
       "      <td>-0.470116</td>\n",
       "      <td>-0.485181</td>\n",
       "      <td>...</td>\n",
       "      <td>-0.148572</td>\n",
       "      <td>1.865558</td>\n",
       "      <td>0.835159</td>\n",
       "      <td>-0.045089</td>\n",
       "      <td>-0.227785</td>\n",
       "      <td>0.312584</td>\n",
       "      <td>-0.635527</td>\n",
       "      <td>-0.108363</td>\n",
       "      <td>-0.133167</td>\n",
       "      <td>7.5</td>\n",
       "    </tr>\n",
       "    <tr>\n",
       "      <th>GSM6610752</th>\n",
       "      <td>-0.058396</td>\n",
       "      <td>-0.154137</td>\n",
       "      <td>0.303737</td>\n",
       "      <td>-0.136791</td>\n",
       "      <td>-0.09807</td>\n",
       "      <td>-0.022147</td>\n",
       "      <td>-0.058182</td>\n",
       "      <td>-0.171698</td>\n",
       "      <td>-0.180364</td>\n",
       "      <td>-0.485181</td>\n",
       "      <td>...</td>\n",
       "      <td>-0.067015</td>\n",
       "      <td>3.22443</td>\n",
       "      <td>-0.319751</td>\n",
       "      <td>-0.045089</td>\n",
       "      <td>-0.227785</td>\n",
       "      <td>0.053816</td>\n",
       "      <td>0.075979</td>\n",
       "      <td>-0.108363</td>\n",
       "      <td>-0.133167</td>\n",
       "      <td>19.5</td>\n",
       "    </tr>\n",
       "    <tr>\n",
       "      <th>GSM6610726</th>\n",
       "      <td>0.051729</td>\n",
       "      <td>-0.152073</td>\n",
       "      <td>0.446019</td>\n",
       "      <td>2.480244</td>\n",
       "      <td>-0.09807</td>\n",
       "      <td>0.92337</td>\n",
       "      <td>-0.058182</td>\n",
       "      <td>-0.171698</td>\n",
       "      <td>0.123017</td>\n",
       "      <td>-0.016574</td>\n",
       "      <td>...</td>\n",
       "      <td>-0.226513</td>\n",
       "      <td>0.057596</td>\n",
       "      <td>2.568907</td>\n",
       "      <td>-0.045089</td>\n",
       "      <td>-0.227785</td>\n",
       "      <td>-0.051476</td>\n",
       "      <td>-0.668614</td>\n",
       "      <td>-0.108363</td>\n",
       "      <td>-0.133167</td>\n",
       "      <td>7.5</td>\n",
       "    </tr>\n",
       "    <tr>\n",
       "      <th>GSM6610740</th>\n",
       "      <td>-0.058396</td>\n",
       "      <td>-0.132</td>\n",
       "      <td>0.31921</td>\n",
       "      <td>-0.136791</td>\n",
       "      <td>-0.09807</td>\n",
       "      <td>-0.334023</td>\n",
       "      <td>-0.058182</td>\n",
       "      <td>-0.171698</td>\n",
       "      <td>-0.470116</td>\n",
       "      <td>-0.485181</td>\n",
       "      <td>...</td>\n",
       "      <td>-0.274104</td>\n",
       "      <td>2.828955</td>\n",
       "      <td>0.710144</td>\n",
       "      <td>-0.045089</td>\n",
       "      <td>-0.227785</td>\n",
       "      <td>-0.521253</td>\n",
       "      <td>0.067711</td>\n",
       "      <td>-0.108363</td>\n",
       "      <td>-0.133167</td>\n",
       "      <td>13.5</td>\n",
       "    </tr>\n",
       "  </tbody>\n",
       "</table>\n",
       "<p>1096 rows × 32905 columns</p>\n",
       "</div>"
      ],
      "text/plain": [
       "Symbol       Gm14820     Flicr   Gm13449    C79798      Nron   Gm13528  \\\n",
       "GSM2046160  0.259269 -0.157117  -0.24609 -0.136791  1.989747 -0.360068   \n",
       "GSM2046184 -0.058396 -0.269264 -0.248887 -0.136791  -0.09807 -0.307829   \n",
       "GSM2046157  0.019232 -0.291584 -0.206713 -0.136791  -0.09807 -0.281764   \n",
       "GSM2046183  0.198919 -0.190655 -0.249412 -0.136791  -0.09807 -0.331724   \n",
       "GSM2046155 -0.058396 -0.231989 -0.077843 -0.136791  -0.09807 -0.394689   \n",
       "...              ...       ...       ...       ...       ...       ...   \n",
       "GSM6610738 -0.058396 -0.188282   0.27111 -0.136791  -0.09807 -0.594739   \n",
       "GSM6610724 -0.058396  0.003074  0.232662 -0.136791  -0.09807  0.441533   \n",
       "GSM6610752 -0.058396 -0.154137  0.303737 -0.136791  -0.09807 -0.022147   \n",
       "GSM6610726  0.051729 -0.152073  0.446019  2.480244  -0.09807   0.92337   \n",
       "GSM6610740 -0.058396    -0.132   0.31921 -0.136791  -0.09807 -0.334023   \n",
       "\n",
       "Symbol     4930527E20Rik   Gm13402  AA645442   Sardhos  ...      Il33  \\\n",
       "GSM2046160     -0.058182 -0.171698 -0.470116  2.019621  ... -0.495987   \n",
       "GSM2046184     -0.058182 -0.171698 -0.410231  0.846156  ... -0.304115   \n",
       "GSM2046157     -0.058182 -0.171698 -0.470116  1.928629  ... -0.623569   \n",
       "GSM2046183     -0.058182 -0.171698 -0.470116  1.972117  ... -0.857706   \n",
       "GSM2046155     -0.058182 -0.171698 -0.030527  2.861126  ... -0.931528   \n",
       "...                  ...       ...       ...       ...  ...       ...   \n",
       "GSM6610738     -0.058182  5.690522 -0.243579 -0.485181  ... -0.065659   \n",
       "GSM6610724     -0.058182 -0.171698 -0.470116 -0.485181  ... -0.148572   \n",
       "GSM6610752     -0.058182 -0.171698 -0.180364 -0.485181  ... -0.067015   \n",
       "GSM6610726     -0.058182 -0.171698  0.123017 -0.016574  ... -0.226513   \n",
       "GSM6610740     -0.058182 -0.171698 -0.470116 -0.485181  ... -0.274104   \n",
       "\n",
       "Symbol     Pgam1-ps1   Gm10517 Vmn1r-ps84  Rpsa-ps3   Gm14634   Zkscan7  \\\n",
       "GSM2046160  0.179397 -0.319751  -0.045089 -0.227785 -0.340332  0.049125   \n",
       "GSM2046184  0.118501 -0.319751  -0.045089  0.115119 -0.308742 -0.296044   \n",
       "GSM2046157  0.204906  0.920292  -0.045089 -0.227785 -0.810639 -0.042041   \n",
       "GSM2046183 -0.173566  1.447035  -0.045089 -0.227785 -0.653634 -0.104544   \n",
       "GSM2046155  0.792993  1.073994  -0.045089 -0.227785 -0.692702  0.062562   \n",
       "...              ...       ...        ...       ...       ...       ...   \n",
       "GSM6610738  3.965212 -0.319751  -0.045089 -0.227785 -0.437478 -0.531234   \n",
       "GSM6610724  1.865558  0.835159  -0.045089 -0.227785  0.312584 -0.635527   \n",
       "GSM6610752   3.22443 -0.319751  -0.045089 -0.227785  0.053816  0.075979   \n",
       "GSM6610726  0.057596  2.568907  -0.045089 -0.227785 -0.051476 -0.668614   \n",
       "GSM6610740  2.828955  0.710144  -0.045089 -0.227785 -0.521253  0.067711   \n",
       "\n",
       "Symbol         Agbl1    Gm8902  code  \n",
       "GSM2046160 -0.108363 -0.133167  22.0  \n",
       "GSM2046184 -0.108363 -0.133167  22.0  \n",
       "GSM2046157 -0.108363  0.282452  10.0  \n",
       "GSM2046183 -0.108363 -0.133167  18.0  \n",
       "GSM2046155 -0.108363  0.190277   2.0  \n",
       "...              ...       ...   ...  \n",
       "GSM6610738 -0.108363 -0.133167  13.5  \n",
       "GSM6610724 -0.108363 -0.133167   7.5  \n",
       "GSM6610752 -0.108363 -0.133167  19.5  \n",
       "GSM6610726 -0.108363 -0.133167   7.5  \n",
       "GSM6610740 -0.108363 -0.133167  13.5  \n",
       "\n",
       "[1096 rows x 32905 columns]"
      ]
     },
     "execution_count": 25,
     "metadata": {},
     "output_type": "execute_result"
    }
   ],
   "source": [
    "meta_data = pd.read_csv(path/'sample_metadata.txt', sep='\\t', index_col='sample', low_memory=False)\n",
    "more_data['code'] = meta_data['time']\n",
    "more_data"
   ]
  },
  {
   "cell_type": "markdown",
   "metadata": {},
   "source": [
    "In `more_data`, there are duplicate genes, such as '4930594M22Rik'."
   ]
  },
  {
   "cell_type": "code",
   "execution_count": 26,
   "metadata": {},
   "outputs": [
    {
     "data": {
      "text/plain": [
       "27"
      ]
     },
     "execution_count": 26,
     "metadata": {},
     "output_type": "execute_result"
    }
   ],
   "source": [
    "more_data.columns.duplicated().sum()"
   ]
  },
  {
   "cell_type": "code",
   "execution_count": 27,
   "metadata": {},
   "outputs": [],
   "source": [
    "more_data = more_data.loc[:, ~more_data.columns.duplicated(keep='first')]"
   ]
  },
  {
   "cell_type": "code",
   "execution_count": 28,
   "metadata": {},
   "outputs": [
    {
     "data": {
      "text/plain": [
       "0"
      ]
     },
     "execution_count": 28,
     "metadata": {},
     "output_type": "execute_result"
    }
   ],
   "source": [
    "more_data.columns.duplicated().sum()"
   ]
  },
  {
   "cell_type": "code",
   "execution_count": 29,
   "metadata": {
    "id": "P-UYBUz5FVKY"
   },
   "outputs": [],
   "source": [
    "bulk_genes_set = set(raw_bulk_data['ID'])\n",
    "sc_genes = set(raw_data['gene'])"
   ]
  },
  {
   "cell_type": "code",
   "execution_count": 30,
   "metadata": {},
   "outputs": [
    {
     "data": {
      "text/plain": [
       "1573"
      ]
     },
     "execution_count": 30,
     "metadata": {},
     "output_type": "execute_result"
    }
   ],
   "source": [
    "len(bulk_genes_set.intersection(sc_genes))"
   ]
  },
  {
   "cell_type": "code",
   "execution_count": 31,
   "metadata": {
    "id": "HNCl8oSXF2aS"
   },
   "outputs": [],
   "source": [
    "genes = list(bulk_genes_set.intersection(sc_genes))"
   ]
  },
  {
   "cell_type": "code",
   "execution_count": 32,
   "metadata": {
    "id": "YWfTF-tr8eZ5"
   },
   "outputs": [],
   "source": [
    "mis_genes = list(sc_genes.difference(bulk_genes_set))"
   ]
  },
  {
   "cell_type": "markdown",
   "metadata": {
    "id": "ie5t_bU2p53B"
   },
   "source": [
    "`df2` is the bulk data used for testing."
   ]
  },
  {
   "cell_type": "code",
   "execution_count": 33,
   "metadata": {
    "id": "uE8-840_HwMo"
   },
   "outputs": [],
   "source": [
    "df2 = pd.DataFrame(np.zeros((12, 6000), dtype=int), columns=data2.columns)"
   ]
  },
  {
   "cell_type": "code",
   "execution_count": 34,
   "metadata": {
    "id": "T6KAnCLFLa-b"
   },
   "outputs": [],
   "source": [
    "for gene in genes:\n",
    "    df2[gene] = bulk_data[gene].values"
   ]
  },
  {
   "cell_type": "code",
   "execution_count": 35,
   "metadata": {
    "id": "p8N3tbla8DQw"
   },
   "outputs": [],
   "source": [
    "for gene in sc_genes:\n",
    "    if gene not in bulk_genes_set:\n",
    "        df2[f'{gene}_missing'] = 1"
   ]
  },
  {
   "cell_type": "code",
   "execution_count": 36,
   "metadata": {
    "colab": {
     "base_uri": "https://localhost:8080/"
    },
    "id": "1IU2u0SzKpj5",
    "outputId": "c8b9cce7-9922-41a3-8710-3371fe6c8a9f"
   },
   "outputs": [
    {
     "name": "stderr",
     "output_type": "stream",
     "text": [
      "/tmp/ipykernel_11182/1075454734.py:1: PerformanceWarning: DataFrame is highly fragmented.  This is usually the result of calling `frame.insert` many times, which has poor performance.  Consider joining all columns at once using pd.concat(axis=1) instead. To get a de-fragmented frame, use `newframe = frame.copy()`\n",
      "  df2['code'] = bulk_data['code'].values.astype(float)\n"
     ]
    }
   ],
   "source": [
    "df2['code'] = bulk_data['code'].values.astype(float)"
   ]
  },
  {
   "cell_type": "code",
   "execution_count": 37,
   "metadata": {
    "id": "07yvHb8Qp_-c"
   },
   "outputs": [],
   "source": [
    "def make_df(dataset):\n",
    "    genes_set = set(dataset.columns[:-1])\n",
    "    genes = [gene for gene in sc_genes if gene in genes_set]\n",
    "    mis_genes = [gene for gene in sc_genes if gene not in genes_set]\n",
    "    df = pd.DataFrame(np.zeros((dataset.shape[0], 6000), dtype=int), columns=data2.columns)\n",
    "    for gene in genes:\n",
    "        df[gene] = dataset[gene].values\n",
    "    for gene in sc_genes:\n",
    "        if gene not in genes_set:\n",
    "            df[f'{gene}_missing'] = 1\n",
    "    df['code'] = dataset['code'].values.astype(float)\n",
    "    print(f'% missing: {len(mis_genes)/3000*100}%')\n",
    "    return df.fillna(0)"
   ]
  },
  {
   "cell_type": "code",
   "execution_count": 38,
   "metadata": {
    "colab": {
     "base_uri": "https://localhost:8080/"
    },
    "id": "DEL-5qUetOiE",
    "outputId": "cb74e9cc-7ebc-4c91-db02-b8b15e4b9e50"
   },
   "outputs": [
    {
     "name": "stderr",
     "output_type": "stream",
     "text": [
      "/tmp/ipykernel_11182/3986161752.py:11: PerformanceWarning: DataFrame is highly fragmented.  This is usually the result of calling `frame.insert` many times, which has poor performance.  Consider joining all columns at once using pd.concat(axis=1) instead. To get a de-fragmented frame, use `newframe = frame.copy()`\n",
      "  df['code'] = dataset['code'].values.astype(float)\n"
     ]
    },
    {
     "name": "stdout",
     "output_type": "stream",
     "text": [
      "% missing: 47.56666666666667%\n"
     ]
    },
    {
     "name": "stderr",
     "output_type": "stream",
     "text": [
      "/tmp/ipykernel_11182/3986161752.py:11: PerformanceWarning: DataFrame is highly fragmented.  This is usually the result of calling `frame.insert` many times, which has poor performance.  Consider joining all columns at once using pd.concat(axis=1) instead. To get a de-fragmented frame, use `newframe = frame.copy()`\n",
      "  df['code'] = dataset['code'].values.astype(float)\n"
     ]
    },
    {
     "name": "stdout",
     "output_type": "stream",
     "text": [
      "% missing: 47.56666666666667%\n"
     ]
    },
    {
     "name": "stderr",
     "output_type": "stream",
     "text": [
      "/tmp/ipykernel_11182/3986161752.py:11: PerformanceWarning: DataFrame is highly fragmented.  This is usually the result of calling `frame.insert` many times, which has poor performance.  Consider joining all columns at once using pd.concat(axis=1) instead. To get a de-fragmented frame, use `newframe = frame.copy()`\n",
      "  df['code'] = dataset['code'].values.astype(float)\n"
     ]
    },
    {
     "name": "stdout",
     "output_type": "stream",
     "text": [
      "% missing: 47.56666666666667%\n"
     ]
    },
    {
     "name": "stderr",
     "output_type": "stream",
     "text": [
      "/tmp/ipykernel_11182/3986161752.py:11: PerformanceWarning: DataFrame is highly fragmented.  This is usually the result of calling `frame.insert` many times, which has poor performance.  Consider joining all columns at once using pd.concat(axis=1) instead. To get a de-fragmented frame, use `newframe = frame.copy()`\n",
      "  df['code'] = dataset['code'].values.astype(float)\n",
      "/tmp/ipykernel_11182/3986161752.py:13: FutureWarning: Downcasting object dtype arrays on .fillna, .ffill, .bfill is deprecated and will change in a future version. Call result.infer_objects(copy=False) instead. To opt-in to the future behavior, set `pd.set_option('future.no_silent_downcasting', True)`\n",
      "  return df.fillna(0)\n"
     ]
    },
    {
     "name": "stdout",
     "output_type": "stream",
     "text": [
      "% missing: 2.0666666666666664%\n"
     ]
    }
   ],
   "source": [
    "nascent_df = make_df(nascent)\n",
    "gro_df = make_df(gro)\n",
    "rna_df = make_df(bulk_data)\n",
    "more_df = make_df(more_data)"
   ]
  },
  {
   "cell_type": "code",
   "execution_count": 39,
   "metadata": {},
   "outputs": [
    {
     "data": {
      "text/plain": [
       "Meg3                    -2.843593e-17\n",
       "Slc1a2                  -1.137437e-16\n",
       "Rian                    -7.108982e-18\n",
       "Cyp2c40                 -1.386251e-16\n",
       "Cyp2c69                  6.042635e-17\n",
       "                             ...     \n",
       "Sept8_missing            0.000000e+00\n",
       "Cfap52_missing           0.000000e+00\n",
       "Arhgap27_missing         0.000000e+00\n",
       "F730043M19Rik_missing    0.000000e+00\n",
       "Bora_missing             0.000000e+00\n",
       "Length: 6000, dtype: float64"
      ]
     },
     "execution_count": 39,
     "metadata": {},
     "output_type": "execute_result"
    }
   ],
   "source": [
    "df.iloc[:,:-2].mean(axis=0)"
   ]
  },
  {
   "cell_type": "code",
   "execution_count": 40,
   "metadata": {},
   "outputs": [
    {
     "data": {
      "text/plain": [
       "Meg3                     1.0\n",
       "Slc1a2                   1.0\n",
       "Rian                     1.0\n",
       "Cyp2c40                  1.0\n",
       "Cyp2c69                  1.0\n",
       "                        ... \n",
       "Sept8_missing            0.0\n",
       "Cfap52_missing           0.0\n",
       "Arhgap27_missing         0.0\n",
       "F730043M19Rik_missing    0.0\n",
       "Bora_missing             0.0\n",
       "Length: 6000, dtype: float64"
      ]
     },
     "execution_count": 40,
     "metadata": {},
     "output_type": "execute_result"
    }
   ],
   "source": [
    "df.iloc[:,:-2].std(axis=0)"
   ]
  },
  {
   "cell_type": "code",
   "execution_count": 41,
   "metadata": {},
   "outputs": [
    {
     "data": {
      "text/plain": [
       "Meg3                     5.964410e-16\n",
       "Slc1a2                   2.363073e-15\n",
       "Rian                    -5.186443e-17\n",
       "Cyp2c40                 -1.555933e-16\n",
       "Cyp2c69                  4.149155e-16\n",
       "                             ...     \n",
       "Cfap52_missing           0.000000e+00\n",
       "Arhgap27_missing         0.000000e+00\n",
       "F730043M19Rik_missing    0.000000e+00\n",
       "Bora_missing             0.000000e+00\n",
       "code                     1.359398e+01\n",
       "Length: 6001, dtype: float64"
      ]
     },
     "execution_count": 41,
     "metadata": {},
     "output_type": "execute_result"
    }
   ],
   "source": [
    "more_df.mean(axis=0)"
   ]
  },
  {
   "cell_type": "code",
   "execution_count": 42,
   "metadata": {},
   "outputs": [
    {
     "data": {
      "text/plain": [
       "Meg3                     0.000000e+00\n",
       "Slc1a2                  -1.295260e-16\n",
       "Rian                     0.000000e+00\n",
       "Cyp2c40                  0.000000e+00\n",
       "Cyp2c69                  0.000000e+00\n",
       "                             ...     \n",
       "Sept8_missing            1.000000e+00\n",
       "Cfap52_missing           1.000000e+00\n",
       "Arhgap27_missing         0.000000e+00\n",
       "F730043M19Rik_missing    1.000000e+00\n",
       "Bora_missing             1.000000e+00\n",
       "Length: 6000, dtype: float64"
      ]
     },
     "execution_count": 42,
     "metadata": {},
     "output_type": "execute_result"
    }
   ],
   "source": [
    "nascent_df.iloc[:,:-1].mean(axis=0)"
   ]
  },
  {
   "cell_type": "markdown",
   "metadata": {
    "id": "95SE_jm6m01h"
   },
   "source": [
    "## Using Pytorch"
   ]
  },
  {
   "cell_type": "code",
   "execution_count": 43,
   "metadata": {
    "id": "N5t4EYXDK05y"
   },
   "outputs": [
    {
     "name": "stderr",
     "output_type": "stream",
     "text": [
      "/tmp/ipykernel_11182/3413784403.py:1: FutureWarning: Series.__getitem__ treating keys as positions is deprecated. In a future version, integer keys will always be treated as labels (consistent with DataFrame behavior). To access a value by position, use `ser.iloc[pos]`\n",
      "  t_dep = tensor(df['code'], dtype=torch.float)\n"
     ]
    }
   ],
   "source": [
    "t_dep = tensor(df['code'], dtype=torch.float)\n",
    "indep_cols = list(df.columns)[:-2]\n",
    "t_indep = tensor(df[indep_cols].values, dtype=torch.float32)"
   ]
  },
  {
   "cell_type": "code",
   "execution_count": 44,
   "metadata": {
    "id": "bsmF6bLfKPAn"
   },
   "outputs": [],
   "source": [
    "# from fastai.data.transforms import RandomSplitter\n",
    "def RandomSplitter(valid_pct=0.2, seed=None):\n",
    "    \"Create function that splits `items` between train/val with `valid_pct` randomly.\"\n",
    "    def _inner(o):\n",
    "        if seed is not None: torch.manual_seed(seed)\n",
    "        rand_idx = list(torch.randperm(len(o)).numpy())\n",
    "        cut = int(valid_pct * len(o))\n",
    "        return rand_idx[cut:],rand_idx[:cut]\n",
    "    return _inner\n",
    "trn_split,val_split=RandomSplitter(seed=42)(df)"
   ]
  },
  {
   "cell_type": "code",
   "execution_count": 45,
   "metadata": {
    "id": "sIObZzNvYVZC"
   },
   "outputs": [],
   "source": [
    "trn_indep,val_indep = t_indep[trn_split],t_indep[val_split]\n",
    "trn_dep,val_dep = t_dep[trn_split],t_dep[val_split]"
   ]
  },
  {
   "cell_type": "code",
   "execution_count": 46,
   "metadata": {
    "colab": {
     "base_uri": "https://localhost:8080/"
    },
    "id": "bqjmQJSHOCKe",
    "outputId": "d2d3518a-57c3-4c53-9d9a-f6b1459e0438"
   },
   "outputs": [
    {
     "data": {
      "text/plain": [
       "(torch.Size([12794, 1]), torch.Size([3198, 1]))"
      ]
     },
     "execution_count": 46,
     "metadata": {},
     "output_type": "execute_result"
    }
   ],
   "source": [
    "trn_dep.unsqueeze_(-1), val_dep.unsqueeze_(-1)\n",
    "trn_dep.shape, val_dep.shape"
   ]
  },
  {
   "cell_type": "markdown",
   "metadata": {
    "id": "VYYI0yuJm7vE"
   },
   "source": [
    "### DataLoaders"
   ]
  },
  {
   "cell_type": "markdown",
   "metadata": {
    "id": "LsTRYzzIs3QC"
   },
   "source": [
    "Pretty much the same as the previous approach with bulk data as the test data."
   ]
  },
  {
   "cell_type": "code",
   "execution_count": 47,
   "metadata": {
    "colab": {
     "base_uri": "https://localhost:8080/"
    },
    "id": "3gUxwJiFarno",
    "outputId": "b4541701-6778-4ef4-9327-713926137e49"
   },
   "outputs": [
    {
     "data": {
      "text/plain": [
       "(torch.Size([128, 6000]), torch.Size([128, 1]))"
      ]
     },
     "execution_count": 47,
     "metadata": {},
     "output_type": "execute_result"
    }
   ],
   "source": [
    "bs = 128\n",
    "n_workers = 2\n",
    "\n",
    "trn_dl = DataLoader(list(zip(trn_indep, trn_dep)), batch_size=bs, shuffle=True, num_workers=n_workers)\n",
    "val_dl = DataLoader(list(zip(val_indep, val_dep)), batch_size=bs, shuffle=False, num_workers=n_workers)\n",
    "dls = DataLoaders(trn_dl, val_dl)\n",
    "dt = dls.train\n",
    "xb, yb = next(iter(dt))\n",
    "xb.shape, yb.shape"
   ]
  },
  {
   "cell_type": "code",
   "execution_count": 48,
   "metadata": {
    "id": "TIp5zpV3xzNK"
   },
   "outputs": [],
   "source": [
    "def make_dl(df):\n",
    "    tst_dep = tensor(df['code'], dtype=torch.float)\n",
    "    tst_indep_cols = list(df.columns)[:-1]\n",
    "    tst_indep = tensor(df[tst_indep_cols].values, dtype=torch.float32)\n",
    "    tst_dep.unsqueeze_(-1)\n",
    "    return DataLoader(list(zip(tst_indep, tst_dep)), shuffle=False, num_workers=n_workers)"
   ]
  },
  {
   "cell_type": "code",
   "execution_count": 49,
   "metadata": {
    "id": "CsRKnBzGxP6K"
   },
   "outputs": [],
   "source": [
    "nascent_dl = make_dl(nascent_df)\n",
    "gro_dl = make_dl(gro_df)\n",
    "rna_dl = make_dl(rna_df)\n",
    "more_dl = make_dl(more_df)\n",
    "tst_dls = {'nascent':nascent_dl, 'gro':gro_dl, 'rna':rna_dl, 'more': more_dl}"
   ]
  },
  {
   "cell_type": "markdown",
   "metadata": {
    "id": "YGGPT3pygOsQ"
   },
   "source": [
    "Changing the metric to R2Score."
   ]
  },
  {
   "cell_type": "code",
   "execution_count": 50,
   "metadata": {
    "id": "FxAJhiYGcNyK"
   },
   "outputs": [],
   "source": [
    "from torcheval.metrics import R2Score\n",
    "metrics = MetricsCB(TimeR2Score=TimeR2Score())\n",
    "metric_fn = TimeR2Score\n",
    "# metrics = MetricsCB(R2Score=R2Score())\n",
    "cbs = [DeviceCB(), metrics, ProgressCB(plot=True)]"
   ]
  },
  {
   "cell_type": "markdown",
   "metadata": {
    "id": "B824FVJajS4b"
   },
   "source": [
    "## Training"
   ]
  },
  {
   "cell_type": "code",
   "execution_count": 51,
   "metadata": {
    "id": "r89TZI6CBbHT"
   },
   "outputs": [],
   "source": [
    "def get_model():\n",
    "    return nn.Sequential(*[nn.Linear(len(indep_cols), 100), nn.ReLU(), nn.Linear(100, 100), nn.ReLU(), nn.Linear(100, 1), nn.Flatten(), TimeLayer()])"
   ]
  },
  {
   "cell_type": "markdown",
   "metadata": {
    "id": "KZqZlJ5tutmI"
   },
   "source": [
    "Change the shape of the inputs to match the shape of targets."
   ]
  },
  {
   "cell_type": "code",
   "execution_count": 52,
   "metadata": {
    "colab": {
     "base_uri": "https://localhost:8080/"
    },
    "id": "i48wcPLEuL8f",
    "outputId": "7871903a-3457-45f2-8241-ba9e8b09ee57"
   },
   "outputs": [
    {
     "data": {
      "text/plain": [
       "torch.Size([128, 1])"
      ]
     },
     "execution_count": 52,
     "metadata": {},
     "output_type": "execute_result"
    }
   ],
   "source": [
    "nn.Linear(len(indep_cols), 1)(xb).shape"
   ]
  },
  {
   "cell_type": "code",
   "execution_count": 53,
   "metadata": {
    "colab": {
     "base_uri": "https://localhost:8080/"
    },
    "id": "ejQXo2QNk754",
    "outputId": "9b3cb4bb-dfdd-4d81-bd95-3852d965bf22"
   },
   "outputs": [
    {
     "data": {
      "text/plain": [
       "torch.Size([128, 1])"
      ]
     },
     "execution_count": 53,
     "metadata": {},
     "output_type": "execute_result"
    }
   ],
   "source": [
    "get_model()(xb).shape"
   ]
  },
  {
   "cell_type": "code",
   "execution_count": 54,
   "metadata": {
    "colab": {
     "base_uri": "https://localhost:8080/",
     "height": 479
    },
    "id": "PWHkyOFvCiBR",
    "outputId": "0a2d6e68-00fd-4470-c4a4-190912a009d4"
   },
   "outputs": [
    {
     "data": {
      "text/html": [
       "\n",
       "<style>\n",
       "    /* Turns off some styling */\n",
       "    progress {\n",
       "        /* gets rid of default border in Firefox and Opera. */\n",
       "        border: none;\n",
       "        /* Needs to be in here for Safari polyfill so background images work as expected. */\n",
       "        background-size: auto;\n",
       "    }\n",
       "    progress:not([value]), progress:not([value])::-webkit-progress-bar {\n",
       "        background: repeating-linear-gradient(45deg, #7e7e7e, #7e7e7e 10px, #5c5c5c 10px, #5c5c5c 20px);\n",
       "    }\n",
       "    .progress-bar-interrupted, .progress-bar-interrupted::-webkit-progress-bar {\n",
       "        background: #F44336;\n",
       "    }\n",
       "</style>\n"
      ],
      "text/plain": [
       "<IPython.core.display.HTML object>"
      ]
     },
     "metadata": {},
     "output_type": "display_data"
    },
    {
     "data": {
      "text/html": [
       "\n",
       "    <div>\n",
       "      <progress value='0' class='' max='10' style='width:300px; height:20px; vertical-align: middle;'></progress>\n",
       "      0.00% [0/10 00:00&lt;?]\n",
       "    </div>\n",
       "    \n",
       "\n",
       "\n",
       "    <div>\n",
       "      <progress value='27' class='' max='100' style='width:300px; height:20px; vertical-align: middle;'></progress>\n",
       "      27.00% [27/100 00:00&lt;00:02 9.019]\n",
       "    </div>\n",
       "    "
      ],
      "text/plain": [
       "<IPython.core.display.HTML object>"
      ]
     },
     "metadata": {},
     "output_type": "display_data"
    },
    {
     "data": {
      "image/png": "[encoded data removed]",
      "text/plain": [
       "<Figure size 640x480 with 1 Axes>"
      ]
     },
     "metadata": {},
     "output_type": "display_data"
    }
   ],
   "source": [
    "TrainLearner(get_model(), dls, loss_func=loss_func, cbs=cbs).lr_find()"
   ]
  },
  {
   "cell_type": "code",
   "execution_count": 55,
   "metadata": {
    "colab": {
     "base_uri": "https://localhost:8080/",
     "height": 529
    },
    "id": "fbNcKGZdExG7",
    "outputId": "c4b13488-2eee-46ad-b5fa-cc6108b8b158"
   },
   "outputs": [
    {
     "data": {
      "text/html": [
       "\n",
       "<style>\n",
       "    /* Turns off some styling */\n",
       "    progress {\n",
       "        /* gets rid of default border in Firefox and Opera. */\n",
       "        border: none;\n",
       "        /* Needs to be in here for Safari polyfill so background images work as expected. */\n",
       "        background-size: auto;\n",
       "    }\n",
       "    progress:not([value]), progress:not([value])::-webkit-progress-bar {\n",
       "        background: repeating-linear-gradient(45deg, #7e7e7e, #7e7e7e 10px, #5c5c5c 10px, #5c5c5c 20px);\n",
       "    }\n",
       "    .progress-bar-interrupted, .progress-bar-interrupted::-webkit-progress-bar {\n",
       "        background: #F44336;\n",
       "    }\n",
       "</style>\n"
      ],
      "text/plain": [
       "<IPython.core.display.HTML object>"
      ]
     },
     "metadata": {},
     "output_type": "display_data"
    },
    {
     "data": {
      "text/html": [
       "<table border=\"1\" class=\"dataframe\">\n",
       "  <thead>\n",
       "    <tr style=\"text-align: left;\">\n",
       "      <th>TimeR2Score</th>\n",
       "      <th>loss</th>\n",
       "      <th>epoch</th>\n",
       "      <th>train</th>\n",
       "      <th>time</th>\n",
       "    </tr>\n",
       "  </thead>\n",
       "  <tbody>\n",
       "    <tr>\n",
       "      <td>0.835</td>\n",
       "      <td>7.769</td>\n",
       "      <td>0</td>\n",
       "      <td>True</td>\n",
       "      <td>00:02</td>\n",
       "    </tr>\n",
       "    <tr>\n",
       "      <td>0.966</td>\n",
       "      <td>1.583</td>\n",
       "      <td>0</td>\n",
       "      <td>False</td>\n",
       "      <td>00:00</td>\n",
       "    </tr>\n",
       "    <tr>\n",
       "      <td>0.981</td>\n",
       "      <td>0.887</td>\n",
       "      <td>1</td>\n",
       "      <td>True</td>\n",
       "      <td>00:02</td>\n",
       "    </tr>\n",
       "    <tr>\n",
       "      <td>0.971</td>\n",
       "      <td>1.343</td>\n",
       "      <td>1</td>\n",
       "      <td>False</td>\n",
       "      <td>00:00</td>\n",
       "    </tr>\n",
       "  </tbody>\n",
       "</table>"
      ],
      "text/plain": [
       "<IPython.core.display.HTML object>"
      ]
     },
     "metadata": {},
     "output_type": "display_data"
    },
    {
     "data": {
      "image/png": "[encoded data removed]",
      "text/plain": [
       "<Figure size 600x400 with 1 Axes>"
      ]
     },
     "metadata": {},
     "output_type": "display_data"
    }
   ],
   "source": [
    "lr, epochs = 1e-3, 2\n",
    "xtra = [get_sched(epochs, lr, dls)]\n",
    "learn = TrainLearner(get_model(), dls, lr=lr, loss_func=loss_func, cbs=cbs)\n",
    "learn.fit(epochs)"
   ]
  },
  {
   "cell_type": "markdown",
   "metadata": {
    "id": "U0kFoFqlIcrJ"
   },
   "source": [
    "## Ensemble"
   ]
  },
  {
   "cell_type": "code",
   "execution_count": 56,
   "metadata": {
    "id": "UOVm1kqh-AqM"
   },
   "outputs": [],
   "source": [
    "from functools import partial"
   ]
  },
  {
   "cell_type": "code",
   "execution_count": 57,
   "metadata": {
    "id": "zEmA9aStCEq6"
   },
   "outputs": [],
   "source": [
    "class CapturePreds(Callback):\n",
    "    def before_fit(self, learn): self.all_input, self.all_preds, self.all_targs = [], [], []\n",
    "\n",
    "    def after_batch(self, learn):\n",
    "        self.all_input.append(to_cpu(learn.batch[0]))\n",
    "        self.all_preds.append(to_cpu(learn.preds))\n",
    "        self.all_targs.append(to_cpu(learn.batch[1]))\n",
    "\n",
    "    def after_fit(self, learn):\n",
    "        self.all_input, self.all_preds, self.all_targs = map(torch.cat, [self.all_input, self.all_preds, self.all_targs])"
   ]
  },
  {
   "cell_type": "code",
   "execution_count": 70,
   "metadata": {
    "id": "Oc4A-pyPBbHl"
   },
   "outputs": [],
   "source": [
    "def ensemble_model(nlearn, get_model = get_model, tst_dls=tst_dls, epochs=5, lr=.03, loss_func=loss_func, cbs=cbs, opt_func=optim.SGD, metric_fn=metric_fn):\n",
    "    learners = [TrainLearner(get_model(), dls, lr=lr, loss_func=loss_func, cbs=cbs, opt_func=opt_func) for _ in range(nlearn)]\n",
    "    print('Training models')\n",
    "    for learn in learners:\n",
    "        learn.fit(epochs)\n",
    "    cps = [CapturePreds() for _ in range(nlearn)]\n",
    "    preds = {}\n",
    "    print('Making inference on test data')\n",
    "    for dl_name, tst_dl in tst_dls.items():\n",
    "        for learn, cp in zip(learners, cps):\n",
    "            learn.dls = DataLoaders((), tst_dl)\n",
    "            learn.fit(1, train=False, cbs=cp)\n",
    "        ap = torch.stack([cp.all_preds for cp in cps]).mean(0)\n",
    "        metric = metric_fn()\n",
    "        metric.update(ap, cps[0].all_targs)\n",
    "        print(f'Inference on {dl_name}')\n",
    "        print('\\t\\tpreds, targs')\n",
    "        print(torch.concat([ap, cps[0].all_targs], dim=1))\n",
    "        preds[dl_name] = torch.concat([ap, cps[0].all_targs], dim=1)  # Saving predictions\n",
    "        print('result: ', metric.compute())\n",
    "    return preds"
   ]
  },
  {
   "cell_type": "code",
   "execution_count": 71,
   "metadata": {
    "id": "kTzem5OXBbHn"
   },
   "outputs": [],
   "source": [
    "nlearn = 2"
   ]
  },
  {
   "cell_type": "code",
   "execution_count": 72,
   "metadata": {
    "colab": {
     "base_uri": "https://localhost:8080/",
     "height": 1000
    },
    "id": "Il-N-2kXBbHo",
    "outputId": "5550b676-ed6b-4942-88f0-dde546e72802",
    "scrolled": false
   },
   "outputs": [
    {
     "name": "stdout",
     "output_type": "stream",
     "text": [
      "Training models\n"
     ]
    },
    {
     "data": {
      "text/html": [
       "\n",
       "<style>\n",
       "    /* Turns off some styling */\n",
       "    progress {\n",
       "        /* gets rid of default border in Firefox and Opera. */\n",
       "        border: none;\n",
       "        /* Needs to be in here for Safari polyfill so background images work as expected. */\n",
       "        background-size: auto;\n",
       "    }\n",
       "    progress:not([value]), progress:not([value])::-webkit-progress-bar {\n",
       "        background: repeating-linear-gradient(45deg, #7e7e7e, #7e7e7e 10px, #5c5c5c 10px, #5c5c5c 20px);\n",
       "    }\n",
       "    .progress-bar-interrupted, .progress-bar-interrupted::-webkit-progress-bar {\n",
       "        background: #F44336;\n",
       "    }\n",
       "</style>\n"
      ],
      "text/plain": [
       "<IPython.core.display.HTML object>"
      ]
     },
     "metadata": {},
     "output_type": "display_data"
    },
    {
     "data": {
      "text/html": [
       "<table border=\"1\" class=\"dataframe\">\n",
       "  <thead>\n",
       "    <tr style=\"text-align: left;\">\n",
       "      <th>TimeR2Score</th>\n",
       "      <th>loss</th>\n",
       "      <th>epoch</th>\n",
       "      <th>train</th>\n",
       "      <th>time</th>\n",
       "    </tr>\n",
       "  </thead>\n",
       "  <tbody>\n",
       "    <tr>\n",
       "      <td>0.759</td>\n",
       "      <td>11.938</td>\n",
       "      <td>0</td>\n",
       "      <td>True</td>\n",
       "      <td>00:02</td>\n",
       "    </tr>\n",
       "    <tr>\n",
       "      <td>0.929</td>\n",
       "      <td>3.327</td>\n",
       "      <td>0</td>\n",
       "      <td>False</td>\n",
       "      <td>00:00</td>\n",
       "    </tr>\n",
       "    <tr>\n",
       "      <td>0.916</td>\n",
       "      <td>3.957</td>\n",
       "      <td>1</td>\n",
       "      <td>True</td>\n",
       "      <td>00:02</td>\n",
       "    </tr>\n",
       "    <tr>\n",
       "      <td>0.948</td>\n",
       "      <td>2.438</td>\n",
       "      <td>1</td>\n",
       "      <td>False</td>\n",
       "      <td>00:01</td>\n",
       "    </tr>\n",
       "  </tbody>\n",
       "</table>"
      ],
      "text/plain": [
       "<IPython.core.display.HTML object>"
      ]
     },
     "metadata": {},
     "output_type": "display_data"
    },
    {
     "data": {
      "image/png": "[encoded data removed]",
      "text/plain": [
       "<Figure size 600x400 with 1 Axes>"
      ]
     },
     "metadata": {},
     "output_type": "display_data"
    },
    {
     "data": {
      "text/html": [
       "\n",
       "<style>\n",
       "    /* Turns off some styling */\n",
       "    progress {\n",
       "        /* gets rid of default border in Firefox and Opera. */\n",
       "        border: none;\n",
       "        /* Needs to be in here for Safari polyfill so background images work as expected. */\n",
       "        background-size: auto;\n",
       "    }\n",
       "    progress:not([value]), progress:not([value])::-webkit-progress-bar {\n",
       "        background: repeating-linear-gradient(45deg, #7e7e7e, #7e7e7e 10px, #5c5c5c 10px, #5c5c5c 20px);\n",
       "    }\n",
       "    .progress-bar-interrupted, .progress-bar-interrupted::-webkit-progress-bar {\n",
       "        background: #F44336;\n",
       "    }\n",
       "</style>\n"
      ],
      "text/plain": [
       "<IPython.core.display.HTML object>"
      ]
     },
     "metadata": {},
     "output_type": "display_data"
    },
    {
     "data": {
      "text/html": [
       "<table border=\"1\" class=\"dataframe\">\n",
       "  <thead>\n",
       "    <tr style=\"text-align: left;\">\n",
       "      <th>TimeR2Score</th>\n",
       "      <th>loss</th>\n",
       "      <th>epoch</th>\n",
       "      <th>train</th>\n",
       "      <th>time</th>\n",
       "    </tr>\n",
       "  </thead>\n",
       "  <tbody>\n",
       "    <tr>\n",
       "      <td>0.770</td>\n",
       "      <td>11.438</td>\n",
       "      <td>0</td>\n",
       "      <td>True</td>\n",
       "      <td>00:03</td>\n",
       "    </tr>\n",
       "    <tr>\n",
       "      <td>0.930</td>\n",
       "      <td>3.267</td>\n",
       "      <td>0</td>\n",
       "      <td>False</td>\n",
       "      <td>00:01</td>\n",
       "    </tr>\n",
       "    <tr>\n",
       "      <td>0.916</td>\n",
       "      <td>3.962</td>\n",
       "      <td>1</td>\n",
       "      <td>True</td>\n",
       "      <td>00:02</td>\n",
       "    </tr>\n",
       "    <tr>\n",
       "      <td>0.949</td>\n",
       "      <td>2.361</td>\n",
       "      <td>1</td>\n",
       "      <td>False</td>\n",
       "      <td>00:00</td>\n",
       "    </tr>\n",
       "  </tbody>\n",
       "</table>"
      ],
      "text/plain": [
       "<IPython.core.display.HTML object>"
      ]
     },
     "metadata": {},
     "output_type": "display_data"
    },
    {
     "data": {
      "image/png": "[encoded data removed]",
      "text/plain": [
       "<Figure size 600x400 with 1 Axes>"
      ]
     },
     "metadata": {},
     "output_type": "display_data"
    },
    {
     "name": "stdout",
     "output_type": "stream",
     "text": [
      "Making inference on test data\n"
     ]
    },
    {
     "data": {
      "text/html": [
       "\n",
       "<style>\n",
       "    /* Turns off some styling */\n",
       "    progress {\n",
       "        /* gets rid of default border in Firefox and Opera. */\n",
       "        border: none;\n",
       "        /* Needs to be in here for Safari polyfill so background images work as expected. */\n",
       "        background-size: auto;\n",
       "    }\n",
       "    progress:not([value]), progress:not([value])::-webkit-progress-bar {\n",
       "        background: repeating-linear-gradient(45deg, #7e7e7e, #7e7e7e 10px, #5c5c5c 10px, #5c5c5c 20px);\n",
       "    }\n",
       "    .progress-bar-interrupted, .progress-bar-interrupted::-webkit-progress-bar {\n",
       "        background: #F44336;\n",
       "    }\n",
       "</style>\n"
      ],
      "text/plain": [
       "<IPython.core.display.HTML object>"
      ]
     },
     "metadata": {},
     "output_type": "display_data"
    },
    {
     "data": {
      "text/html": [
       "<table border=\"1\" class=\"dataframe\">\n",
       "  <thead>\n",
       "    <tr style=\"text-align: left;\">\n",
       "      <th>TimeR2Score</th>\n",
       "      <th>loss</th>\n",
       "      <th>epoch</th>\n",
       "      <th>train</th>\n",
       "      <th>time</th>\n",
       "    </tr>\n",
       "  </thead>\n",
       "  <tbody>\n",
       "    <tr>\n",
       "      <td>0.655</td>\n",
       "      <td>16.122</td>\n",
       "      <td>0</td>\n",
       "      <td>False</td>\n",
       "      <td>00:00</td>\n",
       "    </tr>\n",
       "  </tbody>\n",
       "</table>"
      ],
      "text/plain": [
       "<IPython.core.display.HTML object>"
      ]
     },
     "metadata": {},
     "output_type": "display_data"
    },
    {
     "data": {
      "text/html": [
       "\n",
       "<style>\n",
       "    /* Turns off some styling */\n",
       "    progress {\n",
       "        /* gets rid of default border in Firefox and Opera. */\n",
       "        border: none;\n",
       "        /* Needs to be in here for Safari polyfill so background images work as expected. */\n",
       "        background-size: auto;\n",
       "    }\n",
       "    progress:not([value]), progress:not([value])::-webkit-progress-bar {\n",
       "        background: repeating-linear-gradient(45deg, #7e7e7e, #7e7e7e 10px, #5c5c5c 10px, #5c5c5c 20px);\n",
       "    }\n",
       "    .progress-bar-interrupted, .progress-bar-interrupted::-webkit-progress-bar {\n",
       "        background: #F44336;\n",
       "    }\n",
       "</style>\n"
      ],
      "text/plain": [
       "<IPython.core.display.HTML object>"
      ]
     },
     "metadata": {},
     "output_type": "display_data"
    },
    {
     "data": {
      "text/html": [
       "<table border=\"1\" class=\"dataframe\">\n",
       "  <thead>\n",
       "    <tr style=\"text-align: left;\">\n",
       "      <th>TimeR2Score</th>\n",
       "      <th>loss</th>\n",
       "      <th>epoch</th>\n",
       "      <th>train</th>\n",
       "      <th>time</th>\n",
       "    </tr>\n",
       "  </thead>\n",
       "  <tbody>\n",
       "    <tr>\n",
       "      <td>0.489</td>\n",
       "      <td>27.576</td>\n",
       "      <td>0</td>\n",
       "      <td>False</td>\n",
       "      <td>00:00</td>\n",
       "    </tr>\n",
       "  </tbody>\n",
       "</table>"
      ],
      "text/plain": [
       "<IPython.core.display.HTML object>"
      ]
     },
     "metadata": {},
     "output_type": "display_data"
    },
    {
     "name": "stdout",
     "output_type": "stream",
     "text": [
      "Inference on nascent\n",
      "\t\tpreds, targs\n",
      "tensor([[ 7.2109,  0.0000],\n",
      "        [ 7.1579,  4.0000],\n",
      "        [10.1418,  8.0000],\n",
      "        [11.6959, 12.0000],\n",
      "        [12.6772, 16.0000],\n",
      "        [19.4868, 20.0000],\n",
      "        [11.3649,  0.0000],\n",
      "        [ 4.1661,  4.0000],\n",
      "        [12.2663,  8.0000],\n",
      "        [10.9881, 12.0000],\n",
      "        [20.7932, 16.0000],\n",
      "        [21.7588, 20.0000]])\n",
      "result:  tensor(0.5492)\n"
     ]
    },
    {
     "data": {
      "text/html": [
       "\n",
       "<style>\n",
       "    /* Turns off some styling */\n",
       "    progress {\n",
       "        /* gets rid of default border in Firefox and Opera. */\n",
       "        border: none;\n",
       "        /* Needs to be in here for Safari polyfill so background images work as expected. */\n",
       "        background-size: auto;\n",
       "    }\n",
       "    progress:not([value]), progress:not([value])::-webkit-progress-bar {\n",
       "        background: repeating-linear-gradient(45deg, #7e7e7e, #7e7e7e 10px, #5c5c5c 10px, #5c5c5c 20px);\n",
       "    }\n",
       "    .progress-bar-interrupted, .progress-bar-interrupted::-webkit-progress-bar {\n",
       "        background: #F44336;\n",
       "    }\n",
       "</style>\n"
      ],
      "text/plain": [
       "<IPython.core.display.HTML object>"
      ]
     },
     "metadata": {},
     "output_type": "display_data"
    },
    {
     "data": {
      "text/html": [
       "<table border=\"1\" class=\"dataframe\">\n",
       "  <thead>\n",
       "    <tr style=\"text-align: left;\">\n",
       "      <th>TimeR2Score</th>\n",
       "      <th>loss</th>\n",
       "      <th>epoch</th>\n",
       "      <th>train</th>\n",
       "      <th>time</th>\n",
       "    </tr>\n",
       "  </thead>\n",
       "  <tbody>\n",
       "    <tr>\n",
       "      <td>0.746</td>\n",
       "      <td>28.910</td>\n",
       "      <td>0</td>\n",
       "      <td>False</td>\n",
       "      <td>00:00</td>\n",
       "    </tr>\n",
       "  </tbody>\n",
       "</table>"
      ],
      "text/plain": [
       "<IPython.core.display.HTML object>"
      ]
     },
     "metadata": {},
     "output_type": "display_data"
    },
    {
     "data": {
      "text/html": [
       "\n",
       "<style>\n",
       "    /* Turns off some styling */\n",
       "    progress {\n",
       "        /* gets rid of default border in Firefox and Opera. */\n",
       "        border: none;\n",
       "        /* Needs to be in here for Safari polyfill so background images work as expected. */\n",
       "        background-size: auto;\n",
       "    }\n",
       "    progress:not([value]), progress:not([value])::-webkit-progress-bar {\n",
       "        background: repeating-linear-gradient(45deg, #7e7e7e, #7e7e7e 10px, #5c5c5c 10px, #5c5c5c 20px);\n",
       "    }\n",
       "    .progress-bar-interrupted, .progress-bar-interrupted::-webkit-progress-bar {\n",
       "        background: #F44336;\n",
       "    }\n",
       "</style>\n"
      ],
      "text/plain": [
       "<IPython.core.display.HTML object>"
      ]
     },
     "metadata": {},
     "output_type": "display_data"
    },
    {
     "data": {
      "text/html": [
       "<table border=\"1\" class=\"dataframe\">\n",
       "  <thead>\n",
       "    <tr style=\"text-align: left;\">\n",
       "      <th>TimeR2Score</th>\n",
       "      <th>loss</th>\n",
       "      <th>epoch</th>\n",
       "      <th>train</th>\n",
       "      <th>time</th>\n",
       "    </tr>\n",
       "  </thead>\n",
       "  <tbody>\n",
       "    <tr>\n",
       "      <td>0.829</td>\n",
       "      <td>40.291</td>\n",
       "      <td>0</td>\n",
       "      <td>False</td>\n",
       "      <td>00:00</td>\n",
       "    </tr>\n",
       "  </tbody>\n",
       "</table>"
      ],
      "text/plain": [
       "<IPython.core.display.HTML object>"
      ]
     },
     "metadata": {},
     "output_type": "display_data"
    },
    {
     "name": "stdout",
     "output_type": "stream",
     "text": [
      "Inference on gro\n",
      "\t\tpreds, targs\n",
      "tensor([[17.0936,  1.0000],\n",
      "        [ 5.7705,  4.0000],\n",
      "        [ 8.2173,  7.0000],\n",
      "        [ 9.8805, 10.0000],\n",
      "        [13.1424, 13.0000],\n",
      "        [14.1815, 16.0000],\n",
      "        [19.5096, 19.0000],\n",
      "        [19.3905, 22.0000]])\n",
      "result:  tensor(0.7949)\n"
     ]
    },
    {
     "data": {
      "text/html": [
       "\n",
       "<style>\n",
       "    /* Turns off some styling */\n",
       "    progress {\n",
       "        /* gets rid of default border in Firefox and Opera. */\n",
       "        border: none;\n",
       "        /* Needs to be in here for Safari polyfill so background images work as expected. */\n",
       "        background-size: auto;\n",
       "    }\n",
       "    progress:not([value]), progress:not([value])::-webkit-progress-bar {\n",
       "        background: repeating-linear-gradient(45deg, #7e7e7e, #7e7e7e 10px, #5c5c5c 10px, #5c5c5c 20px);\n",
       "    }\n",
       "    .progress-bar-interrupted, .progress-bar-interrupted::-webkit-progress-bar {\n",
       "        background: #F44336;\n",
       "    }\n",
       "</style>\n"
      ],
      "text/plain": [
       "<IPython.core.display.HTML object>"
      ]
     },
     "metadata": {},
     "output_type": "display_data"
    },
    {
     "data": {
      "text/html": [
       "<table border=\"1\" class=\"dataframe\">\n",
       "  <thead>\n",
       "    <tr style=\"text-align: left;\">\n",
       "      <th>TimeR2Score</th>\n",
       "      <th>loss</th>\n",
       "      <th>epoch</th>\n",
       "      <th>train</th>\n",
       "      <th>time</th>\n",
       "    </tr>\n",
       "  </thead>\n",
       "  <tbody>\n",
       "    <tr>\n",
       "      <td>0.604</td>\n",
       "      <td>18.492</td>\n",
       "      <td>0</td>\n",
       "      <td>False</td>\n",
       "      <td>00:00</td>\n",
       "    </tr>\n",
       "  </tbody>\n",
       "</table>"
      ],
      "text/plain": [
       "<IPython.core.display.HTML object>"
      ]
     },
     "metadata": {},
     "output_type": "display_data"
    },
    {
     "data": {
      "text/html": [
       "\n",
       "<style>\n",
       "    /* Turns off some styling */\n",
       "    progress {\n",
       "        /* gets rid of default border in Firefox and Opera. */\n",
       "        border: none;\n",
       "        /* Needs to be in here for Safari polyfill so background images work as expected. */\n",
       "        background-size: auto;\n",
       "    }\n",
       "    progress:not([value]), progress:not([value])::-webkit-progress-bar {\n",
       "        background: repeating-linear-gradient(45deg, #7e7e7e, #7e7e7e 10px, #5c5c5c 10px, #5c5c5c 20px);\n",
       "    }\n",
       "    .progress-bar-interrupted, .progress-bar-interrupted::-webkit-progress-bar {\n",
       "        background: #F44336;\n",
       "    }\n",
       "</style>\n"
      ],
      "text/plain": [
       "<IPython.core.display.HTML object>"
      ]
     },
     "metadata": {},
     "output_type": "display_data"
    },
    {
     "data": {
      "text/html": [
       "<table border=\"1\" class=\"dataframe\">\n",
       "  <thead>\n",
       "    <tr style=\"text-align: left;\">\n",
       "      <th>TimeR2Score</th>\n",
       "      <th>loss</th>\n",
       "      <th>epoch</th>\n",
       "      <th>train</th>\n",
       "      <th>time</th>\n",
       "    </tr>\n",
       "  </thead>\n",
       "  <tbody>\n",
       "    <tr>\n",
       "      <td>0.622</td>\n",
       "      <td>17.639</td>\n",
       "      <td>0</td>\n",
       "      <td>False</td>\n",
       "      <td>00:00</td>\n",
       "    </tr>\n",
       "  </tbody>\n",
       "</table>"
      ],
      "text/plain": [
       "<IPython.core.display.HTML object>"
      ]
     },
     "metadata": {},
     "output_type": "display_data"
    },
    {
     "name": "stdout",
     "output_type": "stream",
     "text": [
      "Inference on rna\n",
      "\t\tpreds, targs\n",
      "tensor([[ 8.5842,  2.0000],\n",
      "        [10.3372,  6.0000],\n",
      "        [ 8.6179, 10.0000],\n",
      "        [13.3904, 14.0000],\n",
      "        [18.9938, 18.0000],\n",
      "        [21.4934, 22.0000],\n",
      "        [10.0630,  2.0000],\n",
      "        [ 9.7853,  6.0000],\n",
      "        [11.4139, 10.0000],\n",
      "        [11.0420, 14.0000],\n",
      "        [19.9371, 18.0000],\n",
      "        [14.5320, 22.0000]])\n",
      "result:  tensor(0.6155)\n"
     ]
    },
    {
     "data": {
      "text/html": [
       "\n",
       "<style>\n",
       "    /* Turns off some styling */\n",
       "    progress {\n",
       "        /* gets rid of default border in Firefox and Opera. */\n",
       "        border: none;\n",
       "        /* Needs to be in here for Safari polyfill so background images work as expected. */\n",
       "        background-size: auto;\n",
       "    }\n",
       "    progress:not([value]), progress:not([value])::-webkit-progress-bar {\n",
       "        background: repeating-linear-gradient(45deg, #7e7e7e, #7e7e7e 10px, #5c5c5c 10px, #5c5c5c 20px);\n",
       "    }\n",
       "    .progress-bar-interrupted, .progress-bar-interrupted::-webkit-progress-bar {\n",
       "        background: #F44336;\n",
       "    }\n",
       "</style>\n"
      ],
      "text/plain": [
       "<IPython.core.display.HTML object>"
      ]
     },
     "metadata": {},
     "output_type": "display_data"
    },
    {
     "data": {
      "text/html": [
       "<table border=\"1\" class=\"dataframe\">\n",
       "  <thead>\n",
       "    <tr style=\"text-align: left;\">\n",
       "      <th>TimeR2Score</th>\n",
       "      <th>loss</th>\n",
       "      <th>epoch</th>\n",
       "      <th>train</th>\n",
       "      <th>time</th>\n",
       "    </tr>\n",
       "  </thead>\n",
       "  <tbody>\n",
       "    <tr>\n",
       "      <td>0.742</td>\n",
       "      <td>119.940</td>\n",
       "      <td>0</td>\n",
       "      <td>False</td>\n",
       "      <td>00:03</td>\n",
       "    </tr>\n",
       "  </tbody>\n",
       "</table>"
      ],
      "text/plain": [
       "<IPython.core.display.HTML object>"
      ]
     },
     "metadata": {},
     "output_type": "display_data"
    },
    {
     "data": {
      "text/html": [
       "\n",
       "<style>\n",
       "    /* Turns off some styling */\n",
       "    progress {\n",
       "        /* gets rid of default border in Firefox and Opera. */\n",
       "        border: none;\n",
       "        /* Needs to be in here for Safari polyfill so background images work as expected. */\n",
       "        background-size: auto;\n",
       "    }\n",
       "    progress:not([value]), progress:not([value])::-webkit-progress-bar {\n",
       "        background: repeating-linear-gradient(45deg, #7e7e7e, #7e7e7e 10px, #5c5c5c 10px, #5c5c5c 20px);\n",
       "    }\n",
       "    .progress-bar-interrupted, .progress-bar-interrupted::-webkit-progress-bar {\n",
       "        background: #F44336;\n",
       "    }\n",
       "</style>\n"
      ],
      "text/plain": [
       "<IPython.core.display.HTML object>"
      ]
     },
     "metadata": {},
     "output_type": "display_data"
    },
    {
     "data": {
      "text/html": [
       "<table border=\"1\" class=\"dataframe\">\n",
       "  <thead>\n",
       "    <tr style=\"text-align: left;\">\n",
       "      <th>TimeR2Score</th>\n",
       "      <th>loss</th>\n",
       "      <th>epoch</th>\n",
       "      <th>train</th>\n",
       "      <th>time</th>\n",
       "    </tr>\n",
       "  </thead>\n",
       "  <tbody>\n",
       "    <tr>\n",
       "      <td>0.757</td>\n",
       "      <td>118.754</td>\n",
       "      <td>0</td>\n",
       "      <td>False</td>\n",
       "      <td>00:03</td>\n",
       "    </tr>\n",
       "  </tbody>\n",
       "</table>"
      ],
      "text/plain": [
       "<IPython.core.display.HTML object>"
      ]
     },
     "metadata": {},
     "output_type": "display_data"
    },
    {
     "name": "stdout",
     "output_type": "stream",
     "text": [
      "Inference on more\n",
      "\t\tpreds, targs\n",
      "tensor([[13.3089, 22.0000],\n",
      "        [15.0685, 22.0000],\n",
      "        [10.7691, 10.0000],\n",
      "        [14.4554, 18.0000],\n",
      "        [13.4014,  2.0000],\n",
      "        [15.4911, 18.0000],\n",
      "        [12.1472, 14.0000],\n",
      "        [ 7.7567,  6.0000],\n",
      "        [10.2257,  6.0000],\n",
      "        [11.6013, 14.0000],\n",
      "        [11.2177, 10.0000],\n",
      "        [14.0456,  2.0000],\n",
      "        [20.3806, 24.0000],\n",
      "        [19.2651, 21.0000],\n",
      "        [ 6.5286, 33.0000],\n",
      "        ...,\n",
      "        [10.5910,  7.5000],\n",
      "        [20.9860,  1.5000],\n",
      "        [16.6372, 16.5000],\n",
      "        [15.2198,  4.5000],\n",
      "        [20.7964, 22.5000],\n",
      "        [15.4518, 16.5000],\n",
      "        [20.7831,  1.5000],\n",
      "        [11.5825, 10.5000],\n",
      "        [14.4614, 16.5000],\n",
      "        [20.5741,  1.5000],\n",
      "        [13.1797, 13.5000],\n",
      "        [11.5209,  7.5000],\n",
      "        [19.7411, 19.5000],\n",
      "        [11.4951,  7.5000],\n",
      "        [11.5907, 13.5000]])\n",
      "result:  tensor(0.7495)\n"
     ]
    }
   ],
   "source": [
    "preds = ensemble_model(nlearn, epochs=2, cbs=cbs, lr=1e-3, loss_func=loss_func)"
   ]
  },
  {
   "cell_type": "code",
   "execution_count": 73,
   "metadata": {
    "id": "4QR8cVEtrneA"
   },
   "outputs": [],
   "source": [
    "def init_params(m, leaky=0.):\n",
    "    if isinstance(m, (nn.Linear, nn.Conv2d)): init.kaiming_normal_(m.weight, a=leaky)"
   ]
  },
  {
   "cell_type": "markdown",
   "metadata": {
    "id": "j5ZscnetBbIG"
   },
   "source": [
    "## Batchnorm"
   ]
  },
  {
   "cell_type": "code",
   "execution_count": 74,
   "metadata": {
    "id": "IbV9XYaDBbII"
   },
   "outputs": [],
   "source": [
    "def get_model():\n",
    "    return nn.Sequential(*[\n",
    "    nn.Linear(len(indep_cols), 100),\n",
    "    nn.BatchNorm1d(100),\n",
    "    nn.ReLU(),\n",
    "    nn.Dropout(.2),\n",
    "    nn.Linear(100, 100),\n",
    "    nn.BatchNorm1d(100),\n",
    "    nn.ReLU(),\n",
    "    nn.Dropout(.2),\n",
    "    nn.Linear(100, 1),\n",
    "    nn.BatchNorm1d(1),\n",
    "    TimeLayer()\n",
    "]).apply(init_params)"
   ]
  },
  {
   "cell_type": "code",
   "execution_count": 63,
   "metadata": {
    "colab": {
     "base_uri": "https://localhost:8080/",
     "height": 434
    },
    "id": "eZAJw5fkBbII",
    "outputId": "022d491e-4d23-45ef-f268-826aa374147b"
   },
   "outputs": [
    {
     "data": {
      "image/png": "[encoded data removed]",
      "text/plain": [
       "<Figure size 640x480 with 1 Axes>"
      ]
     },
     "metadata": {},
     "output_type": "display_data"
    }
   ],
   "source": [
    "TrainLearner(get_model(), dls, loss_func, cbs=DeviceCB()).lr_find()"
   ]
  },
  {
   "cell_type": "code",
   "execution_count": 64,
   "metadata": {
    "colab": {
     "base_uri": "https://localhost:8080/",
     "height": 1000
    },
    "id": "NRqUDZFmcp_U",
    "outputId": "76162572-2f16-414f-fa6f-522c0ec6f300",
    "scrolled": false
   },
   "outputs": [
    {
     "name": "stdout",
     "output_type": "stream",
     "text": [
      "Training models\n"
     ]
    },
    {
     "data": {
      "text/html": [
       "\n",
       "<style>\n",
       "    /* Turns off some styling */\n",
       "    progress {\n",
       "        /* gets rid of default border in Firefox and Opera. */\n",
       "        border: none;\n",
       "        /* Needs to be in here for Safari polyfill so background images work as expected. */\n",
       "        background-size: auto;\n",
       "    }\n",
       "    progress:not([value]), progress:not([value])::-webkit-progress-bar {\n",
       "        background: repeating-linear-gradient(45deg, #7e7e7e, #7e7e7e 10px, #5c5c5c 10px, #5c5c5c 20px);\n",
       "    }\n",
       "    .progress-bar-interrupted, .progress-bar-interrupted::-webkit-progress-bar {\n",
       "        background: #F44336;\n",
       "    }\n",
       "</style>\n"
      ],
      "text/plain": [
       "<IPython.core.display.HTML object>"
      ]
     },
     "metadata": {},
     "output_type": "display_data"
    },
    {
     "data": {
      "text/html": [
       "<table border=\"1\" class=\"dataframe\">\n",
       "  <thead>\n",
       "    <tr style=\"text-align: left;\">\n",
       "      <th>TimeR2Score</th>\n",
       "      <th>loss</th>\n",
       "      <th>epoch</th>\n",
       "      <th>train</th>\n",
       "      <th>time</th>\n",
       "    </tr>\n",
       "  </thead>\n",
       "  <tbody>\n",
       "    <tr>\n",
       "      <td>0.889</td>\n",
       "      <td>5.692</td>\n",
       "      <td>0</td>\n",
       "      <td>True</td>\n",
       "      <td>00:04</td>\n",
       "    </tr>\n",
       "    <tr>\n",
       "      <td>0.941</td>\n",
       "      <td>3.132</td>\n",
       "      <td>0</td>\n",
       "      <td>False</td>\n",
       "      <td>00:01</td>\n",
       "    </tr>\n",
       "    <tr>\n",
       "      <td>0.937</td>\n",
       "      <td>3.157</td>\n",
       "      <td>1</td>\n",
       "      <td>True</td>\n",
       "      <td>00:05</td>\n",
       "    </tr>\n",
       "    <tr>\n",
       "      <td>0.947</td>\n",
       "      <td>2.878</td>\n",
       "      <td>1</td>\n",
       "      <td>False</td>\n",
       "      <td>00:01</td>\n",
       "    </tr>\n",
       "    <tr>\n",
       "      <td>0.966</td>\n",
       "      <td>1.617</td>\n",
       "      <td>2</td>\n",
       "      <td>True</td>\n",
       "      <td>00:05</td>\n",
       "    </tr>\n",
       "    <tr>\n",
       "      <td>0.978</td>\n",
       "      <td>1.102</td>\n",
       "      <td>2</td>\n",
       "      <td>False</td>\n",
       "      <td>00:01</td>\n",
       "    </tr>\n",
       "    <tr>\n",
       "      <td>0.978</td>\n",
       "      <td>1.052</td>\n",
       "      <td>3</td>\n",
       "      <td>True</td>\n",
       "      <td>00:04</td>\n",
       "    </tr>\n",
       "    <tr>\n",
       "      <td>0.980</td>\n",
       "      <td>0.992</td>\n",
       "      <td>3</td>\n",
       "      <td>False</td>\n",
       "      <td>00:01</td>\n",
       "    </tr>\n",
       "  </tbody>\n",
       "</table>"
      ],
      "text/plain": [
       "<IPython.core.display.HTML object>"
      ]
     },
     "metadata": {},
     "output_type": "display_data"
    },
    {
     "data": {
      "image/png": "[encoded data removed]",
      "text/plain": [
       "<Figure size 600x400 with 1 Axes>"
      ]
     },
     "metadata": {},
     "output_type": "display_data"
    },
    {
     "data": {
      "text/html": [
       "\n",
       "<style>\n",
       "    /* Turns off some styling */\n",
       "    progress {\n",
       "        /* gets rid of default border in Firefox and Opera. */\n",
       "        border: none;\n",
       "        /* Needs to be in here for Safari polyfill so background images work as expected. */\n",
       "        background-size: auto;\n",
       "    }\n",
       "    progress:not([value]), progress:not([value])::-webkit-progress-bar {\n",
       "        background: repeating-linear-gradient(45deg, #7e7e7e, #7e7e7e 10px, #5c5c5c 10px, #5c5c5c 20px);\n",
       "    }\n",
       "    .progress-bar-interrupted, .progress-bar-interrupted::-webkit-progress-bar {\n",
       "        background: #F44336;\n",
       "    }\n",
       "</style>\n"
      ],
      "text/plain": [
       "<IPython.core.display.HTML object>"
      ]
     },
     "metadata": {},
     "output_type": "display_data"
    },
    {
     "data": {
      "text/html": [
       "<table border=\"1\" class=\"dataframe\">\n",
       "  <thead>\n",
       "    <tr style=\"text-align: left;\">\n",
       "      <th>TimeR2Score</th>\n",
       "      <th>loss</th>\n",
       "      <th>epoch</th>\n",
       "      <th>train</th>\n",
       "      <th>time</th>\n",
       "    </tr>\n",
       "  </thead>\n",
       "  <tbody>\n",
       "    <tr>\n",
       "      <td>0.899</td>\n",
       "      <td>5.139</td>\n",
       "      <td>0</td>\n",
       "      <td>True</td>\n",
       "      <td>00:05</td>\n",
       "    </tr>\n",
       "    <tr>\n",
       "      <td>0.935</td>\n",
       "      <td>3.417</td>\n",
       "      <td>0</td>\n",
       "      <td>False</td>\n",
       "      <td>00:01</td>\n",
       "    </tr>\n",
       "    <tr>\n",
       "      <td>0.935</td>\n",
       "      <td>3.337</td>\n",
       "      <td>1</td>\n",
       "      <td>True</td>\n",
       "      <td>00:05</td>\n",
       "    </tr>\n",
       "    <tr>\n",
       "      <td>0.938</td>\n",
       "      <td>3.299</td>\n",
       "      <td>1</td>\n",
       "      <td>False</td>\n",
       "      <td>00:01</td>\n",
       "    </tr>\n",
       "    <tr>\n",
       "      <td>0.963</td>\n",
       "      <td>1.761</td>\n",
       "      <td>2</td>\n",
       "      <td>True</td>\n",
       "      <td>00:04</td>\n",
       "    </tr>\n",
       "    <tr>\n",
       "      <td>0.969</td>\n",
       "      <td>1.601</td>\n",
       "      <td>2</td>\n",
       "      <td>False</td>\n",
       "      <td>00:01</td>\n",
       "    </tr>\n",
       "    <tr>\n",
       "      <td>0.980</td>\n",
       "      <td>0.960</td>\n",
       "      <td>3</td>\n",
       "      <td>True</td>\n",
       "      <td>00:04</td>\n",
       "    </tr>\n",
       "    <tr>\n",
       "      <td>0.980</td>\n",
       "      <td>1.073</td>\n",
       "      <td>3</td>\n",
       "      <td>False</td>\n",
       "      <td>00:01</td>\n",
       "    </tr>\n",
       "  </tbody>\n",
       "</table>"
      ],
      "text/plain": [
       "<IPython.core.display.HTML object>"
      ]
     },
     "metadata": {},
     "output_type": "display_data"
    },
    {
     "data": {
      "image/png": "[encoded data removed]",
      "text/plain": [
       "<Figure size 600x400 with 1 Axes>"
      ]
     },
     "metadata": {},
     "output_type": "display_data"
    },
    {
     "name": "stdout",
     "output_type": "stream",
     "text": [
      "Making inference on test data\n"
     ]
    },
    {
     "data": {
      "text/html": [
       "\n",
       "<style>\n",
       "    /* Turns off some styling */\n",
       "    progress {\n",
       "        /* gets rid of default border in Firefox and Opera. */\n",
       "        border: none;\n",
       "        /* Needs to be in here for Safari polyfill so background images work as expected. */\n",
       "        background-size: auto;\n",
       "    }\n",
       "    progress:not([value]), progress:not([value])::-webkit-progress-bar {\n",
       "        background: repeating-linear-gradient(45deg, #7e7e7e, #7e7e7e 10px, #5c5c5c 10px, #5c5c5c 20px);\n",
       "    }\n",
       "    .progress-bar-interrupted, .progress-bar-interrupted::-webkit-progress-bar {\n",
       "        background: #F44336;\n",
       "    }\n",
       "</style>\n"
      ],
      "text/plain": [
       "<IPython.core.display.HTML object>"
      ]
     },
     "metadata": {},
     "output_type": "display_data"
    },
    {
     "data": {
      "text/html": [
       "<table border=\"1\" class=\"dataframe\">\n",
       "  <thead>\n",
       "    <tr style=\"text-align: left;\">\n",
       "      <th>TimeR2Score</th>\n",
       "      <th>loss</th>\n",
       "      <th>epoch</th>\n",
       "      <th>train</th>\n",
       "      <th>time</th>\n",
       "    </tr>\n",
       "  </thead>\n",
       "  <tbody>\n",
       "    <tr>\n",
       "      <td>0.841</td>\n",
       "      <td>7.418</td>\n",
       "      <td>0</td>\n",
       "      <td>False</td>\n",
       "      <td>00:00</td>\n",
       "    </tr>\n",
       "  </tbody>\n",
       "</table>"
      ],
      "text/plain": [
       "<IPython.core.display.HTML object>"
      ]
     },
     "metadata": {},
     "output_type": "display_data"
    },
    {
     "data": {
      "text/html": [
       "\n",
       "<style>\n",
       "    /* Turns off some styling */\n",
       "    progress {\n",
       "        /* gets rid of default border in Firefox and Opera. */\n",
       "        border: none;\n",
       "        /* Needs to be in here for Safari polyfill so background images work as expected. */\n",
       "        background-size: auto;\n",
       "    }\n",
       "    progress:not([value]), progress:not([value])::-webkit-progress-bar {\n",
       "        background: repeating-linear-gradient(45deg, #7e7e7e, #7e7e7e 10px, #5c5c5c 10px, #5c5c5c 20px);\n",
       "    }\n",
       "    .progress-bar-interrupted, .progress-bar-interrupted::-webkit-progress-bar {\n",
       "        background: #F44336;\n",
       "    }\n",
       "</style>\n"
      ],
      "text/plain": [
       "<IPython.core.display.HTML object>"
      ]
     },
     "metadata": {},
     "output_type": "display_data"
    },
    {
     "data": {
      "text/html": [
       "<table border=\"1\" class=\"dataframe\">\n",
       "  <thead>\n",
       "    <tr style=\"text-align: left;\">\n",
       "      <th>TimeR2Score</th>\n",
       "      <th>loss</th>\n",
       "      <th>epoch</th>\n",
       "      <th>train</th>\n",
       "      <th>time</th>\n",
       "    </tr>\n",
       "  </thead>\n",
       "  <tbody>\n",
       "    <tr>\n",
       "      <td>0.854</td>\n",
       "      <td>6.825</td>\n",
       "      <td>0</td>\n",
       "      <td>False</td>\n",
       "      <td>00:00</td>\n",
       "    </tr>\n",
       "  </tbody>\n",
       "</table>"
      ],
      "text/plain": [
       "<IPython.core.display.HTML object>"
      ]
     },
     "metadata": {},
     "output_type": "display_data"
    },
    {
     "name": "stdout",
     "output_type": "stream",
     "text": [
      "Inference on nascent\n",
      "\t\tpreds, targs\n",
      "tensor([[ 2.1954,  0.0000],\n",
      "        [ 6.2056,  4.0000],\n",
      "        [ 7.1820,  8.0000],\n",
      "        [10.2031, 12.0000],\n",
      "        [14.3637, 16.0000],\n",
      "        [18.7217, 20.0000],\n",
      "        [ 5.8307,  0.0000],\n",
      "        [ 2.6574,  4.0000],\n",
      "        [10.8334,  8.0000],\n",
      "        [10.7364, 12.0000],\n",
      "        [20.3849, 16.0000],\n",
      "        [20.6364, 20.0000]])\n",
      "result:  tensor(0.8519)\n"
     ]
    },
    {
     "data": {
      "text/html": [
       "\n",
       "<style>\n",
       "    /* Turns off some styling */\n",
       "    progress {\n",
       "        /* gets rid of default border in Firefox and Opera. */\n",
       "        border: none;\n",
       "        /* Needs to be in here for Safari polyfill so background images work as expected. */\n",
       "        background-size: auto;\n",
       "    }\n",
       "    progress:not([value]), progress:not([value])::-webkit-progress-bar {\n",
       "        background: repeating-linear-gradient(45deg, #7e7e7e, #7e7e7e 10px, #5c5c5c 10px, #5c5c5c 20px);\n",
       "    }\n",
       "    .progress-bar-interrupted, .progress-bar-interrupted::-webkit-progress-bar {\n",
       "        background: #F44336;\n",
       "    }\n",
       "</style>\n"
      ],
      "text/plain": [
       "<IPython.core.display.HTML object>"
      ]
     },
     "metadata": {},
     "output_type": "display_data"
    },
    {
     "data": {
      "text/html": [
       "<table border=\"1\" class=\"dataframe\">\n",
       "  <thead>\n",
       "    <tr style=\"text-align: left;\">\n",
       "      <th>TimeR2Score</th>\n",
       "      <th>loss</th>\n",
       "      <th>epoch</th>\n",
       "      <th>train</th>\n",
       "      <th>time</th>\n",
       "    </tr>\n",
       "  </thead>\n",
       "  <tbody>\n",
       "    <tr>\n",
       "      <td>0.838</td>\n",
       "      <td>7.664</td>\n",
       "      <td>0</td>\n",
       "      <td>False</td>\n",
       "      <td>00:00</td>\n",
       "    </tr>\n",
       "  </tbody>\n",
       "</table>"
      ],
      "text/plain": [
       "<IPython.core.display.HTML object>"
      ]
     },
     "metadata": {},
     "output_type": "display_data"
    },
    {
     "data": {
      "text/html": [
       "\n",
       "<style>\n",
       "    /* Turns off some styling */\n",
       "    progress {\n",
       "        /* gets rid of default border in Firefox and Opera. */\n",
       "        border: none;\n",
       "        /* Needs to be in here for Safari polyfill so background images work as expected. */\n",
       "        background-size: auto;\n",
       "    }\n",
       "    progress:not([value]), progress:not([value])::-webkit-progress-bar {\n",
       "        background: repeating-linear-gradient(45deg, #7e7e7e, #7e7e7e 10px, #5c5c5c 10px, #5c5c5c 20px);\n",
       "    }\n",
       "    .progress-bar-interrupted, .progress-bar-interrupted::-webkit-progress-bar {\n",
       "        background: #F44336;\n",
       "    }\n",
       "</style>\n"
      ],
      "text/plain": [
       "<IPython.core.display.HTML object>"
      ]
     },
     "metadata": {},
     "output_type": "display_data"
    },
    {
     "data": {
      "text/html": [
       "<table border=\"1\" class=\"dataframe\">\n",
       "  <thead>\n",
       "    <tr style=\"text-align: left;\">\n",
       "      <th>TimeR2Score</th>\n",
       "      <th>loss</th>\n",
       "      <th>epoch</th>\n",
       "      <th>train</th>\n",
       "      <th>time</th>\n",
       "    </tr>\n",
       "  </thead>\n",
       "  <tbody>\n",
       "    <tr>\n",
       "      <td>0.619</td>\n",
       "      <td>17.991</td>\n",
       "      <td>0</td>\n",
       "      <td>False</td>\n",
       "      <td>00:00</td>\n",
       "    </tr>\n",
       "  </tbody>\n",
       "</table>"
      ],
      "text/plain": [
       "<IPython.core.display.HTML object>"
      ]
     },
     "metadata": {},
     "output_type": "display_data"
    },
    {
     "name": "stdout",
     "output_type": "stream",
     "text": [
      "Inference on gro\n",
      "\t\tpreds, targs\n",
      "tensor([[ 9.8794,  1.0000],\n",
      "        [ 6.4154,  4.0000],\n",
      "        [ 7.4179,  7.0000],\n",
      "        [ 9.3125, 10.0000],\n",
      "        [13.6468, 13.0000],\n",
      "        [14.0344, 16.0000],\n",
      "        [18.5376, 19.0000],\n",
      "        [19.5404, 22.0000]])\n",
      "result:  tensor(0.7464)\n"
     ]
    },
    {
     "data": {
      "text/html": [
       "\n",
       "<style>\n",
       "    /* Turns off some styling */\n",
       "    progress {\n",
       "        /* gets rid of default border in Firefox and Opera. */\n",
       "        border: none;\n",
       "        /* Needs to be in here for Safari polyfill so background images work as expected. */\n",
       "        background-size: auto;\n",
       "    }\n",
       "    progress:not([value]), progress:not([value])::-webkit-progress-bar {\n",
       "        background: repeating-linear-gradient(45deg, #7e7e7e, #7e7e7e 10px, #5c5c5c 10px, #5c5c5c 20px);\n",
       "    }\n",
       "    .progress-bar-interrupted, .progress-bar-interrupted::-webkit-progress-bar {\n",
       "        background: #F44336;\n",
       "    }\n",
       "</style>\n"
      ],
      "text/plain": [
       "<IPython.core.display.HTML object>"
      ]
     },
     "metadata": {},
     "output_type": "display_data"
    },
    {
     "data": {
      "text/html": [
       "<table border=\"1\" class=\"dataframe\">\n",
       "  <thead>\n",
       "    <tr style=\"text-align: left;\">\n",
       "      <th>TimeR2Score</th>\n",
       "      <th>loss</th>\n",
       "      <th>epoch</th>\n",
       "      <th>train</th>\n",
       "      <th>time</th>\n",
       "    </tr>\n",
       "  </thead>\n",
       "  <tbody>\n",
       "    <tr>\n",
       "      <td>0.845</td>\n",
       "      <td>7.241</td>\n",
       "      <td>0</td>\n",
       "      <td>False</td>\n",
       "      <td>00:00</td>\n",
       "    </tr>\n",
       "  </tbody>\n",
       "</table>"
      ],
      "text/plain": [
       "<IPython.core.display.HTML object>"
      ]
     },
     "metadata": {},
     "output_type": "display_data"
    },
    {
     "data": {
      "text/html": [
       "\n",
       "<style>\n",
       "    /* Turns off some styling */\n",
       "    progress {\n",
       "        /* gets rid of default border in Firefox and Opera. */\n",
       "        border: none;\n",
       "        /* Needs to be in here for Safari polyfill so background images work as expected. */\n",
       "        background-size: auto;\n",
       "    }\n",
       "    progress:not([value]), progress:not([value])::-webkit-progress-bar {\n",
       "        background: repeating-linear-gradient(45deg, #7e7e7e, #7e7e7e 10px, #5c5c5c 10px, #5c5c5c 20px);\n",
       "    }\n",
       "    .progress-bar-interrupted, .progress-bar-interrupted::-webkit-progress-bar {\n",
       "        background: #F44336;\n",
       "    }\n",
       "</style>\n"
      ],
      "text/plain": [
       "<IPython.core.display.HTML object>"
      ]
     },
     "metadata": {},
     "output_type": "display_data"
    },
    {
     "data": {
      "text/html": [
       "<table border=\"1\" class=\"dataframe\">\n",
       "  <thead>\n",
       "    <tr style=\"text-align: left;\">\n",
       "      <th>TimeR2Score</th>\n",
       "      <th>loss</th>\n",
       "      <th>epoch</th>\n",
       "      <th>train</th>\n",
       "      <th>time</th>\n",
       "    </tr>\n",
       "  </thead>\n",
       "  <tbody>\n",
       "    <tr>\n",
       "      <td>0.795</td>\n",
       "      <td>9.545</td>\n",
       "      <td>0</td>\n",
       "      <td>False</td>\n",
       "      <td>00:00</td>\n",
       "    </tr>\n",
       "  </tbody>\n",
       "</table>"
      ],
      "text/plain": [
       "<IPython.core.display.HTML object>"
      ]
     },
     "metadata": {},
     "output_type": "display_data"
    },
    {
     "name": "stdout",
     "output_type": "stream",
     "text": [
      "Inference on rna\n",
      "\t\tpreds, targs\n",
      "tensor([[ 3.4724,  2.0000],\n",
      "        [ 7.4873,  6.0000],\n",
      "        [ 9.3571, 10.0000],\n",
      "        [14.3568, 14.0000],\n",
      "        [18.7476, 18.0000],\n",
      "        [20.6454, 22.0000],\n",
      "        [ 3.5104,  2.0000],\n",
      "        [ 7.1328,  6.0000],\n",
      "        [10.2753, 10.0000],\n",
      "        [11.8293, 14.0000],\n",
      "        [20.2661, 18.0000],\n",
      "        [13.1770, 22.0000]])\n",
      "result:  tensor(0.8238)\n"
     ]
    },
    {
     "data": {
      "text/html": [
       "\n",
       "<style>\n",
       "    /* Turns off some styling */\n",
       "    progress {\n",
       "        /* gets rid of default border in Firefox and Opera. */\n",
       "        border: none;\n",
       "        /* Needs to be in here for Safari polyfill so background images work as expected. */\n",
       "        background-size: auto;\n",
       "    }\n",
       "    progress:not([value]), progress:not([value])::-webkit-progress-bar {\n",
       "        background: repeating-linear-gradient(45deg, #7e7e7e, #7e7e7e 10px, #5c5c5c 10px, #5c5c5c 20px);\n",
       "    }\n",
       "    .progress-bar-interrupted, .progress-bar-interrupted::-webkit-progress-bar {\n",
       "        background: #F44336;\n",
       "    }\n",
       "</style>\n"
      ],
      "text/plain": [
       "<IPython.core.display.HTML object>"
      ]
     },
     "metadata": {},
     "output_type": "display_data"
    },
    {
     "data": {
      "text/html": [
       "<table border=\"1\" class=\"dataframe\">\n",
       "  <thead>\n",
       "    <tr style=\"text-align: left;\">\n",
       "      <th>TimeR2Score</th>\n",
       "      <th>loss</th>\n",
       "      <th>epoch</th>\n",
       "      <th>train</th>\n",
       "      <th>time</th>\n",
       "    </tr>\n",
       "  </thead>\n",
       "  <tbody>\n",
       "    <tr>\n",
       "      <td>0.776</td>\n",
       "      <td>123.953</td>\n",
       "      <td>0</td>\n",
       "      <td>False</td>\n",
       "      <td>00:06</td>\n",
       "    </tr>\n",
       "  </tbody>\n",
       "</table>"
      ],
      "text/plain": [
       "<IPython.core.display.HTML object>"
      ]
     },
     "metadata": {},
     "output_type": "display_data"
    },
    {
     "data": {
      "text/html": [
       "\n",
       "<style>\n",
       "    /* Turns off some styling */\n",
       "    progress {\n",
       "        /* gets rid of default border in Firefox and Opera. */\n",
       "        border: none;\n",
       "        /* Needs to be in here for Safari polyfill so background images work as expected. */\n",
       "        background-size: auto;\n",
       "    }\n",
       "    progress:not([value]), progress:not([value])::-webkit-progress-bar {\n",
       "        background: repeating-linear-gradient(45deg, #7e7e7e, #7e7e7e 10px, #5c5c5c 10px, #5c5c5c 20px);\n",
       "    }\n",
       "    .progress-bar-interrupted, .progress-bar-interrupted::-webkit-progress-bar {\n",
       "        background: #F44336;\n",
       "    }\n",
       "</style>\n"
      ],
      "text/plain": [
       "<IPython.core.display.HTML object>"
      ]
     },
     "metadata": {},
     "output_type": "display_data"
    },
    {
     "data": {
      "text/html": [
       "<table border=\"1\" class=\"dataframe\">\n",
       "  <thead>\n",
       "    <tr style=\"text-align: left;\">\n",
       "      <th>TimeR2Score</th>\n",
       "      <th>loss</th>\n",
       "      <th>epoch</th>\n",
       "      <th>train</th>\n",
       "      <th>time</th>\n",
       "    </tr>\n",
       "  </thead>\n",
       "  <tbody>\n",
       "    <tr>\n",
       "      <td>0.782</td>\n",
       "      <td>117.795</td>\n",
       "      <td>0</td>\n",
       "      <td>False</td>\n",
       "      <td>00:03</td>\n",
       "    </tr>\n",
       "  </tbody>\n",
       "</table>"
      ],
      "text/plain": [
       "<IPython.core.display.HTML object>"
      ]
     },
     "metadata": {},
     "output_type": "display_data"
    },
    {
     "name": "stdout",
     "output_type": "stream",
     "text": [
      "Inference on more\n",
      "\t\tpreds, targs\n",
      "tensor([[14.6024, 22.0000],\n",
      "        [16.9450, 22.0000],\n",
      "        [ 9.3452, 10.0000],\n",
      "        ...,\n",
      "        [19.6316, 19.5000],\n",
      "        [13.4849,  7.5000],\n",
      "        [10.6631, 13.5000]])\n",
      "result:  tensor(0.7794)\n"
     ]
    }
   ],
   "source": [
    "lr, epochs = .2, 4\n",
    "tmax = epochs * len(dls.train)\n",
    "sched = partial(lr_scheduler.OneCycleLR, max_lr=lr, total_steps=tmax)\n",
    "xtra = [BatchSchedCB(sched)]\n",
    "preds = ensemble_model(nlearn, get_model, epochs=epochs, lr=lr, cbs=cbs+xtra, opt_func=optim.AdamW)"
   ]
  },
  {
   "cell_type": "code",
   "execution_count": 65,
   "metadata": {
    "colab": {
     "base_uri": "https://localhost:8080/",
     "height": 1000
    },
    "id": "uyiwleVZBbIJ",
    "outputId": "e123a67a-4ef1-4b49-853d-f5ef0bd9fefc",
    "scrolled": false
   },
   "outputs": [
    {
     "name": "stdout",
     "output_type": "stream",
     "text": [
      "Training models\n"
     ]
    },
    {
     "data": {
      "text/html": [
       "\n",
       "<style>\n",
       "    /* Turns off some styling */\n",
       "    progress {\n",
       "        /* gets rid of default border in Firefox and Opera. */\n",
       "        border: none;\n",
       "        /* Needs to be in here for Safari polyfill so background images work as expected. */\n",
       "        background-size: auto;\n",
       "    }\n",
       "    progress:not([value]), progress:not([value])::-webkit-progress-bar {\n",
       "        background: repeating-linear-gradient(45deg, #7e7e7e, #7e7e7e 10px, #5c5c5c 10px, #5c5c5c 20px);\n",
       "    }\n",
       "    .progress-bar-interrupted, .progress-bar-interrupted::-webkit-progress-bar {\n",
       "        background: #F44336;\n",
       "    }\n",
       "</style>\n"
      ],
      "text/plain": [
       "<IPython.core.display.HTML object>"
      ]
     },
     "metadata": {},
     "output_type": "display_data"
    },
    {
     "data": {
      "text/html": [
       "<table border=\"1\" class=\"dataframe\">\n",
       "  <thead>\n",
       "    <tr style=\"text-align: left;\">\n",
       "      <th>TimeR2Score</th>\n",
       "      <th>loss</th>\n",
       "      <th>epoch</th>\n",
       "      <th>train</th>\n",
       "      <th>time</th>\n",
       "    </tr>\n",
       "  </thead>\n",
       "  <tbody>\n",
       "    <tr>\n",
       "      <td>0.890</td>\n",
       "      <td>5.674</td>\n",
       "      <td>0</td>\n",
       "      <td>True</td>\n",
       "      <td>00:02</td>\n",
       "    </tr>\n",
       "    <tr>\n",
       "      <td>0.932</td>\n",
       "      <td>3.525</td>\n",
       "      <td>0</td>\n",
       "      <td>False</td>\n",
       "      <td>00:00</td>\n",
       "    </tr>\n",
       "    <tr>\n",
       "      <td>0.950</td>\n",
       "      <td>2.497</td>\n",
       "      <td>1</td>\n",
       "      <td>True</td>\n",
       "      <td>00:02</td>\n",
       "    </tr>\n",
       "    <tr>\n",
       "      <td>0.968</td>\n",
       "      <td>1.729</td>\n",
       "      <td>1</td>\n",
       "      <td>False</td>\n",
       "      <td>00:00</td>\n",
       "    </tr>\n",
       "    <tr>\n",
       "      <td>0.971</td>\n",
       "      <td>1.434</td>\n",
       "      <td>2</td>\n",
       "      <td>True</td>\n",
       "      <td>00:02</td>\n",
       "    </tr>\n",
       "    <tr>\n",
       "      <td>0.977</td>\n",
       "      <td>1.133</td>\n",
       "      <td>2</td>\n",
       "      <td>False</td>\n",
       "      <td>00:00</td>\n",
       "    </tr>\n",
       "    <tr>\n",
       "      <td>0.981</td>\n",
       "      <td>0.879</td>\n",
       "      <td>3</td>\n",
       "      <td>True</td>\n",
       "      <td>00:04</td>\n",
       "    </tr>\n",
       "    <tr>\n",
       "      <td>0.980</td>\n",
       "      <td>0.978</td>\n",
       "      <td>3</td>\n",
       "      <td>False</td>\n",
       "      <td>00:01</td>\n",
       "    </tr>\n",
       "  </tbody>\n",
       "</table>"
      ],
      "text/plain": [
       "<IPython.core.display.HTML object>"
      ]
     },
     "metadata": {},
     "output_type": "display_data"
    },
    {
     "data": {
      "image/png": "[encoded data removed]",
      "text/plain": [
       "<Figure size 600x400 with 1 Axes>"
      ]
     },
     "metadata": {},
     "output_type": "display_data"
    },
    {
     "data": {
      "text/html": [
       "\n",
       "<style>\n",
       "    /* Turns off some styling */\n",
       "    progress {\n",
       "        /* gets rid of default border in Firefox and Opera. */\n",
       "        border: none;\n",
       "        /* Needs to be in here for Safari polyfill so background images work as expected. */\n",
       "        background-size: auto;\n",
       "    }\n",
       "    progress:not([value]), progress:not([value])::-webkit-progress-bar {\n",
       "        background: repeating-linear-gradient(45deg, #7e7e7e, #7e7e7e 10px, #5c5c5c 10px, #5c5c5c 20px);\n",
       "    }\n",
       "    .progress-bar-interrupted, .progress-bar-interrupted::-webkit-progress-bar {\n",
       "        background: #F44336;\n",
       "    }\n",
       "</style>\n"
      ],
      "text/plain": [
       "<IPython.core.display.HTML object>"
      ]
     },
     "metadata": {},
     "output_type": "display_data"
    },
    {
     "data": {
      "text/html": [
       "<table border=\"1\" class=\"dataframe\">\n",
       "  <thead>\n",
       "    <tr style=\"text-align: left;\">\n",
       "      <th>TimeR2Score</th>\n",
       "      <th>loss</th>\n",
       "      <th>epoch</th>\n",
       "      <th>train</th>\n",
       "      <th>time</th>\n",
       "    </tr>\n",
       "  </thead>\n",
       "  <tbody>\n",
       "    <tr>\n",
       "      <td>0.890</td>\n",
       "      <td>5.704</td>\n",
       "      <td>0</td>\n",
       "      <td>True</td>\n",
       "      <td>00:05</td>\n",
       "    </tr>\n",
       "    <tr>\n",
       "      <td>0.936</td>\n",
       "      <td>3.309</td>\n",
       "      <td>0</td>\n",
       "      <td>False</td>\n",
       "      <td>00:01</td>\n",
       "    </tr>\n",
       "    <tr>\n",
       "      <td>0.951</td>\n",
       "      <td>2.395</td>\n",
       "      <td>1</td>\n",
       "      <td>True</td>\n",
       "      <td>00:05</td>\n",
       "    </tr>\n",
       "    <tr>\n",
       "      <td>0.966</td>\n",
       "      <td>1.857</td>\n",
       "      <td>1</td>\n",
       "      <td>False</td>\n",
       "      <td>00:01</td>\n",
       "    </tr>\n",
       "    <tr>\n",
       "      <td>0.971</td>\n",
       "      <td>1.365</td>\n",
       "      <td>2</td>\n",
       "      <td>True</td>\n",
       "      <td>00:05</td>\n",
       "    </tr>\n",
       "    <tr>\n",
       "      <td>0.974</td>\n",
       "      <td>1.340</td>\n",
       "      <td>2</td>\n",
       "      <td>False</td>\n",
       "      <td>00:01</td>\n",
       "    </tr>\n",
       "    <tr>\n",
       "      <td>0.981</td>\n",
       "      <td>0.883</td>\n",
       "      <td>3</td>\n",
       "      <td>True</td>\n",
       "      <td>00:05</td>\n",
       "    </tr>\n",
       "    <tr>\n",
       "      <td>0.980</td>\n",
       "      <td>1.072</td>\n",
       "      <td>3</td>\n",
       "      <td>False</td>\n",
       "      <td>00:01</td>\n",
       "    </tr>\n",
       "  </tbody>\n",
       "</table>"
      ],
      "text/plain": [
       "<IPython.core.display.HTML object>"
      ]
     },
     "metadata": {},
     "output_type": "display_data"
    },
    {
     "data": {
      "image/png": "[encoded data removed]",
      "text/plain": [
       "<Figure size 600x400 with 1 Axes>"
      ]
     },
     "metadata": {},
     "output_type": "display_data"
    },
    {
     "name": "stdout",
     "output_type": "stream",
     "text": [
      "Making inference on test data\n"
     ]
    },
    {
     "data": {
      "text/html": [
       "\n",
       "<style>\n",
       "    /* Turns off some styling */\n",
       "    progress {\n",
       "        /* gets rid of default border in Firefox and Opera. */\n",
       "        border: none;\n",
       "        /* Needs to be in here for Safari polyfill so background images work as expected. */\n",
       "        background-size: auto;\n",
       "    }\n",
       "    progress:not([value]), progress:not([value])::-webkit-progress-bar {\n",
       "        background: repeating-linear-gradient(45deg, #7e7e7e, #7e7e7e 10px, #5c5c5c 10px, #5c5c5c 20px);\n",
       "    }\n",
       "    .progress-bar-interrupted, .progress-bar-interrupted::-webkit-progress-bar {\n",
       "        background: #F44336;\n",
       "    }\n",
       "</style>\n"
      ],
      "text/plain": [
       "<IPython.core.display.HTML object>"
      ]
     },
     "metadata": {},
     "output_type": "display_data"
    },
    {
     "data": {
      "text/html": [
       "<table border=\"1\" class=\"dataframe\">\n",
       "  <thead>\n",
       "    <tr style=\"text-align: left;\">\n",
       "      <th>TimeR2Score</th>\n",
       "      <th>loss</th>\n",
       "      <th>epoch</th>\n",
       "      <th>train</th>\n",
       "      <th>time</th>\n",
       "    </tr>\n",
       "  </thead>\n",
       "  <tbody>\n",
       "    <tr>\n",
       "      <td>0.837</td>\n",
       "      <td>7.607</td>\n",
       "      <td>0</td>\n",
       "      <td>False</td>\n",
       "      <td>00:00</td>\n",
       "    </tr>\n",
       "  </tbody>\n",
       "</table>"
      ],
      "text/plain": [
       "<IPython.core.display.HTML object>"
      ]
     },
     "metadata": {},
     "output_type": "display_data"
    },
    {
     "data": {
      "text/html": [
       "\n",
       "<style>\n",
       "    /* Turns off some styling */\n",
       "    progress {\n",
       "        /* gets rid of default border in Firefox and Opera. */\n",
       "        border: none;\n",
       "        /* Needs to be in here for Safari polyfill so background images work as expected. */\n",
       "        background-size: auto;\n",
       "    }\n",
       "    progress:not([value]), progress:not([value])::-webkit-progress-bar {\n",
       "        background: repeating-linear-gradient(45deg, #7e7e7e, #7e7e7e 10px, #5c5c5c 10px, #5c5c5c 20px);\n",
       "    }\n",
       "    .progress-bar-interrupted, .progress-bar-interrupted::-webkit-progress-bar {\n",
       "        background: #F44336;\n",
       "    }\n",
       "</style>\n"
      ],
      "text/plain": [
       "<IPython.core.display.HTML object>"
      ]
     },
     "metadata": {},
     "output_type": "display_data"
    },
    {
     "data": {
      "text/html": [
       "<table border=\"1\" class=\"dataframe\">\n",
       "  <thead>\n",
       "    <tr style=\"text-align: left;\">\n",
       "      <th>TimeR2Score</th>\n",
       "      <th>loss</th>\n",
       "      <th>epoch</th>\n",
       "      <th>train</th>\n",
       "      <th>time</th>\n",
       "    </tr>\n",
       "  </thead>\n",
       "  <tbody>\n",
       "    <tr>\n",
       "      <td>0.821</td>\n",
       "      <td>8.341</td>\n",
       "      <td>0</td>\n",
       "      <td>False</td>\n",
       "      <td>00:00</td>\n",
       "    </tr>\n",
       "  </tbody>\n",
       "</table>"
      ],
      "text/plain": [
       "<IPython.core.display.HTML object>"
      ]
     },
     "metadata": {},
     "output_type": "display_data"
    },
    {
     "name": "stdout",
     "output_type": "stream",
     "text": [
      "Inference on nascent\n",
      "\t\tpreds, targs\n",
      "tensor([[ 2.4545,  0.0000],\n",
      "        [ 5.9121,  4.0000],\n",
      "        [ 7.3124,  8.0000],\n",
      "        [ 9.9577, 12.0000],\n",
      "        [14.3150, 16.0000],\n",
      "        [18.3417, 20.0000],\n",
      "        [ 6.0469,  0.0000],\n",
      "        [ 2.8912,  4.0000],\n",
      "        [10.8494,  8.0000],\n",
      "        [10.4910, 12.0000],\n",
      "        [21.1655, 16.0000],\n",
      "        [20.5206, 20.0000]])\n",
      "result:  tensor(0.8303)\n"
     ]
    },
    {
     "data": {
      "text/html": [
       "\n",
       "<style>\n",
       "    /* Turns off some styling */\n",
       "    progress {\n",
       "        /* gets rid of default border in Firefox and Opera. */\n",
       "        border: none;\n",
       "        /* Needs to be in here for Safari polyfill so background images work as expected. */\n",
       "        background-size: auto;\n",
       "    }\n",
       "    progress:not([value]), progress:not([value])::-webkit-progress-bar {\n",
       "        background: repeating-linear-gradient(45deg, #7e7e7e, #7e7e7e 10px, #5c5c5c 10px, #5c5c5c 20px);\n",
       "    }\n",
       "    .progress-bar-interrupted, .progress-bar-interrupted::-webkit-progress-bar {\n",
       "        background: #F44336;\n",
       "    }\n",
       "</style>\n"
      ],
      "text/plain": [
       "<IPython.core.display.HTML object>"
      ]
     },
     "metadata": {},
     "output_type": "display_data"
    },
    {
     "data": {
      "text/html": [
       "<table border=\"1\" class=\"dataframe\">\n",
       "  <thead>\n",
       "    <tr style=\"text-align: left;\">\n",
       "      <th>TimeR2Score</th>\n",
       "      <th>loss</th>\n",
       "      <th>epoch</th>\n",
       "      <th>train</th>\n",
       "      <th>time</th>\n",
       "    </tr>\n",
       "  </thead>\n",
       "  <tbody>\n",
       "    <tr>\n",
       "      <td>0.750</td>\n",
       "      <td>11.805</td>\n",
       "      <td>0</td>\n",
       "      <td>False</td>\n",
       "      <td>00:00</td>\n",
       "    </tr>\n",
       "  </tbody>\n",
       "</table>"
      ],
      "text/plain": [
       "<IPython.core.display.HTML object>"
      ]
     },
     "metadata": {},
     "output_type": "display_data"
    },
    {
     "data": {
      "text/html": [
       "\n",
       "<style>\n",
       "    /* Turns off some styling */\n",
       "    progress {\n",
       "        /* gets rid of default border in Firefox and Opera. */\n",
       "        border: none;\n",
       "        /* Needs to be in here for Safari polyfill so background images work as expected. */\n",
       "        background-size: auto;\n",
       "    }\n",
       "    progress:not([value]), progress:not([value])::-webkit-progress-bar {\n",
       "        background: repeating-linear-gradient(45deg, #7e7e7e, #7e7e7e 10px, #5c5c5c 10px, #5c5c5c 20px);\n",
       "    }\n",
       "    .progress-bar-interrupted, .progress-bar-interrupted::-webkit-progress-bar {\n",
       "        background: #F44336;\n",
       "    }\n",
       "</style>\n"
      ],
      "text/plain": [
       "<IPython.core.display.HTML object>"
      ]
     },
     "metadata": {},
     "output_type": "display_data"
    },
    {
     "data": {
      "text/html": [
       "<table border=\"1\" class=\"dataframe\">\n",
       "  <thead>\n",
       "    <tr style=\"text-align: left;\">\n",
       "      <th>TimeR2Score</th>\n",
       "      <th>loss</th>\n",
       "      <th>epoch</th>\n",
       "      <th>train</th>\n",
       "      <th>time</th>\n",
       "    </tr>\n",
       "  </thead>\n",
       "  <tbody>\n",
       "    <tr>\n",
       "      <td>0.820</td>\n",
       "      <td>8.492</td>\n",
       "      <td>0</td>\n",
       "      <td>False</td>\n",
       "      <td>00:00</td>\n",
       "    </tr>\n",
       "  </tbody>\n",
       "</table>"
      ],
      "text/plain": [
       "<IPython.core.display.HTML object>"
      ]
     },
     "metadata": {},
     "output_type": "display_data"
    },
    {
     "name": "stdout",
     "output_type": "stream",
     "text": [
      "Inference on gro\n",
      "\t\tpreds, targs\n",
      "tensor([[ 9.4912,  1.0000],\n",
      "        [ 4.4197,  4.0000],\n",
      "        [ 7.7590,  7.0000],\n",
      "        [ 9.5337, 10.0000],\n",
      "        [13.6470, 13.0000],\n",
      "        [14.9926, 16.0000],\n",
      "        [18.7857, 19.0000],\n",
      "        [19.6477, 22.0000]])\n",
      "result:  tensor(0.7881)\n"
     ]
    },
    {
     "data": {
      "text/html": [
       "\n",
       "<style>\n",
       "    /* Turns off some styling */\n",
       "    progress {\n",
       "        /* gets rid of default border in Firefox and Opera. */\n",
       "        border: none;\n",
       "        /* Needs to be in here for Safari polyfill so background images work as expected. */\n",
       "        background-size: auto;\n",
       "    }\n",
       "    progress:not([value]), progress:not([value])::-webkit-progress-bar {\n",
       "        background: repeating-linear-gradient(45deg, #7e7e7e, #7e7e7e 10px, #5c5c5c 10px, #5c5c5c 20px);\n",
       "    }\n",
       "    .progress-bar-interrupted, .progress-bar-interrupted::-webkit-progress-bar {\n",
       "        background: #F44336;\n",
       "    }\n",
       "</style>\n"
      ],
      "text/plain": [
       "<IPython.core.display.HTML object>"
      ]
     },
     "metadata": {},
     "output_type": "display_data"
    },
    {
     "data": {
      "text/html": [
       "<table border=\"1\" class=\"dataframe\">\n",
       "  <thead>\n",
       "    <tr style=\"text-align: left;\">\n",
       "      <th>TimeR2Score</th>\n",
       "      <th>loss</th>\n",
       "      <th>epoch</th>\n",
       "      <th>train</th>\n",
       "      <th>time</th>\n",
       "    </tr>\n",
       "  </thead>\n",
       "  <tbody>\n",
       "    <tr>\n",
       "      <td>0.850</td>\n",
       "      <td>6.996</td>\n",
       "      <td>0</td>\n",
       "      <td>False</td>\n",
       "      <td>00:00</td>\n",
       "    </tr>\n",
       "  </tbody>\n",
       "</table>"
      ],
      "text/plain": [
       "<IPython.core.display.HTML object>"
      ]
     },
     "metadata": {},
     "output_type": "display_data"
    },
    {
     "data": {
      "text/html": [
       "\n",
       "<style>\n",
       "    /* Turns off some styling */\n",
       "    progress {\n",
       "        /* gets rid of default border in Firefox and Opera. */\n",
       "        border: none;\n",
       "        /* Needs to be in here for Safari polyfill so background images work as expected. */\n",
       "        background-size: auto;\n",
       "    }\n",
       "    progress:not([value]), progress:not([value])::-webkit-progress-bar {\n",
       "        background: repeating-linear-gradient(45deg, #7e7e7e, #7e7e7e 10px, #5c5c5c 10px, #5c5c5c 20px);\n",
       "    }\n",
       "    .progress-bar-interrupted, .progress-bar-interrupted::-webkit-progress-bar {\n",
       "        background: #F44336;\n",
       "    }\n",
       "</style>\n"
      ],
      "text/plain": [
       "<IPython.core.display.HTML object>"
      ]
     },
     "metadata": {},
     "output_type": "display_data"
    },
    {
     "data": {
      "text/html": [
       "<table border=\"1\" class=\"dataframe\">\n",
       "  <thead>\n",
       "    <tr style=\"text-align: left;\">\n",
       "      <th>TimeR2Score</th>\n",
       "      <th>loss</th>\n",
       "      <th>epoch</th>\n",
       "      <th>train</th>\n",
       "      <th>time</th>\n",
       "    </tr>\n",
       "  </thead>\n",
       "  <tbody>\n",
       "    <tr>\n",
       "      <td>0.938</td>\n",
       "      <td>2.886</td>\n",
       "      <td>0</td>\n",
       "      <td>False</td>\n",
       "      <td>00:00</td>\n",
       "    </tr>\n",
       "  </tbody>\n",
       "</table>"
      ],
      "text/plain": [
       "<IPython.core.display.HTML object>"
      ]
     },
     "metadata": {},
     "output_type": "display_data"
    },
    {
     "name": "stdout",
     "output_type": "stream",
     "text": [
      "Inference on rna\n",
      "\t\tpreds, targs\n",
      "tensor([[ 2.5215,  2.0000],\n",
      "        [ 7.0327,  6.0000],\n",
      "        [ 9.4536, 10.0000],\n",
      "        [14.0181, 14.0000],\n",
      "        [19.1539, 18.0000],\n",
      "        [20.7446, 22.0000],\n",
      "        [ 5.3448,  2.0000],\n",
      "        [ 6.7511,  6.0000],\n",
      "        [10.1290, 10.0000],\n",
      "        [12.1602, 14.0000],\n",
      "        [19.5730, 18.0000],\n",
      "        [16.2340, 22.0000]])\n",
      "result:  tensor(0.9010)\n"
     ]
    },
    {
     "data": {
      "text/html": [
       "\n",
       "<style>\n",
       "    /* Turns off some styling */\n",
       "    progress {\n",
       "        /* gets rid of default border in Firefox and Opera. */\n",
       "        border: none;\n",
       "        /* Needs to be in here for Safari polyfill so background images work as expected. */\n",
       "        background-size: auto;\n",
       "    }\n",
       "    progress:not([value]), progress:not([value])::-webkit-progress-bar {\n",
       "        background: repeating-linear-gradient(45deg, #7e7e7e, #7e7e7e 10px, #5c5c5c 10px, #5c5c5c 20px);\n",
       "    }\n",
       "    .progress-bar-interrupted, .progress-bar-interrupted::-webkit-progress-bar {\n",
       "        background: #F44336;\n",
       "    }\n",
       "</style>\n"
      ],
      "text/plain": [
       "<IPython.core.display.HTML object>"
      ]
     },
     "metadata": {},
     "output_type": "display_data"
    },
    {
     "data": {
      "text/html": [
       "<table border=\"1\" class=\"dataframe\">\n",
       "  <thead>\n",
       "    <tr style=\"text-align: left;\">\n",
       "      <th>TimeR2Score</th>\n",
       "      <th>loss</th>\n",
       "      <th>epoch</th>\n",
       "      <th>train</th>\n",
       "      <th>time</th>\n",
       "    </tr>\n",
       "  </thead>\n",
       "  <tbody>\n",
       "    <tr>\n",
       "      <td>0.784</td>\n",
       "      <td>122.621</td>\n",
       "      <td>0</td>\n",
       "      <td>False</td>\n",
       "      <td>00:06</td>\n",
       "    </tr>\n",
       "  </tbody>\n",
       "</table>"
      ],
      "text/plain": [
       "<IPython.core.display.HTML object>"
      ]
     },
     "metadata": {},
     "output_type": "display_data"
    },
    {
     "data": {
      "text/html": [
       "\n",
       "<style>\n",
       "    /* Turns off some styling */\n",
       "    progress {\n",
       "        /* gets rid of default border in Firefox and Opera. */\n",
       "        border: none;\n",
       "        /* Needs to be in here for Safari polyfill so background images work as expected. */\n",
       "        background-size: auto;\n",
       "    }\n",
       "    progress:not([value]), progress:not([value])::-webkit-progress-bar {\n",
       "        background: repeating-linear-gradient(45deg, #7e7e7e, #7e7e7e 10px, #5c5c5c 10px, #5c5c5c 20px);\n",
       "    }\n",
       "    .progress-bar-interrupted, .progress-bar-interrupted::-webkit-progress-bar {\n",
       "        background: #F44336;\n",
       "    }\n",
       "</style>\n"
      ],
      "text/plain": [
       "<IPython.core.display.HTML object>"
      ]
     },
     "metadata": {},
     "output_type": "display_data"
    },
    {
     "data": {
      "text/html": [
       "<table border=\"1\" class=\"dataframe\">\n",
       "  <thead>\n",
       "    <tr style=\"text-align: left;\">\n",
       "      <th>TimeR2Score</th>\n",
       "      <th>loss</th>\n",
       "      <th>epoch</th>\n",
       "      <th>train</th>\n",
       "      <th>time</th>\n",
       "    </tr>\n",
       "  </thead>\n",
       "  <tbody>\n",
       "    <tr>\n",
       "      <td>0.794</td>\n",
       "      <td>125.401</td>\n",
       "      <td>0</td>\n",
       "      <td>False</td>\n",
       "      <td>00:06</td>\n",
       "    </tr>\n",
       "  </tbody>\n",
       "</table>"
      ],
      "text/plain": [
       "<IPython.core.display.HTML object>"
      ]
     },
     "metadata": {},
     "output_type": "display_data"
    },
    {
     "name": "stdout",
     "output_type": "stream",
     "text": [
      "Inference on more\n",
      "\t\tpreds, targs\n",
      "tensor([[16.4257, 22.0000],\n",
      "        [18.6322, 22.0000],\n",
      "        [ 9.1168, 10.0000],\n",
      "        ...,\n",
      "        [19.9208, 19.5000],\n",
      "        [ 9.6717,  7.5000],\n",
      "        [10.8577, 13.5000]])\n",
      "result:  tensor(0.7875)\n"
     ]
    }
   ],
   "source": [
    "lr, epochs = .1, 4\n",
    "tmax = epochs * len(dls.train)\n",
    "sched = partial(lr_scheduler.OneCycleLR, max_lr=lr, total_steps=tmax)\n",
    "xtra = [BatchSchedCB(sched)]\n",
    "preds = ensemble_model(nlearn, get_model, epochs=epochs, lr=lr, cbs=cbs+xtra, opt_func=optim.AdamW)"
   ]
  },
  {
   "cell_type": "code",
   "execution_count": 66,
   "metadata": {
    "colab": {
     "base_uri": "https://localhost:8080/",
     "height": 1000
    },
    "id": "7ur_hNPg1RSL",
    "outputId": "41a5fe53-1982-48a5-b067-0223a126b8ce",
    "scrolled": false
   },
   "outputs": [
    {
     "name": "stdout",
     "output_type": "stream",
     "text": [
      "Training models\n"
     ]
    },
    {
     "data": {
      "text/html": [
       "\n",
       "<style>\n",
       "    /* Turns off some styling */\n",
       "    progress {\n",
       "        /* gets rid of default border in Firefox and Opera. */\n",
       "        border: none;\n",
       "        /* Needs to be in here for Safari polyfill so background images work as expected. */\n",
       "        background-size: auto;\n",
       "    }\n",
       "    progress:not([value]), progress:not([value])::-webkit-progress-bar {\n",
       "        background: repeating-linear-gradient(45deg, #7e7e7e, #7e7e7e 10px, #5c5c5c 10px, #5c5c5c 20px);\n",
       "    }\n",
       "    .progress-bar-interrupted, .progress-bar-interrupted::-webkit-progress-bar {\n",
       "        background: #F44336;\n",
       "    }\n",
       "</style>\n"
      ],
      "text/plain": [
       "<IPython.core.display.HTML object>"
      ]
     },
     "metadata": {},
     "output_type": "display_data"
    },
    {
     "data": {
      "text/html": [
       "<table border=\"1\" class=\"dataframe\">\n",
       "  <thead>\n",
       "    <tr style=\"text-align: left;\">\n",
       "      <th>TimeR2Score</th>\n",
       "      <th>loss</th>\n",
       "      <th>epoch</th>\n",
       "      <th>train</th>\n",
       "      <th>time</th>\n",
       "    </tr>\n",
       "  </thead>\n",
       "  <tbody>\n",
       "    <tr>\n",
       "      <td>0.896</td>\n",
       "      <td>5.372</td>\n",
       "      <td>0</td>\n",
       "      <td>True</td>\n",
       "      <td>00:05</td>\n",
       "    </tr>\n",
       "    <tr>\n",
       "      <td>0.950</td>\n",
       "      <td>2.815</td>\n",
       "      <td>0</td>\n",
       "      <td>False</td>\n",
       "      <td>00:01</td>\n",
       "    </tr>\n",
       "    <tr>\n",
       "      <td>0.928</td>\n",
       "      <td>3.736</td>\n",
       "      <td>1</td>\n",
       "      <td>True</td>\n",
       "      <td>00:05</td>\n",
       "    </tr>\n",
       "    <tr>\n",
       "      <td>0.916</td>\n",
       "      <td>4.633</td>\n",
       "      <td>1</td>\n",
       "      <td>False</td>\n",
       "      <td>00:01</td>\n",
       "    </tr>\n",
       "    <tr>\n",
       "      <td>0.953</td>\n",
       "      <td>2.261</td>\n",
       "      <td>2</td>\n",
       "      <td>True</td>\n",
       "      <td>00:05</td>\n",
       "    </tr>\n",
       "    <tr>\n",
       "      <td>0.971</td>\n",
       "      <td>1.669</td>\n",
       "      <td>2</td>\n",
       "      <td>False</td>\n",
       "      <td>00:01</td>\n",
       "    </tr>\n",
       "    <tr>\n",
       "      <td>0.971</td>\n",
       "      <td>1.403</td>\n",
       "      <td>3</td>\n",
       "      <td>True</td>\n",
       "      <td>00:04</td>\n",
       "    </tr>\n",
       "    <tr>\n",
       "      <td>0.975</td>\n",
       "      <td>1.302</td>\n",
       "      <td>3</td>\n",
       "      <td>False</td>\n",
       "      <td>00:01</td>\n",
       "    </tr>\n",
       "    <tr>\n",
       "      <td>0.980</td>\n",
       "      <td>0.920</td>\n",
       "      <td>4</td>\n",
       "      <td>True</td>\n",
       "      <td>00:04</td>\n",
       "    </tr>\n",
       "    <tr>\n",
       "      <td>0.981</td>\n",
       "      <td>1.031</td>\n",
       "      <td>4</td>\n",
       "      <td>False</td>\n",
       "      <td>00:01</td>\n",
       "    </tr>\n",
       "  </tbody>\n",
       "</table>"
      ],
      "text/plain": [
       "<IPython.core.display.HTML object>"
      ]
     },
     "metadata": {},
     "output_type": "display_data"
    },
    {
     "data": {
      "image/png": "[encoded data removed]",
      "text/plain": [
       "<Figure size 600x400 with 1 Axes>"
      ]
     },
     "metadata": {},
     "output_type": "display_data"
    },
    {
     "data": {
      "text/html": [
       "\n",
       "<style>\n",
       "    /* Turns off some styling */\n",
       "    progress {\n",
       "        /* gets rid of default border in Firefox and Opera. */\n",
       "        border: none;\n",
       "        /* Needs to be in here for Safari polyfill so background images work as expected. */\n",
       "        background-size: auto;\n",
       "    }\n",
       "    progress:not([value]), progress:not([value])::-webkit-progress-bar {\n",
       "        background: repeating-linear-gradient(45deg, #7e7e7e, #7e7e7e 10px, #5c5c5c 10px, #5c5c5c 20px);\n",
       "    }\n",
       "    .progress-bar-interrupted, .progress-bar-interrupted::-webkit-progress-bar {\n",
       "        background: #F44336;\n",
       "    }\n",
       "</style>\n"
      ],
      "text/plain": [
       "<IPython.core.display.HTML object>"
      ]
     },
     "metadata": {},
     "output_type": "display_data"
    },
    {
     "data": {
      "text/html": [
       "<table border=\"1\" class=\"dataframe\">\n",
       "  <thead>\n",
       "    <tr style=\"text-align: left;\">\n",
       "      <th>TimeR2Score</th>\n",
       "      <th>loss</th>\n",
       "      <th>epoch</th>\n",
       "      <th>train</th>\n",
       "      <th>time</th>\n",
       "    </tr>\n",
       "  </thead>\n",
       "  <tbody>\n",
       "    <tr>\n",
       "      <td>0.897</td>\n",
       "      <td>5.252</td>\n",
       "      <td>0</td>\n",
       "      <td>True</td>\n",
       "      <td>00:04</td>\n",
       "    </tr>\n",
       "    <tr>\n",
       "      <td>0.924</td>\n",
       "      <td>4.156</td>\n",
       "      <td>0</td>\n",
       "      <td>False</td>\n",
       "      <td>00:01</td>\n",
       "    </tr>\n",
       "    <tr>\n",
       "      <td>0.929</td>\n",
       "      <td>3.548</td>\n",
       "      <td>1</td>\n",
       "      <td>True</td>\n",
       "      <td>00:04</td>\n",
       "    </tr>\n",
       "    <tr>\n",
       "      <td>0.951</td>\n",
       "      <td>2.728</td>\n",
       "      <td>1</td>\n",
       "      <td>False</td>\n",
       "      <td>00:01</td>\n",
       "    </tr>\n",
       "    <tr>\n",
       "      <td>0.951</td>\n",
       "      <td>2.391</td>\n",
       "      <td>2</td>\n",
       "      <td>True</td>\n",
       "      <td>00:05</td>\n",
       "    </tr>\n",
       "    <tr>\n",
       "      <td>0.969</td>\n",
       "      <td>1.585</td>\n",
       "      <td>2</td>\n",
       "      <td>False</td>\n",
       "      <td>00:01</td>\n",
       "    </tr>\n",
       "    <tr>\n",
       "      <td>0.969</td>\n",
       "      <td>1.506</td>\n",
       "      <td>3</td>\n",
       "      <td>True</td>\n",
       "      <td>00:04</td>\n",
       "    </tr>\n",
       "    <tr>\n",
       "      <td>0.973</td>\n",
       "      <td>1.370</td>\n",
       "      <td>3</td>\n",
       "      <td>False</td>\n",
       "      <td>00:01</td>\n",
       "    </tr>\n",
       "    <tr>\n",
       "      <td>0.979</td>\n",
       "      <td>0.993</td>\n",
       "      <td>4</td>\n",
       "      <td>True</td>\n",
       "      <td>00:05</td>\n",
       "    </tr>\n",
       "    <tr>\n",
       "      <td>0.981</td>\n",
       "      <td>1.016</td>\n",
       "      <td>4</td>\n",
       "      <td>False</td>\n",
       "      <td>00:01</td>\n",
       "    </tr>\n",
       "  </tbody>\n",
       "</table>"
      ],
      "text/plain": [
       "<IPython.core.display.HTML object>"
      ]
     },
     "metadata": {},
     "output_type": "display_data"
    },
    {
     "data": {
      "image/png": "[encoded data removed]",
      "text/plain": [
       "<Figure size 600x400 with 1 Axes>"
      ]
     },
     "metadata": {},
     "output_type": "display_data"
    },
    {
     "name": "stdout",
     "output_type": "stream",
     "text": [
      "Making inference on test data\n"
     ]
    },
    {
     "data": {
      "text/html": [
       "\n",
       "<style>\n",
       "    /* Turns off some styling */\n",
       "    progress {\n",
       "        /* gets rid of default border in Firefox and Opera. */\n",
       "        border: none;\n",
       "        /* Needs to be in here for Safari polyfill so background images work as expected. */\n",
       "        background-size: auto;\n",
       "    }\n",
       "    progress:not([value]), progress:not([value])::-webkit-progress-bar {\n",
       "        background: repeating-linear-gradient(45deg, #7e7e7e, #7e7e7e 10px, #5c5c5c 10px, #5c5c5c 20px);\n",
       "    }\n",
       "    .progress-bar-interrupted, .progress-bar-interrupted::-webkit-progress-bar {\n",
       "        background: #F44336;\n",
       "    }\n",
       "</style>\n"
      ],
      "text/plain": [
       "<IPython.core.display.HTML object>"
      ]
     },
     "metadata": {},
     "output_type": "display_data"
    },
    {
     "data": {
      "text/html": [
       "<table border=\"1\" class=\"dataframe\">\n",
       "  <thead>\n",
       "    <tr style=\"text-align: left;\">\n",
       "      <th>TimeR2Score</th>\n",
       "      <th>loss</th>\n",
       "      <th>epoch</th>\n",
       "      <th>train</th>\n",
       "      <th>time</th>\n",
       "    </tr>\n",
       "  </thead>\n",
       "  <tbody>\n",
       "    <tr>\n",
       "      <td>0.838</td>\n",
       "      <td>7.564</td>\n",
       "      <td>0</td>\n",
       "      <td>False</td>\n",
       "      <td>00:00</td>\n",
       "    </tr>\n",
       "  </tbody>\n",
       "</table>"
      ],
      "text/plain": [
       "<IPython.core.display.HTML object>"
      ]
     },
     "metadata": {},
     "output_type": "display_data"
    },
    {
     "data": {
      "text/html": [
       "\n",
       "<style>\n",
       "    /* Turns off some styling */\n",
       "    progress {\n",
       "        /* gets rid of default border in Firefox and Opera. */\n",
       "        border: none;\n",
       "        /* Needs to be in here for Safari polyfill so background images work as expected. */\n",
       "        background-size: auto;\n",
       "    }\n",
       "    progress:not([value]), progress:not([value])::-webkit-progress-bar {\n",
       "        background: repeating-linear-gradient(45deg, #7e7e7e, #7e7e7e 10px, #5c5c5c 10px, #5c5c5c 20px);\n",
       "    }\n",
       "    .progress-bar-interrupted, .progress-bar-interrupted::-webkit-progress-bar {\n",
       "        background: #F44336;\n",
       "    }\n",
       "</style>\n"
      ],
      "text/plain": [
       "<IPython.core.display.HTML object>"
      ]
     },
     "metadata": {},
     "output_type": "display_data"
    },
    {
     "data": {
      "text/html": [
       "<table border=\"1\" class=\"dataframe\">\n",
       "  <thead>\n",
       "    <tr style=\"text-align: left;\">\n",
       "      <th>TimeR2Score</th>\n",
       "      <th>loss</th>\n",
       "      <th>epoch</th>\n",
       "      <th>train</th>\n",
       "      <th>time</th>\n",
       "    </tr>\n",
       "  </thead>\n",
       "  <tbody>\n",
       "    <tr>\n",
       "      <td>0.849</td>\n",
       "      <td>7.052</td>\n",
       "      <td>0</td>\n",
       "      <td>False</td>\n",
       "      <td>00:00</td>\n",
       "    </tr>\n",
       "  </tbody>\n",
       "</table>"
      ],
      "text/plain": [
       "<IPython.core.display.HTML object>"
      ]
     },
     "metadata": {},
     "output_type": "display_data"
    },
    {
     "name": "stdout",
     "output_type": "stream",
     "text": [
      "Inference on nascent\n",
      "\t\tpreds, targs\n",
      "tensor([[ 2.2462,  0.0000],\n",
      "        [ 6.0349,  4.0000],\n",
      "        [ 7.3113,  8.0000],\n",
      "        [10.2524, 12.0000],\n",
      "        [13.9813, 16.0000],\n",
      "        [18.4691, 20.0000],\n",
      "        [ 6.3293,  0.0000],\n",
      "        [ 2.4600,  4.0000],\n",
      "        [10.6948,  8.0000],\n",
      "        [10.7646, 12.0000],\n",
      "        [20.0624, 16.0000],\n",
      "        [20.0932, 20.0000]])\n",
      "result:  tensor(0.8449)\n"
     ]
    },
    {
     "data": {
      "text/html": [
       "\n",
       "<style>\n",
       "    /* Turns off some styling */\n",
       "    progress {\n",
       "        /* gets rid of default border in Firefox and Opera. */\n",
       "        border: none;\n",
       "        /* Needs to be in here for Safari polyfill so background images work as expected. */\n",
       "        background-size: auto;\n",
       "    }\n",
       "    progress:not([value]), progress:not([value])::-webkit-progress-bar {\n",
       "        background: repeating-linear-gradient(45deg, #7e7e7e, #7e7e7e 10px, #5c5c5c 10px, #5c5c5c 20px);\n",
       "    }\n",
       "    .progress-bar-interrupted, .progress-bar-interrupted::-webkit-progress-bar {\n",
       "        background: #F44336;\n",
       "    }\n",
       "</style>\n"
      ],
      "text/plain": [
       "<IPython.core.display.HTML object>"
      ]
     },
     "metadata": {},
     "output_type": "display_data"
    },
    {
     "data": {
      "text/html": [
       "<table border=\"1\" class=\"dataframe\">\n",
       "  <thead>\n",
       "    <tr style=\"text-align: left;\">\n",
       "      <th>TimeR2Score</th>\n",
       "      <th>loss</th>\n",
       "      <th>epoch</th>\n",
       "      <th>train</th>\n",
       "      <th>time</th>\n",
       "    </tr>\n",
       "  </thead>\n",
       "  <tbody>\n",
       "    <tr>\n",
       "      <td>0.697</td>\n",
       "      <td>14.297</td>\n",
       "      <td>0</td>\n",
       "      <td>False</td>\n",
       "      <td>00:00</td>\n",
       "    </tr>\n",
       "  </tbody>\n",
       "</table>"
      ],
      "text/plain": [
       "<IPython.core.display.HTML object>"
      ]
     },
     "metadata": {},
     "output_type": "display_data"
    },
    {
     "data": {
      "text/html": [
       "\n",
       "<style>\n",
       "    /* Turns off some styling */\n",
       "    progress {\n",
       "        /* gets rid of default border in Firefox and Opera. */\n",
       "        border: none;\n",
       "        /* Needs to be in here for Safari polyfill so background images work as expected. */\n",
       "        background-size: auto;\n",
       "    }\n",
       "    progress:not([value]), progress:not([value])::-webkit-progress-bar {\n",
       "        background: repeating-linear-gradient(45deg, #7e7e7e, #7e7e7e 10px, #5c5c5c 10px, #5c5c5c 20px);\n",
       "    }\n",
       "    .progress-bar-interrupted, .progress-bar-interrupted::-webkit-progress-bar {\n",
       "        background: #F44336;\n",
       "    }\n",
       "</style>\n"
      ],
      "text/plain": [
       "<IPython.core.display.HTML object>"
      ]
     },
     "metadata": {},
     "output_type": "display_data"
    },
    {
     "data": {
      "text/html": [
       "<table border=\"1\" class=\"dataframe\">\n",
       "  <thead>\n",
       "    <tr style=\"text-align: left;\">\n",
       "      <th>TimeR2Score</th>\n",
       "      <th>loss</th>\n",
       "      <th>epoch</th>\n",
       "      <th>train</th>\n",
       "      <th>time</th>\n",
       "    </tr>\n",
       "  </thead>\n",
       "  <tbody>\n",
       "    <tr>\n",
       "      <td>0.580</td>\n",
       "      <td>21.272</td>\n",
       "      <td>0</td>\n",
       "      <td>False</td>\n",
       "      <td>00:00</td>\n",
       "    </tr>\n",
       "  </tbody>\n",
       "</table>"
      ],
      "text/plain": [
       "<IPython.core.display.HTML object>"
      ]
     },
     "metadata": {},
     "output_type": "display_data"
    },
    {
     "name": "stdout",
     "output_type": "stream",
     "text": [
      "Inference on gro\n",
      "\t\tpreds, targs\n",
      "tensor([[12.2225,  1.0000],\n",
      "        [ 4.7246,  4.0000],\n",
      "        [ 7.9529,  7.0000],\n",
      "        [ 9.5663, 10.0000],\n",
      "        [13.9933, 13.0000],\n",
      "        [14.3339, 16.0000],\n",
      "        [18.4002, 19.0000],\n",
      "        [19.0180, 22.0000]])\n",
      "result:  tensor(0.6281)\n"
     ]
    },
    {
     "data": {
      "text/html": [
       "\n",
       "<style>\n",
       "    /* Turns off some styling */\n",
       "    progress {\n",
       "        /* gets rid of default border in Firefox and Opera. */\n",
       "        border: none;\n",
       "        /* Needs to be in here for Safari polyfill so background images work as expected. */\n",
       "        background-size: auto;\n",
       "    }\n",
       "    progress:not([value]), progress:not([value])::-webkit-progress-bar {\n",
       "        background: repeating-linear-gradient(45deg, #7e7e7e, #7e7e7e 10px, #5c5c5c 10px, #5c5c5c 20px);\n",
       "    }\n",
       "    .progress-bar-interrupted, .progress-bar-interrupted::-webkit-progress-bar {\n",
       "        background: #F44336;\n",
       "    }\n",
       "</style>\n"
      ],
      "text/plain": [
       "<IPython.core.display.HTML object>"
      ]
     },
     "metadata": {},
     "output_type": "display_data"
    },
    {
     "data": {
      "text/html": [
       "<table border=\"1\" class=\"dataframe\">\n",
       "  <thead>\n",
       "    <tr style=\"text-align: left;\">\n",
       "      <th>TimeR2Score</th>\n",
       "      <th>loss</th>\n",
       "      <th>epoch</th>\n",
       "      <th>train</th>\n",
       "      <th>time</th>\n",
       "    </tr>\n",
       "  </thead>\n",
       "  <tbody>\n",
       "    <tr>\n",
       "      <td>0.851</td>\n",
       "      <td>6.963</td>\n",
       "      <td>0</td>\n",
       "      <td>False</td>\n",
       "      <td>00:00</td>\n",
       "    </tr>\n",
       "  </tbody>\n",
       "</table>"
      ],
      "text/plain": [
       "<IPython.core.display.HTML object>"
      ]
     },
     "metadata": {},
     "output_type": "display_data"
    },
    {
     "data": {
      "text/html": [
       "\n",
       "<style>\n",
       "    /* Turns off some styling */\n",
       "    progress {\n",
       "        /* gets rid of default border in Firefox and Opera. */\n",
       "        border: none;\n",
       "        /* Needs to be in here for Safari polyfill so background images work as expected. */\n",
       "        background-size: auto;\n",
       "    }\n",
       "    progress:not([value]), progress:not([value])::-webkit-progress-bar {\n",
       "        background: repeating-linear-gradient(45deg, #7e7e7e, #7e7e7e 10px, #5c5c5c 10px, #5c5c5c 20px);\n",
       "    }\n",
       "    .progress-bar-interrupted, .progress-bar-interrupted::-webkit-progress-bar {\n",
       "        background: #F44336;\n",
       "    }\n",
       "</style>\n"
      ],
      "text/plain": [
       "<IPython.core.display.HTML object>"
      ]
     },
     "metadata": {},
     "output_type": "display_data"
    },
    {
     "data": {
      "text/html": [
       "<table border=\"1\" class=\"dataframe\">\n",
       "  <thead>\n",
       "    <tr style=\"text-align: left;\">\n",
       "      <th>TimeR2Score</th>\n",
       "      <th>loss</th>\n",
       "      <th>epoch</th>\n",
       "      <th>train</th>\n",
       "      <th>time</th>\n",
       "    </tr>\n",
       "  </thead>\n",
       "  <tbody>\n",
       "    <tr>\n",
       "      <td>0.861</td>\n",
       "      <td>6.497</td>\n",
       "      <td>0</td>\n",
       "      <td>False</td>\n",
       "      <td>00:00</td>\n",
       "    </tr>\n",
       "  </tbody>\n",
       "</table>"
      ],
      "text/plain": [
       "<IPython.core.display.HTML object>"
      ]
     },
     "metadata": {},
     "output_type": "display_data"
    },
    {
     "name": "stdout",
     "output_type": "stream",
     "text": [
      "Inference on rna\n",
      "\t\tpreds, targs\n",
      "tensor([[ 2.1968,  2.0000],\n",
      "        [ 7.2755,  6.0000],\n",
      "        [ 9.1036, 10.0000],\n",
      "        [13.7210, 14.0000],\n",
      "        [18.6598, 18.0000],\n",
      "        [21.0190, 22.0000],\n",
      "        [ 3.7667,  2.0000],\n",
      "        [ 7.1423,  6.0000],\n",
      "        [10.4694, 10.0000],\n",
      "        [11.4106, 14.0000],\n",
      "        [19.5520, 18.0000],\n",
      "        [14.1696, 22.0000]])\n",
      "result:  tensor(0.8589)\n"
     ]
    },
    {
     "data": {
      "text/html": [
       "\n",
       "<style>\n",
       "    /* Turns off some styling */\n",
       "    progress {\n",
       "        /* gets rid of default border in Firefox and Opera. */\n",
       "        border: none;\n",
       "        /* Needs to be in here for Safari polyfill so background images work as expected. */\n",
       "        background-size: auto;\n",
       "    }\n",
       "    progress:not([value]), progress:not([value])::-webkit-progress-bar {\n",
       "        background: repeating-linear-gradient(45deg, #7e7e7e, #7e7e7e 10px, #5c5c5c 10px, #5c5c5c 20px);\n",
       "    }\n",
       "    .progress-bar-interrupted, .progress-bar-interrupted::-webkit-progress-bar {\n",
       "        background: #F44336;\n",
       "    }\n",
       "</style>\n"
      ],
      "text/plain": [
       "<IPython.core.display.HTML object>"
      ]
     },
     "metadata": {},
     "output_type": "display_data"
    },
    {
     "data": {
      "text/html": [
       "<table border=\"1\" class=\"dataframe\">\n",
       "  <thead>\n",
       "    <tr style=\"text-align: left;\">\n",
       "      <th>TimeR2Score</th>\n",
       "      <th>loss</th>\n",
       "      <th>epoch</th>\n",
       "      <th>train</th>\n",
       "      <th>time</th>\n",
       "    </tr>\n",
       "  </thead>\n",
       "  <tbody>\n",
       "    <tr>\n",
       "      <td>0.787</td>\n",
       "      <td>121.353</td>\n",
       "      <td>0</td>\n",
       "      <td>False</td>\n",
       "      <td>00:05</td>\n",
       "    </tr>\n",
       "  </tbody>\n",
       "</table>"
      ],
      "text/plain": [
       "<IPython.core.display.HTML object>"
      ]
     },
     "metadata": {},
     "output_type": "display_data"
    },
    {
     "data": {
      "text/html": [
       "\n",
       "<style>\n",
       "    /* Turns off some styling */\n",
       "    progress {\n",
       "        /* gets rid of default border in Firefox and Opera. */\n",
       "        border: none;\n",
       "        /* Needs to be in here for Safari polyfill so background images work as expected. */\n",
       "        background-size: auto;\n",
       "    }\n",
       "    progress:not([value]), progress:not([value])::-webkit-progress-bar {\n",
       "        background: repeating-linear-gradient(45deg, #7e7e7e, #7e7e7e 10px, #5c5c5c 10px, #5c5c5c 20px);\n",
       "    }\n",
       "    .progress-bar-interrupted, .progress-bar-interrupted::-webkit-progress-bar {\n",
       "        background: #F44336;\n",
       "    }\n",
       "</style>\n"
      ],
      "text/plain": [
       "<IPython.core.display.HTML object>"
      ]
     },
     "metadata": {},
     "output_type": "display_data"
    },
    {
     "data": {
      "text/html": [
       "<table border=\"1\" class=\"dataframe\">\n",
       "  <thead>\n",
       "    <tr style=\"text-align: left;\">\n",
       "      <th>TimeR2Score</th>\n",
       "      <th>loss</th>\n",
       "      <th>epoch</th>\n",
       "      <th>train</th>\n",
       "      <th>time</th>\n",
       "    </tr>\n",
       "  </thead>\n",
       "  <tbody>\n",
       "    <tr>\n",
       "      <td>0.777</td>\n",
       "      <td>124.235</td>\n",
       "      <td>0</td>\n",
       "      <td>False</td>\n",
       "      <td>00:05</td>\n",
       "    </tr>\n",
       "  </tbody>\n",
       "</table>"
      ],
      "text/plain": [
       "<IPython.core.display.HTML object>"
      ]
     },
     "metadata": {},
     "output_type": "display_data"
    },
    {
     "name": "stdout",
     "output_type": "stream",
     "text": [
      "Inference on more\n",
      "\t\tpreds, targs\n",
      "tensor([[15.3798, 22.0000],\n",
      "        [16.9501, 22.0000],\n",
      "        [ 9.1870, 10.0000],\n",
      "        ...,\n",
      "        [20.0385, 19.5000],\n",
      "        [10.4587,  7.5000],\n",
      "        [10.7880, 13.5000]])\n",
      "result:  tensor(0.7814)\n"
     ]
    }
   ],
   "source": [
    "lr, epochs = .3, 5\n",
    "tmax = epochs * len(dls.train)\n",
    "sched = partial(lr_scheduler.OneCycleLR, max_lr=lr, total_steps=tmax)\n",
    "xtra = [BatchSchedCB(sched)]\n",
    "preds = ensemble_model(nlearn, get_model, epochs=epochs, lr=lr, cbs=cbs+xtra, opt_func=optim.AdamW)"
   ]
  },
  {
   "cell_type": "code",
   "execution_count": 75,
   "metadata": {
    "colab": {
     "base_uri": "https://localhost:8080/",
     "height": 1000
    },
    "id": "8LwFjXn52VNY",
    "outputId": "33e3dfa0-e815-419e-f8ec-d7b8d7847c6b",
    "scrolled": false
   },
   "outputs": [
    {
     "name": "stdout",
     "output_type": "stream",
     "text": [
      "Training models\n"
     ]
    },
    {
     "data": {
      "text/html": [
       "\n",
       "<style>\n",
       "    /* Turns off some styling */\n",
       "    progress {\n",
       "        /* gets rid of default border in Firefox and Opera. */\n",
       "        border: none;\n",
       "        /* Needs to be in here for Safari polyfill so background images work as expected. */\n",
       "        background-size: auto;\n",
       "    }\n",
       "    progress:not([value]), progress:not([value])::-webkit-progress-bar {\n",
       "        background: repeating-linear-gradient(45deg, #7e7e7e, #7e7e7e 10px, #5c5c5c 10px, #5c5c5c 20px);\n",
       "    }\n",
       "    .progress-bar-interrupted, .progress-bar-interrupted::-webkit-progress-bar {\n",
       "        background: #F44336;\n",
       "    }\n",
       "</style>\n"
      ],
      "text/plain": [
       "<IPython.core.display.HTML object>"
      ]
     },
     "metadata": {},
     "output_type": "display_data"
    },
    {
     "data": {
      "text/html": [
       "<table border=\"1\" class=\"dataframe\">\n",
       "  <thead>\n",
       "    <tr style=\"text-align: left;\">\n",
       "      <th>TimeR2Score</th>\n",
       "      <th>loss</th>\n",
       "      <th>epoch</th>\n",
       "      <th>train</th>\n",
       "      <th>time</th>\n",
       "    </tr>\n",
       "  </thead>\n",
       "  <tbody>\n",
       "    <tr>\n",
       "      <td>0.889</td>\n",
       "      <td>5.474</td>\n",
       "      <td>0</td>\n",
       "      <td>True</td>\n",
       "      <td>00:03</td>\n",
       "    </tr>\n",
       "    <tr>\n",
       "      <td>0.963</td>\n",
       "      <td>1.998</td>\n",
       "      <td>0</td>\n",
       "      <td>False</td>\n",
       "      <td>00:00</td>\n",
       "    </tr>\n",
       "    <tr>\n",
       "      <td>0.953</td>\n",
       "      <td>2.365</td>\n",
       "      <td>1</td>\n",
       "      <td>True</td>\n",
       "      <td>00:02</td>\n",
       "    </tr>\n",
       "    <tr>\n",
       "      <td>0.962</td>\n",
       "      <td>2.163</td>\n",
       "      <td>1</td>\n",
       "      <td>False</td>\n",
       "      <td>00:00</td>\n",
       "    </tr>\n",
       "    <tr>\n",
       "      <td>0.963</td>\n",
       "      <td>1.805</td>\n",
       "      <td>2</td>\n",
       "      <td>True</td>\n",
       "      <td>00:02</td>\n",
       "    </tr>\n",
       "    <tr>\n",
       "      <td>0.969</td>\n",
       "      <td>1.752</td>\n",
       "      <td>2</td>\n",
       "      <td>False</td>\n",
       "      <td>00:00</td>\n",
       "    </tr>\n",
       "    <tr>\n",
       "      <td>0.978</td>\n",
       "      <td>1.029</td>\n",
       "      <td>3</td>\n",
       "      <td>True</td>\n",
       "      <td>00:02</td>\n",
       "    </tr>\n",
       "    <tr>\n",
       "      <td>0.983</td>\n",
       "      <td>0.942</td>\n",
       "      <td>3</td>\n",
       "      <td>False</td>\n",
       "      <td>00:00</td>\n",
       "    </tr>\n",
       "    <tr>\n",
       "      <td>0.983</td>\n",
       "      <td>0.856</td>\n",
       "      <td>4</td>\n",
       "      <td>True</td>\n",
       "      <td>00:03</td>\n",
       "    </tr>\n",
       "    <tr>\n",
       "      <td>0.984</td>\n",
       "      <td>0.838</td>\n",
       "      <td>4</td>\n",
       "      <td>False</td>\n",
       "      <td>00:01</td>\n",
       "    </tr>\n",
       "    <tr>\n",
       "      <td>0.985</td>\n",
       "      <td>0.712</td>\n",
       "      <td>5</td>\n",
       "      <td>True</td>\n",
       "      <td>00:03</td>\n",
       "    </tr>\n",
       "    <tr>\n",
       "      <td>0.983</td>\n",
       "      <td>0.869</td>\n",
       "      <td>5</td>\n",
       "      <td>False</td>\n",
       "      <td>00:00</td>\n",
       "    </tr>\n",
       "  </tbody>\n",
       "</table>"
      ],
      "text/plain": [
       "<IPython.core.display.HTML object>"
      ]
     },
     "metadata": {},
     "output_type": "display_data"
    },
    {
     "data": {
      "image/png": "[encoded data removed]",
      "text/plain": [
       "<Figure size 600x400 with 1 Axes>"
      ]
     },
     "metadata": {},
     "output_type": "display_data"
    },
    {
     "data": {
      "text/html": [
       "\n",
       "<style>\n",
       "    /* Turns off some styling */\n",
       "    progress {\n",
       "        /* gets rid of default border in Firefox and Opera. */\n",
       "        border: none;\n",
       "        /* Needs to be in here for Safari polyfill so background images work as expected. */\n",
       "        background-size: auto;\n",
       "    }\n",
       "    progress:not([value]), progress:not([value])::-webkit-progress-bar {\n",
       "        background: repeating-linear-gradient(45deg, #7e7e7e, #7e7e7e 10px, #5c5c5c 10px, #5c5c5c 20px);\n",
       "    }\n",
       "    .progress-bar-interrupted, .progress-bar-interrupted::-webkit-progress-bar {\n",
       "        background: #F44336;\n",
       "    }\n",
       "</style>\n"
      ],
      "text/plain": [
       "<IPython.core.display.HTML object>"
      ]
     },
     "metadata": {},
     "output_type": "display_data"
    },
    {
     "data": {
      "text/html": [
       "<table border=\"1\" class=\"dataframe\">\n",
       "  <thead>\n",
       "    <tr style=\"text-align: left;\">\n",
       "      <th>TimeR2Score</th>\n",
       "      <th>loss</th>\n",
       "      <th>epoch</th>\n",
       "      <th>train</th>\n",
       "      <th>time</th>\n",
       "    </tr>\n",
       "  </thead>\n",
       "  <tbody>\n",
       "    <tr>\n",
       "      <td>0.893</td>\n",
       "      <td>5.338</td>\n",
       "      <td>0</td>\n",
       "      <td>True</td>\n",
       "      <td>00:02</td>\n",
       "    </tr>\n",
       "    <tr>\n",
       "      <td>0.962</td>\n",
       "      <td>2.124</td>\n",
       "      <td>0</td>\n",
       "      <td>False</td>\n",
       "      <td>00:00</td>\n",
       "    </tr>\n",
       "    <tr>\n",
       "      <td>0.953</td>\n",
       "      <td>2.275</td>\n",
       "      <td>1</td>\n",
       "      <td>True</td>\n",
       "      <td>00:02</td>\n",
       "    </tr>\n",
       "    <tr>\n",
       "      <td>0.965</td>\n",
       "      <td>1.912</td>\n",
       "      <td>1</td>\n",
       "      <td>False</td>\n",
       "      <td>00:01</td>\n",
       "    </tr>\n",
       "    <tr>\n",
       "      <td>0.966</td>\n",
       "      <td>1.638</td>\n",
       "      <td>2</td>\n",
       "      <td>True</td>\n",
       "      <td>00:03</td>\n",
       "    </tr>\n",
       "    <tr>\n",
       "      <td>0.979</td>\n",
       "      <td>1.226</td>\n",
       "      <td>2</td>\n",
       "      <td>False</td>\n",
       "      <td>00:00</td>\n",
       "    </tr>\n",
       "    <tr>\n",
       "      <td>0.979</td>\n",
       "      <td>0.980</td>\n",
       "      <td>3</td>\n",
       "      <td>True</td>\n",
       "      <td>00:02</td>\n",
       "    </tr>\n",
       "    <tr>\n",
       "      <td>0.985</td>\n",
       "      <td>0.752</td>\n",
       "      <td>3</td>\n",
       "      <td>False</td>\n",
       "      <td>00:00</td>\n",
       "    </tr>\n",
       "    <tr>\n",
       "      <td>0.984</td>\n",
       "      <td>0.739</td>\n",
       "      <td>4</td>\n",
       "      <td>True</td>\n",
       "      <td>00:02</td>\n",
       "    </tr>\n",
       "    <tr>\n",
       "      <td>0.987</td>\n",
       "      <td>0.641</td>\n",
       "      <td>4</td>\n",
       "      <td>False</td>\n",
       "      <td>00:00</td>\n",
       "    </tr>\n",
       "    <tr>\n",
       "      <td>0.986</td>\n",
       "      <td>0.644</td>\n",
       "      <td>5</td>\n",
       "      <td>True</td>\n",
       "      <td>00:02</td>\n",
       "    </tr>\n",
       "    <tr>\n",
       "      <td>0.988</td>\n",
       "      <td>0.604</td>\n",
       "      <td>5</td>\n",
       "      <td>False</td>\n",
       "      <td>00:00</td>\n",
       "    </tr>\n",
       "  </tbody>\n",
       "</table>"
      ],
      "text/plain": [
       "<IPython.core.display.HTML object>"
      ]
     },
     "metadata": {},
     "output_type": "display_data"
    },
    {
     "data": {
      "image/png": "[encoded data removed]",
      "text/plain": [
       "<Figure size 600x400 with 1 Axes>"
      ]
     },
     "metadata": {},
     "output_type": "display_data"
    },
    {
     "name": "stdout",
     "output_type": "stream",
     "text": [
      "Making inference on test data\n"
     ]
    },
    {
     "data": {
      "text/html": [
       "\n",
       "<style>\n",
       "    /* Turns off some styling */\n",
       "    progress {\n",
       "        /* gets rid of default border in Firefox and Opera. */\n",
       "        border: none;\n",
       "        /* Needs to be in here for Safari polyfill so background images work as expected. */\n",
       "        background-size: auto;\n",
       "    }\n",
       "    progress:not([value]), progress:not([value])::-webkit-progress-bar {\n",
       "        background: repeating-linear-gradient(45deg, #7e7e7e, #7e7e7e 10px, #5c5c5c 10px, #5c5c5c 20px);\n",
       "    }\n",
       "    .progress-bar-interrupted, .progress-bar-interrupted::-webkit-progress-bar {\n",
       "        background: #F44336;\n",
       "    }\n",
       "</style>\n"
      ],
      "text/plain": [
       "<IPython.core.display.HTML object>"
      ]
     },
     "metadata": {},
     "output_type": "display_data"
    },
    {
     "data": {
      "text/html": [
       "<table border=\"1\" class=\"dataframe\">\n",
       "  <thead>\n",
       "    <tr style=\"text-align: left;\">\n",
       "      <th>TimeR2Score</th>\n",
       "      <th>loss</th>\n",
       "      <th>epoch</th>\n",
       "      <th>train</th>\n",
       "      <th>time</th>\n",
       "    </tr>\n",
       "  </thead>\n",
       "  <tbody>\n",
       "    <tr>\n",
       "      <td>0.847</td>\n",
       "      <td>7.128</td>\n",
       "      <td>0</td>\n",
       "      <td>False</td>\n",
       "      <td>00:00</td>\n",
       "    </tr>\n",
       "  </tbody>\n",
       "</table>"
      ],
      "text/plain": [
       "<IPython.core.display.HTML object>"
      ]
     },
     "metadata": {},
     "output_type": "display_data"
    },
    {
     "data": {
      "text/html": [
       "\n",
       "<style>\n",
       "    /* Turns off some styling */\n",
       "    progress {\n",
       "        /* gets rid of default border in Firefox and Opera. */\n",
       "        border: none;\n",
       "        /* Needs to be in here for Safari polyfill so background images work as expected. */\n",
       "        background-size: auto;\n",
       "    }\n",
       "    progress:not([value]), progress:not([value])::-webkit-progress-bar {\n",
       "        background: repeating-linear-gradient(45deg, #7e7e7e, #7e7e7e 10px, #5c5c5c 10px, #5c5c5c 20px);\n",
       "    }\n",
       "    .progress-bar-interrupted, .progress-bar-interrupted::-webkit-progress-bar {\n",
       "        background: #F44336;\n",
       "    }\n",
       "</style>\n"
      ],
      "text/plain": [
       "<IPython.core.display.HTML object>"
      ]
     },
     "metadata": {},
     "output_type": "display_data"
    },
    {
     "data": {
      "text/html": [
       "<table border=\"1\" class=\"dataframe\">\n",
       "  <thead>\n",
       "    <tr style=\"text-align: left;\">\n",
       "      <th>TimeR2Score</th>\n",
       "      <th>loss</th>\n",
       "      <th>epoch</th>\n",
       "      <th>train</th>\n",
       "      <th>time</th>\n",
       "    </tr>\n",
       "  </thead>\n",
       "  <tbody>\n",
       "    <tr>\n",
       "      <td>0.876</td>\n",
       "      <td>5.763</td>\n",
       "      <td>0</td>\n",
       "      <td>False</td>\n",
       "      <td>00:00</td>\n",
       "    </tr>\n",
       "  </tbody>\n",
       "</table>"
      ],
      "text/plain": [
       "<IPython.core.display.HTML object>"
      ]
     },
     "metadata": {},
     "output_type": "display_data"
    },
    {
     "name": "stdout",
     "output_type": "stream",
     "text": [
      "Inference on nascent\n",
      "\t\tpreds, targs\n",
      "tensor([[ 2.1313,  0.0000],\n",
      "        [ 5.9040,  4.0000],\n",
      "        [ 7.0677,  8.0000],\n",
      "        [10.0401, 12.0000],\n",
      "        [13.7712, 16.0000],\n",
      "        [18.1553, 20.0000],\n",
      "        [ 5.0367,  0.0000],\n",
      "        [ 2.8203,  4.0000],\n",
      "        [10.8214,  8.0000],\n",
      "        [10.3204, 12.0000],\n",
      "        [20.0891, 16.0000],\n",
      "        [19.5452, 20.0000]])\n",
      "result:  tensor(0.8648)\n"
     ]
    },
    {
     "data": {
      "text/html": [
       "\n",
       "<style>\n",
       "    /* Turns off some styling */\n",
       "    progress {\n",
       "        /* gets rid of default border in Firefox and Opera. */\n",
       "        border: none;\n",
       "        /* Needs to be in here for Safari polyfill so background images work as expected. */\n",
       "        background-size: auto;\n",
       "    }\n",
       "    progress:not([value]), progress:not([value])::-webkit-progress-bar {\n",
       "        background: repeating-linear-gradient(45deg, #7e7e7e, #7e7e7e 10px, #5c5c5c 10px, #5c5c5c 20px);\n",
       "    }\n",
       "    .progress-bar-interrupted, .progress-bar-interrupted::-webkit-progress-bar {\n",
       "        background: #F44336;\n",
       "    }\n",
       "</style>\n"
      ],
      "text/plain": [
       "<IPython.core.display.HTML object>"
      ]
     },
     "metadata": {},
     "output_type": "display_data"
    },
    {
     "data": {
      "text/html": [
       "<table border=\"1\" class=\"dataframe\">\n",
       "  <thead>\n",
       "    <tr style=\"text-align: left;\">\n",
       "      <th>TimeR2Score</th>\n",
       "      <th>loss</th>\n",
       "      <th>epoch</th>\n",
       "      <th>train</th>\n",
       "      <th>time</th>\n",
       "    </tr>\n",
       "  </thead>\n",
       "  <tbody>\n",
       "    <tr>\n",
       "      <td>0.692</td>\n",
       "      <td>28.361</td>\n",
       "      <td>0</td>\n",
       "      <td>False</td>\n",
       "      <td>00:00</td>\n",
       "    </tr>\n",
       "  </tbody>\n",
       "</table>"
      ],
      "text/plain": [
       "<IPython.core.display.HTML object>"
      ]
     },
     "metadata": {},
     "output_type": "display_data"
    },
    {
     "data": {
      "text/html": [
       "\n",
       "<style>\n",
       "    /* Turns off some styling */\n",
       "    progress {\n",
       "        /* gets rid of default border in Firefox and Opera. */\n",
       "        border: none;\n",
       "        /* Needs to be in here for Safari polyfill so background images work as expected. */\n",
       "        background-size: auto;\n",
       "    }\n",
       "    progress:not([value]), progress:not([value])::-webkit-progress-bar {\n",
       "        background: repeating-linear-gradient(45deg, #7e7e7e, #7e7e7e 10px, #5c5c5c 10px, #5c5c5c 20px);\n",
       "    }\n",
       "    .progress-bar-interrupted, .progress-bar-interrupted::-webkit-progress-bar {\n",
       "        background: #F44336;\n",
       "    }\n",
       "</style>\n"
      ],
      "text/plain": [
       "<IPython.core.display.HTML object>"
      ]
     },
     "metadata": {},
     "output_type": "display_data"
    },
    {
     "data": {
      "text/html": [
       "<table border=\"1\" class=\"dataframe\">\n",
       "  <thead>\n",
       "    <tr style=\"text-align: left;\">\n",
       "      <th>TimeR2Score</th>\n",
       "      <th>loss</th>\n",
       "      <th>epoch</th>\n",
       "      <th>train</th>\n",
       "      <th>time</th>\n",
       "    </tr>\n",
       "  </thead>\n",
       "  <tbody>\n",
       "    <tr>\n",
       "      <td>0.665</td>\n",
       "      <td>23.601</td>\n",
       "      <td>0</td>\n",
       "      <td>False</td>\n",
       "      <td>00:00</td>\n",
       "    </tr>\n",
       "  </tbody>\n",
       "</table>"
      ],
      "text/plain": [
       "<IPython.core.display.HTML object>"
      ]
     },
     "metadata": {},
     "output_type": "display_data"
    },
    {
     "name": "stdout",
     "output_type": "stream",
     "text": [
      "Inference on gro\n",
      "\t\tpreds, targs\n",
      "tensor([[14.7986,  1.0000],\n",
      "        [ 5.5449,  4.0000],\n",
      "        [ 7.0761,  7.0000],\n",
      "        [ 9.5293, 10.0000],\n",
      "        [13.7671, 13.0000],\n",
      "        [13.7460, 16.0000],\n",
      "        [18.4909, 19.0000],\n",
      "        [19.2210, 22.0000]])\n",
      "result:  tensor(0.6817)\n"
     ]
    },
    {
     "data": {
      "text/html": [
       "\n",
       "<style>\n",
       "    /* Turns off some styling */\n",
       "    progress {\n",
       "        /* gets rid of default border in Firefox and Opera. */\n",
       "        border: none;\n",
       "        /* Needs to be in here for Safari polyfill so background images work as expected. */\n",
       "        background-size: auto;\n",
       "    }\n",
       "    progress:not([value]), progress:not([value])::-webkit-progress-bar {\n",
       "        background: repeating-linear-gradient(45deg, #7e7e7e, #7e7e7e 10px, #5c5c5c 10px, #5c5c5c 20px);\n",
       "    }\n",
       "    .progress-bar-interrupted, .progress-bar-interrupted::-webkit-progress-bar {\n",
       "        background: #F44336;\n",
       "    }\n",
       "</style>\n"
      ],
      "text/plain": [
       "<IPython.core.display.HTML object>"
      ]
     },
     "metadata": {},
     "output_type": "display_data"
    },
    {
     "data": {
      "text/html": [
       "<table border=\"1\" class=\"dataframe\">\n",
       "  <thead>\n",
       "    <tr style=\"text-align: left;\">\n",
       "      <th>TimeR2Score</th>\n",
       "      <th>loss</th>\n",
       "      <th>epoch</th>\n",
       "      <th>train</th>\n",
       "      <th>time</th>\n",
       "    </tr>\n",
       "  </thead>\n",
       "  <tbody>\n",
       "    <tr>\n",
       "      <td>0.868</td>\n",
       "      <td>6.165</td>\n",
       "      <td>0</td>\n",
       "      <td>False</td>\n",
       "      <td>00:00</td>\n",
       "    </tr>\n",
       "  </tbody>\n",
       "</table>"
      ],
      "text/plain": [
       "<IPython.core.display.HTML object>"
      ]
     },
     "metadata": {},
     "output_type": "display_data"
    },
    {
     "data": {
      "text/html": [
       "\n",
       "<style>\n",
       "    /* Turns off some styling */\n",
       "    progress {\n",
       "        /* gets rid of default border in Firefox and Opera. */\n",
       "        border: none;\n",
       "        /* Needs to be in here for Safari polyfill so background images work as expected. */\n",
       "        background-size: auto;\n",
       "    }\n",
       "    progress:not([value]), progress:not([value])::-webkit-progress-bar {\n",
       "        background: repeating-linear-gradient(45deg, #7e7e7e, #7e7e7e 10px, #5c5c5c 10px, #5c5c5c 20px);\n",
       "    }\n",
       "    .progress-bar-interrupted, .progress-bar-interrupted::-webkit-progress-bar {\n",
       "        background: #F44336;\n",
       "    }\n",
       "</style>\n"
      ],
      "text/plain": [
       "<IPython.core.display.HTML object>"
      ]
     },
     "metadata": {},
     "output_type": "display_data"
    },
    {
     "data": {
      "text/html": [
       "<table border=\"1\" class=\"dataframe\">\n",
       "  <thead>\n",
       "    <tr style=\"text-align: left;\">\n",
       "      <th>TimeR2Score</th>\n",
       "      <th>loss</th>\n",
       "      <th>epoch</th>\n",
       "      <th>train</th>\n",
       "      <th>time</th>\n",
       "    </tr>\n",
       "  </thead>\n",
       "  <tbody>\n",
       "    <tr>\n",
       "      <td>0.748</td>\n",
       "      <td>15.219</td>\n",
       "      <td>0</td>\n",
       "      <td>False</td>\n",
       "      <td>00:00</td>\n",
       "    </tr>\n",
       "  </tbody>\n",
       "</table>"
      ],
      "text/plain": [
       "<IPython.core.display.HTML object>"
      ]
     },
     "metadata": {},
     "output_type": "display_data"
    },
    {
     "name": "stdout",
     "output_type": "stream",
     "text": [
      "Inference on rna\n",
      "\t\tpreds, targs\n",
      "tensor([[ 1.6553,  2.0000],\n",
      "        [ 6.9343,  6.0000],\n",
      "        [ 9.5699, 10.0000],\n",
      "        [13.5111, 14.0000],\n",
      "        [19.0466, 18.0000],\n",
      "        [20.8883, 22.0000],\n",
      "        [ 2.6115,  2.0000],\n",
      "        [ 6.9862,  6.0000],\n",
      "        [10.2864, 10.0000],\n",
      "        [11.2731, 14.0000],\n",
      "        [19.4725, 18.0000],\n",
      "        [11.6975, 22.0000]])\n",
      "result:  tensor(0.7841)\n"
     ]
    },
    {
     "data": {
      "text/html": [
       "\n",
       "<style>\n",
       "    /* Turns off some styling */\n",
       "    progress {\n",
       "        /* gets rid of default border in Firefox and Opera. */\n",
       "        border: none;\n",
       "        /* Needs to be in here for Safari polyfill so background images work as expected. */\n",
       "        background-size: auto;\n",
       "    }\n",
       "    progress:not([value]), progress:not([value])::-webkit-progress-bar {\n",
       "        background: repeating-linear-gradient(45deg, #7e7e7e, #7e7e7e 10px, #5c5c5c 10px, #5c5c5c 20px);\n",
       "    }\n",
       "    .progress-bar-interrupted, .progress-bar-interrupted::-webkit-progress-bar {\n",
       "        background: #F44336;\n",
       "    }\n",
       "</style>\n"
      ],
      "text/plain": [
       "<IPython.core.display.HTML object>"
      ]
     },
     "metadata": {},
     "output_type": "display_data"
    },
    {
     "data": {
      "text/html": [
       "<table border=\"1\" class=\"dataframe\">\n",
       "  <thead>\n",
       "    <tr style=\"text-align: left;\">\n",
       "      <th>TimeR2Score</th>\n",
       "      <th>loss</th>\n",
       "      <th>epoch</th>\n",
       "      <th>train</th>\n",
       "      <th>time</th>\n",
       "    </tr>\n",
       "  </thead>\n",
       "  <tbody>\n",
       "    <tr>\n",
       "      <td>0.775</td>\n",
       "      <td>119.207</td>\n",
       "      <td>0</td>\n",
       "      <td>False</td>\n",
       "      <td>00:02</td>\n",
       "    </tr>\n",
       "  </tbody>\n",
       "</table>"
      ],
      "text/plain": [
       "<IPython.core.display.HTML object>"
      ]
     },
     "metadata": {},
     "output_type": "display_data"
    },
    {
     "data": {
      "text/html": [
       "\n",
       "<style>\n",
       "    /* Turns off some styling */\n",
       "    progress {\n",
       "        /* gets rid of default border in Firefox and Opera. */\n",
       "        border: none;\n",
       "        /* Needs to be in here for Safari polyfill so background images work as expected. */\n",
       "        background-size: auto;\n",
       "    }\n",
       "    progress:not([value]), progress:not([value])::-webkit-progress-bar {\n",
       "        background: repeating-linear-gradient(45deg, #7e7e7e, #7e7e7e 10px, #5c5c5c 10px, #5c5c5c 20px);\n",
       "    }\n",
       "    .progress-bar-interrupted, .progress-bar-interrupted::-webkit-progress-bar {\n",
       "        background: #F44336;\n",
       "    }\n",
       "</style>\n"
      ],
      "text/plain": [
       "<IPython.core.display.HTML object>"
      ]
     },
     "metadata": {},
     "output_type": "display_data"
    },
    {
     "data": {
      "text/html": [
       "<table border=\"1\" class=\"dataframe\">\n",
       "  <thead>\n",
       "    <tr style=\"text-align: left;\">\n",
       "      <th>TimeR2Score</th>\n",
       "      <th>loss</th>\n",
       "      <th>epoch</th>\n",
       "      <th>train</th>\n",
       "      <th>time</th>\n",
       "    </tr>\n",
       "  </thead>\n",
       "  <tbody>\n",
       "    <tr>\n",
       "      <td>0.783</td>\n",
       "      <td>124.079</td>\n",
       "      <td>0</td>\n",
       "      <td>False</td>\n",
       "      <td>00:02</td>\n",
       "    </tr>\n",
       "  </tbody>\n",
       "</table>"
      ],
      "text/plain": [
       "<IPython.core.display.HTML object>"
      ]
     },
     "metadata": {},
     "output_type": "display_data"
    },
    {
     "name": "stdout",
     "output_type": "stream",
     "text": [
      "Inference on more\n",
      "\t\tpreds, targs\n",
      "tensor([[13.6770, 22.0000],\n",
      "        [17.2680, 22.0000],\n",
      "        [ 8.8597, 10.0000],\n",
      "        [14.0281, 18.0000],\n",
      "        [14.7311,  2.0000],\n",
      "        [14.1554, 18.0000],\n",
      "        [10.6923, 14.0000],\n",
      "        [ 7.0058,  6.0000],\n",
      "        [ 9.1240,  6.0000],\n",
      "        [10.2379, 14.0000],\n",
      "        [ 9.8199, 10.0000],\n",
      "        [16.5399,  2.0000],\n",
      "        [20.2503, 24.0000],\n",
      "        [16.5741, 21.0000],\n",
      "        [ 6.5463, 33.0000],\n",
      "        ...,\n",
      "        [ 8.0828,  7.5000],\n",
      "        [20.9234,  1.5000],\n",
      "        [13.9771, 16.5000],\n",
      "        [19.6712,  4.5000],\n",
      "        [19.0621, 22.5000],\n",
      "        [13.8411, 16.5000],\n",
      "        [21.3396,  1.5000],\n",
      "        [10.3286, 10.5000],\n",
      "        [14.1399, 16.5000],\n",
      "        [22.3283,  1.5000],\n",
      "        [12.7096, 13.5000],\n",
      "        [ 9.8118,  7.5000],\n",
      "        [19.1612, 19.5000],\n",
      "        [ 8.6036,  7.5000],\n",
      "        [10.4383, 13.5000]])\n",
      "result:  tensor(0.7787)\n"
     ]
    }
   ],
   "source": [
    "lr, epochs = .1, 6\n",
    "tmax = epochs * len(dls.train)\n",
    "sched = partial(lr_scheduler.OneCycleLR, max_lr=lr, total_steps=tmax)\n",
    "xtra = [BatchSchedCB(sched)]\n",
    "preds = ensemble_model(nlearn, get_model, epochs=epochs, lr=lr, cbs=cbs+xtra, opt_func=optim.AdamW)"
   ]
  },
  {
   "cell_type": "code",
   "execution_count": 76,
   "metadata": {},
   "outputs": [
    {
     "data": {
      "text/html": [
       "<div>\n",
       "<style scoped>\n",
       "    .dataframe tbody tr th:only-of-type {\n",
       "        vertical-align: middle;\n",
       "    }\n",
       "\n",
       "    .dataframe tbody tr th {\n",
       "        vertical-align: top;\n",
       "    }\n",
       "\n",
       "    .dataframe thead th {\n",
       "        text-align: right;\n",
       "    }\n",
       "</style>\n",
       "<table border=\"1\" class=\"dataframe\">\n",
       "  <thead>\n",
       "    <tr style=\"text-align: right;\">\n",
       "      <th></th>\n",
       "      <th>preds</th>\n",
       "      <th>targets</th>\n",
       "    </tr>\n",
       "  </thead>\n",
       "  <tbody>\n",
       "    <tr>\n",
       "      <th>0</th>\n",
       "      <td>13.676980</td>\n",
       "      <td>22.0</td>\n",
       "    </tr>\n",
       "    <tr>\n",
       "      <th>1</th>\n",
       "      <td>17.267952</td>\n",
       "      <td>22.0</td>\n",
       "    </tr>\n",
       "    <tr>\n",
       "      <th>2</th>\n",
       "      <td>8.859705</td>\n",
       "      <td>10.0</td>\n",
       "    </tr>\n",
       "    <tr>\n",
       "      <th>3</th>\n",
       "      <td>14.028101</td>\n",
       "      <td>18.0</td>\n",
       "    </tr>\n",
       "    <tr>\n",
       "      <th>4</th>\n",
       "      <td>14.731050</td>\n",
       "      <td>2.0</td>\n",
       "    </tr>\n",
       "    <tr>\n",
       "      <th>...</th>\n",
       "      <td>...</td>\n",
       "      <td>...</td>\n",
       "    </tr>\n",
       "    <tr>\n",
       "      <th>1091</th>\n",
       "      <td>12.709584</td>\n",
       "      <td>13.5</td>\n",
       "    </tr>\n",
       "    <tr>\n",
       "      <th>1092</th>\n",
       "      <td>9.811840</td>\n",
       "      <td>7.5</td>\n",
       "    </tr>\n",
       "    <tr>\n",
       "      <th>1093</th>\n",
       "      <td>19.161165</td>\n",
       "      <td>19.5</td>\n",
       "    </tr>\n",
       "    <tr>\n",
       "      <th>1094</th>\n",
       "      <td>8.603572</td>\n",
       "      <td>7.5</td>\n",
       "    </tr>\n",
       "    <tr>\n",
       "      <th>1095</th>\n",
       "      <td>10.438336</td>\n",
       "      <td>13.5</td>\n",
       "    </tr>\n",
       "  </tbody>\n",
       "</table>\n",
       "<p>1096 rows × 2 columns</p>\n",
       "</div>"
      ],
      "text/plain": [
       "          preds  targets\n",
       "0     13.676980     22.0\n",
       "1     17.267952     22.0\n",
       "2      8.859705     10.0\n",
       "3     14.028101     18.0\n",
       "4     14.731050      2.0\n",
       "...         ...      ...\n",
       "1091  12.709584     13.5\n",
       "1092   9.811840      7.5\n",
       "1093  19.161165     19.5\n",
       "1094   8.603572      7.5\n",
       "1095  10.438336     13.5\n",
       "\n",
       "[1096 rows x 2 columns]"
      ]
     },
     "execution_count": 76,
     "metadata": {},
     "output_type": "execute_result"
    }
   ],
   "source": [
    "df = pd.DataFrame(preds['more'], columns=['preds', 'targets'])\n",
    "df"
   ]
  },
  {
   "cell_type": "code",
   "execution_count": 77,
   "metadata": {},
   "outputs": [],
   "source": [
    "df.to_csv('preds_3000.csv')"
   ]
  },
  {
   "cell_type": "code",
   "execution_count": 68,
   "metadata": {},
   "outputs": [],
   "source": [
    "torch.set_printoptions(edgeitems=15, linewidth=100)"
   ]
  },
  {
   "cell_type": "code",
   "execution_count": 69,
   "metadata": {
    "scrolled": false
   },
   "outputs": [
    {
     "name": "stdout",
     "output_type": "stream",
     "text": [
      "Training models\n"
     ]
    },
    {
     "data": {
      "text/html": [
       "\n",
       "<style>\n",
       "    /* Turns off some styling */\n",
       "    progress {\n",
       "        /* gets rid of default border in Firefox and Opera. */\n",
       "        border: none;\n",
       "        /* Needs to be in here for Safari polyfill so background images work as expected. */\n",
       "        background-size: auto;\n",
       "    }\n",
       "    progress:not([value]), progress:not([value])::-webkit-progress-bar {\n",
       "        background: repeating-linear-gradient(45deg, #7e7e7e, #7e7e7e 10px, #5c5c5c 10px, #5c5c5c 20px);\n",
       "    }\n",
       "    .progress-bar-interrupted, .progress-bar-interrupted::-webkit-progress-bar {\n",
       "        background: #F44336;\n",
       "    }\n",
       "</style>\n"
      ],
      "text/plain": [
       "<IPython.core.display.HTML object>"
      ]
     },
     "metadata": {},
     "output_type": "display_data"
    },
    {
     "data": {
      "text/html": [
       "<table border=\"1\" class=\"dataframe\">\n",
       "  <thead>\n",
       "    <tr style=\"text-align: left;\">\n",
       "      <th>TimeR2Score</th>\n",
       "      <th>loss</th>\n",
       "      <th>epoch</th>\n",
       "      <th>train</th>\n",
       "      <th>time</th>\n",
       "    </tr>\n",
       "  </thead>\n",
       "  <tbody>\n",
       "    <tr>\n",
       "      <td>0.886</td>\n",
       "      <td>6.126</td>\n",
       "      <td>0</td>\n",
       "      <td>True</td>\n",
       "      <td>00:02</td>\n",
       "    </tr>\n",
       "    <tr>\n",
       "      <td>0.949</td>\n",
       "      <td>2.875</td>\n",
       "      <td>0</td>\n",
       "      <td>False</td>\n",
       "      <td>00:00</td>\n",
       "    </tr>\n",
       "  </tbody>\n",
       "</table>"
      ],
      "text/plain": [
       "<IPython.core.display.HTML object>"
      ]
     },
     "metadata": {},
     "output_type": "display_data"
    },
    {
     "data": {
      "image/png": "[encoded data removed]",
      "text/plain": [
       "<Figure size 600x400 with 1 Axes>"
      ]
     },
     "metadata": {},
     "output_type": "display_data"
    },
    {
     "data": {
      "text/html": [
       "\n",
       "<style>\n",
       "    /* Turns off some styling */\n",
       "    progress {\n",
       "        /* gets rid of default border in Firefox and Opera. */\n",
       "        border: none;\n",
       "        /* Needs to be in here for Safari polyfill so background images work as expected. */\n",
       "        background-size: auto;\n",
       "    }\n",
       "    progress:not([value]), progress:not([value])::-webkit-progress-bar {\n",
       "        background: repeating-linear-gradient(45deg, #7e7e7e, #7e7e7e 10px, #5c5c5c 10px, #5c5c5c 20px);\n",
       "    }\n",
       "    .progress-bar-interrupted, .progress-bar-interrupted::-webkit-progress-bar {\n",
       "        background: #F44336;\n",
       "    }\n",
       "</style>\n"
      ],
      "text/plain": [
       "<IPython.core.display.HTML object>"
      ]
     },
     "metadata": {},
     "output_type": "display_data"
    },
    {
     "data": {
      "text/html": [
       "<table border=\"1\" class=\"dataframe\">\n",
       "  <thead>\n",
       "    <tr style=\"text-align: left;\">\n",
       "      <th>TimeR2Score</th>\n",
       "      <th>loss</th>\n",
       "      <th>epoch</th>\n",
       "      <th>train</th>\n",
       "      <th>time</th>\n",
       "    </tr>\n",
       "  </thead>\n",
       "  <tbody>\n",
       "    <tr>\n",
       "      <td>0.892</td>\n",
       "      <td>5.638</td>\n",
       "      <td>0</td>\n",
       "      <td>True</td>\n",
       "      <td>00:02</td>\n",
       "    </tr>\n",
       "    <tr>\n",
       "      <td>0.952</td>\n",
       "      <td>2.360</td>\n",
       "      <td>0</td>\n",
       "      <td>False</td>\n",
       "      <td>00:00</td>\n",
       "    </tr>\n",
       "  </tbody>\n",
       "</table>"
      ],
      "text/plain": [
       "<IPython.core.display.HTML object>"
      ]
     },
     "metadata": {},
     "output_type": "display_data"
    },
    {
     "data": {
      "image/png": "[encoded data removed]",
      "text/plain": [
       "<Figure size 600x400 with 1 Axes>"
      ]
     },
     "metadata": {},
     "output_type": "display_data"
    },
    {
     "name": "stdout",
     "output_type": "stream",
     "text": [
      "Making inference on test data\n"
     ]
    },
    {
     "data": {
      "text/html": [
       "\n",
       "<style>\n",
       "    /* Turns off some styling */\n",
       "    progress {\n",
       "        /* gets rid of default border in Firefox and Opera. */\n",
       "        border: none;\n",
       "        /* Needs to be in here for Safari polyfill so background images work as expected. */\n",
       "        background-size: auto;\n",
       "    }\n",
       "    progress:not([value]), progress:not([value])::-webkit-progress-bar {\n",
       "        background: repeating-linear-gradient(45deg, #7e7e7e, #7e7e7e 10px, #5c5c5c 10px, #5c5c5c 20px);\n",
       "    }\n",
       "    .progress-bar-interrupted, .progress-bar-interrupted::-webkit-progress-bar {\n",
       "        background: #F44336;\n",
       "    }\n",
       "</style>\n"
      ],
      "text/plain": [
       "<IPython.core.display.HTML object>"
      ]
     },
     "metadata": {},
     "output_type": "display_data"
    },
    {
     "data": {
      "text/html": [
       "<table border=\"1\" class=\"dataframe\">\n",
       "  <thead>\n",
       "    <tr style=\"text-align: left;\">\n",
       "      <th>TimeR2Score</th>\n",
       "      <th>loss</th>\n",
       "      <th>epoch</th>\n",
       "      <th>train</th>\n",
       "      <th>time</th>\n",
       "    </tr>\n",
       "  </thead>\n",
       "  <tbody>\n",
       "    <tr>\n",
       "      <td>0.566</td>\n",
       "      <td>20.260</td>\n",
       "      <td>0</td>\n",
       "      <td>False</td>\n",
       "      <td>00:00</td>\n",
       "    </tr>\n",
       "  </tbody>\n",
       "</table>"
      ],
      "text/plain": [
       "<IPython.core.display.HTML object>"
      ]
     },
     "metadata": {},
     "output_type": "display_data"
    },
    {
     "data": {
      "text/html": [
       "\n",
       "<style>\n",
       "    /* Turns off some styling */\n",
       "    progress {\n",
       "        /* gets rid of default border in Firefox and Opera. */\n",
       "        border: none;\n",
       "        /* Needs to be in here for Safari polyfill so background images work as expected. */\n",
       "        background-size: auto;\n",
       "    }\n",
       "    progress:not([value]), progress:not([value])::-webkit-progress-bar {\n",
       "        background: repeating-linear-gradient(45deg, #7e7e7e, #7e7e7e 10px, #5c5c5c 10px, #5c5c5c 20px);\n",
       "    }\n",
       "    .progress-bar-interrupted, .progress-bar-interrupted::-webkit-progress-bar {\n",
       "        background: #F44336;\n",
       "    }\n",
       "</style>\n"
      ],
      "text/plain": [
       "<IPython.core.display.HTML object>"
      ]
     },
     "metadata": {},
     "output_type": "display_data"
    },
    {
     "data": {
      "text/html": [
       "<table border=\"1\" class=\"dataframe\">\n",
       "  <thead>\n",
       "    <tr style=\"text-align: left;\">\n",
       "      <th>TimeR2Score</th>\n",
       "      <th>loss</th>\n",
       "      <th>epoch</th>\n",
       "      <th>train</th>\n",
       "      <th>time</th>\n",
       "    </tr>\n",
       "  </thead>\n",
       "  <tbody>\n",
       "    <tr>\n",
       "      <td>0.696</td>\n",
       "      <td>14.193</td>\n",
       "      <td>0</td>\n",
       "      <td>False</td>\n",
       "      <td>00:00</td>\n",
       "    </tr>\n",
       "  </tbody>\n",
       "</table>"
      ],
      "text/plain": [
       "<IPython.core.display.HTML object>"
      ]
     },
     "metadata": {},
     "output_type": "display_data"
    },
    {
     "name": "stdout",
     "output_type": "stream",
     "text": [
      "Inference on nascent\n",
      "\t\tpreds, targs\n",
      "tensor([[ 9.0005,  0.0000],\n",
      "        [ 5.5782,  4.0000],\n",
      "        [ 8.9177,  8.0000],\n",
      "        [ 9.8451, 12.0000],\n",
      "        [13.8168, 16.0000],\n",
      "        [20.0905, 20.0000],\n",
      "        [ 8.4018,  0.0000],\n",
      "        [ 1.7447,  4.0000],\n",
      "        [ 9.8518,  8.0000],\n",
      "        [10.1773, 12.0000],\n",
      "        [20.2569, 16.0000],\n",
      "        [21.8622, 20.0000]])\n",
      "result:  tensor(0.6468)\n"
     ]
    },
    {
     "data": {
      "text/html": [
       "\n",
       "<style>\n",
       "    /* Turns off some styling */\n",
       "    progress {\n",
       "        /* gets rid of default border in Firefox and Opera. */\n",
       "        border: none;\n",
       "        /* Needs to be in here for Safari polyfill so background images work as expected. */\n",
       "        background-size: auto;\n",
       "    }\n",
       "    progress:not([value]), progress:not([value])::-webkit-progress-bar {\n",
       "        background: repeating-linear-gradient(45deg, #7e7e7e, #7e7e7e 10px, #5c5c5c 10px, #5c5c5c 20px);\n",
       "    }\n",
       "    .progress-bar-interrupted, .progress-bar-interrupted::-webkit-progress-bar {\n",
       "        background: #F44336;\n",
       "    }\n",
       "</style>\n"
      ],
      "text/plain": [
       "<IPython.core.display.HTML object>"
      ]
     },
     "metadata": {},
     "output_type": "display_data"
    },
    {
     "data": {
      "text/html": [
       "<table border=\"1\" class=\"dataframe\">\n",
       "  <thead>\n",
       "    <tr style=\"text-align: left;\">\n",
       "      <th>TimeR2Score</th>\n",
       "      <th>loss</th>\n",
       "      <th>epoch</th>\n",
       "      <th>train</th>\n",
       "      <th>time</th>\n",
       "    </tr>\n",
       "  </thead>\n",
       "  <tbody>\n",
       "    <tr>\n",
       "      <td>0.924</td>\n",
       "      <td>49.781</td>\n",
       "      <td>0</td>\n",
       "      <td>False</td>\n",
       "      <td>00:00</td>\n",
       "    </tr>\n",
       "  </tbody>\n",
       "</table>"
      ],
      "text/plain": [
       "<IPython.core.display.HTML object>"
      ]
     },
     "metadata": {},
     "output_type": "display_data"
    },
    {
     "data": {
      "text/html": [
       "\n",
       "<style>\n",
       "    /* Turns off some styling */\n",
       "    progress {\n",
       "        /* gets rid of default border in Firefox and Opera. */\n",
       "        border: none;\n",
       "        /* Needs to be in here for Safari polyfill so background images work as expected. */\n",
       "        background-size: auto;\n",
       "    }\n",
       "    progress:not([value]), progress:not([value])::-webkit-progress-bar {\n",
       "        background: repeating-linear-gradient(45deg, #7e7e7e, #7e7e7e 10px, #5c5c5c 10px, #5c5c5c 20px);\n",
       "    }\n",
       "    .progress-bar-interrupted, .progress-bar-interrupted::-webkit-progress-bar {\n",
       "        background: #F44336;\n",
       "    }\n",
       "</style>\n"
      ],
      "text/plain": [
       "<IPython.core.display.HTML object>"
      ]
     },
     "metadata": {},
     "output_type": "display_data"
    },
    {
     "data": {
      "text/html": [
       "<table border=\"1\" class=\"dataframe\">\n",
       "  <thead>\n",
       "    <tr style=\"text-align: left;\">\n",
       "      <th>TimeR2Score</th>\n",
       "      <th>loss</th>\n",
       "      <th>epoch</th>\n",
       "      <th>train</th>\n",
       "      <th>time</th>\n",
       "    </tr>\n",
       "  </thead>\n",
       "  <tbody>\n",
       "    <tr>\n",
       "      <td>0.902</td>\n",
       "      <td>47.136</td>\n",
       "      <td>0</td>\n",
       "      <td>False</td>\n",
       "      <td>00:00</td>\n",
       "    </tr>\n",
       "  </tbody>\n",
       "</table>"
      ],
      "text/plain": [
       "<IPython.core.display.HTML object>"
      ]
     },
     "metadata": {},
     "output_type": "display_data"
    },
    {
     "name": "stdout",
     "output_type": "stream",
     "text": [
      "Inference on gro\n",
      "\t\tpreds, targs\n",
      "tensor([[20.3919,  1.0000],\n",
      "        [ 5.0003,  4.0000],\n",
      "        [ 7.8578,  7.0000],\n",
      "        [ 9.1534, 10.0000],\n",
      "        [13.1899, 13.0000],\n",
      "        [13.3000, 16.0000],\n",
      "        [19.6668, 19.0000],\n",
      "        [21.2226, 22.0000]])\n",
      "result:  tensor(0.9152)\n"
     ]
    },
    {
     "data": {
      "text/html": [
       "\n",
       "<style>\n",
       "    /* Turns off some styling */\n",
       "    progress {\n",
       "        /* gets rid of default border in Firefox and Opera. */\n",
       "        border: none;\n",
       "        /* Needs to be in here for Safari polyfill so background images work as expected. */\n",
       "        background-size: auto;\n",
       "    }\n",
       "    progress:not([value]), progress:not([value])::-webkit-progress-bar {\n",
       "        background: repeating-linear-gradient(45deg, #7e7e7e, #7e7e7e 10px, #5c5c5c 10px, #5c5c5c 20px);\n",
       "    }\n",
       "    .progress-bar-interrupted, .progress-bar-interrupted::-webkit-progress-bar {\n",
       "        background: #F44336;\n",
       "    }\n",
       "</style>\n"
      ],
      "text/plain": [
       "<IPython.core.display.HTML object>"
      ]
     },
     "metadata": {},
     "output_type": "display_data"
    },
    {
     "data": {
      "text/html": [
       "<table border=\"1\" class=\"dataframe\">\n",
       "  <thead>\n",
       "    <tr style=\"text-align: left;\">\n",
       "      <th>TimeR2Score</th>\n",
       "      <th>loss</th>\n",
       "      <th>epoch</th>\n",
       "      <th>train</th>\n",
       "      <th>time</th>\n",
       "    </tr>\n",
       "  </thead>\n",
       "  <tbody>\n",
       "    <tr>\n",
       "      <td>0.903</td>\n",
       "      <td>4.512</td>\n",
       "      <td>0</td>\n",
       "      <td>False</td>\n",
       "      <td>00:00</td>\n",
       "    </tr>\n",
       "  </tbody>\n",
       "</table>"
      ],
      "text/plain": [
       "<IPython.core.display.HTML object>"
      ]
     },
     "metadata": {},
     "output_type": "display_data"
    },
    {
     "data": {
      "text/html": [
       "\n",
       "<style>\n",
       "    /* Turns off some styling */\n",
       "    progress {\n",
       "        /* gets rid of default border in Firefox and Opera. */\n",
       "        border: none;\n",
       "        /* Needs to be in here for Safari polyfill so background images work as expected. */\n",
       "        background-size: auto;\n",
       "    }\n",
       "    progress:not([value]), progress:not([value])::-webkit-progress-bar {\n",
       "        background: repeating-linear-gradient(45deg, #7e7e7e, #7e7e7e 10px, #5c5c5c 10px, #5c5c5c 20px);\n",
       "    }\n",
       "    .progress-bar-interrupted, .progress-bar-interrupted::-webkit-progress-bar {\n",
       "        background: #F44336;\n",
       "    }\n",
       "</style>\n"
      ],
      "text/plain": [
       "<IPython.core.display.HTML object>"
      ]
     },
     "metadata": {},
     "output_type": "display_data"
    },
    {
     "data": {
      "text/html": [
       "<table border=\"1\" class=\"dataframe\">\n",
       "  <thead>\n",
       "    <tr style=\"text-align: left;\">\n",
       "      <th>TimeR2Score</th>\n",
       "      <th>loss</th>\n",
       "      <th>epoch</th>\n",
       "      <th>train</th>\n",
       "      <th>time</th>\n",
       "    </tr>\n",
       "  </thead>\n",
       "  <tbody>\n",
       "    <tr>\n",
       "      <td>0.875</td>\n",
       "      <td>5.816</td>\n",
       "      <td>0</td>\n",
       "      <td>False</td>\n",
       "      <td>00:00</td>\n",
       "    </tr>\n",
       "  </tbody>\n",
       "</table>"
      ],
      "text/plain": [
       "<IPython.core.display.HTML object>"
      ]
     },
     "metadata": {},
     "output_type": "display_data"
    },
    {
     "name": "stdout",
     "output_type": "stream",
     "text": [
      "Inference on rna\n",
      "\t\tpreds, targs\n",
      "tensor([[ 4.4783,  2.0000],\n",
      "        [ 7.8548,  6.0000],\n",
      "        [ 8.6972, 10.0000],\n",
      "        [13.8361, 14.0000],\n",
      "        [20.7360, 18.0000],\n",
      "        [21.4478, 22.0000],\n",
      "        [ 4.1608,  2.0000],\n",
      "        [ 7.9010,  6.0000],\n",
      "        [ 9.9052, 10.0000],\n",
      "        [11.4693, 14.0000],\n",
      "        [21.6245, 18.0000],\n",
      "        [18.5190, 22.0000]])\n",
      "result:  tensor(0.8946)\n"
     ]
    },
    {
     "data": {
      "text/html": [
       "\n",
       "<style>\n",
       "    /* Turns off some styling */\n",
       "    progress {\n",
       "        /* gets rid of default border in Firefox and Opera. */\n",
       "        border: none;\n",
       "        /* Needs to be in here for Safari polyfill so background images work as expected. */\n",
       "        background-size: auto;\n",
       "    }\n",
       "    progress:not([value]), progress:not([value])::-webkit-progress-bar {\n",
       "        background: repeating-linear-gradient(45deg, #7e7e7e, #7e7e7e 10px, #5c5c5c 10px, #5c5c5c 20px);\n",
       "    }\n",
       "    .progress-bar-interrupted, .progress-bar-interrupted::-webkit-progress-bar {\n",
       "        background: #F44336;\n",
       "    }\n",
       "</style>\n"
      ],
      "text/plain": [
       "<IPython.core.display.HTML object>"
      ]
     },
     "metadata": {},
     "output_type": "display_data"
    },
    {
     "data": {
      "text/html": [
       "<table border=\"1\" class=\"dataframe\">\n",
       "  <thead>\n",
       "    <tr style=\"text-align: left;\">\n",
       "      <th>TimeR2Score</th>\n",
       "      <th>loss</th>\n",
       "      <th>epoch</th>\n",
       "      <th>train</th>\n",
       "      <th>time</th>\n",
       "    </tr>\n",
       "  </thead>\n",
       "  <tbody>\n",
       "    <tr>\n",
       "      <td>0.744</td>\n",
       "      <td>126.320</td>\n",
       "      <td>0</td>\n",
       "      <td>False</td>\n",
       "      <td>00:03</td>\n",
       "    </tr>\n",
       "  </tbody>\n",
       "</table>"
      ],
      "text/plain": [
       "<IPython.core.display.HTML object>"
      ]
     },
     "metadata": {},
     "output_type": "display_data"
    },
    {
     "data": {
      "text/html": [
       "\n",
       "<style>\n",
       "    /* Turns off some styling */\n",
       "    progress {\n",
       "        /* gets rid of default border in Firefox and Opera. */\n",
       "        border: none;\n",
       "        /* Needs to be in here for Safari polyfill so background images work as expected. */\n",
       "        background-size: auto;\n",
       "    }\n",
       "    progress:not([value]), progress:not([value])::-webkit-progress-bar {\n",
       "        background: repeating-linear-gradient(45deg, #7e7e7e, #7e7e7e 10px, #5c5c5c 10px, #5c5c5c 20px);\n",
       "    }\n",
       "    .progress-bar-interrupted, .progress-bar-interrupted::-webkit-progress-bar {\n",
       "        background: #F44336;\n",
       "    }\n",
       "</style>\n"
      ],
      "text/plain": [
       "<IPython.core.display.HTML object>"
      ]
     },
     "metadata": {},
     "output_type": "display_data"
    },
    {
     "data": {
      "text/html": [
       "<table border=\"1\" class=\"dataframe\">\n",
       "  <thead>\n",
       "    <tr style=\"text-align: left;\">\n",
       "      <th>TimeR2Score</th>\n",
       "      <th>loss</th>\n",
       "      <th>epoch</th>\n",
       "      <th>train</th>\n",
       "      <th>time</th>\n",
       "    </tr>\n",
       "  </thead>\n",
       "  <tbody>\n",
       "    <tr>\n",
       "      <td>0.767</td>\n",
       "      <td>128.361</td>\n",
       "      <td>0</td>\n",
       "      <td>False</td>\n",
       "      <td>00:03</td>\n",
       "    </tr>\n",
       "  </tbody>\n",
       "</table>"
      ],
      "text/plain": [
       "<IPython.core.display.HTML object>"
      ]
     },
     "metadata": {},
     "output_type": "display_data"
    },
    {
     "name": "stdout",
     "output_type": "stream",
     "text": [
      "Inference on more\n",
      "\t\tpreds, targs\n",
      "tensor([[15.7006, 22.0000],\n",
      "        [17.2438, 22.0000],\n",
      "        [ 8.6149, 10.0000],\n",
      "        [15.3921, 18.0000],\n",
      "        [14.8460,  2.0000],\n",
      "        [16.7544, 18.0000],\n",
      "        [11.1260, 14.0000],\n",
      "        [ 6.5022,  6.0000],\n",
      "        [ 9.1368,  6.0000],\n",
      "        [10.5788, 14.0000],\n",
      "        [ 8.8183, 10.0000],\n",
      "        [14.6338,  2.0000],\n",
      "        [19.2705, 24.0000],\n",
      "        [15.7491, 21.0000],\n",
      "        [ 7.7115, 33.0000],\n",
      "        ...,\n",
      "        [ 9.8264,  7.5000],\n",
      "        [20.8147,  1.5000],\n",
      "        [16.7861, 16.5000],\n",
      "        [19.5076,  4.5000],\n",
      "        [20.6516, 22.5000],\n",
      "        [16.1838, 16.5000],\n",
      "        [21.7538,  1.5000],\n",
      "        [11.0779, 10.5000],\n",
      "        [13.4316, 16.5000],\n",
      "        [21.9429,  1.5000],\n",
      "        [13.0844, 13.5000],\n",
      "        [11.0573,  7.5000],\n",
      "        [19.7237, 19.5000],\n",
      "        [12.8558,  7.5000],\n",
      "        [11.1314, 13.5000]])\n",
      "result:  tensor(0.7540)\n"
     ]
    }
   ],
   "source": [
    "lr, epochs = .3, 1\n",
    "tmax = epochs * len(dls.train)\n",
    "sched = partial(lr_scheduler.OneCycleLR, max_lr=lr, total_steps=tmax)\n",
    "xtra = [BatchSchedCB(sched)]\n",
    "preds = ensemble_model(nlearn, get_model, epochs=epochs, lr=lr, cbs=cbs+xtra, opt_func=optim.AdamW)"
   ]
  },
  {
   "cell_type": "code",
   "execution_count": null,
   "metadata": {
    "id": "QmWn6b96BbIL"
   },
   "outputs": [],
   "source": []
  }
 ],
 "metadata": {
  "colab": {
   "include_colab_link": true,
   "provenance": [],
   "toc_visible": true
  },
  "kernelspec": {
   "display_name": "Python 3 (ipykernel)",
   "language": "python",
   "name": "python3"
  },
  "language_info": {
   "codemirror_mode": {
    "name": "ipython",
    "version": 3
   },
   "file_extension": ".py",
   "mimetype": "text/x-python",
   "name": "python",
   "nbconvert_exporter": "python",
   "pygments_lexer": "ipython3",
   "version": "3.10.13"
  },
  "toc": {
   "base_numbering": 1,
   "nav_menu": {},
   "number_sections": true,
   "sideBar": true,
   "skip_h1_title": false,
   "title_cell": "Table of Contents",
   "title_sidebar": "Contents",
   "toc_cell": false,
   "toc_position": {},
   "toc_section_display": true,
   "toc_window_display": false
  }
 },
 "nbformat": 4,
 "nbformat_minor": 1
}
