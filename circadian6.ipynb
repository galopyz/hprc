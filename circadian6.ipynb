{
  "nbformat": 4,
  "nbformat_minor": 0,
  "metadata": {
    "colab": {
      "provenance": [],
      "authorship_tag": "ABX9TyOARu2pgtCRUnF2Rhr7DY0N",
      "include_colab_link": true
    },
    "kernelspec": {
      "name": "python3",
      "display_name": "Python 3"
    },
    "language_info": {
      "name": "python"
    }
  },
  "cells": [
    {
      "cell_type": "markdown",
      "metadata": {
        "id": "view-in-github",
        "colab_type": "text"
      },
      "source": [
        "<a href=\"https://colab.research.google.com/github/galopyz/hprc/blob/main/circadian6.ipynb\" target=\"_parent\"><img src=\"https://colab.research.google.com/assets/colab-badge.svg\" alt=\"Open In Colab\"/></a>"
      ]
    },
    {
      "cell_type": "markdown",
      "source": [
        "## Ensembling"
      ],
      "metadata": {
        "id": "YWKBpTGz74UM"
      }
    },
    {
      "cell_type": "markdown",
      "source": [
        "Testing Bulk data. We create a new dataframe that has the same columns as the bulk data. Then we test on the bulkdata (test data).\n",
        "\n",
        "- With dropout, the model reached 92% on bulk data.\n",
        "- Hihger accuracy on traning data does not necessarily mean high test accuracy.\n",
        "\n",
        "### TODO\n",
        "- Try ensembling:\n",
        "  - With random seeds, there are too many variability in results.\n",
        "  - Hopefully ensembling may provide better results\n",
        "- Try data augmentation.\n",
        "  - Random swap: swapping random columns.\n",
        "- Try a new loss function.\n",
        "  - Hexagon (7x8) with MSELoss\n",
        "  1. Predict 56 outputs\n",
        "  2. Create a hexagon\n",
        "  3. MSE with the target\n",
        "- Try Random Forest.\n",
        "- Try Gradient boosting."
      ],
      "metadata": {
        "id": "qT1E-fGjl8dT"
      }
    },
    {
      "cell_type": "code",
      "source": [
        "from google.colab import drive\n",
        "drive.mount('/content/drive')\n",
        "%cd /content/drive/MyDrive/'Colab Notebooks'\n",
        "!pip -q install torcheval\n",
        "!pip -q install datasets"
      ],
      "metadata": {
        "id": "e61hHE9bCCKY",
        "colab": {
          "base_uri": "https://localhost:8080/"
        },
        "outputId": "4721d6b4-639a-43e5-97b7-a82863534bfe"
      },
      "execution_count": 1,
      "outputs": [
        {
          "output_type": "stream",
          "name": "stdout",
          "text": [
            "Drive already mounted at /content/drive; to attempt to forcibly remount, call drive.mount(\"/content/drive\", force_remount=True).\n",
            "/content/drive/MyDrive/Colab Notebooks\n"
          ]
        }
      ]
    },
    {
      "cell_type": "code",
      "execution_count": 2,
      "metadata": {
        "id": "0EKtXY9-AqGj"
      },
      "outputs": [],
      "source": [
        "import pandas as pd\n",
        "import numpy as np\n",
        "from pathlib import Path\n",
        "import torch\n",
        "from torch import tensor\n",
        "from torcheval.metrics import MulticlassAccuracy\n",
        "import torchvision.transforms.functional as TF,torch.nn.functional as F\n",
        "from torch.utils.data import Dataset, DataLoader\n",
        "\n",
        "from miniai.datasets import *\n",
        "from miniai.conv import *\n",
        "from miniai.learner import *\n",
        "from miniai.activations import *\n",
        "from miniai.init import *\n",
        "from miniai.sgd import *\n",
        "from miniai.augment import *\n",
        "from miniai.xtras import *"
      ]
    },
    {
      "cell_type": "code",
      "source": [
        "path = Path('./data/circadian/')"
      ],
      "metadata": {
        "id": "SCbgU5nUA_3o"
      },
      "execution_count": 3,
      "outputs": []
    },
    {
      "cell_type": "code",
      "source": [
        "t = np.zeros((7, 8))\n",
        "t"
      ],
      "metadata": {
        "colab": {
          "base_uri": "https://localhost:8080/"
        },
        "id": "j_5oArauhJAy",
        "outputId": "03354853-d042-4d34-f67b-0a3b129c8feb"
      },
      "execution_count": 4,
      "outputs": [
        {
          "output_type": "execute_result",
          "data": {
            "text/plain": [
              "array([[0., 0., 0., 0., 0., 0., 0., 0.],\n",
              "       [0., 0., 0., 0., 0., 0., 0., 0.],\n",
              "       [0., 0., 0., 0., 0., 0., 0., 0.],\n",
              "       [0., 0., 0., 0., 0., 0., 0., 0.],\n",
              "       [0., 0., 0., 0., 0., 0., 0., 0.],\n",
              "       [0., 0., 0., 0., 0., 0., 0., 0.],\n",
              "       [0., 0., 0., 0., 0., 0., 0., 0.]])"
            ]
          },
          "metadata": {},
          "execution_count": 4
        }
      ]
    },
    {
      "cell_type": "code",
      "source": [
        "t0 = (0,5)\n",
        "t1 = (3,7)\n",
        "t2 = (6,5)\n",
        "t3 = (6,2)\n",
        "t4 = (3,0)\n",
        "t5 = (0,2)\n",
        "coords = [t0, t1, t2, t3, t4, t5]"
      ],
      "metadata": {
        "id": "ci9hicKFiBEa"
      },
      "execution_count": 5,
      "outputs": []
    },
    {
      "cell_type": "code",
      "source": [
        "for c in coords:\n",
        "    t[c] = 1"
      ],
      "metadata": {
        "id": "029Nh4FRi8W9"
      },
      "execution_count": 6,
      "outputs": []
    },
    {
      "cell_type": "code",
      "source": [
        "t"
      ],
      "metadata": {
        "colab": {
          "base_uri": "https://localhost:8080/"
        },
        "id": "XIaW1W5VjqDj",
        "outputId": "aebf71dd-6a92-49df-d231-ddd207d5e276"
      },
      "execution_count": 7,
      "outputs": [
        {
          "output_type": "execute_result",
          "data": {
            "text/plain": [
              "array([[0., 0., 1., 0., 0., 1., 0., 0.],\n",
              "       [0., 0., 0., 0., 0., 0., 0., 0.],\n",
              "       [0., 0., 0., 0., 0., 0., 0., 0.],\n",
              "       [1., 0., 0., 0., 0., 0., 0., 1.],\n",
              "       [0., 0., 0., 0., 0., 0., 0., 0.],\n",
              "       [0., 0., 0., 0., 0., 0., 0., 0.],\n",
              "       [0., 0., 1., 0., 0., 1., 0., 0.]])"
            ]
          },
          "metadata": {},
          "execution_count": 7
        }
      ]
    },
    {
      "cell_type": "code",
      "source": [
        "show_image(t);"
      ],
      "metadata": {
        "colab": {
          "base_uri": "https://localhost:8080/",
          "height": 406
        },
        "id": "XKw6mJCvhWCY",
        "outputId": "dee2d0aa-da6d-45f2-ff41-f54492c09ae7"
      },
      "execution_count": 8,
      "outputs": [
        {
          "output_type": "display_data",
          "data": {
            "text/plain": [
              "<Figure size 640x480 with 1 Axes>"
            ],
            "image/png": "[encoded data removed]"
          },
          "metadata": {}
        }
      ]
    },
    {
      "cell_type": "markdown",
      "source": [
        "## Data"
      ],
      "metadata": {
        "id": "Ft9NMEYGl6YD"
      }
    },
    {
      "cell_type": "markdown",
      "source": [
        "Preparing scRNA-seq data for training."
      ],
      "metadata": {
        "id": "ypF8e9eVoSaM"
      }
    },
    {
      "cell_type": "code",
      "source": [
        "meta_data = pd.read_csv(path/'meta_data.csv', low_memory=False)\n",
        "raw_data = pd.read_csv(path/'RNA_count_mat.csv', low_memory=False)\n",
        "data = raw_data.set_index('gene').T\n",
        "# Normalizing the data to have mean of 0 and standard deviation of 1\n",
        "data = (data - data.mean(axis=0)) / data.std(axis=0)\n",
        "df = data.join(meta_data.set_index('cell_name'))\n",
        "df['ZT'] = pd.Categorical(df['ZT'])\n",
        "df['code'] = df['ZT'].cat.codes"
      ],
      "metadata": {
        "id": "NOpFP30kB8Xo"
      },
      "execution_count": 9,
      "outputs": []
    },
    {
      "cell_type": "code",
      "source": [
        "df['ZT']"
      ],
      "metadata": {
        "colab": {
          "base_uri": "https://localhost:8080/"
        },
        "id": "8bfqZ8KahsvB",
        "outputId": "e6ce6722-d4b1-4cd8-d011-2e3347ad1077"
      },
      "execution_count": 10,
      "outputs": [
        {
          "output_type": "execute_result",
          "data": {
            "text/plain": [
              "AAACAGCCAACCCTAA-6    ZT18\n",
              "AAACCAACAGTAAAGC-6    ZT18\n",
              "AAACCGAAGGTCCTAG-6    ZT18\n",
              "AAAGCACCATTGTCCT-6    ZT18\n",
              "AAAGGACGTGAGGTGA-6    ZT18\n",
              "                      ... \n",
              "TTGCCCGTCGCACAAT-7    ZT06\n",
              "TTGCGTCTCTTAGTCT-7    ZT06\n",
              "TTGGGTTAGCCACAAT-7    ZT06\n",
              "TTTAGCTTCAGGAAGC-7    ZT06\n",
              "TTTGGTAAGGAAGTAT-7    ZT06\n",
              "Name: ZT, Length: 15992, dtype: category\n",
              "Categories (6, object): ['ZT02', 'ZT06', 'ZT10', 'ZT14', 'ZT18', 'ZT22']"
            ]
          },
          "metadata": {},
          "execution_count": 10
        }
      ]
    },
    {
      "cell_type": "code",
      "source": [
        "df['ZT'].cat.codes"
      ],
      "metadata": {
        "colab": {
          "base_uri": "https://localhost:8080/"
        },
        "id": "ig4vm1fNhheW",
        "outputId": "4e1028a8-44fd-4df9-a576-387470777b9e"
      },
      "execution_count": 11,
      "outputs": [
        {
          "output_type": "execute_result",
          "data": {
            "text/plain": [
              "AAACAGCCAACCCTAA-6    4\n",
              "AAACCAACAGTAAAGC-6    4\n",
              "AAACCGAAGGTCCTAG-6    4\n",
              "AAAGCACCATTGTCCT-6    4\n",
              "AAAGGACGTGAGGTGA-6    4\n",
              "                     ..\n",
              "TTGCCCGTCGCACAAT-7    1\n",
              "TTGCGTCTCTTAGTCT-7    1\n",
              "TTGGGTTAGCCACAAT-7    1\n",
              "TTTAGCTTCAGGAAGC-7    1\n",
              "TTTGGTAAGGAAGTAT-7    1\n",
              "Length: 15992, dtype: int8"
            ]
          },
          "metadata": {},
          "execution_count": 11
        }
      ]
    },
    {
      "cell_type": "code",
      "source": [
        "df[:3]"
      ],
      "metadata": {
        "colab": {
          "base_uri": "https://localhost:8080/",
          "height": 245
        },
        "id": "e7MGPkp6_y_E",
        "outputId": "7a2b5df3-5f23-428b-bb19-4d4069a2bfa3"
      },
      "execution_count": 12,
      "outputs": [
        {
          "output_type": "execute_result",
          "data": {
            "text/plain": [
              "                        Meg3    Slc1a2      Rian   Cyp2c40   Cyp2c69  \\\n",
              "AAACAGCCAACCCTAA-6 -0.094012 -0.251429 -0.084206 -0.118838 -0.084834   \n",
              "AAACCAACAGTAAAGC-6 -0.094012 -0.032904 -0.084206 -0.118838 -0.084834   \n",
              "AAACCGAAGGTCCTAG-6 -0.094012 -0.251429 -0.084206 -0.118838 -0.084834   \n",
              "\n",
              "                        Sgcz      Glul   Ugt2b37    Tmeff2  B830012L14Rik  \\\n",
              "AAACAGCCAACCCTAA-6 -0.183315 -0.255395 -0.062888 -0.092432      -0.073209   \n",
              "AAACCAACAGTAAAGC-6 -0.183315 -0.255395 -0.062888 -0.092432      -0.073209   \n",
              "AAACCGAAGGTCCTAG-6 -0.183315 -0.255395 -0.062888 -0.092432      -0.073209   \n",
              "\n",
              "                    ...      Mpp6   Ralgps1    Zfp580     Sept8    Cfap52  \\\n",
              "AAACAGCCAACCCTAA-6  ...  1.122616  2.084872 -0.036734 -0.036734 -0.036734   \n",
              "AAACCAACAGTAAAGC-6  ... -0.554376 -0.619790 -0.036734 -0.036734 -0.036734   \n",
              "AAACCGAAGGTCCTAG-6  ...  0.451819  0.281764 -0.036734 -0.036734 -0.036734   \n",
              "\n",
              "                    Arhgap27  F730043M19Rik      Bora    ZT  code  \n",
              "AAACAGCCAACCCTAA-6 -0.036734      -0.036734 -0.318222  ZT18     4  \n",
              "AAACCAACAGTAAAGC-6 -0.036734      -0.036734  2.058709  ZT18     4  \n",
              "AAACCGAAGGTCCTAG-6 -0.036734      -0.036734 -0.318222  ZT18     4  \n",
              "\n",
              "[3 rows x 3002 columns]"
            ],
            "text/html": [
              "\n",
              "  <div id=\"df-49ff3038-d771-49d9-8382-40fc57a049fa\" class=\"colab-df-container\">\n",
              "    <div>\n",
              "<style scoped>\n",
              "    .dataframe tbody tr th:only-of-type {\n",
              "        vertical-align: middle;\n",
              "    }\n",
              "\n",
              "    .dataframe tbody tr th {\n",
              "        vertical-align: top;\n",
              "    }\n",
              "\n",
              "    .dataframe thead th {\n",
              "        text-align: right;\n",
              "    }\n",
              "</style>\n",
              "<table border=\"1\" class=\"dataframe\">\n",
              "  <thead>\n",
              "    <tr style=\"text-align: right;\">\n",
              "      <th></th>\n",
              "      <th>Meg3</th>\n",
              "      <th>Slc1a2</th>\n",
              "      <th>Rian</th>\n",
              "      <th>Cyp2c40</th>\n",
              "      <th>Cyp2c69</th>\n",
              "      <th>Sgcz</th>\n",
              "      <th>Glul</th>\n",
              "      <th>Ugt2b37</th>\n",
              "      <th>Tmeff2</th>\n",
              "      <th>B830012L14Rik</th>\n",
              "      <th>...</th>\n",
              "      <th>Mpp6</th>\n",
              "      <th>Ralgps1</th>\n",
              "      <th>Zfp580</th>\n",
              "      <th>Sept8</th>\n",
              "      <th>Cfap52</th>\n",
              "      <th>Arhgap27</th>\n",
              "      <th>F730043M19Rik</th>\n",
              "      <th>Bora</th>\n",
              "      <th>ZT</th>\n",
              "      <th>code</th>\n",
              "    </tr>\n",
              "  </thead>\n",
              "  <tbody>\n",
              "    <tr>\n",
              "      <th>AAACAGCCAACCCTAA-6</th>\n",
              "      <td>-0.094012</td>\n",
              "      <td>-0.251429</td>\n",
              "      <td>-0.084206</td>\n",
              "      <td>-0.118838</td>\n",
              "      <td>-0.084834</td>\n",
              "      <td>-0.183315</td>\n",
              "      <td>-0.255395</td>\n",
              "      <td>-0.062888</td>\n",
              "      <td>-0.092432</td>\n",
              "      <td>-0.073209</td>\n",
              "      <td>...</td>\n",
              "      <td>1.122616</td>\n",
              "      <td>2.084872</td>\n",
              "      <td>-0.036734</td>\n",
              "      <td>-0.036734</td>\n",
              "      <td>-0.036734</td>\n",
              "      <td>-0.036734</td>\n",
              "      <td>-0.036734</td>\n",
              "      <td>-0.318222</td>\n",
              "      <td>ZT18</td>\n",
              "      <td>4</td>\n",
              "    </tr>\n",
              "    <tr>\n",
              "      <th>AAACCAACAGTAAAGC-6</th>\n",
              "      <td>-0.094012</td>\n",
              "      <td>-0.032904</td>\n",
              "      <td>-0.084206</td>\n",
              "      <td>-0.118838</td>\n",
              "      <td>-0.084834</td>\n",
              "      <td>-0.183315</td>\n",
              "      <td>-0.255395</td>\n",
              "      <td>-0.062888</td>\n",
              "      <td>-0.092432</td>\n",
              "      <td>-0.073209</td>\n",
              "      <td>...</td>\n",
              "      <td>-0.554376</td>\n",
              "      <td>-0.619790</td>\n",
              "      <td>-0.036734</td>\n",
              "      <td>-0.036734</td>\n",
              "      <td>-0.036734</td>\n",
              "      <td>-0.036734</td>\n",
              "      <td>-0.036734</td>\n",
              "      <td>2.058709</td>\n",
              "      <td>ZT18</td>\n",
              "      <td>4</td>\n",
              "    </tr>\n",
              "    <tr>\n",
              "      <th>AAACCGAAGGTCCTAG-6</th>\n",
              "      <td>-0.094012</td>\n",
              "      <td>-0.251429</td>\n",
              "      <td>-0.084206</td>\n",
              "      <td>-0.118838</td>\n",
              "      <td>-0.084834</td>\n",
              "      <td>-0.183315</td>\n",
              "      <td>-0.255395</td>\n",
              "      <td>-0.062888</td>\n",
              "      <td>-0.092432</td>\n",
              "      <td>-0.073209</td>\n",
              "      <td>...</td>\n",
              "      <td>0.451819</td>\n",
              "      <td>0.281764</td>\n",
              "      <td>-0.036734</td>\n",
              "      <td>-0.036734</td>\n",
              "      <td>-0.036734</td>\n",
              "      <td>-0.036734</td>\n",
              "      <td>-0.036734</td>\n",
              "      <td>-0.318222</td>\n",
              "      <td>ZT18</td>\n",
              "      <td>4</td>\n",
              "    </tr>\n",
              "  </tbody>\n",
              "</table>\n",
              "<p>3 rows × 3002 columns</p>\n",
              "</div>\n",
              "    <div class=\"colab-df-buttons\">\n",
              "\n",
              "  <div class=\"colab-df-container\">\n",
              "    <button class=\"colab-df-convert\" onclick=\"convertToInteractive('df-49ff3038-d771-49d9-8382-40fc57a049fa')\"\n",
              "            title=\"Convert this dataframe to an interactive table.\"\n",
              "            style=\"display:none;\">\n",
              "\n",
              "  <svg xmlns=\"http://www.w3.org/2000/svg\" height=\"24px\" viewBox=\"0 -960 960 960\">\n",
              "    <path d=\"M120-120v-720h720v720H120Zm60-500h600v-160H180v160Zm220 220h160v-160H400v160Zm0 220h160v-160H400v160ZM180-400h160v-160H180v160Zm440 0h160v-160H620v160ZM180-180h160v-160H180v160Zm440 0h160v-160H620v160Z\"/>\n",
              "  </svg>\n",
              "    </button>\n",
              "\n",
              "  <style>\n",
              "    .colab-df-container {\n",
              "      display:flex;\n",
              "      gap: 12px;\n",
              "    }\n",
              "\n",
              "    .colab-df-convert {\n",
              "      background-color: #E8F0FE;\n",
              "      border: none;\n",
              "      border-radius: 50%;\n",
              "      cursor: pointer;\n",
              "      display: none;\n",
              "      fill: #1967D2;\n",
              "      height: 32px;\n",
              "      padding: 0 0 0 0;\n",
              "      width: 32px;\n",
              "    }\n",
              "\n",
              "    .colab-df-convert:hover {\n",
              "      background-color: #E2EBFA;\n",
              "      box-shadow: 0px 1px 2px rgba(60, 64, 67, 0.3), 0px 1px 3px 1px rgba(60, 64, 67, 0.15);\n",
              "      fill: #174EA6;\n",
              "    }\n",
              "\n",
              "    .colab-df-buttons div {\n",
              "      margin-bottom: 4px;\n",
              "    }\n",
              "\n",
              "    [theme=dark] .colab-df-convert {\n",
              "      background-color: #3B4455;\n",
              "      fill: #D2E3FC;\n",
              "    }\n",
              "\n",
              "    [theme=dark] .colab-df-convert:hover {\n",
              "      background-color: #434B5C;\n",
              "      box-shadow: 0px 1px 3px 1px rgba(0, 0, 0, 0.15);\n",
              "      filter: drop-shadow(0px 1px 2px rgba(0, 0, 0, 0.3));\n",
              "      fill: #FFFFFF;\n",
              "    }\n",
              "  </style>\n",
              "\n",
              "    <script>\n",
              "      const buttonEl =\n",
              "        document.querySelector('#df-49ff3038-d771-49d9-8382-40fc57a049fa button.colab-df-convert');\n",
              "      buttonEl.style.display =\n",
              "        google.colab.kernel.accessAllowed ? 'block' : 'none';\n",
              "\n",
              "      async function convertToInteractive(key) {\n",
              "        const element = document.querySelector('#df-49ff3038-d771-49d9-8382-40fc57a049fa');\n",
              "        const dataTable =\n",
              "          await google.colab.kernel.invokeFunction('convertToInteractive',\n",
              "                                                    [key], {});\n",
              "        if (!dataTable) return;\n",
              "\n",
              "        const docLinkHtml = 'Like what you see? Visit the ' +\n",
              "          '<a target=\"_blank\" href=https://colab.research.google.com/notebooks/data_table.ipynb>data table notebook</a>'\n",
              "          + ' to learn more about interactive tables.';\n",
              "        element.innerHTML = '';\n",
              "        dataTable['output_type'] = 'display_data';\n",
              "        await google.colab.output.renderOutput(dataTable, element);\n",
              "        const docLink = document.createElement('div');\n",
              "        docLink.innerHTML = docLinkHtml;\n",
              "        element.appendChild(docLink);\n",
              "      }\n",
              "    </script>\n",
              "  </div>\n",
              "\n",
              "\n",
              "<div id=\"df-56d87b81-d1f8-4b7c-8ade-d60905263816\">\n",
              "  <button class=\"colab-df-quickchart\" onclick=\"quickchart('df-56d87b81-d1f8-4b7c-8ade-d60905263816')\"\n",
              "            title=\"Suggest charts\"\n",
              "            style=\"display:none;\">\n",
              "\n",
              "<svg xmlns=\"http://www.w3.org/2000/svg\" height=\"24px\"viewBox=\"0 0 24 24\"\n",
              "     width=\"24px\">\n",
              "    <g>\n",
              "        <path d=\"M19 3H5c-1.1 0-2 .9-2 2v14c0 1.1.9 2 2 2h14c1.1 0 2-.9 2-2V5c0-1.1-.9-2-2-2zM9 17H7v-7h2v7zm4 0h-2V7h2v10zm4 0h-2v-4h2v4z\"/>\n",
              "    </g>\n",
              "</svg>\n",
              "  </button>\n",
              "\n",
              "<style>\n",
              "  .colab-df-quickchart {\n",
              "      --bg-color: #E8F0FE;\n",
              "      --fill-color: #1967D2;\n",
              "      --hover-bg-color: #E2EBFA;\n",
              "      --hover-fill-color: #174EA6;\n",
              "      --disabled-fill-color: #AAA;\n",
              "      --disabled-bg-color: #DDD;\n",
              "  }\n",
              "\n",
              "  [theme=dark] .colab-df-quickchart {\n",
              "      --bg-color: #3B4455;\n",
              "      --fill-color: #D2E3FC;\n",
              "      --hover-bg-color: #434B5C;\n",
              "      --hover-fill-color: #FFFFFF;\n",
              "      --disabled-bg-color: #3B4455;\n",
              "      --disabled-fill-color: #666;\n",
              "  }\n",
              "\n",
              "  .colab-df-quickchart {\n",
              "    background-color: var(--bg-color);\n",
              "    border: none;\n",
              "    border-radius: 50%;\n",
              "    cursor: pointer;\n",
              "    display: none;\n",
              "    fill: var(--fill-color);\n",
              "    height: 32px;\n",
              "    padding: 0;\n",
              "    width: 32px;\n",
              "  }\n",
              "\n",
              "  .colab-df-quickchart:hover {\n",
              "    background-color: var(--hover-bg-color);\n",
              "    box-shadow: 0 1px 2px rgba(60, 64, 67, 0.3), 0 1px 3px 1px rgba(60, 64, 67, 0.15);\n",
              "    fill: var(--button-hover-fill-color);\n",
              "  }\n",
              "\n",
              "  .colab-df-quickchart-complete:disabled,\n",
              "  .colab-df-quickchart-complete:disabled:hover {\n",
              "    background-color: var(--disabled-bg-color);\n",
              "    fill: var(--disabled-fill-color);\n",
              "    box-shadow: none;\n",
              "  }\n",
              "\n",
              "  .colab-df-spinner {\n",
              "    border: 2px solid var(--fill-color);\n",
              "    border-color: transparent;\n",
              "    border-bottom-color: var(--fill-color);\n",
              "    animation:\n",
              "      spin 1s steps(1) infinite;\n",
              "  }\n",
              "\n",
              "  @keyframes spin {\n",
              "    0% {\n",
              "      border-color: transparent;\n",
              "      border-bottom-color: var(--fill-color);\n",
              "      border-left-color: var(--fill-color);\n",
              "    }\n",
              "    20% {\n",
              "      border-color: transparent;\n",
              "      border-left-color: var(--fill-color);\n",
              "      border-top-color: var(--fill-color);\n",
              "    }\n",
              "    30% {\n",
              "      border-color: transparent;\n",
              "      border-left-color: var(--fill-color);\n",
              "      border-top-color: var(--fill-color);\n",
              "      border-right-color: var(--fill-color);\n",
              "    }\n",
              "    40% {\n",
              "      border-color: transparent;\n",
              "      border-right-color: var(--fill-color);\n",
              "      border-top-color: var(--fill-color);\n",
              "    }\n",
              "    60% {\n",
              "      border-color: transparent;\n",
              "      border-right-color: var(--fill-color);\n",
              "    }\n",
              "    80% {\n",
              "      border-color: transparent;\n",
              "      border-right-color: var(--fill-color);\n",
              "      border-bottom-color: var(--fill-color);\n",
              "    }\n",
              "    90% {\n",
              "      border-color: transparent;\n",
              "      border-bottom-color: var(--fill-color);\n",
              "    }\n",
              "  }\n",
              "</style>\n",
              "\n",
              "  <script>\n",
              "    async function quickchart(key) {\n",
              "      const quickchartButtonEl =\n",
              "        document.querySelector('#' + key + ' button');\n",
              "      quickchartButtonEl.disabled = true;  // To prevent multiple clicks.\n",
              "      quickchartButtonEl.classList.add('colab-df-spinner');\n",
              "      try {\n",
              "        const charts = await google.colab.kernel.invokeFunction(\n",
              "            'suggestCharts', [key], {});\n",
              "      } catch (error) {\n",
              "        console.error('Error during call to suggestCharts:', error);\n",
              "      }\n",
              "      quickchartButtonEl.classList.remove('colab-df-spinner');\n",
              "      quickchartButtonEl.classList.add('colab-df-quickchart-complete');\n",
              "    }\n",
              "    (() => {\n",
              "      let quickchartButtonEl =\n",
              "        document.querySelector('#df-56d87b81-d1f8-4b7c-8ade-d60905263816 button');\n",
              "      quickchartButtonEl.style.display =\n",
              "        google.colab.kernel.accessAllowed ? 'block' : 'none';\n",
              "    })();\n",
              "  </script>\n",
              "</div>\n",
              "    </div>\n",
              "  </div>\n"
            ]
          },
          "metadata": {},
          "execution_count": 12
        }
      ]
    },
    {
      "cell_type": "code",
      "source": [
        "raw_bulk_data = pd.read_csv(path/'RNA.csv', low_memory=False)\n",
        "bulk_data = raw_bulk_data.set_index('ID').T\n",
        "bulk_data = (bulk_data - bulk_data.mean(axis=0)) / bulk_data.std(axis=0)\n",
        "bulk_data['code'] = [0,1,2,3,4,5,0,1,2,3,4,5]"
      ],
      "metadata": {
        "id": "tbcW3tYB-f0C"
      },
      "execution_count": 13,
      "outputs": []
    },
    {
      "cell_type": "markdown",
      "source": [
        "The bulk data contains more columns than scRNA-seq data."
      ],
      "metadata": {
        "id": "wYZi0s4hpCnv"
      }
    },
    {
      "cell_type": "code",
      "source": [
        "cols = set(list(df.columns) + list(bulk_data.columns))\n",
        "len(cols)"
      ],
      "metadata": {
        "colab": {
          "base_uri": "https://localhost:8080/"
        },
        "id": "ns5UennyEpIg",
        "outputId": "aabea28e-02e8-4eb2-80e8-0835b3ae30e2"
      },
      "execution_count": 14,
      "outputs": [
        {
          "output_type": "execute_result",
          "data": {
            "text/plain": [
              "10910"
            ]
          },
          "metadata": {},
          "execution_count": 14
        }
      ]
    },
    {
      "cell_type": "markdown",
      "source": [
        "### Bulk + scRNA-seq"
      ],
      "metadata": {
        "id": "T2hYSXtipnD_"
      }
    },
    {
      "cell_type": "markdown",
      "source": [
        "Instead of joining tables, we create a new table with the same shape as the bulk data with normally distributed random numbers. Then, we overwrite columns from scRNA-seq into this new table."
      ],
      "metadata": {
        "id": "c6Ym7dKGpuRw"
      }
    },
    {
      "cell_type": "code",
      "source": [
        "# New dataframe (table) with normally distributed random numbers\n",
        "df2 = pd.DataFrame(np.random.normal(size=(15992, 9482)), columns=bulk_data.columns)\n",
        "df.reset_index(inplace=True)\n",
        "df2.update(df)\n",
        "df2[:3]"
      ],
      "metadata": {
        "colab": {
          "base_uri": "https://localhost:8080/",
          "height": 193
        },
        "id": "uE8-840_HwMo",
        "outputId": "5deb0f8a-2561-4f42-89ec-3b99ab4e35e4"
      },
      "execution_count": 15,
      "outputs": [
        {
          "output_type": "execute_result",
          "data": {
            "text/plain": [
              "ID  2810459M11Rik    Abcb11     Acot7    Ahctf1     Ap2a2     Asb13       Asl  \\\n",
              "0       -1.673128  1.084080  0.038466 -0.004780 -0.601919 -0.071131 -0.043890   \n",
              "1       -0.805391 -0.872108  0.508653  0.160614 -0.532530 -0.641520 -0.387448   \n",
              "2        0.399730  0.738870 -1.281375  0.257980  0.205694 -1.766349  1.673901   \n",
              "\n",
              "ID      Chka     Clic3      Clpx  ...      Ap1s3     Vamp4      Pigm  \\\n",
              "0   1.686979 -0.327150  0.234600  ...  -0.166754  0.079255 -2.592855   \n",
              "1  -0.189915 -0.134418 -0.363165  ...  -0.166754 -1.080095  0.429537   \n",
              "2   0.122900 -1.406753  1.131247  ...  10.777388  0.737111  1.241127   \n",
              "\n",
              "ID    Pard6g      Gas2     Pot1b    Zfp759      Neo1      Sco1  code  \n",
              "0   1.550299  2.159961 -0.401256  0.035899  0.542793  0.651020   4.0  \n",
              "1  -0.286616 -0.784713 -0.401256  0.789824  0.088444 -1.541891   4.0  \n",
              "2   1.544991  0.821473 -0.401256  0.392862  0.668692 -1.265510   4.0  \n",
              "\n",
              "[3 rows x 9482 columns]"
            ],
            "text/html": [
              "\n",
              "  <div id=\"df-66d4c62d-9d07-4710-8b5a-9ed9bf017e3b\" class=\"colab-df-container\">\n",
              "    <div>\n",
              "<style scoped>\n",
              "    .dataframe tbody tr th:only-of-type {\n",
              "        vertical-align: middle;\n",
              "    }\n",
              "\n",
              "    .dataframe tbody tr th {\n",
              "        vertical-align: top;\n",
              "    }\n",
              "\n",
              "    .dataframe thead th {\n",
              "        text-align: right;\n",
              "    }\n",
              "</style>\n",
              "<table border=\"1\" class=\"dataframe\">\n",
              "  <thead>\n",
              "    <tr style=\"text-align: right;\">\n",
              "      <th>ID</th>\n",
              "      <th>2810459M11Rik</th>\n",
              "      <th>Abcb11</th>\n",
              "      <th>Acot7</th>\n",
              "      <th>Ahctf1</th>\n",
              "      <th>Ap2a2</th>\n",
              "      <th>Asb13</th>\n",
              "      <th>Asl</th>\n",
              "      <th>Chka</th>\n",
              "      <th>Clic3</th>\n",
              "      <th>Clpx</th>\n",
              "      <th>...</th>\n",
              "      <th>Ap1s3</th>\n",
              "      <th>Vamp4</th>\n",
              "      <th>Pigm</th>\n",
              "      <th>Pard6g</th>\n",
              "      <th>Gas2</th>\n",
              "      <th>Pot1b</th>\n",
              "      <th>Zfp759</th>\n",
              "      <th>Neo1</th>\n",
              "      <th>Sco1</th>\n",
              "      <th>code</th>\n",
              "    </tr>\n",
              "  </thead>\n",
              "  <tbody>\n",
              "    <tr>\n",
              "      <th>0</th>\n",
              "      <td>-1.673128</td>\n",
              "      <td>1.084080</td>\n",
              "      <td>0.038466</td>\n",
              "      <td>-0.004780</td>\n",
              "      <td>-0.601919</td>\n",
              "      <td>-0.071131</td>\n",
              "      <td>-0.043890</td>\n",
              "      <td>1.686979</td>\n",
              "      <td>-0.327150</td>\n",
              "      <td>0.234600</td>\n",
              "      <td>...</td>\n",
              "      <td>-0.166754</td>\n",
              "      <td>0.079255</td>\n",
              "      <td>-2.592855</td>\n",
              "      <td>1.550299</td>\n",
              "      <td>2.159961</td>\n",
              "      <td>-0.401256</td>\n",
              "      <td>0.035899</td>\n",
              "      <td>0.542793</td>\n",
              "      <td>0.651020</td>\n",
              "      <td>4.0</td>\n",
              "    </tr>\n",
              "    <tr>\n",
              "      <th>1</th>\n",
              "      <td>-0.805391</td>\n",
              "      <td>-0.872108</td>\n",
              "      <td>0.508653</td>\n",
              "      <td>0.160614</td>\n",
              "      <td>-0.532530</td>\n",
              "      <td>-0.641520</td>\n",
              "      <td>-0.387448</td>\n",
              "      <td>-0.189915</td>\n",
              "      <td>-0.134418</td>\n",
              "      <td>-0.363165</td>\n",
              "      <td>...</td>\n",
              "      <td>-0.166754</td>\n",
              "      <td>-1.080095</td>\n",
              "      <td>0.429537</td>\n",
              "      <td>-0.286616</td>\n",
              "      <td>-0.784713</td>\n",
              "      <td>-0.401256</td>\n",
              "      <td>0.789824</td>\n",
              "      <td>0.088444</td>\n",
              "      <td>-1.541891</td>\n",
              "      <td>4.0</td>\n",
              "    </tr>\n",
              "    <tr>\n",
              "      <th>2</th>\n",
              "      <td>0.399730</td>\n",
              "      <td>0.738870</td>\n",
              "      <td>-1.281375</td>\n",
              "      <td>0.257980</td>\n",
              "      <td>0.205694</td>\n",
              "      <td>-1.766349</td>\n",
              "      <td>1.673901</td>\n",
              "      <td>0.122900</td>\n",
              "      <td>-1.406753</td>\n",
              "      <td>1.131247</td>\n",
              "      <td>...</td>\n",
              "      <td>10.777388</td>\n",
              "      <td>0.737111</td>\n",
              "      <td>1.241127</td>\n",
              "      <td>1.544991</td>\n",
              "      <td>0.821473</td>\n",
              "      <td>-0.401256</td>\n",
              "      <td>0.392862</td>\n",
              "      <td>0.668692</td>\n",
              "      <td>-1.265510</td>\n",
              "      <td>4.0</td>\n",
              "    </tr>\n",
              "  </tbody>\n",
              "</table>\n",
              "<p>3 rows × 9482 columns</p>\n",
              "</div>\n",
              "    <div class=\"colab-df-buttons\">\n",
              "\n",
              "  <div class=\"colab-df-container\">\n",
              "    <button class=\"colab-df-convert\" onclick=\"convertToInteractive('df-66d4c62d-9d07-4710-8b5a-9ed9bf017e3b')\"\n",
              "            title=\"Convert this dataframe to an interactive table.\"\n",
              "            style=\"display:none;\">\n",
              "\n",
              "  <svg xmlns=\"http://www.w3.org/2000/svg\" height=\"24px\" viewBox=\"0 -960 960 960\">\n",
              "    <path d=\"M120-120v-720h720v720H120Zm60-500h600v-160H180v160Zm220 220h160v-160H400v160Zm0 220h160v-160H400v160ZM180-400h160v-160H180v160Zm440 0h160v-160H620v160ZM180-180h160v-160H180v160Zm440 0h160v-160H620v160Z\"/>\n",
              "  </svg>\n",
              "    </button>\n",
              "\n",
              "  <style>\n",
              "    .colab-df-container {\n",
              "      display:flex;\n",
              "      gap: 12px;\n",
              "    }\n",
              "\n",
              "    .colab-df-convert {\n",
              "      background-color: #E8F0FE;\n",
              "      border: none;\n",
              "      border-radius: 50%;\n",
              "      cursor: pointer;\n",
              "      display: none;\n",
              "      fill: #1967D2;\n",
              "      height: 32px;\n",
              "      padding: 0 0 0 0;\n",
              "      width: 32px;\n",
              "    }\n",
              "\n",
              "    .colab-df-convert:hover {\n",
              "      background-color: #E2EBFA;\n",
              "      box-shadow: 0px 1px 2px rgba(60, 64, 67, 0.3), 0px 1px 3px 1px rgba(60, 64, 67, 0.15);\n",
              "      fill: #174EA6;\n",
              "    }\n",
              "\n",
              "    .colab-df-buttons div {\n",
              "      margin-bottom: 4px;\n",
              "    }\n",
              "\n",
              "    [theme=dark] .colab-df-convert {\n",
              "      background-color: #3B4455;\n",
              "      fill: #D2E3FC;\n",
              "    }\n",
              "\n",
              "    [theme=dark] .colab-df-convert:hover {\n",
              "      background-color: #434B5C;\n",
              "      box-shadow: 0px 1px 3px 1px rgba(0, 0, 0, 0.15);\n",
              "      filter: drop-shadow(0px 1px 2px rgba(0, 0, 0, 0.3));\n",
              "      fill: #FFFFFF;\n",
              "    }\n",
              "  </style>\n",
              "\n",
              "    <script>\n",
              "      const buttonEl =\n",
              "        document.querySelector('#df-66d4c62d-9d07-4710-8b5a-9ed9bf017e3b button.colab-df-convert');\n",
              "      buttonEl.style.display =\n",
              "        google.colab.kernel.accessAllowed ? 'block' : 'none';\n",
              "\n",
              "      async function convertToInteractive(key) {\n",
              "        const element = document.querySelector('#df-66d4c62d-9d07-4710-8b5a-9ed9bf017e3b');\n",
              "        const dataTable =\n",
              "          await google.colab.kernel.invokeFunction('convertToInteractive',\n",
              "                                                    [key], {});\n",
              "        if (!dataTable) return;\n",
              "\n",
              "        const docLinkHtml = 'Like what you see? Visit the ' +\n",
              "          '<a target=\"_blank\" href=https://colab.research.google.com/notebooks/data_table.ipynb>data table notebook</a>'\n",
              "          + ' to learn more about interactive tables.';\n",
              "        element.innerHTML = '';\n",
              "        dataTable['output_type'] = 'display_data';\n",
              "        await google.colab.output.renderOutput(dataTable, element);\n",
              "        const docLink = document.createElement('div');\n",
              "        docLink.innerHTML = docLinkHtml;\n",
              "        element.appendChild(docLink);\n",
              "      }\n",
              "    </script>\n",
              "  </div>\n",
              "\n",
              "\n",
              "<div id=\"df-8bb1f933-1267-457a-9539-9763412a4e98\">\n",
              "  <button class=\"colab-df-quickchart\" onclick=\"quickchart('df-8bb1f933-1267-457a-9539-9763412a4e98')\"\n",
              "            title=\"Suggest charts\"\n",
              "            style=\"display:none;\">\n",
              "\n",
              "<svg xmlns=\"http://www.w3.org/2000/svg\" height=\"24px\"viewBox=\"0 0 24 24\"\n",
              "     width=\"24px\">\n",
              "    <g>\n",
              "        <path d=\"M19 3H5c-1.1 0-2 .9-2 2v14c0 1.1.9 2 2 2h14c1.1 0 2-.9 2-2V5c0-1.1-.9-2-2-2zM9 17H7v-7h2v7zm4 0h-2V7h2v10zm4 0h-2v-4h2v4z\"/>\n",
              "    </g>\n",
              "</svg>\n",
              "  </button>\n",
              "\n",
              "<style>\n",
              "  .colab-df-quickchart {\n",
              "      --bg-color: #E8F0FE;\n",
              "      --fill-color: #1967D2;\n",
              "      --hover-bg-color: #E2EBFA;\n",
              "      --hover-fill-color: #174EA6;\n",
              "      --disabled-fill-color: #AAA;\n",
              "      --disabled-bg-color: #DDD;\n",
              "  }\n",
              "\n",
              "  [theme=dark] .colab-df-quickchart {\n",
              "      --bg-color: #3B4455;\n",
              "      --fill-color: #D2E3FC;\n",
              "      --hover-bg-color: #434B5C;\n",
              "      --hover-fill-color: #FFFFFF;\n",
              "      --disabled-bg-color: #3B4455;\n",
              "      --disabled-fill-color: #666;\n",
              "  }\n",
              "\n",
              "  .colab-df-quickchart {\n",
              "    background-color: var(--bg-color);\n",
              "    border: none;\n",
              "    border-radius: 50%;\n",
              "    cursor: pointer;\n",
              "    display: none;\n",
              "    fill: var(--fill-color);\n",
              "    height: 32px;\n",
              "    padding: 0;\n",
              "    width: 32px;\n",
              "  }\n",
              "\n",
              "  .colab-df-quickchart:hover {\n",
              "    background-color: var(--hover-bg-color);\n",
              "    box-shadow: 0 1px 2px rgba(60, 64, 67, 0.3), 0 1px 3px 1px rgba(60, 64, 67, 0.15);\n",
              "    fill: var(--button-hover-fill-color);\n",
              "  }\n",
              "\n",
              "  .colab-df-quickchart-complete:disabled,\n",
              "  .colab-df-quickchart-complete:disabled:hover {\n",
              "    background-color: var(--disabled-bg-color);\n",
              "    fill: var(--disabled-fill-color);\n",
              "    box-shadow: none;\n",
              "  }\n",
              "\n",
              "  .colab-df-spinner {\n",
              "    border: 2px solid var(--fill-color);\n",
              "    border-color: transparent;\n",
              "    border-bottom-color: var(--fill-color);\n",
              "    animation:\n",
              "      spin 1s steps(1) infinite;\n",
              "  }\n",
              "\n",
              "  @keyframes spin {\n",
              "    0% {\n",
              "      border-color: transparent;\n",
              "      border-bottom-color: var(--fill-color);\n",
              "      border-left-color: var(--fill-color);\n",
              "    }\n",
              "    20% {\n",
              "      border-color: transparent;\n",
              "      border-left-color: var(--fill-color);\n",
              "      border-top-color: var(--fill-color);\n",
              "    }\n",
              "    30% {\n",
              "      border-color: transparent;\n",
              "      border-left-color: var(--fill-color);\n",
              "      border-top-color: var(--fill-color);\n",
              "      border-right-color: var(--fill-color);\n",
              "    }\n",
              "    40% {\n",
              "      border-color: transparent;\n",
              "      border-right-color: var(--fill-color);\n",
              "      border-top-color: var(--fill-color);\n",
              "    }\n",
              "    60% {\n",
              "      border-color: transparent;\n",
              "      border-right-color: var(--fill-color);\n",
              "    }\n",
              "    80% {\n",
              "      border-color: transparent;\n",
              "      border-right-color: var(--fill-color);\n",
              "      border-bottom-color: var(--fill-color);\n",
              "    }\n",
              "    90% {\n",
              "      border-color: transparent;\n",
              "      border-bottom-color: var(--fill-color);\n",
              "    }\n",
              "  }\n",
              "</style>\n",
              "\n",
              "  <script>\n",
              "    async function quickchart(key) {\n",
              "      const quickchartButtonEl =\n",
              "        document.querySelector('#' + key + ' button');\n",
              "      quickchartButtonEl.disabled = true;  // To prevent multiple clicks.\n",
              "      quickchartButtonEl.classList.add('colab-df-spinner');\n",
              "      try {\n",
              "        const charts = await google.colab.kernel.invokeFunction(\n",
              "            'suggestCharts', [key], {});\n",
              "      } catch (error) {\n",
              "        console.error('Error during call to suggestCharts:', error);\n",
              "      }\n",
              "      quickchartButtonEl.classList.remove('colab-df-spinner');\n",
              "      quickchartButtonEl.classList.add('colab-df-quickchart-complete');\n",
              "    }\n",
              "    (() => {\n",
              "      let quickchartButtonEl =\n",
              "        document.querySelector('#df-8bb1f933-1267-457a-9539-9763412a4e98 button');\n",
              "      quickchartButtonEl.style.display =\n",
              "        google.colab.kernel.accessAllowed ? 'block' : 'none';\n",
              "    })();\n",
              "  </script>\n",
              "</div>\n",
              "    </div>\n",
              "  </div>\n"
            ]
          },
          "metadata": {},
          "execution_count": 15
        }
      ]
    },
    {
      "cell_type": "markdown",
      "source": [
        "## Using Pytorch"
      ],
      "metadata": {
        "id": "95SE_jm6m01h"
      }
    },
    {
      "cell_type": "code",
      "source": [
        "t_dep = tensor(df2['code'], dtype=torch.long)\n",
        "indep_cols = list(df2.columns)[:-1]\n",
        "t_indep = tensor(df2[indep_cols].values, dtype=torch.float32)"
      ],
      "metadata": {
        "id": "N5t4EYXDK05y"
      },
      "execution_count": 16,
      "outputs": []
    },
    {
      "cell_type": "code",
      "source": [
        "tst_dep = tensor(bulk_data['code'], dtype=torch.long)\n",
        "tst_indep_cols = list(bulk_data.columns)[:-1]\n",
        "tst_indep = tensor(bulk_data[indep_cols].values, dtype=torch.float32)\n",
        "tst_indep"
      ],
      "metadata": {
        "colab": {
          "base_uri": "https://localhost:8080/"
        },
        "id": "vFukNzAzaKCi",
        "outputId": "b0b81533-df1c-4ae3-8f11-67e1618db25c"
      },
      "execution_count": 17,
      "outputs": [
        {
          "output_type": "execute_result",
          "data": {
            "text/plain": [
              "tensor([[ 1.1054,  1.7349, -1.0005,  ...,  0.1433, -0.5614, -0.5629],\n",
              "        [ 0.1407,  0.3628,  0.2168,  ..., -1.1979,  1.1994,  0.0943],\n",
              "        [-0.8167, -1.0595,  0.3766,  ...,  1.8283, -1.9395, -1.7678],\n",
              "        ...,\n",
              "        [-0.6048, -1.0751,  0.9168,  ...,  0.1089, -0.2552, -0.3438],\n",
              "        [ 0.4233,  0.0204,  0.0723,  ..., -1.3010, -0.1021, -1.0376],\n",
              "        [ 1.0372,  0.7136, -0.5212,  ...,  1.8627,  0.4338, -0.7820]])"
            ]
          },
          "metadata": {},
          "execution_count": 17
        }
      ]
    },
    {
      "cell_type": "code",
      "source": [
        "from fastai.data.transforms import RandomSplitter\n",
        "trn_split,val_split=RandomSplitter(seed=42)(df2)"
      ],
      "metadata": {
        "id": "bsmF6bLfKPAn"
      },
      "execution_count": 18,
      "outputs": []
    },
    {
      "cell_type": "code",
      "source": [
        "trn_indep,val_indep = t_indep[trn_split],t_indep[val_split]\n",
        "trn_dep,val_dep = t_dep[trn_split],t_dep[val_split]\n",
        "len(trn_indep),len(val_indep)"
      ],
      "metadata": {
        "colab": {
          "base_uri": "https://localhost:8080/"
        },
        "id": "sIObZzNvYVZC",
        "outputId": "0ea1a9ce-a5aa-44ea-e1a9-a615a91785a1"
      },
      "execution_count": 19,
      "outputs": [
        {
          "output_type": "execute_result",
          "data": {
            "text/plain": [
              "(12794, 3198)"
            ]
          },
          "metadata": {},
          "execution_count": 19
        }
      ]
    },
    {
      "cell_type": "markdown",
      "source": [
        "### DataLoaders"
      ],
      "metadata": {
        "id": "VYYI0yuJm7vE"
      }
    },
    {
      "cell_type": "markdown",
      "source": [
        "Pretty much the same as the previous approach with bulk data as the test data."
      ],
      "metadata": {
        "id": "LsTRYzzIs3QC"
      }
    },
    {
      "cell_type": "code",
      "source": [
        "# set_seed(42)\n",
        "trn_dl = DataLoader(list(zip(trn_indep, trn_dep)), batch_size=64, shuffle=True)\n",
        "val_dl = DataLoader(list(zip(val_indep, val_dep)), batch_size=64, shuffle=True)\n",
        "dls = DataLoaders(trn_dl, val_dl)\n",
        "dt = dls.train\n",
        "xb,yb = next(iter(dt))\n",
        "xb.shape,yb[:10]"
      ],
      "metadata": {
        "colab": {
          "base_uri": "https://localhost:8080/"
        },
        "id": "3gUxwJiFarno",
        "outputId": "8b0ff0bd-f609-49ec-e22b-06601cc40507"
      },
      "execution_count": 20,
      "outputs": [
        {
          "output_type": "execute_result",
          "data": {
            "text/plain": [
              "(torch.Size([64, 9481]), tensor([0, 4, 5, 0, 0, 5, 2, 2, 2, 3]))"
            ]
          },
          "metadata": {},
          "execution_count": 20
        }
      ]
    },
    {
      "cell_type": "code",
      "source": [
        "tst_dl = DataLoader(list(zip(tst_indep, tst_dep)), shuffle=False)"
      ],
      "metadata": {
        "id": "M3G0Up31b3mN"
      },
      "execution_count": 21,
      "outputs": []
    },
    {
      "cell_type": "code",
      "source": [
        "metrics = MetricsCB(accuracy=MulticlassAccuracy(device='cpu'))\n",
        "astats = ActivationStats(nn.ReLU)\n",
        "cbs = [DeviceCB(), metrics, ProgressCB(plot=False), astats]"
      ],
      "metadata": {
        "id": "FxAJhiYGcNyK"
      },
      "execution_count": 22,
      "outputs": []
    },
    {
      "cell_type": "code",
      "source": [
        "# set_seed(42)\n",
        "model = nn.Sequential(*[nn.Linear(9481, 100), nn.ReLU(), nn.Linear(100, 100), nn.ReLU(), nn.Linear(100, 6)])\n",
        "learn = TrainLearner(model, dls, lr=.01, loss_func=F.cross_entropy, cbs=cbs)"
      ],
      "metadata": {
        "id": "yl0NdGULt7Ln"
      },
      "execution_count": 23,
      "outputs": []
    },
    {
      "cell_type": "code",
      "source": [
        "learn.summary()"
      ],
      "metadata": {
        "colab": {
          "base_uri": "https://localhost:8080/",
          "height": 264
        },
        "id": "Q5oqQJrNzkCG",
        "outputId": "bc18b015-875b-453d-cfa2-2f45ed265be2"
      },
      "execution_count": 24,
      "outputs": [
        {
          "output_type": "display_data",
          "data": {
            "text/plain": [
              "<IPython.core.display.HTML object>"
            ],
            "text/html": [
              "\n",
              "<style>\n",
              "    /* Turns off some styling */\n",
              "    progress {\n",
              "        /* gets rid of default border in Firefox and Opera. */\n",
              "        border: none;\n",
              "        /* Needs to be in here for Safari polyfill so background images work as expected. */\n",
              "        background-size: auto;\n",
              "    }\n",
              "    progress:not([value]), progress:not([value])::-webkit-progress-bar {\n",
              "        background: repeating-linear-gradient(45deg, #7e7e7e, #7e7e7e 10px, #5c5c5c 10px, #5c5c5c 20px);\n",
              "    }\n",
              "    .progress-bar-interrupted, .progress-bar-interrupted::-webkit-progress-bar {\n",
              "        background: #F44336;\n",
              "    }\n",
              "</style>\n"
            ]
          },
          "metadata": {}
        },
        {
          "output_type": "display_data",
          "data": {
            "text/plain": [
              "<IPython.core.display.HTML object>"
            ],
            "text/html": [
              "\n",
              "    <div>\n",
              "      <progress value='0' class='' max='1' style='width:300px; height:20px; vertical-align: middle;'></progress>\n",
              "      0.00% [0/1 00:00&lt;?]\n",
              "    </div>\n",
              "    \n",
              "\n",
              "\n",
              "    <div>\n",
              "      <progress value='0' class='' max='200' style='width:300px; height:20px; vertical-align: middle;'></progress>\n",
              "      0.00% [0/200 00:00&lt;?]\n",
              "    </div>\n",
              "    "
            ]
          },
          "metadata": {}
        },
        {
          "output_type": "stream",
          "name": "stdout",
          "text": [
            "Tot params: 958906; MFLOPS: 1.0\n"
          ]
        },
        {
          "output_type": "execute_result",
          "data": {
            "text/plain": [
              "<IPython.core.display.Markdown object>"
            ],
            "text/markdown": "|Module|Input|Output|Num params|MFLOPS|\n|--|--|--|--|--|\n|Linear|(64, 9481)|(64, 100)|948200|0.9|\n|ReLU|(64, 100)|(64, 100)|0|0.0|\n|Linear|(64, 100)|(64, 100)|10100|0.0|\n|ReLU|(64, 100)|(64, 100)|0|0.0|\n|Linear|(64, 100)|(64, 6)|606|0.0|\n"
          },
          "metadata": {},
          "execution_count": 24
        }
      ]
    },
    {
      "cell_type": "markdown",
      "source": [
        "## Data Augmentation"
      ],
      "metadata": {
        "id": "W38NYs28y3D_"
      }
    },
    {
      "cell_type": "markdown",
      "source": [
        "We randomly select two columns and swap them."
      ],
      "metadata": {
        "id": "l3Xv-EHvy52W"
      }
    },
    {
      "cell_type": "code",
      "source": [
        "xb,_ = next(iter(dls.train))\n",
        "xbt = xb[:5,:10]\n",
        "xbt"
      ],
      "metadata": {
        "colab": {
          "base_uri": "https://localhost:8080/"
        },
        "id": "PVNmIOJW2lTU",
        "outputId": "c1871ae4-a6d6-4623-f3ce-fb24a2e4a8a4"
      },
      "execution_count": 25,
      "outputs": [
        {
          "output_type": "execute_result",
          "data": {
            "text/plain": [
              "tensor([[ 0.5811, -0.5844, -1.3904, -0.5621,  0.2893,  1.1827, -0.7310, -0.1899,\n",
              "         -0.7998,  0.2346],\n",
              "        [ 0.4563, -0.6995, -0.8255,  1.3435,  2.0367,  2.3283, -0.3874, -0.6591,\n",
              "          0.7168, -0.8115],\n",
              "        [ 0.8756,  1.3142,  0.8828,  2.1354, -1.0790, -0.4113, -0.0439,  0.4357,\n",
              "          0.1252,  2.3268],\n",
              "        [ 0.6159, -0.7570, -1.0327, -0.7189,  0.0739, -0.4211, -0.0439, -0.8155,\n",
              "         -0.0296, -0.8115],\n",
              "        [-1.6423,  1.0265,  2.4759,  0.1268,  1.3292, -0.5343, -0.3874,  0.9049,\n",
              "         -1.7094,  2.0279]])"
            ]
          },
          "metadata": {},
          "execution_count": 25
        }
      ]
    },
    {
      "cell_type": "code",
      "source": [
        "tmp = xbt[:,1].detach().clone()\n",
        "xbt[:,1] = xbt[:,0]\n",
        "xbt[:,0] = tmp\n",
        "xbt"
      ],
      "metadata": {
        "colab": {
          "base_uri": "https://localhost:8080/"
        },
        "id": "GyCpHkqQ38Tk",
        "outputId": "3973bb81-a553-41af-aaae-0b0d9b4c696c"
      },
      "execution_count": 26,
      "outputs": [
        {
          "output_type": "execute_result",
          "data": {
            "text/plain": [
              "tensor([[-0.5844,  0.5811, -1.3904, -0.5621,  0.2893,  1.1827, -0.7310, -0.1899,\n",
              "         -0.7998,  0.2346],\n",
              "        [-0.6995,  0.4563, -0.8255,  1.3435,  2.0367,  2.3283, -0.3874, -0.6591,\n",
              "          0.7168, -0.8115],\n",
              "        [ 1.3142,  0.8756,  0.8828,  2.1354, -1.0790, -0.4113, -0.0439,  0.4357,\n",
              "          0.1252,  2.3268],\n",
              "        [-0.7570,  0.6159, -1.0327, -0.7189,  0.0739, -0.4211, -0.0439, -0.8155,\n",
              "         -0.0296, -0.8115],\n",
              "        [ 1.0265, -1.6423,  2.4759,  0.1268,  1.3292, -0.5343, -0.3874,  0.9049,\n",
              "         -1.7094,  2.0279]])"
            ]
          },
          "metadata": {},
          "execution_count": 26
        }
      ]
    },
    {
      "cell_type": "code",
      "source": [
        "import random\n",
        "random.randint"
      ],
      "metadata": {
        "colab": {
          "base_uri": "https://localhost:8080/"
        },
        "id": "mc7w2xCQ5Rqy",
        "outputId": "84e86a6c-05e3-4777-fb6f-6d57d8643118"
      },
      "execution_count": 27,
      "outputs": [
        {
          "output_type": "execute_result",
          "data": {
            "text/plain": [
              "<bound method Random.randint of <random.Random object at 0x5c1488794180>>"
            ]
          },
          "metadata": {},
          "execution_count": 27
        }
      ]
    },
    {
      "cell_type": "code",
      "source": [
        "def _random_swap(x):\n",
        "    \"\"\"Swap two columns randomly.\"\"\"\n",
        "    n_cols = x.shape[1]\n",
        "    a = random.randint(0, n_cols-1)\n",
        "    b = random.randint(0, n_cols-1)\n",
        "    tmp = x[:,a].detach().clone()\n",
        "    x[:,a] = x[:,b]\n",
        "    x[:,b] = tmp\n",
        "    return x"
      ],
      "metadata": {
        "id": "e5eU1b0B4904"
      },
      "execution_count": 28,
      "outputs": []
    },
    {
      "cell_type": "code",
      "source": [
        "_random_swap(xbt)"
      ],
      "metadata": {
        "colab": {
          "base_uri": "https://localhost:8080/"
        },
        "id": "139jBuOT6ZkA",
        "outputId": "84e27675-a78f-44fc-dd5e-b7ec826608ae"
      },
      "execution_count": 29,
      "outputs": [
        {
          "output_type": "execute_result",
          "data": {
            "text/plain": [
              "tensor([[-0.5844,  1.1827, -1.3904, -0.5621,  0.2893,  0.5811, -0.7310, -0.1899,\n",
              "         -0.7998,  0.2346],\n",
              "        [-0.6995,  2.3283, -0.8255,  1.3435,  2.0367,  0.4563, -0.3874, -0.6591,\n",
              "          0.7168, -0.8115],\n",
              "        [ 1.3142, -0.4113,  0.8828,  2.1354, -1.0790,  0.8756, -0.0439,  0.4357,\n",
              "          0.1252,  2.3268],\n",
              "        [-0.7570, -0.4211, -1.0327, -0.7189,  0.0739,  0.6159, -0.0439, -0.8155,\n",
              "         -0.0296, -0.8115],\n",
              "        [ 1.0265, -0.5343,  2.4759,  0.1268,  1.3292, -1.6423, -0.3874,  0.9049,\n",
              "         -1.7094,  2.0279]])"
            ]
          },
          "metadata": {},
          "execution_count": 29
        }
      ]
    },
    {
      "cell_type": "code",
      "source": [
        "def random_swap(x, max_swaps=10):\n",
        "    \"\"\"Swap two columns randomly by picking a random number.\"\"\"\n",
        "    swaps = random.randint(0, 10)\n",
        "    _random_swap(x)\n",
        "    return x"
      ],
      "metadata": {
        "id": "acUKi7kE8CO6"
      },
      "execution_count": 30,
      "outputs": []
    },
    {
      "cell_type": "code",
      "source": [
        "random_swap(xbt)"
      ],
      "metadata": {
        "colab": {
          "base_uri": "https://localhost:8080/"
        },
        "id": "ZyMbBvvh8aW-",
        "outputId": "2e89c6f3-56d0-41d9-e687-b6e0105c949b"
      },
      "execution_count": 31,
      "outputs": [
        {
          "output_type": "execute_result",
          "data": {
            "text/plain": [
              "tensor([[ 0.2893,  1.1827, -1.3904, -0.5621, -0.5844,  0.5811, -0.7310, -0.1899,\n",
              "         -0.7998,  0.2346],\n",
              "        [ 2.0367,  2.3283, -0.8255,  1.3435, -0.6995,  0.4563, -0.3874, -0.6591,\n",
              "          0.7168, -0.8115],\n",
              "        [-1.0790, -0.4113,  0.8828,  2.1354,  1.3142,  0.8756, -0.0439,  0.4357,\n",
              "          0.1252,  2.3268],\n",
              "        [ 0.0739, -0.4211, -1.0327, -0.7189, -0.7570,  0.6159, -0.0439, -0.8155,\n",
              "         -0.0296, -0.8115],\n",
              "        [ 1.3292, -0.5343,  2.4759,  0.1268,  1.0265, -1.6423, -0.3874,  0.9049,\n",
              "         -1.7094,  2.0279]])"
            ]
          },
          "metadata": {},
          "execution_count": 31
        }
      ]
    },
    {
      "cell_type": "code",
      "source": [
        "class RandomSwap(nn.Module):\n",
        "    def __init__(self, max_swaps=10):\n",
        "        super().__init__()\n",
        "        self.max_swaps = max_swaps\n",
        "\n",
        "    def forward(self, x):\n",
        "        return random_swap(x, self.max_swaps)"
      ],
      "metadata": {
        "id": "O_Zz4b8n9CYl"
      },
      "execution_count": 32,
      "outputs": []
    },
    {
      "cell_type": "code",
      "source": [
        "def tfm_batch(b, tfm_x=fc.noop, tfm_y = fc.noop): return tfm_x(b[0]),tfm_y(b[1])"
      ],
      "metadata": {
        "id": "7UUN5Rzg91dT"
      },
      "execution_count": 33,
      "outputs": []
    },
    {
      "cell_type": "code",
      "source": [
        "from functools import partial"
      ],
      "metadata": {
        "id": "UOVm1kqh-AqM"
      },
      "execution_count": 34,
      "outputs": []
    },
    {
      "cell_type": "code",
      "source": [
        "tfms = nn.Sequential(RandomSwap(3000))\n",
        "augcb = BatchTransformCB(partial(tfm_batch, tfm_x=tfms), on_val=False)"
      ],
      "metadata": {
        "id": "5FP27SCi9gv7"
      },
      "execution_count": 35,
      "outputs": []
    },
    {
      "cell_type": "code",
      "source": [
        "# set_seed(42)\n",
        "model = nn.Sequential(*[nn.Linear(9481, 100), nn.ReLU(), nn.Linear(100, 100), nn.ReLU(), nn.Linear(100, 6)])"
      ],
      "metadata": {
        "id": "8A3moaxlcXYL"
      },
      "execution_count": 36,
      "outputs": []
    },
    {
      "cell_type": "code",
      "source": [
        "cbs = cbs"
      ],
      "metadata": {
        "id": "5pm_WAXB-fUp"
      },
      "execution_count": 37,
      "outputs": []
    },
    {
      "cell_type": "code",
      "source": [
        "learn = TrainLearner(model, dls, F.cross_entropy, lr=1, cbs=[SingleBatchCB(), augcb])\n",
        "learn.fit(1)\n",
        "xb,yb = learn.batch\n",
        "xb[:5,:10]"
      ],
      "metadata": {
        "colab": {
          "base_uri": "https://localhost:8080/"
        },
        "id": "v5s7sLhqda-6",
        "outputId": "3a93a643-d63c-4f0f-9eb1-95622d9ed6f8"
      },
      "execution_count": 38,
      "outputs": [
        {
          "output_type": "execute_result",
          "data": {
            "text/plain": [
              "tensor([[ 0.3401, -0.9296, -0.5143, -0.2942,  1.1228,  0.2970, -0.7310, -0.8155,\n",
              "         -1.2767, -0.8115],\n",
              "        [ 2.1162, -0.3543,  0.2189,  0.2186, -0.6024, -0.5370,  2.0175,  0.2793,\n",
              "         -0.9936, -0.3632],\n",
              "        [ 1.7662, -0.7570, -0.4153,  0.5182, -0.6846, -1.2205,  3.0481, -0.6591,\n",
              "         -0.7852, -0.6620],\n",
              "        [-0.5363,  1.0265, -1.3745,  1.1991,  1.4529, -0.0482, -0.0439,  1.9998,\n",
              "          1.4343,  1.4301],\n",
              "        [-0.1378, -0.3543,  1.5490, -0.1799,  1.5770,  1.3616, -0.0439, -0.5027,\n",
              "         -1.0473, -0.5126]])"
            ]
          },
          "metadata": {},
          "execution_count": 38
        }
      ]
    },
    {
      "cell_type": "code",
      "source": [
        "TrainLearner(model, dls, lr=.01, loss_func=F.cross_entropy, cbs=cbs).lr_find()"
      ],
      "metadata": {
        "colab": {
          "base_uri": "https://localhost:8080/",
          "height": 474
        },
        "id": "PJ2ugycFEvwG",
        "outputId": "36371a54-5f6b-4984-d19e-fe4c2eff17ad"
      },
      "execution_count": 39,
      "outputs": [
        {
          "output_type": "display_data",
          "data": {
            "text/plain": [
              "<IPython.core.display.HTML object>"
            ],
            "text/html": [
              "\n",
              "<style>\n",
              "    /* Turns off some styling */\n",
              "    progress {\n",
              "        /* gets rid of default border in Firefox and Opera. */\n",
              "        border: none;\n",
              "        /* Needs to be in here for Safari polyfill so background images work as expected. */\n",
              "        background-size: auto;\n",
              "    }\n",
              "    progress:not([value]), progress:not([value])::-webkit-progress-bar {\n",
              "        background: repeating-linear-gradient(45deg, #7e7e7e, #7e7e7e 10px, #5c5c5c 10px, #5c5c5c 20px);\n",
              "    }\n",
              "    .progress-bar-interrupted, .progress-bar-interrupted::-webkit-progress-bar {\n",
              "        background: #F44336;\n",
              "    }\n",
              "</style>\n"
            ]
          },
          "metadata": {}
        },
        {
          "output_type": "display_data",
          "data": {
            "text/plain": [
              "<IPython.core.display.HTML object>"
            ],
            "text/html": [
              "\n",
              "    <div>\n",
              "      <progress value='0' class='' max='10' style='width:300px; height:20px; vertical-align: middle;'></progress>\n",
              "      0.00% [0/10 00:00&lt;?]\n",
              "    </div>\n",
              "    \n",
              "\n",
              "\n",
              "    <div>\n",
              "      <progress value='36' class='' max='200' style='width:300px; height:20px; vertical-align: middle;'></progress>\n",
              "      18.00% [36/200 00:00&lt;00:02 1.606]\n",
              "    </div>\n",
              "    "
            ]
          },
          "metadata": {}
        },
        {
          "output_type": "display_data",
          "data": {
            "text/plain": [
              "<Figure size 640x480 with 1 Axes>"
            ],
            "image/png": "[encoded data removed]"
          },
          "metadata": {}
        }
      ]
    },
    {
      "cell_type": "code",
      "source": [
        "class CapturePreds(Callback):\n",
        "    def before_fit(self, learn): self.all_input, self.all_preds, self.all_targs = [], [], []\n",
        "\n",
        "    def after_batch(self, learn):\n",
        "        self.all_input.append(learn.batch[0])\n",
        "        self.all_preds.append(learn.preds)\n",
        "        self.all_preds.append(learn.batch[1])\n",
        "\n",
        "    def after_fit(self, learn):\n",
        "        self.all_input, self.all_preds, self.all_targs = map(torch.cat, [self.all_input, self.all_preds, self.all_targs])"
      ],
      "metadata": {
        "id": "zEmA9aStCEq6"
      },
      "execution_count": 40,
      "outputs": []
    },
    {
      "cell_type": "code",
      "source": [
        "t1 = torch.randn((3,4))\n",
        "t2 = torch.randn((3,4))\n",
        "t3 = torch.stack((t1, t2))\n",
        "t3"
      ],
      "metadata": {
        "colab": {
          "base_uri": "https://localhost:8080/"
        },
        "id": "oxyfaqtzDSOh",
        "outputId": "ddccfff5-d7c4-4f9f-a1a9-57260415b72f"
      },
      "execution_count": 41,
      "outputs": [
        {
          "output_type": "execute_result",
          "data": {
            "text/plain": [
              "tensor([[[-0.1023,  0.0039,  1.1939,  1.0740],\n",
              "         [ 0.3656,  1.3018, -0.5535, -1.5154],\n",
              "         [-1.3778, -0.7172,  0.2436,  0.4247]],\n",
              "\n",
              "        [[-1.7828, -1.3555,  0.4915,  0.4777],\n",
              "         [ 0.5539,  0.2376, -0.9292,  1.6535],\n",
              "         [ 0.2009, -0.4545, -0.1666,  2.9378]]])"
            ]
          },
          "metadata": {},
          "execution_count": 41
        }
      ]
    },
    {
      "cell_type": "code",
      "source": [
        "t3.shape"
      ],
      "metadata": {
        "colab": {
          "base_uri": "https://localhost:8080/"
        },
        "id": "VtxX4Mt8hKXj",
        "outputId": "dfe26a35-6e84-454d-f8f8-2c61daf6c7c5"
      },
      "execution_count": 42,
      "outputs": [
        {
          "output_type": "execute_result",
          "data": {
            "text/plain": [
              "torch.Size([2, 3, 4])"
            ]
          },
          "metadata": {},
          "execution_count": 42
        }
      ]
    },
    {
      "cell_type": "code",
      "source": [
        "t3.mean(0)"
      ],
      "metadata": {
        "colab": {
          "base_uri": "https://localhost:8080/"
        },
        "id": "OeO3P4tMhCAg",
        "outputId": "5e95d88f-2f88-4198-d489-a0274c65844f"
      },
      "execution_count": 43,
      "outputs": [
        {
          "output_type": "execute_result",
          "data": {
            "text/plain": [
              "tensor([[-0.9426, -0.6758,  0.8427,  0.7758],\n",
              "        [ 0.4598,  0.7697, -0.7413,  0.0690],\n",
              "        [-0.5884, -0.5859,  0.0385,  1.6812]])"
            ]
          },
          "metadata": {},
          "execution_count": 43
        }
      ]
    },
    {
      "cell_type": "code",
      "source": [
        "t3.mean(0).argmax(1)"
      ],
      "metadata": {
        "colab": {
          "base_uri": "https://localhost:8080/"
        },
        "id": "srK4bG7dhQoy",
        "outputId": "a2f0fccc-e0e0-4f23-a5ec-cd4e3b6dd60e"
      },
      "execution_count": 44,
      "outputs": [
        {
          "output_type": "execute_result",
          "data": {
            "text/plain": [
              "tensor([2, 1, 3])"
            ]
          },
          "metadata": {},
          "execution_count": 44
        }
      ]
    },
    {
      "cell_type": "code",
      "source": [
        "cp1 = CapturePreds()\n",
        "learn1 = TrainLearner(model, dls, lr=.03, loss_func=F.cross_entropy, cbs=cbs)\n",
        "learn1.fit(5, cbs=cp1)"
      ],
      "metadata": {
        "colab": {
          "base_uri": "https://localhost:8080/",
          "height": 667
        },
        "id": "48eGVECzeb-V",
        "outputId": "603b6719-9de8-4cfb-f43c-00632ce92d1f"
      },
      "execution_count": 45,
      "outputs": [
        {
          "output_type": "display_data",
          "data": {
            "text/plain": [
              "<IPython.core.display.HTML object>"
            ],
            "text/html": [
              "\n",
              "<style>\n",
              "    /* Turns off some styling */\n",
              "    progress {\n",
              "        /* gets rid of default border in Firefox and Opera. */\n",
              "        border: none;\n",
              "        /* Needs to be in here for Safari polyfill so background images work as expected. */\n",
              "        background-size: auto;\n",
              "    }\n",
              "    progress:not([value]), progress:not([value])::-webkit-progress-bar {\n",
              "        background: repeating-linear-gradient(45deg, #7e7e7e, #7e7e7e 10px, #5c5c5c 10px, #5c5c5c 20px);\n",
              "    }\n",
              "    .progress-bar-interrupted, .progress-bar-interrupted::-webkit-progress-bar {\n",
              "        background: #F44336;\n",
              "    }\n",
              "</style>\n"
            ]
          },
          "metadata": {}
        },
        {
          "output_type": "display_data",
          "data": {
            "text/plain": [
              "<IPython.core.display.HTML object>"
            ],
            "text/html": [
              "<table border=\"1\" class=\"dataframe\">\n",
              "  <thead>\n",
              "    <tr style=\"text-align: left;\">\n",
              "      <th>accuracy</th>\n",
              "      <th>loss</th>\n",
              "      <th>epoch</th>\n",
              "      <th>train</th>\n",
              "      <th>time</th>\n",
              "    </tr>\n",
              "  </thead>\n",
              "  <tbody>\n",
              "    <tr>\n",
              "      <td>0.658</td>\n",
              "      <td>1.133</td>\n",
              "      <td>0</td>\n",
              "      <td>True</td>\n",
              "      <td>00:02</td>\n",
              "    </tr>\n",
              "    <tr>\n",
              "      <td>0.825</td>\n",
              "      <td>0.519</td>\n",
              "      <td>0</td>\n",
              "      <td>False</td>\n",
              "      <td>00:00</td>\n",
              "    </tr>\n",
              "    <tr>\n",
              "      <td>0.914</td>\n",
              "      <td>0.265</td>\n",
              "      <td>1</td>\n",
              "      <td>True</td>\n",
              "      <td>00:02</td>\n",
              "    </tr>\n",
              "    <tr>\n",
              "      <td>0.901</td>\n",
              "      <td>0.283</td>\n",
              "      <td>1</td>\n",
              "      <td>False</td>\n",
              "      <td>00:00</td>\n",
              "    </tr>\n",
              "    <tr>\n",
              "      <td>0.990</td>\n",
              "      <td>0.062</td>\n",
              "      <td>2</td>\n",
              "      <td>True</td>\n",
              "      <td>00:02</td>\n",
              "    </tr>\n",
              "    <tr>\n",
              "      <td>0.913</td>\n",
              "      <td>0.256</td>\n",
              "      <td>2</td>\n",
              "      <td>False</td>\n",
              "      <td>00:00</td>\n",
              "    </tr>\n",
              "    <tr>\n",
              "      <td>0.999</td>\n",
              "      <td>0.018</td>\n",
              "      <td>3</td>\n",
              "      <td>True</td>\n",
              "      <td>00:02</td>\n",
              "    </tr>\n",
              "    <tr>\n",
              "      <td>0.920</td>\n",
              "      <td>0.232</td>\n",
              "      <td>3</td>\n",
              "      <td>False</td>\n",
              "      <td>00:00</td>\n",
              "    </tr>\n",
              "    <tr>\n",
              "      <td>1.000</td>\n",
              "      <td>0.009</td>\n",
              "      <td>4</td>\n",
              "      <td>True</td>\n",
              "      <td>00:02</td>\n",
              "    </tr>\n",
              "    <tr>\n",
              "      <td>0.923</td>\n",
              "      <td>0.231</td>\n",
              "      <td>4</td>\n",
              "      <td>False</td>\n",
              "      <td>00:00</td>\n",
              "    </tr>\n",
              "  </tbody>\n",
              "</table>"
            ]
          },
          "metadata": {}
        },
        {
          "output_type": "error",
          "ename": "RuntimeError",
          "evalue": "ignored",
          "traceback": [
            "\u001b[0;31m---------------------------------------------------------------------------\u001b[0m",
            "\u001b[0;31mRuntimeError\u001b[0m                              Traceback (most recent call last)",
            "\u001b[0;32m<ipython-input-45-becf0c2f203a>\u001b[0m in \u001b[0;36m<cell line: 3>\u001b[0;34m()\u001b[0m\n\u001b[1;32m      1\u001b[0m \u001b[0mcp1\u001b[0m \u001b[0;34m=\u001b[0m \u001b[0mCapturePreds\u001b[0m\u001b[0;34m(\u001b[0m\u001b[0;34m)\u001b[0m\u001b[0;34m\u001b[0m\u001b[0;34m\u001b[0m\u001b[0m\n\u001b[1;32m      2\u001b[0m \u001b[0mlearn1\u001b[0m \u001b[0;34m=\u001b[0m \u001b[0mTrainLearner\u001b[0m\u001b[0;34m(\u001b[0m\u001b[0mmodel\u001b[0m\u001b[0;34m,\u001b[0m \u001b[0mdls\u001b[0m\u001b[0;34m,\u001b[0m \u001b[0mlr\u001b[0m\u001b[0;34m=\u001b[0m\u001b[0;36m.03\u001b[0m\u001b[0;34m,\u001b[0m \u001b[0mloss_func\u001b[0m\u001b[0;34m=\u001b[0m\u001b[0mF\u001b[0m\u001b[0;34m.\u001b[0m\u001b[0mcross_entropy\u001b[0m\u001b[0;34m,\u001b[0m \u001b[0mcbs\u001b[0m\u001b[0;34m=\u001b[0m\u001b[0mcbs\u001b[0m\u001b[0;34m)\u001b[0m\u001b[0;34m\u001b[0m\u001b[0;34m\u001b[0m\u001b[0m\n\u001b[0;32m----> 3\u001b[0;31m \u001b[0mlearn1\u001b[0m\u001b[0;34m.\u001b[0m\u001b[0mfit\u001b[0m\u001b[0;34m(\u001b[0m\u001b[0;36m5\u001b[0m\u001b[0;34m,\u001b[0m \u001b[0mcbs\u001b[0m\u001b[0;34m=\u001b[0m\u001b[0mcp1\u001b[0m\u001b[0;34m)\u001b[0m\u001b[0;34m\u001b[0m\u001b[0;34m\u001b[0m\u001b[0m\n\u001b[0m",
            "\u001b[0;32m/content/drive/MyDrive/Colab Notebooks/miniai/learner.py\u001b[0m in \u001b[0;36mfit\u001b[0;34m(self, n_epochs, train, valid, cbs, lr)\u001b[0m\n\u001b[1;32m    177\u001b[0m             \u001b[0;32mif\u001b[0m \u001b[0mlr\u001b[0m \u001b[0;32mis\u001b[0m \u001b[0;32mNone\u001b[0m\u001b[0;34m:\u001b[0m \u001b[0mlr\u001b[0m \u001b[0;34m=\u001b[0m \u001b[0mself\u001b[0m\u001b[0;34m.\u001b[0m\u001b[0mlr\u001b[0m\u001b[0;34m\u001b[0m\u001b[0;34m\u001b[0m\u001b[0m\n\u001b[1;32m    178\u001b[0m             \u001b[0;32mif\u001b[0m \u001b[0mself\u001b[0m\u001b[0;34m.\u001b[0m\u001b[0mopt_func\u001b[0m\u001b[0;34m:\u001b[0m \u001b[0mself\u001b[0m\u001b[0;34m.\u001b[0m\u001b[0mopt\u001b[0m \u001b[0;34m=\u001b[0m \u001b[0mself\u001b[0m\u001b[0;34m.\u001b[0m\u001b[0mopt_func\u001b[0m\u001b[0;34m(\u001b[0m\u001b[0mself\u001b[0m\u001b[0;34m.\u001b[0m\u001b[0mmodel\u001b[0m\u001b[0;34m.\u001b[0m\u001b[0mparameters\u001b[0m\u001b[0;34m(\u001b[0m\u001b[0;34m)\u001b[0m\u001b[0;34m,\u001b[0m \u001b[0mlr\u001b[0m\u001b[0;34m)\u001b[0m\u001b[0;34m\u001b[0m\u001b[0;34m\u001b[0m\u001b[0m\n\u001b[0;32m--> 179\u001b[0;31m             \u001b[0mself\u001b[0m\u001b[0;34m.\u001b[0m\u001b[0m_fit\u001b[0m\u001b[0;34m(\u001b[0m\u001b[0mtrain\u001b[0m\u001b[0;34m,\u001b[0m \u001b[0mvalid\u001b[0m\u001b[0;34m)\u001b[0m\u001b[0;34m\u001b[0m\u001b[0;34m\u001b[0m\u001b[0m\n\u001b[0m\u001b[1;32m    180\u001b[0m         \u001b[0;32mfinally\u001b[0m\u001b[0;34m:\u001b[0m\u001b[0;34m\u001b[0m\u001b[0;34m\u001b[0m\u001b[0m\n\u001b[1;32m    181\u001b[0m             \u001b[0;32mfor\u001b[0m \u001b[0mcb\u001b[0m \u001b[0;32min\u001b[0m \u001b[0mcbs\u001b[0m\u001b[0;34m:\u001b[0m \u001b[0mself\u001b[0m\u001b[0;34m.\u001b[0m\u001b[0mcbs\u001b[0m\u001b[0;34m.\u001b[0m\u001b[0mremove\u001b[0m\u001b[0;34m(\u001b[0m\u001b[0mcb\u001b[0m\u001b[0;34m)\u001b[0m\u001b[0;34m\u001b[0m\u001b[0;34m\u001b[0m\u001b[0m\n",
            "\u001b[0;32m/content/drive/MyDrive/Colab Notebooks/miniai/learner.py\u001b[0m in \u001b[0;36m_f\u001b[0;34m(o, *args, **kwargs)\u001b[0m\n\u001b[1;32m    129\u001b[0m                 \u001b[0mo\u001b[0m\u001b[0;34m.\u001b[0m\u001b[0mcallback\u001b[0m\u001b[0;34m(\u001b[0m\u001b[0;34mf'before_{self.nm}'\u001b[0m\u001b[0;34m)\u001b[0m\u001b[0;34m\u001b[0m\u001b[0;34m\u001b[0m\u001b[0m\n\u001b[1;32m    130\u001b[0m                 \u001b[0mf\u001b[0m\u001b[0;34m(\u001b[0m\u001b[0mo\u001b[0m\u001b[0;34m,\u001b[0m \u001b[0;34m*\u001b[0m\u001b[0margs\u001b[0m\u001b[0;34m,\u001b[0m \u001b[0;34m**\u001b[0m\u001b[0mkwargs\u001b[0m\u001b[0;34m)\u001b[0m\u001b[0;34m\u001b[0m\u001b[0;34m\u001b[0m\u001b[0m\n\u001b[0;32m--> 131\u001b[0;31m                 \u001b[0mo\u001b[0m\u001b[0;34m.\u001b[0m\u001b[0mcallback\u001b[0m\u001b[0;34m(\u001b[0m\u001b[0;34mf'after_{self.nm}'\u001b[0m\u001b[0;34m)\u001b[0m\u001b[0;34m\u001b[0m\u001b[0;34m\u001b[0m\u001b[0m\n\u001b[0m\u001b[1;32m    132\u001b[0m             \u001b[0;32mexcept\u001b[0m \u001b[0mglobals\u001b[0m\u001b[0;34m(\u001b[0m\u001b[0;34m)\u001b[0m\u001b[0;34m[\u001b[0m\u001b[0;34mf'Cancel{self.nm.title()}Exception'\u001b[0m\u001b[0;34m]\u001b[0m\u001b[0;34m:\u001b[0m \u001b[0;32mpass\u001b[0m\u001b[0;34m\u001b[0m\u001b[0;34m\u001b[0m\u001b[0m\n\u001b[1;32m    133\u001b[0m             \u001b[0;32mfinally\u001b[0m\u001b[0;34m:\u001b[0m \u001b[0mo\u001b[0m\u001b[0;34m.\u001b[0m\u001b[0mcallback\u001b[0m\u001b[0;34m(\u001b[0m\u001b[0;34mf'cleanup_{self.nm}'\u001b[0m\u001b[0;34m)\u001b[0m\u001b[0;34m\u001b[0m\u001b[0;34m\u001b[0m\u001b[0m\n",
            "\u001b[0;32m/content/drive/MyDrive/Colab Notebooks/miniai/learner.py\u001b[0m in \u001b[0;36mcallback\u001b[0;34m(self, method_nm)\u001b[0m\n\u001b[1;32m    185\u001b[0m         \u001b[0;32mraise\u001b[0m \u001b[0mAttributeError\u001b[0m\u001b[0;34m(\u001b[0m\u001b[0mname\u001b[0m\u001b[0;34m)\u001b[0m\u001b[0;34m\u001b[0m\u001b[0;34m\u001b[0m\u001b[0m\n\u001b[1;32m    186\u001b[0m \u001b[0;34m\u001b[0m\u001b[0m\n\u001b[0;32m--> 187\u001b[0;31m     \u001b[0;32mdef\u001b[0m \u001b[0mcallback\u001b[0m\u001b[0;34m(\u001b[0m\u001b[0mself\u001b[0m\u001b[0;34m,\u001b[0m \u001b[0mmethod_nm\u001b[0m\u001b[0;34m)\u001b[0m\u001b[0;34m:\u001b[0m \u001b[0mrun_cbs\u001b[0m\u001b[0;34m(\u001b[0m\u001b[0mself\u001b[0m\u001b[0;34m.\u001b[0m\u001b[0mcbs\u001b[0m\u001b[0;34m,\u001b[0m \u001b[0mmethod_nm\u001b[0m\u001b[0;34m,\u001b[0m \u001b[0mself\u001b[0m\u001b[0;34m)\u001b[0m\u001b[0;34m\u001b[0m\u001b[0;34m\u001b[0m\u001b[0m\n\u001b[0m\u001b[1;32m    188\u001b[0m \u001b[0;34m\u001b[0m\u001b[0m\n\u001b[1;32m    189\u001b[0m     \u001b[0;34m@\u001b[0m\u001b[0mproperty\u001b[0m\u001b[0;34m\u001b[0m\u001b[0;34m\u001b[0m\u001b[0m\n",
            "\u001b[0;32m/content/drive/MyDrive/Colab Notebooks/miniai/learner.py\u001b[0m in \u001b[0;36mrun_cbs\u001b[0;34m(cbs, method_nm, learn)\u001b[0m\n\u001b[1;32m     33\u001b[0m     \u001b[0;32mfor\u001b[0m \u001b[0mcb\u001b[0m \u001b[0;32min\u001b[0m \u001b[0msorted\u001b[0m\u001b[0;34m(\u001b[0m\u001b[0mcbs\u001b[0m\u001b[0;34m,\u001b[0m \u001b[0mkey\u001b[0m\u001b[0;34m=\u001b[0m\u001b[0mattrgetter\u001b[0m\u001b[0;34m(\u001b[0m\u001b[0;34m'order'\u001b[0m\u001b[0;34m)\u001b[0m\u001b[0;34m)\u001b[0m\u001b[0;34m:\u001b[0m\u001b[0;34m\u001b[0m\u001b[0;34m\u001b[0m\u001b[0m\n\u001b[1;32m     34\u001b[0m         \u001b[0mmethod\u001b[0m \u001b[0;34m=\u001b[0m \u001b[0mgetattr\u001b[0m\u001b[0;34m(\u001b[0m\u001b[0mcb\u001b[0m\u001b[0;34m,\u001b[0m \u001b[0mmethod_nm\u001b[0m\u001b[0;34m,\u001b[0m \u001b[0;32mNone\u001b[0m\u001b[0;34m)\u001b[0m\u001b[0;34m\u001b[0m\u001b[0;34m\u001b[0m\u001b[0m\n\u001b[0;32m---> 35\u001b[0;31m         \u001b[0;32mif\u001b[0m \u001b[0mmethod\u001b[0m \u001b[0;32mis\u001b[0m \u001b[0;32mnot\u001b[0m \u001b[0;32mNone\u001b[0m\u001b[0;34m:\u001b[0m \u001b[0mmethod\u001b[0m\u001b[0;34m(\u001b[0m\u001b[0mlearn\u001b[0m\u001b[0;34m)\u001b[0m\u001b[0;34m\u001b[0m\u001b[0;34m\u001b[0m\u001b[0m\n\u001b[0m\u001b[1;32m     36\u001b[0m \u001b[0;34m\u001b[0m\u001b[0m\n\u001b[1;32m     37\u001b[0m \u001b[0;31m# %% ../nbs/09_learner.ipynb 22\u001b[0m\u001b[0;34m\u001b[0m\u001b[0;34m\u001b[0m\u001b[0m\n",
            "\u001b[0;32m<ipython-input-40-7d0ec92fe465>\u001b[0m in \u001b[0;36mafter_fit\u001b[0;34m(self, learn)\u001b[0m\n\u001b[1;32m      8\u001b[0m \u001b[0;34m\u001b[0m\u001b[0m\n\u001b[1;32m      9\u001b[0m     \u001b[0;32mdef\u001b[0m \u001b[0mafter_fit\u001b[0m\u001b[0;34m(\u001b[0m\u001b[0mself\u001b[0m\u001b[0;34m,\u001b[0m \u001b[0mlearn\u001b[0m\u001b[0;34m)\u001b[0m\u001b[0;34m:\u001b[0m\u001b[0;34m\u001b[0m\u001b[0;34m\u001b[0m\u001b[0m\n\u001b[0;32m---> 10\u001b[0;31m         \u001b[0mself\u001b[0m\u001b[0;34m.\u001b[0m\u001b[0mall_input\u001b[0m\u001b[0;34m,\u001b[0m \u001b[0mself\u001b[0m\u001b[0;34m.\u001b[0m\u001b[0mall_preds\u001b[0m\u001b[0;34m,\u001b[0m \u001b[0mself\u001b[0m\u001b[0;34m.\u001b[0m\u001b[0mall_targs\u001b[0m \u001b[0;34m=\u001b[0m \u001b[0mmap\u001b[0m\u001b[0;34m(\u001b[0m\u001b[0mtorch\u001b[0m\u001b[0;34m.\u001b[0m\u001b[0mcat\u001b[0m\u001b[0;34m,\u001b[0m \u001b[0;34m[\u001b[0m\u001b[0mself\u001b[0m\u001b[0;34m.\u001b[0m\u001b[0mall_input\u001b[0m\u001b[0;34m,\u001b[0m \u001b[0mself\u001b[0m\u001b[0;34m.\u001b[0m\u001b[0mall_preds\u001b[0m\u001b[0;34m,\u001b[0m \u001b[0mself\u001b[0m\u001b[0;34m.\u001b[0m\u001b[0mall_targs\u001b[0m\u001b[0;34m]\u001b[0m\u001b[0;34m)\u001b[0m\u001b[0;34m\u001b[0m\u001b[0;34m\u001b[0m\u001b[0m\n\u001b[0m",
            "\u001b[0;31mRuntimeError\u001b[0m: Tensors must have same number of dimensions: got 2 and 1"
          ]
        }
      ]
    },
    {
      "cell_type": "code",
      "source": [
        "cp2 = CapturePreds()\n",
        "learn2 = TrainLearner(model, dls, lr=.03, loss_func=F.cross_entropy, cbs=cbs)\n",
        "learn2.fit(5, cbs=cp2)"
      ],
      "metadata": {
        "id": "do0i0Mzpi3LG"
      },
      "execution_count": null,
      "outputs": []
    },
    {
      "cell_type": "markdown",
      "source": [
        "After training 5 epochs with 89% accuracy, the model got 66.7% accuracy."
      ],
      "metadata": {
        "id": "dPnk63cgtDwg"
      }
    },
    {
      "cell_type": "code",
      "source": [
        "learn.dls = DataLoaders(tst_dl, tst_dl)\n",
        "learn.fit(train=False)"
      ],
      "metadata": {
        "colab": {
          "base_uri": "https://localhost:8080/",
          "height": 81
        },
        "id": "ITS-QNRNdGuR",
        "outputId": "8028ca51-ad3f-4d1e-b2c1-7b73da6ad02e"
      },
      "execution_count": null,
      "outputs": [
        {
          "output_type": "display_data",
          "data": {
            "text/plain": [
              "<IPython.core.display.HTML object>"
            ],
            "text/html": [
              "\n",
              "<style>\n",
              "    /* Turns off some styling */\n",
              "    progress {\n",
              "        /* gets rid of default border in Firefox and Opera. */\n",
              "        border: none;\n",
              "        /* Needs to be in here for Safari polyfill so background images work as expected. */\n",
              "        background-size: auto;\n",
              "    }\n",
              "    progress:not([value]), progress:not([value])::-webkit-progress-bar {\n",
              "        background: repeating-linear-gradient(45deg, #7e7e7e, #7e7e7e 10px, #5c5c5c 10px, #5c5c5c 20px);\n",
              "    }\n",
              "    .progress-bar-interrupted, .progress-bar-interrupted::-webkit-progress-bar {\n",
              "        background: #F44336;\n",
              "    }\n",
              "</style>\n"
            ]
          },
          "metadata": {}
        },
        {
          "output_type": "display_data",
          "data": {
            "text/plain": [
              "<IPython.core.display.HTML object>"
            ],
            "text/html": [
              "<table border=\"1\" class=\"dataframe\">\n",
              "  <thead>\n",
              "    <tr style=\"text-align: left;\">\n",
              "      <th>accuracy</th>\n",
              "      <th>loss</th>\n",
              "      <th>epoch</th>\n",
              "      <th>train</th>\n",
              "      <th>time</th>\n",
              "    </tr>\n",
              "  </thead>\n",
              "  <tbody>\n",
              "    <tr>\n",
              "      <td>0.750</td>\n",
              "      <td>0.570</td>\n",
              "      <td>0</td>\n",
              "      <td>False</td>\n",
              "      <td>00:00</td>\n",
              "    </tr>\n",
              "  </tbody>\n",
              "</table>"
            ]
          },
          "metadata": {}
        }
      ]
    },
    {
      "cell_type": "code",
      "source": [
        "learn = TrainLearner(model, dls, lr=.1, loss_func=F.cross_entropy, cbs=cbs)\n",
        "learn.fit(5)"
      ],
      "metadata": {
        "colab": {
          "base_uri": "https://localhost:8080/",
          "height": 363
        },
        "id": "csXVY2WCE5nB",
        "outputId": "3fc9b941-76d0-41ac-ca7a-5c37d188a64f"
      },
      "execution_count": null,
      "outputs": [
        {
          "output_type": "display_data",
          "data": {
            "text/plain": [
              "<IPython.core.display.HTML object>"
            ],
            "text/html": [
              "\n",
              "<style>\n",
              "    /* Turns off some styling */\n",
              "    progress {\n",
              "        /* gets rid of default border in Firefox and Opera. */\n",
              "        border: none;\n",
              "        /* Needs to be in here for Safari polyfill so background images work as expected. */\n",
              "        background-size: auto;\n",
              "    }\n",
              "    progress:not([value]), progress:not([value])::-webkit-progress-bar {\n",
              "        background: repeating-linear-gradient(45deg, #7e7e7e, #7e7e7e 10px, #5c5c5c 10px, #5c5c5c 20px);\n",
              "    }\n",
              "    .progress-bar-interrupted, .progress-bar-interrupted::-webkit-progress-bar {\n",
              "        background: #F44336;\n",
              "    }\n",
              "</style>\n"
            ]
          },
          "metadata": {}
        },
        {
          "output_type": "display_data",
          "data": {
            "text/plain": [
              "<IPython.core.display.HTML object>"
            ],
            "text/html": [
              "<table border=\"1\" class=\"dataframe\">\n",
              "  <thead>\n",
              "    <tr style=\"text-align: left;\">\n",
              "      <th>accuracy</th>\n",
              "      <th>loss</th>\n",
              "      <th>epoch</th>\n",
              "      <th>train</th>\n",
              "      <th>time</th>\n",
              "    </tr>\n",
              "  </thead>\n",
              "  <tbody>\n",
              "    <tr>\n",
              "      <td>0.475</td>\n",
              "      <td>2.344</td>\n",
              "      <td>0</td>\n",
              "      <td>True</td>\n",
              "      <td>00:03</td>\n",
              "    </tr>\n",
              "    <tr>\n",
              "      <td>0.504</td>\n",
              "      <td>1.368</td>\n",
              "      <td>0</td>\n",
              "      <td>False</td>\n",
              "      <td>00:00</td>\n",
              "    </tr>\n",
              "    <tr>\n",
              "      <td>0.617</td>\n",
              "      <td>1.039</td>\n",
              "      <td>1</td>\n",
              "      <td>True</td>\n",
              "      <td>00:02</td>\n",
              "    </tr>\n",
              "    <tr>\n",
              "      <td>0.639</td>\n",
              "      <td>0.927</td>\n",
              "      <td>1</td>\n",
              "      <td>False</td>\n",
              "      <td>00:00</td>\n",
              "    </tr>\n",
              "    <tr>\n",
              "      <td>0.716</td>\n",
              "      <td>0.750</td>\n",
              "      <td>2</td>\n",
              "      <td>True</td>\n",
              "      <td>00:02</td>\n",
              "    </tr>\n",
              "    <tr>\n",
              "      <td>0.730</td>\n",
              "      <td>0.682</td>\n",
              "      <td>2</td>\n",
              "      <td>False</td>\n",
              "      <td>00:00</td>\n",
              "    </tr>\n",
              "    <tr>\n",
              "      <td>0.848</td>\n",
              "      <td>0.423</td>\n",
              "      <td>3</td>\n",
              "      <td>True</td>\n",
              "      <td>00:03</td>\n",
              "    </tr>\n",
              "    <tr>\n",
              "      <td>0.894</td>\n",
              "      <td>0.320</td>\n",
              "      <td>3</td>\n",
              "      <td>False</td>\n",
              "      <td>00:00</td>\n",
              "    </tr>\n",
              "    <tr>\n",
              "      <td>0.933</td>\n",
              "      <td>0.202</td>\n",
              "      <td>4</td>\n",
              "      <td>True</td>\n",
              "      <td>00:03</td>\n",
              "    </tr>\n",
              "    <tr>\n",
              "      <td>0.912</td>\n",
              "      <td>0.259</td>\n",
              "      <td>4</td>\n",
              "      <td>False</td>\n",
              "      <td>00:00</td>\n",
              "    </tr>\n",
              "  </tbody>\n",
              "</table>"
            ]
          },
          "metadata": {}
        }
      ]
    },
    {
      "cell_type": "markdown",
      "source": [
        "Improving the model with parameter initialization, lr_scheduler, and optimizer."
      ],
      "metadata": {
        "id": "V4wPO569tXBp"
      }
    },
    {
      "cell_type": "code",
      "source": [
        "def init_params(m, leaky=0.):\n",
        "    if isinstance(m, (nn.Linear, nn.Conv2d)): init.kaiming_normal_(m.weight, a=leaky)"
      ],
      "metadata": {
        "id": "4QR8cVEtrneA"
      },
      "execution_count": null,
      "outputs": []
    },
    {
      "cell_type": "code",
      "source": [
        "from torch.nn import init\n",
        "from functools import partial\n",
        "from torch.optim import lr_scheduler\n",
        "from torch import tensor,nn,optim"
      ],
      "metadata": {
        "id": "HN2aL3oy3uH7"
      },
      "execution_count": null,
      "outputs": []
    },
    {
      "cell_type": "code",
      "source": [
        "lr, epochs = 6e-3, 5\n",
        "# set_seed(42)\n",
        "model = nn.Sequential(*[\n",
        "    nn.Linear(9481, 100),\n",
        "    nn.ReLU(),\n",
        "    nn.Linear(100, 100),\n",
        "    nn.ReLU(),\n",
        "    nn.Linear(100, 6),\n",
        "]).apply(init_params)\n",
        "tmax = epochs * len(dls.train)\n",
        "sched = partial(lr_scheduler.OneCycleLR, max_lr=lr, total_steps=tmax)\n",
        "xtra = [BatchSchedCB(sched)]\n",
        "learn = TrainLearner(model, dls, F.cross_entropy, lr=lr, cbs=cbs+xtra, opt_func=optim.AdamW)\n",
        "learn.fit(epochs)"
      ],
      "metadata": {
        "colab": {
          "base_uri": "https://localhost:8080/",
          "height": 363
        },
        "id": "zVc1n7Uc3Ycv",
        "outputId": "adeb75e3-5b0f-490b-90ae-6180191f4329"
      },
      "execution_count": null,
      "outputs": [
        {
          "output_type": "display_data",
          "data": {
            "text/plain": [
              "<IPython.core.display.HTML object>"
            ],
            "text/html": [
              "\n",
              "<style>\n",
              "    /* Turns off some styling */\n",
              "    progress {\n",
              "        /* gets rid of default border in Firefox and Opera. */\n",
              "        border: none;\n",
              "        /* Needs to be in here for Safari polyfill so background images work as expected. */\n",
              "        background-size: auto;\n",
              "    }\n",
              "    progress:not([value]), progress:not([value])::-webkit-progress-bar {\n",
              "        background: repeating-linear-gradient(45deg, #7e7e7e, #7e7e7e 10px, #5c5c5c 10px, #5c5c5c 20px);\n",
              "    }\n",
              "    .progress-bar-interrupted, .progress-bar-interrupted::-webkit-progress-bar {\n",
              "        background: #F44336;\n",
              "    }\n",
              "</style>\n"
            ]
          },
          "metadata": {}
        },
        {
          "output_type": "display_data",
          "data": {
            "text/plain": [
              "<IPython.core.display.HTML object>"
            ],
            "text/html": [
              "<table border=\"1\" class=\"dataframe\">\n",
              "  <thead>\n",
              "    <tr style=\"text-align: left;\">\n",
              "      <th>accuracy</th>\n",
              "      <th>loss</th>\n",
              "      <th>epoch</th>\n",
              "      <th>train</th>\n",
              "      <th>time</th>\n",
              "    </tr>\n",
              "  </thead>\n",
              "  <tbody>\n",
              "    <tr>\n",
              "      <td>0.758</td>\n",
              "      <td>0.669</td>\n",
              "      <td>0</td>\n",
              "      <td>True</td>\n",
              "      <td>00:04</td>\n",
              "    </tr>\n",
              "    <tr>\n",
              "      <td>0.869</td>\n",
              "      <td>0.361</td>\n",
              "      <td>0</td>\n",
              "      <td>False</td>\n",
              "      <td>00:00</td>\n",
              "    </tr>\n",
              "    <tr>\n",
              "      <td>0.929</td>\n",
              "      <td>0.215</td>\n",
              "      <td>1</td>\n",
              "      <td>True</td>\n",
              "      <td>00:04</td>\n",
              "    </tr>\n",
              "    <tr>\n",
              "      <td>0.891</td>\n",
              "      <td>0.326</td>\n",
              "      <td>1</td>\n",
              "      <td>False</td>\n",
              "      <td>00:00</td>\n",
              "    </tr>\n",
              "    <tr>\n",
              "      <td>0.980</td>\n",
              "      <td>0.065</td>\n",
              "      <td>2</td>\n",
              "      <td>True</td>\n",
              "      <td>00:04</td>\n",
              "    </tr>\n",
              "    <tr>\n",
              "      <td>0.902</td>\n",
              "      <td>0.356</td>\n",
              "      <td>2</td>\n",
              "      <td>False</td>\n",
              "      <td>00:00</td>\n",
              "    </tr>\n",
              "    <tr>\n",
              "      <td>0.998</td>\n",
              "      <td>0.009</td>\n",
              "      <td>3</td>\n",
              "      <td>True</td>\n",
              "      <td>00:04</td>\n",
              "    </tr>\n",
              "    <tr>\n",
              "      <td>0.908</td>\n",
              "      <td>0.339</td>\n",
              "      <td>3</td>\n",
              "      <td>False</td>\n",
              "      <td>00:00</td>\n",
              "    </tr>\n",
              "    <tr>\n",
              "      <td>1.000</td>\n",
              "      <td>0.000</td>\n",
              "      <td>4</td>\n",
              "      <td>True</td>\n",
              "      <td>00:04</td>\n",
              "    </tr>\n",
              "    <tr>\n",
              "      <td>0.910</td>\n",
              "      <td>0.342</td>\n",
              "      <td>4</td>\n",
              "      <td>False</td>\n",
              "      <td>00:00</td>\n",
              "    </tr>\n",
              "  </tbody>\n",
              "</table>"
            ]
          },
          "metadata": {}
        }
      ]
    },
    {
      "cell_type": "code",
      "source": [
        "learn.dls = DataLoaders(tst_dl, tst_dl)\n",
        "learn.fit(train=False)"
      ],
      "metadata": {
        "colab": {
          "base_uri": "https://localhost:8080/",
          "height": 81
        },
        "id": "MPDRaHgMdtlE",
        "outputId": "803462fe-081c-478e-fde4-4e6619ec7160"
      },
      "execution_count": null,
      "outputs": [
        {
          "output_type": "display_data",
          "data": {
            "text/plain": [
              "<IPython.core.display.HTML object>"
            ],
            "text/html": [
              "\n",
              "<style>\n",
              "    /* Turns off some styling */\n",
              "    progress {\n",
              "        /* gets rid of default border in Firefox and Opera. */\n",
              "        border: none;\n",
              "        /* Needs to be in here for Safari polyfill so background images work as expected. */\n",
              "        background-size: auto;\n",
              "    }\n",
              "    progress:not([value]), progress:not([value])::-webkit-progress-bar {\n",
              "        background: repeating-linear-gradient(45deg, #7e7e7e, #7e7e7e 10px, #5c5c5c 10px, #5c5c5c 20px);\n",
              "    }\n",
              "    .progress-bar-interrupted, .progress-bar-interrupted::-webkit-progress-bar {\n",
              "        background: #F44336;\n",
              "    }\n",
              "</style>\n"
            ]
          },
          "metadata": {}
        },
        {
          "output_type": "display_data",
          "data": {
            "text/plain": [
              "<IPython.core.display.HTML object>"
            ],
            "text/html": [
              "<table border=\"1\" class=\"dataframe\">\n",
              "  <thead>\n",
              "    <tr style=\"text-align: left;\">\n",
              "      <th>accuracy</th>\n",
              "      <th>loss</th>\n",
              "      <th>epoch</th>\n",
              "      <th>train</th>\n",
              "      <th>time</th>\n",
              "    </tr>\n",
              "  </thead>\n",
              "  <tbody>\n",
              "    <tr>\n",
              "      <td>0.833</td>\n",
              "      <td>1.299</td>\n",
              "      <td>0</td>\n",
              "      <td>False</td>\n",
              "      <td>00:00</td>\n",
              "    </tr>\n",
              "  </tbody>\n",
              "</table>"
            ]
          },
          "metadata": {}
        }
      ]
    },
    {
      "cell_type": "markdown",
      "source": [
        "We train with a lower learning rate."
      ],
      "metadata": {
        "id": "Nv0HBk9eu0hW"
      }
    },
    {
      "cell_type": "code",
      "source": [
        "lr, epochs = 6e-4, 5\n",
        "# set_seed(42)\n",
        "model = nn.Sequential(*[\n",
        "    nn.Linear(9481, 100),\n",
        "    nn.ReLU(),\n",
        "    nn.Linear(100, 100),\n",
        "    nn.ReLU(),\n",
        "    nn.Linear(100, 6),\n",
        "]).apply(init_params)\n",
        "tmax = epochs * len(dls.train)\n",
        "sched = partial(lr_scheduler.OneCycleLR, max_lr=lr, total_steps=tmax)\n",
        "xtra = [BatchSchedCB(sched)]\n",
        "learn = TrainLearner(model, dls, F.cross_entropy, lr=lr, cbs=cbs+xtra, opt_func=optim.AdamW)\n",
        "learn.fit(epochs)"
      ],
      "metadata": {
        "colab": {
          "base_uri": "https://localhost:8080/",
          "height": 363
        },
        "id": "nb1eAlhw5uev",
        "outputId": "823fb223-8bbd-4d78-c271-2701ab716d22"
      },
      "execution_count": null,
      "outputs": [
        {
          "output_type": "display_data",
          "data": {
            "text/plain": [
              "<IPython.core.display.HTML object>"
            ],
            "text/html": [
              "\n",
              "<style>\n",
              "    /* Turns off some styling */\n",
              "    progress {\n",
              "        /* gets rid of default border in Firefox and Opera. */\n",
              "        border: none;\n",
              "        /* Needs to be in here for Safari polyfill so background images work as expected. */\n",
              "        background-size: auto;\n",
              "    }\n",
              "    progress:not([value]), progress:not([value])::-webkit-progress-bar {\n",
              "        background: repeating-linear-gradient(45deg, #7e7e7e, #7e7e7e 10px, #5c5c5c 10px, #5c5c5c 20px);\n",
              "    }\n",
              "    .progress-bar-interrupted, .progress-bar-interrupted::-webkit-progress-bar {\n",
              "        background: #F44336;\n",
              "    }\n",
              "</style>\n"
            ]
          },
          "metadata": {}
        },
        {
          "output_type": "display_data",
          "data": {
            "text/plain": [
              "<IPython.core.display.HTML object>"
            ],
            "text/html": [
              "<table border=\"1\" class=\"dataframe\">\n",
              "  <thead>\n",
              "    <tr style=\"text-align: left;\">\n",
              "      <th>accuracy</th>\n",
              "      <th>loss</th>\n",
              "      <th>epoch</th>\n",
              "      <th>train</th>\n",
              "      <th>time</th>\n",
              "    </tr>\n",
              "  </thead>\n",
              "  <tbody>\n",
              "    <tr>\n",
              "      <td>0.498</td>\n",
              "      <td>1.424</td>\n",
              "      <td>0</td>\n",
              "      <td>True</td>\n",
              "      <td>00:03</td>\n",
              "    </tr>\n",
              "    <tr>\n",
              "      <td>0.837</td>\n",
              "      <td>0.473</td>\n",
              "      <td>0</td>\n",
              "      <td>False</td>\n",
              "      <td>00:00</td>\n",
              "    </tr>\n",
              "    <tr>\n",
              "      <td>0.967</td>\n",
              "      <td>0.125</td>\n",
              "      <td>1</td>\n",
              "      <td>True</td>\n",
              "      <td>00:03</td>\n",
              "    </tr>\n",
              "    <tr>\n",
              "      <td>0.918</td>\n",
              "      <td>0.238</td>\n",
              "      <td>1</td>\n",
              "      <td>False</td>\n",
              "      <td>00:00</td>\n",
              "    </tr>\n",
              "    <tr>\n",
              "      <td>1.000</td>\n",
              "      <td>0.005</td>\n",
              "      <td>2</td>\n",
              "      <td>True</td>\n",
              "      <td>00:04</td>\n",
              "    </tr>\n",
              "    <tr>\n",
              "      <td>0.922</td>\n",
              "      <td>0.223</td>\n",
              "      <td>2</td>\n",
              "      <td>False</td>\n",
              "      <td>00:00</td>\n",
              "    </tr>\n",
              "    <tr>\n",
              "      <td>1.000</td>\n",
              "      <td>0.002</td>\n",
              "      <td>3</td>\n",
              "      <td>True</td>\n",
              "      <td>00:03</td>\n",
              "    </tr>\n",
              "    <tr>\n",
              "      <td>0.922</td>\n",
              "      <td>0.221</td>\n",
              "      <td>3</td>\n",
              "      <td>False</td>\n",
              "      <td>00:00</td>\n",
              "    </tr>\n",
              "    <tr>\n",
              "      <td>1.000</td>\n",
              "      <td>0.002</td>\n",
              "      <td>4</td>\n",
              "      <td>True</td>\n",
              "      <td>00:03</td>\n",
              "    </tr>\n",
              "    <tr>\n",
              "      <td>0.922</td>\n",
              "      <td>0.220</td>\n",
              "      <td>4</td>\n",
              "      <td>False</td>\n",
              "      <td>00:00</td>\n",
              "    </tr>\n",
              "  </tbody>\n",
              "</table>"
            ]
          },
          "metadata": {}
        }
      ]
    },
    {
      "cell_type": "code",
      "source": [
        "learn.dls = DataLoaders(tst_dl, tst_dl)\n",
        "learn.fit(train=False)"
      ],
      "metadata": {
        "colab": {
          "base_uri": "https://localhost:8080/",
          "height": 81
        },
        "id": "t6_vZRlldxWR",
        "outputId": "5e777ad1-954a-4da6-d99b-91c58ceff86a"
      },
      "execution_count": null,
      "outputs": [
        {
          "output_type": "display_data",
          "data": {
            "text/plain": [
              "<IPython.core.display.HTML object>"
            ],
            "text/html": [
              "\n",
              "<style>\n",
              "    /* Turns off some styling */\n",
              "    progress {\n",
              "        /* gets rid of default border in Firefox and Opera. */\n",
              "        border: none;\n",
              "        /* Needs to be in here for Safari polyfill so background images work as expected. */\n",
              "        background-size: auto;\n",
              "    }\n",
              "    progress:not([value]), progress:not([value])::-webkit-progress-bar {\n",
              "        background: repeating-linear-gradient(45deg, #7e7e7e, #7e7e7e 10px, #5c5c5c 10px, #5c5c5c 20px);\n",
              "    }\n",
              "    .progress-bar-interrupted, .progress-bar-interrupted::-webkit-progress-bar {\n",
              "        background: #F44336;\n",
              "    }\n",
              "</style>\n"
            ]
          },
          "metadata": {}
        },
        {
          "output_type": "display_data",
          "data": {
            "text/plain": [
              "<IPython.core.display.HTML object>"
            ],
            "text/html": [
              "<table border=\"1\" class=\"dataframe\">\n",
              "  <thead>\n",
              "    <tr style=\"text-align: left;\">\n",
              "      <th>accuracy</th>\n",
              "      <th>loss</th>\n",
              "      <th>epoch</th>\n",
              "      <th>train</th>\n",
              "      <th>time</th>\n",
              "    </tr>\n",
              "  </thead>\n",
              "  <tbody>\n",
              "    <tr>\n",
              "      <td>0.750</td>\n",
              "      <td>0.965</td>\n",
              "      <td>0</td>\n",
              "      <td>False</td>\n",
              "      <td>00:00</td>\n",
              "    </tr>\n",
              "  </tbody>\n",
              "</table>"
            ]
          },
          "metadata": {}
        }
      ]
    },
    {
      "cell_type": "markdown",
      "source": [
        "Although the accuracy is very similar, training with lower learning performed much better on the batch data."
      ],
      "metadata": {
        "id": "Ey04TN9qupBX"
      }
    },
    {
      "cell_type": "markdown",
      "source": [
        "## Dropout"
      ],
      "metadata": {
        "id": "2ieZdV027SFk"
      }
    },
    {
      "cell_type": "code",
      "source": [
        "lr, epochs = 1e-3, 5\n",
        "# set_seed(42)\n",
        "model = nn.Sequential(*[\n",
        "    nn.Linear(9481, 100),\n",
        "    nn.ReLU(),\n",
        "    nn.Dropout(),\n",
        "    nn.Linear(100, 100),\n",
        "    nn.ReLU(),\n",
        "    nn.Dropout(),\n",
        "    nn.Linear(100, 6),\n",
        "]).apply(init_params)\n",
        "tmax = epochs * len(dls.train)\n",
        "sched = partial(lr_scheduler.OneCycleLR, max_lr=lr, total_steps=tmax)\n",
        "xtra = [BatchSchedCB(sched)]\n",
        "learn1 = TrainLearner(model, dls, F.cross_entropy, lr=lr, cbs=cbs+xtra, opt_func=optim.AdamW)\n",
        "learn1.fit(epochs)"
      ],
      "metadata": {
        "colab": {
          "base_uri": "https://localhost:8080/",
          "height": 363
        },
        "id": "KMej6glH3PIm",
        "outputId": "3ed959c0-bfb2-48c8-d5b7-fd1f3701c3e0"
      },
      "execution_count": null,
      "outputs": [
        {
          "output_type": "display_data",
          "data": {
            "text/plain": [
              "<IPython.core.display.HTML object>"
            ],
            "text/html": [
              "\n",
              "<style>\n",
              "    /* Turns off some styling */\n",
              "    progress {\n",
              "        /* gets rid of default border in Firefox and Opera. */\n",
              "        border: none;\n",
              "        /* Needs to be in here for Safari polyfill so background images work as expected. */\n",
              "        background-size: auto;\n",
              "    }\n",
              "    progress:not([value]), progress:not([value])::-webkit-progress-bar {\n",
              "        background: repeating-linear-gradient(45deg, #7e7e7e, #7e7e7e 10px, #5c5c5c 10px, #5c5c5c 20px);\n",
              "    }\n",
              "    .progress-bar-interrupted, .progress-bar-interrupted::-webkit-progress-bar {\n",
              "        background: #F44336;\n",
              "    }\n",
              "</style>\n"
            ]
          },
          "metadata": {}
        },
        {
          "output_type": "display_data",
          "data": {
            "text/plain": [
              "<IPython.core.display.HTML object>"
            ],
            "text/html": [
              "<table border=\"1\" class=\"dataframe\">\n",
              "  <thead>\n",
              "    <tr style=\"text-align: left;\">\n",
              "      <th>accuracy</th>\n",
              "      <th>loss</th>\n",
              "      <th>epoch</th>\n",
              "      <th>train</th>\n",
              "      <th>time</th>\n",
              "    </tr>\n",
              "  </thead>\n",
              "  <tbody>\n",
              "    <tr>\n",
              "      <td>0.309</td>\n",
              "      <td>2.648</td>\n",
              "      <td>0</td>\n",
              "      <td>True</td>\n",
              "      <td>00:04</td>\n",
              "    </tr>\n",
              "    <tr>\n",
              "      <td>0.757</td>\n",
              "      <td>0.762</td>\n",
              "      <td>0</td>\n",
              "      <td>False</td>\n",
              "      <td>00:00</td>\n",
              "    </tr>\n",
              "    <tr>\n",
              "      <td>0.689</td>\n",
              "      <td>0.841</td>\n",
              "      <td>1</td>\n",
              "      <td>True</td>\n",
              "      <td>00:04</td>\n",
              "    </tr>\n",
              "    <tr>\n",
              "      <td>0.919</td>\n",
              "      <td>0.287</td>\n",
              "      <td>1</td>\n",
              "      <td>False</td>\n",
              "      <td>00:00</td>\n",
              "    </tr>\n",
              "    <tr>\n",
              "      <td>0.858</td>\n",
              "      <td>0.397</td>\n",
              "      <td>2</td>\n",
              "      <td>True</td>\n",
              "      <td>00:03</td>\n",
              "    </tr>\n",
              "    <tr>\n",
              "      <td>0.943</td>\n",
              "      <td>0.192</td>\n",
              "      <td>2</td>\n",
              "      <td>False</td>\n",
              "      <td>00:00</td>\n",
              "    </tr>\n",
              "    <tr>\n",
              "      <td>0.903</td>\n",
              "      <td>0.264</td>\n",
              "      <td>3</td>\n",
              "      <td>True</td>\n",
              "      <td>00:03</td>\n",
              "    </tr>\n",
              "    <tr>\n",
              "      <td>0.947</td>\n",
              "      <td>0.170</td>\n",
              "      <td>3</td>\n",
              "      <td>False</td>\n",
              "      <td>00:00</td>\n",
              "    </tr>\n",
              "    <tr>\n",
              "      <td>0.926</td>\n",
              "      <td>0.203</td>\n",
              "      <td>4</td>\n",
              "      <td>True</td>\n",
              "      <td>00:04</td>\n",
              "    </tr>\n",
              "    <tr>\n",
              "      <td>0.945</td>\n",
              "      <td>0.167</td>\n",
              "      <td>4</td>\n",
              "      <td>False</td>\n",
              "      <td>00:00</td>\n",
              "    </tr>\n",
              "  </tbody>\n",
              "</table>"
            ]
          },
          "metadata": {}
        }
      ]
    },
    {
      "cell_type": "code",
      "source": [
        "learn.dls = DataLoaders(tst_dl, tst_dl)\n",
        "learn.fit(train=False)"
      ],
      "metadata": {
        "colab": {
          "base_uri": "https://localhost:8080/",
          "height": 81
        },
        "id": "_nTQXje1d1UF",
        "outputId": "588c08ea-9265-4b20-8bc5-6963dc3bfd99"
      },
      "execution_count": null,
      "outputs": [
        {
          "output_type": "display_data",
          "data": {
            "text/plain": [
              "<IPython.core.display.HTML object>"
            ],
            "text/html": [
              "\n",
              "<style>\n",
              "    /* Turns off some styling */\n",
              "    progress {\n",
              "        /* gets rid of default border in Firefox and Opera. */\n",
              "        border: none;\n",
              "        /* Needs to be in here for Safari polyfill so background images work as expected. */\n",
              "        background-size: auto;\n",
              "    }\n",
              "    progress:not([value]), progress:not([value])::-webkit-progress-bar {\n",
              "        background: repeating-linear-gradient(45deg, #7e7e7e, #7e7e7e 10px, #5c5c5c 10px, #5c5c5c 20px);\n",
              "    }\n",
              "    .progress-bar-interrupted, .progress-bar-interrupted::-webkit-progress-bar {\n",
              "        background: #F44336;\n",
              "    }\n",
              "</style>\n"
            ]
          },
          "metadata": {}
        },
        {
          "output_type": "display_data",
          "data": {
            "text/plain": [
              "<IPython.core.display.HTML object>"
            ],
            "text/html": [
              "<table border=\"1\" class=\"dataframe\">\n",
              "  <thead>\n",
              "    <tr style=\"text-align: left;\">\n",
              "      <th>accuracy</th>\n",
              "      <th>loss</th>\n",
              "      <th>epoch</th>\n",
              "      <th>train</th>\n",
              "      <th>time</th>\n",
              "    </tr>\n",
              "  </thead>\n",
              "  <tbody>\n",
              "    <tr>\n",
              "      <td>0.750</td>\n",
              "      <td>0.965</td>\n",
              "      <td>0</td>\n",
              "      <td>False</td>\n",
              "      <td>00:00</td>\n",
              "    </tr>\n",
              "  </tbody>\n",
              "</table>"
            ]
          },
          "metadata": {}
        }
      ]
    },
    {
      "cell_type": "markdown",
      "source": [
        "## Trying longer epochs\n"
      ],
      "metadata": {
        "id": "1Ta4wyhF7M4a"
      }
    },
    {
      "cell_type": "code",
      "source": [
        "lr, epochs = 6e-4, 10\n",
        "# set_seed(42)\n",
        "model = nn.Sequential(*[\n",
        "    nn.Linear(9481, 100),\n",
        "    nn.ReLU(),\n",
        "    nn.Dropout(),\n",
        "    nn.Linear(100, 100),\n",
        "    nn.ReLU(),\n",
        "    nn.Dropout(),\n",
        "    nn.Linear(100, 6),\n",
        "]).apply(init_params)\n",
        "tmax = epochs * len(dls.train)\n",
        "sched = partial(lr_scheduler.OneCycleLR, max_lr=lr, total_steps=tmax)\n",
        "xtra = [BatchSchedCB(sched)]\n",
        "learn = TrainLearner(model, dls, F.cross_entropy, lr=lr, cbs=cbs+xtra, opt_func=optim.AdamW)\n",
        "learn.fit(epochs)"
      ],
      "metadata": {
        "colab": {
          "base_uri": "https://localhost:8080/",
          "height": 676
        },
        "id": "4ldlAQ3j6PEH",
        "outputId": "11606e12-7abd-4adf-9d7f-81f6a636d0ce"
      },
      "execution_count": null,
      "outputs": [
        {
          "output_type": "display_data",
          "data": {
            "text/plain": [
              "<IPython.core.display.HTML object>"
            ],
            "text/html": [
              "\n",
              "<style>\n",
              "    /* Turns off some styling */\n",
              "    progress {\n",
              "        /* gets rid of default border in Firefox and Opera. */\n",
              "        border: none;\n",
              "        /* Needs to be in here for Safari polyfill so background images work as expected. */\n",
              "        background-size: auto;\n",
              "    }\n",
              "    progress:not([value]), progress:not([value])::-webkit-progress-bar {\n",
              "        background: repeating-linear-gradient(45deg, #7e7e7e, #7e7e7e 10px, #5c5c5c 10px, #5c5c5c 20px);\n",
              "    }\n",
              "    .progress-bar-interrupted, .progress-bar-interrupted::-webkit-progress-bar {\n",
              "        background: #F44336;\n",
              "    }\n",
              "</style>\n"
            ]
          },
          "metadata": {}
        },
        {
          "output_type": "display_data",
          "data": {
            "text/plain": [
              "<IPython.core.display.HTML object>"
            ],
            "text/html": [
              "<table border=\"1\" class=\"dataframe\">\n",
              "  <thead>\n",
              "    <tr style=\"text-align: left;\">\n",
              "      <th>accuracy</th>\n",
              "      <th>loss</th>\n",
              "      <th>epoch</th>\n",
              "      <th>train</th>\n",
              "      <th>time</th>\n",
              "    </tr>\n",
              "  </thead>\n",
              "  <tbody>\n",
              "    <tr>\n",
              "      <td>0.213</td>\n",
              "      <td>3.513</td>\n",
              "      <td>0</td>\n",
              "      <td>True</td>\n",
              "      <td>00:03</td>\n",
              "    </tr>\n",
              "    <tr>\n",
              "      <td>0.453</td>\n",
              "      <td>1.387</td>\n",
              "      <td>0</td>\n",
              "      <td>False</td>\n",
              "      <td>00:00</td>\n",
              "    </tr>\n",
              "    <tr>\n",
              "      <td>0.434</td>\n",
              "      <td>1.791</td>\n",
              "      <td>1</td>\n",
              "      <td>True</td>\n",
              "      <td>00:04</td>\n",
              "    </tr>\n",
              "    <tr>\n",
              "      <td>0.776</td>\n",
              "      <td>0.694</td>\n",
              "      <td>1</td>\n",
              "      <td>False</td>\n",
              "      <td>00:00</td>\n",
              "    </tr>\n",
              "    <tr>\n",
              "      <td>0.688</td>\n",
              "      <td>0.840</td>\n",
              "      <td>2</td>\n",
              "      <td>True</td>\n",
              "      <td>00:04</td>\n",
              "    </tr>\n",
              "    <tr>\n",
              "      <td>0.896</td>\n",
              "      <td>0.360</td>\n",
              "      <td>2</td>\n",
              "      <td>False</td>\n",
              "      <td>00:00</td>\n",
              "    </tr>\n",
              "    <tr>\n",
              "      <td>0.822</td>\n",
              "      <td>0.473</td>\n",
              "      <td>3</td>\n",
              "      <td>True</td>\n",
              "      <td>00:04</td>\n",
              "    </tr>\n",
              "    <tr>\n",
              "      <td>0.924</td>\n",
              "      <td>0.235</td>\n",
              "      <td>3</td>\n",
              "      <td>False</td>\n",
              "      <td>00:00</td>\n",
              "    </tr>\n",
              "    <tr>\n",
              "      <td>0.895</td>\n",
              "      <td>0.294</td>\n",
              "      <td>4</td>\n",
              "      <td>True</td>\n",
              "      <td>00:03</td>\n",
              "    </tr>\n",
              "    <tr>\n",
              "      <td>0.942</td>\n",
              "      <td>0.183</td>\n",
              "      <td>4</td>\n",
              "      <td>False</td>\n",
              "      <td>00:00</td>\n",
              "    </tr>\n",
              "    <tr>\n",
              "      <td>0.920</td>\n",
              "      <td>0.215</td>\n",
              "      <td>5</td>\n",
              "      <td>True</td>\n",
              "      <td>00:03</td>\n",
              "    </tr>\n",
              "    <tr>\n",
              "      <td>0.942</td>\n",
              "      <td>0.171</td>\n",
              "      <td>5</td>\n",
              "      <td>False</td>\n",
              "      <td>00:00</td>\n",
              "    </tr>\n",
              "    <tr>\n",
              "      <td>0.944</td>\n",
              "      <td>0.162</td>\n",
              "      <td>6</td>\n",
              "      <td>True</td>\n",
              "      <td>00:04</td>\n",
              "    </tr>\n",
              "    <tr>\n",
              "      <td>0.947</td>\n",
              "      <td>0.155</td>\n",
              "      <td>6</td>\n",
              "      <td>False</td>\n",
              "      <td>00:00</td>\n",
              "    </tr>\n",
              "    <tr>\n",
              "      <td>0.952</td>\n",
              "      <td>0.139</td>\n",
              "      <td>7</td>\n",
              "      <td>True</td>\n",
              "      <td>00:03</td>\n",
              "    </tr>\n",
              "    <tr>\n",
              "      <td>0.948</td>\n",
              "      <td>0.149</td>\n",
              "      <td>7</td>\n",
              "      <td>False</td>\n",
              "      <td>00:00</td>\n",
              "    </tr>\n",
              "    <tr>\n",
              "      <td>0.962</td>\n",
              "      <td>0.113</td>\n",
              "      <td>8</td>\n",
              "      <td>True</td>\n",
              "      <td>00:03</td>\n",
              "    </tr>\n",
              "    <tr>\n",
              "      <td>0.950</td>\n",
              "      <td>0.145</td>\n",
              "      <td>8</td>\n",
              "      <td>False</td>\n",
              "      <td>00:00</td>\n",
              "    </tr>\n",
              "    <tr>\n",
              "      <td>0.964</td>\n",
              "      <td>0.108</td>\n",
              "      <td>9</td>\n",
              "      <td>True</td>\n",
              "      <td>00:04</td>\n",
              "    </tr>\n",
              "    <tr>\n",
              "      <td>0.950</td>\n",
              "      <td>0.145</td>\n",
              "      <td>9</td>\n",
              "      <td>False</td>\n",
              "      <td>00:00</td>\n",
              "    </tr>\n",
              "  </tbody>\n",
              "</table>"
            ]
          },
          "metadata": {}
        }
      ]
    },
    {
      "cell_type": "code",
      "source": [
        "learn.dls = DataLoaders(tst_dl, tst_dl)\n",
        "learn.fit(train=False)"
      ],
      "metadata": {
        "colab": {
          "base_uri": "https://localhost:8080/",
          "height": 81
        },
        "id": "sQzdkj7rd2v4",
        "outputId": "8429e3df-954f-49fa-d8fa-b4e065cfc7f5"
      },
      "execution_count": null,
      "outputs": [
        {
          "output_type": "display_data",
          "data": {
            "text/plain": [
              "<IPython.core.display.HTML object>"
            ],
            "text/html": [
              "\n",
              "<style>\n",
              "    /* Turns off some styling */\n",
              "    progress {\n",
              "        /* gets rid of default border in Firefox and Opera. */\n",
              "        border: none;\n",
              "        /* Needs to be in here for Safari polyfill so background images work as expected. */\n",
              "        background-size: auto;\n",
              "    }\n",
              "    progress:not([value]), progress:not([value])::-webkit-progress-bar {\n",
              "        background: repeating-linear-gradient(45deg, #7e7e7e, #7e7e7e 10px, #5c5c5c 10px, #5c5c5c 20px);\n",
              "    }\n",
              "    .progress-bar-interrupted, .progress-bar-interrupted::-webkit-progress-bar {\n",
              "        background: #F44336;\n",
              "    }\n",
              "</style>\n"
            ]
          },
          "metadata": {}
        },
        {
          "output_type": "display_data",
          "data": {
            "text/plain": [
              "<IPython.core.display.HTML object>"
            ],
            "text/html": [
              "<table border=\"1\" class=\"dataframe\">\n",
              "  <thead>\n",
              "    <tr style=\"text-align: left;\">\n",
              "      <th>accuracy</th>\n",
              "      <th>loss</th>\n",
              "      <th>epoch</th>\n",
              "      <th>train</th>\n",
              "      <th>time</th>\n",
              "    </tr>\n",
              "  </thead>\n",
              "  <tbody>\n",
              "    <tr>\n",
              "      <td>0.917</td>\n",
              "      <td>0.419</td>\n",
              "      <td>0</td>\n",
              "      <td>False</td>\n",
              "      <td>00:00</td>\n",
              "    </tr>\n",
              "  </tbody>\n",
              "</table>"
            ]
          },
          "metadata": {}
        }
      ]
    },
    {
      "cell_type": "markdown",
      "source": [
        "## Conclusion"
      ],
      "metadata": {
        "id": "X3rFYaB0vPI0"
      }
    },
    {
      "cell_type": "markdown",
      "source": [
        "Unfortunately, deeper network did not perform better on bulk data than shallower network even if they did better on scRNA-seq data. Maybe because the training data is too noisy with random numbers."
      ],
      "metadata": {
        "id": "mHK4zAipd6Ka"
      }
    }
  ]
}